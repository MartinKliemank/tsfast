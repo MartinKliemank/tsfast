{
 "cells": [
  {
   "cell_type": "code",
   "execution_count": null,
   "metadata": {},
   "outputs": [],
   "source": [
    "# default_exp model\n",
    "# default_cls_lvl 3"
   ]
  },
  {
   "cell_type": "code",
   "execution_count": null,
   "metadata": {},
   "outputs": [],
   "source": [
    "#hide\n",
    "%load_ext line_profiler"
   ]
  },
  {
   "cell_type": "markdown",
   "metadata": {},
   "source": [
    "# Models\n",
    "> Pytorch Models for Sequential Data"
   ]
  },
  {
   "cell_type": "code",
   "execution_count": null,
   "metadata": {},
   "outputs": [],
   "source": [
    "#export\n",
    "from seqdata.core import *\n",
    "from fastai2.basics import *\n",
    "from fastai2.callback.progress import *\n",
    "from fastai2.text.models.qrnn import *"
   ]
  },
  {
   "cell_type": "code",
   "execution_count": null,
   "metadata": {},
   "outputs": [],
   "source": [
    "seq = DataBlock(blocks=(SequenceBlock.from_hdf(['current','voltage'],TensorSequencesInput,clm_shift=[0,-1]),\n",
    "                        SequenceBlock.from_hdf(['voltage'],TensorSequencesOutput,clm_shift=[-1])),\n",
    "                 get_items=CreateDict([DfHDFCreateWindows(win_sz=1000+1,stp_sz=1000,clm='current')]),\n",
    "                 splitter=ApplyToDict(ParentSplitter()))\n",
    "db = seq.dataloaders(get_hdf_files('test_data/'))"
   ]
  },
  {
   "cell_type": "markdown",
   "metadata": {},
   "source": [
    "## Linear"
   ]
  },
  {
   "cell_type": "code",
   "execution_count": null,
   "metadata": {},
   "outputs": [],
   "source": [
    "#export\n",
    "class SeqLinear(nn.Module):\n",
    "    \n",
    "    def __init__(self,input_size,output_size,hidden_size=100,hidden_layer=1,act=Mish):\n",
    "        super().__init__()\n",
    "        def conv_act(inp,out): return nn.Sequential(nn.Conv1d(inp,out,1),act())\n",
    "        \n",
    "        if hidden_layer < 1:\n",
    "            self.lin = nn.Conv1d(input_size,output_size,1)\n",
    "        else:\n",
    "            self.lin = nn.Sequential(conv_act(input_size,hidden_size),\n",
    "                                     *[conv_act(hidden_size,hidden_size) for _ in range(hidden_layer-1)],\n",
    "                                    nn.Conv1d(hidden_size,output_size,1))\n",
    "            \n",
    "    def forward(self, x):\n",
    "        out = x.transpose(1,2)\n",
    "        out = self.lin(out)\n",
    "        return out.transpose(1,2)"
   ]
  },
  {
   "cell_type": "markdown",
   "metadata": {},
   "source": [
    "## RNNs"
   ]
  },
  {
   "cell_type": "code",
   "execution_count": null,
   "metadata": {},
   "outputs": [],
   "source": [
    "#export\n",
    "from fastai2.text.models.awdlstm import *\n",
    "class RNN(nn.Module):\n",
    "    \"inspired by https://arxiv.org/abs/1708.02182\"\n",
    "\n",
    "    def __init__(self, input_size,hidden_size, num_layers, \n",
    "                 hidden_p=0.0, input_p=0.0, weight_p=0.0,\n",
    "                 rnn_type='gru',ret_full_hidden=False,stateful=False,**kwargs):\n",
    "        super().__init__()\n",
    "        store_attr(self, 'ret_full_hidden,num_layers,rnn_type,hidden_size,stateful')\n",
    "        self.bs = 1\n",
    "        self.rnns = nn.ModuleList([self._one_rnn(input_size if l == 0 else hidden_size,\n",
    "                                                 hidden_size,weight_p,rnn_type,**kwargs) for l in range(num_layers)])\n",
    "        self.input_dp = RNNDropout(input_p)\n",
    "        self.hidden_dps = nn.ModuleList([RNNDropout(hidden_p) for l in range(num_layers)])\n",
    "        self.reset()\n",
    "\n",
    "    def forward(self, inp, h_init=None):\n",
    "        bs = inp.shape[0]\n",
    "        if bs!=self.bs: self._change_hidden(bs)\n",
    "\n",
    "        if h_init is None and self.stateful: h_init = self._get_hidden()\n",
    "                \n",
    "        output = self.input_dp(inp)\n",
    "        full_hid,new_hidden = [],[]\n",
    "        for l, (rnn,hid_dp) in enumerate(zip(self.rnns, self.hidden_dps)):\n",
    "            output, h = rnn(output,h_init[l] if h_init is not None else None)\n",
    "            if l != self.num_layers - 1: output = hid_dp(output)\n",
    "            full_hid.append(output)\n",
    "            new_hidden.append(h)\n",
    "        \n",
    "        self.hidden =  to_detach(new_hidden, cpu=False, gather=False)\n",
    "        if self.rnn_type != 'lstm': self.hidden = [tuple([h]) for h in self.hidden]\n",
    "            \n",
    "        return output, output if self.ret_full_hidden else new_hidden\n",
    "\n",
    "    def _get_hidden(self):\n",
    "        '''retrieve internal hidden state, check if model device has changed'''\n",
    "        slf_device = one_param(self).device\n",
    "        if self.hidden[0][0].device != slf_device:\n",
    "#             import pdb; pdb.set_trace()\n",
    "            self.hidden = [tuple([to_device(t,slf_device) for t in h]) \n",
    "                            for h in self.hidden]\n",
    "                \n",
    "        if self.rnn_type == 'lstm': \n",
    "            return self.hidden\n",
    "        else:\n",
    "            return [h[0] for h in self.hidden]\n",
    "    \n",
    "    def _one_rnn(self, n_in, n_out, weight_p, rnn_type,**kwargs):\n",
    "        \"Return one of the inner rnn\"\n",
    "        if rnn_type == 'gru':\n",
    "            rnn = nn.GRU(n_in, n_out,1,batch_first=True,**kwargs)\n",
    "            rnn = WeightDropout(rnn,weight_p)\n",
    "        elif rnn_type == 'lstm':\n",
    "            rnn = nn.LSTM(n_in, n_out,1,batch_first=True,**kwargs)\n",
    "            rnn = WeightDropout(rnn,weight_p)\n",
    "        elif rnn_type == 'qrnn':\n",
    "            rnn = QRNNLayer(n_in, n_out,batch_first=True,**kwargs)\n",
    "            rnn.linear = WeightDropout(rnn.linear,weight_p,layer_names='weight')\n",
    "        else:\n",
    "            raise Exception\n",
    "        return rnn\n",
    "    \n",
    "    def _change_hidden(self, bs):\n",
    "        '''change hiddenstate if batchsize has changed'''\n",
    "        self.hidden = [self._change_one_hidden(l, bs) for l in range(self.num_layers)]\n",
    "        self.bs = bs\n",
    "    def _change_one_hidden(self, l, bs):\n",
    "        if self.bs < bs:\n",
    "            return tuple(torch.cat([h, h.new_zeros(1, bs-self.bs, self.hidden_size)],\n",
    "                                   dim=1) for h in self.hidden[l])\n",
    "        if self.bs > bs: \n",
    "            return tuple([h[:,:bs] for h in self.hidden[l]])\n",
    "        return self.hidden[l]\n",
    "    \n",
    "    def reset(self):\n",
    "        \"Reset the hidden states\"\n",
    "        [r.reset() for r in self.rnns if hasattr(r, 'reset')]\n",
    "        self.hidden = [self._one_hidden(l) for l in range(self.num_layers)]\n",
    "    def _one_hidden(self, l):\n",
    "        \"Return one hidden state\"\n",
    "        hid = one_param(self).new_zeros(1, self.bs, self.hidden_size)\n",
    "        if self.rnn_type == 'lstm':\n",
    "            return tuple([hid,hid.clone()])\n",
    "        else:\n",
    "            return tuple([hid])\n"
   ]
  },
  {
   "cell_type": "code",
   "execution_count": null,
   "metadata": {},
   "outputs": [],
   "source": [
    "#export\n",
    "class SimpleRNN(nn.Module):\n",
    "    \n",
    "    @delegates(RNN, keep=True)\n",
    "    def __init__(self,input_size,output_size,num_layers=1,hidden_size=100,lrn_init_state=False,**kwargs):\n",
    "        super().__init__()\n",
    "        self.rnn = RNN(input_size=input_size,hidden_size=hidden_size,num_layers=num_layers,**kwargs)\n",
    "        self.final = nn.Conv1d(hidden_size,output_size,kernel_size=1)\n",
    "        \n",
    "        self.init_p = nn.Parameter(torch.ones(size=(num_layers,hidden_size))) if lrn_init_state else None\n",
    "        \n",
    "    def forward(self, x):\n",
    "        if self.init_p is None:\n",
    "            out,_ = self.rnn(x)\n",
    "        else:\n",
    "            out,_ = self.rnn(x,self.init_p.expand((x.shape[0],-1,-1)).transpose(0,1).contiguous())\n",
    "#         import pdb; pdb.set_trace()\n",
    "        out = out.transpose(1,2)\n",
    "        out = self.final(out)\n",
    "        out = out.transpose(1,2)\n",
    "        return out\n",
    "    def reset(self):\n",
    "        self.rnn.reset()"
   ]
  },
  {
   "cell_type": "code",
   "execution_count": null,
   "metadata": {},
   "outputs": [
    {
     "data": {
      "text/html": [
       "<table border=\"1\" class=\"dataframe\">\n",
       "  <thead>\n",
       "    <tr style=\"text-align: left;\">\n",
       "      <th>epoch</th>\n",
       "      <th>train_loss</th>\n",
       "      <th>valid_loss</th>\n",
       "      <th>time</th>\n",
       "    </tr>\n",
       "  </thead>\n",
       "  <tbody>\n",
       "    <tr>\n",
       "      <td>0</td>\n",
       "      <td>11.407500</td>\n",
       "      <td>7.966294</td>\n",
       "      <td>00:02</td>\n",
       "    </tr>\n",
       "    <tr>\n",
       "      <td>1</td>\n",
       "      <td>7.444920</td>\n",
       "      <td>0.251261</td>\n",
       "      <td>00:02</td>\n",
       "    </tr>\n",
       "    <tr>\n",
       "      <td>2</td>\n",
       "      <td>4.880624</td>\n",
       "      <td>1.397314</td>\n",
       "      <td>00:02</td>\n",
       "    </tr>\n",
       "    <tr>\n",
       "      <td>3</td>\n",
       "      <td>3.522378</td>\n",
       "      <td>0.067033</td>\n",
       "      <td>00:02</td>\n",
       "    </tr>\n",
       "    <tr>\n",
       "      <td>4</td>\n",
       "      <td>2.648278</td>\n",
       "      <td>0.181598</td>\n",
       "      <td>00:02</td>\n",
       "    </tr>\n",
       "  </tbody>\n",
       "</table>"
      ],
      "text/plain": [
       "<IPython.core.display.HTML object>"
      ]
     },
     "metadata": {},
     "output_type": "display_data"
    }
   ],
   "source": [
    "model = SimpleRNN(2,1,3,stateful=True)\n",
    "lrn = Learner(db,model,loss_func=nn.MSELoss()).fit(1)"
   ]
  },
  {
   "cell_type": "code",
   "execution_count": null,
   "metadata": {},
   "outputs": [
    {
     "data": {
      "text/html": [
       "<table border=\"1\" class=\"dataframe\">\n",
       "  <thead>\n",
       "    <tr style=\"text-align: left;\">\n",
       "      <th>epoch</th>\n",
       "      <th>train_loss</th>\n",
       "      <th>valid_loss</th>\n",
       "      <th>time</th>\n",
       "    </tr>\n",
       "  </thead>\n",
       "  <tbody>\n",
       "    <tr>\n",
       "      <td>0</td>\n",
       "      <td>12.986645</td>\n",
       "      <td>11.725722</td>\n",
       "      <td>00:02</td>\n",
       "    </tr>\n",
       "  </tbody>\n",
       "</table>"
      ],
      "text/plain": [
       "<IPython.core.display.HTML object>"
      ]
     },
     "metadata": {},
     "output_type": "display_data"
    }
   ],
   "source": [
    "model = SimpleRNN(2,1,3,rnn_type='lstm')\n",
    "lrn = Learner(db,model,loss_func=nn.MSELoss()).fit(1)"
   ]
  },
  {
   "cell_type": "code",
   "execution_count": null,
   "metadata": {},
   "outputs": [
    {
     "data": {
      "text/html": [
       "<table border=\"1\" class=\"dataframe\">\n",
       "  <thead>\n",
       "    <tr style=\"text-align: left;\">\n",
       "      <th>epoch</th>\n",
       "      <th>train_loss</th>\n",
       "      <th>valid_loss</th>\n",
       "      <th>time</th>\n",
       "    </tr>\n",
       "  </thead>\n",
       "  <tbody>\n",
       "    <tr>\n",
       "      <td>0</td>\n",
       "      <td>13.519176</td>\n",
       "      <td>12.999596</td>\n",
       "      <td>00:01</td>\n",
       "    </tr>\n",
       "  </tbody>\n",
       "</table>"
      ],
      "text/plain": [
       "<IPython.core.display.HTML object>"
      ]
     },
     "metadata": {},
     "output_type": "display_data"
    }
   ],
   "source": [
    "model = SimpleRNN(2,1,3,rnn_type='qrnn')\n",
    "lrn = Learner(db,model,loss_func=nn.MSELoss()).fit(1)"
   ]
  },
  {
   "cell_type": "markdown",
   "metadata": {},
   "source": [
    "## CNNs"
   ]
  },
  {
   "cell_type": "code",
   "execution_count": null,
   "metadata": {},
   "outputs": [],
   "source": [
    "#export\n",
    "class CausalConv1d(torch.nn.Conv1d):\n",
    "    def __init__(self,\n",
    "                 in_channels,\n",
    "                 out_channels,\n",
    "                 kernel_size,\n",
    "                 stride=1,\n",
    "                 dilation=1,\n",
    "                 groups=1,\n",
    "                 bias=True):\n",
    "\n",
    "        super().__init__(\n",
    "            in_channels,\n",
    "            out_channels,\n",
    "            kernel_size=kernel_size,\n",
    "            stride=stride,\n",
    "            padding=(kernel_size - 1) * dilation,\n",
    "            dilation=dilation,\n",
    "            groups=groups,\n",
    "            bias=bias)\n",
    "        self.__padding = (kernel_size - 1) * dilation\n",
    "        \n",
    "    def forward(self, input):\n",
    "        return super().forward(input)[:,:,:-self.__padding]"
   ]
  },
  {
   "cell_type": "code",
   "execution_count": null,
   "metadata": {},
   "outputs": [],
   "source": [
    "#export\n",
    "@delegates(CausalConv1d, keep=True)\n",
    "def CConv1D(input_size,output_size,kernel_size=2,activation = Mish, bn = True, **kwargs):\n",
    "    conv = CausalConv1d(input_size,output_size,kernel_size,**kwargs)\n",
    "    act = activation() if activation is not None else None\n",
    "    bn = nn.BatchNorm1d(input_size) if bn else None\n",
    "    m = [m for m in [bn,conv,act] if m is not None]\n",
    "    return nn.Sequential(*m)"
   ]
  },
  {
   "cell_type": "code",
   "execution_count": null,
   "metadata": {},
   "outputs": [],
   "source": [
    "#export\n",
    "class TCN(nn.Module):\n",
    "    def __init__(self,input_size,output_size,hl_depth=1,hl_width=10,act = Mish):\n",
    "        super().__init__()\n",
    "        \n",
    "        \n",
    "        self.hl_depth = hl_depth\n",
    "\n",
    "        self.conv1 = CConv1D(input_size,hl_width)\n",
    "        self.conv_layers = nn.ModuleList([CConv1D(hl_width,hl_width,dilation=2**(i+1),\n",
    "                                                  activation=act if i < hl_depth-2 else None)\n",
    "                                          for i in range(hl_depth-1)])\n",
    "        \n",
    "        self.final = nn.Conv1d(hl_width,output_size,kernel_size=1)\n",
    "        \n",
    "    def forward(self, x):\n",
    "        out = x.transpose(1,2)\n",
    "        out = self.conv1(out)\n",
    "        for i in range(self.hl_depth-1):\n",
    "            out = self.conv_layers[i](out)+out\n",
    "#         print(out.shape)\n",
    "#         print(self.final.in_features)\n",
    "        out = self.final(out)\n",
    "        out = out.transpose(1,2)\n",
    "        return out"
   ]
  },
  {
   "cell_type": "code",
   "execution_count": null,
   "metadata": {},
   "outputs": [
    {
     "data": {
      "text/html": [
       "<table border=\"1\" class=\"dataframe\">\n",
       "  <thead>\n",
       "    <tr style=\"text-align: left;\">\n",
       "      <th>epoch</th>\n",
       "      <th>train_loss</th>\n",
       "      <th>valid_loss</th>\n",
       "      <th>time</th>\n",
       "    </tr>\n",
       "  </thead>\n",
       "  <tbody>\n",
       "    <tr>\n",
       "      <td>0</td>\n",
       "      <td>13.597542</td>\n",
       "      <td>13.299940</td>\n",
       "      <td>00:01</td>\n",
       "    </tr>\n",
       "  </tbody>\n",
       "</table>"
      ],
      "text/plain": [
       "<IPython.core.display.HTML object>"
      ]
     },
     "metadata": {},
     "output_type": "display_data"
    }
   ],
   "source": [
    "model = TCN(2,1,hl_depth=3)\n",
    "lrn = Learner(db,model,loss_func=nn.MSELoss()).fit(1)"
   ]
  },
  {
   "cell_type": "code",
   "execution_count": null,
   "metadata": {},
   "outputs": [
    {
     "data": {
      "text/plain": [
       "TCN(\n",
       "  (conv1): Sequential(\n",
       "    (0): BatchNorm1d(2, eps=1e-05, momentum=0.1, affine=True, track_running_stats=True)\n",
       "    (1): CausalConv1d(2, 10, kernel_size=(2,), stride=(1,), padding=(1,))\n",
       "    (2): Mish()\n",
       "  )\n",
       "  (conv_layers): ModuleList(\n",
       "    (0): Sequential(\n",
       "      (0): BatchNorm1d(10, eps=1e-05, momentum=0.1, affine=True, track_running_stats=True)\n",
       "      (1): CausalConv1d(10, 10, kernel_size=(2,), stride=(1,), padding=(2,), dilation=(2,))\n",
       "      (2): Mish()\n",
       "    )\n",
       "    (1): Sequential(\n",
       "      (0): BatchNorm1d(10, eps=1e-05, momentum=0.1, affine=True, track_running_stats=True)\n",
       "      (1): CausalConv1d(10, 10, kernel_size=(2,), stride=(1,), padding=(4,), dilation=(4,))\n",
       "    )\n",
       "  )\n",
       "  (final): Conv1d(10, 1, kernel_size=(1,), stride=(1,))\n",
       ")"
      ]
     },
     "execution_count": null,
     "metadata": {},
     "output_type": "execute_result"
    }
   ],
   "source": [
    "model"
   ]
  },
  {
   "cell_type": "markdown",
   "metadata": {},
   "source": [
    "## CRNNs"
   ]
  },
  {
   "cell_type": "code",
   "execution_count": null,
   "metadata": {},
   "outputs": [],
   "source": [
    "#export\n",
    "def CRNN(input_size,output_size,num_ft=10,num_cnn_layers=4,num_rnn_layers=2,hs_cnn=10,hs_rnn=10,\n",
    "         hidden_p=0.2, input_p=0.0, weight_p=0.5, rnn_type='qrnn'):\n",
    "    cnn = TCN(input_size,num_ft,hl_depth=num_cnn_layers,hl_width=hs_cnn)\n",
    "    rnn = SimpleRNN(num_ft,output_size,num_layers=num_rnn_layers,hidden_size=hs_rnn,\n",
    "                   hidden_p=hidden_p, input_p=input_p, weight_p=weight_p, rnn_type=rnn_type)\n",
    "    return nn.Sequential(cnn,rnn)"
   ]
  },
  {
   "cell_type": "code",
   "execution_count": null,
   "metadata": {},
   "outputs": [
    {
     "data": {
      "text/html": [
       "<table border=\"1\" class=\"dataframe\">\n",
       "  <thead>\n",
       "    <tr style=\"text-align: left;\">\n",
       "      <th>epoch</th>\n",
       "      <th>train_loss</th>\n",
       "      <th>valid_loss</th>\n",
       "      <th>time</th>\n",
       "    </tr>\n",
       "  </thead>\n",
       "  <tbody>\n",
       "    <tr>\n",
       "      <td>0</td>\n",
       "      <td>15.475187</td>\n",
       "      <td>15.510040</td>\n",
       "      <td>00:01</td>\n",
       "    </tr>\n",
       "  </tbody>\n",
       "</table>"
      ],
      "text/plain": [
       "<IPython.core.display.HTML object>"
      ]
     },
     "metadata": {},
     "output_type": "display_data"
    }
   ],
   "source": [
    "model = CRNN(2,1,10)\n",
    "lrn = Learner(db,model,loss_func=nn.MSELoss()).fit(1)"
   ]
  },
  {
   "cell_type": "code",
   "execution_count": null,
   "metadata": {},
   "outputs": [
    {
     "data": {
      "text/html": [
       "<table border=\"1\" class=\"dataframe\">\n",
       "  <thead>\n",
       "    <tr style=\"text-align: left;\">\n",
       "      <th>epoch</th>\n",
       "      <th>train_loss</th>\n",
       "      <th>valid_loss</th>\n",
       "      <th>time</th>\n",
       "    </tr>\n",
       "  </thead>\n",
       "  <tbody>\n",
       "    <tr>\n",
       "      <td>0</td>\n",
       "      <td>13.338457</td>\n",
       "      <td>12.935673</td>\n",
       "      <td>00:02</td>\n",
       "    </tr>\n",
       "  </tbody>\n",
       "</table>"
      ],
      "text/plain": [
       "<IPython.core.display.HTML object>"
      ]
     },
     "metadata": {},
     "output_type": "display_data"
    }
   ],
   "source": [
    "model = CRNN(2,1,10,rnn_type='gru')\n",
    "lrn = Learner(db,model,loss_func=nn.MSELoss()).fit(1)"
   ]
  },
  {
   "cell_type": "markdown",
   "metadata": {},
   "source": [
    "## Autoregressive Models"
   ]
  },
  {
   "cell_type": "code",
   "execution_count": null,
   "metadata": {},
   "outputs": [],
   "source": [
    "#export\n",
    "class Normalizer1D(nn.Module):\n",
    "    _epsilon = 1e-16\n",
    "\n",
    "    def __init__(self, mean, std):\n",
    "        super(Normalizer1D, self).__init__()\n",
    "        self.register_buffer('std', std.clone().detach() + self._epsilon)\n",
    "        self.register_buffer('mean', mean.clone().detach())\n",
    "\n",
    "    def normalize(self, x):\n",
    "        return (x-self.mean)/self.std\n",
    "\n",
    "    def unnormalize(self, x):\n",
    "        return x*self.std + self.mean"
   ]
  },
  {
   "cell_type": "code",
   "execution_count": null,
   "metadata": {},
   "outputs": [],
   "source": [
    "#export\n",
    "class AR_Model(nn.Module):\n",
    "    def __init__(self,model,ar=True,rf=1,hs=False):\n",
    "        super().__init__()\n",
    "        self.model = model\n",
    "        self.ar = ar\n",
    "        self.rf = rf\n",
    "        self.hs = hs\n",
    "        self.norm = None\n",
    "        \n",
    "    def init_normalize(self, batch,axes = [0,1]):\n",
    "        x = batch[1]\n",
    "        mean = x.mean(axes, keepdim=True)\n",
    "        std = x.std(axes, keepdim=True)\n",
    "        self.norm = Normalizer1D(mean,std)\n",
    "        \n",
    "    def forward(self, u,y):\n",
    "        if self.ar:\n",
    "            y_e = torch.zeros_like(y)\n",
    "            hs = None\n",
    "            for i in range(y_e.shape[1]):\n",
    "                if i < self.rf:\n",
    "                    y_in = F.pad(y_e[:, :i], [0,0,self.rf-i, 0])\n",
    "                    u_in = F.pad(u[:, :i+1], [0,0,self.rf-i-1, 0])\n",
    "                else:\n",
    "                    y_in = y_e[:, i-self.rf:i]\n",
    "                    u_in = u[:, i-self.rf+1:i+1]\n",
    "                    \n",
    "                if self.norm is not None: y_in=self.norm.normalize(y_in)\n",
    "\n",
    "                x = torch.cat((u_in, y_in), 2)\n",
    "                \n",
    "                if self.hs:\n",
    "                    y_next,hs = self.model(x,hs)\n",
    "                else:\n",
    "                    y_next = self.model(x)\n",
    "                y_e[:, i] = y_next[:, -1]\n",
    "            return y_e\n",
    "        else:\n",
    "            y_in = F.pad(y[:,:-1,:],[0,0,1,0])\n",
    "            \n",
    "            if self.norm is not None: y_in=self.norm.normalize(y_in)\n",
    "            \n",
    "            x = torch.cat([u,y_in],dim=2)\n",
    "            if self.hs:\n",
    "                y_e,_ = self.model(x)\n",
    "            else:\n",
    "                y_e = self.model(x)\n",
    "            return y_e"
   ]
  },
  {
   "cell_type": "code",
   "execution_count": null,
   "metadata": {},
   "outputs": [],
   "source": [
    "#export\n",
    "@delegates(RNN, keep=True)\n",
    "class AR_RNN(nn.Module):\n",
    "    def __init__(self,input_size,output_size,num_layers=1,hidden_size=100,**kwargs):\n",
    "        super().__init__()\n",
    "        self.rnn = RNN(input_size=input_size,hidden_size=hidden_size,num_layers=num_layers,**kwargs)\n",
    "        self.final = nn.Conv1d(hidden_size,output_size,kernel_size=1)\n",
    "\n",
    "    def forward(self, x,init_state=None):\n",
    "#         out = x.transpose(1,2)\n",
    "        out,hs = self.rnn(x,init_state)\n",
    "#         import pdb; pdb.set_trace()\n",
    "        out = out.transpose(1,2)\n",
    "        out = self.final(out)\n",
    "        out = out.transpose(1,2)\n",
    "        return out,hs"
   ]
  },
  {
   "cell_type": "code",
   "execution_count": null,
   "metadata": {},
   "outputs": [],
   "source": [
    "model = AR_Model(AR_RNN(3,1),ar=True,hs=True)\n",
    "model.init_normalize(db.one_batch())"
   ]
  },
  {
   "cell_type": "code",
   "execution_count": null,
   "metadata": {},
   "outputs": [
    {
     "name": "stdout",
     "output_type": "stream",
     "text": [
      "Converted 00_core.ipynb.\n",
      "Converted 01_model.ipynb.\n",
      "Converted 02_learner.ipynb.\n",
      "Converted 03_tbptt_dl.ipynb.\n",
      "Converted 11_ProDiag.ipynb.\n",
      "Converted 12_TensorQuaternions.ipynb.\n",
      "Converted 13_PBT.ipynb.\n",
      "Converted index.ipynb.\n"
     ]
    }
   ],
   "source": [
    "#hide\n",
    "from nbdev.export import *\n",
    "notebook2script()"
   ]
  },
  {
   "cell_type": "code",
   "execution_count": null,
   "metadata": {},
   "outputs": [],
   "source": []
  }
 ],
 "metadata": {
  "kernelspec": {
   "display_name": "Python 3",
   "language": "python",
   "name": "python3"
  }
 },
 "nbformat": 4,
 "nbformat_minor": 2
}
