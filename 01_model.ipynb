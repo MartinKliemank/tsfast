{
 "cells": [
  {
   "cell_type": "code",
   "execution_count": null,
   "metadata": {},
   "outputs": [],
   "source": [
    "# default_exp model\n",
    "# default_cls_lvl 3"
   ]
  },
  {
   "cell_type": "code",
   "execution_count": null,
   "metadata": {},
   "outputs": [],
   "source": [
    "#hide\n",
    "%load_ext line_profiler"
   ]
  },
  {
   "cell_type": "markdown",
   "metadata": {},
   "source": [
    "# Models\n",
    "> Pytorch Models for Sequential Data"
   ]
  },
  {
   "cell_type": "code",
   "execution_count": null,
   "metadata": {},
   "outputs": [],
   "source": [
    "#export\n",
    "from seqdata.core import *\n",
    "from fastai2.basics import *\n",
    "from fastai2.callback.progress import *\n",
    "from fastai2.text.models.qrnn import *"
   ]
  },
  {
   "cell_type": "code",
   "execution_count": null,
   "metadata": {},
   "outputs": [],
   "source": [
    "seq = DataBlock(blocks=(SequenceBlock.from_hdf(['current','voltage'],TensorSequencesInput,clm_shift=[0,-1]),\n",
    "                        SequenceBlock.from_hdf(['voltage'],TensorSequencesOutput,clm_shift=[-1])),\n",
    "                 get_items=CreateDict([DfHDFCreateWindows(win_sz=1000+1,stp_sz=1000,clm='current')]),\n",
    "                 splitter=ApplyToDict(ParentSplitter()))\n",
    "db = seq.databunch(get_hdf_files('test_data/'))"
   ]
  },
  {
   "cell_type": "markdown",
   "metadata": {},
   "source": [
    "## RNNs"
   ]
  },
  {
   "cell_type": "code",
   "execution_count": null,
   "metadata": {},
   "outputs": [],
   "source": [
    "#export\n",
    "class SimpleGRU(nn.Module):\n",
    "    def __init__(self,input_size,output_size,num_layers=1,hidden_size=100,lrn_init_state=False,**kwargs):\n",
    "        super().__init__()\n",
    "        self.rnn = nn.GRU(input_size=input_size,hidden_size=hidden_size,num_layers=num_layers,batch_first=True,**kwargs)\n",
    "        self.final = nn.Conv1d(hidden_size,output_size,kernel_size=1)\n",
    "        \n",
    "        self.init_p = nn.Parameter(torch.ones(size=(num_layers,hidden_size))) if lrn_init_state else None\n",
    "        \n",
    "    def forward(self, x):\n",
    "#         out = x.transpose(1,2)\n",
    "        if self.init_p is None:\n",
    "            out,_ = self.rnn(x)\n",
    "        else:\n",
    "            out,_ = self.rnn(x,self.init_p.expand((x.shape[0],-1,-1)).transpose(0,1).contiguous())\n",
    "#         import pdb; pdb.set_trace()\n",
    "        out = out.transpose(1,2)\n",
    "        out = self.final(out)\n",
    "        out = out.transpose(1,2)\n",
    "        return out"
   ]
  },
  {
   "cell_type": "code",
   "execution_count": null,
   "metadata": {},
   "outputs": [
    {
     "data": {
      "text/html": [
       "<table border=\"1\" class=\"dataframe\">\n",
       "  <thead>\n",
       "    <tr style=\"text-align: left;\">\n",
       "      <th>epoch</th>\n",
       "      <th>train_loss</th>\n",
       "      <th>valid_loss</th>\n",
       "      <th>time</th>\n",
       "    </tr>\n",
       "  </thead>\n",
       "  <tbody>\n",
       "    <tr>\n",
       "      <td>0</td>\n",
       "      <td>3.603175</td>\n",
       "      <td>0.440320</td>\n",
       "      <td>00:03</td>\n",
       "    </tr>\n",
       "  </tbody>\n",
       "</table>"
      ],
      "text/plain": [
       "<IPython.core.display.HTML object>"
      ]
     },
     "metadata": {},
     "output_type": "display_data"
    }
   ],
   "source": [
    "model = SimpleGRU(2,1)\n",
    "lrn = Learner(db,model,loss_func=nn.MSELoss()).fit(1)"
   ]
  },
  {
   "cell_type": "code",
   "execution_count": null,
   "metadata": {},
   "outputs": [],
   "source": [
    "#export\n",
    "class SimpleLSTM(nn.Module):\n",
    "    \n",
    "    def __init__(self,input_size,output_size,num_layers=1,hidden_size=100,**kwargs):\n",
    "        super().__init__()\n",
    "        self.rnn = nn.LSTM(input_size=input_size,hidden_size=hidden_size,num_layers=num_layers,batch_first=True,**kwargs)\n",
    "        self.final = nn.Conv1d(hidden_size,output_size,kernel_size=1)\n",
    "\n",
    "    def forward(self, x):\n",
    "        out,_ = self.rnn(x)\n",
    "        out = out.transpose(1,2)\n",
    "        out = self.final(out)\n",
    "        out = out.transpose(1,2)\n",
    "        return out"
   ]
  },
  {
   "cell_type": "code",
   "execution_count": null,
   "metadata": {},
   "outputs": [
    {
     "data": {
      "text/html": [
       "<table border=\"1\" class=\"dataframe\">\n",
       "  <thead>\n",
       "    <tr style=\"text-align: left;\">\n",
       "      <th>epoch</th>\n",
       "      <th>train_loss</th>\n",
       "      <th>valid_loss</th>\n",
       "      <th>time</th>\n",
       "    </tr>\n",
       "  </thead>\n",
       "  <tbody>\n",
       "    <tr>\n",
       "      <td>0</td>\n",
       "      <td>3.121614</td>\n",
       "      <td>0.236742</td>\n",
       "      <td>00:05</td>\n",
       "    </tr>\n",
       "  </tbody>\n",
       "</table>"
      ],
      "text/plain": [
       "<IPython.core.display.HTML object>"
      ]
     },
     "metadata": {},
     "output_type": "display_data"
    }
   ],
   "source": [
    "model = SimpleLSTM(2,1,num_layers=2,dropout=0.3)\n",
    "lrn = Learner(db,model,loss_func=nn.MSELoss()).fit(1)"
   ]
  },
  {
   "cell_type": "code",
   "execution_count": null,
   "metadata": {},
   "outputs": [],
   "source": [
    "#export\n",
    "class SimpleQRNN(nn.Module):\n",
    "    @delegates(QRNN, keep=True)\n",
    "    def __init__(self,input_size,output_size,hidden_size=100,**kwargs):\n",
    "        super().__init__()\n",
    "        self.rnn = QRNN(input_size=input_size,hidden_size=hidden_size,**kwargs)\n",
    "        self.final = nn.Conv1d(hidden_size,output_size,kernel_size=1)\n",
    "\n",
    "    def forward(self, x):\n",
    "        out,_ = self.rnn(x)\n",
    "#         import pdb; pdb.set_trace()\n",
    "        out = out.transpose(1,2)\n",
    "        out = self.final(out)\n",
    "        out = out.transpose(1,2)\n",
    "        return out"
   ]
  },
  {
   "cell_type": "code",
   "execution_count": null,
   "metadata": {},
   "outputs": [
    {
     "data": {
      "text/html": [
       "<table border=\"1\" class=\"dataframe\">\n",
       "  <thead>\n",
       "    <tr style=\"text-align: left;\">\n",
       "      <th>epoch</th>\n",
       "      <th>train_loss</th>\n",
       "      <th>valid_loss</th>\n",
       "      <th>time</th>\n",
       "    </tr>\n",
       "  </thead>\n",
       "  <tbody>\n",
       "    <tr>\n",
       "      <td>0</td>\n",
       "      <td>12.073962</td>\n",
       "      <td>7.654397</td>\n",
       "      <td>00:02</td>\n",
       "    </tr>\n",
       "  </tbody>\n",
       "</table>"
      ],
      "text/plain": [
       "<IPython.core.display.HTML object>"
      ]
     },
     "metadata": {},
     "output_type": "display_data"
    }
   ],
   "source": [
    "model = SimpleQRNN(2,1,window=2)\n",
    "lrn = Learner(db,model,loss_func=nn.MSELoss()).fit(1)"
   ]
  },
  {
   "cell_type": "markdown",
   "metadata": {},
   "source": [
    "## CNNs"
   ]
  },
  {
   "cell_type": "code",
   "execution_count": null,
   "metadata": {},
   "outputs": [],
   "source": [
    "#export\n",
    "class CausalConv1d(torch.nn.Conv1d):\n",
    "    def __init__(self,\n",
    "                 in_channels,\n",
    "                 out_channels,\n",
    "                 kernel_size,\n",
    "                 stride=1,\n",
    "                 dilation=1,\n",
    "                 groups=1,\n",
    "                 bias=True):\n",
    "\n",
    "        super().__init__(\n",
    "            in_channels,\n",
    "            out_channels,\n",
    "            kernel_size=kernel_size,\n",
    "            stride=stride,\n",
    "            padding=(kernel_size - 1) * dilation,\n",
    "            dilation=dilation,\n",
    "            groups=groups,\n",
    "            bias=bias)\n",
    "        self.__padding = (kernel_size - 1) * dilation\n",
    "        \n",
    "    def forward(self, input):\n",
    "        return super().forward(input)[:,:,:-self.__padding]"
   ]
  },
  {
   "cell_type": "code",
   "execution_count": null,
   "metadata": {},
   "outputs": [],
   "source": [
    "#export\n",
    "@delegates(CausalConv1d, keep=True)\n",
    "def CConv1D(input_size,output_size,kernel_size=2,activation = MishJit, bn = True, **kwargs):\n",
    "    conv = CausalConv1d(input_size,output_size,kernel_size,**kwargs)\n",
    "    if bn:\n",
    "        return nn.Sequential(nn.BatchNorm1d(input_size,eps=1e-3, momentum=0.01),conv,activation())\n",
    "    else:\n",
    "        return nn.Sequential(conv,activation())"
   ]
  },
  {
   "cell_type": "code",
   "execution_count": null,
   "metadata": {},
   "outputs": [],
   "source": [
    "#export\n",
    "class TCN(nn.Module):\n",
    "    def __init__(self,input_size,output_size,hl_depth=1,hl_width=10,act = MishJit):\n",
    "        super().__init__()\n",
    "        \n",
    "        \n",
    "        self.hl_depth = hl_depth\n",
    "\n",
    "        self.conv1 = CConv1D(input_size,hl_width)\n",
    "        self.conv_layers = nn.ModuleList([CConv1D(hl_width,hl_width,dilation=2**(i+1)) for i in range(hl_depth-1)])\n",
    "        \n",
    "        self.final = nn.Conv1d(hl_width,output_size,kernel_size=1)\n",
    "        \n",
    "    def forward(self, x):\n",
    "        out = x.transpose(1,2)\n",
    "        out = self.conv1(out)\n",
    "        for i in range(self.hl_depth-1):\n",
    "            out = self.conv_layers[i](out)+out\n",
    "#         print(out.shape)\n",
    "#         print(self.final.in_features)\n",
    "        out = self.final(out)\n",
    "        out = out.transpose(1,2)\n",
    "        return out"
   ]
  },
  {
   "cell_type": "code",
   "execution_count": null,
   "metadata": {},
   "outputs": [
    {
     "data": {
      "text/html": [
       "<table border=\"1\" class=\"dataframe\">\n",
       "  <thead>\n",
       "    <tr style=\"text-align: left;\">\n",
       "      <th>epoch</th>\n",
       "      <th>train_loss</th>\n",
       "      <th>valid_loss</th>\n",
       "      <th>time</th>\n",
       "    </tr>\n",
       "  </thead>\n",
       "  <tbody>\n",
       "    <tr>\n",
       "      <td>0</td>\n",
       "      <td>3.169277</td>\n",
       "      <td>2.073140</td>\n",
       "      <td>00:01</td>\n",
       "    </tr>\n",
       "  </tbody>\n",
       "</table>"
      ],
      "text/plain": [
       "<IPython.core.display.HTML object>"
      ]
     },
     "metadata": {},
     "output_type": "display_data"
    }
   ],
   "source": [
    "model = TCN(2,1)\n",
    "lrn = Learner(db,model,loss_func=nn.MSELoss()).fit(1)"
   ]
  },
  {
   "cell_type": "markdown",
   "metadata": {},
   "source": [
    "## CRNNs"
   ]
  },
  {
   "cell_type": "code",
   "execution_count": null,
   "metadata": {},
   "outputs": [],
   "source": [
    "#export\n",
    "def ConvGRU(input_size,output_size,num_ft=10,num_cnn_layers=4,num_rnn_layers=1,hs_cnn=10,hs_rnn=100):\n",
    "    cnn = TCN(input_size,num_ft,hl_depth=num_cnn_layers,hl_width=hs_cnn)\n",
    "    rnn = SimpleGRU(num_ft,output_size,num_layers=num_rnn_layers,hidden_size=hs_rnn)\n",
    "    return nn.Sequential(cnn,rnn)"
   ]
  },
  {
   "cell_type": "code",
   "execution_count": null,
   "metadata": {},
   "outputs": [
    {
     "data": {
      "text/html": [
       "<table border=\"1\" class=\"dataframe\">\n",
       "  <thead>\n",
       "    <tr style=\"text-align: left;\">\n",
       "      <th>epoch</th>\n",
       "      <th>train_loss</th>\n",
       "      <th>valid_loss</th>\n",
       "      <th>time</th>\n",
       "    </tr>\n",
       "  </thead>\n",
       "  <tbody>\n",
       "    <tr>\n",
       "      <td>0</td>\n",
       "      <td>3.260091</td>\n",
       "      <td>0.239342</td>\n",
       "      <td>00:03</td>\n",
       "    </tr>\n",
       "  </tbody>\n",
       "</table>"
      ],
      "text/plain": [
       "<IPython.core.display.HTML object>"
      ]
     },
     "metadata": {},
     "output_type": "display_data"
    }
   ],
   "source": [
    "model = ConvGRU(2,1,10)\n",
    "lrn = Learner(db,model,loss_func=nn.MSELoss()).fit(1)"
   ]
  },
  {
   "cell_type": "code",
   "execution_count": null,
   "metadata": {},
   "outputs": [],
   "source": [
    "#export\n",
    "def ConvQRNN(input_size,output_size,num_ft=10,num_cnn_layers=4,num_rnn_layers=1,hs_cnn=10,hs_rnn=100):\n",
    "    cnn = TCN(input_size,num_ft,hl_depth=num_cnn_layers,hl_width=hs_cnn)\n",
    "    rnn = SimpleQRNN(num_ft,output_size,n_layers=num_rnn_layers,hidden_size=hs_rnn)\n",
    "    return nn.Sequential(cnn,rnn)"
   ]
  },
  {
   "cell_type": "code",
   "execution_count": null,
   "metadata": {},
   "outputs": [
    {
     "data": {
      "text/html": [
       "<table border=\"1\" class=\"dataframe\">\n",
       "  <thead>\n",
       "    <tr style=\"text-align: left;\">\n",
       "      <th>epoch</th>\n",
       "      <th>train_loss</th>\n",
       "      <th>valid_loss</th>\n",
       "      <th>time</th>\n",
       "    </tr>\n",
       "  </thead>\n",
       "  <tbody>\n",
       "    <tr>\n",
       "      <td>0</td>\n",
       "      <td>4.018788</td>\n",
       "      <td>0.271553</td>\n",
       "      <td>00:02</td>\n",
       "    </tr>\n",
       "  </tbody>\n",
       "</table>"
      ],
      "text/plain": [
       "<IPython.core.display.HTML object>"
      ]
     },
     "metadata": {},
     "output_type": "display_data"
    }
   ],
   "source": [
    "model = ConvQRNN(2,1,10)\n",
    "lrn = Learner(db,model,loss_func=nn.MSELoss()).fit(1)"
   ]
  },
  {
   "cell_type": "markdown",
   "metadata": {},
   "source": [
    "## ProDiag"
   ]
  },
  {
   "cell_type": "code",
   "execution_count": null,
   "metadata": {},
   "outputs": [],
   "source": [
    "#export\n",
    "class ProgDiag_GRU(nn.Module):\n",
    "    def __init__(self,input_size,output_size,init_size,hidden_size=100,hidden_layer = 1):\n",
    "        super().__init__()\n",
    "        self.out_sz = output_size\n",
    "        self.init_size = init_size\n",
    "        self.diag_state = nn.GRU(input_size=input_size,hidden_size=hidden_size,\n",
    "                               num_layers=1, batch_first=True)\n",
    "        self.prog_state = nn.GRU(input_size=input_size-1,hidden_size=hidden_size,\n",
    "                               num_layers=1, batch_first=True)\n",
    "\n",
    "        self.estimator = SimpleGRU(input_size=hidden_size,output_size=output_size,hidden_size=hidden_size,\n",
    "                           num_layers=hidden_layer)\n",
    "             \n",
    "        self.final = nn.Conv1d(hidden_size,self.out_sz,kernel_size=1)\n",
    "\n",
    "    def forward(self, x,init_state = None):\n",
    "        h_diag,_ = self.diag_state(x)   \n",
    "        \n",
    "        h_prog_init = h_diag[:,self.init_size-self.out_sz,:]\n",
    "        h_prog,_ = self.prog_state(x[:,self.init_size:,:-self.out_sz],h_prog_init[None,...])\n",
    "        \n",
    "        est_diag = self.estimator(h_diag)[:,self.init_size:]\n",
    "        est_prog = self.estimator(h_prog)\n",
    "        \n",
    "        \n",
    "        out = torch.cat([est_diag,est_prog],dim=2)\n",
    "#         import pdb; pdb.set_trace()   \n",
    "        return out, h_diag[:,self.init_size:,:],h_prog"
   ]
  },
  {
   "cell_type": "code",
   "execution_count": null,
   "metadata": {},
   "outputs": [
    {
     "data": {
      "text/html": [
       "<table border=\"1\" class=\"dataframe\">\n",
       "  <thead>\n",
       "    <tr style=\"text-align: left;\">\n",
       "      <th>epoch</th>\n",
       "      <th>train_loss</th>\n",
       "      <th>valid_loss</th>\n",
       "      <th>time</th>\n",
       "    </tr>\n",
       "  </thead>\n",
       "  <tbody>\n",
       "    <tr>\n",
       "      <td>0</td>\n",
       "      <td>3.266276</td>\n",
       "      <td>0.290311</td>\n",
       "      <td>00:07</td>\n",
       "    </tr>\n",
       "  </tbody>\n",
       "</table>"
      ],
      "text/plain": [
       "<IPython.core.display.HTML object>"
      ]
     },
     "metadata": {},
     "output_type": "display_data"
    }
   ],
   "source": [
    "model = ProgDiag_GRU(2,1,100)\n",
    "lrn = Learner(db,model,loss_func=nn.MSELoss(),cbs=ProDiagTrainer(100)).fit(1)"
   ]
  },
  {
   "cell_type": "code",
   "execution_count": null,
   "metadata": {},
   "outputs": [
    {
     "name": "stdout",
     "output_type": "stream",
     "text": [
      "Converted 00_core.ipynb.\n",
      "Converted 01_model.ipynb.\n",
      "Converted 02_learner.ipynb.\n",
      "Converted 10_performance_test.ipynb.\n",
      "Converted 90_imu_example.ipynb.\n",
      "Converted 91_cascaded_tanks.ipynb.\n",
      "Converted 92_wiener_hammerstein.ipynb.\n",
      "This cell doesn't have an export destination and was ignored:\n",
      "e\n",
      "Converted 93_mdt_benchmark.ipynb.\n",
      "Converted 93_noisyhammerstein.ipynb.\n",
      "Converted 93_silverbox.ipynb.\n",
      "Converted index.ipynb.\n"
     ]
    }
   ],
   "source": [
    "#hide\n",
    "from nbdev.export import *\n",
    "notebook2script()"
   ]
  },
  {
   "cell_type": "code",
   "execution_count": null,
   "metadata": {},
   "outputs": [],
   "source": []
  }
 ],
 "metadata": {
  "kernelspec": {
   "display_name": "Python 3",
   "language": "python",
   "name": "python3"
  }
 },
 "nbformat": 4,
 "nbformat_minor": 2
}
