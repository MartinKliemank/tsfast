{
 "cells": [
  {
   "cell_type": "code",
   "execution_count": null,
   "metadata": {},
   "outputs": [],
   "source": []
  },
  {
   "cell_type": "code",
   "execution_count": null,
   "metadata": {},
   "outputs": [],
   "source": []
  },
  {
   "cell_type": "code",
   "execution_count": null,
   "metadata": {},
   "outputs": [],
   "source": []
  },
  {
   "cell_type": "code",
   "execution_count": null,
   "metadata": {},
   "outputs": [],
   "source": [
    "# default_exp model\n",
    "# default_cls_lvl 3"
   ]
  },
  {
   "cell_type": "code",
   "execution_count": null,
   "metadata": {},
   "outputs": [
    {
     "name": "stdout",
     "output_type": "stream",
     "text": [
      "The line_profiler extension is already loaded. To reload it, use:\n",
      "  %reload_ext line_profiler\n"
     ]
    }
   ],
   "source": [
    "#hide\n",
    "%load_ext line_profiler"
   ]
  },
  {
   "cell_type": "markdown",
   "metadata": {},
   "source": [
    "# Models\n",
    "> Pytorch Models for Sequential Data"
   ]
  },
  {
   "cell_type": "code",
   "execution_count": null,
   "metadata": {},
   "outputs": [],
   "source": [
    "#export\n",
    "from seqdata.core import *\n",
    "from fastai2.basics import *\n",
    "from fastai2.callback.progress import *\n",
    "from fastai2.text.models.qrnn import *\n",
    "from torch.nn.utils import weight_norm"
   ]
  },
  {
   "cell_type": "code",
   "execution_count": null,
   "metadata": {},
   "outputs": [],
   "source": [
    "seq = DataBlock(blocks=(SequenceBlock.from_hdf(['current','voltage'],TensorSequencesInput,clm_shift=[0,-1]),\n",
    "                        SequenceBlock.from_hdf(['voltage'],TensorSequencesOutput,clm_shift=[-1])),\n",
    "                 get_items=CreateDict([DfHDFCreateWindows(win_sz=1000+1,stp_sz=1000,clm='current')]),\n",
    "                 splitter=ApplyToDict(ParentSplitter()))\n",
    "db = seq.dataloaders(get_hdf_files('test_data/'))"
   ]
  },
  {
   "cell_type": "markdown",
   "metadata": {},
   "source": [
    "## Linear"
   ]
  },
  {
   "cell_type": "code",
   "execution_count": null,
   "metadata": {},
   "outputs": [],
   "source": [
    "#export\n",
    "class SeqLinear(nn.Module):\n",
    "    \n",
    "    def __init__(self,input_size,output_size,hidden_size=100,hidden_layer=1,act=Mish):\n",
    "        super().__init__()\n",
    "        def conv_act(inp,out): return nn.Sequential(nn.Conv1d(inp,out,1),act())\n",
    "        \n",
    "        if hidden_layer < 1:\n",
    "            self.lin = nn.Conv1d(input_size,output_size,1)\n",
    "        else:\n",
    "            self.lin = nn.Sequential(conv_act(input_size,hidden_size),\n",
    "                                     *[conv_act(hidden_size,hidden_size) for _ in range(hidden_layer-1)],\n",
    "                                    nn.Conv1d(hidden_size,output_size,1))\n",
    "            \n",
    "    def forward(self, x):\n",
    "        out = x.transpose(1,2)\n",
    "        out = self.lin(out)\n",
    "        return out.transpose(1,2)"
   ]
  },
  {
   "cell_type": "markdown",
   "metadata": {},
   "source": [
    "## RNNs"
   ]
  },
  {
   "cell_type": "code",
   "execution_count": null,
   "metadata": {},
   "outputs": [],
   "source": [
    "#export\n",
    "from fastai2.text.models.awdlstm import *\n",
    "class RNN(nn.Module):\n",
    "    \"inspired by https://arxiv.org/abs/1708.02182\"\n",
    "\n",
    "    def __init__(self, input_size,hidden_size, num_layers, \n",
    "                 hidden_p=0.0, input_p=0.0, weight_p=0.0,\n",
    "                 rnn_type='gru',ret_full_hidden=False,stateful=False,\n",
    "                 normalize=False,residual=False,**kwargs):\n",
    "        super().__init__()\n",
    "        store_attr(self, 'ret_full_hidden,num_layers,rnn_type,hidden_size,stateful,input_p,normalize,residual')\n",
    "        self.bs = 1\n",
    "        self.rnns = nn.ModuleList([self._one_rnn(input_size if l == 0 else hidden_size,\n",
    "                                                 hidden_size,weight_p,rnn_type,**kwargs) for l in range(num_layers)])\n",
    "        \n",
    "        self.res_gate0 = nn.Conv1d(input_size,hidden_size,1) if input_size != hidden_size else None\n",
    "        \n",
    "        self.input_dp = RNNDropout(input_p)\n",
    "        self.hidden_dps = nn.ModuleList([RNNDropout(hidden_p) for l in range(num_layers)])\n",
    "        self.norm_layers = nn.ModuleList([nn.LayerNorm(hidden_size) for l in range(num_layers)])\n",
    "        self.reset()\n",
    "\n",
    "    def forward(self, inp, h_init=None):\n",
    "        bs = inp.shape[0]\n",
    "        if h_init is None and self.stateful: h_init = self._get_hidden(bs)\n",
    "                \n",
    "        r_input = self.input_dp(inp) if self.input_p > 0 else inp\n",
    "        full_hid,new_hidden = [],[]\n",
    "#         import pdb; pdb.set_trace()\n",
    "        for l, (rnn,hid_dp,nrm) in enumerate(zip(self.rnns,self.hidden_dps,self.norm_layers)):\n",
    "            r_output, h = rnn(r_input,h_init[l] if h_init is not None else None)\n",
    "\n",
    "            #residual connenction\n",
    "            if self.residual:\n",
    "                if l == 0 and self.res_gate0 is not None: r_input = self.res_gate0(r_input.transpose(1,2)).transpose(1,2)\n",
    "                r_output = r_input + r_output\n",
    "            \n",
    "            if self.normalize: r_output = nrm(r_output)\n",
    "            if l != self.num_layers - 1: \n",
    "                r_output = hid_dp(r_output)\n",
    "            \n",
    "            full_hid.append(r_output)\n",
    "            new_hidden.append(h)\n",
    "            r_input = r_output\n",
    "        \n",
    "        self.hidden =  to_detach(new_hidden, cpu=False, gather=False)\n",
    "        self.bs = bs\n",
    "        output = r_output if not self.ret_full_hidden else torch.stack(full_hid, 0)\n",
    "        \n",
    "        return output, new_hidden\n",
    "\n",
    "    def _get_hidden(self,bs):\n",
    "        '''retrieve internal hidden state, check if model device has changed'''\n",
    "        if self.hidden is None: return None\n",
    "        if bs!=self.bs: return None\n",
    "        if self.hidden[0][0].device != one_param(self).device: return None\n",
    "#         import pdb; pdb.set_trace()\n",
    "        return self.hidden\n",
    "    \n",
    "    def _one_rnn(self, n_in, n_out, weight_p, rnn_type,**kwargs):\n",
    "        \"Return one of the inner rnn\"\n",
    "        if rnn_type == 'gru':\n",
    "            rnn = nn.GRU(n_in, n_out,1,batch_first=True,**kwargs)\n",
    "            rnn = WeightDropout(rnn,weight_p)\n",
    "        elif rnn_type == 'lstm':\n",
    "            rnn = nn.LSTM(n_in, n_out,1,batch_first=True,**kwargs)\n",
    "            rnn = WeightDropout(rnn,weight_p)\n",
    "        elif rnn_type == 'rnn':\n",
    "            rnn = nn.RNN(n_in, n_out,1,batch_first=True,**kwargs)\n",
    "            rnn = WeightDropout(rnn,weight_p)\n",
    "        elif rnn_type == 'qrnn':\n",
    "            rnn = QRNN(n_in, n_out,1,batch_first=True,**kwargs)\n",
    "            rnn.layers[0].linear = WeightDropout(rnn.layers[0].linear,weight_p,layer_names='weight')\n",
    "        else:\n",
    "            raise Exception\n",
    "        return rnn\n",
    "    \n",
    "    def reset(self):\n",
    "        \"Reset the hidden states\"\n",
    "        [r.reset() for r in self.rnns if hasattr(r, 'reset')]\n",
    "        self.hidden = None"
   ]
  },
  {
   "cell_type": "code",
   "execution_count": null,
   "metadata": {},
   "outputs": [],
   "source": [
    "#export\n",
    "class SimpleRNN(nn.Module):\n",
    "    \n",
    "    @delegates(RNN, keep=True)\n",
    "    def __init__(self,input_size,output_size,num_layers=1,hidden_size=100,lrn_init=False,**kwargs):\n",
    "        super().__init__()\n",
    "        self.rnn = RNN(input_size=input_size,hidden_size=hidden_size,num_layers=num_layers,**kwargs)\n",
    "        self.final = SeqLinear(hidden_size,output_size,hidden_size=hidden_size)\n",
    "        \n",
    "        self.init_p = (nn.ParameterList([nn.Parameter(torch.randn(size=(1,1,hidden_size)),requires_grad=True) \n",
    "                        for f in range(num_layers)]) if lrn_init else None)\n",
    "        self.reset_flag = False\n",
    "    def forward(self, x):\n",
    "        if self.init_p is None or not self.reset_flag:\n",
    "            h_init = None\n",
    "        else:\n",
    "#             import pdb; pdb.set_trace()\n",
    "            h_init = [p.repeat((1,x.shape[0],1)) for p in self.init_p]\n",
    "            self.reset_flag = False\n",
    "        \n",
    "        out,_ = self.rnn(x,h_init)\n",
    "        out = self.final(out)\n",
    "        return out\n",
    "    def reset(self):\n",
    "        self.rnn.reset()\n",
    "        self.reset_flag = True"
   ]
  },
  {
   "cell_type": "code",
   "execution_count": null,
   "metadata": {},
   "outputs": [
    {
     "data": {
      "text/html": [
       "<table border=\"1\" class=\"dataframe\">\n",
       "  <thead>\n",
       "    <tr style=\"text-align: left;\">\n",
       "      <th>epoch</th>\n",
       "      <th>train_loss</th>\n",
       "      <th>valid_loss</th>\n",
       "      <th>time</th>\n",
       "    </tr>\n",
       "  </thead>\n",
       "  <tbody>\n",
       "    <tr>\n",
       "      <td>0</td>\n",
       "      <td>12.402530</td>\n",
       "      <td>10.020881</td>\n",
       "      <td>00:02</td>\n",
       "    </tr>\n",
       "    <tr>\n",
       "      <td>1</td>\n",
       "      <td>8.469964</td>\n",
       "      <td>0.071852</td>\n",
       "      <td>00:02</td>\n",
       "    </tr>\n",
       "    <tr>\n",
       "      <td>2</td>\n",
       "      <td>5.544235</td>\n",
       "      <td>0.158542</td>\n",
       "      <td>00:02</td>\n",
       "    </tr>\n",
       "    <tr>\n",
       "      <td>3</td>\n",
       "      <td>3.879104</td>\n",
       "      <td>0.403776</td>\n",
       "      <td>00:02</td>\n",
       "    </tr>\n",
       "    <tr>\n",
       "      <td>4</td>\n",
       "      <td>2.891475</td>\n",
       "      <td>0.059979</td>\n",
       "      <td>00:02</td>\n",
       "    </tr>\n",
       "    <tr>\n",
       "      <td>5</td>\n",
       "      <td>2.221458</td>\n",
       "      <td>0.069875</td>\n",
       "      <td>00:02</td>\n",
       "    </tr>\n",
       "    <tr>\n",
       "      <td>6</td>\n",
       "      <td>1.742699</td>\n",
       "      <td>0.052154</td>\n",
       "      <td>00:02</td>\n",
       "    </tr>\n",
       "    <tr>\n",
       "      <td>7</td>\n",
       "      <td>1.392110</td>\n",
       "      <td>0.020270</td>\n",
       "      <td>00:02</td>\n",
       "    </tr>\n",
       "    <tr>\n",
       "      <td>8</td>\n",
       "      <td>1.125627</td>\n",
       "      <td>0.015886</td>\n",
       "      <td>00:02</td>\n",
       "    </tr>\n",
       "    <tr>\n",
       "      <td>9</td>\n",
       "      <td>0.918726</td>\n",
       "      <td>0.013548</td>\n",
       "      <td>00:02</td>\n",
       "    </tr>\n",
       "  </tbody>\n",
       "</table>"
      ],
      "text/plain": [
       "<IPython.core.display.HTML object>"
      ]
     },
     "metadata": {},
     "output_type": "display_data"
    }
   ],
   "source": [
    "model = SimpleRNN(2,1,2,stateful=True)\n",
    "lrn = Learner(db,model,loss_func=nn.MSELoss()).fit(10)"
   ]
  },
  {
   "cell_type": "code",
   "execution_count": null,
   "metadata": {},
   "outputs": [
    {
     "data": {
      "text/html": [
       "<table border=\"1\" class=\"dataframe\">\n",
       "  <thead>\n",
       "    <tr style=\"text-align: left;\">\n",
       "      <th>epoch</th>\n",
       "      <th>train_loss</th>\n",
       "      <th>valid_loss</th>\n",
       "      <th>time</th>\n",
       "    </tr>\n",
       "  </thead>\n",
       "  <tbody>\n",
       "    <tr>\n",
       "      <td>0</td>\n",
       "      <td>13.270247</td>\n",
       "      <td>11.379807</td>\n",
       "      <td>00:02</td>\n",
       "    </tr>\n",
       "    <tr>\n",
       "      <td>1</td>\n",
       "      <td>9.298305</td>\n",
       "      <td>0.149882</td>\n",
       "      <td>00:02</td>\n",
       "    </tr>\n",
       "    <tr>\n",
       "      <td>2</td>\n",
       "      <td>6.005636</td>\n",
       "      <td>0.126526</td>\n",
       "      <td>00:02</td>\n",
       "    </tr>\n",
       "    <tr>\n",
       "      <td>3</td>\n",
       "      <td>4.210993</td>\n",
       "      <td>0.420231</td>\n",
       "      <td>00:02</td>\n",
       "    </tr>\n",
       "    <tr>\n",
       "      <td>4</td>\n",
       "      <td>3.141149</td>\n",
       "      <td>0.102188</td>\n",
       "      <td>00:02</td>\n",
       "    </tr>\n",
       "    <tr>\n",
       "      <td>5</td>\n",
       "      <td>2.420613</td>\n",
       "      <td>0.112348</td>\n",
       "      <td>00:02</td>\n",
       "    </tr>\n",
       "    <tr>\n",
       "      <td>6</td>\n",
       "      <td>1.907004</td>\n",
       "      <td>0.104420</td>\n",
       "      <td>00:02</td>\n",
       "    </tr>\n",
       "    <tr>\n",
       "      <td>7</td>\n",
       "      <td>1.530430</td>\n",
       "      <td>0.047961</td>\n",
       "      <td>00:02</td>\n",
       "    </tr>\n",
       "    <tr>\n",
       "      <td>8</td>\n",
       "      <td>1.241317</td>\n",
       "      <td>0.030552</td>\n",
       "      <td>00:02</td>\n",
       "    </tr>\n",
       "    <tr>\n",
       "      <td>9</td>\n",
       "      <td>1.014594</td>\n",
       "      <td>0.018979</td>\n",
       "      <td>00:02</td>\n",
       "    </tr>\n",
       "  </tbody>\n",
       "</table>"
      ],
      "text/plain": [
       "<IPython.core.display.HTML object>"
      ]
     },
     "metadata": {},
     "output_type": "display_data"
    }
   ],
   "source": [
    "model = SimpleRNN(2,1,2,stateful=True,rnn_type='lstm')\n",
    "lrn = Learner(db,model,loss_func=nn.MSELoss()).fit(10)"
   ]
  },
  {
   "cell_type": "code",
   "execution_count": null,
   "metadata": {},
   "outputs": [
    {
     "data": {
      "text/html": [
       "<table border=\"1\" class=\"dataframe\">\n",
       "  <thead>\n",
       "    <tr style=\"text-align: left;\">\n",
       "      <th>epoch</th>\n",
       "      <th>train_loss</th>\n",
       "      <th>valid_loss</th>\n",
       "      <th>time</th>\n",
       "    </tr>\n",
       "  </thead>\n",
       "  <tbody>\n",
       "    <tr>\n",
       "      <td>0</td>\n",
       "      <td>13.322747</td>\n",
       "      <td>11.613232</td>\n",
       "      <td>00:02</td>\n",
       "    </tr>\n",
       "  </tbody>\n",
       "</table>"
      ],
      "text/plain": [
       "<IPython.core.display.HTML object>"
      ]
     },
     "metadata": {},
     "output_type": "display_data"
    }
   ],
   "source": [
    "model = SimpleRNN(2,1,3,stateful=True,rnn_type='qrnn')\n",
    "lrn = Learner(db,model,loss_func=nn.MSELoss()).fit(1)"
   ]
  },
  {
   "cell_type": "code",
   "execution_count": null,
   "metadata": {},
   "outputs": [],
   "source": [
    "#export\n",
    "class SeperateRNN(nn.Module):\n",
    "    \n",
    "    @delegates(RNN, keep=True)\n",
    "    def __init__(self,input_list,output_size,num_layers=1,hidden_size=100,residual=False,**kwargs):\n",
    "        super().__init__()\n",
    "        self.input_list =np.cumsum([0] + input_list)\n",
    "        rnn_width = hidden_size//len(input_list)\n",
    "        \n",
    "        self.rnns =nn.ModuleList([ RNN(input_size=n,hidden_size=rnn_width,num_layers=1,residual=False,**kwargs)\n",
    "                        for n in input_list])\n",
    "        \n",
    "        self.rnn =RNN(input_size=rnn_width*len(input_list),hidden_size=hidden_size,\n",
    "                      num_layers=num_layers,residual=residual,**kwargs)\n",
    "        self.final = SeqLinear(hidden_size,output_size,hidden_size=hidden_size,hidden_layer=3)\n",
    "\n",
    "    def forward(self, x):      \n",
    "        rnn_out = [rnn(x[...,self.input_list[i]:self.input_list[i+1]])[0] \n",
    "                   for i,rnn in enumerate(self.rnns)]\n",
    "        out = torch.cat(rnn_out,dim=-1)\n",
    "        out,_ = self.rnn(out)\n",
    "        out = self.final(out)\n",
    "        return out\n",
    "    def reset(self):\n",
    "        for r in self.rnns:\n",
    "            r.reset()\n",
    "        self.rnn.reset()"
   ]
  },
  {
   "cell_type": "code",
   "execution_count": null,
   "metadata": {},
   "outputs": [
    {
     "data": {
      "text/html": [
       "<table border=\"1\" class=\"dataframe\">\n",
       "  <thead>\n",
       "    <tr style=\"text-align: left;\">\n",
       "      <th>epoch</th>\n",
       "      <th>train_loss</th>\n",
       "      <th>valid_loss</th>\n",
       "      <th>time</th>\n",
       "    </tr>\n",
       "  </thead>\n",
       "  <tbody>\n",
       "    <tr>\n",
       "      <td>0</td>\n",
       "      <td>12.707313</td>\n",
       "      <td>11.579617</td>\n",
       "      <td>00:03</td>\n",
       "    </tr>\n",
       "    <tr>\n",
       "      <td>1</td>\n",
       "      <td>10.504081</td>\n",
       "      <td>2.579530</td>\n",
       "      <td>00:03</td>\n",
       "    </tr>\n",
       "    <tr>\n",
       "      <td>2</td>\n",
       "      <td>6.951767</td>\n",
       "      <td>0.132934</td>\n",
       "      <td>00:03</td>\n",
       "    </tr>\n",
       "    <tr>\n",
       "      <td>3</td>\n",
       "      <td>4.896197</td>\n",
       "      <td>0.534217</td>\n",
       "      <td>00:03</td>\n",
       "    </tr>\n",
       "    <tr>\n",
       "      <td>4</td>\n",
       "      <td>3.637974</td>\n",
       "      <td>0.114438</td>\n",
       "      <td>00:03</td>\n",
       "    </tr>\n",
       "    <tr>\n",
       "      <td>5</td>\n",
       "      <td>2.797581</td>\n",
       "      <td>0.039192</td>\n",
       "      <td>00:03</td>\n",
       "    </tr>\n",
       "    <tr>\n",
       "      <td>6</td>\n",
       "      <td>2.193579</td>\n",
       "      <td>0.063021</td>\n",
       "      <td>00:03</td>\n",
       "    </tr>\n",
       "    <tr>\n",
       "      <td>7</td>\n",
       "      <td>1.748176</td>\n",
       "      <td>0.031126</td>\n",
       "      <td>00:03</td>\n",
       "    </tr>\n",
       "    <tr>\n",
       "      <td>8</td>\n",
       "      <td>1.412059</td>\n",
       "      <td>0.014511</td>\n",
       "      <td>00:03</td>\n",
       "    </tr>\n",
       "    <tr>\n",
       "      <td>9</td>\n",
       "      <td>1.151364</td>\n",
       "      <td>0.006397</td>\n",
       "      <td>00:03</td>\n",
       "    </tr>\n",
       "  </tbody>\n",
       "</table>"
      ],
      "text/plain": [
       "<IPython.core.display.HTML object>"
      ]
     },
     "metadata": {},
     "output_type": "display_data"
    }
   ],
   "source": [
    "model = SeperateRNN([1]*2,1,1,stateful=True,rnn_type='lstm',residual=True)\n",
    "lrn = Learner(db,model,loss_func=nn.MSELoss()).fit(10)"
   ]
  },
  {
   "cell_type": "markdown",
   "metadata": {},
   "source": [
    "## CNNs"
   ]
  },
  {
   "cell_type": "code",
   "execution_count": null,
   "metadata": {},
   "outputs": [],
   "source": [
    "#export\n",
    "class CausalConv1d(torch.nn.Conv1d):\n",
    "    def __init__(self,\n",
    "                 in_channels,\n",
    "                 out_channels,\n",
    "                 kernel_size,\n",
    "                 stride=1,\n",
    "                 dilation=1,\n",
    "                 groups=1,\n",
    "                 bias=True):\n",
    "\n",
    "        super().__init__(\n",
    "            in_channels,\n",
    "            out_channels,\n",
    "            kernel_size=kernel_size,\n",
    "            stride=stride,\n",
    "            padding=(kernel_size - 1) * dilation,\n",
    "            dilation=dilation,\n",
    "            groups=groups,\n",
    "            bias=bias)\n",
    "        self.__padding = (kernel_size - 1) * dilation\n",
    "        \n",
    "    def forward(self, input):\n",
    "        return super().forward(input)[:,:,:-self.__padding]"
   ]
  },
  {
   "cell_type": "code",
   "execution_count": null,
   "metadata": {},
   "outputs": [],
   "source": [
    "#export\n",
    "@delegates(CausalConv1d, keep=True)\n",
    "def CConv1D(input_size,output_size,kernel_size=2,activation = Mish,wn=True, bn = False, **kwargs):\n",
    "    conv = CausalConv1d(input_size,output_size,kernel_size,**kwargs)\n",
    "    if wn: conv = weight_norm(conv)\n",
    "    act = activation() if activation is not None else None\n",
    "    bn = nn.BatchNorm1d(input_size) if bn else None\n",
    "    m = [m for m in [bn,conv,act] if m is not None]\n",
    "    return nn.Sequential(*m)"
   ]
  },
  {
   "cell_type": "code",
   "execution_count": null,
   "metadata": {},
   "outputs": [],
   "source": [
    "#export\n",
    "@delegates(CausalConv1d, keep=True)\n",
    "class TCN_Block(nn.Module):\n",
    "    def __init__(self,input_size,output_size,num_layers=1,\n",
    "                 activation = Mish,wn=True, bn = False, **kwargs):\n",
    "        super().__init__()\n",
    "        \n",
    "        layers=[]\n",
    "        for _ in range(num_layers):\n",
    "            conv = CausalConv1d(input_size,output_size,2,**kwargs)\n",
    "            if wn: conv = weight_norm(conv)\n",
    "            act = activation() if activation is not None else None\n",
    "            bn = nn.BatchNorm1d(input_size) if bn else None\n",
    "            layers += [m for m in [bn,conv,act] if m is not None]\n",
    "            \n",
    "        self.layers = nn.Sequential(*layers)\n",
    "        \n",
    "        self.residual = nn.Conv1d(input_size,output_size,kernel_size=1) if output_size!=input_size else None\n",
    "        \n",
    "    def forward(self, x):      \n",
    "        out = self.layers(x)\n",
    "        out = out + (x if self.residual is None else self.residual(x))  \n",
    "        return out"
   ]
  },
  {
   "cell_type": "code",
   "execution_count": null,
   "metadata": {},
   "outputs": [],
   "source": [
    "#export\n",
    "class TCN(nn.Module):\n",
    "    def __init__(self,input_size,output_size,hl_depth=1,hl_width=10,act = Mish,bn=False,stateful=False):\n",
    "        super().__init__()\n",
    "        \n",
    "        conv_layers = [TCN_Block(input_size if i==0 else hl_width,hl_width,\n",
    "                                      dilation=2**(i),bn=bn,activation=act)\n",
    "                                          for i in range(hl_depth)]\n",
    "        self.conv_layers = nn.Sequential(*conv_layers)\n",
    "        \n",
    "        \n",
    "        self.rec_field = (2**hl_depth)-1\n",
    "        self.final = nn.Conv1d(hl_width,output_size,kernel_size=1)\n",
    "        self.x_init = None\n",
    "        self.stateful = stateful\n",
    "        \n",
    "    def forward(self, x):      \n",
    "        if self.x_init is not None:\n",
    "            if self.x_init.shape[0] != x.shape[0]: \n",
    "                self.x_init = None\n",
    "            elif self.stateful: \n",
    "                x = torch.cat([self.x_init,x],dim=1)\n",
    "        \n",
    "        x_in = x.transpose(1,2)\n",
    "        out = self.conv_layers(x_in)\n",
    "        out = self.final(out).transpose(1,2)\n",
    "        \n",
    "        if self.stateful:\n",
    "            if self.x_init is not None: out = out[:,self.rec_field:]\n",
    "            self.x_init = x[:,-self.rec_field:]\n",
    "            \n",
    "        return out\n",
    "    \n",
    "    def reset(self):\n",
    "        self.x_init = None"
   ]
  },
  {
   "cell_type": "code",
   "execution_count": null,
   "metadata": {},
   "outputs": [
    {
     "data": {
      "text/html": [
       "<table border=\"1\" class=\"dataframe\">\n",
       "  <thead>\n",
       "    <tr style=\"text-align: left;\">\n",
       "      <th>epoch</th>\n",
       "      <th>train_loss</th>\n",
       "      <th>valid_loss</th>\n",
       "      <th>time</th>\n",
       "    </tr>\n",
       "  </thead>\n",
       "  <tbody>\n",
       "    <tr>\n",
       "      <td>0</td>\n",
       "      <td>11.135389</td>\n",
       "      <td>10.395772</td>\n",
       "      <td>00:01</td>\n",
       "    </tr>\n",
       "  </tbody>\n",
       "</table>"
      ],
      "text/plain": [
       "<IPython.core.display.HTML object>"
      ]
     },
     "metadata": {},
     "output_type": "display_data"
    }
   ],
   "source": [
    "model = TCN(2,1,hl_depth=3)\n",
    "lrn = Learner(db,model,loss_func=nn.MSELoss()).fit(1)"
   ]
  },
  {
   "cell_type": "code",
   "execution_count": null,
   "metadata": {},
   "outputs": [
    {
     "data": {
      "text/plain": [
       "TCN(\n",
       "  (conv_layers): Sequential(\n",
       "    (0): TCN_Block(\n",
       "      (layers): Sequential(\n",
       "        (0): CausalConv1d(2, 10, kernel_size=(2,), stride=(1,), padding=(1,))\n",
       "        (1): Mish()\n",
       "      )\n",
       "      (residual): Conv1d(2, 10, kernel_size=(1,), stride=(1,))\n",
       "    )\n",
       "    (1): TCN_Block(\n",
       "      (layers): Sequential(\n",
       "        (0): CausalConv1d(10, 10, kernel_size=(2,), stride=(1,), padding=(2,), dilation=(2,))\n",
       "        (1): Mish()\n",
       "      )\n",
       "    )\n",
       "    (2): TCN_Block(\n",
       "      (layers): Sequential(\n",
       "        (0): CausalConv1d(10, 10, kernel_size=(2,), stride=(1,), padding=(4,), dilation=(4,))\n",
       "        (1): Mish()\n",
       "      )\n",
       "    )\n",
       "  )\n",
       "  (final): Conv1d(10, 1, kernel_size=(1,), stride=(1,))\n",
       ")"
      ]
     },
     "execution_count": null,
     "metadata": {},
     "output_type": "execute_result"
    }
   ],
   "source": [
    "model"
   ]
  },
  {
   "cell_type": "code",
   "execution_count": null,
   "metadata": {},
   "outputs": [],
   "source": [
    "#export\n",
    "class SeperateTCN(nn.Module):\n",
    "    def __init__(self,input_list,output_size,hl_depth=1,hl_width=10,act = Mish,bn=False,stateful=False,final_layer=3):\n",
    "        super().__init__()\n",
    "        self.input_list =np.cumsum([0] + input_list)\n",
    "        \n",
    "        tcn_width = hl_width//len(input_list)\n",
    "        layers = [ [TCN_Block(n if i==0 else tcn_width,tcn_width,\n",
    "                                      dilation=2**(i),bn=bn,activation=act)\n",
    "                                          for i in range(hl_depth)]\n",
    "                        for n in input_list]\n",
    "        self.layers = nn.ModuleList([nn.Sequential(*l) for l in layers])\n",
    "        \n",
    "        self.rec_field = (2**hl_depth)-1\n",
    "        self.final = SeqLinear(tcn_width*len(input_list),output_size,hidden_size=hl_width,hidden_layer=final_layer)\n",
    "        self.x_init = None\n",
    "        self.stateful = stateful\n",
    "        \n",
    "    def forward(self, x):      \n",
    "        if self.x_init is not None:\n",
    "            if self.x_init.shape[0] != x.shape[0]: \n",
    "                self.x_init = None\n",
    "            elif self.stateful: \n",
    "                x = torch.cat([self.x_init,x],dim=1)\n",
    "        \n",
    "        tcn_out = [layer(x[...,self.input_list[i]:self.input_list[i+1]].transpose(1,2)) \n",
    "                   for i,layer in enumerate(self.layers)]\n",
    "        out = torch.cat(tcn_out,dim=1).transpose(1,2)\n",
    "        \n",
    "        out = self.final(out)\n",
    "        \n",
    "        if self.stateful:\n",
    "            if self.x_init is not None: out = out[:,self.rec_field:]\n",
    "            self.x_init = x[:,-self.rec_field:]\n",
    "            \n",
    "        return out\n",
    "    \n",
    "    def reset(self):\n",
    "        self.x_init = None"
   ]
  },
  {
   "cell_type": "markdown",
   "metadata": {},
   "source": [
    "## CRNNs"
   ]
  },
  {
   "cell_type": "code",
   "execution_count": null,
   "metadata": {},
   "outputs": [],
   "source": [
    "#export\n",
    "class CRNN(nn.Module):\n",
    "    def __init__(self,input_size,output_size,num_ft=10,num_cnn_layers=4,num_rnn_layers=2,hs_cnn=10,hs_rnn=10,\n",
    "         hidden_p=0, input_p=0, weight_p=0, rnn_type='gru',stateful=True,residual=True):\n",
    "        super().__init__()\n",
    "        self.cnn = TCN(input_size,num_ft,num_cnn_layers,hs_cnn,act=nn.ReLU,stateful=stateful)\n",
    "        self.rnn = SimpleRNN(num_ft,output_size,num_layers=num_rnn_layers,hidden_size=hs_rnn,\n",
    "                       hidden_p=hidden_p, input_p=input_p, weight_p=weight_p, \n",
    "                        rnn_type=rnn_type,stateful=stateful,residual=residual)\n",
    "        \n",
    "    def forward(self, x):\n",
    "        return self.rnn(self.cnn(x))\n",
    "    \n",
    "    def reset(self):\n",
    "        self.cnn.reset()\n",
    "        self.rnn.reset()"
   ]
  },
  {
   "cell_type": "code",
   "execution_count": null,
   "metadata": {},
   "outputs": [
    {
     "data": {
      "text/html": [
       "<table border=\"1\" class=\"dataframe\">\n",
       "  <thead>\n",
       "    <tr style=\"text-align: left;\">\n",
       "      <th>epoch</th>\n",
       "      <th>train_loss</th>\n",
       "      <th>valid_loss</th>\n",
       "      <th>time</th>\n",
       "    </tr>\n",
       "  </thead>\n",
       "  <tbody>\n",
       "    <tr>\n",
       "      <td>0</td>\n",
       "      <td>11.675570</td>\n",
       "      <td>10.716962</td>\n",
       "      <td>00:02</td>\n",
       "    </tr>\n",
       "  </tbody>\n",
       "</table>"
      ],
      "text/plain": [
       "<IPython.core.display.HTML object>"
      ]
     },
     "metadata": {},
     "output_type": "display_data"
    }
   ],
   "source": [
    "model = CRNN(2,1,10)\n",
    "lrn = Learner(db,model,loss_func=nn.MSELoss()).fit(1)"
   ]
  },
  {
   "cell_type": "code",
   "execution_count": null,
   "metadata": {},
   "outputs": [
    {
     "data": {
      "text/html": [
       "<table border=\"1\" class=\"dataframe\">\n",
       "  <thead>\n",
       "    <tr style=\"text-align: left;\">\n",
       "      <th>epoch</th>\n",
       "      <th>train_loss</th>\n",
       "      <th>valid_loss</th>\n",
       "      <th>time</th>\n",
       "    </tr>\n",
       "  </thead>\n",
       "  <tbody>\n",
       "    <tr>\n",
       "      <td>0</td>\n",
       "      <td>11.744118</td>\n",
       "      <td>10.658933</td>\n",
       "      <td>00:02</td>\n",
       "    </tr>\n",
       "  </tbody>\n",
       "</table>"
      ],
      "text/plain": [
       "<IPython.core.display.HTML object>"
      ]
     },
     "metadata": {},
     "output_type": "display_data"
    }
   ],
   "source": [
    "model = CRNN(2,1,10,rnn_type='gru')\n",
    "lrn = Learner(db,model,loss_func=nn.MSELoss()).fit(1)"
   ]
  },
  {
   "cell_type": "code",
   "execution_count": null,
   "metadata": {},
   "outputs": [],
   "source": [
    "#export\n",
    "class SeperateCRNN(nn.Module):\n",
    "    def __init__(self,input_list,output_size,num_ft=10,num_cnn_layers=4,num_rnn_layers=2,hs_cnn=10,hs_rnn=10,\n",
    "         hidden_p=0, input_p=0, weight_p=0, rnn_type='gru',stateful=True,residual=True):\n",
    "        super().__init__()\n",
    "        self.cnn = SeperateTCN(input_list,num_ft,num_cnn_layers,hs_cnn,act=nn.ReLU,stateful=stateful,final_layer=0)\n",
    "        self.rnn = SimpleRNN(num_ft,output_size,num_layers=num_rnn_layers,hidden_size=hs_rnn,\n",
    "                       hidden_p=hidden_p, input_p=input_p, weight_p=weight_p, \n",
    "                        rnn_type=rnn_type,stateful=stateful,residual=residual)\n",
    "        \n",
    "    def forward(self, x):\n",
    "        return self.rnn(self.cnn(x))\n",
    "    \n",
    "    def reset(self):\n",
    "        self.cnn.reset()\n",
    "        self.rnn.reset()"
   ]
  },
  {
   "cell_type": "markdown",
   "metadata": {},
   "source": [
    "## Autoregressive Models"
   ]
  },
  {
   "cell_type": "code",
   "execution_count": null,
   "metadata": {},
   "outputs": [],
   "source": [
    "#export\n",
    "class Normalizer1D(nn.Module):\n",
    "    _epsilon = 1e-16\n",
    "\n",
    "    def __init__(self, mean, std):\n",
    "        super(Normalizer1D, self).__init__()\n",
    "        self.register_buffer('std', std.clone().detach() + self._epsilon)\n",
    "        self.register_buffer('mean', mean.clone().detach())\n",
    "\n",
    "    def normalize(self, x):\n",
    "        return (x-self.mean)/self.std\n",
    "\n",
    "    def unnormalize(self, x):\n",
    "        return x*self.std + self.mean"
   ]
  },
  {
   "cell_type": "code",
   "execution_count": null,
   "metadata": {},
   "outputs": [],
   "source": [
    "#export\n",
    "class AR_Model(nn.Module):\n",
    "    def __init__(self,model,ar=True,rf=1,hs=False):\n",
    "        super().__init__()\n",
    "        self.model = model\n",
    "        self.ar = ar\n",
    "        self.rf = rf\n",
    "        self.hs = hs\n",
    "        self.norm = None\n",
    "        \n",
    "    def init_normalize(self, batch,axes = [0,1]):\n",
    "        x = batch[1]\n",
    "        mean = x.mean(axes, keepdim=True)\n",
    "        std = x.std(axes, keepdim=True)\n",
    "        self.norm = Normalizer1D(mean,std)\n",
    "        \n",
    "    def forward(self, u,y):\n",
    "        if self.ar:\n",
    "            y_e = torch.zeros_like(y)\n",
    "            hs = None\n",
    "            for i in range(y_e.shape[1]):\n",
    "                if i < self.rf:\n",
    "                    y_in = F.pad(y_e[:, :i], [0,0,self.rf-i, 0])\n",
    "                    u_in = F.pad(u[:, :i+1], [0,0,self.rf-i-1, 0])\n",
    "                else:\n",
    "                    y_in = y_e[:, i-self.rf:i]\n",
    "                    u_in = u[:, i-self.rf+1:i+1]\n",
    "                    \n",
    "                if self.norm is not None: y_in=self.norm.normalize(y_in)\n",
    "\n",
    "                x = torch.cat((u_in, y_in), 2)\n",
    "                \n",
    "                if self.hs:\n",
    "                    y_next,hs = self.model(x,hs)\n",
    "                else:\n",
    "                    y_next = self.model(x)\n",
    "                y_e[:, i] = y_next[:, -1]\n",
    "            return y_e\n",
    "        else:\n",
    "            y_in = F.pad(y[:,:-1,:],[0,0,1,0])\n",
    "            \n",
    "            if self.norm is not None: y_in=self.norm.normalize(y_in)\n",
    "            \n",
    "            x = torch.cat([u,y_in],dim=2)\n",
    "            if self.hs:\n",
    "                y_e,_ = self.model(x)\n",
    "            else:\n",
    "                y_e = self.model(x)\n",
    "            return y_e"
   ]
  },
  {
   "cell_type": "code",
   "execution_count": null,
   "metadata": {},
   "outputs": [],
   "source": [
    "#export\n",
    "@delegates(RNN, keep=True)\n",
    "class AR_RNN(nn.Module):\n",
    "    def __init__(self,input_size,output_size,num_layers=1,hidden_size=100,**kwargs):\n",
    "        super().__init__()\n",
    "        self.rnn = RNN(input_size=input_size,hidden_size=hidden_size,num_layers=num_layers,**kwargs)\n",
    "        self.final = nn.Conv1d(hidden_size,output_size,kernel_size=1)\n",
    "\n",
    "    def forward(self, x,init_state=None):\n",
    "#         out = x.transpose(1,2)\n",
    "        out,hs = self.rnn(x,init_state)\n",
    "#         import pdb; pdb.set_trace()\n",
    "        out = out.transpose(1,2)\n",
    "        out = self.final(out)\n",
    "        out = out.transpose(1,2)\n",
    "        return out,hs"
   ]
  },
  {
   "cell_type": "code",
   "execution_count": null,
   "metadata": {},
   "outputs": [],
   "source": [
    "model = AR_Model(AR_RNN(3,1),ar=True,hs=True)\n",
    "model.init_normalize(db.one_batch())"
   ]
  },
  {
   "cell_type": "code",
   "execution_count": null,
   "metadata": {},
   "outputs": [
    {
     "name": "stdout",
     "output_type": "stream",
     "text": [
      "Converted 00_core.ipynb.\n",
      "Converted 01_model.ipynb.\n",
      "Converted 02_learner.ipynb.\n",
      "Converted 03_tbptt_dl.ipynb.\n",
      "Converted 11_dualrnn.ipynb.\n",
      "Converted 12_TensorQuaternions.ipynb.\n",
      "Converted 13_PBT.ipynb.\n",
      "Converted index.ipynb.\n"
     ]
    }
   ],
   "source": [
    "#hide\n",
    "from nbdev.export import *\n",
    "notebook2script()"
   ]
  },
  {
   "cell_type": "code",
   "execution_count": null,
   "metadata": {},
   "outputs": [],
   "source": []
  }
 ],
 "metadata": {
  "kernelspec": {
   "display_name": "Python 3",
   "language": "python",
   "name": "python3"
  }
 },
 "nbformat": 4,
 "nbformat_minor": 4
}
