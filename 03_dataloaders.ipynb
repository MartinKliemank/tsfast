{
 "cells": [
  {
   "cell_type": "raw",
   "metadata": {},
   "source": [
    "---\n",
    "output-file: dataloaders.html\n",
    "title: Truncated Backpropagation Through Time\n",
    "\n",
    "---\n",
    "\n"
   ]
  },
  {
   "cell_type": "code",
   "execution_count": null,
   "metadata": {},
   "outputs": [],
   "source": [
    "#| default_exp dataloaders\n",
    "#| default_cls_lvl 3"
   ]
  },
  {
   "cell_type": "code",
   "execution_count": null,
   "metadata": {},
   "outputs": [],
   "source": [
    "#| include: false\n",
    "%matplotlib widget\n",
    "from fastai.callback.progress import *\n",
    "from fastai.callback.tracker import *\n",
    "from fastai.callback.schedule import *"
   ]
  },
  {
   "cell_type": "code",
   "execution_count": null,
   "metadata": {},
   "outputs": [
    {
     "name": "stdout",
     "output_type": "stream",
     "text": [
      "Library \"haste_pytorch\" not found\n"
     ]
    }
   ],
   "source": [
    "#| export\n",
    "from seqdata.core import *\n",
    "from seqdata.models.core import *\n",
    "from seqdata.learner import *\n",
    "from fastai.basics import *\n",
    "\n",
    "import math"
   ]
  },
  {
   "cell_type": "markdown",
   "metadata": {},
   "source": [
    "## Custom Dataloaders\n",
    "> Pytorch Modules for Training Models for sequential data"
   ]
  },
  {
   "cell_type": "markdown",
   "metadata": {},
   "source": [
    "The tbptt dataloader needs to split the minibatches that are created in several smaller minibatches that will be returned sequentially before the next minibatch may be created."
   ]
  },
  {
   "cell_type": "code",
   "execution_count": null,
   "metadata": {},
   "outputs": [],
   "source": [
    "#| export\n",
    "from torch.utils.data.dataloader import _MultiProcessingDataLoaderIter,_SingleProcessDataLoaderIter,_DatasetKind\n",
    "_loaders = (_MultiProcessingDataLoaderIter,_SingleProcessDataLoaderIter)\n",
    "\n",
    "@delegates()\n",
    "class TbpttDl(TfmdDL):\n",
    "\n",
    "    def __init__(self, dataset, sub_seq_len=None, seq_len = None ,shuffle=True,num_workers=2, **kwargs):\n",
    "#         assert sub_seq_len is not None\n",
    "        store_attr('sub_seq_len,seq_len')\n",
    "        self.rnn_reset = False\n",
    "        super().__init__(dataset=dataset, shuffle=shuffle, num_workers=num_workers, **kwargs)\n",
    "        \n",
    "    @property\n",
    "    def n_sub_seq(self):\n",
    "        if self.sub_seq_len is None: return 1\n",
    "        if self.seq_len is None: self.seq_len = self.do_item(0)[0].shape[0]\n",
    "        return math.ceil(self.seq_len / self.sub_seq_len)\n",
    "        \n",
    "    def __len__(self):\n",
    "        return super().__len__() * self.n_sub_seq\n",
    "    \n",
    "    def _next_worker(self,w_id):\n",
    "        w_id += 1\n",
    "        if w_id > self.fake_l.num_workers-1: w_id = 0\n",
    "        return w_id\n",
    "\n",
    "    def sample(self):\n",
    "        #replaced new fastai sample formulation that store __idxs in main process\n",
    "        return (b for i,b in enumerate(self.__idxs) if i//(self.bs or 1)%self.num_workers==self.offs)\n",
    "#         return (b for i,b in enumerate(self.get_idxs()) if i//(self.bs or 1)%self.num_workers==self.offs)\n",
    "            \n",
    "    def __iter__(self):\n",
    "        '''iterator that handles multiprocessing by caching samples that are generated out of order'''\n",
    "        self.randomize()\n",
    "        self.before_iter()\n",
    "        self.__idxs=self.get_idxs() # called in context of main process (not workers/subprocesses)\n",
    "        \n",
    "        n_buffer = self.fake_l.num_workers*self.n_sub_seq\n",
    "        queue = {n:[] for n in range(self.fake_l.num_workers)} \n",
    "        current_worker = None\n",
    "        idx = 0\n",
    "        for loaded_b,w_id in _loaders[self.fake_l.num_workers==0](self.fake_l):\n",
    "\n",
    "            if w_id is None:\n",
    "                self.rnn_reset=True\n",
    "                b= loaded_b\n",
    "                self.rnn_reset = (idx % self.n_sub_seq) == 0\n",
    "                yield self.after_batch(b if self.device is None else to_device(b, self.device))\n",
    "                idx += 1 #idx increments after every yield, not every loop\n",
    "            else:\n",
    "                if current_worker is None:\n",
    "                    current_worker = w_id\n",
    "                \n",
    "                #retrieve queued elements from worker\n",
    "                while len(queue[current_worker]) > 0:\n",
    "                    b = queue[current_worker].pop(0)\n",
    "                    self.rnn_reset = (idx % self.n_sub_seq) == 0\n",
    "                    yield self.after_batch(b if self.device is None else to_device(b, self.device))\n",
    "                    idx += 1\n",
    "                    if (idx % self.n_sub_seq) == 0:\n",
    "                        current_worker = self._next_worker(current_worker) #next worker, stay in loop for the queue\n",
    "                        \n",
    "                \n",
    "                #retrieve fresh elements from worker\n",
    "                if w_id != current_worker: #not active worker\n",
    "                    queue[w_id] += [loaded_b]\n",
    "                    continue\n",
    "                else:#active worker\n",
    "                    b = loaded_b\n",
    "                    self.rnn_reset = (idx % self.n_sub_seq) == 0\n",
    "                    yield self.after_batch(b if self.device is None else to_device(b, self.device))\n",
    "                    idx += 1 #idx increments after every yield, not every loop\n",
    "                    if (idx % self.n_sub_seq) == 0:\n",
    "                        current_worker = self._next_worker(current_worker)\n",
    "                \n",
    "        self.after_iter()\n",
    "        if hasattr(self, 'it'): del(self.it)\n",
    "    \n",
    "    def create_batches(self, samps):\n",
    "        yield from self._tbptt_generator(super().create_batches(samps))\n",
    "        \n",
    "    def _tbptt_generator(self,batch_iter):\n",
    "        '''generator function that splits batches in smaller windows, yields mini_batch and worker id'''\n",
    "        for b in batch_iter:\n",
    "            for i in range(self.n_sub_seq):\n",
    "                #it is importan to retain the tuple type, or future transforms may now work\n",
    "                if self.sub_seq_len is None:\n",
    "                    trunc_b = b\n",
    "                else:\n",
    "                    trunc_b = tuple([retain_type(x[:,i*self.sub_seq_len:(i+1)*self.sub_seq_len],x) for x in b])\n",
    "                yield trunc_b, (None if torch.utils.data.get_worker_info() is None else torch.utils.data.get_worker_info().id)\n",
    "        "
   ]
  },
  {
   "cell_type": "code",
   "execution_count": null,
   "metadata": {},
   "outputs": [],
   "source": [
    "tfm_lst = [DfHDFCreateWindows(win_sz=1000+1,stp_sz=1000,clm='current')]\n",
    "seq = DataBlock(blocks=(SequenceBlock.from_hdf(['current','voltage'],TensorSequencesInput,clm_shift=[-1,-1]),\n",
    "                        SequenceBlock.from_hdf(['voltage'],TensorSequencesOutput,clm_shift=[1])),\n",
    "                 get_items=CreateDict(tfm_lst),\n",
    "                 splitter=ApplyToDict(ParentSplitter()))\n",
    "db = seq.dataloaders(get_hdf_files('test_data/battery'),dl_type=TbpttDl,sub_seq_len=100,num_workers=6)"
   ]
  },
  {
   "cell_type": "code",
   "execution_count": null,
   "metadata": {},
   "outputs": [],
   "source": [
    "l = [array(x[-1][0,:,0].cpu()) for x in db.train]"
   ]
  },
  {
   "cell_type": "code",
   "execution_count": null,
   "metadata": {},
   "outputs": [
    {
     "data": {
      "text/plain": [
       "[<matplotlib.lines.Line2D>]"
      ]
     },
     "execution_count": null,
     "metadata": {},
     "output_type": "execute_result"
    },
    {
     "data": {
      "application/vnd.jupyter.widget-view+json": {
       "model_id": "8259e6050dff46ac914c5b33b3260448",
       "version_major": 2,
       "version_minor": 0
      },
      "image/png": "[encoded data removed]",
      "text/html": [
       "\n",
       "            <div style=\"display: inline-block;\">\n",
       "                <div class=\"jupyter-widgets widget-label\" style=\"text-align: center;\">\n",
       "                    Figure\n",
       "                </div>\n",
       "                <img src='data:image/png;base64,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' width=640.0/>\n",
       "            </div>\n",
       "        "
      ],
      "text/plain": [
       "Canvas(toolbar=Toolbar(toolitems=[('Home', 'Reset original view', 'home', 'home'), ('Back', 'Back to previous …"
      ]
     },
     "metadata": {},
     "output_type": "display_data"
    }
   ],
   "source": [
    "plt.figure()\n",
    "plt.plot(np.concatenate(l))"
   ]
  },
  {
   "cell_type": "markdown",
   "metadata": {},
   "source": [
    "num_workers has to be 0. If there are parallel workers, the order of minibatches will be corrupted"
   ]
  },
  {
   "cell_type": "markdown",
   "metadata": {},
   "source": [
    "## TBPTT_Reset_Callback\n",
    "The stateful model needs to reset its hidden state, when a new sequence begins. The callback reads the reset flag and acts accordingly."
   ]
  },
  {
   "cell_type": "code",
   "execution_count": null,
   "metadata": {},
   "outputs": [],
   "source": [
    "#| export\n",
    "def reset_model_state(model):\n",
    "    for m in model.modules():\n",
    "        if hasattr(m,'reset_state'): m.reset_state()"
   ]
  },
  {
   "cell_type": "code",
   "execution_count": null,
   "metadata": {},
   "outputs": [],
   "source": [
    "#| export\n",
    "class TbpttResetCB(Callback):\n",
    "    \"`Callback` resets the rnn model with every new sequence for tbptt, calls `reset_state` in every module of the model\"\n",
    "        \n",
    "    def before_batch(self):\n",
    "        dl = self.learn.dls.train if self.training else self.learn.dls.valid\n",
    "#         if not self.training: import pdb; pdb.set_trace()\n",
    "        if (hasattr(dl,'rnn_reset') and dl.rnn_reset) or not hasattr(dl,'rnn_reset'):\n",
    "            reset_model_state(self.learn.model)\n",
    "        \n",
    "    def after_fit(self): \n",
    "        reset_model_state(self.learn.model)"
   ]
  },
  {
   "cell_type": "markdown",
   "metadata": {},
   "source": [
    "## Example"
   ]
  },
  {
   "cell_type": "code",
   "execution_count": null,
   "metadata": {},
   "outputs": [
    {
     "data": {
      "text/plain": [
       "<fastai.learner.Learner>"
      ]
     },
     "execution_count": null,
     "metadata": {},
     "output_type": "execute_result"
    }
   ],
   "source": [
    "lrn = RNNLearner(db,num_layers=1,rnn_type='gru',stateful=False,metrics=[SkipNLoss(fun_rmse,1),fun_rmse])\n",
    "lrn.add_cb(TbpttResetCB())"
   ]
  },
  {
   "cell_type": "code",
   "execution_count": null,
   "metadata": {},
   "outputs": [
    {
     "data": {
      "text/html": [
       "\n",
       "<style>\n",
       "    /* Turns off some styling */\n",
       "    progress {\n",
       "        /* gets rid of default border in Firefox and Opera. */\n",
       "        border: none;\n",
       "        /* Needs to be in here for Safari polyfill so background images work as expected. */\n",
       "        background-size: auto;\n",
       "    }\n",
       "    progress:not([value]), progress:not([value])::-webkit-progress-bar {\n",
       "        background: repeating-linear-gradient(45deg, #7e7e7e, #7e7e7e 10px, #5c5c5c 10px, #5c5c5c 20px);\n",
       "    }\n",
       "    .progress-bar-interrupted, .progress-bar-interrupted::-webkit-progress-bar {\n",
       "        background: #F44336;\n",
       "    }\n",
       "</style>\n"
      ],
      "text/plain": [
       "<IPython.core.display.HTML object>"
      ]
     },
     "metadata": {},
     "output_type": "display_data"
    },
    {
     "data": {
      "text/html": [
       "<table border=\"1\" class=\"dataframe\">\n",
       "  <thead>\n",
       "    <tr style=\"text-align: left;\">\n",
       "      <th>epoch</th>\n",
       "      <th>train_loss</th>\n",
       "      <th>valid_loss</th>\n",
       "      <th>fun_rmse</th>\n",
       "      <th>fun_rmse</th>\n",
       "      <th>time</th>\n",
       "    </tr>\n",
       "  </thead>\n",
       "  <tbody>\n",
       "    <tr>\n",
       "      <td>0</td>\n",
       "      <td>1.365289</td>\n",
       "      <td>0.193218</td>\n",
       "      <td>0.300228</td>\n",
       "      <td>0.439543</td>\n",
       "      <td>00:05</td>\n",
       "    </tr>\n",
       "  </tbody>\n",
       "</table>"
      ],
      "text/plain": [
       "<IPython.core.display.HTML object>"
      ]
     },
     "metadata": {},
     "output_type": "display_data"
    }
   ],
   "source": [
    "lrn.fit_one_cycle(1,lr_max=3e-2)"
   ]
  },
  {
   "cell_type": "code",
   "execution_count": null,
   "metadata": {},
   "outputs": [],
   "source": [
    "db.train.sub_seq_len = 10"
   ]
  },
  {
   "cell_type": "code",
   "execution_count": null,
   "metadata": {},
   "outputs": [
    {
     "data": {
      "text/html": [
       "\n",
       "<style>\n",
       "    /* Turns off some styling */\n",
       "    progress {\n",
       "        /* gets rid of default border in Firefox and Opera. */\n",
       "        border: none;\n",
       "        /* Needs to be in here for Safari polyfill so background images work as expected. */\n",
       "        background-size: auto;\n",
       "    }\n",
       "    progress:not([value]), progress:not([value])::-webkit-progress-bar {\n",
       "        background: repeating-linear-gradient(45deg, #7e7e7e, #7e7e7e 10px, #5c5c5c 10px, #5c5c5c 20px);\n",
       "    }\n",
       "    .progress-bar-interrupted, .progress-bar-interrupted::-webkit-progress-bar {\n",
       "        background: #F44336;\n",
       "    }\n",
       "</style>\n"
      ],
      "text/plain": [
       "<IPython.core.display.HTML object>"
      ]
     },
     "metadata": {},
     "output_type": "display_data"
    },
    {
     "data": {
      "text/html": [
       "<table border=\"1\" class=\"dataframe\">\n",
       "  <thead>\n",
       "    <tr style=\"text-align: left;\">\n",
       "      <th>epoch</th>\n",
       "      <th>train_loss</th>\n",
       "      <th>valid_loss</th>\n",
       "      <th>fun_rmse</th>\n",
       "      <th>fun_rmse</th>\n",
       "      <th>time</th>\n",
       "    </tr>\n",
       "  </thead>\n",
       "  <tbody>\n",
       "    <tr>\n",
       "      <td>0</td>\n",
       "      <td>0.000027</td>\n",
       "      <td>0.000255</td>\n",
       "      <td>0.014655</td>\n",
       "      <td>0.014600</td>\n",
       "      <td>00:07</td>\n",
       "    </tr>\n",
       "  </tbody>\n",
       "</table>"
      ],
      "text/plain": [
       "<IPython.core.display.HTML object>"
      ]
     },
     "metadata": {},
     "output_type": "display_data"
    }
   ],
   "source": [
    "lrn.fit_one_cycle(1,lr_max=3e-2)"
   ]
  },
  {
   "cell_type": "markdown",
   "metadata": {},
   "source": [
    "# Weighted Sampling Dataloader"
   ]
  },
  {
   "cell_type": "markdown",
   "metadata": {},
   "source": [
    "A weighted sampling dataloader for nonuniforly distributed data. A factory method receives the base Dataloader class and returns the inherited weighted sampling dataloader class"
   ]
  },
  {
   "cell_type": "code",
   "execution_count": null,
   "metadata": {},
   "outputs": [],
   "source": [
    "#| export\n",
    "def WeightedDL_Factory(cls):\n",
    "    '''\n",
    "    Weighted Dataloader that provides control over sampling probabilities.\n",
    "    wgts: probability array with probability for every item\n",
    "            gets extracted from the pandas 'p_sample' column if given. \n",
    "            Otherwise uniform sampling will be enabled\n",
    "        \n",
    "    '''\n",
    "    assert issubclass(cls, TfmdDL)\n",
    "    \n",
    "    class WeightedDL(cls):\n",
    "        def __init__(self, dataset, wgts=None, **kwargs):\n",
    "#             import pdb;pdb.set_trace()\n",
    "            self.wgts = None\n",
    "            #self.items need to be assigned, but super.init needs wgts allready assigned\n",
    "            super().__init__(dataset=dataset, **kwargs) \n",
    "            if wgts is None:\n",
    "                if (isinstance(self.items,pd.DataFrame) and\n",
    "                    len(self.items) > 0 and \n",
    "                    'p_sample' in self.items):\n",
    "                    self.wgts = self.items.p_sample.to_numpy()\n",
    "                    self.wgts = self.wgts/self.wgts.sum()\n",
    "                elif (isinstance(self.items,Iterable) and\n",
    "                    len(self.items) > 0 and \n",
    "                    hasattr(self.items[0],'keys') and \n",
    "                    'p_sample' in self.items[0].keys()):\n",
    "                    self.wgts = np.array([x['p_sample'] for x in self.items])\n",
    "                    self.wgts = self.wgts/self.wgts.sum()\n",
    "                else:\n",
    "                    print('No wgts provided for WeightedDL. Was that intentional?')\n",
    "            else:\n",
    "                self.wgts = wgts/np.sum(wgts)\n",
    "\n",
    "        def get_idxs(self):\n",
    "            if self.n==0: return []\n",
    "            if not self.shuffle or self.wgts is None: return super().get_idxs()\n",
    "            #calculate number of elements with length of the dataset, for batch truncation\n",
    "            idxs = list(np.random.choice(self.n, size=len(self)*self.bs, p=self.wgts))\n",
    "            return idxs\n",
    "    return WeightedDL"
   ]
  },
  {
   "cell_type": "code",
   "execution_count": null,
   "metadata": {},
   "outputs": [],
   "source": [
    "dl = WeightedDL_Factory(TfmdDL)([1,2]*5,bs=10,wgts=[2,1]*5)"
   ]
  },
  {
   "cell_type": "code",
   "execution_count": null,
   "metadata": {},
   "outputs": [
    {
     "data": {
      "text/plain": [
       "array([0.13333333, 0.06666667, 0.13333333, 0.06666667, 0.13333333,\n",
       "       0.06666667, 0.13333333, 0.06666667, 0.13333333, 0.06666667])"
      ]
     },
     "execution_count": null,
     "metadata": {},
     "output_type": "execute_result"
    }
   ],
   "source": [
    "dl.wgts"
   ]
  },
  {
   "cell_type": "code",
   "execution_count": null,
   "metadata": {},
   "outputs": [
    {
     "data": {
      "text/plain": [
       "tensor([1, 2, 1, 2, 1, 2, 1, 2, 1, 2])"
      ]
     },
     "execution_count": null,
     "metadata": {},
     "output_type": "execute_result"
    }
   ],
   "source": [
    "dl.one_batch()"
   ]
  },
  {
   "cell_type": "markdown",
   "metadata": {},
   "source": [
    "## ItemLst Transform for weight calculation"
   ]
  },
  {
   "cell_type": "code",
   "execution_count": null,
   "metadata": {},
   "outputs": [],
   "source": [
    "#| export\n",
    "def uniform_p_of_category(cat_name):  \n",
    "    '''Scales sampling weights for an even distribution between every category'''\n",
    "    def _inner(df):\n",
    "        if 'p_sample' in df:\n",
    "            df_targ = df.drop('p_sample',axis='columns')\n",
    "        else:\n",
    "            df_targ = df\n",
    "            \n",
    "        counts = df_targ[cat_name].value_counts()\n",
    "        sample_prob =  1/counts\n",
    "        sample_prob.name = 'p_sample'\n",
    "        df_res = df_targ.merge(sample_prob,left_on=cat_name,right_index=True)\n",
    "        \n",
    "        if 'p_sample' in df: \n",
    "            df_res.p_sample = df_res.p_sample* df.p_sample.values\n",
    "            \n",
    "        df_res.p_sample /= df_res.p_sample.sum()\n",
    "            \n",
    "        return df_res\n",
    "    \n",
    "    return _inner"
   ]
  },
  {
   "cell_type": "code",
   "execution_count": null,
   "metadata": {},
   "outputs": [],
   "source": [
    "#| export\n",
    "def uniform_p_of_float(var_name,bins = 10):\n",
    "    '''Scales sampling weights for an even distribution of the continous variable by creating equi sized bins'''\n",
    "    def _inner(df):\n",
    "        if 'p_sample' in df:\n",
    "            df_targ = df.drop('p_sample',axis='columns')\n",
    "        else:\n",
    "            df_targ = df\n",
    "            \n",
    "        df_targ['bins'] = pd.cut(df_targ[var_name], bins)\n",
    "        counts = df_targ['bins'].value_counts()\n",
    "        sample_prob =  1/counts\n",
    "        sample_prob.name = 'p_sample'\n",
    "        df_res = df_targ.merge(sample_prob,left_on='bins',right_index=True)\n",
    "        df_res.drop(['bins'],axis='columns',inplace=True)\n",
    "        \n",
    "        if 'p_sample' in df: \n",
    "            df_res.p_sample = df_res.p_sample* df.p_sample.values\n",
    "            \n",
    "        df_res.p_sample /= df_res.p_sample.sum()\n",
    "        \n",
    "        return df_res\n",
    "\n",
    "    return _inner"
   ]
  },
  {
   "cell_type": "code",
   "execution_count": null,
   "metadata": {},
   "outputs": [],
   "source": [
    "#| export\n",
    "def uniform_p_of_float_with_gaps(var_name,bins = 100):\n",
    "    '''Scales sampling weights for an even distribution of the continous variable by creating equi sized bins'''\n",
    "    def _inner(df):\n",
    "        if 'p_sample' in df:\n",
    "            df_targ = df.drop('p_sample',axis='columns')\n",
    "        else:\n",
    "            df_targ = df\n",
    "            \n",
    "        l = df_targ[var_name].max()-df_targ[var_name].min() #value range\n",
    "        df_targ['bins'] = pd.qcut(df_targ[var_name],bins,duplicates='drop') #bins with rougly the same size\n",
    "        df_targ['p_sample'] =  df_targ['bins'].apply(lambda x: x.length).astype('f8')/l #sample_prob by bin width\n",
    "        sample_prob =  1/df_targ['bins'].value_counts() #correct uneven bin distribution\n",
    "        sample_prob.name = 'p_sample_correction'\n",
    "        df_res = df_targ.merge(sample_prob,left_on='bins',right_index=True)\n",
    "        \n",
    "        df_res.p_sample *= df_res.p_sample_correction\n",
    "        df_res.drop(['bins','p_sample_correction'],axis='columns',inplace=True)\n",
    "\n",
    "        if 'p_sample' in df: \n",
    "            df_res.p_sample = df_res.p_sample* df.p_sample.values\n",
    "            \n",
    "        df_res.p_sample /= df_res.p_sample.sum()\n",
    "        \n",
    "        return df_res\n",
    "\n",
    "    return _inner"
   ]
  },
  {
   "cell_type": "code",
   "execution_count": null,
   "metadata": {},
   "outputs": [],
   "source": [
    "def train_valid(df):   \n",
    "    ''' test function that extracts valid and train from the path string'''\n",
    "    df['train'] = df.path.astype(str).str.contains('train',regex=False)\n",
    "    return df"
   ]
  },
  {
   "cell_type": "code",
   "execution_count": null,
   "metadata": {},
   "outputs": [
    {
     "data": {
      "text/html": [
       "<div>\n",
       "<style scoped>\n",
       "    .dataframe tbody tr th:only-of-type {\n",
       "        vertical-align: middle;\n",
       "    }\n",
       "\n",
       "    .dataframe tbody tr th {\n",
       "        vertical-align: top;\n",
       "    }\n",
       "\n",
       "    .dataframe thead th {\n",
       "        text-align: right;\n",
       "    }\n",
       "</style>\n",
       "<table border=\"1\" class=\"dataframe\">\n",
       "  <thead>\n",
       "    <tr style=\"text-align: right;\">\n",
       "      <th></th>\n",
       "      <th>path</th>\n",
       "      <th>train</th>\n",
       "      <th>l_slc</th>\n",
       "      <th>r_slc</th>\n",
       "      <th>p_sample</th>\n",
       "    </tr>\n",
       "  </thead>\n",
       "  <tbody>\n",
       "    <tr>\n",
       "      <th>0</th>\n",
       "      <td>test_data/train/Sim_RealisticCycle1.hdf5</td>\n",
       "      <td>True</td>\n",
       "      <td>0</td>\n",
       "      <td>1001</td>\n",
       "      <td>0.000620</td>\n",
       "    </tr>\n",
       "    <tr>\n",
       "      <th>0</th>\n",
       "      <td>test_data/train/Sim_RealisticCycle1.hdf5</td>\n",
       "      <td>True</td>\n",
       "      <td>1000</td>\n",
       "      <td>2001</td>\n",
       "      <td>0.000620</td>\n",
       "    </tr>\n",
       "    <tr>\n",
       "      <th>0</th>\n",
       "      <td>test_data/train/Sim_RealisticCycle1.hdf5</td>\n",
       "      <td>True</td>\n",
       "      <td>2000</td>\n",
       "      <td>3001</td>\n",
       "      <td>0.000620</td>\n",
       "    </tr>\n",
       "    <tr>\n",
       "      <th>1</th>\n",
       "      <td>test_data/train/Sim_RealisticCycle2.hdf5</td>\n",
       "      <td>True</td>\n",
       "      <td>0</td>\n",
       "      <td>1001</td>\n",
       "      <td>0.000620</td>\n",
       "    </tr>\n",
       "    <tr>\n",
       "      <th>1</th>\n",
       "      <td>test_data/train/Sim_RealisticCycle2.hdf5</td>\n",
       "      <td>True</td>\n",
       "      <td>1000</td>\n",
       "      <td>2001</td>\n",
       "      <td>0.000620</td>\n",
       "    </tr>\n",
       "    <tr>\n",
       "      <th>...</th>\n",
       "      <td>...</td>\n",
       "      <td>...</td>\n",
       "      <td>...</td>\n",
       "      <td>...</td>\n",
       "      <td>...</td>\n",
       "    </tr>\n",
       "    <tr>\n",
       "      <th>0</th>\n",
       "      <td>test_data/train/Sim_RealisticCycle1.hdf5</td>\n",
       "      <td>True</td>\n",
       "      <td>264000</td>\n",
       "      <td>265001</td>\n",
       "      <td>0.001859</td>\n",
       "    </tr>\n",
       "    <tr>\n",
       "      <th>1</th>\n",
       "      <td>test_data/train/Sim_RealisticCycle2.hdf5</td>\n",
       "      <td>True</td>\n",
       "      <td>263000</td>\n",
       "      <td>264001</td>\n",
       "      <td>0.001859</td>\n",
       "    </tr>\n",
       "    <tr>\n",
       "      <th>1</th>\n",
       "      <td>test_data/train/Sim_RealisticCycle2.hdf5</td>\n",
       "      <td>True</td>\n",
       "      <td>264000</td>\n",
       "      <td>265001</td>\n",
       "      <td>0.001859</td>\n",
       "    </tr>\n",
       "    <tr>\n",
       "      <th>2</th>\n",
       "      <td>test_data/valid/Sim_RealisticCycle3.hdf5</td>\n",
       "      <td>False</td>\n",
       "      <td>263000</td>\n",
       "      <td>264001</td>\n",
       "      <td>0.001859</td>\n",
       "    </tr>\n",
       "    <tr>\n",
       "      <th>2</th>\n",
       "      <td>test_data/valid/Sim_RealisticCycle3.hdf5</td>\n",
       "      <td>False</td>\n",
       "      <td>264000</td>\n",
       "      <td>265001</td>\n",
       "      <td>0.001859</td>\n",
       "    </tr>\n",
       "  </tbody>\n",
       "</table>\n",
       "<p>795 rows × 5 columns</p>\n",
       "</div>"
      ],
      "text/plain": [
       "                                        path  train   l_slc   r_slc  p_sample\n",
       "0   test_data/train/Sim_RealisticCycle1.hdf5   True       0    1001  0.000620\n",
       "0   test_data/train/Sim_RealisticCycle1.hdf5   True    1000    2001  0.000620\n",
       "0   test_data/train/Sim_RealisticCycle1.hdf5   True    2000    3001  0.000620\n",
       "1   test_data/train/Sim_RealisticCycle2.hdf5   True       0    1001  0.000620\n",
       "1   test_data/train/Sim_RealisticCycle2.hdf5   True    1000    2001  0.000620\n",
       "..                                       ...    ...     ...     ...       ...\n",
       "0   test_data/train/Sim_RealisticCycle1.hdf5   True  264000  265001  0.001859\n",
       "1   test_data/train/Sim_RealisticCycle2.hdf5   True  263000  264001  0.001859\n",
       "1   test_data/train/Sim_RealisticCycle2.hdf5   True  264000  265001  0.001859\n",
       "2   test_data/valid/Sim_RealisticCycle3.hdf5  False  263000  264001  0.001859\n",
       "2   test_data/valid/Sim_RealisticCycle3.hdf5  False  264000  265001  0.001859\n",
       "\n",
       "[795 rows x 5 columns]"
      ]
     },
     "execution_count": null,
     "metadata": {},
     "output_type": "execute_result"
    }
   ],
   "source": [
    "# %%time\n",
    "tfm_lst = [train_valid, DfHDFCreateWindows(win_sz=1000+1,stp_sz=1000,clm='current') ,uniform_p_of_category('train'),uniform_p_of_float('l_slc'),uniform_p_of_float_with_gaps('r_slc')]\n",
    "apply_df_tfms(get_hdf_files('test_data/battery'),tfm_lst) "
   ]
  },
  {
   "cell_type": "code",
   "execution_count": null,
   "metadata": {},
   "outputs": [],
   "source": [
    "seq = DataBlock(blocks=(SequenceBlock.from_hdf(['current','voltage'],TensorSequencesInput,clm_shift=[-1,-1]),\n",
    "                        SequenceBlock.from_hdf(['voltage'],TensorSequencesOutput,clm_shift=[1])),\n",
    "                 get_items=CreateDict(tfm_lst),\n",
    "                 splitter=ApplyToDict(ParentSplitter()))\n",
    "# db = seq.dataloaders(get_hdf_files('test_data/battery'),dl_type=TbpttDl,sub_seq_len=200)\n",
    "db = seq.dataloaders(get_hdf_files('test_data/battery'),dl_type=WeightedDL_Factory(TbpttDl),sub_seq_len=500)"
   ]
  },
  {
   "cell_type": "code",
   "execution_count": null,
   "metadata": {},
   "outputs": [
    {
     "data": {
      "text/plain": [
       "(530,)"
      ]
     },
     "execution_count": null,
     "metadata": {},
     "output_type": "execute_result"
    }
   ],
   "source": [
    "db.train.wgts.shape"
   ]
  },
  {
   "cell_type": "code",
   "execution_count": null,
   "metadata": {},
   "outputs": [
    {
     "data": {
      "text/plain": [
       "(array([0.00093157, 0.00093157, 0.00093157, 0.00093157, 0.00093157]),\n",
       " array([0.00184989, 0.00184989, 0.00184989, 0.00277484, 0.00277484]))"
      ]
     },
     "execution_count": null,
     "metadata": {},
     "output_type": "execute_result"
    }
   ],
   "source": [
    "db.train.wgts[:5],db.valid.wgts[:5]"
   ]
  },
  {
   "cell_type": "code",
   "execution_count": null,
   "metadata": {},
   "outputs": [
    {
     "data": {
      "text/html": [
       "\n",
       "<style>\n",
       "    /* Turns off some styling */\n",
       "    progress {\n",
       "        /* gets rid of default border in Firefox and Opera. */\n",
       "        border: none;\n",
       "        /* Needs to be in here for Safari polyfill so background images work as expected. */\n",
       "        background-size: auto;\n",
       "    }\n",
       "    progress:not([value]), progress:not([value])::-webkit-progress-bar {\n",
       "        background: repeating-linear-gradient(45deg, #7e7e7e, #7e7e7e 10px, #5c5c5c 10px, #5c5c5c 20px);\n",
       "    }\n",
       "    .progress-bar-interrupted, .progress-bar-interrupted::-webkit-progress-bar {\n",
       "        background: #F44336;\n",
       "    }\n",
       "</style>\n"
      ],
      "text/plain": [
       "<IPython.core.display.HTML object>"
      ]
     },
     "metadata": {},
     "output_type": "display_data"
    },
    {
     "data": {
      "text/html": [
       "<table border=\"1\" class=\"dataframe\">\n",
       "  <thead>\n",
       "    <tr style=\"text-align: left;\">\n",
       "      <th>epoch</th>\n",
       "      <th>train_loss</th>\n",
       "      <th>valid_loss</th>\n",
       "      <th>fun_rmse</th>\n",
       "      <th>fun_rmse</th>\n",
       "      <th>time</th>\n",
       "    </tr>\n",
       "  </thead>\n",
       "  <tbody>\n",
       "    <tr>\n",
       "      <td>0</td>\n",
       "      <td>5.649451</td>\n",
       "      <td>0.408455</td>\n",
       "      <td>0.603849</td>\n",
       "      <td>0.620024</td>\n",
       "      <td>00:03</td>\n",
       "    </tr>\n",
       "  </tbody>\n",
       "</table>"
      ],
      "text/plain": [
       "<IPython.core.display.HTML object>"
      ]
     },
     "metadata": {},
     "output_type": "display_data"
    }
   ],
   "source": [
    "lrn = RNNLearner(db,num_layers=1,rnn_type='gru',stateful=False,metrics=[SkipNLoss(fun_rmse,1),fun_rmse])\n",
    "lrn.add_cb(TbpttResetCB())\n",
    "lrn.fit_one_cycle(1,lr_max=3e-2)"
   ]
  },
  {
   "cell_type": "markdown",
   "metadata": {},
   "source": [
    "# Mini Batch Limiter Dataloader"
   ]
  },
  {
   "cell_type": "markdown",
   "metadata": {},
   "source": [
    "A weighted sampling dataloader for nonuniforly distributed data. A factory method receives the base Dataloader class and returns the inherited weighted sampling dataloader class"
   ]
  },
  {
   "cell_type": "code",
   "execution_count": null,
   "metadata": {},
   "outputs": [],
   "source": [
    "#| export\n",
    "def BatchLimit_Factory(cls):\n",
    "    '''\n",
    "    Batch limited Dataloader that provides an upper limit for the number of mini batches per epoch\n",
    "    max_batches: upper limit for minibatch count per epoch\n",
    "        \n",
    "    '''\n",
    "    assert issubclass(cls, TfmdDL)\n",
    "    \n",
    "    class BatchLimitDL(cls):\n",
    "        def __init__(self, dataset, max_batches=None, **kwargs):\n",
    "            self.max_batches = max_batches\n",
    "            # kwargs['n'] = max_batches*kwargs['bs'] n has to remain the full size, in order to create all indices if shuffled\n",
    "            super().__init__(dataset=dataset, **kwargs)\n",
    "\n",
    "        def __len__(self):\n",
    "            l = super().__len__() \n",
    "            if self.max_batches is not None: l = min(l,self.max_batches)\n",
    "            return l\n",
    "\n",
    "        def __iter__(self):\n",
    "            if self.max_batches is None: \n",
    "                yield from super().__iter__()\n",
    "            else:\n",
    "                for idx,b in enumerate(super().__iter__()):\n",
    "                    if idx >= self.max_batches: break\n",
    "                    yield b\n",
    "                    \n",
    "        #shuffle function that is called in super().get_idxs, truncated for faster execution\n",
    "        def shuffle_fn(self, idxs): return self.rng.sample(idxs, min(len(self)*self.bs,len(idxs)))\n",
    "                    \n",
    "        #get_idxs is truncated for the non-shuffling case, otherwise shuffle_fn is already truncated\n",
    "        def get_idxs(self):\n",
    "            return super().get_idxs()[:len(self)*self.bs]\n",
    "\n",
    "    return BatchLimitDL"
   ]
  },
  {
   "cell_type": "code",
   "execution_count": null,
   "metadata": {},
   "outputs": [],
   "source": [
    "dl = BatchLimit_Factory(TfmdDL)([1,2]*5,bs=2,max_batches=3,shuffle=False)"
   ]
  },
  {
   "cell_type": "code",
   "execution_count": null,
   "metadata": {},
   "outputs": [
    {
     "data": {
      "text/plain": [
       "3"
      ]
     },
     "execution_count": null,
     "metadata": {},
     "output_type": "execute_result"
    }
   ],
   "source": [
    "len(dl)"
   ]
  },
  {
   "cell_type": "code",
   "execution_count": null,
   "metadata": {},
   "outputs": [
    {
     "data": {
      "text/plain": [
       "[0, 1, 2, 3, 4, 5]"
      ]
     },
     "execution_count": null,
     "metadata": {},
     "output_type": "execute_result"
    }
   ],
   "source": [
    "dl.get_idxs()"
   ]
  },
  {
   "cell_type": "code",
   "execution_count": null,
   "metadata": {},
   "outputs": [
    {
     "data": {
      "text/plain": [
       "[2, 7, 8, 4, 3, 1]"
      ]
     },
     "execution_count": null,
     "metadata": {},
     "output_type": "execute_result"
    }
   ],
   "source": [
    "BatchLimit_Factory(TfmdDL)([1,2]*5,bs=2,max_batches=3,shuffle=True).get_idxs()"
   ]
  },
  {
   "cell_type": "code",
   "execution_count": null,
   "metadata": {},
   "outputs": [
    {
     "data": {
      "text/plain": [
       "[tensor([1, 2]), tensor([1, 2]), tensor([1, 2])]"
      ]
     },
     "execution_count": null,
     "metadata": {},
     "output_type": "execute_result"
    }
   ],
   "source": [
    "[x for x in dl]"
   ]
  },
  {
   "cell_type": "code",
   "execution_count": null,
   "metadata": {},
   "outputs": [
    {
     "data": {
      "text/plain": [
       "3"
      ]
     },
     "execution_count": null,
     "metadata": {},
     "output_type": "execute_result"
    }
   ],
   "source": [
    "len(dl)"
   ]
  },
  {
   "cell_type": "code",
   "execution_count": null,
   "metadata": {},
   "outputs": [],
   "source": [
    "#| include: false\n",
    "import nbdev; nbdev.nbdev_export()"
   ]
  },
  {
   "cell_type": "code",
   "execution_count": null,
   "metadata": {},
   "outputs": [],
   "source": []
  }
 ],
 "metadata": {
  "kernelspec": {
   "display_name": "python3",
   "language": "python",
   "name": "python3"
  }
 },
 "nbformat": 4,
 "nbformat_minor": 4
}
