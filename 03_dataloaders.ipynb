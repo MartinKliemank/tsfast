{
 "cells": [
  {
   "cell_type": "raw",
   "metadata": {},
   "source": [
    "---\n",
    "output-file: dataloaders.html\n",
    "title: Truncated Backpropagation Through Time\n",
    "\n",
    "---\n",
    "\n"
   ]
  },
  {
   "cell_type": "code",
   "execution_count": 2,
   "metadata": {},
   "outputs": [],
   "source": [
    "#| default_exp dataloaders\n",
    "#| default_cls_lvl 3"
   ]
  },
  {
   "cell_type": "code",
   "execution_count": 3,
   "metadata": {},
   "outputs": [],
   "source": [
    "#| include: false\n",
    "%matplotlib widget\n",
    "from fastai.callback.progress import *\n",
    "from fastai.callback.tracker import *\n",
    "from fastai.callback.schedule import *"
   ]
  },
  {
   "cell_type": "code",
   "execution_count": 4,
   "metadata": {},
   "outputs": [
    {
     "name": "stdout",
     "output_type": "stream",
     "text": [
      "Library \"haste_pytorch\" not found\n"
     ]
    }
   ],
   "source": [
    "#| export\n",
    "from seqdata.core import *\n",
    "from seqdata.models.core import *\n",
    "from seqdata.learner import *\n",
    "from fastai.basics import *\n",
    "\n",
    "import math"
   ]
  },
  {
   "attachments": {},
   "cell_type": "markdown",
   "metadata": {},
   "source": [
    "## Custom Dataloaders\n",
    "> Pytorch Modules for Training Models for sequential data"
   ]
  },
  {
   "attachments": {},
   "cell_type": "markdown",
   "metadata": {},
   "source": [
    "The tbptt dataloader needs to split the minibatches that are created in several smaller minibatches that will be returned sequentially before the next minibatch may be created."
   ]
  },
  {
   "cell_type": "code",
   "execution_count": 5,
   "metadata": {},
   "outputs": [],
   "source": [
    "#| export\n",
    "from torch.utils.data.dataloader import _MultiProcessingDataLoaderIter,_SingleProcessDataLoaderIter,_DatasetKind\n",
    "_loaders = (_MultiProcessingDataLoaderIter,_SingleProcessDataLoaderIter)\n",
    "\n",
    "@delegates()\n",
    "class TbpttDl(TfmdDL):\n",
    "\n",
    "    def __init__(self, dataset, sub_seq_len=None, seq_len = None ,shuffle=True,num_workers=2, **kwargs):\n",
    "#         assert sub_seq_len is not None\n",
    "        store_attr('sub_seq_len,seq_len')\n",
    "        self.rnn_reset = False\n",
    "        super().__init__(dataset=dataset, shuffle=shuffle, num_workers=num_workers, **kwargs)\n",
    "        \n",
    "    @property\n",
    "    def n_sub_seq(self):\n",
    "        if self.sub_seq_len is None: return 1\n",
    "        if self.seq_len is None: self.seq_len = self.do_item(0)[0].shape[0]\n",
    "        return math.ceil(self.seq_len / self.sub_seq_len)\n",
    "        \n",
    "    def __len__(self):\n",
    "        return super().__len__() * self.n_sub_seq\n",
    "    \n",
    "    def _next_worker(self,w_id):\n",
    "        w_id += 1\n",
    "        if w_id > self.fake_l.num_workers-1: w_id = 0\n",
    "        return w_id\n",
    "\n",
    "    def sample(self):\n",
    "        #replaced new fastai sample formulation that store __idxs in main process\n",
    "        return (b for i,b in enumerate(self.__idxs) if i//(self.bs or 1)%self.num_workers==self.offs)\n",
    "#         return (b for i,b in enumerate(self.get_idxs()) if i//(self.bs or 1)%self.num_workers==self.offs)\n",
    "            \n",
    "    def __iter__(self):\n",
    "        '''iterator that handles multiprocessing by caching samples that are generated out of order'''\n",
    "        self.randomize()\n",
    "        self.before_iter()\n",
    "        self.__idxs=self.get_idxs() # called in context of main process (not workers/subprocesses)\n",
    "        \n",
    "        n_buffer = self.fake_l.num_workers*self.n_sub_seq\n",
    "        queue = {n:[] for n in range(self.fake_l.num_workers)} \n",
    "        current_worker = None\n",
    "        idx = 0\n",
    "        for loaded_b,w_id in _loaders[self.fake_l.num_workers==0](self.fake_l):\n",
    "\n",
    "            if w_id is None:\n",
    "                self.rnn_reset=True\n",
    "                b= loaded_b\n",
    "                self.rnn_reset = (idx % self.n_sub_seq) == 0\n",
    "                yield self.after_batch(b if self.device is None else to_device(b, self.device))\n",
    "                idx += 1 #idx increments after every yield, not every loop\n",
    "            else:\n",
    "                if current_worker is None:\n",
    "                    current_worker = w_id\n",
    "                \n",
    "                #retrieve queued elements from worker\n",
    "                while len(queue[current_worker]) > 0:\n",
    "                    b = queue[current_worker].pop(0)\n",
    "                    self.rnn_reset = (idx % self.n_sub_seq) == 0\n",
    "                    yield self.after_batch(b if self.device is None else to_device(b, self.device))\n",
    "                    idx += 1\n",
    "                    if (idx % self.n_sub_seq) == 0:\n",
    "                        current_worker = self._next_worker(current_worker) #next worker, stay in loop for the queue\n",
    "                        \n",
    "                \n",
    "                #retrieve fresh elements from worker\n",
    "                if w_id != current_worker: #not active worker\n",
    "                    queue[w_id] += [loaded_b]\n",
    "                    continue\n",
    "                else:#active worker\n",
    "                    b = loaded_b\n",
    "                    self.rnn_reset = (idx % self.n_sub_seq) == 0\n",
    "                    yield self.after_batch(b if self.device is None else to_device(b, self.device))\n",
    "                    idx += 1 #idx increments after every yield, not every loop\n",
    "                    if (idx % self.n_sub_seq) == 0:\n",
    "                        current_worker = self._next_worker(current_worker)\n",
    "                \n",
    "        self.after_iter()\n",
    "        if hasattr(self, 'it'): del(self.it)\n",
    "    \n",
    "    def create_batches(self, samps):\n",
    "        yield from self._tbptt_generator(super().create_batches(samps))\n",
    "        \n",
    "    def _tbptt_generator(self,batch_iter):\n",
    "        '''generator function that splits batches in smaller windows, yields mini_batch and worker id'''\n",
    "        for b in batch_iter:\n",
    "            for i in range(self.n_sub_seq):\n",
    "                #it is importan to retain the tuple type, or future transforms may now work\n",
    "                if self.sub_seq_len is None:\n",
    "                    trunc_b = b\n",
    "                else:\n",
    "                    trunc_b = tuple([retain_type(x[:,i*self.sub_seq_len:(i+1)*self.sub_seq_len],x) for x in b])\n",
    "                yield trunc_b, (None if torch.utils.data.get_worker_info() is None else torch.utils.data.get_worker_info().id)\n",
    "        "
   ]
  },
  {
   "cell_type": "code",
   "execution_count": 6,
   "metadata": {},
   "outputs": [],
   "source": [
    "tfm_lst = [DfHDFCreateWindows(win_sz=1000+1,stp_sz=1000,clm='current')]\n",
    "seq = DataBlock(blocks=(SequenceBlock.from_hdf(['current','voltage'],TensorSequencesInput,clm_shift=[-1,-1]),\n",
    "                        SequenceBlock.from_hdf(['voltage'],TensorSequencesOutput,clm_shift=[1])),\n",
    "                 get_items=CreateDict(tfm_lst),\n",
    "                 splitter=ApplyToDict(ParentSplitter()))\n",
    "db = seq.dataloaders(get_hdf_files('test_data/battery'),dl_type=TbpttDl,sub_seq_len=100,num_workers=6)"
   ]
  },
  {
   "cell_type": "code",
   "execution_count": 7,
   "metadata": {},
   "outputs": [],
   "source": [
    "l = [array(x[-1][0,:,0].cpu()) for x in db.train]"
   ]
  },
  {
   "cell_type": "code",
   "execution_count": 8,
   "metadata": {},
   "outputs": [
    {
     "data": {
      "text/plain": [
       "[<matplotlib.lines.Line2D at 0x7f0f9e3c5270>]"
      ]
     },
     "execution_count": 8,
     "metadata": {},
     "output_type": "execute_result"
    },
    {
     "data": {
      "application/vnd.jupyter.widget-view+json": {
       "model_id": "e6fcdb4f93964580b20b801627efd348",
       "version_major": 2,
       "version_minor": 0
      },
      "image/png": "[encoded data removed]",
      "text/html": [
       "\n",
       "            <div style=\"display: inline-block;\">\n",
       "                <div class=\"jupyter-widgets widget-label\" style=\"text-align: center;\">\n",
       "                    Figure\n",
       "                </div>\n",
       "                <img src='data:image/png;base64,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' width=640.0/>\n",
       "            </div>\n",
       "        "
      ],
      "text/plain": [
       "Canvas(toolbar=Toolbar(toolitems=[('Home', 'Reset original view', 'home', 'home'), ('Back', 'Back to previous …"
      ]
     },
     "metadata": {},
     "output_type": "display_data"
    }
   ],
   "source": [
    "plt.figure()\n",
    "plt.plot(np.concatenate(l))"
   ]
  },
  {
   "attachments": {},
   "cell_type": "markdown",
   "metadata": {},
   "source": [
    "num_workers has to be 0. If there are parallel workers, the order of minibatches will be corrupted"
   ]
  },
  {
   "attachments": {},
   "cell_type": "markdown",
   "metadata": {},
   "source": [
    "## TBPTT_Reset_Callback\n",
    "The stateful model needs to reset its hidden state, when a new sequence begins. The callback reads the reset flag and acts accordingly."
   ]
  },
  {
   "cell_type": "code",
   "execution_count": 9,
   "metadata": {},
   "outputs": [],
   "source": [
    "#| export\n",
    "def reset_model_state(model):\n",
    "    for m in model.modules():\n",
    "        if hasattr(m,'reset_state'): m.reset_state()"
   ]
  },
  {
   "cell_type": "code",
   "execution_count": 10,
   "metadata": {},
   "outputs": [],
   "source": [
    "#| export\n",
    "class TbpttResetCB(Callback):\n",
    "    \"`Callback` resets the rnn model with every new sequence for tbptt, calls `reset_state` in every module of the model\"\n",
    "        \n",
    "    def before_batch(self):\n",
    "        dl = self.learn.dls.train if self.training else self.learn.dls.valid\n",
    "#         if not self.training: import pdb; pdb.set_trace()\n",
    "        if (hasattr(dl,'rnn_reset') and dl.rnn_reset) or not hasattr(dl,'rnn_reset'):\n",
    "            reset_model_state(self.learn.model)\n",
    "        \n",
    "    def after_fit(self): \n",
    "        reset_model_state(self.learn.model)"
   ]
  },
  {
   "attachments": {},
   "cell_type": "markdown",
   "metadata": {},
   "source": [
    "## Example"
   ]
  },
  {
   "cell_type": "code",
   "execution_count": 11,
   "metadata": {},
   "outputs": [
    {
     "data": {
      "text/plain": [
       "<fastai.learner.Learner at 0x7f10a408a6e0>"
      ]
     },
     "execution_count": 11,
     "metadata": {},
     "output_type": "execute_result"
    }
   ],
   "source": [
    "lrn = RNNLearner(db,num_layers=1,rnn_type='gru',stateful=False,metrics=[SkipNLoss(fun_rmse,1),fun_rmse])\n",
    "lrn.add_cb(TbpttResetCB())"
   ]
  },
  {
   "cell_type": "code",
   "execution_count": 12,
   "metadata": {},
   "outputs": [
    {
     "data": {
      "text/html": [
       "\n",
       "<style>\n",
       "    /* Turns off some styling */\n",
       "    progress {\n",
       "        /* gets rid of default border in Firefox and Opera. */\n",
       "        border: none;\n",
       "        /* Needs to be in here for Safari polyfill so background images work as expected. */\n",
       "        background-size: auto;\n",
       "    }\n",
       "    progress:not([value]), progress:not([value])::-webkit-progress-bar {\n",
       "        background: repeating-linear-gradient(45deg, #7e7e7e, #7e7e7e 10px, #5c5c5c 10px, #5c5c5c 20px);\n",
       "    }\n",
       "    .progress-bar-interrupted, .progress-bar-interrupted::-webkit-progress-bar {\n",
       "        background: #F44336;\n",
       "    }\n",
       "</style>\n"
      ],
      "text/plain": [
       "<IPython.core.display.HTML object>"
      ]
     },
     "metadata": {},
     "output_type": "display_data"
    },
    {
     "data": {
      "text/html": [
       "<table border=\"1\" class=\"dataframe\">\n",
       "  <thead>\n",
       "    <tr style=\"text-align: left;\">\n",
       "      <th>epoch</th>\n",
       "      <th>train_loss</th>\n",
       "      <th>valid_loss</th>\n",
       "      <th>fun_rmse</th>\n",
       "      <th>fun_rmse</th>\n",
       "      <th>time</th>\n",
       "    </tr>\n",
       "  </thead>\n",
       "  <tbody>\n",
       "    <tr>\n",
       "      <td>0</td>\n",
       "      <td>1.496442</td>\n",
       "      <td>0.202330</td>\n",
       "      <td>0.316926</td>\n",
       "      <td>0.449391</td>\n",
       "      <td>00:08</td>\n",
       "    </tr>\n",
       "  </tbody>\n",
       "</table>"
      ],
      "text/plain": [
       "<IPython.core.display.HTML object>"
      ]
     },
     "metadata": {},
     "output_type": "display_data"
    }
   ],
   "source": [
    "lrn.fit_one_cycle(1,lr_max=3e-2)"
   ]
  },
  {
   "cell_type": "code",
   "execution_count": 13,
   "metadata": {},
   "outputs": [],
   "source": [
    "db.train.sub_seq_len = 10"
   ]
  },
  {
   "cell_type": "code",
   "execution_count": 14,
   "metadata": {},
   "outputs": [
    {
     "data": {
      "text/html": [
       "\n",
       "<style>\n",
       "    /* Turns off some styling */\n",
       "    progress {\n",
       "        /* gets rid of default border in Firefox and Opera. */\n",
       "        border: none;\n",
       "        /* Needs to be in here for Safari polyfill so background images work as expected. */\n",
       "        background-size: auto;\n",
       "    }\n",
       "    progress:not([value]), progress:not([value])::-webkit-progress-bar {\n",
       "        background: repeating-linear-gradient(45deg, #7e7e7e, #7e7e7e 10px, #5c5c5c 10px, #5c5c5c 20px);\n",
       "    }\n",
       "    .progress-bar-interrupted, .progress-bar-interrupted::-webkit-progress-bar {\n",
       "        background: #F44336;\n",
       "    }\n",
       "</style>\n"
      ],
      "text/plain": [
       "<IPython.core.display.HTML object>"
      ]
     },
     "metadata": {},
     "output_type": "display_data"
    },
    {
     "data": {
      "text/html": [
       "<table border=\"1\" class=\"dataframe\">\n",
       "  <thead>\n",
       "    <tr style=\"text-align: left;\">\n",
       "      <th>epoch</th>\n",
       "      <th>train_loss</th>\n",
       "      <th>valid_loss</th>\n",
       "      <th>fun_rmse</th>\n",
       "      <th>fun_rmse</th>\n",
       "      <th>time</th>\n",
       "    </tr>\n",
       "  </thead>\n",
       "  <tbody>\n",
       "    <tr>\n",
       "      <td>0</td>\n",
       "      <td>0.000049</td>\n",
       "      <td>0.000239</td>\n",
       "      <td>0.014498</td>\n",
       "      <td>0.014443</td>\n",
       "      <td>00:08</td>\n",
       "    </tr>\n",
       "  </tbody>\n",
       "</table>"
      ],
      "text/plain": [
       "<IPython.core.display.HTML object>"
      ]
     },
     "metadata": {},
     "output_type": "display_data"
    }
   ],
   "source": [
    "lrn.fit_one_cycle(1,lr_max=3e-2)"
   ]
  },
  {
   "attachments": {},
   "cell_type": "markdown",
   "metadata": {},
   "source": [
    "# Weighted Sampling Dataloader"
   ]
  },
  {
   "attachments": {},
   "cell_type": "markdown",
   "metadata": {},
   "source": [
    "A weighted sampling dataloader for nonuniforly distributed data. A factory method receives the base Dataloader class and returns the inherited weighted sampling dataloader class"
   ]
  },
  {
   "cell_type": "code",
   "execution_count": 15,
   "metadata": {},
   "outputs": [],
   "source": [
    "#| export\n",
    "def WeightedDL_Factory(cls):\n",
    "    '''\n",
    "    Weighted Dataloader that provides control over sampling probabilities.\n",
    "    wgts: probability array with probability for every item\n",
    "            gets extracted from the pandas 'p_sample' column if given. \n",
    "            Otherwise uniform sampling will be enabled\n",
    "        \n",
    "    '''\n",
    "    assert issubclass(cls, TfmdDL)\n",
    "    \n",
    "    class WeightedDL(cls):\n",
    "        def __init__(self, dataset, wgts=None, **kwargs):\n",
    "#             import pdb;pdb.set_trace()\n",
    "            self.wgts = None\n",
    "            #self.items need to be assigned, but super.init needs wgts allready assigned\n",
    "            super().__init__(dataset=dataset, **kwargs) \n",
    "            if wgts is None:\n",
    "                if (isinstance(self.items,pd.DataFrame) and\n",
    "                    len(self.items) > 0 and \n",
    "                    'p_sample' in self.items):\n",
    "                    self.wgts = self.items.p_sample.to_numpy()\n",
    "                    self.wgts = self.wgts/self.wgts.sum()\n",
    "                elif (isinstance(self.items,Iterable) and\n",
    "                    len(self.items) > 0 and \n",
    "                    hasattr(self.items[0],'keys') and \n",
    "                    'p_sample' in self.items[0].keys()):\n",
    "                    self.wgts = np.array([x['p_sample'] for x in self.items])\n",
    "                    self.wgts = self.wgts/self.wgts.sum()\n",
    "                else:\n",
    "                    print('No wgts provided for WeightedDL. Was that intentional?')\n",
    "            else:\n",
    "                self.wgts = wgts/np.sum(wgts)\n",
    "\n",
    "        def get_idxs(self):\n",
    "            if self.n==0: return []\n",
    "            if not self.shuffle or self.wgts is None: return super().get_idxs()\n",
    "            #calculate number of elements with length of the dataset, for batch truncation\n",
    "            idxs = list(np.random.choice(self.n, size=len(self)*self.bs, p=self.wgts))\n",
    "            return idxs\n",
    "    return WeightedDL"
   ]
  },
  {
   "cell_type": "code",
   "execution_count": 16,
   "metadata": {},
   "outputs": [],
   "source": [
    "dl = WeightedDL_Factory(TfmdDL)([1,2]*5,bs=10,wgts=[2,1]*5)"
   ]
  },
  {
   "cell_type": "code",
   "execution_count": 17,
   "metadata": {},
   "outputs": [
    {
     "data": {
      "text/html": [
       "\n",
       "<style>\n",
       "    /* Turns off some styling */\n",
       "    progress {\n",
       "        /* gets rid of default border in Firefox and Opera. */\n",
       "        border: none;\n",
       "        /* Needs to be in here for Safari polyfill so background images work as expected. */\n",
       "        background-size: auto;\n",
       "    }\n",
       "    progress:not([value]), progress:not([value])::-webkit-progress-bar {\n",
       "        background: repeating-linear-gradient(45deg, #7e7e7e, #7e7e7e 10px, #5c5c5c 10px, #5c5c5c 20px);\n",
       "    }\n",
       "    .progress-bar-interrupted, .progress-bar-interrupted::-webkit-progress-bar {\n",
       "        background: #F44336;\n",
       "    }\n",
       "</style>\n"
      ],
      "text/plain": [
       "<IPython.core.display.HTML object>"
      ]
     },
     "metadata": {},
     "output_type": "display_data"
    },
    {
     "data": {
      "text/html": [
       "<table border=\"1\" class=\"dataframe\">\n",
       "  <thead>\n",
       "    <tr style=\"text-align: left;\">\n",
       "      <th>epoch</th>\n",
       "      <th>train_loss</th>\n",
       "      <th>valid_loss</th>\n",
       "      <th>fun_rmse</th>\n",
       "      <th>fun_rmse</th>\n",
       "      <th>time</th>\n",
       "    </tr>\n",
       "  </thead>\n",
       "  <tbody>\n",
       "    <tr>\n",
       "      <td>0</td>\n",
       "      <td>0.000021</td>\n",
       "      <td>0.001071</td>\n",
       "      <td>0.032594</td>\n",
       "      <td>0.032444</td>\n",
       "      <td>00:08</td>\n",
       "    </tr>\n",
       "  </tbody>\n",
       "</table>"
      ],
      "text/plain": [
       "<IPython.core.display.HTML object>"
      ]
     },
     "metadata": {},
     "output_type": "display_data"
    }
   ],
   "source": [
    "lrn = RNNLearner(db,num_layers=1,rnn_type='gru',stateful=False,metrics=[SkipNLoss(fun_rmse,1),fun_rmse])\n",
    "lrn.fit_one_cycle(1,lr_max=3e-2)"
   ]
  },
  {
   "cell_type": "code",
   "execution_count": 18,
   "metadata": {},
   "outputs": [
    {
     "data": {
      "text/plain": [
       "array([0.13333333, 0.06666667, 0.13333333, 0.06666667, 0.13333333,\n",
       "       0.06666667, 0.13333333, 0.06666667, 0.13333333, 0.06666667])"
      ]
     },
     "execution_count": 18,
     "metadata": {},
     "output_type": "execute_result"
    }
   ],
   "source": [
    "dl.wgts"
   ]
  },
  {
   "cell_type": "code",
   "execution_count": 19,
   "metadata": {},
   "outputs": [
    {
     "data": {
      "text/plain": [
       "tensor([1, 2, 1, 2, 1, 2, 1, 2, 1, 2])"
      ]
     },
     "execution_count": 19,
     "metadata": {},
     "output_type": "execute_result"
    }
   ],
   "source": [
    "dl.one_batch()"
   ]
  },
  {
   "attachments": {},
   "cell_type": "markdown",
   "metadata": {},
   "source": [
    "## ItemLst Transform for weight calculation"
   ]
  },
  {
   "cell_type": "code",
   "execution_count": 20,
   "metadata": {},
   "outputs": [],
   "source": [
    "#| export\n",
    "def uniform_p_of_category(cat_name):  \n",
    "    '''Scales sampling weights for an even distribution between every category'''\n",
    "    def _inner(df):\n",
    "        if 'p_sample' in df:\n",
    "            df_targ = df.drop('p_sample',axis='columns')\n",
    "        else:\n",
    "            df_targ = df\n",
    "            \n",
    "        counts = df_targ[cat_name].value_counts()\n",
    "        sample_prob =  1/counts\n",
    "        sample_prob.name = 'p_sample'\n",
    "        df_res = df_targ.merge(sample_prob,left_on=cat_name,right_index=True)\n",
    "        \n",
    "        if 'p_sample' in df: \n",
    "            df_res.p_sample = df_res.p_sample* df.p_sample.values\n",
    "            \n",
    "        df_res.p_sample /= df_res.p_sample.sum()\n",
    "            \n",
    "        return df_res\n",
    "    \n",
    "    return _inner"
   ]
  },
  {
   "cell_type": "code",
   "execution_count": 21,
   "metadata": {},
   "outputs": [],
   "source": [
    "#| export\n",
    "def uniform_p_of_float(var_name,bins = 10):\n",
    "    '''Scales sampling weights for an even distribution of the continous variable by creating equi sized bins'''\n",
    "    def _inner(df):\n",
    "        if 'p_sample' in df:\n",
    "            df_targ = df.drop('p_sample',axis='columns')\n",
    "        else:\n",
    "            df_targ = df\n",
    "            \n",
    "        df_targ['bins'] = pd.cut(df_targ[var_name], bins)\n",
    "        counts = df_targ['bins'].value_counts()\n",
    "        sample_prob =  1/counts\n",
    "        sample_prob.name = 'p_sample'\n",
    "        df_res = df_targ.merge(sample_prob,left_on='bins',right_index=True)\n",
    "        df_res.drop(['bins'],axis='columns',inplace=True)\n",
    "        \n",
    "        if 'p_sample' in df: \n",
    "            df_res.p_sample = df_res.p_sample* df.p_sample.values\n",
    "            \n",
    "        df_res.p_sample /= df_res.p_sample.sum()\n",
    "        \n",
    "        return df_res\n",
    "\n",
    "    return _inner"
   ]
  },
  {
   "cell_type": "code",
   "execution_count": 22,
   "metadata": {},
   "outputs": [],
   "source": [
    "#| export\n",
    "def uniform_p_of_float_with_gaps(var_name,bins = 100):\n",
    "    '''Scales sampling weights for an even distribution of the continous variable by creating equi sized bins'''\n",
    "    def _inner(df):\n",
    "        if 'p_sample' in df:\n",
    "            df_targ = df.drop('p_sample',axis='columns')\n",
    "        else:\n",
    "            df_targ = df\n",
    "            \n",
    "        l = df_targ[var_name].max()-df_targ[var_name].min() #value range\n",
    "        df_targ['bins'] = pd.qcut(df_targ[var_name],bins,duplicates='drop') #bins with rougly the same size\n",
    "        df_targ['p_sample'] =  df_targ['bins'].apply(lambda x: x.length).astype('f8')/l #sample_prob by bin width\n",
    "        sample_prob =  1/df_targ['bins'].value_counts() #correct uneven bin distribution\n",
    "        sample_prob.name = 'p_sample_correction'\n",
    "        df_res = df_targ.merge(sample_prob,left_on='bins',right_index=True)\n",
    "        \n",
    "        df_res.p_sample *= df_res.p_sample_correction\n",
    "        df_res.drop(['bins','p_sample_correction'],axis='columns',inplace=True)\n",
    "\n",
    "        if 'p_sample' in df: \n",
    "            df_res.p_sample = df_res.p_sample* df.p_sample.values\n",
    "            \n",
    "        df_res.p_sample /= df_res.p_sample.sum()\n",
    "        \n",
    "        return df_res\n",
    "\n",
    "    return _inner"
   ]
  },
  {
   "cell_type": "code",
   "execution_count": 23,
   "metadata": {},
   "outputs": [],
   "source": [
    "def train_valid(df):   \n",
    "    ''' test function that extracts valid and train from the path string'''\n",
    "    df['train'] = df.path.astype(str).str.contains('train',regex=False)\n",
    "    return df"
   ]
  },
  {
   "cell_type": "code",
   "execution_count": 24,
   "metadata": {},
   "outputs": [
    {
     "data": {
      "text/html": [
       "<div>\n",
       "<style scoped>\n",
       "    .dataframe tbody tr th:only-of-type {\n",
       "        vertical-align: middle;\n",
       "    }\n",
       "\n",
       "    .dataframe tbody tr th {\n",
       "        vertical-align: top;\n",
       "    }\n",
       "\n",
       "    .dataframe thead th {\n",
       "        text-align: right;\n",
       "    }\n",
       "</style>\n",
       "<table border=\"1\" class=\"dataframe\">\n",
       "  <thead>\n",
       "    <tr style=\"text-align: right;\">\n",
       "      <th></th>\n",
       "      <th>path</th>\n",
       "      <th>train</th>\n",
       "      <th>l_slc</th>\n",
       "      <th>r_slc</th>\n",
       "      <th>p_sample</th>\n",
       "    </tr>\n",
       "  </thead>\n",
       "  <tbody>\n",
       "    <tr>\n",
       "      <th>0</th>\n",
       "      <td>test_data/battery/train/Sim_RealisticCycle1.hdf5</td>\n",
       "      <td>True</td>\n",
       "      <td>0</td>\n",
       "      <td>1001</td>\n",
       "      <td>0.000620</td>\n",
       "    </tr>\n",
       "    <tr>\n",
       "      <th>0</th>\n",
       "      <td>test_data/battery/train/Sim_RealisticCycle1.hdf5</td>\n",
       "      <td>True</td>\n",
       "      <td>1000</td>\n",
       "      <td>2001</td>\n",
       "      <td>0.000620</td>\n",
       "    </tr>\n",
       "    <tr>\n",
       "      <th>0</th>\n",
       "      <td>test_data/battery/train/Sim_RealisticCycle1.hdf5</td>\n",
       "      <td>True</td>\n",
       "      <td>2000</td>\n",
       "      <td>3001</td>\n",
       "      <td>0.000620</td>\n",
       "    </tr>\n",
       "    <tr>\n",
       "      <th>1</th>\n",
       "      <td>test_data/battery/train/Sim_RealisticCycle2.hdf5</td>\n",
       "      <td>True</td>\n",
       "      <td>0</td>\n",
       "      <td>1001</td>\n",
       "      <td>0.000620</td>\n",
       "    </tr>\n",
       "    <tr>\n",
       "      <th>1</th>\n",
       "      <td>test_data/battery/train/Sim_RealisticCycle2.hdf5</td>\n",
       "      <td>True</td>\n",
       "      <td>1000</td>\n",
       "      <td>2001</td>\n",
       "      <td>0.000620</td>\n",
       "    </tr>\n",
       "    <tr>\n",
       "      <th>...</th>\n",
       "      <td>...</td>\n",
       "      <td>...</td>\n",
       "      <td>...</td>\n",
       "      <td>...</td>\n",
       "      <td>...</td>\n",
       "    </tr>\n",
       "    <tr>\n",
       "      <th>0</th>\n",
       "      <td>test_data/battery/train/Sim_RealisticCycle1.hdf5</td>\n",
       "      <td>True</td>\n",
       "      <td>264000</td>\n",
       "      <td>265001</td>\n",
       "      <td>0.001859</td>\n",
       "    </tr>\n",
       "    <tr>\n",
       "      <th>1</th>\n",
       "      <td>test_data/battery/train/Sim_RealisticCycle2.hdf5</td>\n",
       "      <td>True</td>\n",
       "      <td>263000</td>\n",
       "      <td>264001</td>\n",
       "      <td>0.001859</td>\n",
       "    </tr>\n",
       "    <tr>\n",
       "      <th>1</th>\n",
       "      <td>test_data/battery/train/Sim_RealisticCycle2.hdf5</td>\n",
       "      <td>True</td>\n",
       "      <td>264000</td>\n",
       "      <td>265001</td>\n",
       "      <td>0.001859</td>\n",
       "    </tr>\n",
       "    <tr>\n",
       "      <th>2</th>\n",
       "      <td>test_data/battery/valid/Sim_RealisticCycle3.hdf5</td>\n",
       "      <td>False</td>\n",
       "      <td>263000</td>\n",
       "      <td>264001</td>\n",
       "      <td>0.001859</td>\n",
       "    </tr>\n",
       "    <tr>\n",
       "      <th>2</th>\n",
       "      <td>test_data/battery/valid/Sim_RealisticCycle3.hdf5</td>\n",
       "      <td>False</td>\n",
       "      <td>264000</td>\n",
       "      <td>265001</td>\n",
       "      <td>0.001859</td>\n",
       "    </tr>\n",
       "  </tbody>\n",
       "</table>\n",
       "<p>795 rows × 5 columns</p>\n",
       "</div>"
      ],
      "text/plain": [
       "                                                path  train   l_slc   r_slc  \\\n",
       "0   test_data/battery/train/Sim_RealisticCycle1.hdf5   True       0    1001   \n",
       "0   test_data/battery/train/Sim_RealisticCycle1.hdf5   True    1000    2001   \n",
       "0   test_data/battery/train/Sim_RealisticCycle1.hdf5   True    2000    3001   \n",
       "1   test_data/battery/train/Sim_RealisticCycle2.hdf5   True       0    1001   \n",
       "1   test_data/battery/train/Sim_RealisticCycle2.hdf5   True    1000    2001   \n",
       "..                                               ...    ...     ...     ...   \n",
       "0   test_data/battery/train/Sim_RealisticCycle1.hdf5   True  264000  265001   \n",
       "1   test_data/battery/train/Sim_RealisticCycle2.hdf5   True  263000  264001   \n",
       "1   test_data/battery/train/Sim_RealisticCycle2.hdf5   True  264000  265001   \n",
       "2   test_data/battery/valid/Sim_RealisticCycle3.hdf5  False  263000  264001   \n",
       "2   test_data/battery/valid/Sim_RealisticCycle3.hdf5  False  264000  265001   \n",
       "\n",
       "    p_sample  \n",
       "0   0.000620  \n",
       "0   0.000620  \n",
       "0   0.000620  \n",
       "1   0.000620  \n",
       "1   0.000620  \n",
       "..       ...  \n",
       "0   0.001859  \n",
       "1   0.001859  \n",
       "1   0.001859  \n",
       "2   0.001859  \n",
       "2   0.001859  \n",
       "\n",
       "[795 rows x 5 columns]"
      ]
     },
     "execution_count": 24,
     "metadata": {},
     "output_type": "execute_result"
    }
   ],
   "source": [
    "# %%time\n",
    "tfm_lst = [train_valid, DfHDFCreateWindows(win_sz=1000+1,stp_sz=1000,clm='current') ,uniform_p_of_category('train'),uniform_p_of_float('l_slc'),uniform_p_of_float_with_gaps('r_slc')]\n",
    "apply_df_tfms(get_hdf_files('test_data/battery'),tfm_lst) "
   ]
  },
  {
   "cell_type": "code",
   "execution_count": 25,
   "metadata": {},
   "outputs": [],
   "source": [
    "seq = DataBlock(blocks=(SequenceBlock.from_hdf(['current','voltage'],TensorSequencesInput,clm_shift=[-1,-1]),\n",
    "                        SequenceBlock.from_hdf(['voltage'],TensorSequencesOutput,clm_shift=[1])),\n",
    "                 get_items=CreateDict(tfm_lst),\n",
    "                 splitter=ApplyToDict(ParentSplitter()))\n",
    "# db = seq.dataloaders(get_hdf_files('test_data/battery'),dl_type=TbpttDl,sub_seq_len=200)\n",
    "db = seq.dataloaders(get_hdf_files('test_data/battery'),dl_type=WeightedDL_Factory(TbpttDl),sub_seq_len=500)"
   ]
  },
  {
   "cell_type": "code",
   "execution_count": 26,
   "metadata": {},
   "outputs": [
    {
     "data": {
      "text/plain": [
       "(530,)"
      ]
     },
     "execution_count": 26,
     "metadata": {},
     "output_type": "execute_result"
    }
   ],
   "source": [
    "db.train.wgts.shape"
   ]
  },
  {
   "cell_type": "code",
   "execution_count": 27,
   "metadata": {},
   "outputs": [
    {
     "data": {
      "text/plain": [
       "(array([0.00093157, 0.00093157, 0.00093157, 0.00093157, 0.00093157]),\n",
       " array([0.00184989, 0.00184989, 0.00184989, 0.00277484, 0.00277484]))"
      ]
     },
     "execution_count": 27,
     "metadata": {},
     "output_type": "execute_result"
    }
   ],
   "source": [
    "db.train.wgts[:5],db.valid.wgts[:5]"
   ]
  },
  {
   "cell_type": "code",
   "execution_count": 28,
   "metadata": {},
   "outputs": [
    {
     "data": {
      "text/html": [
       "\n",
       "<style>\n",
       "    /* Turns off some styling */\n",
       "    progress {\n",
       "        /* gets rid of default border in Firefox and Opera. */\n",
       "        border: none;\n",
       "        /* Needs to be in here for Safari polyfill so background images work as expected. */\n",
       "        background-size: auto;\n",
       "    }\n",
       "    progress:not([value]), progress:not([value])::-webkit-progress-bar {\n",
       "        background: repeating-linear-gradient(45deg, #7e7e7e, #7e7e7e 10px, #5c5c5c 10px, #5c5c5c 20px);\n",
       "    }\n",
       "    .progress-bar-interrupted, .progress-bar-interrupted::-webkit-progress-bar {\n",
       "        background: #F44336;\n",
       "    }\n",
       "</style>\n"
      ],
      "text/plain": [
       "<IPython.core.display.HTML object>"
      ]
     },
     "metadata": {},
     "output_type": "display_data"
    },
    {
     "data": {
      "text/html": [
       "<table border=\"1\" class=\"dataframe\">\n",
       "  <thead>\n",
       "    <tr style=\"text-align: left;\">\n",
       "      <th>epoch</th>\n",
       "      <th>train_loss</th>\n",
       "      <th>valid_loss</th>\n",
       "      <th>fun_rmse</th>\n",
       "      <th>fun_rmse</th>\n",
       "      <th>time</th>\n",
       "    </tr>\n",
       "  </thead>\n",
       "  <tbody>\n",
       "    <tr>\n",
       "      <td>0</td>\n",
       "      <td>4.965303</td>\n",
       "      <td>0.338623</td>\n",
       "      <td>0.543943</td>\n",
       "      <td>0.561917</td>\n",
       "      <td>00:03</td>\n",
       "    </tr>\n",
       "  </tbody>\n",
       "</table>"
      ],
      "text/plain": [
       "<IPython.core.display.HTML object>"
      ]
     },
     "metadata": {},
     "output_type": "display_data"
    }
   ],
   "source": [
    "lrn = RNNLearner(db,num_layers=1,rnn_type='gru',stateful=False,metrics=[SkipNLoss(fun_rmse,1),fun_rmse])\n",
    "lrn.add_cb(TbpttResetCB())\n",
    "lrn.fit_one_cycle(1,lr_max=3e-2)"
   ]
  },
  {
   "attachments": {},
   "cell_type": "markdown",
   "metadata": {},
   "source": [
    "## Importance Sampling Callback"
   ]
  },
  {
   "cell_type": "code",
   "execution_count": 41,
   "metadata": {},
   "outputs": [],
   "source": [
    "#| export\n",
    "class ImportanceSampling(Callback):\n",
    "    #modify the dataloader weights to sample items with higher loss more often\n",
    "    def __init__(self, filter_criterion=nn.HuberLoss(reduction='none')):\n",
    "        self.filter_criterion = filter_criterion\n",
    "        self.loss_list = None #store loss of each item in the dataloader\n",
    "\n",
    "    def begin_fit(self):\n",
    "        #empty the loss list at the beginning of each fit\n",
    "        self.loss_list = None\n",
    "\n",
    "    def after_pred(self):\n",
    "        # store loss of each item in the batch\n",
    "        if not self.training: return\n",
    "        losses = self.filter_criterion(self.learn.pred, *self.learn.yb)\n",
    "        if losses.ndim >= 2: losses = losses.mean(tuple(range(1,losses.ndim)))  # If loss is multi-dimensional, take the mean over all but the first dimension\n",
    "        #get the indices of each item in the batch from the dataloader\n",
    "        import pdb; pdb.set_trace()\n",
    "\n",
    "        #if the loss_list is empty, initialize it with dataloader wgts\n",
    "        if self.loss_list is None:\n",
    "            self.loss_list = self.learn.dls.train.wgts.clone()\n",
    "            #scale the loss_list mean to the mean loss of the batch\n",
    "            self.loss_list *= self.loss_list.numel()/losses.mean()\n",
    "\n",
    "        #store the loss of each item in the loss_list\n",
    "        \n",
    "    def after_epoch(self):\n",
    "        #modify the dataloader weights to sample items with higher loss more often\n",
    "        if not self.training: return\n",
    "        self.learn.dls.train.wgts = self.loss_list\n",
    "        self.learn.dls.train.wgts /= self.learn.dls.train.wgts.sum()\n",
    "\n",
    "    \n",
    "\n",
    "        "
   ]
  },
  {
   "cell_type": "code",
   "execution_count": 40,
   "metadata": {},
   "outputs": [
    {
     "ename": "AttributeError",
     "evalue": "__idxs",
     "output_type": "error",
     "traceback": [
      "\u001b[0;31m---------------------------------------------------------------------------\u001b[0m",
      "\u001b[0;31mAttributeError\u001b[0m                            Traceback (most recent call last)",
      "Cell \u001b[0;32mIn[40], line 1\u001b[0m\n\u001b[0;32m----> 1\u001b[0m db\u001b[39m.\u001b[39;49mtrain\u001b[39m.\u001b[39;49m__idxs\n",
      "File \u001b[0;32m~/miniconda3/envs/env_fastai/lib/python3.10/site-packages/fastcore/basics.py:497\u001b[0m, in \u001b[0;36mGetAttr.__getattr__\u001b[0;34m(self, k)\u001b[0m\n\u001b[1;32m    495\u001b[0m     attr \u001b[39m=\u001b[39m \u001b[39mgetattr\u001b[39m(\u001b[39mself\u001b[39m,\u001b[39mself\u001b[39m\u001b[39m.\u001b[39m_default,\u001b[39mNone\u001b[39;00m)\n\u001b[1;32m    496\u001b[0m     \u001b[39mif\u001b[39;00m attr \u001b[39mis\u001b[39;00m \u001b[39mnot\u001b[39;00m \u001b[39mNone\u001b[39;00m: \u001b[39mreturn\u001b[39;00m \u001b[39mgetattr\u001b[39m(attr,k)\n\u001b[0;32m--> 497\u001b[0m \u001b[39mraise\u001b[39;00m \u001b[39mAttributeError\u001b[39;00m(k)\n",
      "\u001b[0;31mAttributeError\u001b[0m: __idxs"
     ]
    }
   ],
   "source": [
    "db.train.__idxs"
   ]
  },
  {
   "cell_type": "code",
   "execution_count": 37,
   "metadata": {},
   "outputs": [
    {
     "data": {
      "text/html": [
       "\n",
       "<style>\n",
       "    /* Turns off some styling */\n",
       "    progress {\n",
       "        /* gets rid of default border in Firefox and Opera. */\n",
       "        border: none;\n",
       "        /* Needs to be in here for Safari polyfill so background images work as expected. */\n",
       "        background-size: auto;\n",
       "    }\n",
       "    progress:not([value]), progress:not([value])::-webkit-progress-bar {\n",
       "        background: repeating-linear-gradient(45deg, #7e7e7e, #7e7e7e 10px, #5c5c5c 10px, #5c5c5c 20px);\n",
       "    }\n",
       "    .progress-bar-interrupted, .progress-bar-interrupted::-webkit-progress-bar {\n",
       "        background: #F44336;\n",
       "    }\n",
       "</style>\n"
      ],
      "text/plain": [
       "<IPython.core.display.HTML object>"
      ]
     },
     "metadata": {},
     "output_type": "display_data"
    },
    {
     "data": {
      "text/html": [
       "\n",
       "    <div>\n",
       "      <progress value='0' class='' max='1' style='width:300px; height:20px; vertical-align: middle;'></progress>\n",
       "      0.00% [0/1 00:00&lt;?]\n",
       "    </div>\n",
       "    \n",
       "<table border=\"1\" class=\"dataframe\">\n",
       "  <thead>\n",
       "    <tr style=\"text-align: left;\">\n",
       "      <th>epoch</th>\n",
       "      <th>train_loss</th>\n",
       "      <th>valid_loss</th>\n",
       "      <th>fun_rmse</th>\n",
       "      <th>fun_rmse</th>\n",
       "      <th>time</th>\n",
       "    </tr>\n",
       "  </thead>\n",
       "  <tbody>\n",
       "  </tbody>\n",
       "</table><p>\n",
       "\n",
       "    <div>\n",
       "      <progress value='0' class='' max='16' style='width:300px; height:20px; vertical-align: middle;'></progress>\n",
       "      0.00% [0/16 00:00&lt;?]\n",
       "    </div>\n",
       "    "
      ],
      "text/plain": [
       "<IPython.core.display.HTML object>"
      ]
     },
     "metadata": {},
     "output_type": "display_data"
    },
    {
     "ename": "AttributeError",
     "evalue": "Exception occured in `ImportanceSampling` when calling event `after_pred`:\n\t'NoneType' object has no attribute 'clone'",
     "output_type": "error",
     "traceback": [
      "\u001b[0;31m---------------------------------------------------------------------------\u001b[0m",
      "\u001b[0;31mAttributeError\u001b[0m                            Traceback (most recent call last)",
      "Cell \u001b[0;32mIn[37], line 2\u001b[0m\n\u001b[1;32m      1\u001b[0m lrn \u001b[39m=\u001b[39m RNNLearner(db,num_layers\u001b[39m=\u001b[39m\u001b[39m1\u001b[39m,stateful\u001b[39m=\u001b[39m\u001b[39mFalse\u001b[39;00m,metrics\u001b[39m=\u001b[39m[SkipNLoss(fun_rmse,\u001b[39m1\u001b[39m),fun_rmse],cbs\u001b[39m=\u001b[39mImportanceSampling())\n\u001b[0;32m----> 2\u001b[0m lrn\u001b[39m.\u001b[39;49mfit(\u001b[39m1\u001b[39;49m)\n",
      "File \u001b[0;32m~/miniconda3/envs/env_fastai/lib/python3.10/site-packages/fastai/learner.py:264\u001b[0m, in \u001b[0;36mLearner.fit\u001b[0;34m(self, n_epoch, lr, wd, cbs, reset_opt, start_epoch)\u001b[0m\n\u001b[1;32m    262\u001b[0m \u001b[39mself\u001b[39m\u001b[39m.\u001b[39mopt\u001b[39m.\u001b[39mset_hypers(lr\u001b[39m=\u001b[39m\u001b[39mself\u001b[39m\u001b[39m.\u001b[39mlr \u001b[39mif\u001b[39;00m lr \u001b[39mis\u001b[39;00m \u001b[39mNone\u001b[39;00m \u001b[39melse\u001b[39;00m lr)\n\u001b[1;32m    263\u001b[0m \u001b[39mself\u001b[39m\u001b[39m.\u001b[39mn_epoch \u001b[39m=\u001b[39m n_epoch\n\u001b[0;32m--> 264\u001b[0m \u001b[39mself\u001b[39;49m\u001b[39m.\u001b[39;49m_with_events(\u001b[39mself\u001b[39;49m\u001b[39m.\u001b[39;49m_do_fit, \u001b[39m'\u001b[39;49m\u001b[39mfit\u001b[39;49m\u001b[39m'\u001b[39;49m, CancelFitException, \u001b[39mself\u001b[39;49m\u001b[39m.\u001b[39;49m_end_cleanup)\n",
      "File \u001b[0;32m~/miniconda3/envs/env_fastai/lib/python3.10/site-packages/fastai/learner.py:199\u001b[0m, in \u001b[0;36mLearner._with_events\u001b[0;34m(self, f, event_type, ex, final)\u001b[0m\n\u001b[1;32m    198\u001b[0m \u001b[39mdef\u001b[39;00m \u001b[39m_with_events\u001b[39m(\u001b[39mself\u001b[39m, f, event_type, ex, final\u001b[39m=\u001b[39mnoop):\n\u001b[0;32m--> 199\u001b[0m     \u001b[39mtry\u001b[39;00m: \u001b[39mself\u001b[39m(\u001b[39mf\u001b[39m\u001b[39m'\u001b[39m\u001b[39mbefore_\u001b[39m\u001b[39m{\u001b[39;00mevent_type\u001b[39m}\u001b[39;00m\u001b[39m'\u001b[39m);  f()\n\u001b[1;32m    200\u001b[0m     \u001b[39mexcept\u001b[39;00m ex: \u001b[39mself\u001b[39m(\u001b[39mf\u001b[39m\u001b[39m'\u001b[39m\u001b[39mafter_cancel_\u001b[39m\u001b[39m{\u001b[39;00mevent_type\u001b[39m}\u001b[39;00m\u001b[39m'\u001b[39m)\n\u001b[1;32m    201\u001b[0m     \u001b[39mself\u001b[39m(\u001b[39mf\u001b[39m\u001b[39m'\u001b[39m\u001b[39mafter_\u001b[39m\u001b[39m{\u001b[39;00mevent_type\u001b[39m}\u001b[39;00m\u001b[39m'\u001b[39m);  final()\n",
      "File \u001b[0;32m~/miniconda3/envs/env_fastai/lib/python3.10/site-packages/fastai/learner.py:253\u001b[0m, in \u001b[0;36mLearner._do_fit\u001b[0;34m(self)\u001b[0m\n\u001b[1;32m    251\u001b[0m \u001b[39mfor\u001b[39;00m epoch \u001b[39min\u001b[39;00m \u001b[39mrange\u001b[39m(\u001b[39mself\u001b[39m\u001b[39m.\u001b[39mn_epoch):\n\u001b[1;32m    252\u001b[0m     \u001b[39mself\u001b[39m\u001b[39m.\u001b[39mepoch\u001b[39m=\u001b[39mepoch\n\u001b[0;32m--> 253\u001b[0m     \u001b[39mself\u001b[39;49m\u001b[39m.\u001b[39;49m_with_events(\u001b[39mself\u001b[39;49m\u001b[39m.\u001b[39;49m_do_epoch, \u001b[39m'\u001b[39;49m\u001b[39mepoch\u001b[39;49m\u001b[39m'\u001b[39;49m, CancelEpochException)\n",
      "File \u001b[0;32m~/miniconda3/envs/env_fastai/lib/python3.10/site-packages/fastai/learner.py:199\u001b[0m, in \u001b[0;36mLearner._with_events\u001b[0;34m(self, f, event_type, ex, final)\u001b[0m\n\u001b[1;32m    198\u001b[0m \u001b[39mdef\u001b[39;00m \u001b[39m_with_events\u001b[39m(\u001b[39mself\u001b[39m, f, event_type, ex, final\u001b[39m=\u001b[39mnoop):\n\u001b[0;32m--> 199\u001b[0m     \u001b[39mtry\u001b[39;00m: \u001b[39mself\u001b[39m(\u001b[39mf\u001b[39m\u001b[39m'\u001b[39m\u001b[39mbefore_\u001b[39m\u001b[39m{\u001b[39;00mevent_type\u001b[39m}\u001b[39;00m\u001b[39m'\u001b[39m);  f()\n\u001b[1;32m    200\u001b[0m     \u001b[39mexcept\u001b[39;00m ex: \u001b[39mself\u001b[39m(\u001b[39mf\u001b[39m\u001b[39m'\u001b[39m\u001b[39mafter_cancel_\u001b[39m\u001b[39m{\u001b[39;00mevent_type\u001b[39m}\u001b[39;00m\u001b[39m'\u001b[39m)\n\u001b[1;32m    201\u001b[0m     \u001b[39mself\u001b[39m(\u001b[39mf\u001b[39m\u001b[39m'\u001b[39m\u001b[39mafter_\u001b[39m\u001b[39m{\u001b[39;00mevent_type\u001b[39m}\u001b[39;00m\u001b[39m'\u001b[39m);  final()\n",
      "File \u001b[0;32m~/miniconda3/envs/env_fastai/lib/python3.10/site-packages/fastai/learner.py:247\u001b[0m, in \u001b[0;36mLearner._do_epoch\u001b[0;34m(self)\u001b[0m\n\u001b[1;32m    246\u001b[0m \u001b[39mdef\u001b[39;00m \u001b[39m_do_epoch\u001b[39m(\u001b[39mself\u001b[39m):\n\u001b[0;32m--> 247\u001b[0m     \u001b[39mself\u001b[39;49m\u001b[39m.\u001b[39;49m_do_epoch_train()\n\u001b[1;32m    248\u001b[0m     \u001b[39mself\u001b[39m\u001b[39m.\u001b[39m_do_epoch_validate()\n",
      "File \u001b[0;32m~/miniconda3/envs/env_fastai/lib/python3.10/site-packages/fastai/learner.py:239\u001b[0m, in \u001b[0;36mLearner._do_epoch_train\u001b[0;34m(self)\u001b[0m\n\u001b[1;32m    237\u001b[0m \u001b[39mdef\u001b[39;00m \u001b[39m_do_epoch_train\u001b[39m(\u001b[39mself\u001b[39m):\n\u001b[1;32m    238\u001b[0m     \u001b[39mself\u001b[39m\u001b[39m.\u001b[39mdl \u001b[39m=\u001b[39m \u001b[39mself\u001b[39m\u001b[39m.\u001b[39mdls\u001b[39m.\u001b[39mtrain\n\u001b[0;32m--> 239\u001b[0m     \u001b[39mself\u001b[39;49m\u001b[39m.\u001b[39;49m_with_events(\u001b[39mself\u001b[39;49m\u001b[39m.\u001b[39;49mall_batches, \u001b[39m'\u001b[39;49m\u001b[39mtrain\u001b[39;49m\u001b[39m'\u001b[39;49m, CancelTrainException)\n",
      "File \u001b[0;32m~/miniconda3/envs/env_fastai/lib/python3.10/site-packages/fastai/learner.py:199\u001b[0m, in \u001b[0;36mLearner._with_events\u001b[0;34m(self, f, event_type, ex, final)\u001b[0m\n\u001b[1;32m    198\u001b[0m \u001b[39mdef\u001b[39;00m \u001b[39m_with_events\u001b[39m(\u001b[39mself\u001b[39m, f, event_type, ex, final\u001b[39m=\u001b[39mnoop):\n\u001b[0;32m--> 199\u001b[0m     \u001b[39mtry\u001b[39;00m: \u001b[39mself\u001b[39m(\u001b[39mf\u001b[39m\u001b[39m'\u001b[39m\u001b[39mbefore_\u001b[39m\u001b[39m{\u001b[39;00mevent_type\u001b[39m}\u001b[39;00m\u001b[39m'\u001b[39m);  f()\n\u001b[1;32m    200\u001b[0m     \u001b[39mexcept\u001b[39;00m ex: \u001b[39mself\u001b[39m(\u001b[39mf\u001b[39m\u001b[39m'\u001b[39m\u001b[39mafter_cancel_\u001b[39m\u001b[39m{\u001b[39;00mevent_type\u001b[39m}\u001b[39;00m\u001b[39m'\u001b[39m)\n\u001b[1;32m    201\u001b[0m     \u001b[39mself\u001b[39m(\u001b[39mf\u001b[39m\u001b[39m'\u001b[39m\u001b[39mafter_\u001b[39m\u001b[39m{\u001b[39;00mevent_type\u001b[39m}\u001b[39;00m\u001b[39m'\u001b[39m);  final()\n",
      "File \u001b[0;32m~/miniconda3/envs/env_fastai/lib/python3.10/site-packages/fastai/learner.py:205\u001b[0m, in \u001b[0;36mLearner.all_batches\u001b[0;34m(self)\u001b[0m\n\u001b[1;32m    203\u001b[0m \u001b[39mdef\u001b[39;00m \u001b[39mall_batches\u001b[39m(\u001b[39mself\u001b[39m):\n\u001b[1;32m    204\u001b[0m     \u001b[39mself\u001b[39m\u001b[39m.\u001b[39mn_iter \u001b[39m=\u001b[39m \u001b[39mlen\u001b[39m(\u001b[39mself\u001b[39m\u001b[39m.\u001b[39mdl)\n\u001b[0;32m--> 205\u001b[0m     \u001b[39mfor\u001b[39;00m o \u001b[39min\u001b[39;00m \u001b[39menumerate\u001b[39m(\u001b[39mself\u001b[39m\u001b[39m.\u001b[39mdl): \u001b[39mself\u001b[39;49m\u001b[39m.\u001b[39;49mone_batch(\u001b[39m*\u001b[39;49mo)\n",
      "File \u001b[0;32m~/miniconda3/envs/env_fastai/lib/python3.10/site-packages/fastai/learner.py:235\u001b[0m, in \u001b[0;36mLearner.one_batch\u001b[0;34m(self, i, b)\u001b[0m\n\u001b[1;32m    233\u001b[0m b \u001b[39m=\u001b[39m \u001b[39mself\u001b[39m\u001b[39m.\u001b[39m_set_device(b)\n\u001b[1;32m    234\u001b[0m \u001b[39mself\u001b[39m\u001b[39m.\u001b[39m_split(b)\n\u001b[0;32m--> 235\u001b[0m \u001b[39mself\u001b[39;49m\u001b[39m.\u001b[39;49m_with_events(\u001b[39mself\u001b[39;49m\u001b[39m.\u001b[39;49m_do_one_batch, \u001b[39m'\u001b[39;49m\u001b[39mbatch\u001b[39;49m\u001b[39m'\u001b[39;49m, CancelBatchException)\n",
      "File \u001b[0;32m~/miniconda3/envs/env_fastai/lib/python3.10/site-packages/fastai/learner.py:199\u001b[0m, in \u001b[0;36mLearner._with_events\u001b[0;34m(self, f, event_type, ex, final)\u001b[0m\n\u001b[1;32m    198\u001b[0m \u001b[39mdef\u001b[39;00m \u001b[39m_with_events\u001b[39m(\u001b[39mself\u001b[39m, f, event_type, ex, final\u001b[39m=\u001b[39mnoop):\n\u001b[0;32m--> 199\u001b[0m     \u001b[39mtry\u001b[39;00m: \u001b[39mself\u001b[39m(\u001b[39mf\u001b[39m\u001b[39m'\u001b[39m\u001b[39mbefore_\u001b[39m\u001b[39m{\u001b[39;00mevent_type\u001b[39m}\u001b[39;00m\u001b[39m'\u001b[39m);  f()\n\u001b[1;32m    200\u001b[0m     \u001b[39mexcept\u001b[39;00m ex: \u001b[39mself\u001b[39m(\u001b[39mf\u001b[39m\u001b[39m'\u001b[39m\u001b[39mafter_cancel_\u001b[39m\u001b[39m{\u001b[39;00mevent_type\u001b[39m}\u001b[39;00m\u001b[39m'\u001b[39m)\n\u001b[1;32m    201\u001b[0m     \u001b[39mself\u001b[39m(\u001b[39mf\u001b[39m\u001b[39m'\u001b[39m\u001b[39mafter_\u001b[39m\u001b[39m{\u001b[39;00mevent_type\u001b[39m}\u001b[39;00m\u001b[39m'\u001b[39m);  final()\n",
      "File \u001b[0;32m~/miniconda3/envs/env_fastai/lib/python3.10/site-packages/fastai/learner.py:217\u001b[0m, in \u001b[0;36mLearner._do_one_batch\u001b[0;34m(self)\u001b[0m\n\u001b[1;32m    215\u001b[0m \u001b[39mdef\u001b[39;00m \u001b[39m_do_one_batch\u001b[39m(\u001b[39mself\u001b[39m):\n\u001b[1;32m    216\u001b[0m     \u001b[39mself\u001b[39m\u001b[39m.\u001b[39mpred \u001b[39m=\u001b[39m \u001b[39mself\u001b[39m\u001b[39m.\u001b[39mmodel(\u001b[39m*\u001b[39m\u001b[39mself\u001b[39m\u001b[39m.\u001b[39mxb)\n\u001b[0;32m--> 217\u001b[0m     \u001b[39mself\u001b[39;49m(\u001b[39m'\u001b[39;49m\u001b[39mafter_pred\u001b[39;49m\u001b[39m'\u001b[39;49m)\n\u001b[1;32m    218\u001b[0m     \u001b[39mif\u001b[39;00m \u001b[39mlen\u001b[39m(\u001b[39mself\u001b[39m\u001b[39m.\u001b[39myb):\n\u001b[1;32m    219\u001b[0m         \u001b[39mself\u001b[39m\u001b[39m.\u001b[39mloss_grad \u001b[39m=\u001b[39m \u001b[39mself\u001b[39m\u001b[39m.\u001b[39mloss_func(\u001b[39mself\u001b[39m\u001b[39m.\u001b[39mpred, \u001b[39m*\u001b[39m\u001b[39mself\u001b[39m\u001b[39m.\u001b[39myb)\n",
      "File \u001b[0;32m~/miniconda3/envs/env_fastai/lib/python3.10/site-packages/fastai/learner.py:172\u001b[0m, in \u001b[0;36mLearner.__call__\u001b[0;34m(self, event_name)\u001b[0m\n\u001b[0;32m--> 172\u001b[0m \u001b[39mdef\u001b[39;00m \u001b[39m__call__\u001b[39m(\u001b[39mself\u001b[39m, event_name): L(event_name)\u001b[39m.\u001b[39;49mmap(\u001b[39mself\u001b[39;49m\u001b[39m.\u001b[39;49m_call_one)\n",
      "File \u001b[0;32m~/miniconda3/envs/env_fastai/lib/python3.10/site-packages/fastcore/foundation.py:156\u001b[0m, in \u001b[0;36mL.map\u001b[0;34m(self, f, *args, **kwargs)\u001b[0m\n\u001b[0;32m--> 156\u001b[0m \u001b[39mdef\u001b[39;00m \u001b[39mmap\u001b[39m(\u001b[39mself\u001b[39m, f, \u001b[39m*\u001b[39margs, \u001b[39m*\u001b[39m\u001b[39m*\u001b[39mkwargs): \u001b[39mreturn\u001b[39;00m \u001b[39mself\u001b[39m\u001b[39m.\u001b[39m_new(map_ex(\u001b[39mself\u001b[39;49m, f, \u001b[39m*\u001b[39;49margs, gen\u001b[39m=\u001b[39;49m\u001b[39mFalse\u001b[39;49;00m, \u001b[39m*\u001b[39;49m\u001b[39m*\u001b[39;49mkwargs))\n",
      "File \u001b[0;32m~/miniconda3/envs/env_fastai/lib/python3.10/site-packages/fastcore/basics.py:840\u001b[0m, in \u001b[0;36mmap_ex\u001b[0;34m(iterable, f, gen, *args, **kwargs)\u001b[0m\n\u001b[1;32m    838\u001b[0m res \u001b[39m=\u001b[39m \u001b[39mmap\u001b[39m(g, iterable)\n\u001b[1;32m    839\u001b[0m \u001b[39mif\u001b[39;00m gen: \u001b[39mreturn\u001b[39;00m res\n\u001b[0;32m--> 840\u001b[0m \u001b[39mreturn\u001b[39;00m \u001b[39mlist\u001b[39;49m(res)\n",
      "File \u001b[0;32m~/miniconda3/envs/env_fastai/lib/python3.10/site-packages/fastcore/basics.py:825\u001b[0m, in \u001b[0;36mbind.__call__\u001b[0;34m(self, *args, **kwargs)\u001b[0m\n\u001b[1;32m    823\u001b[0m     \u001b[39mif\u001b[39;00m \u001b[39misinstance\u001b[39m(v,_Arg): kwargs[k] \u001b[39m=\u001b[39m args\u001b[39m.\u001b[39mpop(v\u001b[39m.\u001b[39mi)\n\u001b[1;32m    824\u001b[0m fargs \u001b[39m=\u001b[39m [args[x\u001b[39m.\u001b[39mi] \u001b[39mif\u001b[39;00m \u001b[39misinstance\u001b[39m(x, _Arg) \u001b[39melse\u001b[39;00m x \u001b[39mfor\u001b[39;00m x \u001b[39min\u001b[39;00m \u001b[39mself\u001b[39m\u001b[39m.\u001b[39mpargs] \u001b[39m+\u001b[39m args[\u001b[39mself\u001b[39m\u001b[39m.\u001b[39mmaxi\u001b[39m+\u001b[39m\u001b[39m1\u001b[39m:]\n\u001b[0;32m--> 825\u001b[0m \u001b[39mreturn\u001b[39;00m \u001b[39mself\u001b[39;49m\u001b[39m.\u001b[39;49mfunc(\u001b[39m*\u001b[39;49mfargs, \u001b[39m*\u001b[39;49m\u001b[39m*\u001b[39;49mkwargs)\n",
      "File \u001b[0;32m~/miniconda3/envs/env_fastai/lib/python3.10/site-packages/fastai/learner.py:176\u001b[0m, in \u001b[0;36mLearner._call_one\u001b[0;34m(self, event_name)\u001b[0m\n\u001b[1;32m    174\u001b[0m \u001b[39mdef\u001b[39;00m \u001b[39m_call_one\u001b[39m(\u001b[39mself\u001b[39m, event_name):\n\u001b[1;32m    175\u001b[0m     \u001b[39mif\u001b[39;00m \u001b[39mnot\u001b[39;00m \u001b[39mhasattr\u001b[39m(event, event_name): \u001b[39mraise\u001b[39;00m \u001b[39mException\u001b[39;00m(\u001b[39mf\u001b[39m\u001b[39m'\u001b[39m\u001b[39mmissing \u001b[39m\u001b[39m{\u001b[39;00mevent_name\u001b[39m}\u001b[39;00m\u001b[39m'\u001b[39m)\n\u001b[0;32m--> 176\u001b[0m     \u001b[39mfor\u001b[39;00m cb \u001b[39min\u001b[39;00m \u001b[39mself\u001b[39m\u001b[39m.\u001b[39mcbs\u001b[39m.\u001b[39msorted(\u001b[39m'\u001b[39m\u001b[39morder\u001b[39m\u001b[39m'\u001b[39m): cb(event_name)\n",
      "File \u001b[0;32m~/miniconda3/envs/env_fastai/lib/python3.10/site-packages/fastai/callback/core.py:62\u001b[0m, in \u001b[0;36mCallback.__call__\u001b[0;34m(self, event_name)\u001b[0m\n\u001b[1;32m     60\u001b[0m     \u001b[39mtry\u001b[39;00m: res \u001b[39m=\u001b[39m getcallable(\u001b[39mself\u001b[39m, event_name)()\n\u001b[1;32m     61\u001b[0m     \u001b[39mexcept\u001b[39;00m (CancelBatchException, CancelBackwardException, CancelEpochException, CancelFitException, CancelStepException, CancelTrainException, CancelValidException): \u001b[39mraise\u001b[39;00m\n\u001b[0;32m---> 62\u001b[0m     \u001b[39mexcept\u001b[39;00m \u001b[39mException\u001b[39;00m \u001b[39mas\u001b[39;00m e: \u001b[39mraise\u001b[39;00m modify_exception(e, \u001b[39mf\u001b[39m\u001b[39m'\u001b[39m\u001b[39mException occured in `\u001b[39m\u001b[39m{\u001b[39;00m\u001b[39mself\u001b[39m\u001b[39m.\u001b[39m\u001b[39m__class__\u001b[39m\u001b[39m.\u001b[39m\u001b[39m__name__\u001b[39m\u001b[39m}\u001b[39;00m\u001b[39m` when calling event `\u001b[39m\u001b[39m{\u001b[39;00mevent_name\u001b[39m}\u001b[39;00m\u001b[39m`:\u001b[39m\u001b[39m\\n\u001b[39;00m\u001b[39m\\t\u001b[39;00m\u001b[39m{\u001b[39;00me\u001b[39m.\u001b[39margs[\u001b[39m0\u001b[39m]\u001b[39m}\u001b[39;00m\u001b[39m'\u001b[39m, replace\u001b[39m=\u001b[39m\u001b[39mTrue\u001b[39;00m)\n\u001b[1;32m     63\u001b[0m \u001b[39mif\u001b[39;00m event_name\u001b[39m==\u001b[39m\u001b[39m'\u001b[39m\u001b[39mafter_fit\u001b[39m\u001b[39m'\u001b[39m: \u001b[39mself\u001b[39m\u001b[39m.\u001b[39mrun\u001b[39m=\u001b[39m\u001b[39mTrue\u001b[39;00m \u001b[39m#Reset self.run to True at each end of fit\u001b[39;00m\n\u001b[1;32m     64\u001b[0m \u001b[39mreturn\u001b[39;00m res\n",
      "File \u001b[0;32m~/miniconda3/envs/env_fastai/lib/python3.10/site-packages/fastai/callback/core.py:60\u001b[0m, in \u001b[0;36mCallback.__call__\u001b[0;34m(self, event_name)\u001b[0m\n\u001b[1;32m     58\u001b[0m res \u001b[39m=\u001b[39m \u001b[39mNone\u001b[39;00m\n\u001b[1;32m     59\u001b[0m \u001b[39mif\u001b[39;00m \u001b[39mself\u001b[39m\u001b[39m.\u001b[39mrun \u001b[39mand\u001b[39;00m _run: \n\u001b[0;32m---> 60\u001b[0m     \u001b[39mtry\u001b[39;00m: res \u001b[39m=\u001b[39m getcallable(\u001b[39mself\u001b[39;49m, event_name)()\n\u001b[1;32m     61\u001b[0m     \u001b[39mexcept\u001b[39;00m (CancelBatchException, CancelBackwardException, CancelEpochException, CancelFitException, CancelStepException, CancelTrainException, CancelValidException): \u001b[39mraise\u001b[39;00m\n\u001b[1;32m     62\u001b[0m     \u001b[39mexcept\u001b[39;00m \u001b[39mException\u001b[39;00m \u001b[39mas\u001b[39;00m e: \u001b[39mraise\u001b[39;00m modify_exception(e, \u001b[39mf\u001b[39m\u001b[39m'\u001b[39m\u001b[39mException occured in `\u001b[39m\u001b[39m{\u001b[39;00m\u001b[39mself\u001b[39m\u001b[39m.\u001b[39m\u001b[39m__class__\u001b[39m\u001b[39m.\u001b[39m\u001b[39m__name__\u001b[39m\u001b[39m}\u001b[39;00m\u001b[39m` when calling event `\u001b[39m\u001b[39m{\u001b[39;00mevent_name\u001b[39m}\u001b[39;00m\u001b[39m`:\u001b[39m\u001b[39m\\n\u001b[39;00m\u001b[39m\\t\u001b[39;00m\u001b[39m{\u001b[39;00me\u001b[39m.\u001b[39margs[\u001b[39m0\u001b[39m]\u001b[39m}\u001b[39;00m\u001b[39m'\u001b[39m, replace\u001b[39m=\u001b[39m\u001b[39mTrue\u001b[39;00m)\n",
      "Cell \u001b[0;32mIn[36], line 22\u001b[0m, in \u001b[0;36mImportanceSampling.after_pred\u001b[0;34m(self)\u001b[0m\n\u001b[1;32m     17\u001b[0m \u001b[39m#get the indices of each item in the batch from the dataloader\u001b[39;00m\n\u001b[1;32m     18\u001b[0m \u001b[39m# import pdb; pdb.set_trace()\u001b[39;00m\n\u001b[1;32m     19\u001b[0m \n\u001b[1;32m     20\u001b[0m \u001b[39m#if the loss_list is empty, initialize it with dataloader wgts\u001b[39;00m\n\u001b[1;32m     21\u001b[0m \u001b[39mif\u001b[39;00m \u001b[39mself\u001b[39m\u001b[39m.\u001b[39mloss_list \u001b[39mis\u001b[39;00m \u001b[39mNone\u001b[39;00m:\n\u001b[0;32m---> 22\u001b[0m     \u001b[39mself\u001b[39m\u001b[39m.\u001b[39mloss_list \u001b[39m=\u001b[39m \u001b[39mself\u001b[39;49m\u001b[39m.\u001b[39;49mlearn\u001b[39m.\u001b[39;49mdls\u001b[39m.\u001b[39;49mtrain\u001b[39m.\u001b[39;49mwgts\u001b[39m.\u001b[39;49mclone()\n\u001b[1;32m     23\u001b[0m     \u001b[39m#scale the loss_list mean to the mean loss of the batch\u001b[39;00m\n\u001b[1;32m     24\u001b[0m     \u001b[39mself\u001b[39m\u001b[39m.\u001b[39mloss_list \u001b[39m*\u001b[39m\u001b[39m=\u001b[39m \u001b[39mself\u001b[39m\u001b[39m.\u001b[39mloss_list\u001b[39m.\u001b[39mnumel()\u001b[39m/\u001b[39mlosses\u001b[39m.\u001b[39mmean()\n",
      "\u001b[0;31mAttributeError\u001b[0m: Exception occured in `ImportanceSampling` when calling event `after_pred`:\n\t'NoneType' object has no attribute 'clone'"
     ]
    }
   ],
   "source": [
    "lrn = RNNLearner(db,num_layers=1,stateful=False,metrics=[SkipNLoss(fun_rmse,1),fun_rmse],cbs=ImportanceSampling())\n",
    "lrn.fit(1)"
   ]
  },
  {
   "cell_type": "code",
   "execution_count": 42,
   "metadata": {},
   "outputs": [
    {
     "name": "stdout",
     "output_type": "stream",
     "text": [
      "No wgts provided for WeightedDL. Was that intentional?\n",
      "No wgts provided for WeightedDL. Was that intentional?\n"
     ]
    },
    {
     "data": {
      "text/html": [
       "\n",
       "<style>\n",
       "    /* Turns off some styling */\n",
       "    progress {\n",
       "        /* gets rid of default border in Firefox and Opera. */\n",
       "        border: none;\n",
       "        /* Needs to be in here for Safari polyfill so background images work as expected. */\n",
       "        background-size: auto;\n",
       "    }\n",
       "    progress:not([value]), progress:not([value])::-webkit-progress-bar {\n",
       "        background: repeating-linear-gradient(45deg, #7e7e7e, #7e7e7e 10px, #5c5c5c 10px, #5c5c5c 20px);\n",
       "    }\n",
       "    .progress-bar-interrupted, .progress-bar-interrupted::-webkit-progress-bar {\n",
       "        background: #F44336;\n",
       "    }\n",
       "</style>\n"
      ],
      "text/plain": [
       "<IPython.core.display.HTML object>"
      ]
     },
     "metadata": {},
     "output_type": "display_data"
    },
    {
     "data": {
      "text/html": [
       "\n",
       "    <div>\n",
       "      <progress value='0' class='' max='1' style='width:300px; height:20px; vertical-align: middle;'></progress>\n",
       "      0.00% [0/1 00:00&lt;?]\n",
       "    </div>\n",
       "    \n",
       "<table border=\"1\" class=\"dataframe\">\n",
       "  <thead>\n",
       "    <tr style=\"text-align: left;\">\n",
       "      <th>epoch</th>\n",
       "      <th>train_loss</th>\n",
       "      <th>valid_loss</th>\n",
       "      <th>fun_rmse</th>\n",
       "      <th>fun_rmse</th>\n",
       "      <th>time</th>\n",
       "    </tr>\n",
       "  </thead>\n",
       "  <tbody>\n",
       "  </tbody>\n",
       "</table><p>\n",
       "\n",
       "    <div>\n",
       "      <progress value='0' class='' max='16' style='width:300px; height:20px; vertical-align: middle;'></progress>\n",
       "      0.00% [0/16 00:00&lt;?]\n",
       "    </div>\n",
       "    "
      ],
      "text/plain": [
       "<IPython.core.display.HTML object>"
      ]
     },
     "metadata": {},
     "output_type": "display_data"
    },
    {
     "name": "stdout",
     "output_type": "stream",
     "text": [
      "> \u001b[0;32m/tmp/ipykernel_1278415/2494366326.py\u001b[0m(21)\u001b[0;36mafter_pred\u001b[0;34m()\u001b[0m\n",
      "\u001b[0;32m     19 \u001b[0;31m\u001b[0;34m\u001b[0m\u001b[0m\n",
      "\u001b[0m\u001b[0;32m     20 \u001b[0;31m        \u001b[0;31m#if the loss_list is empty, initialize it with dataloader wgts\u001b[0m\u001b[0;34m\u001b[0m\u001b[0;34m\u001b[0m\u001b[0m\n",
      "\u001b[0m\u001b[0;32m---> 21 \u001b[0;31m        \u001b[0;32mif\u001b[0m \u001b[0mself\u001b[0m\u001b[0;34m.\u001b[0m\u001b[0mloss_list\u001b[0m \u001b[0;32mis\u001b[0m \u001b[0;32mNone\u001b[0m\u001b[0;34m:\u001b[0m\u001b[0;34m\u001b[0m\u001b[0;34m\u001b[0m\u001b[0m\n",
      "\u001b[0m\u001b[0;32m     22 \u001b[0;31m            \u001b[0mself\u001b[0m\u001b[0;34m.\u001b[0m\u001b[0mloss_list\u001b[0m \u001b[0;34m=\u001b[0m \u001b[0mself\u001b[0m\u001b[0;34m.\u001b[0m\u001b[0mlearn\u001b[0m\u001b[0;34m.\u001b[0m\u001b[0mdls\u001b[0m\u001b[0;34m.\u001b[0m\u001b[0mtrain\u001b[0m\u001b[0;34m.\u001b[0m\u001b[0mwgts\u001b[0m\u001b[0;34m.\u001b[0m\u001b[0mclone\u001b[0m\u001b[0;34m(\u001b[0m\u001b[0;34m)\u001b[0m\u001b[0;34m\u001b[0m\u001b[0;34m\u001b[0m\u001b[0m\n",
      "\u001b[0m\u001b[0;32m     23 \u001b[0;31m            \u001b[0;31m#scale the loss_list mean to the mean loss of the batch\u001b[0m\u001b[0;34m\u001b[0m\u001b[0;34m\u001b[0m\u001b[0m\n",
      "\u001b[0m\n",
      "*** AttributeError: __idxs\n",
      "*** AttributeError: __idxs\n",
      "*** AttributeError: __idxs\n",
      "*** AttributeError: __idxs\n",
      "*** AttributeError: __idxs\n",
      "*** AttributeError: idxs\n",
      "*** AttributeError: idxs\n"
     ]
    },
    {
     "ename": "IndexError",
     "evalue": "tuple index out of range",
     "output_type": "error",
     "traceback": [
      "\u001b[0;31m---------------------------------------------------------------------------\u001b[0m",
      "\u001b[0;31mBdbQuit\u001b[0m                                   Traceback (most recent call last)",
      "File \u001b[0;32m~/miniconda3/envs/env_fastai/lib/python3.10/site-packages/fastai/callback/core.py:60\u001b[0m, in \u001b[0;36mCallback.__call__\u001b[0;34m(self, event_name)\u001b[0m\n\u001b[1;32m     59\u001b[0m \u001b[39mif\u001b[39;00m \u001b[39mself\u001b[39m\u001b[39m.\u001b[39mrun \u001b[39mand\u001b[39;00m _run: \n\u001b[0;32m---> 60\u001b[0m     \u001b[39mtry\u001b[39;00m: res \u001b[39m=\u001b[39m getcallable(\u001b[39mself\u001b[39;49m, event_name)()\n\u001b[1;32m     61\u001b[0m     \u001b[39mexcept\u001b[39;00m (CancelBatchException, CancelBackwardException, CancelEpochException, CancelFitException, CancelStepException, CancelTrainException, CancelValidException): \u001b[39mraise\u001b[39;00m\n",
      "Cell \u001b[0;32mIn[41], line 21\u001b[0m, in \u001b[0;36mImportanceSampling.after_pred\u001b[0;34m(self)\u001b[0m\n\u001b[1;32m     20\u001b[0m \u001b[39m#if the loss_list is empty, initialize it with dataloader wgts\u001b[39;00m\n\u001b[0;32m---> 21\u001b[0m \u001b[39mif\u001b[39;00m \u001b[39mself\u001b[39;49m\u001b[39m.\u001b[39mloss_list \u001b[39mis\u001b[39;00m \u001b[39mNone\u001b[39;00m:\n\u001b[1;32m     22\u001b[0m     \u001b[39mself\u001b[39m\u001b[39m.\u001b[39mloss_list \u001b[39m=\u001b[39m \u001b[39mself\u001b[39m\u001b[39m.\u001b[39mlearn\u001b[39m.\u001b[39mdls\u001b[39m.\u001b[39mtrain\u001b[39m.\u001b[39mwgts\u001b[39m.\u001b[39mclone()\n",
      "Cell \u001b[0;32mIn[41], line 21\u001b[0m, in \u001b[0;36mImportanceSampling.after_pred\u001b[0;34m(self)\u001b[0m\n\u001b[1;32m     20\u001b[0m \u001b[39m#if the loss_list is empty, initialize it with dataloader wgts\u001b[39;00m\n\u001b[0;32m---> 21\u001b[0m \u001b[39mif\u001b[39;00m \u001b[39mself\u001b[39;49m\u001b[39m.\u001b[39mloss_list \u001b[39mis\u001b[39;00m \u001b[39mNone\u001b[39;00m:\n\u001b[1;32m     22\u001b[0m     \u001b[39mself\u001b[39m\u001b[39m.\u001b[39mloss_list \u001b[39m=\u001b[39m \u001b[39mself\u001b[39m\u001b[39m.\u001b[39mlearn\u001b[39m.\u001b[39mdls\u001b[39m.\u001b[39mtrain\u001b[39m.\u001b[39mwgts\u001b[39m.\u001b[39mclone()\n",
      "File \u001b[0;32m~/miniconda3/envs/env_fastai/lib/python3.10/bdb.py:90\u001b[0m, in \u001b[0;36mBdb.trace_dispatch\u001b[0;34m(self, frame, event, arg)\u001b[0m\n\u001b[1;32m     89\u001b[0m \u001b[39mif\u001b[39;00m event \u001b[39m==\u001b[39m \u001b[39m'\u001b[39m\u001b[39mline\u001b[39m\u001b[39m'\u001b[39m:\n\u001b[0;32m---> 90\u001b[0m     \u001b[39mreturn\u001b[39;00m \u001b[39mself\u001b[39;49m\u001b[39m.\u001b[39;49mdispatch_line(frame)\n\u001b[1;32m     91\u001b[0m \u001b[39mif\u001b[39;00m event \u001b[39m==\u001b[39m \u001b[39m'\u001b[39m\u001b[39mcall\u001b[39m\u001b[39m'\u001b[39m:\n",
      "File \u001b[0;32m~/miniconda3/envs/env_fastai/lib/python3.10/bdb.py:115\u001b[0m, in \u001b[0;36mBdb.dispatch_line\u001b[0;34m(self, frame)\u001b[0m\n\u001b[1;32m    114\u001b[0m     \u001b[39mself\u001b[39m\u001b[39m.\u001b[39muser_line(frame)\n\u001b[0;32m--> 115\u001b[0m     \u001b[39mif\u001b[39;00m \u001b[39mself\u001b[39m\u001b[39m.\u001b[39mquitting: \u001b[39mraise\u001b[39;00m BdbQuit\n\u001b[1;32m    116\u001b[0m \u001b[39mreturn\u001b[39;00m \u001b[39mself\u001b[39m\u001b[39m.\u001b[39mtrace_dispatch\n",
      "\u001b[0;31mBdbQuit\u001b[0m: ",
      "\nDuring handling of the above exception, another exception occurred:\n",
      "\u001b[0;31mIndexError\u001b[0m                                Traceback (most recent call last)",
      "Cell \u001b[0;32mIn[42], line 9\u001b[0m\n\u001b[1;32m      6\u001b[0m \u001b[39m# db = seq.dataloaders(get_hdf_files('test_data/battery'),dl_type=TbpttDl,sub_seq_len=200)\u001b[39;00m\n\u001b[1;32m      7\u001b[0m db \u001b[39m=\u001b[39m seq\u001b[39m.\u001b[39mdataloaders(get_hdf_files(\u001b[39m'\u001b[39m\u001b[39mtest_data/battery\u001b[39m\u001b[39m'\u001b[39m),dl_type\u001b[39m=\u001b[39mWeightedDL_Factory(TfmdDL))\n\u001b[0;32m----> 9\u001b[0m RNNLearner(db,num_layers\u001b[39m=\u001b[39;49m\u001b[39m1\u001b[39;49m,stateful\u001b[39m=\u001b[39;49m\u001b[39mFalse\u001b[39;49;00m,metrics\u001b[39m=\u001b[39;49m[SkipNLoss(fun_rmse,\u001b[39m1\u001b[39;49m),fun_rmse],cbs\u001b[39m=\u001b[39;49mImportanceSampling())\u001b[39m.\u001b[39;49mfit(\u001b[39m1\u001b[39;49m)\n",
      "File \u001b[0;32m~/miniconda3/envs/env_fastai/lib/python3.10/site-packages/fastai/learner.py:264\u001b[0m, in \u001b[0;36mLearner.fit\u001b[0;34m(self, n_epoch, lr, wd, cbs, reset_opt, start_epoch)\u001b[0m\n\u001b[1;32m    262\u001b[0m \u001b[39mself\u001b[39m\u001b[39m.\u001b[39mopt\u001b[39m.\u001b[39mset_hypers(lr\u001b[39m=\u001b[39m\u001b[39mself\u001b[39m\u001b[39m.\u001b[39mlr \u001b[39mif\u001b[39;00m lr \u001b[39mis\u001b[39;00m \u001b[39mNone\u001b[39;00m \u001b[39melse\u001b[39;00m lr)\n\u001b[1;32m    263\u001b[0m \u001b[39mself\u001b[39m\u001b[39m.\u001b[39mn_epoch \u001b[39m=\u001b[39m n_epoch\n\u001b[0;32m--> 264\u001b[0m \u001b[39mself\u001b[39;49m\u001b[39m.\u001b[39;49m_with_events(\u001b[39mself\u001b[39;49m\u001b[39m.\u001b[39;49m_do_fit, \u001b[39m'\u001b[39;49m\u001b[39mfit\u001b[39;49m\u001b[39m'\u001b[39;49m, CancelFitException, \u001b[39mself\u001b[39;49m\u001b[39m.\u001b[39;49m_end_cleanup)\n",
      "File \u001b[0;32m~/miniconda3/envs/env_fastai/lib/python3.10/site-packages/fastai/learner.py:199\u001b[0m, in \u001b[0;36mLearner._with_events\u001b[0;34m(self, f, event_type, ex, final)\u001b[0m\n\u001b[1;32m    198\u001b[0m \u001b[39mdef\u001b[39;00m \u001b[39m_with_events\u001b[39m(\u001b[39mself\u001b[39m, f, event_type, ex, final\u001b[39m=\u001b[39mnoop):\n\u001b[0;32m--> 199\u001b[0m     \u001b[39mtry\u001b[39;00m: \u001b[39mself\u001b[39m(\u001b[39mf\u001b[39m\u001b[39m'\u001b[39m\u001b[39mbefore_\u001b[39m\u001b[39m{\u001b[39;00mevent_type\u001b[39m}\u001b[39;00m\u001b[39m'\u001b[39m);  f()\n\u001b[1;32m    200\u001b[0m     \u001b[39mexcept\u001b[39;00m ex: \u001b[39mself\u001b[39m(\u001b[39mf\u001b[39m\u001b[39m'\u001b[39m\u001b[39mafter_cancel_\u001b[39m\u001b[39m{\u001b[39;00mevent_type\u001b[39m}\u001b[39;00m\u001b[39m'\u001b[39m)\n\u001b[1;32m    201\u001b[0m     \u001b[39mself\u001b[39m(\u001b[39mf\u001b[39m\u001b[39m'\u001b[39m\u001b[39mafter_\u001b[39m\u001b[39m{\u001b[39;00mevent_type\u001b[39m}\u001b[39;00m\u001b[39m'\u001b[39m);  final()\n",
      "File \u001b[0;32m~/miniconda3/envs/env_fastai/lib/python3.10/site-packages/fastai/learner.py:253\u001b[0m, in \u001b[0;36mLearner._do_fit\u001b[0;34m(self)\u001b[0m\n\u001b[1;32m    251\u001b[0m \u001b[39mfor\u001b[39;00m epoch \u001b[39min\u001b[39;00m \u001b[39mrange\u001b[39m(\u001b[39mself\u001b[39m\u001b[39m.\u001b[39mn_epoch):\n\u001b[1;32m    252\u001b[0m     \u001b[39mself\u001b[39m\u001b[39m.\u001b[39mepoch\u001b[39m=\u001b[39mepoch\n\u001b[0;32m--> 253\u001b[0m     \u001b[39mself\u001b[39;49m\u001b[39m.\u001b[39;49m_with_events(\u001b[39mself\u001b[39;49m\u001b[39m.\u001b[39;49m_do_epoch, \u001b[39m'\u001b[39;49m\u001b[39mepoch\u001b[39;49m\u001b[39m'\u001b[39;49m, CancelEpochException)\n",
      "File \u001b[0;32m~/miniconda3/envs/env_fastai/lib/python3.10/site-packages/fastai/learner.py:199\u001b[0m, in \u001b[0;36mLearner._with_events\u001b[0;34m(self, f, event_type, ex, final)\u001b[0m\n\u001b[1;32m    198\u001b[0m \u001b[39mdef\u001b[39;00m \u001b[39m_with_events\u001b[39m(\u001b[39mself\u001b[39m, f, event_type, ex, final\u001b[39m=\u001b[39mnoop):\n\u001b[0;32m--> 199\u001b[0m     \u001b[39mtry\u001b[39;00m: \u001b[39mself\u001b[39m(\u001b[39mf\u001b[39m\u001b[39m'\u001b[39m\u001b[39mbefore_\u001b[39m\u001b[39m{\u001b[39;00mevent_type\u001b[39m}\u001b[39;00m\u001b[39m'\u001b[39m);  f()\n\u001b[1;32m    200\u001b[0m     \u001b[39mexcept\u001b[39;00m ex: \u001b[39mself\u001b[39m(\u001b[39mf\u001b[39m\u001b[39m'\u001b[39m\u001b[39mafter_cancel_\u001b[39m\u001b[39m{\u001b[39;00mevent_type\u001b[39m}\u001b[39;00m\u001b[39m'\u001b[39m)\n\u001b[1;32m    201\u001b[0m     \u001b[39mself\u001b[39m(\u001b[39mf\u001b[39m\u001b[39m'\u001b[39m\u001b[39mafter_\u001b[39m\u001b[39m{\u001b[39;00mevent_type\u001b[39m}\u001b[39;00m\u001b[39m'\u001b[39m);  final()\n",
      "File \u001b[0;32m~/miniconda3/envs/env_fastai/lib/python3.10/site-packages/fastai/learner.py:247\u001b[0m, in \u001b[0;36mLearner._do_epoch\u001b[0;34m(self)\u001b[0m\n\u001b[1;32m    246\u001b[0m \u001b[39mdef\u001b[39;00m \u001b[39m_do_epoch\u001b[39m(\u001b[39mself\u001b[39m):\n\u001b[0;32m--> 247\u001b[0m     \u001b[39mself\u001b[39;49m\u001b[39m.\u001b[39;49m_do_epoch_train()\n\u001b[1;32m    248\u001b[0m     \u001b[39mself\u001b[39m\u001b[39m.\u001b[39m_do_epoch_validate()\n",
      "File \u001b[0;32m~/miniconda3/envs/env_fastai/lib/python3.10/site-packages/fastai/learner.py:239\u001b[0m, in \u001b[0;36mLearner._do_epoch_train\u001b[0;34m(self)\u001b[0m\n\u001b[1;32m    237\u001b[0m \u001b[39mdef\u001b[39;00m \u001b[39m_do_epoch_train\u001b[39m(\u001b[39mself\u001b[39m):\n\u001b[1;32m    238\u001b[0m     \u001b[39mself\u001b[39m\u001b[39m.\u001b[39mdl \u001b[39m=\u001b[39m \u001b[39mself\u001b[39m\u001b[39m.\u001b[39mdls\u001b[39m.\u001b[39mtrain\n\u001b[0;32m--> 239\u001b[0m     \u001b[39mself\u001b[39;49m\u001b[39m.\u001b[39;49m_with_events(\u001b[39mself\u001b[39;49m\u001b[39m.\u001b[39;49mall_batches, \u001b[39m'\u001b[39;49m\u001b[39mtrain\u001b[39;49m\u001b[39m'\u001b[39;49m, CancelTrainException)\n",
      "File \u001b[0;32m~/miniconda3/envs/env_fastai/lib/python3.10/site-packages/fastai/learner.py:199\u001b[0m, in \u001b[0;36mLearner._with_events\u001b[0;34m(self, f, event_type, ex, final)\u001b[0m\n\u001b[1;32m    198\u001b[0m \u001b[39mdef\u001b[39;00m \u001b[39m_with_events\u001b[39m(\u001b[39mself\u001b[39m, f, event_type, ex, final\u001b[39m=\u001b[39mnoop):\n\u001b[0;32m--> 199\u001b[0m     \u001b[39mtry\u001b[39;00m: \u001b[39mself\u001b[39m(\u001b[39mf\u001b[39m\u001b[39m'\u001b[39m\u001b[39mbefore_\u001b[39m\u001b[39m{\u001b[39;00mevent_type\u001b[39m}\u001b[39;00m\u001b[39m'\u001b[39m);  f()\n\u001b[1;32m    200\u001b[0m     \u001b[39mexcept\u001b[39;00m ex: \u001b[39mself\u001b[39m(\u001b[39mf\u001b[39m\u001b[39m'\u001b[39m\u001b[39mafter_cancel_\u001b[39m\u001b[39m{\u001b[39;00mevent_type\u001b[39m}\u001b[39;00m\u001b[39m'\u001b[39m)\n\u001b[1;32m    201\u001b[0m     \u001b[39mself\u001b[39m(\u001b[39mf\u001b[39m\u001b[39m'\u001b[39m\u001b[39mafter_\u001b[39m\u001b[39m{\u001b[39;00mevent_type\u001b[39m}\u001b[39;00m\u001b[39m'\u001b[39m);  final()\n",
      "File \u001b[0;32m~/miniconda3/envs/env_fastai/lib/python3.10/site-packages/fastai/learner.py:205\u001b[0m, in \u001b[0;36mLearner.all_batches\u001b[0;34m(self)\u001b[0m\n\u001b[1;32m    203\u001b[0m \u001b[39mdef\u001b[39;00m \u001b[39mall_batches\u001b[39m(\u001b[39mself\u001b[39m):\n\u001b[1;32m    204\u001b[0m     \u001b[39mself\u001b[39m\u001b[39m.\u001b[39mn_iter \u001b[39m=\u001b[39m \u001b[39mlen\u001b[39m(\u001b[39mself\u001b[39m\u001b[39m.\u001b[39mdl)\n\u001b[0;32m--> 205\u001b[0m     \u001b[39mfor\u001b[39;00m o \u001b[39min\u001b[39;00m \u001b[39menumerate\u001b[39m(\u001b[39mself\u001b[39m\u001b[39m.\u001b[39mdl): \u001b[39mself\u001b[39;49m\u001b[39m.\u001b[39;49mone_batch(\u001b[39m*\u001b[39;49mo)\n",
      "File \u001b[0;32m~/miniconda3/envs/env_fastai/lib/python3.10/site-packages/fastai/learner.py:235\u001b[0m, in \u001b[0;36mLearner.one_batch\u001b[0;34m(self, i, b)\u001b[0m\n\u001b[1;32m    233\u001b[0m b \u001b[39m=\u001b[39m \u001b[39mself\u001b[39m\u001b[39m.\u001b[39m_set_device(b)\n\u001b[1;32m    234\u001b[0m \u001b[39mself\u001b[39m\u001b[39m.\u001b[39m_split(b)\n\u001b[0;32m--> 235\u001b[0m \u001b[39mself\u001b[39;49m\u001b[39m.\u001b[39;49m_with_events(\u001b[39mself\u001b[39;49m\u001b[39m.\u001b[39;49m_do_one_batch, \u001b[39m'\u001b[39;49m\u001b[39mbatch\u001b[39;49m\u001b[39m'\u001b[39;49m, CancelBatchException)\n",
      "File \u001b[0;32m~/miniconda3/envs/env_fastai/lib/python3.10/site-packages/fastai/learner.py:199\u001b[0m, in \u001b[0;36mLearner._with_events\u001b[0;34m(self, f, event_type, ex, final)\u001b[0m\n\u001b[1;32m    198\u001b[0m \u001b[39mdef\u001b[39;00m \u001b[39m_with_events\u001b[39m(\u001b[39mself\u001b[39m, f, event_type, ex, final\u001b[39m=\u001b[39mnoop):\n\u001b[0;32m--> 199\u001b[0m     \u001b[39mtry\u001b[39;00m: \u001b[39mself\u001b[39m(\u001b[39mf\u001b[39m\u001b[39m'\u001b[39m\u001b[39mbefore_\u001b[39m\u001b[39m{\u001b[39;00mevent_type\u001b[39m}\u001b[39;00m\u001b[39m'\u001b[39m);  f()\n\u001b[1;32m    200\u001b[0m     \u001b[39mexcept\u001b[39;00m ex: \u001b[39mself\u001b[39m(\u001b[39mf\u001b[39m\u001b[39m'\u001b[39m\u001b[39mafter_cancel_\u001b[39m\u001b[39m{\u001b[39;00mevent_type\u001b[39m}\u001b[39;00m\u001b[39m'\u001b[39m)\n\u001b[1;32m    201\u001b[0m     \u001b[39mself\u001b[39m(\u001b[39mf\u001b[39m\u001b[39m'\u001b[39m\u001b[39mafter_\u001b[39m\u001b[39m{\u001b[39;00mevent_type\u001b[39m}\u001b[39;00m\u001b[39m'\u001b[39m);  final()\n",
      "File \u001b[0;32m~/miniconda3/envs/env_fastai/lib/python3.10/site-packages/fastai/learner.py:217\u001b[0m, in \u001b[0;36mLearner._do_one_batch\u001b[0;34m(self)\u001b[0m\n\u001b[1;32m    215\u001b[0m \u001b[39mdef\u001b[39;00m \u001b[39m_do_one_batch\u001b[39m(\u001b[39mself\u001b[39m):\n\u001b[1;32m    216\u001b[0m     \u001b[39mself\u001b[39m\u001b[39m.\u001b[39mpred \u001b[39m=\u001b[39m \u001b[39mself\u001b[39m\u001b[39m.\u001b[39mmodel(\u001b[39m*\u001b[39m\u001b[39mself\u001b[39m\u001b[39m.\u001b[39mxb)\n\u001b[0;32m--> 217\u001b[0m     \u001b[39mself\u001b[39;49m(\u001b[39m'\u001b[39;49m\u001b[39mafter_pred\u001b[39;49m\u001b[39m'\u001b[39;49m)\n\u001b[1;32m    218\u001b[0m     \u001b[39mif\u001b[39;00m \u001b[39mlen\u001b[39m(\u001b[39mself\u001b[39m\u001b[39m.\u001b[39myb):\n\u001b[1;32m    219\u001b[0m         \u001b[39mself\u001b[39m\u001b[39m.\u001b[39mloss_grad \u001b[39m=\u001b[39m \u001b[39mself\u001b[39m\u001b[39m.\u001b[39mloss_func(\u001b[39mself\u001b[39m\u001b[39m.\u001b[39mpred, \u001b[39m*\u001b[39m\u001b[39mself\u001b[39m\u001b[39m.\u001b[39myb)\n",
      "File \u001b[0;32m~/miniconda3/envs/env_fastai/lib/python3.10/site-packages/fastai/learner.py:172\u001b[0m, in \u001b[0;36mLearner.__call__\u001b[0;34m(self, event_name)\u001b[0m\n\u001b[0;32m--> 172\u001b[0m \u001b[39mdef\u001b[39;00m \u001b[39m__call__\u001b[39m(\u001b[39mself\u001b[39m, event_name): L(event_name)\u001b[39m.\u001b[39;49mmap(\u001b[39mself\u001b[39;49m\u001b[39m.\u001b[39;49m_call_one)\n",
      "File \u001b[0;32m~/miniconda3/envs/env_fastai/lib/python3.10/site-packages/fastcore/foundation.py:156\u001b[0m, in \u001b[0;36mL.map\u001b[0;34m(self, f, *args, **kwargs)\u001b[0m\n\u001b[0;32m--> 156\u001b[0m \u001b[39mdef\u001b[39;00m \u001b[39mmap\u001b[39m(\u001b[39mself\u001b[39m, f, \u001b[39m*\u001b[39margs, \u001b[39m*\u001b[39m\u001b[39m*\u001b[39mkwargs): \u001b[39mreturn\u001b[39;00m \u001b[39mself\u001b[39m\u001b[39m.\u001b[39m_new(map_ex(\u001b[39mself\u001b[39;49m, f, \u001b[39m*\u001b[39;49margs, gen\u001b[39m=\u001b[39;49m\u001b[39mFalse\u001b[39;49;00m, \u001b[39m*\u001b[39;49m\u001b[39m*\u001b[39;49mkwargs))\n",
      "File \u001b[0;32m~/miniconda3/envs/env_fastai/lib/python3.10/site-packages/fastcore/basics.py:840\u001b[0m, in \u001b[0;36mmap_ex\u001b[0;34m(iterable, f, gen, *args, **kwargs)\u001b[0m\n\u001b[1;32m    838\u001b[0m res \u001b[39m=\u001b[39m \u001b[39mmap\u001b[39m(g, iterable)\n\u001b[1;32m    839\u001b[0m \u001b[39mif\u001b[39;00m gen: \u001b[39mreturn\u001b[39;00m res\n\u001b[0;32m--> 840\u001b[0m \u001b[39mreturn\u001b[39;00m \u001b[39mlist\u001b[39;49m(res)\n",
      "File \u001b[0;32m~/miniconda3/envs/env_fastai/lib/python3.10/site-packages/fastcore/basics.py:825\u001b[0m, in \u001b[0;36mbind.__call__\u001b[0;34m(self, *args, **kwargs)\u001b[0m\n\u001b[1;32m    823\u001b[0m     \u001b[39mif\u001b[39;00m \u001b[39misinstance\u001b[39m(v,_Arg): kwargs[k] \u001b[39m=\u001b[39m args\u001b[39m.\u001b[39mpop(v\u001b[39m.\u001b[39mi)\n\u001b[1;32m    824\u001b[0m fargs \u001b[39m=\u001b[39m [args[x\u001b[39m.\u001b[39mi] \u001b[39mif\u001b[39;00m \u001b[39misinstance\u001b[39m(x, _Arg) \u001b[39melse\u001b[39;00m x \u001b[39mfor\u001b[39;00m x \u001b[39min\u001b[39;00m \u001b[39mself\u001b[39m\u001b[39m.\u001b[39mpargs] \u001b[39m+\u001b[39m args[\u001b[39mself\u001b[39m\u001b[39m.\u001b[39mmaxi\u001b[39m+\u001b[39m\u001b[39m1\u001b[39m:]\n\u001b[0;32m--> 825\u001b[0m \u001b[39mreturn\u001b[39;00m \u001b[39mself\u001b[39;49m\u001b[39m.\u001b[39;49mfunc(\u001b[39m*\u001b[39;49mfargs, \u001b[39m*\u001b[39;49m\u001b[39m*\u001b[39;49mkwargs)\n",
      "File \u001b[0;32m~/miniconda3/envs/env_fastai/lib/python3.10/site-packages/fastai/learner.py:176\u001b[0m, in \u001b[0;36mLearner._call_one\u001b[0;34m(self, event_name)\u001b[0m\n\u001b[1;32m    174\u001b[0m \u001b[39mdef\u001b[39;00m \u001b[39m_call_one\u001b[39m(\u001b[39mself\u001b[39m, event_name):\n\u001b[1;32m    175\u001b[0m     \u001b[39mif\u001b[39;00m \u001b[39mnot\u001b[39;00m \u001b[39mhasattr\u001b[39m(event, event_name): \u001b[39mraise\u001b[39;00m \u001b[39mException\u001b[39;00m(\u001b[39mf\u001b[39m\u001b[39m'\u001b[39m\u001b[39mmissing \u001b[39m\u001b[39m{\u001b[39;00mevent_name\u001b[39m}\u001b[39;00m\u001b[39m'\u001b[39m)\n\u001b[0;32m--> 176\u001b[0m     \u001b[39mfor\u001b[39;00m cb \u001b[39min\u001b[39;00m \u001b[39mself\u001b[39m\u001b[39m.\u001b[39mcbs\u001b[39m.\u001b[39msorted(\u001b[39m'\u001b[39m\u001b[39morder\u001b[39m\u001b[39m'\u001b[39m): cb(event_name)\n",
      "File \u001b[0;32m~/miniconda3/envs/env_fastai/lib/python3.10/site-packages/fastai/callback/core.py:62\u001b[0m, in \u001b[0;36mCallback.__call__\u001b[0;34m(self, event_name)\u001b[0m\n\u001b[1;32m     60\u001b[0m     \u001b[39mtry\u001b[39;00m: res \u001b[39m=\u001b[39m getcallable(\u001b[39mself\u001b[39m, event_name)()\n\u001b[1;32m     61\u001b[0m     \u001b[39mexcept\u001b[39;00m (CancelBatchException, CancelBackwardException, CancelEpochException, CancelFitException, CancelStepException, CancelTrainException, CancelValidException): \u001b[39mraise\u001b[39;00m\n\u001b[0;32m---> 62\u001b[0m     \u001b[39mexcept\u001b[39;00m \u001b[39mException\u001b[39;00m \u001b[39mas\u001b[39;00m e: \u001b[39mraise\u001b[39;00m modify_exception(e, \u001b[39mf\u001b[39m\u001b[39m'\u001b[39m\u001b[39mException occured in `\u001b[39m\u001b[39m{\u001b[39;00m\u001b[39mself\u001b[39m\u001b[39m.\u001b[39m\u001b[39m__class__\u001b[39m\u001b[39m.\u001b[39m\u001b[39m__name__\u001b[39m\u001b[39m}\u001b[39;00m\u001b[39m` when calling event `\u001b[39m\u001b[39m{\u001b[39;00mevent_name\u001b[39m}\u001b[39;00m\u001b[39m`:\u001b[39m\u001b[39m\\n\u001b[39;00m\u001b[39m\\t\u001b[39;00m\u001b[39m{\u001b[39;00me\u001b[39m.\u001b[39;49margs[\u001b[39m0\u001b[39;49m]\u001b[39m}\u001b[39;00m\u001b[39m'\u001b[39m, replace\u001b[39m=\u001b[39m\u001b[39mTrue\u001b[39;00m)\n\u001b[1;32m     63\u001b[0m \u001b[39mif\u001b[39;00m event_name\u001b[39m==\u001b[39m\u001b[39m'\u001b[39m\u001b[39mafter_fit\u001b[39m\u001b[39m'\u001b[39m: \u001b[39mself\u001b[39m\u001b[39m.\u001b[39mrun\u001b[39m=\u001b[39m\u001b[39mTrue\u001b[39;00m \u001b[39m#Reset self.run to True at each end of fit\u001b[39;00m\n\u001b[1;32m     64\u001b[0m \u001b[39mreturn\u001b[39;00m res\n",
      "\u001b[0;31mIndexError\u001b[0m: tuple index out of range"
     ]
    }
   ],
   "source": [
    "tfm_lst = [train_valid, DfHDFCreateWindows(win_sz=500+1,stp_sz=500,clm='current')]\n",
    "seq = DataBlock(blocks=(SequenceBlock.from_hdf(['current','voltage'],TensorSequencesInput,clm_shift=[-1,-1]),\n",
    "                        SequenceBlock.from_hdf(['voltage'],TensorSequencesOutput,clm_shift=[1])),\n",
    "                 get_items=CreateDict(tfm_lst),\n",
    "                 splitter=ApplyToDict(ParentSplitter()))\n",
    "# db = seq.dataloaders(get_hdf_files('test_data/battery'),dl_type=TbpttDl,sub_seq_len=200)\n",
    "db = seq.dataloaders(get_hdf_files('test_data/battery'),dl_type=WeightedDL_Factory(TfmdDL))\n",
    "\n",
    "RNNLearner(db,num_layers=1,stateful=False,metrics=[SkipNLoss(fun_rmse,1),fun_rmse],cbs=ImportanceSampling()).fit(1)"
   ]
  },
  {
   "attachments": {},
   "cell_type": "markdown",
   "metadata": {},
   "source": [
    "# Mini Batch Limiter Dataloader"
   ]
  },
  {
   "attachments": {},
   "cell_type": "markdown",
   "metadata": {},
   "source": [
    "A weighted sampling dataloader for nonuniforly distributed data. A factory method receives the base Dataloader class and returns the inherited weighted sampling dataloader class"
   ]
  },
  {
   "cell_type": "code",
   "execution_count": null,
   "metadata": {},
   "outputs": [],
   "source": [
    "#| export\n",
    "def BatchLimit_Factory(cls):\n",
    "    '''\n",
    "    Batch limited Dataloader that provides an upper limit for the number of mini batches per epoch\n",
    "    max_batches: upper limit for minibatch count per epoch\n",
    "        \n",
    "    '''\n",
    "    assert issubclass(cls, TfmdDL)\n",
    "    \n",
    "    class BatchLimitDL(cls):\n",
    "        def __init__(self, dataset, max_batches=None, **kwargs):\n",
    "            self.max_batches = max_batches\n",
    "            # kwargs['n'] = max_batches*kwargs['bs'] n has to remain the full size, in order to create all indices if shuffled\n",
    "            super().__init__(dataset=dataset, **kwargs)\n",
    "\n",
    "        def __len__(self):\n",
    "            l = super().__len__() \n",
    "            if self.max_batches is not None: l = min(l,self.max_batches)\n",
    "            return l\n",
    "\n",
    "        def __iter__(self):\n",
    "            if self.max_batches is None: \n",
    "                yield from super().__iter__()\n",
    "            else:\n",
    "                for idx,b in enumerate(super().__iter__()):\n",
    "                    if idx >= self.max_batches: break\n",
    "                    yield b\n",
    "                    \n",
    "        #shuffle function that is called in super().get_idxs, truncated for faster execution\n",
    "        def shuffle_fn(self, idxs): return self.rng.sample(idxs, min(len(self)*self.bs,len(idxs)))\n",
    "                    \n",
    "        #get_idxs is truncated for the non-shuffling case, otherwise shuffle_fn is already truncated\n",
    "        def get_idxs(self):\n",
    "            return super().get_idxs()[:len(self)*self.bs]\n",
    "\n",
    "    return BatchLimitDL"
   ]
  },
  {
   "cell_type": "code",
   "execution_count": null,
   "metadata": {},
   "outputs": [],
   "source": [
    "dl = BatchLimit_Factory(TfmdDL)([1,2]*5,bs=2,max_batches=3,shuffle=False)"
   ]
  },
  {
   "cell_type": "code",
   "execution_count": null,
   "metadata": {},
   "outputs": [
    {
     "data": {
      "text/plain": [
       "3"
      ]
     },
     "execution_count": null,
     "metadata": {},
     "output_type": "execute_result"
    }
   ],
   "source": [
    "len(dl)"
   ]
  },
  {
   "cell_type": "code",
   "execution_count": null,
   "metadata": {},
   "outputs": [
    {
     "data": {
      "text/plain": [
       "[0, 1, 2, 3, 4, 5]"
      ]
     },
     "execution_count": null,
     "metadata": {},
     "output_type": "execute_result"
    }
   ],
   "source": [
    "dl.get_idxs()"
   ]
  },
  {
   "cell_type": "code",
   "execution_count": null,
   "metadata": {},
   "outputs": [
    {
     "data": {
      "text/plain": [
       "[2, 7, 8, 4, 3, 1]"
      ]
     },
     "execution_count": null,
     "metadata": {},
     "output_type": "execute_result"
    }
   ],
   "source": [
    "BatchLimit_Factory(TfmdDL)([1,2]*5,bs=2,max_batches=3,shuffle=True).get_idxs()"
   ]
  },
  {
   "cell_type": "code",
   "execution_count": null,
   "metadata": {},
   "outputs": [
    {
     "data": {
      "text/plain": [
       "[tensor([1, 2]), tensor([1, 2]), tensor([1, 2])]"
      ]
     },
     "execution_count": null,
     "metadata": {},
     "output_type": "execute_result"
    }
   ],
   "source": [
    "[x for x in dl]"
   ]
  },
  {
   "cell_type": "code",
   "execution_count": null,
   "metadata": {},
   "outputs": [
    {
     "data": {
      "text/plain": [
       "3"
      ]
     },
     "execution_count": null,
     "metadata": {},
     "output_type": "execute_result"
    }
   ],
   "source": [
    "len(dl)"
   ]
  },
  {
   "cell_type": "code",
   "execution_count": null,
   "metadata": {},
   "outputs": [],
   "source": [
    "#| include: false\n",
    "import nbdev; nbdev.nbdev_export()"
   ]
  },
  {
   "cell_type": "code",
   "execution_count": null,
   "metadata": {},
   "outputs": [],
   "source": []
  }
 ],
 "metadata": {
  "kernelspec": {
   "display_name": "python3",
   "language": "python",
   "name": "python3"
  },
  "language_info": {
   "codemirror_mode": {
    "name": "ipython",
    "version": 3
   },
   "file_extension": ".py",
   "mimetype": "text/x-python",
   "name": "python",
   "nbconvert_exporter": "python",
   "pygments_lexer": "ipython3",
   "version": "3.10.11"
  }
 },
 "nbformat": 4,
 "nbformat_minor": 4
}
