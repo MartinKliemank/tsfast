{
 "cells": [
  {
   "cell_type": "code",
   "execution_count": 1,
   "metadata": {},
   "outputs": [],
   "source": [
    "# default_exp dataloaders\n",
    "# default_cls_lvl 3"
   ]
  },
  {
   "cell_type": "code",
   "execution_count": 2,
   "metadata": {},
   "outputs": [],
   "source": [
    "#hide\n",
    "%matplotlib widget\n",
    "from fastai.callback.progress import *\n",
    "from fastai.callback.tracker import *\n",
    "from fastai.callback.schedule import *"
   ]
  },
  {
   "cell_type": "code",
   "execution_count": 3,
   "metadata": {},
   "outputs": [],
   "source": [
    "#export\n",
    "from seqdata.core import *\n",
    "from seqdata.models.core import *\n",
    "from seqdata.learner import *\n",
    "from fastai.basics import *\n",
    "\n",
    "import math"
   ]
  },
  {
   "cell_type": "markdown",
   "metadata": {},
   "source": [
    "## Custom Dataloaders\n",
    "> Pytorch Modules for Training Models for sequential data"
   ]
  },
  {
   "cell_type": "markdown",
   "metadata": {},
   "source": [
    "# Truncated Backpropagation Through Time"
   ]
  },
  {
   "cell_type": "markdown",
   "metadata": {},
   "source": [
    "The tbptt dataloader needs to split the minibatches that are created in several smaller minibatches that will be returned sequentially before the next minibatch may be created."
   ]
  },
  {
   "cell_type": "code",
   "execution_count": 4,
   "metadata": {},
   "outputs": [],
   "source": [
    "#export\n",
    "from torch.utils.data.dataloader import _MultiProcessingDataLoaderIter,_SingleProcessDataLoaderIter,_DatasetKind\n",
    "_loaders = (_MultiProcessingDataLoaderIter,_SingleProcessDataLoaderIter)\n",
    "\n",
    "@delegates()\n",
    "class TbpttDl(TfmdDL):\n",
    "\n",
    "    def __init__(self, dataset, sub_seq_len=None, seq_len = None ,shuffle=True,num_workers=2, **kwargs):\n",
    "#         assert sub_seq_len is not None\n",
    "        store_attr('sub_seq_len,seq_len')\n",
    "        self.rnn_reset = False\n",
    "        super().__init__(dataset=dataset, shuffle=shuffle, num_workers=num_workers, **kwargs)\n",
    "        \n",
    "    @property\n",
    "    def n_sub_seq(self):\n",
    "        if self.sub_seq_len is None: return 1\n",
    "        if self.seq_len is None: self.seq_len = self.do_item(0)[0].shape[0]\n",
    "        return math.ceil(self.seq_len / self.sub_seq_len)\n",
    "        \n",
    "    def __len__(self):\n",
    "        return super().__len__() * self.n_sub_seq\n",
    "    \n",
    "    def _next_worker(self,w_id):\n",
    "        w_id += 1\n",
    "        if w_id > self.fake_l.num_workers-1: w_id = 0\n",
    "        return w_id\n",
    "\n",
    "    def sample(self):\n",
    "        #replaced new fastai sample formulation that store __idxs in main process\n",
    "        return (b for i,b in enumerate(self.__idxs) if i//(self.bs or 1)%self.num_workers==self.offs)\n",
    "#         return (b for i,b in enumerate(self.get_idxs()) if i//(self.bs or 1)%self.num_workers==self.offs)\n",
    "            \n",
    "    def __iter__(self):\n",
    "        '''iterator that handles multiprocessing by caching samples that are generated out of order'''\n",
    "        self.randomize()\n",
    "        self.before_iter()\n",
    "        self.__idxs=self.get_idxs() # called in context of main process (not workers/subprocesses)\n",
    "        \n",
    "        n_buffer = self.fake_l.num_workers*self.n_sub_seq\n",
    "        queue = {n:[] for n in range(self.fake_l.num_workers)} \n",
    "        current_worker = None\n",
    "        idx = 0\n",
    "        for loaded_b,w_id in _loaders[self.fake_l.num_workers==0](self.fake_l):\n",
    "\n",
    "            if w_id is None:\n",
    "                self.rnn_reset=True\n",
    "                b= loaded_b\n",
    "                self.rnn_reset = (idx % self.n_sub_seq) == 0\n",
    "                yield self.after_batch(b if self.device is None else to_device(b, self.device))\n",
    "                idx += 1 #idx increments after every yield, not every loop\n",
    "            else:\n",
    "                if current_worker is None:\n",
    "                    current_worker = w_id\n",
    "                \n",
    "                #retrieve queued elements from worker\n",
    "                while len(queue[current_worker]) > 0:\n",
    "                    b = queue[current_worker].pop(0)\n",
    "                    self.rnn_reset = (idx % self.n_sub_seq) == 0\n",
    "                    yield self.after_batch(b if self.device is None else to_device(b, self.device))\n",
    "                    idx += 1\n",
    "                    if (idx % self.n_sub_seq) == 0:\n",
    "                        current_worker = self._next_worker(current_worker) #next worker, stay in loop for the queue\n",
    "                        \n",
    "                \n",
    "                #retrieve fresh elements from worker\n",
    "                if w_id != current_worker: #not active worker\n",
    "                    queue[w_id] += [loaded_b]\n",
    "                    continue\n",
    "                else:#active worker\n",
    "                    b = loaded_b\n",
    "                    self.rnn_reset = (idx % self.n_sub_seq) == 0\n",
    "                    yield self.after_batch(b if self.device is None else to_device(b, self.device))\n",
    "                    idx += 1 #idx increments after every yield, not every loop\n",
    "                    if (idx % self.n_sub_seq) == 0:\n",
    "                        current_worker = self._next_worker(current_worker)\n",
    "                \n",
    "        self.after_iter()\n",
    "        if hasattr(self, 'it'): del(self.it)\n",
    "    \n",
    "    def create_batches(self, samps):\n",
    "        yield from self._tbptt_generator(super().create_batches(samps))\n",
    "        \n",
    "    def _tbptt_generator(self,batch_iter):\n",
    "        '''generator function that splits batches in smaller windows, yields mini_batch and worker id'''\n",
    "        for b in batch_iter:\n",
    "            for i in range(self.n_sub_seq):\n",
    "                #it is importan to retain the tuple type, or future transforms may now work\n",
    "                if self.sub_seq_len is None:\n",
    "                    trunc_b = b\n",
    "                else:\n",
    "                    trunc_b = tuple([retain_type(x[:,i*self.sub_seq_len:(i+1)*self.sub_seq_len],x) for x in b])\n",
    "                yield trunc_b, (None if torch.utils.data.get_worker_info() is None else torch.utils.data.get_worker_info().id)\n",
    "        "
   ]
  },
  {
   "cell_type": "code",
   "execution_count": 5,
   "metadata": {},
   "outputs": [],
   "source": [
    "tfm_lst = [DfHDFCreateWindows(win_sz=1000+1,stp_sz=1000,clm='current')]\n",
    "seq = DataBlock(blocks=(SequenceBlock.from_hdf(['current','voltage'],TensorSequencesInput,clm_shift=[-1,-1]),\n",
    "                        SequenceBlock.from_hdf(['voltage'],TensorSequencesOutput,clm_shift=[1])),\n",
    "                 get_items=CreateDict(tfm_lst),\n",
    "                 splitter=ApplyToDict(ParentSplitter()))\n",
    "db = seq.dataloaders(get_hdf_files('test_data/'),dl_type=TbpttDl,sub_seq_len=100,num_workers=6)"
   ]
  },
  {
   "cell_type": "code",
   "execution_count": 6,
   "metadata": {},
   "outputs": [],
   "source": [
    "l = [array(x[-1][0,:,0].cpu()) for x in db.train]\n"
   ]
  },
  {
   "cell_type": "code",
   "execution_count": 7,
   "metadata": {},
   "outputs": [
    {
     "data": {
      "text/plain": [
       "[<matplotlib.lines.Line2D at 0x7ffa017a2ee0>]"
      ]
     },
     "execution_count": 7,
     "metadata": {},
     "output_type": "execute_result"
    },
    {
     "data": {
      "application/vnd.jupyter.widget-view+json": {
       "model_id": "2a0aae0f53d841ffb37dbf044fb0c13f",
       "version_major": 2,
       "version_minor": 0
      },
      "image/png": "[encoded data removed]",
      "text/html": [
       "\n",
       "            <div style=\"display: inline-block;\">\n",
       "                <div class=\"jupyter-widgets widget-label\" style=\"text-align: center;\">\n",
       "                    Figure\n",
       "                </div>\n",
       "                <img src='data:image/png;base64,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' width=640.0/>\n",
       "            </div>\n",
       "        "
      ],
      "text/plain": [
       "Canvas(toolbar=Toolbar(toolitems=[('Home', 'Reset original view', 'home', 'home'), ('Back', 'Back to previous …"
      ]
     },
     "metadata": {},
     "output_type": "display_data"
    }
   ],
   "source": [
    "plt.figure()\n",
    "plt.plot(np.concatenate(l))"
   ]
  },
  {
   "cell_type": "markdown",
   "metadata": {},
   "source": [
    "num_workers has to be 0. If there are parallel workers, the order of minibatches will be corrupted"
   ]
  },
  {
   "cell_type": "markdown",
   "metadata": {},
   "source": [
    "## TBPTT_Reset_Callback\n",
    "The stateful model needs to reset its hidden state, when a new sequence begins. The callback reads the reset flag and acts accordingly."
   ]
  },
  {
   "cell_type": "code",
   "execution_count": 8,
   "metadata": {},
   "outputs": [],
   "source": [
    "#export\n",
    "def reset_model_state(model):\n",
    "    for m in model.modules():\n",
    "        if hasattr(m,'reset_state'): m.reset_state()"
   ]
  },
  {
   "cell_type": "code",
   "execution_count": 9,
   "metadata": {},
   "outputs": [],
   "source": [
    "#export\n",
    "class TbpttResetCB(Callback):\n",
    "    \"`Callback` resets the rnn model with every new sequence for tbptt, calls `reset_state` in every module of the model\"\n",
    "        \n",
    "    def before_batch(self):\n",
    "        dl = self.learn.dls.train if self.training else self.learn.dls.valid\n",
    "#         if not self.training: import pdb; pdb.set_trace()\n",
    "        if (hasattr(dl,'rnn_reset') and dl.rnn_reset) or not hasattr(dl,'rnn_reset'):\n",
    "            reset_model_state(self.learn.model)\n",
    "        \n",
    "    def after_fit(self): \n",
    "        reset_model_state(self.learn.model)"
   ]
  },
  {
   "cell_type": "markdown",
   "metadata": {},
   "source": [
    "## Example"
   ]
  },
  {
   "cell_type": "code",
   "execution_count": 10,
   "metadata": {},
   "outputs": [
    {
     "data": {
      "text/plain": [
       "<fastai.learner.Learner at 0x7ff9607d1190>"
      ]
     },
     "execution_count": 10,
     "metadata": {},
     "output_type": "execute_result"
    }
   ],
   "source": [
    "lrn = RNNLearner(db,num_layers=1,rnn_type='gru',stateful=False,metrics=[SkipNLoss(fun_rmse,1),fun_rmse])\n",
    "lrn.add_cb(TbpttResetCB())"
   ]
  },
  {
   "cell_type": "code",
   "execution_count": 11,
   "metadata": {},
   "outputs": [
    {
     "data": {
      "text/html": [
       "<table border=\"1\" class=\"dataframe\">\n",
       "  <thead>\n",
       "    <tr style=\"text-align: left;\">\n",
       "      <th>epoch</th>\n",
       "      <th>train_loss</th>\n",
       "      <th>valid_loss</th>\n",
       "      <th>fun_rmse</th>\n",
       "      <th>fun_rmse</th>\n",
       "      <th>time</th>\n",
       "    </tr>\n",
       "  </thead>\n",
       "  <tbody>\n",
       "    <tr>\n",
       "      <td>0</td>\n",
       "      <td>1.478674</td>\n",
       "      <td>0.202241</td>\n",
       "      <td>0.307665</td>\n",
       "      <td>0.449460</td>\n",
       "      <td>00:05</td>\n",
       "    </tr>\n",
       "  </tbody>\n",
       "</table>"
      ],
      "text/plain": [
       "<IPython.core.display.HTML object>"
      ]
     },
     "metadata": {},
     "output_type": "display_data"
    }
   ],
   "source": [
    "lrn.fit_one_cycle(1,lr_max=3e-2)"
   ]
  },
  {
   "cell_type": "code",
   "execution_count": 12,
   "metadata": {},
   "outputs": [],
   "source": [
    "db.train.sub_seq_len = 10"
   ]
  },
  {
   "cell_type": "code",
   "execution_count": 13,
   "metadata": {},
   "outputs": [
    {
     "data": {
      "text/html": [
       "<table border=\"1\" class=\"dataframe\">\n",
       "  <thead>\n",
       "    <tr style=\"text-align: left;\">\n",
       "      <th>epoch</th>\n",
       "      <th>train_loss</th>\n",
       "      <th>valid_loss</th>\n",
       "      <th>fun_rmse</th>\n",
       "      <th>fun_rmse</th>\n",
       "      <th>time</th>\n",
       "    </tr>\n",
       "  </thead>\n",
       "  <tbody>\n",
       "    <tr>\n",
       "      <td>0</td>\n",
       "      <td>0.000412</td>\n",
       "      <td>0.000278</td>\n",
       "      <td>0.015098</td>\n",
       "      <td>0.015470</td>\n",
       "      <td>00:08</td>\n",
       "    </tr>\n",
       "  </tbody>\n",
       "</table>"
      ],
      "text/plain": [
       "<IPython.core.display.HTML object>"
      ]
     },
     "metadata": {},
     "output_type": "display_data"
    }
   ],
   "source": [
    "lrn.fit_one_cycle(1,lr_max=3e-2)"
   ]
  },
  {
   "cell_type": "markdown",
   "metadata": {},
   "source": [
    "# Weighted Sampling Dataloader"
   ]
  },
  {
   "cell_type": "markdown",
   "metadata": {},
   "source": [
    "A weighted sampling dataloader for nonuniforly distributed data. A factory method receives the base Dataloader class and returns the inherited weighted sampling dataloader class"
   ]
  },
  {
   "cell_type": "code",
   "execution_count": 14,
   "metadata": {},
   "outputs": [],
   "source": [
    "#export\n",
    "def WeightedDL_Factory(cls):\n",
    "    '''\n",
    "    Weighted Dataloader that provides control over sampling probabilities.\n",
    "    wgts: probability array with probability for every item\n",
    "            gets extracted from the pandas 'p_sample' column if given. \n",
    "            Otherwise uniform sampling will be enabled\n",
    "        \n",
    "    '''\n",
    "    assert issubclass(cls, TfmdDL)\n",
    "    \n",
    "    class WeightedDL(cls):\n",
    "        def __init__(self, dataset, wgts=None, **kwargs):\n",
    "#             import pdb;pdb.set_trace()\n",
    "            self.wgts = None\n",
    "            #self.items need to be assigned, but super.init needs wgts allready assigned\n",
    "            super().__init__(dataset=dataset, **kwargs) \n",
    "            if wgts is None:\n",
    "                if (isinstance(self.items,pd.DataFrame) and\n",
    "                    len(self.items) > 0 and \n",
    "                    'p_sample' in self.items):\n",
    "                    self.wgts = self.items.p_sample.to_numpy()\n",
    "                    self.wgts = self.wgts/self.wgts.sum()\n",
    "                elif (isinstance(self.items,Iterable) and\n",
    "                    len(self.items) > 0 and \n",
    "                    hasattr(self.items[0],'keys') and \n",
    "                    'p_sample' in self.items[0].keys()):\n",
    "                    self.wgts = np.array([x['p_sample'] for x in self.items])\n",
    "                    self.wgts = self.wgts/self.wgts.sum()\n",
    "                else:\n",
    "                    print('No wgts provided for WeightedDL. Was that intentional?')\n",
    "            else:\n",
    "                self.wgts = wgts/np.sum(wgts)\n",
    "\n",
    "        def get_idxs(self):\n",
    "            if self.n==0: return []\n",
    "            if not self.shuffle or self.wgts is None: return super().get_idxs()\n",
    "            #calculate number of elements with length of the dataset, for batch truncation\n",
    "            idxs = list(np.random.choice(self.n, size=len(self)*self.bs, p=self.wgts))\n",
    "            return idxs\n",
    "    return WeightedDL"
   ]
  },
  {
   "cell_type": "code",
   "execution_count": 15,
   "metadata": {},
   "outputs": [],
   "source": [
    "dl = WeightedDL_Factory(TfmdDL)([1,2]*5,bs=10,wgts=[2,1]*5)"
   ]
  },
  {
   "cell_type": "code",
   "execution_count": 16,
   "metadata": {},
   "outputs": [
    {
     "data": {
      "text/plain": [
       "array([0.13333333, 0.06666667, 0.13333333, 0.06666667, 0.13333333,\n",
       "       0.06666667, 0.13333333, 0.06666667, 0.13333333, 0.06666667])"
      ]
     },
     "execution_count": 16,
     "metadata": {},
     "output_type": "execute_result"
    }
   ],
   "source": [
    "dl.wgts"
   ]
  },
  {
   "cell_type": "code",
   "execution_count": 17,
   "metadata": {},
   "outputs": [
    {
     "data": {
      "text/plain": [
       "tensor([1, 2, 1, 2, 1, 2, 1, 2, 1, 2])"
      ]
     },
     "execution_count": 17,
     "metadata": {},
     "output_type": "execute_result"
    }
   ],
   "source": [
    "dl.one_batch()"
   ]
  },
  {
   "cell_type": "markdown",
   "metadata": {},
   "source": [
    "## ItemLst Transform for weight calculation"
   ]
  },
  {
   "cell_type": "code",
   "execution_count": 18,
   "metadata": {},
   "outputs": [],
   "source": [
    "#export\n",
    "def uniform_p_of_category(cat_name):  \n",
    "    '''Scales sampling weights for an even distribution between every category'''\n",
    "    def _inner(df):\n",
    "        if 'p_sample' in df:\n",
    "            df_targ = df.drop('p_sample',axis='columns')\n",
    "        else:\n",
    "            df_targ = df\n",
    "            \n",
    "        counts = df_targ[cat_name].value_counts()\n",
    "        sample_prob =  1/counts\n",
    "        sample_prob.name = 'p_sample'\n",
    "        df_res = df_targ.merge(sample_prob,left_on=cat_name,right_index=True)\n",
    "        \n",
    "        if 'p_sample' in df: \n",
    "            df_res.p_sample = df_res.p_sample* df.p_sample.values\n",
    "            \n",
    "        df_res.p_sample /= df_res.p_sample.sum()\n",
    "            \n",
    "        return df_res\n",
    "    \n",
    "    return _inner"
   ]
  },
  {
   "cell_type": "code",
   "execution_count": 19,
   "metadata": {},
   "outputs": [],
   "source": [
    "#export\n",
    "def uniform_p_of_float(var_name,bins = 10):\n",
    "    '''Scales sampling weights for an even distribution of the continous variable by creating equi sized bins'''\n",
    "    def _inner(df):\n",
    "        if 'p_sample' in df:\n",
    "            df_targ = df.drop('p_sample',axis='columns')\n",
    "        else:\n",
    "            df_targ = df\n",
    "            \n",
    "        df_targ['bins'] = pd.cut(df_targ[var_name], bins)\n",
    "        counts = df_targ['bins'].value_counts()\n",
    "        sample_prob =  1/counts\n",
    "        sample_prob.name = 'p_sample'\n",
    "        df_res = df_targ.merge(sample_prob,left_on='bins',right_index=True)\n",
    "        df_res.drop(['bins'],axis='columns',inplace=True)\n",
    "        \n",
    "        if 'p_sample' in df: \n",
    "            df_res.p_sample = df_res.p_sample* df.p_sample.values\n",
    "            \n",
    "        df_res.p_sample /= df_res.p_sample.sum()\n",
    "        \n",
    "        return df_res\n",
    "\n",
    "    return _inner"
   ]
  },
  {
   "cell_type": "code",
   "execution_count": 20,
   "metadata": {},
   "outputs": [],
   "source": [
    "#export\n",
    "def uniform_p_of_float_with_gaps(var_name,bins = 100):\n",
    "    '''Scales sampling weights for an even distribution of the continous variable by creating equi sized bins'''\n",
    "    def _inner(df):\n",
    "        if 'p_sample' in df:\n",
    "            df_targ = df.drop('p_sample',axis='columns')\n",
    "        else:\n",
    "            df_targ = df\n",
    "            \n",
    "        l = df_targ[var_name].max()-df_targ[var_name].min() #value range\n",
    "        df_targ['bins'] = pd.qcut(df_targ[var_name],bins,duplicates='drop') #bins with rougly the same size\n",
    "        df_targ['p_sample'] =  df_targ['bins'].apply(lambda x: x.length).astype('f8')/l #sample_prob by bin width\n",
    "        sample_prob =  1/df_targ['bins'].value_counts() #correct uneven bin distribution\n",
    "        sample_prob.name = 'p_sample_correction'\n",
    "        df_res = df_targ.merge(sample_prob,left_on='bins',right_index=True)\n",
    "        \n",
    "        df_res.p_sample *= df_res.p_sample_correction\n",
    "        df_res.drop(['bins','p_sample_correction'],axis='columns',inplace=True)\n",
    "\n",
    "        if 'p_sample' in df: \n",
    "            df_res.p_sample = df_res.p_sample* df.p_sample.values\n",
    "            \n",
    "        df_res.p_sample /= df_res.p_sample.sum()\n",
    "        \n",
    "        return df_res\n",
    "\n",
    "    return _inner"
   ]
  },
  {
   "cell_type": "code",
   "execution_count": 21,
   "metadata": {},
   "outputs": [],
   "source": [
    "def train_valid(df):   \n",
    "    ''' test function that extracts valid and train from the path string'''\n",
    "    df['train'] = df.path.astype(str).str.contains('train',regex=False)\n",
    "    return df"
   ]
  },
  {
   "cell_type": "code",
   "execution_count": 22,
   "metadata": {},
   "outputs": [
    {
     "data": {
      "text/html": [
       "<div>\n",
       "<style scoped>\n",
       "    .dataframe tbody tr th:only-of-type {\n",
       "        vertical-align: middle;\n",
       "    }\n",
       "\n",
       "    .dataframe tbody tr th {\n",
       "        vertical-align: top;\n",
       "    }\n",
       "\n",
       "    .dataframe thead th {\n",
       "        text-align: right;\n",
       "    }\n",
       "</style>\n",
       "<table border=\"1\" class=\"dataframe\">\n",
       "  <thead>\n",
       "    <tr style=\"text-align: right;\">\n",
       "      <th></th>\n",
       "      <th>path</th>\n",
       "      <th>train</th>\n",
       "      <th>l_slc</th>\n",
       "      <th>r_slc</th>\n",
       "      <th>p_sample</th>\n",
       "    </tr>\n",
       "  </thead>\n",
       "  <tbody>\n",
       "    <tr>\n",
       "      <th>0</th>\n",
       "      <td>test_data/valid/Sim_RealisticCycle3.hdf5</td>\n",
       "      <td>False</td>\n",
       "      <td>0</td>\n",
       "      <td>1001</td>\n",
       "      <td>0.001242</td>\n",
       "    </tr>\n",
       "    <tr>\n",
       "      <th>0</th>\n",
       "      <td>test_data/valid/Sim_RealisticCycle3.hdf5</td>\n",
       "      <td>False</td>\n",
       "      <td>1000</td>\n",
       "      <td>2001</td>\n",
       "      <td>0.001242</td>\n",
       "    </tr>\n",
       "    <tr>\n",
       "      <th>0</th>\n",
       "      <td>test_data/valid/Sim_RealisticCycle3.hdf5</td>\n",
       "      <td>False</td>\n",
       "      <td>2000</td>\n",
       "      <td>3001</td>\n",
       "      <td>0.001242</td>\n",
       "    </tr>\n",
       "    <tr>\n",
       "      <th>1</th>\n",
       "      <td>test_data/train/Sim_RealisticCycle1.hdf5</td>\n",
       "      <td>True</td>\n",
       "      <td>0</td>\n",
       "      <td>1001</td>\n",
       "      <td>0.001242</td>\n",
       "    </tr>\n",
       "    <tr>\n",
       "      <th>1</th>\n",
       "      <td>test_data/train/Sim_RealisticCycle1.hdf5</td>\n",
       "      <td>True</td>\n",
       "      <td>1000</td>\n",
       "      <td>2001</td>\n",
       "      <td>0.001242</td>\n",
       "    </tr>\n",
       "    <tr>\n",
       "      <th>...</th>\n",
       "      <td>...</td>\n",
       "      <td>...</td>\n",
       "      <td>...</td>\n",
       "      <td>...</td>\n",
       "      <td>...</td>\n",
       "    </tr>\n",
       "    <tr>\n",
       "      <th>0</th>\n",
       "      <td>test_data/valid/Sim_RealisticCycle3.hdf5</td>\n",
       "      <td>False</td>\n",
       "      <td>264000</td>\n",
       "      <td>265001</td>\n",
       "      <td>0.000931</td>\n",
       "    </tr>\n",
       "    <tr>\n",
       "      <th>1</th>\n",
       "      <td>test_data/train/Sim_RealisticCycle1.hdf5</td>\n",
       "      <td>True</td>\n",
       "      <td>263000</td>\n",
       "      <td>264001</td>\n",
       "      <td>0.000931</td>\n",
       "    </tr>\n",
       "    <tr>\n",
       "      <th>1</th>\n",
       "      <td>test_data/train/Sim_RealisticCycle1.hdf5</td>\n",
       "      <td>True</td>\n",
       "      <td>264000</td>\n",
       "      <td>265001</td>\n",
       "      <td>0.000931</td>\n",
       "    </tr>\n",
       "    <tr>\n",
       "      <th>2</th>\n",
       "      <td>test_data/train/Sim_RealisticCycle2.hdf5</td>\n",
       "      <td>True</td>\n",
       "      <td>263000</td>\n",
       "      <td>264001</td>\n",
       "      <td>0.000931</td>\n",
       "    </tr>\n",
       "    <tr>\n",
       "      <th>2</th>\n",
       "      <td>test_data/train/Sim_RealisticCycle2.hdf5</td>\n",
       "      <td>True</td>\n",
       "      <td>264000</td>\n",
       "      <td>265001</td>\n",
       "      <td>0.000931</td>\n",
       "    </tr>\n",
       "  </tbody>\n",
       "</table>\n",
       "<p>795 rows × 5 columns</p>\n",
       "</div>"
      ],
      "text/plain": [
       "                                        path  train   l_slc   r_slc  p_sample\n",
       "0   test_data/valid/Sim_RealisticCycle3.hdf5  False       0    1001  0.001242\n",
       "0   test_data/valid/Sim_RealisticCycle3.hdf5  False    1000    2001  0.001242\n",
       "0   test_data/valid/Sim_RealisticCycle3.hdf5  False    2000    3001  0.001242\n",
       "1   test_data/train/Sim_RealisticCycle1.hdf5   True       0    1001  0.001242\n",
       "1   test_data/train/Sim_RealisticCycle1.hdf5   True    1000    2001  0.001242\n",
       "..                                       ...    ...     ...     ...       ...\n",
       "0   test_data/valid/Sim_RealisticCycle3.hdf5  False  264000  265001  0.000931\n",
       "1   test_data/train/Sim_RealisticCycle1.hdf5   True  263000  264001  0.000931\n",
       "1   test_data/train/Sim_RealisticCycle1.hdf5   True  264000  265001  0.000931\n",
       "2   test_data/train/Sim_RealisticCycle2.hdf5   True  263000  264001  0.000931\n",
       "2   test_data/train/Sim_RealisticCycle2.hdf5   True  264000  265001  0.000931\n",
       "\n",
       "[795 rows x 5 columns]"
      ]
     },
     "execution_count": 22,
     "metadata": {},
     "output_type": "execute_result"
    }
   ],
   "source": [
    "# %%time\n",
    "tfm_lst = [train_valid, DfHDFCreateWindows(win_sz=1000+1,stp_sz=1000,clm='current') ,uniform_p_of_category('train'),uniform_p_of_float('l_slc'),uniform_p_of_float_with_gaps('r_slc')]\n",
    "apply_df_tfms(get_hdf_files('test_data/'),tfm_lst) "
   ]
  },
  {
   "cell_type": "code",
   "execution_count": 23,
   "metadata": {},
   "outputs": [],
   "source": [
    "seq = DataBlock(blocks=(SequenceBlock.from_hdf(['current','voltage'],TensorSequencesInput,clm_shift=[-1,-1]),\n",
    "                        SequenceBlock.from_hdf(['voltage'],TensorSequencesOutput,clm_shift=[1])),\n",
    "                 get_items=CreateDict(tfm_lst),\n",
    "                 splitter=ApplyToDict(ParentSplitter()))\n",
    "# db = seq.dataloaders(get_hdf_files('test_data/'),dl_type=TbpttDl,sub_seq_len=200)\n",
    "db = seq.dataloaders(get_hdf_files('test_data/'),dl_type=WeightedDL_Factory(TbpttDl),sub_seq_len=500)"
   ]
  },
  {
   "cell_type": "code",
   "execution_count": 24,
   "metadata": {},
   "outputs": [
    {
     "data": {
      "text/plain": [
       "(530,)"
      ]
     },
     "execution_count": 24,
     "metadata": {},
     "output_type": "execute_result"
    }
   ],
   "source": [
    "db.train.wgts.shape"
   ]
  },
  {
   "cell_type": "code",
   "execution_count": 25,
   "metadata": {},
   "outputs": [
    {
     "data": {
      "text/plain": [
       "(array([0.0018654, 0.0018654, 0.0018654, 0.0018654, 0.0018654]),\n",
       " array([0.00371483, 0.00371483, 0.00371483, 0.00557225, 0.00557225]))"
      ]
     },
     "execution_count": 25,
     "metadata": {},
     "output_type": "execute_result"
    }
   ],
   "source": [
    "db.train.wgts[:5],db.valid.wgts[:5]"
   ]
  },
  {
   "cell_type": "code",
   "execution_count": 26,
   "metadata": {},
   "outputs": [
    {
     "data": {
      "text/html": [
       "<table border=\"1\" class=\"dataframe\">\n",
       "  <thead>\n",
       "    <tr style=\"text-align: left;\">\n",
       "      <th>epoch</th>\n",
       "      <th>train_loss</th>\n",
       "      <th>valid_loss</th>\n",
       "      <th>fun_rmse</th>\n",
       "      <th>fun_rmse</th>\n",
       "      <th>time</th>\n",
       "    </tr>\n",
       "  </thead>\n",
       "  <tbody>\n",
       "    <tr>\n",
       "      <td>0</td>\n",
       "      <td>5.754180</td>\n",
       "      <td>0.773359</td>\n",
       "      <td>0.839243</td>\n",
       "      <td>0.850851</td>\n",
       "      <td>00:02</td>\n",
       "    </tr>\n",
       "  </tbody>\n",
       "</table>"
      ],
      "text/plain": [
       "<IPython.core.display.HTML object>"
      ]
     },
     "metadata": {},
     "output_type": "display_data"
    }
   ],
   "source": [
    "lrn = RNNLearner(db,num_layers=1,rnn_type='gru',stateful=False,metrics=[SkipNLoss(fun_rmse,1),fun_rmse])\n",
    "lrn.add_cb(TbpttResetCB())\n",
    "lrn.fit_one_cycle(1,lr_max=3e-2)"
   ]
  },
  {
   "cell_type": "markdown",
   "metadata": {},
   "source": [
    "# Mini Batch Limiter Dataloader"
   ]
  },
  {
   "cell_type": "markdown",
   "metadata": {},
   "source": [
    "A weighted sampling dataloader for nonuniforly distributed data. A factory method receives the base Dataloader class and returns the inherited weighted sampling dataloader class"
   ]
  },
  {
   "cell_type": "code",
   "execution_count": 51,
   "metadata": {},
   "outputs": [],
   "source": [
    "#export\n",
    "def BatchLimit_Factory(cls):\n",
    "    '''\n",
    "    Batch limited Dataloader that provides an upper limit for the number of mini batches per epoch\n",
    "    max_batches: upper limit for minibatch count per epoch\n",
    "        \n",
    "    '''\n",
    "    assert issubclass(cls, TfmdDL)\n",
    "    \n",
    "    class BatchLimitDL(cls):\n",
    "        def __init__(self, dataset, max_batches=None, **kwargs):\n",
    "            self.max_batches = max_batches\n",
    "            # kwargs['n'] = max_batches*kwargs['bs'] n has to remain the full size, in order to create all indices if shuffled\n",
    "            super().__init__(dataset=dataset, **kwargs)\n",
    "\n",
    "        def __len__(self):\n",
    "            l = super().__len__() \n",
    "            if self.max_batches is not None: l = min(l,self.max_batches)\n",
    "            return l\n",
    "\n",
    "        def __iter__(self):\n",
    "            if self.max_batches is None: \n",
    "                yield from super().__iter__()\n",
    "            else:\n",
    "                for idx,b in enumerate(super().__iter__()):\n",
    "                    if idx >= self.max_batches: break\n",
    "                    yield b\n",
    "                    \n",
    "        #shuffle function that is called in super().get_idxs, truncated for faster execution\n",
    "        def shuffle_fn(self, idxs): return self.rng.sample(idxs, len(self)*self.bs)\n",
    "                    \n",
    "        #get_idxs is truncated for the non-shuffling case, otherwise shuffle_fn is already truncated\n",
    "        def get_idxs(self):\n",
    "            return super().get_idxs()[:len(self)*self.bs]\n",
    "\n",
    "    return BatchLimitDL"
   ]
  },
  {
   "cell_type": "code",
   "execution_count": 56,
   "metadata": {},
   "outputs": [],
   "source": [
    "dl = BatchLimit_Factory(TfmdDL)([1,2]*5,bs=2,max_batches=3,shuffle=False)"
   ]
  },
  {
   "cell_type": "code",
   "execution_count": 57,
   "metadata": {},
   "outputs": [
    {
     "data": {
      "text/plain": [
       "3"
      ]
     },
     "execution_count": 57,
     "metadata": {},
     "output_type": "execute_result"
    }
   ],
   "source": [
    "len(dl)"
   ]
  },
  {
   "cell_type": "code",
   "execution_count": 58,
   "metadata": {},
   "outputs": [
    {
     "data": {
      "text/plain": [
       "[0, 1, 2, 3, 4, 5]"
      ]
     },
     "execution_count": 58,
     "metadata": {},
     "output_type": "execute_result"
    }
   ],
   "source": [
    "dl.get_idxs()"
   ]
  },
  {
   "cell_type": "code",
   "execution_count": 60,
   "metadata": {},
   "outputs": [
    {
     "data": {
      "text/plain": [
       "[7, 8, 9, 2, 5, 0]"
      ]
     },
     "execution_count": 60,
     "metadata": {},
     "output_type": "execute_result"
    }
   ],
   "source": [
    "BatchLimit_Factory(TfmdDL)([1,2]*5,bs=2,max_batches=3,shuffle=True).get_idxs()"
   ]
  },
  {
   "cell_type": "code",
   "execution_count": 33,
   "metadata": {},
   "outputs": [
    {
     "data": {
      "text/plain": [
       "[tensor([1, 2]), tensor([1, 2]), tensor([1, 2])]"
      ]
     },
     "execution_count": 33,
     "metadata": {},
     "output_type": "execute_result"
    }
   ],
   "source": [
    "[x for x in dl]"
   ]
  },
  {
   "cell_type": "code",
   "execution_count": 34,
   "metadata": {},
   "outputs": [
    {
     "data": {
      "text/plain": [
       "3"
      ]
     },
     "execution_count": 34,
     "metadata": {},
     "output_type": "execute_result"
    }
   ],
   "source": [
    "len(dl)"
   ]
  },
  {
   "cell_type": "code",
   "execution_count": 61,
   "metadata": {},
   "outputs": [
    {
     "name": "stdout",
     "output_type": "stream",
     "text": [
      "Converted 00_core.ipynb.\n",
      "Converted 01_models.ipynb.\n",
      "Converted 01a_IndRNN.ipynb.\n",
      "Converted 02_learner.ipynb.\n",
      "Converted 03_dataloaders.ipynb.\n",
      "Converted 11_dualrnn.ipynb.\n",
      "Converted 12_TensorQuaternions.ipynb.\n",
      "Converted 13_HPOpt.ipynb.\n",
      "Converted index.ipynb.\n"
     ]
    }
   ],
   "source": [
    "#hide\n",
    "from nbdev.export import *\n",
    "notebook2script()"
   ]
  },
  {
   "cell_type": "code",
   "execution_count": null,
   "metadata": {},
   "outputs": [],
   "source": []
  }
 ],
 "metadata": {
  "kernelspec": {
   "display_name": "Python 3 (ipykernel)",
   "language": "python",
   "name": "python3"
  },
  "language_info": {
   "codemirror_mode": {
    "name": "ipython",
    "version": 3
   },
   "file_extension": ".py",
   "mimetype": "text/x-python",
   "name": "python",
   "nbconvert_exporter": "python",
   "pygments_lexer": "ipython3",
   "version": "3.8.12"
  }
 },
 "nbformat": 4,
 "nbformat_minor": 4
}
