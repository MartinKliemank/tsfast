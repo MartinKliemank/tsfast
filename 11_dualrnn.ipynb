{
 "cells": [
  {
   "cell_type": "code",
   "execution_count": 1,
   "metadata": {},
   "outputs": [],
   "source": [
    "# default_exp dualrnn\n",
    "# default_cls_lvl 3"
   ]
  },
  {
   "cell_type": "code",
   "execution_count": 2,
   "metadata": {},
   "outputs": [],
   "source": [
    "#hide\n",
    "# %load_ext line_profiler"
   ]
  },
  {
   "cell_type": "markdown",
   "metadata": {},
   "source": [
    "# Dual RNN Models\n",
    "> Pytorch Models for Sequential Data"
   ]
  },
  {
   "cell_type": "code",
   "execution_count": 3,
   "metadata": {},
   "outputs": [
    {
     "name": "stderr",
     "output_type": "stream",
     "text": [
      "/home/jbote/miniconda3/envs/fastai2/lib/python3.8/site-packages/torch/cuda/__init__.py:83: UserWarning: \n",
      "    Found GPU%d %s which is of cuda capability %d.%d.\n",
      "    PyTorch no longer supports this GPU because it is too old.\n",
      "    The minimum cuda capability supported by this library is %d.%d.\n",
      "    \n",
      "  warnings.warn(old_gpu_warn.format(d, name, major, minor, min_arch // 10, min_arch % 10))\n"
     ]
    }
   ],
   "source": [
    "#export\n",
    "from seqdata.core import *\n",
    "from seqdata.models.core import *\n",
    "from seqdata.learner import *\n",
    "from seqdata.dataloaders import *\n",
    "from fastai.basics import *\n",
    "from fastai.callback.progress import *\n",
    "from fastai.callback.schedule import *"
   ]
  },
  {
   "cell_type": "code",
   "execution_count": 4,
   "metadata": {},
   "outputs": [],
   "source": [
    "init_sz = 100\n",
    "seq = DataBlock(blocks=(SequenceBlock.from_hdf(['current','voltage'],TensorSequencesInput,clm_shift=[0,-1]),\n",
    "                        SequenceBlock.from_hdf(['voltage'],TensorSequencesOutput,clm_shift=[-1])),\n",
    "                 get_items=CreateDict([DfHDFCreateWindows(win_sz=20000+1,stp_sz=2000,clm='current')]),\n",
    "                 splitter=ApplyToDict(ParentSplitter()))\n",
    "dl_kwargs=[{'sub_seq_len':1000}]*2\n",
    "db = seq.dataloaders(get_hdf_files('test_data/'),bs=32,dl_type=TbpttDl,dl_kwargs=dl_kwargs)"
   ]
  },
  {
   "cell_type": "code",
   "execution_count": 5,
   "metadata": {},
   "outputs": [
    {
     "data": {
      "image/png": "[encoded data removed]",
      "text/plain": [
       "<Figure size 648x216 with 2 Axes>"
      ]
     },
     "metadata": {
      "needs_background": "light"
     },
     "output_type": "display_data"
    }
   ],
   "source": [
    "db.show_batch(max_n=1)"
   ]
  },
  {
   "cell_type": "markdown",
   "metadata": {},
   "source": [
    "## ProDiag"
   ]
  },
  {
   "cell_type": "code",
   "execution_count": 6,
   "metadata": {},
   "outputs": [],
   "source": [
    "#export\n",
    "class ProDiagTrainer(Callback):\n",
    "    \"`Callback` that regroups lr adjustment to seq_len, AR and TAR.\"\n",
    "    def __init__(self, alpha=1e6,beta=1,p_own_state=0):\n",
    "        store_attr('alpha,beta,p_own_state')\n",
    "        self.main_init_prop = None\n",
    "\n",
    "    def _has_main_init(self):\n",
    "        return hasattr(self.learn.model,'main_init_prop')\n",
    "\n",
    "    def before_fit(self):\n",
    "        if self._has_main_init():\n",
    "            self.main_init_prop=self.learn.model.main_init_prop\n",
    "\n",
    "    def before_batch(self):\n",
    "        if not self.training or self.p_own_state == 0: return\n",
    "        main_init_prop = random.random()< self.p_own_state\n",
    "        self.learn.model.main_init_prop = main_init_prop\n",
    "\n",
    "    def after_pred(self):\n",
    "        p,self.pred_diag,self.est_hidden,self.pred_hidden=self.pred\n",
    "        self.learn.pred = p\n",
    "\n",
    "    def after_loss(self):\n",
    "        if not self.training: return\n",
    "        self.learn.loss_grad += self.beta*self.learn.loss_func(self.pred_diag,*self.yb)\n",
    "\n",
    "        hidden_loss = ((self.est_hidden-self.pred_hidden)/\n",
    "                       (self.est_hidden.norm()+self.pred_hidden.norm())).pow(2).mean()\n",
    "        self.learn.loss_grad += self.alpha * hidden_loss\n",
    "\n",
    "    def before_validate(self):\n",
    "        '''Set Dual RNN to reuse the prediction state after each mini batch on validation'''\n",
    "        if self._has_main_init():\n",
    "            self.learn.model.main_init_prop = True\n",
    "\n",
    "    def after_validate(self):\n",
    "        '''Reset Dual RNN to training state propagation behaviour'''\n",
    "        if self._has_main_init():\n",
    "            self.learn.model.main_init_prop=self.main_init_prop\n",
    "\n",
    "\n",
    "    def after_fit(self):\n",
    "        reset_model_state(self.learn.model)"
   ]
  },
  {
   "cell_type": "code",
   "execution_count": 7,
   "metadata": {},
   "outputs": [],
   "source": [
    "#export\n",
    "class DualRNN(nn.Module):\n",
    "    \n",
    "    @delegates(RNN, keep=True)\n",
    "    def __init__(self,main_input_size,co_input_size,output_size,init_sz=100,hidden_size=100,\n",
    "                 rnn_layer=1,linear_layer = 1,main_init_est = True,main_init_prop = True,**kwargs):\n",
    "        super().__init__()\n",
    "        store_attr('main_input_size,co_input_size,main_init_est,main_init_prop,init_sz')\n",
    "        \n",
    "        rnn_kwargs = dict(hidden_size=hidden_size,num_layers=rnn_layer,stateful=True,ret_full_hidden=True)\n",
    "        rnn_kwargs = dict(rnn_kwargs, **kwargs)\n",
    "        \n",
    "        self.co_rnn = RNN(co_input_size,**rnn_kwargs) \n",
    "        self.main_rnn = RNN(main_input_size,**rnn_kwargs) \n",
    "\n",
    "#         self.co_estimator = SeqLinear(hidden_size,output_size,hidden_layer=linear_layer)\n",
    "        self.main_estimator = SeqLinear(hidden_size,output_size,hidden_layer=linear_layer)\n",
    "\n",
    "    def forward(self, x,init_state = None):\n",
    "        bs = x.shape[0]\n",
    "        if init_state is None:\n",
    "            init_state = self.main_rnn._get_hidden(bs) if self.main_init_prop else self.co_rnn._get_hidden(bs)\n",
    "        \n",
    "        \n",
    "        x_co = x[...,:self.co_input_size]\n",
    "        x_main = x[...,:self.main_input_size]\n",
    "            \n",
    "        #RNN Layer \n",
    "        if init_state is None:\n",
    "#             import pdb; pdb.set_trace()\n",
    "            if self.main_init_est:\n",
    "                out_init,h_init = self.main_rnn(x_main[:,:self.init_sz])\n",
    "                out_main,_ = self.main_rnn(x_main[:,self.init_sz:],h_init)\n",
    "                out_co,_ = self.co_rnn(x_co[:,self.init_sz:],h_init)  \n",
    "                out_main=torch.cat([out_init,out_main],2) \n",
    "                out_co=torch.cat([out_init,out_co],2) \n",
    "            else:\n",
    "                out_init,h_init = self.co_rnn(x_co[:,:self.init_sz])\n",
    "                out_co,_ = self.co_rnn(x_co[:,self.init_sz:],h_init)\n",
    "                out_main,_ = self.main_rnn(x_main[:,self.init_sz:],h_init)  \n",
    "                out_main=torch.cat([out_init,out_main],2) \n",
    "                out_co=torch.cat([out_init,out_co],2) \n",
    "        else:  \n",
    "            out_co,_ = self.co_rnn(x_co,init_state)         \n",
    "            out_main,_ = self.main_rnn(x_main,init_state)\n",
    "            \n",
    "            \n",
    "#         import pdb; pdb.set_trace()\n",
    "            \n",
    "        #Shared Linear Layer\n",
    "        est_co = self.main_estimator(out_co[-1])\n",
    "        est_main = self.main_estimator(out_main[-1])\n",
    "\n",
    "#         import pdb; pdb.set_trace()   \n",
    "        return est_main,est_co, out_co,out_main"
   ]
  },
  {
   "cell_type": "code",
   "execution_count": 8,
   "metadata": {},
   "outputs": [
    {
     "data": {
      "text/plain": [
       "<fastai.learner.Learner at 0x7f9143912b20>"
      ]
     },
     "execution_count": 8,
     "metadata": {},
     "output_type": "execute_result"
    }
   ],
   "source": [
    "model = DualRNN(1,2,1,init_sz=500,linear_layer=2,rnn_layer=1,hidden_size=100,main_init_est=False,main_init_prop=False)\n",
    "lrn = Learner(db,model,loss_func=nn.MSELoss(),cbs=ProDiagTrainer(),opt_func=ranger)\n",
    "lrn.add_cb(TbpttResetCB())"
   ]
  },
  {
   "cell_type": "code",
   "execution_count": 9,
   "metadata": {},
   "outputs": [
    {
     "name": "stderr",
     "output_type": "stream",
     "text": [
      "/home/jbote/miniconda3/envs/fastai2/lib/python3.8/site-packages/fastai/callback/core.py:51: UserWarning: You are shadowing an attribute (main_init_prop) that exists in the learner. Use `self.learn.main_init_prop` to avoid this\n",
      "  warn(f\"You are shadowing an attribute ({name}) that exists in the learner. Use `self.learn.{name}` to avoid this\")\n"
     ]
    },
    {
     "data": {
      "text/html": [
       "<table border=\"1\" class=\"dataframe\">\n",
       "  <thead>\n",
       "    <tr style=\"text-align: left;\">\n",
       "      <th>epoch</th>\n",
       "      <th>train_loss</th>\n",
       "      <th>valid_loss</th>\n",
       "      <th>time</th>\n",
       "    </tr>\n",
       "  </thead>\n",
       "  <tbody>\n",
       "    <tr>\n",
       "      <td>0</td>\n",
       "      <td>2.873769</td>\n",
       "      <td>0.166205</td>\n",
       "      <td>00:12</td>\n",
       "    </tr>\n",
       "  </tbody>\n",
       "</table>"
      ],
      "text/plain": [
       "<IPython.core.display.HTML object>"
      ]
     },
     "metadata": {},
     "output_type": "display_data"
    }
   ],
   "source": [
    "lrn.fit(1)"
   ]
  },
  {
   "cell_type": "markdown",
   "metadata": {},
   "source": [
    "## Dual CRNN"
   ]
  },
  {
   "cell_type": "code",
   "execution_count": 10,
   "metadata": {},
   "outputs": [],
   "source": [
    "#export\n",
    "class DualCRNN(nn.Module):\n",
    "    \n",
    "    @delegates(RNN, keep=True)\n",
    "    def __init__(self,main_input_size,co_input_size,output_size,init_sz=100,tcn_hidden_size=100,tcn_layer=8,rnn_hidden_size=100,\n",
    "                 rnn_layer=1,linear_layer = 1,main_init_est = True,main_init_prop = True,**kwargs):\n",
    "        super().__init__()\n",
    "        store_attr('main_input_size,co_input_size,main_init_est,main_init_prop,init_sz')\n",
    "        \n",
    "        rnn_kwargs = dict(hidden_size=rnn_hidden_size,num_layers=rnn_layer,stateful=True,ret_full_hidden=True)\n",
    "        rnn_kwargs = dict(rnn_kwargs, **kwargs)\n",
    "        \n",
    "        self.co_tcn = TCN(co_input_size,rnn_hidden_size,tcn_layer,tcn_hidden_size,stateful=True) \n",
    "        self.main_tcn = TCN(main_input_size,rnn_hidden_size,tcn_layer,tcn_hidden_size,stateful=True)\n",
    "        \n",
    "        self.co_rnn = RNN(rnn_hidden_size,**rnn_kwargs) \n",
    "        self.main_rnn = RNN(rnn_hidden_size,**rnn_kwargs) \n",
    "\n",
    "#         self.co_estimator = SeqLinear(rnn_hidden_size,output_size,hidden_layer=linear_layer)\n",
    "        self.main_estimator = SeqLinear(rnn_hidden_size,output_size,hidden_layer=linear_layer)\n",
    "\n",
    "    def forward(self, x,init_state = None):\n",
    "        bs = x.shape[0]\n",
    "        if init_state is None:\n",
    "            init_state = self.main_rnn._get_hidden(bs) if self.main_init_prop else self.co_rnn._get_hidden(bs)\n",
    "        \n",
    "        \n",
    "        x_co = x[...,:self.co_input_size]\n",
    "        x_main = x[...,:self.main_input_size]\n",
    "        \n",
    "        #TCN Layer\n",
    "        x_co = self.co_tcn(x_co)\n",
    "        x_main = self.main_tcn(x_main)\n",
    "        \n",
    "            \n",
    "        #RNN Layer \n",
    "        if init_state is None:\n",
    "#             import pdb; pdb.set_trace()\n",
    "            if self.main_init_est:\n",
    "                out_init,h_init = self.main_rnn(x_main[:,:self.init_sz])\n",
    "                out_main,_ = self.main_rnn(x_main[:,self.init_sz:],h_init)\n",
    "                out_co,_ = self.co_rnn(x_co[:,self.init_sz:],h_init)  \n",
    "                out_main=torch.cat([out_init,out_main],2) \n",
    "                out_co=torch.cat([out_init,out_co],2) \n",
    "            else:\n",
    "                out_init,h_init = self.co_rnn(x_co[:,:self.init_sz])\n",
    "                out_co,_ = self.co_rnn(x_co[:,self.init_sz:],h_init)\n",
    "                out_main,_ = self.main_rnn(x_main[:,self.init_sz:],h_init)  \n",
    "                out_main=torch.cat([out_init,out_main],2) \n",
    "                out_co=torch.cat([out_init,out_co],2) \n",
    "        else:  \n",
    "            out_co,_ = self.co_rnn(x_co,init_state)         \n",
    "            out_main,_ = self.main_rnn(x_main,init_state)\n",
    "            \n",
    "            \n",
    "#         import pdb; pdb.set_trace()\n",
    "            \n",
    "        #Shared Linear Layer\n",
    "        est_co = self.main_estimator(out_co[-1])\n",
    "        est_main = self.main_estimator(out_main[-1])\n",
    "\n",
    "#         import pdb; pdb.set_trace()   \n",
    "        return est_main,est_co, out_co,out_main\n",
    "\n",
    "    def get_main_crnn(self):\n",
    "        crnn_model = CRNN(1,1)\n",
    "        crnn_model.cnn = self.main_tcn\n",
    "        \n",
    "        simple_rnn_model = SimpleRNN(1,1)\n",
    "        simple_rnn_model.rnn = self.main_rnn\n",
    "        simple_rnn_model.final = self.main_estimator\n",
    "        crnn_model.rnn = simple_rnn_model\n",
    "        return crnn_model\n",
    "    \n",
    "    \n",
    "    def get_co_crnn(self):\n",
    "        crnn_model = CRNN(1,1)\n",
    "        crnn_model.cnn = self.co_tcn\n",
    "        \n",
    "        simple_rnn_model = SimpleRNN(1,1)\n",
    "        simple_rnn_model.rnn = self.co_rnn\n",
    "        simple_rnn_model.final = self.main_estimator\n",
    "        crnn_model.rnn = simple_rnn_model\n",
    "        return crnn_model"
   ]
  },
  {
   "cell_type": "code",
   "execution_count": 11,
   "metadata": {},
   "outputs": [
    {
     "data": {
      "text/plain": [
       "<fastai.learner.Learner at 0x7f914360dca0>"
      ]
     },
     "execution_count": 11,
     "metadata": {},
     "output_type": "execute_result"
    }
   ],
   "source": [
    "model = DualCRNN(1,2,1,init_sz=500,main_init_est=False,main_init_prop=False)\n",
    "lrn = Learner(db,model,loss_func=nn.MSELoss(),cbs=ProDiagTrainer(),opt_func=ranger)\n",
    "lrn.add_cb(TbpttResetCB())"
   ]
  },
  {
   "cell_type": "code",
   "execution_count": 12,
   "metadata": {},
   "outputs": [
    {
     "data": {
      "text/plain": [
       "CRNN(\n",
       "  (cnn): TCN(\n",
       "    (conv_layers): Sequential(\n",
       "      (0): TCN_Block(\n",
       "        (layers): Sequential(\n",
       "          (0): CausalConv1d(1, 100, kernel_size=(2,), stride=(1,))\n",
       "          (1): Mish()\n",
       "        )\n",
       "        (residual): Conv1d(1, 100, kernel_size=(1,), stride=(1,))\n",
       "      )\n",
       "      (1): TCN_Block(\n",
       "        (layers): Sequential(\n",
       "          (0): CausalConv1d(100, 100, kernel_size=(2,), stride=(1,), dilation=(2,))\n",
       "          (1): Mish()\n",
       "        )\n",
       "      )\n",
       "      (2): TCN_Block(\n",
       "        (layers): Sequential(\n",
       "          (0): CausalConv1d(100, 100, kernel_size=(2,), stride=(1,), dilation=(4,))\n",
       "          (1): Mish()\n",
       "        )\n",
       "      )\n",
       "      (3): TCN_Block(\n",
       "        (layers): Sequential(\n",
       "          (0): CausalConv1d(100, 100, kernel_size=(2,), stride=(1,), dilation=(8,))\n",
       "          (1): Mish()\n",
       "        )\n",
       "      )\n",
       "      (4): TCN_Block(\n",
       "        (layers): Sequential(\n",
       "          (0): CausalConv1d(100, 100, kernel_size=(2,), stride=(1,), dilation=(16,))\n",
       "          (1): Mish()\n",
       "        )\n",
       "      )\n",
       "      (5): TCN_Block(\n",
       "        (layers): Sequential(\n",
       "          (0): CausalConv1d(100, 100, kernel_size=(2,), stride=(1,), dilation=(32,))\n",
       "          (1): Mish()\n",
       "        )\n",
       "      )\n",
       "      (6): TCN_Block(\n",
       "        (layers): Sequential(\n",
       "          (0): CausalConv1d(100, 100, kernel_size=(2,), stride=(1,), dilation=(64,))\n",
       "          (1): Mish()\n",
       "        )\n",
       "      )\n",
       "      (7): TCN_Block(\n",
       "        (layers): Sequential(\n",
       "          (0): CausalConv1d(100, 100, kernel_size=(2,), stride=(1,), dilation=(128,))\n",
       "          (1): Mish()\n",
       "        )\n",
       "      )\n",
       "    )\n",
       "    (final): Conv1d(100, 100, kernel_size=(1,), stride=(1,))\n",
       "  )\n",
       "  (rnn): SimpleRNN(\n",
       "    (rnn): RNN(\n",
       "      (rnns): ModuleList(\n",
       "        (0): GRU(100, 100, batch_first=True)\n",
       "      )\n",
       "      (input_dp): RNNDropout()\n",
       "      (hidden_dps): ModuleList(\n",
       "        (0): RNNDropout()\n",
       "      )\n",
       "    )\n",
       "    (final): SeqLinear(\n",
       "      (lin): Sequential(\n",
       "        (0): Sequential(\n",
       "          (0): Conv1d(100, 100, kernel_size=(1,), stride=(1,))\n",
       "          (1): Mish()\n",
       "        )\n",
       "        (1): Conv1d(100, 1, kernel_size=(1,), stride=(1,))\n",
       "      )\n",
       "    )\n",
       "  )\n",
       ")"
      ]
     },
     "execution_count": 12,
     "metadata": {},
     "output_type": "execute_result"
    }
   ],
   "source": [
    "model.get_main_crnn()"
   ]
  },
  {
   "cell_type": "code",
   "execution_count": 13,
   "metadata": {},
   "outputs": [],
   "source": [
    "# btch = 6\n",
    "# plt.figure()\n",
    "# plt.plot(lrn.y.cpu()[btch,:,0])\n",
    "# plt.plot(lrn.pred.cpu()[btch,:,0])\n",
    "# plt.figure()\n",
    "# plt.plot(lrn.y.cpu()[btch,:,0])\n",
    "# plt.plot(lrn.pred.cpu()[btch,:,1])"
   ]
  },
  {
   "cell_type": "code",
   "execution_count": 14,
   "metadata": {},
   "outputs": [
    {
     "name": "stdout",
     "output_type": "stream",
     "text": [
      "Converted 00_core.ipynb.\n",
      "Converted 01_models.ipynb.\n",
      "Converted 01a_IndRNN.ipynb.\n",
      "Converted 02_learner.ipynb.\n",
      "Converted 03_dataloaders.ipynb.\n",
      "Converted 11_dualrnn.ipynb.\n",
      "Converted 12_TensorQuaternions.ipynb.\n",
      "Converted 13_HPOpt.ipynb.\n",
      "Converted index.ipynb.\n"
     ]
    }
   ],
   "source": [
    "#hide\n",
    "from nbdev.export import *\n",
    "notebook2script()"
   ]
  },
  {
   "cell_type": "code",
   "execution_count": null,
   "metadata": {},
   "outputs": [],
   "source": []
  }
 ],
 "metadata": {
  "kernelspec": {
   "display_name": "Python 3 (ipykernel)",
   "language": "python",
   "name": "python3"
  },
  "language_info": {
   "codemirror_mode": {
    "name": "ipython",
    "version": 3
   },
   "file_extension": ".py",
   "mimetype": "text/x-python",
   "name": "python",
   "nbconvert_exporter": "python",
   "pygments_lexer": "ipython3",
   "version": "3.8.12"
  }
 },
 "nbformat": 4,
 "nbformat_minor": 4
}
