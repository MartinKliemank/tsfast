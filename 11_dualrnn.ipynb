{
 "cells": [
  {
   "cell_type": "code",
   "execution_count": null,
   "metadata": {},
   "outputs": [],
   "source": [
    "# default_exp dualrnn\n",
    "# default_cls_lvl 3"
   ]
  },
  {
   "cell_type": "code",
   "execution_count": null,
   "metadata": {},
   "outputs": [],
   "source": [
    "#hide\n",
    "# %load_ext line_profiler"
   ]
  },
  {
   "cell_type": "markdown",
   "metadata": {},
   "source": [
    "# Dual RNN Models\n",
    "> Pytorch Models for Sequential Data"
   ]
  },
  {
   "cell_type": "code",
   "execution_count": null,
   "metadata": {},
   "outputs": [],
   "source": [
    "#export\n",
    "from seqdata.core import *\n",
    "from seqdata.models.core import *\n",
    "from seqdata.learner import *\n",
    "from seqdata.dataloaders import *\n",
    "from fastai.basics import *\n",
    "from fastai.callback.progress import *\n",
    "from fastai.callback.schedule import *"
   ]
  },
  {
   "cell_type": "code",
   "execution_count": null,
   "metadata": {},
   "outputs": [],
   "source": [
    "init_sz = 100\n",
    "seq = DataBlock(blocks=(SequenceBlock.from_hdf(['current','voltage'],TensorSequencesInput,clm_shift=[0,-1]),\n",
    "                        SequenceBlock.from_hdf(['voltage'],TensorSequencesOutput,clm_shift=[-1])),\n",
    "                 get_items=CreateDict([DfHDFCreateWindows(win_sz=20000+1,stp_sz=2000,clm='current')]),\n",
    "                 splitter=ApplyToDict(ParentSplitter()))\n",
    "dl_kwargs=[{'sub_seq_len':1000}]*2\n",
    "db = seq.dataloaders(get_hdf_files('test_data/'),bs=32,dl_type=TbpttDl,dl_kwargs=dl_kwargs)"
   ]
  },
  {
   "cell_type": "code",
   "execution_count": null,
   "metadata": {},
   "outputs": [
    {
     "data": {
      "image/png": "[encoded data removed]",
      "text/plain": [
       "<Figure size 648x216 with 2 Axes>"
      ]
     },
     "metadata": {
      "needs_background": "light"
     },
     "output_type": "display_data"
    }
   ],
   "source": [
    "db.show_batch(max_n=1)"
   ]
  },
  {
   "cell_type": "markdown",
   "metadata": {},
   "source": [
    "## NarProg"
   ]
  },
  {
   "cell_type": "code",
   "execution_count": null,
   "metadata": {},
   "outputs": [],
   "source": [
    "#export\n",
    "class Diag_RNN(nn.Module):\n",
    "    \n",
    "    @delegates(RNN, keep=True)\n",
    "    def __init__(self,input_size,output_size,output_layer=1,hidden_size=100,\n",
    "                 rnn_layer=1,linear_layer = 1,stateful=True,**kwargs):\n",
    "        super().__init__()\n",
    "        self.output_size = output_size\n",
    "        \n",
    "        self.rnn = RNN(input_size,hidden_size,rnn_layer,stateful=stateful,ret_full_hidden=False,**kwargs) \n",
    "        self.final = SeqLinear(hidden_size,int(output_size*output_layer),hidden_layer=linear_layer-1)\n",
    "\n",
    "    def forward(self, x,init_state = None):\n",
    "        out,hidden = self.rnn(x,init_state)\n",
    "        out = self.final(out)\n",
    "        out = torch.stack(torch.split(out, split_size_or_sections = self.output_size,dim = -1),0)\n",
    "        return out,hidden\n",
    "    \n",
    "    def output_to_hidden(self, out, idx):\n",
    "        hidden = list(out[:,None,:,idx])\n",
    "#         hidden = torch.split(out[:,:,idx],split_size_or_sections=1,dim = 0)\n",
    "        hidden = [ h.contiguous() for h in hidden]\n",
    "        return hidden\n",
    "    \n",
    "    def _get_hidden(self,bs):\n",
    "        return self.rnn._get_hidden(bs)"
   ]
  },
  {
   "cell_type": "code",
   "execution_count": null,
   "metadata": {},
   "outputs": [],
   "source": [
    "#export\n",
    "class Diag_RNN_raw(nn.Module):\n",
    "    \n",
    "    def __init__(self,input_size,output_size,output_layer=1,hidden_size=100,\n",
    "                 rnn_layer=1,linear_layer = 1,stateful=True):\n",
    "        super().__init__()\n",
    "        \n",
    "        self.rnn = RNN(input_size,output_size,output_layer,stateful=stateful,ret_full_hidden=True) \n",
    "\n",
    "    def forward(self, x,init_state = None):\n",
    "        \n",
    "        return self.rnn(x,init_state)"
   ]
  },
  {
   "cell_type": "code",
   "execution_count": null,
   "metadata": {},
   "outputs": [],
   "source": [
    "#export\n",
    "class NarProg(nn.Module):\n",
    "    \n",
    "    @delegates(RNN, keep=True)\n",
    "    def __init__(self,prog_input_size,diag_input_size,output_size,init_sz=100,hidden_size=100,\n",
    "                 rnn_layer=1,linear_layer = 1,init_diag_only=False,**kwargs):\n",
    "        super().__init__()\n",
    "        store_attr('prog_input_size,diag_input_size,init_sz,init_diag_only')\n",
    "        \n",
    "        rnn_kwargs = dict(hidden_size=hidden_size,num_layers=rnn_layer,stateful=True,ret_full_hidden=True)\n",
    "        rnn_kwargs = dict(rnn_kwargs, **kwargs)\n",
    "        \n",
    "        self.rnn_diagnosis = Diag_RNN(diag_input_size,output_size=hidden_size,hidden_size=hidden_size,output_layer=rnn_layer,rnn_layer=rnn_layer,**kwargs) \n",
    "#         self.rnn_diagnosis = Diag_RNN_raw(diag_input_size,hidden_size,num_layers=rnn_layer,ret_full_hidden=True,stateful=True) \n",
    "        self.rnn_prognosis = RNN(prog_input_size,**rnn_kwargs) \n",
    "\n",
    "#        self.final = SeqLinear(int(hidden_size*rnn_layer),output_size,hidden_layer=0)\n",
    "        self.final = SeqLinear(hidden_size,output_size,hidden_layer=0)\n",
    "        \n",
    "        self.reset_state()\n",
    "\n",
    "    def forward(self, x,init_state = None):\n",
    "        bs = x.shape[0]\n",
    "        if init_state is None: init_state = self._get_hidden(bs)\n",
    "        x_diag = x[...,:self.diag_input_size]\n",
    "        x_prog = x[...,:self.prog_input_size]\n",
    "        \n",
    "        \n",
    "        if self.init_diag_only: x_diag = x_diag[:,:self.init_sz] #limit diagnosis length to init size\n",
    "        \n",
    "        if self.training:\n",
    "            #in training, estimate the full sequence with the diagnosis module\n",
    "            if init_state is None:\n",
    "                #execution with no initial state\n",
    "                out_diag,_ = self.rnn_diagnosis(x_diag)\n",
    "                h_init = self.rnn_diagnosis.output_to_hidden(out_diag,self.init_sz-1)\n",
    "                new_hidden = self.rnn_diagnosis.output_to_hidden(out_diag,-1)\n",
    "                \n",
    "                out_prog,_ = self.rnn_prognosis(x_prog[:,self.init_sz:],h_init)  \n",
    "                out_prog=torch.cat([out_diag[:,:,:self.init_sz],out_prog],2) \n",
    "            else:\n",
    "                #import pdb; pdb.set_trace()\n",
    "                out_prog,_ = self.rnn_prognosis(x_prog,init_state)\n",
    "                out_diag,_ = self.rnn_diagnosis(x_diag)\n",
    "                new_hidden = self.rnn_diagnosis.output_to_hidden(out_diag,-1)\n",
    "        else:\n",
    "#             import pdb; pdb.set_trace()\n",
    "            #in inference, use the diagnosis module only for initial state estimation\n",
    "            if init_state is None:\n",
    "                out_init,_ = self.rnn_diagnosis(x_diag[:,:self.init_sz])\n",
    "                h_init = self.rnn_diagnosis.output_to_hidden(out_init,-1)\n",
    "                out_prog,new_hidden = self.rnn_prognosis(x_prog[:,self.init_sz:],h_init)  \n",
    "                out_prog=torch.cat([out_init,out_prog],2) \n",
    "            else:         \n",
    "                out_prog,new_hidden = self.rnn_prognosis(x_prog,init_state)\n",
    "\n",
    "        self.hidden =  to_detach(new_hidden, cpu=False, gather=False)\n",
    "        #Shared Linear Layer\n",
    "        result = self.final(out_prog[-1])\n",
    "        return result\n",
    "\n",
    "    def _get_hidden(self,bs):\n",
    "        '''retrieve internal hidden state, check if model device has changed'''\n",
    "        if self.hidden is None: return None\n",
    "        if bs!=self.hidden[0].shape[1]: return None\n",
    "        if self.hidden[0][0].device != one_param(self).device: return None\n",
    "        return self.hidden\n",
    "    \n",
    "    def reset_state(self):\n",
    "        self.hidden = None"
   ]
  },
  {
   "cell_type": "code",
   "execution_count": null,
   "metadata": {},
   "outputs": [],
   "source": [
    "#export\n",
    "from fastai.callback.hook import *\n",
    "class NarProgCallback(HookCallback):\n",
    "    \"`Callback` that regularizes the output of the NarProg model.\"\n",
    "    def __init__(self,modules, p_state_sync=1e6,#scalingfactor for regularization of hidden state deviation between diag and prog module\n",
    "                                p_diag_loss=0.0,#scalingfactor of loss calculation of diag hidden state to final layer\n",
    "                                p_osp_sync=1e6,#scalingfactor for regularization of hidden state deviation between one step prediction and diag hidden states\n",
    "                                p_osp_loss=0.1,#scalingfactor for loss calculation of one step prediction of prog module\n",
    "                                p_tar_loss=4,#scalingfactor for time activation regularization of combined hiddenstate of diag and prog with target sequence length\n",
    "                                sync_type='mse',\n",
    "                                targ_loss_func=mae,\n",
    "                                osp_n_skip=None,#number of elements to skip before osp is applied, defaults to model.init_sz\n",
    "                                narprog_model = None,detach=False, **kwargs):\n",
    "        super().__init__(modules=modules,detach=detach,**kwargs)\n",
    "        store_attr('p_state_sync,p_diag_loss,p_osp_sync,p_osp_loss,p_tar_loss,sync_type,targ_loss_func,osp_n_skip,narprog_model')\n",
    "        self.clear()\n",
    "        \n",
    "    def clear(self):\n",
    "        self._out_diag = None\n",
    "        self._out_prog = None\n",
    "        \n",
    "    def hook(self, m, i, o): \n",
    "        '''add output of diagnosis and prognosis modules to a list for regularization in after_loss'''\n",
    "        if 'Diag' in type(m).__name__:\n",
    "            self._out_diag = o[0]\n",
    "        else:\n",
    "            self._out_prog = o[0]\n",
    "\n",
    "    def before_batch(self):\n",
    "        self.clear()\n",
    "\n",
    "    def after_loss(self):\n",
    "        if not self.training: return\n",
    "        if self._out_diag is None or self._out_prog is None: return\n",
    "\n",
    "        # redefine variables for convenience\n",
    "        diag = self._out_diag\n",
    "        prog = self._out_prog\n",
    "        self.clear()\n",
    "        model = self.learn.model if self.narprog_model is None else self.narprog_model\n",
    "        win_reg = self.osp_n_skip if self.osp_n_skip is not None else model.init_sz\n",
    "        \n",
    "        diag_trunc = diag\n",
    "        if diag.shape[2] > prog.shape[2]: diag_trunc = diag_trunc[:,:,-prog.shape[2]:]\n",
    "\n",
    "        #sync diag prog hidden states loss\n",
    "        if self.p_state_sync > 0:\n",
    "            #check if diag length has to be reduced to prog length\n",
    "        \n",
    "            if self.sync_type == 'mse': \n",
    "                hidden_loss = ((prog-diag_trunc)/\n",
    "                                (prog.norm()+diag_trunc.norm())).pow(2).mean()  \n",
    "            elif self.sync_type == 'mae':\n",
    "                hidden_loss = ((prog-diag_trunc)/\n",
    "                                (prog.norm()+diag_trunc.norm())).abs().mean()\n",
    "            elif self.sync_type == 'mspe':\n",
    "                hidden_loss = ((diag_trunc-prog)/torch.linalg.norm(diag_trunc,dim=(0,1,2))).pow(2).mean()\n",
    "            elif self.sync_type == 'mape':\n",
    "                hidden_loss = ((diag_trunc-prog)/torch.linalg.norm(diag_trunc,dim=(0,1,2))).abs().mean() \n",
    "\n",
    "            self.learn.loss_grad += self.p_state_sync * hidden_loss  \n",
    "            self.learn.loss += self.p_state_sync * hidden_loss  \n",
    "\n",
    "        #self.diag loss\n",
    "        if self.p_diag_loss > 0:\n",
    "            y_diag = model.final(diag_trunc[-1])\n",
    "            hidden_loss = self.targ_loss_func(y_diag,self.yb[0][:,-y_diag.shape[1]:])\n",
    "            self.learn.loss_grad += self.p_diag_loss*hidden_loss\n",
    "            self.learn.loss += self.p_diag_loss * hidden_loss  \n",
    "        \n",
    "        \n",
    "        #osp loss - one step prediction on every element of the sequence\n",
    "        if self.p_osp_loss > 0 or self.p_osp_sync > 0:\n",
    "            inp = self.xb[0][:,win_reg:]\n",
    "            bs,n,_ = inp.shape\n",
    "            #transform to a single batch of prediction length 1\n",
    "            # import pdb;pdb.set_trace()\n",
    "            inp = torch.flatten(inp[:,:,:model.prog_input_size],start_dim=0,end_dim=1)[:,None,:]\n",
    "            h_init = torch.flatten(diag[:,:,win_reg-1:-1], start_dim=1, end_dim=2)[:,None]\n",
    "\n",
    "            out,_ = model.rnn_prognosis(inp,h_init)\n",
    "            #undo transform of hiddenstates to original sequence length\n",
    "            h_out = out[:,:,0] # the hidden state vector, 0 is the index of the single time step taken\n",
    "            out = out[-1].unflatten(0,(bs,n))[:,:,0]# the single step batch transformed back to the batch of sequences\n",
    "\n",
    "            #osp hidden sync loss - deviation between diagnosis hidden state and one step prediction hidden state\n",
    "            h_out_targ = torch.flatten(diag[:,:,win_reg:], start_dim=1, end_dim=2)\n",
    "            hidden_loss = ((h_out_targ-h_out)/(h_out.norm()+h_out_targ.norm())).pow(2).mean()\n",
    "            # import pdb;pdb.set_trace()\n",
    "            self.learn.loss_grad += self.p_osp_sync * hidden_loss  \n",
    "            self.learn.loss += self.p_osp_sync * hidden_loss \n",
    "\n",
    "            #osp target loss - one step prediction error on every timestep\n",
    "            y_osp = model.final(out)\n",
    "            hidden_loss = self.targ_loss_func(y_osp,self.yb[0][:,-y_osp.shape[1]:])\n",
    "            # import pdb;pdb.set_trace()\n",
    "            self.learn.loss_grad += self.p_osp_loss * hidden_loss  \n",
    "            self.learn.loss += self.p_osp_loss * hidden_loss  \n",
    "        \n",
    "        # tar hidden loss\n",
    "        if self.p_tar_loss > 0:\n",
    "            h = torch.cat([diag[:,:,:self.init_sz],prog],2)\n",
    "            h_diff = (h[:,:,1:] - h[:,:,:-1])\n",
    "            hidden_loss = h_diff.pow(2).mean()\n",
    "\n",
    "            # import pdb;pdb.set_trace()\n",
    "            self.learn.loss_grad += self.p_tar_loss * hidden_loss  \n",
    "            self.learn.loss += self.p_tar_loss * hidden_loss  \n"
   ]
  },
  {
   "cell_type": "code",
   "execution_count": null,
   "metadata": {},
   "outputs": [
    {
     "data": {
      "text/html": [
       "<table border=\"1\" class=\"dataframe\">\n",
       "  <thead>\n",
       "    <tr style=\"text-align: left;\">\n",
       "      <th>epoch</th>\n",
       "      <th>train_loss</th>\n",
       "      <th>valid_loss</th>\n",
       "      <th>time</th>\n",
       "    </tr>\n",
       "  </thead>\n",
       "  <tbody>\n",
       "    <tr>\n",
       "      <td>0</td>\n",
       "      <td>1.095468</td>\n",
       "      <td>0.176998</td>\n",
       "      <td>00:18</td>\n",
       "    </tr>\n",
       "  </tbody>\n",
       "</table>"
      ],
      "text/plain": [
       "<IPython.core.display.HTML object>"
      ]
     },
     "metadata": {},
     "output_type": "display_data"
    }
   ],
   "source": [
    "model = NarProg(1,2,1,init_sz=500,linear_layer=1,rnn_layer=2,hidden_size=50)\n",
    "cb = NarProgCallback([model.rnn_diagnosis,model.rnn_prognosis],\n",
    "                        p_state_sync=1e6, \n",
    "                        p_diag_loss=0.0,\n",
    "                        p_osp_sync=0,\n",
    "                        p_osp_loss=0.1,)\n",
    "lrn = Learner(db,model,loss_func=nn.MSELoss(),cbs=cb,opt_func=ranger)\n",
    "lrn.add_cb(TbpttResetCB())\n",
    "lrn.fit(1,lr=3e-3)"
   ]
  },
  {
   "cell_type": "markdown",
   "metadata": {},
   "source": [
    "Fast variant with initsz diagnosis only"
   ]
  },
  {
   "cell_type": "code",
   "execution_count": null,
   "metadata": {},
   "outputs": [
    {
     "data": {
      "text/html": [
       "<table border=\"1\" class=\"dataframe\">\n",
       "  <thead>\n",
       "    <tr style=\"text-align: left;\">\n",
       "      <th>epoch</th>\n",
       "      <th>train_loss</th>\n",
       "      <th>valid_loss</th>\n",
       "      <th>time</th>\n",
       "    </tr>\n",
       "  </thead>\n",
       "  <tbody>\n",
       "    <tr>\n",
       "      <td>0</td>\n",
       "      <td>1.209606</td>\n",
       "      <td>0.211681</td>\n",
       "      <td>00:12</td>\n",
       "    </tr>\n",
       "  </tbody>\n",
       "</table>"
      ],
      "text/plain": [
       "<IPython.core.display.HTML object>"
      ]
     },
     "metadata": {},
     "output_type": "display_data"
    }
   ],
   "source": [
    "model = NarProg(1,2,1,init_sz=500,linear_layer=1,rnn_layer=2,hidden_size=50,init_diag_only=True)\n",
    "lrn = Learner(db,model,loss_func=nn.MSELoss(),opt_func=ranger)\n",
    "lrn.add_cb(TbpttResetCB())\n",
    "lrn.fit(1,lr=3e-3)"
   ]
  },
  {
   "cell_type": "code",
   "execution_count": null,
   "metadata": {},
   "outputs": [],
   "source": [
    "#export\n",
    "class NarProgCallback_variable_init(Callback):\n",
    "    \"`Callback` reports progress after every epoch to the ray tune logger\"\n",
    "    \n",
    "    def __init__(self,init_sz_min,init_sz_max,**kwargs):\n",
    "        super().__init__(**kwargs)\n",
    "        self.init_sz_valid = None\n",
    "        self.init_sz_min = init_sz_min\n",
    "        self.init_sz_max = init_sz_max \n",
    "    \n",
    "    def before_batch(self):\n",
    "        if hasattr(self.learn.model,'init_sz'):\n",
    "            if self.init_sz_valid is None: self.init_sz_valid = self.learn.model.init_sz\n",
    "            if self.training:\n",
    "                self.learn.model.init_sz = np.random.randint(self.init_sz_min,self.init_sz_max+1)\n",
    "            else:\n",
    "                self.learn.model.init_sz = self.init_sz_valid"
   ]
  },
  {
   "cell_type": "code",
   "execution_count": null,
   "metadata": {},
   "outputs": [],
   "source": [
    "# model = NarProg(1,2,1,init_sz=500,linear_layer=1,rnn_layer=2,hidden_size=200)\n",
    "# lrn = Learner(db,model,loss_func=nn.MSELoss(),cbs=NarProgCallback([model.rnn_diagnosis,model.rnn_prognosis],alpha=1e6, p_diag_state=0.5),opt_func=ranger)\n",
    "# lrn.add_cb(TbpttResetCB())\n",
    "# # lrn.fit(1,lr=3e-3)"
   ]
  },
  {
   "cell_type": "markdown",
   "metadata": {},
   "source": [
    "## ProDiag"
   ]
  },
  {
   "cell_type": "code",
   "execution_count": null,
   "metadata": {},
   "outputs": [],
   "source": [
    "#export\n",
    "class ProDiagTrainer(Callback):\n",
    "    \"`Callback` that regroups lr adjustment to seq_len, AR and TAR.\"\n",
    "    def __init__(self, alpha=1e6,beta=1,p_own_state=0):\n",
    "        store_attr('alpha,beta,p_own_state')\n",
    "        self.main_init_prop = None\n",
    "\n",
    "    def _has_main_init(self):\n",
    "        return hasattr(self.learn.model,'main_init_prop')\n",
    "\n",
    "    def before_fit(self):\n",
    "        if self._has_main_init():\n",
    "            self.main_init_prop=self.learn.model.main_init_prop\n",
    "\n",
    "    def before_batch(self):\n",
    "        if not self.training or self.p_own_state == 0: return\n",
    "        main_init_prop = random.random()< self.p_own_state\n",
    "        self.learn.model.main_init_prop = main_init_prop\n",
    "\n",
    "    def after_pred(self):\n",
    "        p,self.pred_diag,self.est_hidden,self.pred_hidden=self.pred\n",
    "        self.learn.pred = p\n",
    "\n",
    "    def after_loss(self):\n",
    "        if not self.training: return\n",
    "        self.learn.loss_grad += self.beta*self.learn.loss_func(self.pred_diag,*self.yb)\n",
    "\n",
    "        hidden_loss = ((self.est_hidden-self.pred_hidden)/\n",
    "                       (self.est_hidden.norm()+self.pred_hidden.norm())).pow(2).mean()\n",
    "        self.learn.loss_grad += self.alpha * hidden_loss\n",
    "\n",
    "    def before_validate(self):\n",
    "        '''Set Dual RNN to reuse the prediction state after each mini batch on validation'''\n",
    "        if self._has_main_init():\n",
    "            self.learn.model.main_init_prop = True\n",
    "\n",
    "    def after_validate(self):\n",
    "        '''Reset Dual RNN to training state propagation behaviour'''\n",
    "        if self._has_main_init():\n",
    "            self.learn.model.main_init_prop=self.main_init_prop\n",
    "\n",
    "\n",
    "    def after_fit(self):\n",
    "        reset_model_state(self.learn.model)"
   ]
  },
  {
   "cell_type": "code",
   "execution_count": null,
   "metadata": {},
   "outputs": [],
   "source": [
    "#export\n",
    "class DualRNN(nn.Module):\n",
    "    \n",
    "    @delegates(RNN, keep=True)\n",
    "    def __init__(self,main_input_size,co_input_size,output_size,init_sz=100,hidden_size=100,\n",
    "                 rnn_layer=1,linear_layer = 1,main_init_est = True,main_init_prop = True,**kwargs):\n",
    "        super().__init__()\n",
    "        store_attr('main_input_size,co_input_size,main_init_est,main_init_prop,init_sz')\n",
    "        \n",
    "        rnn_kwargs = dict(hidden_size=hidden_size,num_layers=rnn_layer,stateful=True,ret_full_hidden=True)\n",
    "        rnn_kwargs = dict(rnn_kwargs, **kwargs)\n",
    "        \n",
    "        self.co_rnn = RNN(co_input_size,**rnn_kwargs) \n",
    "        self.main_rnn = RNN(main_input_size,**rnn_kwargs) \n",
    "\n",
    "#         self.co_estimator = SeqLinear(hidden_size,output_size,hidden_layer=linear_layer)\n",
    "        self.main_estimator = SeqLinear(hidden_size,output_size,hidden_layer=linear_layer)\n",
    "\n",
    "    def forward(self, x,init_state = None):\n",
    "        bs = x.shape[0]\n",
    "        if init_state is None:\n",
    "            init_state = self.main_rnn._get_hidden(bs) if self.main_init_prop else self.co_rnn._get_hidden(bs)\n",
    "        \n",
    "        \n",
    "        x_co = x[...,:self.co_input_size]\n",
    "        x_main = x[...,:self.main_input_size]\n",
    "            \n",
    "        #RNN Layer \n",
    "        if init_state is None:\n",
    "#             import pdb; pdb.set_trace()\n",
    "            if self.main_init_est:\n",
    "                out_init,h_init = self.main_rnn(x_main[:,:self.init_sz])\n",
    "                out_main,_ = self.main_rnn(x_main[:,self.init_sz:],h_init)\n",
    "                out_co,_ = self.co_rnn(x_co[:,self.init_sz:],h_init)  \n",
    "                out_main=torch.cat([out_init,out_main],2) \n",
    "                out_co=torch.cat([out_init,out_co],2) \n",
    "            else:\n",
    "                out_init,h_init = self.co_rnn(x_co[:,:self.init_sz])\n",
    "                out_co,_ = self.co_rnn(x_co[:,self.init_sz:],h_init)\n",
    "                out_main,_ = self.main_rnn(x_main[:,self.init_sz:],h_init)  \n",
    "                out_main=torch.cat([out_init,out_main],2) \n",
    "                out_co=torch.cat([out_init,out_co],2) \n",
    "        else:  \n",
    "            out_co,_ = self.co_rnn(x_co,init_state)         \n",
    "            out_main,_ = self.main_rnn(x_main,init_state)\n",
    "            \n",
    "            \n",
    "#         import pdb; pdb.set_trace()\n",
    "            \n",
    "        #Shared Linear Layer\n",
    "        est_co = self.main_estimator(out_co[-1])\n",
    "        est_main = self.main_estimator(out_main[-1])\n",
    "\n",
    "#         import pdb; pdb.set_trace()   \n",
    "        return est_main,est_co, out_co,out_main"
   ]
  },
  {
   "cell_type": "code",
   "execution_count": null,
   "metadata": {},
   "outputs": [
    {
     "data": {
      "text/plain": [
       "<fastai.learner.Learner at 0x7f5818e20eb0>"
      ]
     },
     "execution_count": null,
     "metadata": {},
     "output_type": "execute_result"
    }
   ],
   "source": [
    "model = DualRNN(1,2,1,init_sz=500,linear_layer=2,rnn_layer=2,hidden_size=100,main_init_est=False,main_init_prop=False)\n",
    "lrn = Learner(db,model,loss_func=nn.MSELoss(),cbs=ProDiagTrainer(alpha=1e6,beta=0,p_own_state=0.5),opt_func=ranger)\n",
    "lrn.add_cb(TbpttResetCB())"
   ]
  },
  {
   "cell_type": "code",
   "execution_count": null,
   "metadata": {},
   "outputs": [],
   "source": [
    "# lrn.fit(10)"
   ]
  },
  {
   "cell_type": "code",
   "execution_count": null,
   "metadata": {},
   "outputs": [
    {
     "name": "stderr",
     "output_type": "stream",
     "text": [
      "/home/pheenix/miniconda3/envs/fastai2/lib/python3.8/site-packages/fastai/callback/core.py:51: UserWarning: You are shadowing an attribute (main_init_prop) that exists in the learner. Use `self.learn.main_init_prop` to avoid this\n",
      "  warn(f\"You are shadowing an attribute ({name}) that exists in the learner. Use `self.learn.{name}` to avoid this\")\n"
     ]
    },
    {
     "data": {
      "text/html": [],
      "text/plain": [
       "<IPython.core.display.HTML object>"
      ]
     },
     "metadata": {},
     "output_type": "display_data"
    },
    {
     "data": {
      "image/png": "[encoded data removed]",
      "text/plain": [
       "<Figure size 648x432 with 18 Axes>"
      ]
     },
     "metadata": {
      "needs_background": "light"
     },
     "output_type": "display_data"
    }
   ],
   "source": [
    "lrn.show_results()"
   ]
  },
  {
   "cell_type": "markdown",
   "metadata": {},
   "source": [
    "## Dual CRNN"
   ]
  },
  {
   "cell_type": "code",
   "execution_count": null,
   "metadata": {},
   "outputs": [],
   "source": [
    "#export\n",
    "class DualCRNN(nn.Module):\n",
    "    \n",
    "    @delegates(RNN, keep=True)\n",
    "    def __init__(self,main_input_size,co_input_size,output_size,init_sz=100,tcn_hidden_size=100,tcn_layer=8,rnn_hidden_size=100,\n",
    "                 rnn_layer=1,linear_layer = 1,main_init_est = True,main_init_prop = True,**kwargs):\n",
    "        super().__init__()\n",
    "        store_attr('main_input_size,co_input_size,main_init_est,main_init_prop,init_sz')\n",
    "        \n",
    "        rnn_kwargs = dict(hidden_size=rnn_hidden_size,num_layers=rnn_layer,stateful=True,ret_full_hidden=True)\n",
    "        rnn_kwargs = dict(rnn_kwargs, **kwargs)\n",
    "        \n",
    "        self.co_tcn = TCN(co_input_size,rnn_hidden_size,tcn_layer,tcn_hidden_size,stateful=True) \n",
    "        self.main_tcn = TCN(main_input_size,rnn_hidden_size,tcn_layer,tcn_hidden_size,stateful=True)\n",
    "        \n",
    "        self.co_rnn = RNN(rnn_hidden_size,**rnn_kwargs) \n",
    "        self.main_rnn = RNN(rnn_hidden_size,**rnn_kwargs) \n",
    "\n",
    "#         self.co_estimator = SeqLinear(rnn_hidden_size,output_size,hidden_layer=linear_layer)\n",
    "        self.main_estimator = SeqLinear(rnn_hidden_size,output_size,hidden_layer=linear_layer)\n",
    "\n",
    "    def forward(self, x,init_state = None):\n",
    "        bs = x.shape[0]\n",
    "        if init_state is None:\n",
    "            init_state = self.main_rnn._get_hidden(bs) if self.main_init_prop else self.co_rnn._get_hidden(bs)\n",
    "        \n",
    "        \n",
    "        x_co = x[...,:self.co_input_size]\n",
    "        x_main = x[...,:self.main_input_size]\n",
    "        \n",
    "        #TCN Layer\n",
    "        x_co = self.co_tcn(x_co)\n",
    "        x_main = self.main_tcn(x_main)\n",
    "        \n",
    "            \n",
    "        #RNN Layer \n",
    "        if init_state is None:\n",
    "#             import pdb; pdb.set_trace()\n",
    "            if self.main_init_est:\n",
    "                out_init,h_init = self.main_rnn(x_main[:,:self.init_sz])\n",
    "                out_main,_ = self.main_rnn(x_main[:,self.init_sz:],h_init)\n",
    "                out_co,_ = self.co_rnn(x_co[:,self.init_sz:],h_init)  \n",
    "                out_main=torch.cat([out_init,out_main],2) \n",
    "                out_co=torch.cat([out_init,out_co],2) \n",
    "            else:\n",
    "                out_init,h_init = self.co_rnn(x_co[:,:self.init_sz])\n",
    "                out_co,_ = self.co_rnn(x_co[:,self.init_sz:],h_init)\n",
    "                out_main,_ = self.main_rnn(x_main[:,self.init_sz:],h_init)  \n",
    "                out_main=torch.cat([out_init,out_main],2) \n",
    "                out_co=torch.cat([out_init,out_co],2) \n",
    "        else:  \n",
    "            out_co,_ = self.co_rnn(x_co,init_state)         \n",
    "            out_main,_ = self.main_rnn(x_main,init_state)\n",
    "            \n",
    "            \n",
    "#         import pdb; pdb.set_trace()\n",
    "            \n",
    "        #Shared Linear Layer\n",
    "        est_co = self.main_estimator(out_co[-1])\n",
    "        est_main = self.main_estimator(out_main[-1])\n",
    "\n",
    "#         import pdb; pdb.set_trace()   \n",
    "        return est_main,est_co, out_co,out_main\n",
    "\n",
    "    def get_main_crnn(self):\n",
    "        crnn_model = CRNN(1,1)\n",
    "        crnn_model.cnn = self.main_tcn\n",
    "        \n",
    "        simple_rnn_model = SimpleRNN(1,1)\n",
    "        simple_rnn_model.rnn = self.main_rnn\n",
    "        simple_rnn_model.final = self.main_estimator\n",
    "        crnn_model.rnn = simple_rnn_model\n",
    "        return crnn_model\n",
    "    \n",
    "    \n",
    "    def get_co_crnn(self):\n",
    "        crnn_model = CRNN(1,1)\n",
    "        crnn_model.cnn = self.co_tcn\n",
    "        \n",
    "        simple_rnn_model = SimpleRNN(1,1)\n",
    "        simple_rnn_model.rnn = self.co_rnn\n",
    "        simple_rnn_model.final = self.main_estimator\n",
    "        crnn_model.rnn = simple_rnn_model\n",
    "        return crnn_model"
   ]
  },
  {
   "cell_type": "code",
   "execution_count": null,
   "metadata": {},
   "outputs": [
    {
     "data": {
      "text/plain": [
       "<fastai.learner.Learner at 0x7f57f0b6ddc0>"
      ]
     },
     "execution_count": null,
     "metadata": {},
     "output_type": "execute_result"
    }
   ],
   "source": [
    "model = DualCRNN(1,2,1,init_sz=500,main_init_est=False,main_init_prop=False)\n",
    "lrn = Learner(db,model,loss_func=nn.MSELoss(),cbs=ProDiagTrainer(),opt_func=ranger)\n",
    "lrn.add_cb(TbpttResetCB())"
   ]
  },
  {
   "cell_type": "code",
   "execution_count": null,
   "metadata": {},
   "outputs": [
    {
     "data": {
      "text/plain": [
       "CRNN(\n",
       "  (cnn): TCN(\n",
       "    (conv_layers): Sequential(\n",
       "      (0): TCN_Block(\n",
       "        (layers): Sequential(\n",
       "          (0): CausalConv1d(1, 100, kernel_size=(2,), stride=(1,))\n",
       "          (1): Mish()\n",
       "        )\n",
       "        (residual): Conv1d(1, 100, kernel_size=(1,), stride=(1,))\n",
       "      )\n",
       "      (1): TCN_Block(\n",
       "        (layers): Sequential(\n",
       "          (0): CausalConv1d(100, 100, kernel_size=(2,), stride=(1,), dilation=(2,))\n",
       "          (1): Mish()\n",
       "        )\n",
       "      )\n",
       "      (2): TCN_Block(\n",
       "        (layers): Sequential(\n",
       "          (0): CausalConv1d(100, 100, kernel_size=(2,), stride=(1,), dilation=(4,))\n",
       "          (1): Mish()\n",
       "        )\n",
       "      )\n",
       "      (3): TCN_Block(\n",
       "        (layers): Sequential(\n",
       "          (0): CausalConv1d(100, 100, kernel_size=(2,), stride=(1,), dilation=(8,))\n",
       "          (1): Mish()\n",
       "        )\n",
       "      )\n",
       "      (4): TCN_Block(\n",
       "        (layers): Sequential(\n",
       "          (0): CausalConv1d(100, 100, kernel_size=(2,), stride=(1,), dilation=(16,))\n",
       "          (1): Mish()\n",
       "        )\n",
       "      )\n",
       "      (5): TCN_Block(\n",
       "        (layers): Sequential(\n",
       "          (0): CausalConv1d(100, 100, kernel_size=(2,), stride=(1,), dilation=(32,))\n",
       "          (1): Mish()\n",
       "        )\n",
       "      )\n",
       "      (6): TCN_Block(\n",
       "        (layers): Sequential(\n",
       "          (0): CausalConv1d(100, 100, kernel_size=(2,), stride=(1,), dilation=(64,))\n",
       "          (1): Mish()\n",
       "        )\n",
       "      )\n",
       "      (7): TCN_Block(\n",
       "        (layers): Sequential(\n",
       "          (0): CausalConv1d(100, 100, kernel_size=(2,), stride=(1,), dilation=(128,))\n",
       "          (1): Mish()\n",
       "        )\n",
       "      )\n",
       "    )\n",
       "    (final): Conv1d(100, 100, kernel_size=(1,), stride=(1,))\n",
       "  )\n",
       "  (rnn): SimpleRNN(\n",
       "    (rnn): RNN(\n",
       "      (rnns): ModuleList(\n",
       "        (0): GRU(100, 100, batch_first=True)\n",
       "      )\n",
       "      (input_dp): RNNDropout()\n",
       "      (hidden_dps): ModuleList(\n",
       "        (0): RNNDropout()\n",
       "      )\n",
       "    )\n",
       "    (final): SeqLinear(\n",
       "      (lin): Sequential(\n",
       "        (0): Sequential(\n",
       "          (0): Conv1d(100, 100, kernel_size=(1,), stride=(1,))\n",
       "          (1): Mish()\n",
       "        )\n",
       "        (1): Conv1d(100, 1, kernel_size=(1,), stride=(1,))\n",
       "      )\n",
       "    )\n",
       "  )\n",
       ")"
      ]
     },
     "execution_count": null,
     "metadata": {},
     "output_type": "execute_result"
    }
   ],
   "source": [
    "model.get_main_crnn()"
   ]
  },
  {
   "cell_type": "code",
   "execution_count": null,
   "metadata": {},
   "outputs": [],
   "source": [
    "# btch = 6\n",
    "# plt.figure()\n",
    "# plt.plot(lrn.y.cpu()[btch,:,0])\n",
    "# plt.plot(lrn.pred.cpu()[btch,:,0])\n",
    "# plt.figure()\n",
    "# plt.plot(lrn.y.cpu()[btch,:,0])\n",
    "# plt.plot(lrn.pred.cpu()[btch,:,1])"
   ]
  },
  {
   "cell_type": "code",
   "execution_count": null,
   "metadata": {},
   "outputs": [
    {
     "name": "stdout",
     "output_type": "stream",
     "text": [
      "Converted 00_core.ipynb.\n",
      "Converted 01_models.ipynb.\n",
      "Converted 01a_IndRNN.ipynb.\n",
      "Converted 02_learner.ipynb.\n",
      "Converted 03_dataloaders.ipynb.\n",
      "Converted 11_dualrnn.ipynb.\n",
      "Converted 12_TensorQuaternions.ipynb.\n",
      "Converted 13_HPOpt.ipynb.\n",
      "Converted index.ipynb.\n"
     ]
    }
   ],
   "source": [
    "#hide\n",
    "from nbdev.export import *\n",
    "notebook2script()"
   ]
  },
  {
   "cell_type": "code",
   "execution_count": null,
   "metadata": {},
   "outputs": [],
   "source": []
  },
  {
   "cell_type": "code",
   "execution_count": null,
   "metadata": {},
   "outputs": [],
   "source": []
  }
 ],
 "metadata": {
  "kernelspec": {
   "display_name": "Python 3 (ipykernel)",
   "language": "python",
   "name": "python3"
  }
 },
 "nbformat": 4,
 "nbformat_minor": 4
}
