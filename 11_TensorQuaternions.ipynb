{
 "cells": [
  {
   "cell_type": "code",
   "execution_count": null,
   "metadata": {},
   "outputs": [],
   "source": [
    "# default_exp quaternions\n",
    "# default_cls_lvl 3"
   ]
  },
  {
   "cell_type": "code",
   "execution_count": null,
   "metadata": {},
   "outputs": [],
   "source": [
    "#hide\n",
    "%load_ext line_profiler\n",
    "%matplotlib notebook"
   ]
  },
  {
   "cell_type": "markdown",
   "metadata": {},
   "source": [
    "# Tensor Quaternion Module\n",
    "> Pytorch Models for Sequential Data"
   ]
  },
  {
   "cell_type": "code",
   "execution_count": null,
   "metadata": {},
   "outputs": [],
   "source": [
    "#export\n",
    "from seqdata.core import *\n",
    "from seqdata.model import *\n",
    "from seqdata.learner import *\n",
    "from fastai2.basics import *\n",
    "from fastai2.callback.progress import *\n",
    "from fastai2.callback.schedule import *"
   ]
  },
  {
   "cell_type": "markdown",
   "metadata": {},
   "source": [
    "## Quaternion Type"
   ]
  },
  {
   "cell_type": "code",
   "execution_count": null,
   "metadata": {},
   "outputs": [],
   "source": [
    "#export\n",
    "class TensorQuaternions(TensorSequences): pass"
   ]
  },
  {
   "cell_type": "code",
   "execution_count": null,
   "metadata": {},
   "outputs": [],
   "source": [
    "f_paths = '/mnt/Data/Systemidentification/Orientation_Estimation/'\n",
    "hdf_files = get_hdf_files(f_paths)\n",
    "tfm_src = CreateDict([DfHDFCreateWindows(win_sz=1000,stp_sz=100,clm='acc_x')])\n",
    "u = ['acc_x','acc_y','acc_z','gyr_x','gyr_y','gyr_z']\n",
    "# u = ['acc_x','acc_y','acc_z','gyr_x','gyr_y','gyr_z','mag_x','mag_y','mag_z']\n",
    "y =['opt_a','opt_b','opt_c','opt_d']\n",
    "dls = DataBlock(blocks=(SequenceBlock.from_hdf(u,TensorSequencesInput),\n",
    "                        SequenceBlock.from_hdf(y,TensorQuaternions)),\n",
    "                get_items=tfm_src,\n",
    "                splitter=ApplyToDict(FuncSplitter(lambda o: 'experiment2' in str(o)))\n",
    "               ).dataloaders(hdf_files,shufflish=True,bs=128)"
   ]
  },
  {
   "cell_type": "markdown",
   "metadata": {},
   "source": [
    "## Basic Operations"
   ]
  },
  {
   "cell_type": "code",
   "execution_count": null,
   "metadata": {},
   "outputs": [
    {
     "data": {
      "text/plain": [
       "torch.Size([2, 4])"
      ]
     },
     "execution_count": null,
     "metadata": {},
     "output_type": "execute_result"
    }
   ],
   "source": [
    "tq1 = tensor([\n",
    "    [1,0,0,0],\n",
    "    [0.5,0.5,0.5,0.5],\n",
    "    ])\n",
    "tq2 = tensor([\n",
    "    [0.5,0.5,0.5,0.5],\n",
    "    [0.5,0.5,0.5,0.5],\n",
    "    ])\n",
    "tq1.shape"
   ]
  },
  {
   "cell_type": "code",
   "execution_count": null,
   "metadata": {},
   "outputs": [],
   "source": [
    "#export\n",
    "_pi = torch.Tensor([3.14159265358979323846])\n",
    "def rad2deg(t):\n",
    "    return 180. * t / _pi.to(t.device).type(t.dtype)"
   ]
  },
  {
   "cell_type": "code",
   "execution_count": null,
   "metadata": {},
   "outputs": [],
   "source": [
    "test_eq(float(rad2deg(_pi)),180)"
   ]
  },
  {
   "cell_type": "code",
   "execution_count": null,
   "metadata": {},
   "outputs": [],
   "source": [
    "#export\n",
    "def multiplyQuat(q1, q2):\n",
    "    \"\"\"quat1*quat2\"\"\"\n",
    "    output = torch.zeros_like(q1)\n",
    "    output[..., 0] = q1[..., 0] * q2[..., 0] - q1[..., 1] * q2[..., 1] - q1[..., 2] * q2[..., 2] - q1[..., 3] * q2[..., 3]\n",
    "    output[..., 1] = q1[..., 0] * q2[..., 1] + q1[..., 1] * q2[..., 0] + q1[..., 2] * q2[..., 3] - q1[..., 3] * q2[..., 2]\n",
    "    output[..., 2] = q1[..., 0] * q2[..., 2] - q1[..., 1] * q2[..., 3] + q1[..., 2] * q2[..., 0] + q1[..., 3] * q2[..., 1]\n",
    "    output[..., 3] = q1[..., 0] * q2[..., 3] + q1[..., 1] * q2[..., 2] - q1[..., 2] * q2[..., 1] + q1[..., 3] * q2[..., 0]\n",
    "    return output"
   ]
  },
  {
   "cell_type": "code",
   "execution_count": null,
   "metadata": {},
   "outputs": [],
   "source": [
    "test_eq(multiplyQuat(tq1,tq2),tensor([[ 0.5000,  0.5000,  0.5000,  0.5000],\n",
    "                                    [-0.5000,  0.5000,  0.5000,  0.5000]]))"
   ]
  },
  {
   "cell_type": "code",
   "execution_count": null,
   "metadata": {},
   "outputs": [],
   "source": [
    "#export\n",
    "def norm_quaternion(q):\n",
    "    return q / q.norm(dim=-1)[...,None]"
   ]
  },
  {
   "cell_type": "code",
   "execution_count": null,
   "metadata": {},
   "outputs": [],
   "source": [
    "test_eq(norm_quaternion(tq1*5),tq1)\n",
    "test_eq(norm_quaternion(tq1/_pi),tq1)\n",
    "test_eq(norm_quaternion(tq1[None,...]),tq1[None,...])"
   ]
  },
  {
   "cell_type": "code",
   "execution_count": null,
   "metadata": {},
   "outputs": [],
   "source": [
    "#export\n",
    "_conjugate_quaternion = tensor([1,-1,-1,-1])\n",
    "def conjQuat(q):\n",
    "    return q * _conjugate_quaternion.to(q.device).type(q.dtype)"
   ]
  },
  {
   "cell_type": "code",
   "execution_count": null,
   "metadata": {},
   "outputs": [],
   "source": [
    "test_eq(conjQuat(tq1),tensor([[ 1.0000, -0.0000, -0.0000, -0.0000],\n",
    "                             [ 0.5000, -0.5000, -0.5000, -0.5000]]))"
   ]
  },
  {
   "cell_type": "code",
   "execution_count": null,
   "metadata": {},
   "outputs": [],
   "source": [
    "#export\n",
    "def diffQuat(q1,q2,norm=True):\n",
    "    if norm:\n",
    "        nq1 = norm_quaternion(q1)\n",
    "        nq2 = norm_quaternion(q2)\n",
    "    else:\n",
    "        nq1 = q1\n",
    "        nq2 = q2\n",
    "    return multiplyQuat(nq1, conjQuat(nq2))"
   ]
  },
  {
   "cell_type": "code",
   "execution_count": null,
   "metadata": {},
   "outputs": [],
   "source": [
    "test_eq(diffQuat(tq1,tq2),diffQuat(tq1,tq2*5))\n",
    "test_ne(diffQuat(tq1,tq2),diffQuat(tq1,tq2*5,norm=False))\n",
    "test_ne(diffQuat(tq1,tq2),diffQuat(tq1[None,...],tq2[None,...]))"
   ]
  },
  {
   "cell_type": "code",
   "execution_count": null,
   "metadata": {},
   "outputs": [],
   "source": [
    "#export\n",
    "def safe_acos(t):\n",
    "    '''numericaly stable variant of arcuscosine'''\n",
    "    eps = 3e-8 #minimum value for acos(1) != 0\n",
    "    return t.clamp(-1.0 + eps, 1.0 - eps).acos()"
   ]
  },
  {
   "cell_type": "code",
   "execution_count": null,
   "metadata": {},
   "outputs": [],
   "source": [
    "test_ne(safe_acos(tensor(1.))*1e6,0)\n",
    "test_eq(safe_acos(tensor(-0.)),_pi/2)"
   ]
  },
  {
   "cell_type": "code",
   "execution_count": null,
   "metadata": {},
   "outputs": [],
   "source": [
    "#export\n",
    "def inclinationAngle(q1,q2):\n",
    "    q = diffQuat(q1,q2)\n",
    "    return 2*safe_acos((q[..., 3]**2 + q[..., 0]**2).sqrt())\n",
    "\n",
    "def relativeAngle(q1,q2):\n",
    "    q = diffQuat(q1,q2)\n",
    "    return 2*safe_acos((q[..., 0]).abs())"
   ]
  },
  {
   "cell_type": "code",
   "execution_count": null,
   "metadata": {},
   "outputs": [
    {
     "name": "stdout",
     "output_type": "stream",
     "text": [
      "inclination: tensor([9.0000e+01, 3.9565e-02])\n",
      "relative: tensor([1.2000e+02, 3.9565e-02])\n"
     ]
    }
   ],
   "source": [
    "print('inclination:', rad2deg(inclinationAngle(tq1,tq2)))\n",
    "print('relative:', rad2deg(relativeAngle(tq1,tq2)))"
   ]
  },
  {
   "cell_type": "markdown",
   "metadata": {},
   "source": [
    "## Loss Functions"
   ]
  },
  {
   "cell_type": "code",
   "execution_count": null,
   "metadata": {},
   "outputs": [],
   "source": [
    "#export\n",
    "def ms_inclination(q1,q2):\n",
    "    inclination = inclinationAngle(q1,q2)\n",
    "    return  (inclination**2).mean()"
   ]
  },
  {
   "cell_type": "code",
   "execution_count": null,
   "metadata": {},
   "outputs": [
    {
     "data": {
      "text/plain": [
       "tensor(1.2337)"
      ]
     },
     "execution_count": null,
     "metadata": {},
     "output_type": "execute_result"
    }
   ],
   "source": [
    "ms_inclination(tq1,tq2)"
   ]
  },
  {
   "cell_type": "code",
   "execution_count": null,
   "metadata": {},
   "outputs": [],
   "source": [
    "#export\n",
    "def rms_inclination_deg(q1,q2):\n",
    "    return  rad2deg(ms_inclination(q1,q2).sqrt())"
   ]
  },
  {
   "cell_type": "code",
   "execution_count": null,
   "metadata": {},
   "outputs": [
    {
     "data": {
      "text/plain": [
       "tensor([63.6396])"
      ]
     },
     "execution_count": null,
     "metadata": {},
     "output_type": "execute_result"
    }
   ],
   "source": [
    "rms_inclination_deg(tq1,tq2)"
   ]
  },
  {
   "cell_type": "code",
   "execution_count": null,
   "metadata": {},
   "outputs": [],
   "source": [
    "#export\n",
    "def ms_rel_angle(q1,q2):\n",
    "    rel_angle = relativeAngle(q1,q2)\n",
    "    return  (rel_angle**2).mean()"
   ]
  },
  {
   "cell_type": "code",
   "execution_count": null,
   "metadata": {},
   "outputs": [
    {
     "data": {
      "text/plain": [
       "tensor(2.1932)"
      ]
     },
     "execution_count": null,
     "metadata": {},
     "output_type": "execute_result"
    }
   ],
   "source": [
    "ms_rel_angle(tq1,tq2)"
   ]
  },
  {
   "cell_type": "code",
   "execution_count": null,
   "metadata": {},
   "outputs": [],
   "source": [
    "#export\n",
    "def rms_rel_angle_deg(q1,q2):\n",
    "    return  rad2deg(ms_rel_angle(q1,q2).sqrt())"
   ]
  },
  {
   "cell_type": "code",
   "execution_count": null,
   "metadata": {},
   "outputs": [
    {
     "data": {
      "text/plain": [
       "tensor([84.8528])"
      ]
     },
     "execution_count": null,
     "metadata": {},
     "output_type": "execute_result"
    }
   ],
   "source": [
    "rms_rel_angle_deg(tq1,tq2)"
   ]
  },
  {
   "cell_type": "markdown",
   "metadata": {},
   "source": [
    "## Callbacks"
   ]
  },
  {
   "cell_type": "markdown",
   "metadata": {},
   "source": [
    "In order to assure that the output of the model are close to unit quaternions the distance will be added to the loss"
   ]
  },
  {
   "cell_type": "code",
   "execution_count": null,
   "metadata": {},
   "outputs": [],
   "source": [
    "#export\n",
    "from fastai2.callback.hook import *\n",
    "@delegates()\n",
    "class QuaternionRegularizer(HookCallback):\n",
    "    \"Callback that adds AR and TAR to the loss, calculated by output of provided layer\"\n",
    "    run_before=TrainEvalCallback\n",
    "    def __init__(self,reg_unit=0.0,detach=False, **kwargs):\n",
    "        super().__init__(detach=detach,**kwargs)\n",
    "        store_attr(self,'reg_unit')\n",
    "        \n",
    "    def hook(self, m, i, o): \n",
    "        if type(o) is torch.Tensor:\n",
    "            self.out = o\n",
    "        else:\n",
    "            self.out = o[0]\n",
    "    \n",
    "    def after_loss(self):\n",
    "        if not self.training: return\n",
    "        h = self.out.float()\n",
    "        \n",
    "        if self.reg_unit != 0.:  \n",
    "            l_a = self.reg_unit * ((1-h.norm(dim=-1))**2).mean()\n",
    "#             import pdb; pdb.set_trace()\n",
    "            self.learn.loss += l_a "
   ]
  },
  {
   "cell_type": "code",
   "execution_count": null,
   "metadata": {},
   "outputs": [],
   "source": [
    "n_skip = 2**8\n",
    "\n",
    "inp,out = get_inp_out_size(dls)\n",
    "# model = SimpleGRU(inp,out,num_layers=1,hidden_size=100)\n",
    "# model = TCN(inp,out,hl_depth=8,hl_width=10)\n",
    "\n",
    "skip = partial(SkipNLoss,n_skip=n_skip)\n",
    "metrics=rms_inclination_deg\n",
    "cbs = [QuaternionRegularizer(reg_unit=1,modules=[model])]\n",
    "\n",
    "lrn = Learner(dls,model,loss_func=ms_inclination,opt_func=ranger,metrics=metrics)"
   ]
  },
  {
   "cell_type": "code",
   "execution_count": null,
   "metadata": {},
   "outputs": [
    {
     "data": {
      "text/html": [
       "<table border=\"1\" class=\"dataframe\">\n",
       "  <thead>\n",
       "    <tr style=\"text-align: left;\">\n",
       "      <th>epoch</th>\n",
       "      <th>train_loss</th>\n",
       "      <th>valid_loss</th>\n",
       "      <th>rms_inclination_deg</th>\n",
       "      <th>time</th>\n",
       "    </tr>\n",
       "  </thead>\n",
       "  <tbody>\n",
       "    <tr>\n",
       "      <td>0</td>\n",
       "      <td>0.074535</td>\n",
       "      <td>0.072365</td>\n",
       "      <td>12.449654</td>\n",
       "      <td>00:05</td>\n",
       "    </tr>\n",
       "    <tr>\n",
       "      <td>1</td>\n",
       "      <td>0.072222</td>\n",
       "      <td>00:01</td>\n",
       "    </tr>\n",
       "  </tbody>\n",
       "</table>"
      ],
      "text/plain": [
       "<IPython.core.display.HTML object>"
      ]
     },
     "metadata": {},
     "output_type": "display_data"
    },
    {
     "ename": "KeyboardInterrupt",
     "evalue": "",
     "output_type": "error",
     "traceback": [
      "\u001b[0;31m---------------------------------------------------------------------------\u001b[0m",
      "\u001b[0;31mKeyboardInterrupt\u001b[0m                         Traceback (most recent call last)",
      "\u001b[0;32m<ipython-input-105-575db0e44437>\u001b[0m in \u001b[0;36m<module>\u001b[0;34m\u001b[0m\n\u001b[0;32m----> 1\u001b[0;31m \u001b[0mlrn\u001b[0m\u001b[0;34m.\u001b[0m\u001b[0mfit_one_cycle\u001b[0m\u001b[0;34m(\u001b[0m\u001b[0;36m5\u001b[0m\u001b[0;34m,\u001b[0m\u001b[0mlr_max\u001b[0m\u001b[0;34m=\u001b[0m\u001b[0;36m3e-3\u001b[0m\u001b[0;34m)\u001b[0m\u001b[0;34m\u001b[0m\u001b[0m\n\u001b[0m",
      "\u001b[0;32m~/Development/seqdata/fastai2/fastai2/callback/schedule.py\u001b[0m in \u001b[0;36mfit_one_cycle\u001b[0;34m(self, n_epoch, lr_max, div, div_final, pct_start, wd, moms, cbs, reset_opt)\u001b[0m\n\u001b[1;32m     88\u001b[0m     scheds = {'lr': combined_cos(pct_start, lr_max/div, lr_max, lr_max/div_final),\n\u001b[1;32m     89\u001b[0m               'mom': combined_cos(pct_start, *(self.moms if moms is None else moms))}\n\u001b[0;32m---> 90\u001b[0;31m     \u001b[0mself\u001b[0m\u001b[0;34m.\u001b[0m\u001b[0mfit\u001b[0m\u001b[0;34m(\u001b[0m\u001b[0mn_epoch\u001b[0m\u001b[0;34m,\u001b[0m \u001b[0mcbs\u001b[0m\u001b[0;34m=\u001b[0m\u001b[0mParamScheduler\u001b[0m\u001b[0;34m(\u001b[0m\u001b[0mscheds\u001b[0m\u001b[0;34m)\u001b[0m\u001b[0;34m+\u001b[0m\u001b[0mL\u001b[0m\u001b[0;34m(\u001b[0m\u001b[0mcbs\u001b[0m\u001b[0;34m)\u001b[0m\u001b[0;34m,\u001b[0m \u001b[0mreset_opt\u001b[0m\u001b[0;34m=\u001b[0m\u001b[0mreset_opt\u001b[0m\u001b[0;34m,\u001b[0m \u001b[0mwd\u001b[0m\u001b[0;34m=\u001b[0m\u001b[0mwd\u001b[0m\u001b[0;34m)\u001b[0m\u001b[0;34m\u001b[0m\u001b[0m\n\u001b[0m\u001b[1;32m     91\u001b[0m \u001b[0;34m\u001b[0m\u001b[0m\n\u001b[1;32m     92\u001b[0m \u001b[0;31m# Cell\u001b[0m\u001b[0;34m\u001b[0m\u001b[0;34m\u001b[0m\u001b[0m\n",
      "\u001b[0;32m~/Development/seqdata/fastai2/fastai2/learner.py\u001b[0m in \u001b[0;36mfit\u001b[0;34m(self, n_epoch, lr, wd, cbs, reset_opt)\u001b[0m\n\u001b[1;32m    292\u001b[0m                     \u001b[0;32mtry\u001b[0m\u001b[0;34m:\u001b[0m\u001b[0;34m\u001b[0m\u001b[0m\n\u001b[1;32m    293\u001b[0m                         \u001b[0mself\u001b[0m\u001b[0;34m.\u001b[0m\u001b[0mepoch\u001b[0m\u001b[0;34m=\u001b[0m\u001b[0mepoch\u001b[0m\u001b[0;34m;\u001b[0m          \u001b[0mself\u001b[0m\u001b[0;34m(\u001b[0m\u001b[0;34m'begin_epoch'\u001b[0m\u001b[0;34m)\u001b[0m\u001b[0;34m\u001b[0m\u001b[0m\n\u001b[0;32m--> 294\u001b[0;31m                         \u001b[0mself\u001b[0m\u001b[0;34m.\u001b[0m\u001b[0m_do_epoch_train\u001b[0m\u001b[0;34m(\u001b[0m\u001b[0;34m)\u001b[0m\u001b[0;34m\u001b[0m\u001b[0m\n\u001b[0m\u001b[1;32m    295\u001b[0m                         \u001b[0mself\u001b[0m\u001b[0;34m.\u001b[0m\u001b[0m_do_epoch_validate\u001b[0m\u001b[0;34m(\u001b[0m\u001b[0;34m)\u001b[0m\u001b[0;34m\u001b[0m\u001b[0m\n\u001b[1;32m    296\u001b[0m                     \u001b[0;32mexcept\u001b[0m \u001b[0mCancelEpochException\u001b[0m\u001b[0;34m:\u001b[0m   \u001b[0mself\u001b[0m\u001b[0;34m(\u001b[0m\u001b[0;34m'after_cancel_epoch'\u001b[0m\u001b[0;34m)\u001b[0m\u001b[0;34m\u001b[0m\u001b[0m\n",
      "\u001b[0;32m~/Development/seqdata/fastai2/fastai2/learner.py\u001b[0m in \u001b[0;36m_do_epoch_train\u001b[0;34m(self)\u001b[0m\n\u001b[1;32m    267\u001b[0m         \u001b[0;32mtry\u001b[0m\u001b[0;34m:\u001b[0m\u001b[0;34m\u001b[0m\u001b[0m\n\u001b[1;32m    268\u001b[0m             \u001b[0mself\u001b[0m\u001b[0;34m.\u001b[0m\u001b[0mdl\u001b[0m \u001b[0;34m=\u001b[0m \u001b[0mself\u001b[0m\u001b[0;34m.\u001b[0m\u001b[0mdls\u001b[0m\u001b[0;34m.\u001b[0m\u001b[0mtrain\u001b[0m\u001b[0;34m;\u001b[0m                  \u001b[0mself\u001b[0m\u001b[0;34m(\u001b[0m\u001b[0;34m'begin_train'\u001b[0m\u001b[0;34m)\u001b[0m\u001b[0;34m\u001b[0m\u001b[0m\n\u001b[0;32m--> 269\u001b[0;31m             \u001b[0mself\u001b[0m\u001b[0;34m.\u001b[0m\u001b[0mall_batches\u001b[0m\u001b[0;34m(\u001b[0m\u001b[0;34m)\u001b[0m\u001b[0;34m\u001b[0m\u001b[0m\n\u001b[0m\u001b[1;32m    270\u001b[0m         \u001b[0;32mexcept\u001b[0m \u001b[0mCancelTrainException\u001b[0m\u001b[0;34m:\u001b[0m                         \u001b[0mself\u001b[0m\u001b[0;34m(\u001b[0m\u001b[0;34m'after_cancel_train'\u001b[0m\u001b[0;34m)\u001b[0m\u001b[0;34m\u001b[0m\u001b[0m\n\u001b[1;32m    271\u001b[0m         \u001b[0;32mfinally\u001b[0m\u001b[0;34m:\u001b[0m                                             \u001b[0mself\u001b[0m\u001b[0;34m(\u001b[0m\u001b[0;34m'after_train'\u001b[0m\u001b[0;34m)\u001b[0m\u001b[0;34m\u001b[0m\u001b[0m\n",
      "\u001b[0;32m~/Development/seqdata/fastai2/fastai2/learner.py\u001b[0m in \u001b[0;36mall_batches\u001b[0;34m(self)\u001b[0m\n\u001b[1;32m    245\u001b[0m     \u001b[0;32mdef\u001b[0m \u001b[0mall_batches\u001b[0m\u001b[0;34m(\u001b[0m\u001b[0mself\u001b[0m\u001b[0;34m)\u001b[0m\u001b[0;34m:\u001b[0m\u001b[0;34m\u001b[0m\u001b[0m\n\u001b[1;32m    246\u001b[0m         \u001b[0mself\u001b[0m\u001b[0;34m.\u001b[0m\u001b[0mn_iter\u001b[0m \u001b[0;34m=\u001b[0m \u001b[0mlen\u001b[0m\u001b[0;34m(\u001b[0m\u001b[0mself\u001b[0m\u001b[0;34m.\u001b[0m\u001b[0mdl\u001b[0m\u001b[0;34m)\u001b[0m\u001b[0;34m\u001b[0m\u001b[0m\n\u001b[0;32m--> 247\u001b[0;31m         \u001b[0;32mfor\u001b[0m \u001b[0mo\u001b[0m \u001b[0;32min\u001b[0m \u001b[0menumerate\u001b[0m\u001b[0;34m(\u001b[0m\u001b[0mself\u001b[0m\u001b[0;34m.\u001b[0m\u001b[0mdl\u001b[0m\u001b[0;34m)\u001b[0m\u001b[0;34m:\u001b[0m \u001b[0mself\u001b[0m\u001b[0;34m.\u001b[0m\u001b[0mone_batch\u001b[0m\u001b[0;34m(\u001b[0m\u001b[0;34m*\u001b[0m\u001b[0mo\u001b[0m\u001b[0;34m)\u001b[0m\u001b[0;34m\u001b[0m\u001b[0m\n\u001b[0m\u001b[1;32m    248\u001b[0m \u001b[0;34m\u001b[0m\u001b[0m\n\u001b[1;32m    249\u001b[0m     \u001b[0;32mdef\u001b[0m \u001b[0mone_batch\u001b[0m\u001b[0;34m(\u001b[0m\u001b[0mself\u001b[0m\u001b[0;34m,\u001b[0m \u001b[0mi\u001b[0m\u001b[0;34m,\u001b[0m \u001b[0mb\u001b[0m\u001b[0;34m)\u001b[0m\u001b[0;34m:\u001b[0m\u001b[0;34m\u001b[0m\u001b[0m\n",
      "\u001b[0;32m~/Development/seqdata/fastai2/fastai2/learner.py\u001b[0m in \u001b[0;36mone_batch\u001b[0;34m(self, i, b)\u001b[0m\n\u001b[1;32m    251\u001b[0m         \u001b[0;32mtry\u001b[0m\u001b[0;34m:\u001b[0m\u001b[0;34m\u001b[0m\u001b[0m\n\u001b[1;32m    252\u001b[0m             \u001b[0mself\u001b[0m\u001b[0;34m.\u001b[0m\u001b[0m_split\u001b[0m\u001b[0;34m(\u001b[0m\u001b[0mb\u001b[0m\u001b[0;34m)\u001b[0m\u001b[0;34m;\u001b[0m                                  \u001b[0mself\u001b[0m\u001b[0;34m(\u001b[0m\u001b[0;34m'begin_batch'\u001b[0m\u001b[0;34m)\u001b[0m\u001b[0;34m\u001b[0m\u001b[0m\n\u001b[0;32m--> 253\u001b[0;31m             \u001b[0mself\u001b[0m\u001b[0;34m.\u001b[0m\u001b[0mpred\u001b[0m \u001b[0;34m=\u001b[0m \u001b[0mself\u001b[0m\u001b[0;34m.\u001b[0m\u001b[0mmodel\u001b[0m\u001b[0;34m(\u001b[0m\u001b[0;34m*\u001b[0m\u001b[0mself\u001b[0m\u001b[0;34m.\u001b[0m\u001b[0mxb\u001b[0m\u001b[0;34m)\u001b[0m\u001b[0;34m;\u001b[0m                \u001b[0mself\u001b[0m\u001b[0;34m(\u001b[0m\u001b[0;34m'after_pred'\u001b[0m\u001b[0;34m)\u001b[0m\u001b[0;34m\u001b[0m\u001b[0m\n\u001b[0m\u001b[1;32m    254\u001b[0m             \u001b[0;32mif\u001b[0m \u001b[0mlen\u001b[0m\u001b[0;34m(\u001b[0m\u001b[0mself\u001b[0m\u001b[0;34m.\u001b[0m\u001b[0myb\u001b[0m\u001b[0;34m)\u001b[0m \u001b[0;34m==\u001b[0m \u001b[0;36m0\u001b[0m\u001b[0;34m:\u001b[0m \u001b[0;32mreturn\u001b[0m\u001b[0;34m\u001b[0m\u001b[0m\n\u001b[1;32m    255\u001b[0m             \u001b[0mself\u001b[0m\u001b[0;34m.\u001b[0m\u001b[0mloss\u001b[0m \u001b[0;34m=\u001b[0m \u001b[0mself\u001b[0m\u001b[0;34m.\u001b[0m\u001b[0mloss_func\u001b[0m\u001b[0;34m(\u001b[0m\u001b[0mself\u001b[0m\u001b[0;34m.\u001b[0m\u001b[0mpred\u001b[0m\u001b[0;34m,\u001b[0m \u001b[0;34m*\u001b[0m\u001b[0mself\u001b[0m\u001b[0;34m.\u001b[0m\u001b[0myb\u001b[0m\u001b[0;34m)\u001b[0m\u001b[0;34m;\u001b[0m \u001b[0mself\u001b[0m\u001b[0;34m(\u001b[0m\u001b[0;34m'after_loss'\u001b[0m\u001b[0;34m)\u001b[0m\u001b[0;34m\u001b[0m\u001b[0m\n",
      "\u001b[0;32m~/miniconda3/lib/python3.7/site-packages/torch/nn/modules/module.py\u001b[0m in \u001b[0;36m__call__\u001b[0;34m(self, *input, **kwargs)\u001b[0m\n\u001b[1;32m    539\u001b[0m             \u001b[0mresult\u001b[0m \u001b[0;34m=\u001b[0m \u001b[0mself\u001b[0m\u001b[0;34m.\u001b[0m\u001b[0m_slow_forward\u001b[0m\u001b[0;34m(\u001b[0m\u001b[0;34m*\u001b[0m\u001b[0minput\u001b[0m\u001b[0;34m,\u001b[0m \u001b[0;34m**\u001b[0m\u001b[0mkwargs\u001b[0m\u001b[0;34m)\u001b[0m\u001b[0;34m\u001b[0m\u001b[0m\n\u001b[1;32m    540\u001b[0m         \u001b[0;32melse\u001b[0m\u001b[0;34m:\u001b[0m\u001b[0;34m\u001b[0m\u001b[0m\n\u001b[0;32m--> 541\u001b[0;31m             \u001b[0mresult\u001b[0m \u001b[0;34m=\u001b[0m \u001b[0mself\u001b[0m\u001b[0;34m.\u001b[0m\u001b[0mforward\u001b[0m\u001b[0;34m(\u001b[0m\u001b[0;34m*\u001b[0m\u001b[0minput\u001b[0m\u001b[0;34m,\u001b[0m \u001b[0;34m**\u001b[0m\u001b[0mkwargs\u001b[0m\u001b[0;34m)\u001b[0m\u001b[0;34m\u001b[0m\u001b[0m\n\u001b[0m\u001b[1;32m    542\u001b[0m         \u001b[0;32mfor\u001b[0m \u001b[0mhook\u001b[0m \u001b[0;32min\u001b[0m \u001b[0mself\u001b[0m\u001b[0;34m.\u001b[0m\u001b[0m_forward_hooks\u001b[0m\u001b[0;34m.\u001b[0m\u001b[0mvalues\u001b[0m\u001b[0;34m(\u001b[0m\u001b[0;34m)\u001b[0m\u001b[0;34m:\u001b[0m\u001b[0;34m\u001b[0m\u001b[0m\n\u001b[1;32m    543\u001b[0m             \u001b[0mhook_result\u001b[0m \u001b[0;34m=\u001b[0m \u001b[0mhook\u001b[0m\u001b[0;34m(\u001b[0m\u001b[0mself\u001b[0m\u001b[0;34m,\u001b[0m \u001b[0minput\u001b[0m\u001b[0;34m,\u001b[0m \u001b[0mresult\u001b[0m\u001b[0;34m)\u001b[0m\u001b[0;34m\u001b[0m\u001b[0m\n",
      "\u001b[0;32m~/Development/seqdata/seqdata/model.py\u001b[0m in \u001b[0;36mforward\u001b[0;34m(self, x)\u001b[0m\n\u001b[1;32m    182\u001b[0m         \u001b[0mout\u001b[0m \u001b[0;34m=\u001b[0m \u001b[0mself\u001b[0m\u001b[0;34m.\u001b[0m\u001b[0mconv1\u001b[0m\u001b[0;34m(\u001b[0m\u001b[0mout\u001b[0m\u001b[0;34m)\u001b[0m\u001b[0;34m\u001b[0m\u001b[0m\n\u001b[1;32m    183\u001b[0m         \u001b[0;32mfor\u001b[0m \u001b[0mi\u001b[0m \u001b[0;32min\u001b[0m \u001b[0mrange\u001b[0m\u001b[0;34m(\u001b[0m\u001b[0mself\u001b[0m\u001b[0;34m.\u001b[0m\u001b[0mhl_depth\u001b[0m\u001b[0;34m-\u001b[0m\u001b[0;36m1\u001b[0m\u001b[0;34m)\u001b[0m\u001b[0;34m:\u001b[0m\u001b[0;34m\u001b[0m\u001b[0m\n\u001b[0;32m--> 184\u001b[0;31m             \u001b[0mout\u001b[0m \u001b[0;34m=\u001b[0m \u001b[0mself\u001b[0m\u001b[0;34m.\u001b[0m\u001b[0mconv_layers\u001b[0m\u001b[0;34m[\u001b[0m\u001b[0mi\u001b[0m\u001b[0;34m]\u001b[0m\u001b[0;34m(\u001b[0m\u001b[0mout\u001b[0m\u001b[0;34m)\u001b[0m\u001b[0;34m+\u001b[0m\u001b[0mout\u001b[0m\u001b[0;34m\u001b[0m\u001b[0m\n\u001b[0m\u001b[1;32m    185\u001b[0m \u001b[0;31m#         print(out.shape)\u001b[0m\u001b[0;34m\u001b[0m\u001b[0;34m\u001b[0m\u001b[0m\n\u001b[1;32m    186\u001b[0m \u001b[0;31m#         print(self.final.in_features)\u001b[0m\u001b[0;34m\u001b[0m\u001b[0;34m\u001b[0m\u001b[0m\n",
      "\u001b[0;32m~/miniconda3/lib/python3.7/site-packages/torch/nn/modules/module.py\u001b[0m in \u001b[0;36m__call__\u001b[0;34m(self, *input, **kwargs)\u001b[0m\n\u001b[1;32m    539\u001b[0m             \u001b[0mresult\u001b[0m \u001b[0;34m=\u001b[0m \u001b[0mself\u001b[0m\u001b[0;34m.\u001b[0m\u001b[0m_slow_forward\u001b[0m\u001b[0;34m(\u001b[0m\u001b[0;34m*\u001b[0m\u001b[0minput\u001b[0m\u001b[0;34m,\u001b[0m \u001b[0;34m**\u001b[0m\u001b[0mkwargs\u001b[0m\u001b[0;34m)\u001b[0m\u001b[0;34m\u001b[0m\u001b[0m\n\u001b[1;32m    540\u001b[0m         \u001b[0;32melse\u001b[0m\u001b[0;34m:\u001b[0m\u001b[0;34m\u001b[0m\u001b[0m\n\u001b[0;32m--> 541\u001b[0;31m             \u001b[0mresult\u001b[0m \u001b[0;34m=\u001b[0m \u001b[0mself\u001b[0m\u001b[0;34m.\u001b[0m\u001b[0mforward\u001b[0m\u001b[0;34m(\u001b[0m\u001b[0;34m*\u001b[0m\u001b[0minput\u001b[0m\u001b[0;34m,\u001b[0m \u001b[0;34m**\u001b[0m\u001b[0mkwargs\u001b[0m\u001b[0;34m)\u001b[0m\u001b[0;34m\u001b[0m\u001b[0m\n\u001b[0m\u001b[1;32m    542\u001b[0m         \u001b[0;32mfor\u001b[0m \u001b[0mhook\u001b[0m \u001b[0;32min\u001b[0m \u001b[0mself\u001b[0m\u001b[0;34m.\u001b[0m\u001b[0m_forward_hooks\u001b[0m\u001b[0;34m.\u001b[0m\u001b[0mvalues\u001b[0m\u001b[0;34m(\u001b[0m\u001b[0;34m)\u001b[0m\u001b[0;34m:\u001b[0m\u001b[0;34m\u001b[0m\u001b[0m\n\u001b[1;32m    543\u001b[0m             \u001b[0mhook_result\u001b[0m \u001b[0;34m=\u001b[0m \u001b[0mhook\u001b[0m\u001b[0;34m(\u001b[0m\u001b[0mself\u001b[0m\u001b[0;34m,\u001b[0m \u001b[0minput\u001b[0m\u001b[0;34m,\u001b[0m \u001b[0mresult\u001b[0m\u001b[0;34m)\u001b[0m\u001b[0;34m\u001b[0m\u001b[0m\n",
      "\u001b[0;32m~/miniconda3/lib/python3.7/site-packages/torch/nn/modules/container.py\u001b[0m in \u001b[0;36mforward\u001b[0;34m(self, input)\u001b[0m\n\u001b[1;32m     90\u001b[0m     \u001b[0;32mdef\u001b[0m \u001b[0mforward\u001b[0m\u001b[0;34m(\u001b[0m\u001b[0mself\u001b[0m\u001b[0;34m,\u001b[0m \u001b[0minput\u001b[0m\u001b[0;34m)\u001b[0m\u001b[0;34m:\u001b[0m\u001b[0;34m\u001b[0m\u001b[0m\n\u001b[1;32m     91\u001b[0m         \u001b[0;32mfor\u001b[0m \u001b[0mmodule\u001b[0m \u001b[0;32min\u001b[0m \u001b[0mself\u001b[0m\u001b[0;34m.\u001b[0m\u001b[0m_modules\u001b[0m\u001b[0;34m.\u001b[0m\u001b[0mvalues\u001b[0m\u001b[0;34m(\u001b[0m\u001b[0;34m)\u001b[0m\u001b[0;34m:\u001b[0m\u001b[0;34m\u001b[0m\u001b[0m\n\u001b[0;32m---> 92\u001b[0;31m             \u001b[0minput\u001b[0m \u001b[0;34m=\u001b[0m \u001b[0mmodule\u001b[0m\u001b[0;34m(\u001b[0m\u001b[0minput\u001b[0m\u001b[0;34m)\u001b[0m\u001b[0;34m\u001b[0m\u001b[0m\n\u001b[0m\u001b[1;32m     93\u001b[0m         \u001b[0;32mreturn\u001b[0m \u001b[0minput\u001b[0m\u001b[0;34m\u001b[0m\u001b[0m\n\u001b[1;32m     94\u001b[0m \u001b[0;34m\u001b[0m\u001b[0m\n",
      "\u001b[0;32m~/miniconda3/lib/python3.7/site-packages/torch/nn/modules/module.py\u001b[0m in \u001b[0;36m__call__\u001b[0;34m(self, *input, **kwargs)\u001b[0m\n\u001b[1;32m    539\u001b[0m             \u001b[0mresult\u001b[0m \u001b[0;34m=\u001b[0m \u001b[0mself\u001b[0m\u001b[0;34m.\u001b[0m\u001b[0m_slow_forward\u001b[0m\u001b[0;34m(\u001b[0m\u001b[0;34m*\u001b[0m\u001b[0minput\u001b[0m\u001b[0;34m,\u001b[0m \u001b[0;34m**\u001b[0m\u001b[0mkwargs\u001b[0m\u001b[0;34m)\u001b[0m\u001b[0;34m\u001b[0m\u001b[0m\n\u001b[1;32m    540\u001b[0m         \u001b[0;32melse\u001b[0m\u001b[0;34m:\u001b[0m\u001b[0;34m\u001b[0m\u001b[0m\n\u001b[0;32m--> 541\u001b[0;31m             \u001b[0mresult\u001b[0m \u001b[0;34m=\u001b[0m \u001b[0mself\u001b[0m\u001b[0;34m.\u001b[0m\u001b[0mforward\u001b[0m\u001b[0;34m(\u001b[0m\u001b[0;34m*\u001b[0m\u001b[0minput\u001b[0m\u001b[0;34m,\u001b[0m \u001b[0;34m**\u001b[0m\u001b[0mkwargs\u001b[0m\u001b[0;34m)\u001b[0m\u001b[0;34m\u001b[0m\u001b[0m\n\u001b[0m\u001b[1;32m    542\u001b[0m         \u001b[0;32mfor\u001b[0m \u001b[0mhook\u001b[0m \u001b[0;32min\u001b[0m \u001b[0mself\u001b[0m\u001b[0;34m.\u001b[0m\u001b[0m_forward_hooks\u001b[0m\u001b[0;34m.\u001b[0m\u001b[0mvalues\u001b[0m\u001b[0;34m(\u001b[0m\u001b[0;34m)\u001b[0m\u001b[0;34m:\u001b[0m\u001b[0;34m\u001b[0m\u001b[0m\n\u001b[1;32m    543\u001b[0m             \u001b[0mhook_result\u001b[0m \u001b[0;34m=\u001b[0m \u001b[0mhook\u001b[0m\u001b[0;34m(\u001b[0m\u001b[0mself\u001b[0m\u001b[0;34m,\u001b[0m \u001b[0minput\u001b[0m\u001b[0;34m,\u001b[0m \u001b[0mresult\u001b[0m\u001b[0;34m)\u001b[0m\u001b[0;34m\u001b[0m\u001b[0m\n",
      "\u001b[0;32m~/Development/seqdata/seqdata/model.py\u001b[0m in \u001b[0;36mforward\u001b[0;34m(self, input)\u001b[0m\n\u001b[1;32m    154\u001b[0m \u001b[0;34m\u001b[0m\u001b[0m\n\u001b[1;32m    155\u001b[0m     \u001b[0;32mdef\u001b[0m \u001b[0mforward\u001b[0m\u001b[0;34m(\u001b[0m\u001b[0mself\u001b[0m\u001b[0;34m,\u001b[0m \u001b[0minput\u001b[0m\u001b[0;34m)\u001b[0m\u001b[0;34m:\u001b[0m\u001b[0;34m\u001b[0m\u001b[0m\n\u001b[0;32m--> 156\u001b[0;31m         \u001b[0;32mreturn\u001b[0m \u001b[0msuper\u001b[0m\u001b[0;34m(\u001b[0m\u001b[0;34m)\u001b[0m\u001b[0;34m.\u001b[0m\u001b[0mforward\u001b[0m\u001b[0;34m(\u001b[0m\u001b[0minput\u001b[0m\u001b[0;34m)\u001b[0m\u001b[0;34m[\u001b[0m\u001b[0;34m:\u001b[0m\u001b[0;34m,\u001b[0m\u001b[0;34m:\u001b[0m\u001b[0;34m,\u001b[0m\u001b[0;34m:\u001b[0m\u001b[0;34m-\u001b[0m\u001b[0mself\u001b[0m\u001b[0;34m.\u001b[0m\u001b[0m__padding\u001b[0m\u001b[0;34m]\u001b[0m\u001b[0;34m\u001b[0m\u001b[0m\n\u001b[0m\u001b[1;32m    157\u001b[0m \u001b[0;34m\u001b[0m\u001b[0m\n\u001b[1;32m    158\u001b[0m \u001b[0;31m#Cell\u001b[0m\u001b[0;34m\u001b[0m\u001b[0;34m\u001b[0m\u001b[0m\n",
      "\u001b[0;32m~/miniconda3/lib/python3.7/site-packages/torch/nn/modules/conv.py\u001b[0m in \u001b[0;36mforward\u001b[0;34m(self, input)\u001b[0m\n\u001b[1;32m    200\u001b[0m                             _single(0), self.dilation, self.groups)\n\u001b[1;32m    201\u001b[0m         return F.conv1d(input, self.weight, self.bias, self.stride,\n\u001b[0;32m--> 202\u001b[0;31m                         self.padding, self.dilation, self.groups)\n\u001b[0m\u001b[1;32m    203\u001b[0m \u001b[0;34m\u001b[0m\u001b[0m\n\u001b[1;32m    204\u001b[0m \u001b[0;34m\u001b[0m\u001b[0m\n",
      "\u001b[0;31mKeyboardInterrupt\u001b[0m: "
     ]
    }
   ],
   "source": [
    "lrn.fit_one_cycle(5,lr_max=3e-3)"
   ]
  },
  {
   "cell_type": "code",
   "execution_count": null,
   "metadata": {},
   "outputs": [
    {
     "data": {
      "text/html": [],
      "text/plain": [
       "<IPython.core.display.HTML object>"
      ]
     },
     "metadata": {},
     "output_type": "display_data"
    },
    {
     "data": {
      "text/plain": [
       "(#2) [0.0662529468536377,13.009443283081055]"
      ]
     },
     "execution_count": null,
     "metadata": {},
     "output_type": "execute_result"
    }
   ],
   "source": [
    "lrn.validate(ds_idx=0)"
   ]
  },
  {
   "cell_type": "markdown",
   "metadata": {},
   "source": [
    "## Show Results"
   ]
  },
  {
   "cell_type": "code",
   "execution_count": null,
   "metadata": {},
   "outputs": [],
   "source": [
    "#export\n",
    "def plot_quaternions_single_figure(n_samples,samples,outs):\n",
    "    rows=max(1,((n_samples-1) // 3)+1)\n",
    "    cols=min(3,n_samples)\n",
    "    fig = plt.figure(figsize=(9,2*cols))\n",
    "    outer_grid = fig.add_gridspec(rows, cols)\n",
    "#     import pdb; pdb.set_trace()\n",
    "    n_targ = 1\n",
    "    for i in range(n_samples):\n",
    "        in_signals = samples[i][0]\n",
    "        targ_signals = samples[i][1]\n",
    "        out_signals = outs[i][0]\n",
    "        inner_grid = outer_grid[i].subgridspec(n_targ+1, 1)\n",
    "        ax = fig.add_subplot(inner_grid[0])\n",
    "#         import pdb; pdb.set_trace()\n",
    "        ax.plot(rad2deg(inclinationAngle(out_signals,targ_signals)))\n",
    "        print(rms_inclination_deg(out_signals,targ_signals))\n",
    "        ax.label_outer()\n",
    "\n",
    "        ax = fig.add_subplot(inner_grid[1])\n",
    "        ax.plot(in_signals)\n",
    "    plt.tight_layout()\n",
    "    "
   ]
  },
  {
   "cell_type": "code",
   "execution_count": null,
   "metadata": {},
   "outputs": [],
   "source": [
    "#export\n",
    "@typedispatch\n",
    "def show_results(x:TensorSequences, y:TensorQuaternions, samples, outs, ctxs=None, max_n=2, **kwargs):\n",
    "    n_samples = min(len(samples), max_n)\n",
    "#     import pdb; pdb.set_trace()\n",
    "    if n_samples > 3:\n",
    "        #if there are more then 3 samples to plot then put them in a single figure\n",
    "        plot_quaternions_single_figure(n_samples,samples,outs)\n",
    "    else:\n",
    "        #if there are less then 3 samples to plot then put each in its own figure\n",
    "        plot_quaternions_single_figure(n_samples,samples,outs)\n",
    "    return ctxs"
   ]
  },
  {
   "cell_type": "code",
   "execution_count": null,
   "metadata": {},
   "outputs": [
    {
     "data": {
      "text/html": [],
      "text/plain": [
       "<IPython.core.display.HTML object>"
      ]
     },
     "metadata": {},
     "output_type": "display_data"
    },
    {
     "data": {
      "application/javascript": [
       "/* Put everything inside the global mpl namespace */\n",
       "window.mpl = {};\n",
       "\n",
       "\n",
       "mpl.get_websocket_type = function() {\n",
       "    if (typeof(WebSocket) !== 'undefined') {\n",
       "        return WebSocket;\n",
       "    } else if (typeof(MozWebSocket) !== 'undefined') {\n",
       "        return MozWebSocket;\n",
       "    } else {\n",
       "        alert('Your browser does not have WebSocket support. ' +\n",
       "              'Please try Chrome, Safari or Firefox ≥ 6. ' +\n",
       "              'Firefox 4 and 5 are also supported but you ' +\n",
       "              'have to enable WebSockets in about:config.');\n",
       "    };\n",
       "}\n",
       "\n",
       "mpl.figure = function(figure_id, websocket, ondownload, parent_element) {\n",
       "    this.id = figure_id;\n",
       "\n",
       "    this.ws = websocket;\n",
       "\n",
       "    this.supports_binary = (this.ws.binaryType != undefined);\n",
       "\n",
       "    if (!this.supports_binary) {\n",
       "        var warnings = document.getElementById(\"mpl-warnings\");\n",
       "        if (warnings) {\n",
       "            warnings.style.display = 'block';\n",
       "            warnings.textContent = (\n",
       "                \"This browser does not support binary websocket messages. \" +\n",
       "                    \"Performance may be slow.\");\n",
       "        }\n",
       "    }\n",
       "\n",
       "    this.imageObj = new Image();\n",
       "\n",
       "    this.context = undefined;\n",
       "    this.message = undefined;\n",
       "    this.canvas = undefined;\n",
       "    this.rubberband_canvas = undefined;\n",
       "    this.rubberband_context = undefined;\n",
       "    this.format_dropdown = undefined;\n",
       "\n",
       "    this.image_mode = 'full';\n",
       "\n",
       "    this.root = $('<div/>');\n",
       "    this._root_extra_style(this.root)\n",
       "    this.root.attr('style', 'display: inline-block');\n",
       "\n",
       "    $(parent_element).append(this.root);\n",
       "\n",
       "    this._init_header(this);\n",
       "    this._init_canvas(this);\n",
       "    this._init_toolbar(this);\n",
       "\n",
       "    var fig = this;\n",
       "\n",
       "    this.waiting = false;\n",
       "\n",
       "    this.ws.onopen =  function () {\n",
       "            fig.send_message(\"supports_binary\", {value: fig.supports_binary});\n",
       "            fig.send_message(\"send_image_mode\", {});\n",
       "            if (mpl.ratio != 1) {\n",
       "                fig.send_message(\"set_dpi_ratio\", {'dpi_ratio': mpl.ratio});\n",
       "            }\n",
       "            fig.send_message(\"refresh\", {});\n",
       "        }\n",
       "\n",
       "    this.imageObj.onload = function() {\n",
       "            if (fig.image_mode == 'full') {\n",
       "                // Full images could contain transparency (where diff images\n",
       "                // almost always do), so we need to clear the canvas so that\n",
       "                // there is no ghosting.\n",
       "                fig.context.clearRect(0, 0, fig.canvas.width, fig.canvas.height);\n",
       "            }\n",
       "            fig.context.drawImage(fig.imageObj, 0, 0);\n",
       "        };\n",
       "\n",
       "    this.imageObj.onunload = function() {\n",
       "        fig.ws.close();\n",
       "    }\n",
       "\n",
       "    this.ws.onmessage = this._make_on_message_function(this);\n",
       "\n",
       "    this.ondownload = ondownload;\n",
       "}\n",
       "\n",
       "mpl.figure.prototype._init_header = function() {\n",
       "    var titlebar = $(\n",
       "        '<div class=\"ui-dialog-titlebar ui-widget-header ui-corner-all ' +\n",
       "        'ui-helper-clearfix\"/>');\n",
       "    var titletext = $(\n",
       "        '<div class=\"ui-dialog-title\" style=\"width: 100%; ' +\n",
       "        'text-align: center; padding: 3px;\"/>');\n",
       "    titlebar.append(titletext)\n",
       "    this.root.append(titlebar);\n",
       "    this.header = titletext[0];\n",
       "}\n",
       "\n",
       "\n",
       "\n",
       "mpl.figure.prototype._canvas_extra_style = function(canvas_div) {\n",
       "\n",
       "}\n",
       "\n",
       "\n",
       "mpl.figure.prototype._root_extra_style = function(canvas_div) {\n",
       "\n",
       "}\n",
       "\n",
       "mpl.figure.prototype._init_canvas = function() {\n",
       "    var fig = this;\n",
       "\n",
       "    var canvas_div = $('<div/>');\n",
       "\n",
       "    canvas_div.attr('style', 'position: relative; clear: both; outline: 0');\n",
       "\n",
       "    function canvas_keyboard_event(event) {\n",
       "        return fig.key_event(event, event['data']);\n",
       "    }\n",
       "\n",
       "    canvas_div.keydown('key_press', canvas_keyboard_event);\n",
       "    canvas_div.keyup('key_release', canvas_keyboard_event);\n",
       "    this.canvas_div = canvas_div\n",
       "    this._canvas_extra_style(canvas_div)\n",
       "    this.root.append(canvas_div);\n",
       "\n",
       "    var canvas = $('<canvas/>');\n",
       "    canvas.addClass('mpl-canvas');\n",
       "    canvas.attr('style', \"left: 0; top: 0; z-index: 0; outline: 0\")\n",
       "\n",
       "    this.canvas = canvas[0];\n",
       "    this.context = canvas[0].getContext(\"2d\");\n",
       "\n",
       "    var backingStore = this.context.backingStorePixelRatio ||\n",
       "\tthis.context.webkitBackingStorePixelRatio ||\n",
       "\tthis.context.mozBackingStorePixelRatio ||\n",
       "\tthis.context.msBackingStorePixelRatio ||\n",
       "\tthis.context.oBackingStorePixelRatio ||\n",
       "\tthis.context.backingStorePixelRatio || 1;\n",
       "\n",
       "    mpl.ratio = (window.devicePixelRatio || 1) / backingStore;\n",
       "\n",
       "    var rubberband = $('<canvas/>');\n",
       "    rubberband.attr('style', \"position: absolute; left: 0; top: 0; z-index: 1;\")\n",
       "\n",
       "    var pass_mouse_events = true;\n",
       "\n",
       "    canvas_div.resizable({\n",
       "        start: function(event, ui) {\n",
       "            pass_mouse_events = false;\n",
       "        },\n",
       "        resize: function(event, ui) {\n",
       "            fig.request_resize(ui.size.width, ui.size.height);\n",
       "        },\n",
       "        stop: function(event, ui) {\n",
       "            pass_mouse_events = true;\n",
       "            fig.request_resize(ui.size.width, ui.size.height);\n",
       "        },\n",
       "    });\n",
       "\n",
       "    function mouse_event_fn(event) {\n",
       "        if (pass_mouse_events)\n",
       "            return fig.mouse_event(event, event['data']);\n",
       "    }\n",
       "\n",
       "    rubberband.mousedown('button_press', mouse_event_fn);\n",
       "    rubberband.mouseup('button_release', mouse_event_fn);\n",
       "    // Throttle sequential mouse events to 1 every 20ms.\n",
       "    rubberband.mousemove('motion_notify', mouse_event_fn);\n",
       "\n",
       "    rubberband.mouseenter('figure_enter', mouse_event_fn);\n",
       "    rubberband.mouseleave('figure_leave', mouse_event_fn);\n",
       "\n",
       "    canvas_div.on(\"wheel\", function (event) {\n",
       "        event = event.originalEvent;\n",
       "        event['data'] = 'scroll'\n",
       "        if (event.deltaY < 0) {\n",
       "            event.step = 1;\n",
       "        } else {\n",
       "            event.step = -1;\n",
       "        }\n",
       "        mouse_event_fn(event);\n",
       "    });\n",
       "\n",
       "    canvas_div.append(canvas);\n",
       "    canvas_div.append(rubberband);\n",
       "\n",
       "    this.rubberband = rubberband;\n",
       "    this.rubberband_canvas = rubberband[0];\n",
       "    this.rubberband_context = rubberband[0].getContext(\"2d\");\n",
       "    this.rubberband_context.strokeStyle = \"#000000\";\n",
       "\n",
       "    this._resize_canvas = function(width, height) {\n",
       "        // Keep the size of the canvas, canvas container, and rubber band\n",
       "        // canvas in synch.\n",
       "        canvas_div.css('width', width)\n",
       "        canvas_div.css('height', height)\n",
       "\n",
       "        canvas.attr('width', width * mpl.ratio);\n",
       "        canvas.attr('height', height * mpl.ratio);\n",
       "        canvas.attr('style', 'width: ' + width + 'px; height: ' + height + 'px;');\n",
       "\n",
       "        rubberband.attr('width', width);\n",
       "        rubberband.attr('height', height);\n",
       "    }\n",
       "\n",
       "    // Set the figure to an initial 600x600px, this will subsequently be updated\n",
       "    // upon first draw.\n",
       "    this._resize_canvas(600, 600);\n",
       "\n",
       "    // Disable right mouse context menu.\n",
       "    $(this.rubberband_canvas).bind(\"contextmenu\",function(e){\n",
       "        return false;\n",
       "    });\n",
       "\n",
       "    function set_focus () {\n",
       "        canvas.focus();\n",
       "        canvas_div.focus();\n",
       "    }\n",
       "\n",
       "    window.setTimeout(set_focus, 100);\n",
       "}\n",
       "\n",
       "mpl.figure.prototype._init_toolbar = function() {\n",
       "    var fig = this;\n",
       "\n",
       "    var nav_element = $('<div/>');\n",
       "    nav_element.attr('style', 'width: 100%');\n",
       "    this.root.append(nav_element);\n",
       "\n",
       "    // Define a callback function for later on.\n",
       "    function toolbar_event(event) {\n",
       "        return fig.toolbar_button_onclick(event['data']);\n",
       "    }\n",
       "    function toolbar_mouse_event(event) {\n",
       "        return fig.toolbar_button_onmouseover(event['data']);\n",
       "    }\n",
       "\n",
       "    for(var toolbar_ind in mpl.toolbar_items) {\n",
       "        var name = mpl.toolbar_items[toolbar_ind][0];\n",
       "        var tooltip = mpl.toolbar_items[toolbar_ind][1];\n",
       "        var image = mpl.toolbar_items[toolbar_ind][2];\n",
       "        var method_name = mpl.toolbar_items[toolbar_ind][3];\n",
       "\n",
       "        if (!name) {\n",
       "            // put a spacer in here.\n",
       "            continue;\n",
       "        }\n",
       "        var button = $('<button/>');\n",
       "        button.addClass('ui-button ui-widget ui-state-default ui-corner-all ' +\n",
       "                        'ui-button-icon-only');\n",
       "        button.attr('role', 'button');\n",
       "        button.attr('aria-disabled', 'false');\n",
       "        button.click(method_name, toolbar_event);\n",
       "        button.mouseover(tooltip, toolbar_mouse_event);\n",
       "\n",
       "        var icon_img = $('<span/>');\n",
       "        icon_img.addClass('ui-button-icon-primary ui-icon');\n",
       "        icon_img.addClass(image);\n",
       "        icon_img.addClass('ui-corner-all');\n",
       "\n",
       "        var tooltip_span = $('<span/>');\n",
       "        tooltip_span.addClass('ui-button-text');\n",
       "        tooltip_span.html(tooltip);\n",
       "\n",
       "        button.append(icon_img);\n",
       "        button.append(tooltip_span);\n",
       "\n",
       "        nav_element.append(button);\n",
       "    }\n",
       "\n",
       "    var fmt_picker_span = $('<span/>');\n",
       "\n",
       "    var fmt_picker = $('<select/>');\n",
       "    fmt_picker.addClass('mpl-toolbar-option ui-widget ui-widget-content');\n",
       "    fmt_picker_span.append(fmt_picker);\n",
       "    nav_element.append(fmt_picker_span);\n",
       "    this.format_dropdown = fmt_picker[0];\n",
       "\n",
       "    for (var ind in mpl.extensions) {\n",
       "        var fmt = mpl.extensions[ind];\n",
       "        var option = $(\n",
       "            '<option/>', {selected: fmt === mpl.default_extension}).html(fmt);\n",
       "        fmt_picker.append(option);\n",
       "    }\n",
       "\n",
       "    // Add hover states to the ui-buttons\n",
       "    $( \".ui-button\" ).hover(\n",
       "        function() { $(this).addClass(\"ui-state-hover\");},\n",
       "        function() { $(this).removeClass(\"ui-state-hover\");}\n",
       "    );\n",
       "\n",
       "    var status_bar = $('<span class=\"mpl-message\"/>');\n",
       "    nav_element.append(status_bar);\n",
       "    this.message = status_bar[0];\n",
       "}\n",
       "\n",
       "mpl.figure.prototype.request_resize = function(x_pixels, y_pixels) {\n",
       "    // Request matplotlib to resize the figure. Matplotlib will then trigger a resize in the client,\n",
       "    // which will in turn request a refresh of the image.\n",
       "    this.send_message('resize', {'width': x_pixels, 'height': y_pixels});\n",
       "}\n",
       "\n",
       "mpl.figure.prototype.send_message = function(type, properties) {\n",
       "    properties['type'] = type;\n",
       "    properties['figure_id'] = this.id;\n",
       "    this.ws.send(JSON.stringify(properties));\n",
       "}\n",
       "\n",
       "mpl.figure.prototype.send_draw_message = function() {\n",
       "    if (!this.waiting) {\n",
       "        this.waiting = true;\n",
       "        this.ws.send(JSON.stringify({type: \"draw\", figure_id: this.id}));\n",
       "    }\n",
       "}\n",
       "\n",
       "\n",
       "mpl.figure.prototype.handle_save = function(fig, msg) {\n",
       "    var format_dropdown = fig.format_dropdown;\n",
       "    var format = format_dropdown.options[format_dropdown.selectedIndex].value;\n",
       "    fig.ondownload(fig, format);\n",
       "}\n",
       "\n",
       "\n",
       "mpl.figure.prototype.handle_resize = function(fig, msg) {\n",
       "    var size = msg['size'];\n",
       "    if (size[0] != fig.canvas.width || size[1] != fig.canvas.height) {\n",
       "        fig._resize_canvas(size[0], size[1]);\n",
       "        fig.send_message(\"refresh\", {});\n",
       "    };\n",
       "}\n",
       "\n",
       "mpl.figure.prototype.handle_rubberband = function(fig, msg) {\n",
       "    var x0 = msg['x0'] / mpl.ratio;\n",
       "    var y0 = (fig.canvas.height - msg['y0']) / mpl.ratio;\n",
       "    var x1 = msg['x1'] / mpl.ratio;\n",
       "    var y1 = (fig.canvas.height - msg['y1']) / mpl.ratio;\n",
       "    x0 = Math.floor(x0) + 0.5;\n",
       "    y0 = Math.floor(y0) + 0.5;\n",
       "    x1 = Math.floor(x1) + 0.5;\n",
       "    y1 = Math.floor(y1) + 0.5;\n",
       "    var min_x = Math.min(x0, x1);\n",
       "    var min_y = Math.min(y0, y1);\n",
       "    var width = Math.abs(x1 - x0);\n",
       "    var height = Math.abs(y1 - y0);\n",
       "\n",
       "    fig.rubberband_context.clearRect(\n",
       "        0, 0, fig.canvas.width / mpl.ratio, fig.canvas.height / mpl.ratio);\n",
       "\n",
       "    fig.rubberband_context.strokeRect(min_x, min_y, width, height);\n",
       "}\n",
       "\n",
       "mpl.figure.prototype.handle_figure_label = function(fig, msg) {\n",
       "    // Updates the figure title.\n",
       "    fig.header.textContent = msg['label'];\n",
       "}\n",
       "\n",
       "mpl.figure.prototype.handle_cursor = function(fig, msg) {\n",
       "    var cursor = msg['cursor'];\n",
       "    switch(cursor)\n",
       "    {\n",
       "    case 0:\n",
       "        cursor = 'pointer';\n",
       "        break;\n",
       "    case 1:\n",
       "        cursor = 'default';\n",
       "        break;\n",
       "    case 2:\n",
       "        cursor = 'crosshair';\n",
       "        break;\n",
       "    case 3:\n",
       "        cursor = 'move';\n",
       "        break;\n",
       "    }\n",
       "    fig.rubberband_canvas.style.cursor = cursor;\n",
       "}\n",
       "\n",
       "mpl.figure.prototype.handle_message = function(fig, msg) {\n",
       "    fig.message.textContent = msg['message'];\n",
       "}\n",
       "\n",
       "mpl.figure.prototype.handle_draw = function(fig, msg) {\n",
       "    // Request the server to send over a new figure.\n",
       "    fig.send_draw_message();\n",
       "}\n",
       "\n",
       "mpl.figure.prototype.handle_image_mode = function(fig, msg) {\n",
       "    fig.image_mode = msg['mode'];\n",
       "}\n",
       "\n",
       "mpl.figure.prototype.updated_canvas_event = function() {\n",
       "    // Called whenever the canvas gets updated.\n",
       "    this.send_message(\"ack\", {});\n",
       "}\n",
       "\n",
       "// A function to construct a web socket function for onmessage handling.\n",
       "// Called in the figure constructor.\n",
       "mpl.figure.prototype._make_on_message_function = function(fig) {\n",
       "    return function socket_on_message(evt) {\n",
       "        if (evt.data instanceof Blob) {\n",
       "            /* FIXME: We get \"Resource interpreted as Image but\n",
       "             * transferred with MIME type text/plain:\" errors on\n",
       "             * Chrome.  But how to set the MIME type?  It doesn't seem\n",
       "             * to be part of the websocket stream */\n",
       "            evt.data.type = \"image/png\";\n",
       "\n",
       "            /* Free the memory for the previous frames */\n",
       "            if (fig.imageObj.src) {\n",
       "                (window.URL || window.webkitURL).revokeObjectURL(\n",
       "                    fig.imageObj.src);\n",
       "            }\n",
       "\n",
       "            fig.imageObj.src = (window.URL || window.webkitURL).createObjectURL(\n",
       "                evt.data);\n",
       "            fig.updated_canvas_event();\n",
       "            fig.waiting = false;\n",
       "            return;\n",
       "        }\n",
       "        else if (typeof evt.data === 'string' && evt.data.slice(0, 21) == \"data:image/png;base64\") {\n",
       "            fig.imageObj.src = evt.data;\n",
       "            fig.updated_canvas_event();\n",
       "            fig.waiting = false;\n",
       "            return;\n",
       "        }\n",
       "\n",
       "        var msg = JSON.parse(evt.data);\n",
       "        var msg_type = msg['type'];\n",
       "\n",
       "        // Call the  \"handle_{type}\" callback, which takes\n",
       "        // the figure and JSON message as its only arguments.\n",
       "        try {\n",
       "            var callback = fig[\"handle_\" + msg_type];\n",
       "        } catch (e) {\n",
       "            console.log(\"No handler for the '\" + msg_type + \"' message type: \", msg);\n",
       "            return;\n",
       "        }\n",
       "\n",
       "        if (callback) {\n",
       "            try {\n",
       "                // console.log(\"Handling '\" + msg_type + \"' message: \", msg);\n",
       "                callback(fig, msg);\n",
       "            } catch (e) {\n",
       "                console.log(\"Exception inside the 'handler_\" + msg_type + \"' callback:\", e, e.stack, msg);\n",
       "            }\n",
       "        }\n",
       "    };\n",
       "}\n",
       "\n",
       "// from http://stackoverflow.com/questions/1114465/getting-mouse-location-in-canvas\n",
       "mpl.findpos = function(e) {\n",
       "    //this section is from http://www.quirksmode.org/js/events_properties.html\n",
       "    var targ;\n",
       "    if (!e)\n",
       "        e = window.event;\n",
       "    if (e.target)\n",
       "        targ = e.target;\n",
       "    else if (e.srcElement)\n",
       "        targ = e.srcElement;\n",
       "    if (targ.nodeType == 3) // defeat Safari bug\n",
       "        targ = targ.parentNode;\n",
       "\n",
       "    // jQuery normalizes the pageX and pageY\n",
       "    // pageX,Y are the mouse positions relative to the document\n",
       "    // offset() returns the position of the element relative to the document\n",
       "    var x = e.pageX - $(targ).offset().left;\n",
       "    var y = e.pageY - $(targ).offset().top;\n",
       "\n",
       "    return {\"x\": x, \"y\": y};\n",
       "};\n",
       "\n",
       "/*\n",
       " * return a copy of an object with only non-object keys\n",
       " * we need this to avoid circular references\n",
       " * http://stackoverflow.com/a/24161582/3208463\n",
       " */\n",
       "function simpleKeys (original) {\n",
       "  return Object.keys(original).reduce(function (obj, key) {\n",
       "    if (typeof original[key] !== 'object')\n",
       "        obj[key] = original[key]\n",
       "    return obj;\n",
       "  }, {});\n",
       "}\n",
       "\n",
       "mpl.figure.prototype.mouse_event = function(event, name) {\n",
       "    var canvas_pos = mpl.findpos(event)\n",
       "\n",
       "    if (name === 'button_press')\n",
       "    {\n",
       "        this.canvas.focus();\n",
       "        this.canvas_div.focus();\n",
       "    }\n",
       "\n",
       "    var x = canvas_pos.x * mpl.ratio;\n",
       "    var y = canvas_pos.y * mpl.ratio;\n",
       "\n",
       "    this.send_message(name, {x: x, y: y, button: event.button,\n",
       "                             step: event.step,\n",
       "                             guiEvent: simpleKeys(event)});\n",
       "\n",
       "    /* This prevents the web browser from automatically changing to\n",
       "     * the text insertion cursor when the button is pressed.  We want\n",
       "     * to control all of the cursor setting manually through the\n",
       "     * 'cursor' event from matplotlib */\n",
       "    event.preventDefault();\n",
       "    return false;\n",
       "}\n",
       "\n",
       "mpl.figure.prototype._key_event_extra = function(event, name) {\n",
       "    // Handle any extra behaviour associated with a key event\n",
       "}\n",
       "\n",
       "mpl.figure.prototype.key_event = function(event, name) {\n",
       "\n",
       "    // Prevent repeat events\n",
       "    if (name == 'key_press')\n",
       "    {\n",
       "        if (event.which === this._key)\n",
       "            return;\n",
       "        else\n",
       "            this._key = event.which;\n",
       "    }\n",
       "    if (name == 'key_release')\n",
       "        this._key = null;\n",
       "\n",
       "    var value = '';\n",
       "    if (event.ctrlKey && event.which != 17)\n",
       "        value += \"ctrl+\";\n",
       "    if (event.altKey && event.which != 18)\n",
       "        value += \"alt+\";\n",
       "    if (event.shiftKey && event.which != 16)\n",
       "        value += \"shift+\";\n",
       "\n",
       "    value += 'k';\n",
       "    value += event.which.toString();\n",
       "\n",
       "    this._key_event_extra(event, name);\n",
       "\n",
       "    this.send_message(name, {key: value,\n",
       "                             guiEvent: simpleKeys(event)});\n",
       "    return false;\n",
       "}\n",
       "\n",
       "mpl.figure.prototype.toolbar_button_onclick = function(name) {\n",
       "    if (name == 'download') {\n",
       "        this.handle_save(this, null);\n",
       "    } else {\n",
       "        this.send_message(\"toolbar_button\", {name: name});\n",
       "    }\n",
       "};\n",
       "\n",
       "mpl.figure.prototype.toolbar_button_onmouseover = function(tooltip) {\n",
       "    this.message.textContent = tooltip;\n",
       "};\n",
       "mpl.toolbar_items = [[\"Home\", \"Reset original view\", \"fa fa-home icon-home\", \"home\"], [\"Back\", \"Back to previous view\", \"fa fa-arrow-left icon-arrow-left\", \"back\"], [\"Forward\", \"Forward to next view\", \"fa fa-arrow-right icon-arrow-right\", \"forward\"], [\"\", \"\", \"\", \"\"], [\"Pan\", \"Pan axes with left mouse, zoom with right\", \"fa fa-arrows icon-move\", \"pan\"], [\"Zoom\", \"Zoom to rectangle\", \"fa fa-square-o icon-check-empty\", \"zoom\"], [\"\", \"\", \"\", \"\"], [\"Download\", \"Download plot\", \"fa fa-floppy-o icon-save\", \"download\"]];\n",
       "\n",
       "mpl.extensions = [\"eps\", \"jpeg\", \"pdf\", \"png\", \"ps\", \"raw\", \"svg\", \"tif\"];\n",
       "\n",
       "mpl.default_extension = \"png\";var comm_websocket_adapter = function(comm) {\n",
       "    // Create a \"websocket\"-like object which calls the given IPython comm\n",
       "    // object with the appropriate methods. Currently this is a non binary\n",
       "    // socket, so there is still some room for performance tuning.\n",
       "    var ws = {};\n",
       "\n",
       "    ws.close = function() {\n",
       "        comm.close()\n",
       "    };\n",
       "    ws.send = function(m) {\n",
       "        //console.log('sending', m);\n",
       "        comm.send(m);\n",
       "    };\n",
       "    // Register the callback with on_msg.\n",
       "    comm.on_msg(function(msg) {\n",
       "        //console.log('receiving', msg['content']['data'], msg);\n",
       "        // Pass the mpl event to the overridden (by mpl) onmessage function.\n",
       "        ws.onmessage(msg['content']['data'])\n",
       "    });\n",
       "    return ws;\n",
       "}\n",
       "\n",
       "mpl.mpl_figure_comm = function(comm, msg) {\n",
       "    // This is the function which gets called when the mpl process\n",
       "    // starts-up an IPython Comm through the \"matplotlib\" channel.\n",
       "\n",
       "    var id = msg.content.data.id;\n",
       "    // Get hold of the div created by the display call when the Comm\n",
       "    // socket was opened in Python.\n",
       "    var element = $(\"#\" + id);\n",
       "    var ws_proxy = comm_websocket_adapter(comm)\n",
       "\n",
       "    function ondownload(figure, format) {\n",
       "        window.open(figure.imageObj.src);\n",
       "    }\n",
       "\n",
       "    var fig = new mpl.figure(id, ws_proxy,\n",
       "                           ondownload,\n",
       "                           element.get(0));\n",
       "\n",
       "    // Call onopen now - mpl needs it, as it is assuming we've passed it a real\n",
       "    // web socket which is closed, not our websocket->open comm proxy.\n",
       "    ws_proxy.onopen();\n",
       "\n",
       "    fig.parent_element = element.get(0);\n",
       "    fig.cell_info = mpl.find_output_cell(\"<div id='\" + id + \"'></div>\");\n",
       "    if (!fig.cell_info) {\n",
       "        console.error(\"Failed to find cell for figure\", id, fig);\n",
       "        return;\n",
       "    }\n",
       "\n",
       "    var output_index = fig.cell_info[2]\n",
       "    var cell = fig.cell_info[0];\n",
       "\n",
       "};\n",
       "\n",
       "mpl.figure.prototype.handle_close = function(fig, msg) {\n",
       "    var width = fig.canvas.width/mpl.ratio\n",
       "    fig.root.unbind('remove')\n",
       "\n",
       "    // Update the output cell to use the data from the current canvas.\n",
       "    fig.push_to_output();\n",
       "    var dataURL = fig.canvas.toDataURL();\n",
       "    // Re-enable the keyboard manager in IPython - without this line, in FF,\n",
       "    // the notebook keyboard shortcuts fail.\n",
       "    IPython.keyboard_manager.enable()\n",
       "    $(fig.parent_element).html('<img src=\"' + dataURL + '\" width=\"' + width + '\">');\n",
       "    fig.close_ws(fig, msg);\n",
       "}\n",
       "\n",
       "mpl.figure.prototype.close_ws = function(fig, msg){\n",
       "    fig.send_message('closing', msg);\n",
       "    // fig.ws.close()\n",
       "}\n",
       "\n",
       "mpl.figure.prototype.push_to_output = function(remove_interactive) {\n",
       "    // Turn the data on the canvas into data in the output cell.\n",
       "    var width = this.canvas.width/mpl.ratio\n",
       "    var dataURL = this.canvas.toDataURL();\n",
       "    this.cell_info[1]['text/html'] = '<img src=\"' + dataURL + '\" width=\"' + width + '\">';\n",
       "}\n",
       "\n",
       "mpl.figure.prototype.updated_canvas_event = function() {\n",
       "    // Tell IPython that the notebook contents must change.\n",
       "    IPython.notebook.set_dirty(true);\n",
       "    this.send_message(\"ack\", {});\n",
       "    var fig = this;\n",
       "    // Wait a second, then push the new image to the DOM so\n",
       "    // that it is saved nicely (might be nice to debounce this).\n",
       "    setTimeout(function () { fig.push_to_output() }, 1000);\n",
       "}\n",
       "\n",
       "mpl.figure.prototype._init_toolbar = function() {\n",
       "    var fig = this;\n",
       "\n",
       "    var nav_element = $('<div/>');\n",
       "    nav_element.attr('style', 'width: 100%');\n",
       "    this.root.append(nav_element);\n",
       "\n",
       "    // Define a callback function for later on.\n",
       "    function toolbar_event(event) {\n",
       "        return fig.toolbar_button_onclick(event['data']);\n",
       "    }\n",
       "    function toolbar_mouse_event(event) {\n",
       "        return fig.toolbar_button_onmouseover(event['data']);\n",
       "    }\n",
       "\n",
       "    for(var toolbar_ind in mpl.toolbar_items){\n",
       "        var name = mpl.toolbar_items[toolbar_ind][0];\n",
       "        var tooltip = mpl.toolbar_items[toolbar_ind][1];\n",
       "        var image = mpl.toolbar_items[toolbar_ind][2];\n",
       "        var method_name = mpl.toolbar_items[toolbar_ind][3];\n",
       "\n",
       "        if (!name) { continue; };\n",
       "\n",
       "        var button = $('<button class=\"btn btn-default\" href=\"#\" title=\"' + name + '\"><i class=\"fa ' + image + ' fa-lg\"></i></button>');\n",
       "        button.click(method_name, toolbar_event);\n",
       "        button.mouseover(tooltip, toolbar_mouse_event);\n",
       "        nav_element.append(button);\n",
       "    }\n",
       "\n",
       "    // Add the status bar.\n",
       "    var status_bar = $('<span class=\"mpl-message\" style=\"text-align:right; float: right;\"/>');\n",
       "    nav_element.append(status_bar);\n",
       "    this.message = status_bar[0];\n",
       "\n",
       "    // Add the close button to the window.\n",
       "    var buttongrp = $('<div class=\"btn-group inline pull-right\"></div>');\n",
       "    var button = $('<button class=\"btn btn-mini btn-primary\" href=\"#\" title=\"Stop Interaction\"><i class=\"fa fa-power-off icon-remove icon-large\"></i></button>');\n",
       "    button.click(function (evt) { fig.handle_close(fig, {}); } );\n",
       "    button.mouseover('Stop Interaction', toolbar_mouse_event);\n",
       "    buttongrp.append(button);\n",
       "    var titlebar = this.root.find($('.ui-dialog-titlebar'));\n",
       "    titlebar.prepend(buttongrp);\n",
       "}\n",
       "\n",
       "mpl.figure.prototype._root_extra_style = function(el){\n",
       "    var fig = this\n",
       "    el.on(\"remove\", function(){\n",
       "\tfig.close_ws(fig, {});\n",
       "    });\n",
       "}\n",
       "\n",
       "mpl.figure.prototype._canvas_extra_style = function(el){\n",
       "    // this is important to make the div 'focusable\n",
       "    el.attr('tabindex', 0)\n",
       "    // reach out to IPython and tell the keyboard manager to turn it's self\n",
       "    // off when our div gets focus\n",
       "\n",
       "    // location in version 3\n",
       "    if (IPython.notebook.keyboard_manager) {\n",
       "        IPython.notebook.keyboard_manager.register_events(el);\n",
       "    }\n",
       "    else {\n",
       "        // location in version 2\n",
       "        IPython.keyboard_manager.register_events(el);\n",
       "    }\n",
       "\n",
       "}\n",
       "\n",
       "mpl.figure.prototype._key_event_extra = function(event, name) {\n",
       "    var manager = IPython.notebook.keyboard_manager;\n",
       "    if (!manager)\n",
       "        manager = IPython.keyboard_manager;\n",
       "\n",
       "    // Check for shift+enter\n",
       "    if (event.shiftKey && event.which == 13) {\n",
       "        this.canvas_div.blur();\n",
       "        // select the cell after this one\n",
       "        var index = IPython.notebook.find_cell_index(this.cell_info[0]);\n",
       "        IPython.notebook.select(index + 1);\n",
       "    }\n",
       "}\n",
       "\n",
       "mpl.figure.prototype.handle_save = function(fig, msg) {\n",
       "    fig.ondownload(fig, null);\n",
       "}\n",
       "\n",
       "\n",
       "mpl.find_output_cell = function(html_output) {\n",
       "    // Return the cell and output element which can be found *uniquely* in the notebook.\n",
       "    // Note - this is a bit hacky, but it is done because the \"notebook_saving.Notebook\"\n",
       "    // IPython event is triggered only after the cells have been serialised, which for\n",
       "    // our purposes (turning an active figure into a static one), is too late.\n",
       "    var cells = IPython.notebook.get_cells();\n",
       "    var ncells = cells.length;\n",
       "    for (var i=0; i<ncells; i++) {\n",
       "        var cell = cells[i];\n",
       "        if (cell.cell_type === 'code'){\n",
       "            for (var j=0; j<cell.output_area.outputs.length; j++) {\n",
       "                var data = cell.output_area.outputs[j];\n",
       "                if (data.data) {\n",
       "                    // IPython >= 3 moved mimebundle to data attribute of output\n",
       "                    data = data.data;\n",
       "                }\n",
       "                if (data['text/html'] == html_output) {\n",
       "                    return [cell, data, j];\n",
       "                }\n",
       "            }\n",
       "        }\n",
       "    }\n",
       "}\n",
       "\n",
       "// Register the function which deals with the matplotlib target/channel.\n",
       "// The kernel may be null if the page has been refreshed.\n",
       "if (IPython.notebook.kernel != null) {\n",
       "    IPython.notebook.kernel.comm_manager.register_target('matplotlib', mpl.mpl_figure_comm);\n",
       "}\n"
      ],
      "text/plain": [
       "<IPython.core.display.Javascript object>"
      ]
     },
     "metadata": {},
     "output_type": "display_data"
    },
    {
     "data": {
      "text/html": [
       "<img src=\"data:image/png;base64,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\" width=\"900\">"
      ],
      "text/plain": [
       "<IPython.core.display.HTML object>"
      ]
     },
     "metadata": {},
     "output_type": "display_data"
    },
    {
     "name": "stdout",
     "output_type": "stream",
     "text": [
      "tensor([64.5761])\n",
      "tensor([64.6013])\n",
      "tensor([59.6455])\n",
      "tensor([63.3442])\n",
      "tensor([59.4769])\n",
      "tensor([64.2730])\n",
      "tensor([64.6239])\n",
      "tensor([64.5789])\n",
      "tensor([64.1457])\n"
     ]
    }
   ],
   "source": [
    "lrn.show_results(max_n=9,ds_idx=0,shuffle=True)"
   ]
  },
  {
   "cell_type": "code",
   "execution_count": null,
   "metadata": {},
   "outputs": [],
   "source": [
    "x,y =dls.train.one_batch()"
   ]
  },
  {
   "cell_type": "code",
   "execution_count": null,
   "metadata": {},
   "outputs": [
    {
     "data": {
      "text/plain": [
       "(torch.Size([128, 1000, 4]), torch.Size([128, 1000, 4]))"
      ]
     },
     "execution_count": null,
     "metadata": {},
     "output_type": "execute_result"
    }
   ],
   "source": [
    "pred = lrn.model(x)\n",
    "pred.shape,y.shape"
   ]
  },
  {
   "cell_type": "code",
   "execution_count": null,
   "metadata": {},
   "outputs": [
    {
     "data": {
      "text/plain": [
       "tensor([ 0.0482, -0.0499, -0.0016, -0.0077,  0.0302, -0.0069], device='cuda:0')"
      ]
     },
     "execution_count": null,
     "metadata": {},
     "output_type": "execute_result"
    }
   ],
   "source": [
    "x.mean(dim=[0,1])"
   ]
  },
  {
   "cell_type": "code",
   "execution_count": null,
   "metadata": {},
   "outputs": [
    {
     "data": {
      "text/plain": [
       "tensor(1.6481, device='cuda:0', grad_fn=<MeanBackward0>)"
      ]
     },
     "execution_count": null,
     "metadata": {},
     "output_type": "execute_result"
    }
   ],
   "source": [
    "ms_inclination(pred,y)"
   ]
  },
  {
   "cell_type": "code",
   "execution_count": null,
   "metadata": {},
   "outputs": [
    {
     "name": "stdout",
     "output_type": "stream",
     "text": [
      "Converted 00_core.ipynb.\n",
      "Converted 01_model.ipynb.\n",
      "Converted 02_learner.ipynb.\n",
      "Converted 10_performance_test.ipynb.\n",
      "Converted 11_ProDiag.ipynb.\n",
      "Converted 11_TensorQuaternions.ipynb.\n",
      "Converted 93_mdt_benchmark.ipynb.\n",
      "Converted 96_EEG.ipynb.\n",
      "Converted 97_Battery.ipynb.\n",
      "Converted index.ipynb.\n"
     ]
    }
   ],
   "source": [
    "#hide\n",
    "from nbdev.export import *\n",
    "notebook2script()"
   ]
  },
  {
   "cell_type": "code",
   "execution_count": null,
   "metadata": {},
   "outputs": [],
   "source": []
  }
 ],
 "metadata": {
  "kernelspec": {
   "display_name": "Python 3",
   "language": "python",
   "name": "python3"
  }
 },
 "nbformat": 4,
 "nbformat_minor": 2
}
