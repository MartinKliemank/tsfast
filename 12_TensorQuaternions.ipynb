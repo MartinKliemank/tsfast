{
 "cells": [
  {
   "cell_type": "code",
   "execution_count": null,
   "metadata": {},
   "outputs": [],
   "source": [
    "# default_exp quaternions\n",
    "# default_cls_lvl 3"
   ]
  },
  {
   "cell_type": "code",
   "execution_count": null,
   "metadata": {},
   "outputs": [],
   "source": [
    "#hide\n",
    "%load_ext line_profiler\n",
    "%matplotlib notebook"
   ]
  },
  {
   "cell_type": "markdown",
   "metadata": {},
   "source": [
    "# Tensor Quaternion Module\n",
    "> Pytorch Models for Sequential Data"
   ]
  },
  {
   "cell_type": "code",
   "execution_count": null,
   "metadata": {},
   "outputs": [],
   "source": [
    "#export\n",
    "from seqdata.core import *\n",
    "from seqdata.model import *\n",
    "from seqdata.learner import *\n",
    "from fastai2.basics import *\n",
    "from fastai2.callback.progress import *\n",
    "from fastai2.callback.schedule import *"
   ]
  },
  {
   "cell_type": "markdown",
   "metadata": {},
   "source": [
    "## Quaternion Type"
   ]
  },
  {
   "cell_type": "code",
   "execution_count": null,
   "metadata": {},
   "outputs": [],
   "source": [
    "#export\n",
    "class TensorQuaternionInclination(TensorSequences): pass\n",
    "class TensorQuaternionAngle(TensorSequences): pass"
   ]
  },
  {
   "cell_type": "code",
   "execution_count": null,
   "metadata": {},
   "outputs": [],
   "source": [
    "f_paths = '/mnt/data/Systemidentification/Orientation_Estimation/'\n",
    "hdf_files = get_hdf_files(f_paths,recurse=False)\n",
    "tfm_src = CreateDict([DfHDFCreateWindows(win_sz=1000,stp_sz=100,clm='acc_x')])\n",
    "u = ['acc_x','acc_y','acc_z','gyr_x','gyr_y','gyr_z']\n",
    "# u = ['acc_x','acc_y','acc_z','gyr_x','gyr_y','gyr_z','mag_x','mag_y','mag_z']\n",
    "y =['opt_a','opt_b','opt_c','opt_d']\n",
    "dls = DataBlock(blocks=(SequenceBlock.from_hdf(u,TensorSequencesInput),\n",
    "                        SequenceBlock.from_hdf(y,TensorQuaternionInclination)),\n",
    "                get_items=tfm_src,\n",
    "                splitter=ApplyToDict(FuncSplitter(lambda o: 'experiment2' in str(o)))\n",
    "               ).dataloaders(hdf_files,shufflish=True,bs=128)"
   ]
  },
  {
   "cell_type": "markdown",
   "metadata": {},
   "source": [
    "## Basic Operations"
   ]
  },
  {
   "cell_type": "code",
   "execution_count": null,
   "metadata": {},
   "outputs": [
    {
     "data": {
      "text/plain": [
       "torch.Size([2, 4])"
      ]
     },
     "execution_count": null,
     "metadata": {},
     "output_type": "execute_result"
    }
   ],
   "source": [
    "tq1 = tensor([\n",
    "    [1,0,0,0],\n",
    "    [0.5,0.5,0.5,0.5],\n",
    "    ])\n",
    "tq2 = tensor([\n",
    "    [0.5,0.5,0.5,0.5],\n",
    "    [0.5,0.5,0.5,0.5],\n",
    "    ])\n",
    "tq1.shape"
   ]
  },
  {
   "cell_type": "code",
   "execution_count": null,
   "metadata": {},
   "outputs": [],
   "source": [
    "#export\n",
    "_pi = torch.Tensor([3.14159265358979323846])\n",
    "def rad2deg(t):\n",
    "    return 180. * t / _pi.to(t.device).type(t.dtype)"
   ]
  },
  {
   "cell_type": "code",
   "execution_count": null,
   "metadata": {},
   "outputs": [],
   "source": [
    "test_eq(float(rad2deg(_pi)),180)"
   ]
  },
  {
   "cell_type": "code",
   "execution_count": null,
   "metadata": {},
   "outputs": [],
   "source": [
    "#export\n",
    "@torch.jit.script\n",
    "def multiplyQuat(q1, q2):\n",
    "    \"\"\"quat1*quat2\"\"\"\n",
    "    o1 = q1[..., 0] * q2[..., 0] - q1[..., 1] * q2[..., 1] - q1[..., 2] * q2[..., 2] - q1[..., 3] * q2[..., 3]\n",
    "    o2 = q1[..., 0] * q2[..., 1] + q1[..., 1] * q2[..., 0] + q1[..., 2] * q2[..., 3] - q1[..., 3] * q2[..., 2]\n",
    "    o3 = q1[..., 0] * q2[..., 2] - q1[..., 1] * q2[..., 3] + q1[..., 2] * q2[..., 0] + q1[..., 3] * q2[..., 1]\n",
    "    o4 = q1[..., 0] * q2[..., 3] + q1[..., 1] * q2[..., 2] - q1[..., 2] * q2[..., 1] + q1[..., 3] * q2[..., 0]\n",
    "    return torch.stack([o1,o2,o3,o4],dim=-1)"
   ]
  },
  {
   "cell_type": "code",
   "execution_count": null,
   "metadata": {},
   "outputs": [],
   "source": [
    "q = tq1.repeat(1000,1)"
   ]
  },
  {
   "cell_type": "code",
   "execution_count": null,
   "metadata": {},
   "outputs": [
    {
     "name": "stdout",
     "output_type": "stream",
     "text": [
      "143 µs ± 171 ns per loop (mean ± std. dev. of 7 runs, 10000 loops each)\n"
     ]
    }
   ],
   "source": [
    "%%timeit\n",
    "torch.cumprod(q,dim=-1)"
   ]
  },
  {
   "cell_type": "code",
   "execution_count": null,
   "metadata": {},
   "outputs": [
    {
     "name": "stdout",
     "output_type": "stream",
     "text": [
      "8.29 ms ± 21.2 µs per loop (mean ± std. dev. of 7 runs, 100 loops each)\n"
     ]
    }
   ],
   "source": [
    "%%timeit\n",
    "[q*q for _ in range(1000)]"
   ]
  },
  {
   "cell_type": "code",
   "execution_count": null,
   "metadata": {},
   "outputs": [],
   "source": [
    "test_eq(multiplyQuat(tq1,tq2),tensor([[ 0.5000,  0.5000,  0.5000,  0.5000],\n",
    "                                    [-0.5000,  0.5000,  0.5000,  0.5000]]))"
   ]
  },
  {
   "cell_type": "code",
   "execution_count": null,
   "metadata": {},
   "outputs": [],
   "source": [
    "#export\n",
    "def norm_quaternion(q):\n",
    "    return q / q.norm( p=2,dim=-1)[...,None]"
   ]
  },
  {
   "cell_type": "code",
   "execution_count": null,
   "metadata": {},
   "outputs": [],
   "source": [
    "test_eq(norm_quaternion(tq1*5),tq1)\n",
    "test_eq(norm_quaternion(tq1/_pi),tq1)\n",
    "test_eq(norm_quaternion(tq1[None,...]),tq1[None,...])"
   ]
  },
  {
   "cell_type": "code",
   "execution_count": null,
   "metadata": {},
   "outputs": [],
   "source": [
    "#export\n",
    "_conjugate_quaternion = tensor([1,-1,-1,-1])\n",
    "\n",
    "def conjQuat(q):\n",
    "    return q*_conjugate_quaternion.to(q.device).type(q.dtype)"
   ]
  },
  {
   "cell_type": "code",
   "execution_count": null,
   "metadata": {},
   "outputs": [],
   "source": [
    "test_eq(conjQuat(tq1),tensor([[ 1.0000, -0.0000, -0.0000, -0.0000],\n",
    "                             [ 0.5000, -0.5000, -0.5000, -0.5000]]))"
   ]
  },
  {
   "cell_type": "code",
   "execution_count": null,
   "metadata": {},
   "outputs": [],
   "source": [
    "#export\n",
    "def diffQuat(q1,q2,norm=True):\n",
    "    if norm:\n",
    "        nq1 = norm_quaternion(q1)\n",
    "        nq2 = norm_quaternion(q2)\n",
    "    else:\n",
    "        nq1 = q1\n",
    "        nq2 = q2\n",
    "    return multiplyQuat(nq1, conjQuat(nq2))"
   ]
  },
  {
   "cell_type": "code",
   "execution_count": null,
   "metadata": {},
   "outputs": [],
   "source": [
    "test_eq(diffQuat(tq1,tq2),diffQuat(tq1,tq2*5))\n",
    "test_ne(diffQuat(tq1,tq2),diffQuat(tq1,tq2*5,norm=False))\n",
    "test_ne(diffQuat(tq1,tq2),diffQuat(tq1[None,...],tq2[None,...]))"
   ]
  },
  {
   "cell_type": "code",
   "execution_count": null,
   "metadata": {},
   "outputs": [],
   "source": [
    "#export\n",
    "def safe_acos(t):\n",
    "    '''numericaly stable variant of arcuscosine'''\n",
    "    eps = 4e-8 #minimum value for acos(1) != 0\n",
    "    return t.clamp(-1.0 + eps, 1.0 - eps).acos()"
   ]
  },
  {
   "cell_type": "code",
   "execution_count": null,
   "metadata": {},
   "outputs": [],
   "source": [
    "test_ne(safe_acos(tensor(1.))*1e6,0)\n",
    "test_eq(safe_acos(tensor(-0.)),_pi/2)"
   ]
  },
  {
   "cell_type": "code",
   "execution_count": null,
   "metadata": {},
   "outputs": [],
   "source": [
    "#export\n",
    "def inclinationAngle(q1,q2):\n",
    "    \n",
    "    q = diffQuat(q1,q2)\n",
    "    return 2*safe_acos((q[..., 3]**2 + q[..., 0]**2).sqrt())\n",
    "\n",
    "def relativeAngle(q1,q2):\n",
    "    q = diffQuat(q1,q2)\n",
    "    return 2*safe_acos((q[..., 0]).abs())"
   ]
  },
  {
   "cell_type": "code",
   "execution_count": null,
   "metadata": {},
   "outputs": [
    {
     "name": "stdout",
     "output_type": "stream",
     "text": [
      "inclination: tensor([9.0000e+01, 3.9565e-02])\n",
      "relative: tensor([1.2000e+02, 3.9565e-02])\n"
     ]
    }
   ],
   "source": [
    "print('inclination:', rad2deg(inclinationAngle(tq1,tq2)))\n",
    "print('relative:', rad2deg(relativeAngle(tq1,tq2)))"
   ]
  },
  {
   "cell_type": "code",
   "execution_count": null,
   "metadata": {},
   "outputs": [],
   "source": [
    "#export\n",
    "def rollAngle(q1,q2):\n",
    "    q = diffQuat(q1,q2)\n",
    "    w,x,y,z= q[...,0],q[...,1],q[...,2],q[...,3]\n",
    "    t0 = +2.0 * (w * x + y * z)\n",
    "    t1 = +1.0 - 2.0 * (x * x + y * y)\n",
    "    return torch.atan2(t0, t1)\n",
    "\n",
    "def pitchAngle(q1,q2):\n",
    "    q = diffQuat(q1,q2)\n",
    "    w,x,y,z= q[...,0],q[...,1],q[...,2],q[...,3]\n",
    "    t2 = +2.0 * (w * y - z * x)\n",
    "    t2 = t2.clamp(-1.0, 1.0 )\n",
    "    return torch.asin(t2)"
   ]
  },
  {
   "cell_type": "code",
   "execution_count": null,
   "metadata": {},
   "outputs": [
    {
     "name": "stdout",
     "output_type": "stream",
     "text": [
      "roll: tensor([0., 0.])\n",
      "pitch: tensor([-90.,   0.])\n"
     ]
    }
   ],
   "source": [
    "print('roll:', rad2deg(rollAngle(tq1,tq2)))\n",
    "print('pitch:', rad2deg(pitchAngle(tq1,tq2)))"
   ]
  },
  {
   "cell_type": "code",
   "execution_count": null,
   "metadata": {},
   "outputs": [],
   "source": [
    "#export\n",
    "_unit_quaternion = tensor([1.,0,0,0])\n",
    "def inclinationAngleAbs(q):\n",
    "    q = diffQuat(q,_unit_quaternion[None,:])\n",
    "    return 2*((q[..., 3]**2 + q[..., 0]**2).sqrt()).acos()"
   ]
  },
  {
   "cell_type": "code",
   "execution_count": null,
   "metadata": {},
   "outputs": [
    {
     "data": {
      "text/plain": [
       "tensor([ 0., 90.])"
      ]
     },
     "execution_count": null,
     "metadata": {},
     "output_type": "execute_result"
    }
   ],
   "source": [
    "rad2deg(inclinationAngleAbs(tq1))"
   ]
  },
  {
   "cell_type": "code",
   "execution_count": null,
   "metadata": {},
   "outputs": [],
   "source": [
    "#export\n",
    "def rand_quat():\n",
    "    q = torch.rand((4))*2-1\n",
    "    q /= q.norm()\n",
    "    return q"
   ]
  },
  {
   "cell_type": "code",
   "execution_count": null,
   "metadata": {},
   "outputs": [],
   "source": [
    "#export\n",
    "def rot_vec(v,q):\n",
    "    v = F.pad(v, (1,0), \"constant\", 0)\n",
    "    return multiplyQuat(conjQuat(q),multiplyQuat(v,q))[...,1:]\n",
    "#     return multiplyQuat(q,multiplyQuat(v,conjQuat(q)))[...,1:]"
   ]
  },
  {
   "cell_type": "code",
   "execution_count": null,
   "metadata": {},
   "outputs": [],
   "source": [
    "g = tensor([[9.81,0,0]]*5)"
   ]
  },
  {
   "cell_type": "code",
   "execution_count": null,
   "metadata": {},
   "outputs": [
    {
     "data": {
      "text/plain": [
       "tensor([[-2.8532,  0.4130,  9.3768],\n",
       "        [-2.8532,  0.4130,  9.3768],\n",
       "        [-2.8532,  0.4130,  9.3768],\n",
       "        [-2.8532,  0.4130,  9.3768],\n",
       "        [-2.8532,  0.4130,  9.3768]])"
      ]
     },
     "execution_count": null,
     "metadata": {},
     "output_type": "execute_result"
    }
   ],
   "source": [
    "r_quat = rand_quat()\n",
    "rot_vec(g,r_quat)"
   ]
  },
  {
   "cell_type": "markdown",
   "metadata": {},
   "source": [
    "## Loss Functions"
   ]
  },
  {
   "cell_type": "code",
   "execution_count": null,
   "metadata": {},
   "outputs": [],
   "source": [
    "#export\n",
    "def inclination_loss(q1,q2):\n",
    "    q = diffQuat(q1,q2)\n",
    "    q_abs = (q[..., 3]**2 + q[..., 0]**2).sqrt()-1\n",
    "    return (q_abs**2).mean().sqrt()"
   ]
  },
  {
   "cell_type": "code",
   "execution_count": null,
   "metadata": {},
   "outputs": [
    {
     "data": {
      "text/plain": [
       "tensor(0.2071)"
      ]
     },
     "execution_count": null,
     "metadata": {},
     "output_type": "execute_result"
    }
   ],
   "source": [
    "inclination_loss(tq1,tq2)"
   ]
  },
  {
   "cell_type": "code",
   "execution_count": null,
   "metadata": {},
   "outputs": [],
   "source": [
    "#export\n",
    "def inclination_loss_abs(q1,q2):\n",
    "    q = diffQuat(q1,q2)\n",
    "    q_abs = (q[..., 3]**2 + q[..., 0]**2).sqrt()-1\n",
    "    return q_abs.abs().mean()"
   ]
  },
  {
   "cell_type": "code",
   "execution_count": null,
   "metadata": {},
   "outputs": [
    {
     "data": {
      "text/plain": [
       "tensor(0.1464)"
      ]
     },
     "execution_count": null,
     "metadata": {},
     "output_type": "execute_result"
    }
   ],
   "source": [
    "inclination_loss_abs(tq1,tq2)"
   ]
  },
  {
   "cell_type": "code",
   "execution_count": null,
   "metadata": {},
   "outputs": [],
   "source": [
    "#export\n",
    "def inclination_loss_squared(q1,q2):\n",
    "    q = diffQuat(q1,q2)\n",
    "    q_abs = (q[..., 3]**2 + q[..., 0]**2).sqrt()-1\n",
    "    return (q_abs**2).mean()"
   ]
  },
  {
   "cell_type": "code",
   "execution_count": null,
   "metadata": {},
   "outputs": [
    {
     "data": {
      "text/plain": [
       "tensor(0.0429)"
      ]
     },
     "execution_count": null,
     "metadata": {},
     "output_type": "execute_result"
    }
   ],
   "source": [
    "# %%timeit\n",
    "inclination_loss_squared(tq1,tq2)"
   ]
  },
  {
   "cell_type": "code",
   "execution_count": null,
   "metadata": {},
   "outputs": [],
   "source": [
    "#export\n",
    "def inclination_loss_smooth(q1,q2):\n",
    "    q = diffQuat(q1,q2)\n",
    "    q_abs = (q[..., 3]**2 + q[..., 0]**2).sqrt()-1\n",
    "    return F.smooth_l1_loss(q_abs,torch.zeros_like(q_abs))"
   ]
  },
  {
   "cell_type": "code",
   "execution_count": null,
   "metadata": {},
   "outputs": [
    {
     "data": {
      "text/plain": [
       "tensor(0.0214)"
      ]
     },
     "execution_count": null,
     "metadata": {},
     "output_type": "execute_result"
    }
   ],
   "source": [
    "# %%timeit\n",
    "inclination_loss_smooth(tq1,tq2)"
   ]
  },
  {
   "cell_type": "code",
   "execution_count": null,
   "metadata": {},
   "outputs": [],
   "source": [
    "#export\n",
    "def abs_inclination(q1,q2):\n",
    "    inclination = inclinationAngle(q1,q2)\n",
    "    return  inclination.abs().mean()"
   ]
  },
  {
   "cell_type": "code",
   "execution_count": null,
   "metadata": {},
   "outputs": [
    {
     "data": {
      "text/plain": [
       "tensor(0.7857)"
      ]
     },
     "execution_count": null,
     "metadata": {},
     "output_type": "execute_result"
    }
   ],
   "source": [
    "abs_inclination(tq1,tq2)"
   ]
  },
  {
   "cell_type": "code",
   "execution_count": null,
   "metadata": {},
   "outputs": [],
   "source": [
    "#export\n",
    "def ms_inclination(q1,q2):\n",
    "    inclination = inclinationAngle(q1,q2)\n",
    "    return  (inclination**2).mean()"
   ]
  },
  {
   "cell_type": "code",
   "execution_count": null,
   "metadata": {},
   "outputs": [
    {
     "data": {
      "text/plain": [
       "tensor(1.2337)"
      ]
     },
     "execution_count": null,
     "metadata": {},
     "output_type": "execute_result"
    }
   ],
   "source": [
    "ms_inclination(tq1,tq2)"
   ]
  },
  {
   "cell_type": "code",
   "execution_count": null,
   "metadata": {},
   "outputs": [],
   "source": [
    "#export\n",
    "def rms_inclination(q1,q2):\n",
    "    inclination = inclinationAngle(q1,q2)\n",
    "    return (inclination**2).mean().sqrt()"
   ]
  },
  {
   "cell_type": "code",
   "execution_count": null,
   "metadata": {},
   "outputs": [
    {
     "data": {
      "text/plain": [
       "tensor(1.1107)"
      ]
     },
     "execution_count": null,
     "metadata": {},
     "output_type": "execute_result"
    }
   ],
   "source": [
    "rms_inclination(tq1,tq2)"
   ]
  },
  {
   "cell_type": "code",
   "execution_count": null,
   "metadata": {},
   "outputs": [],
   "source": [
    "#export\n",
    "def smooth_inclination(q1,q2):\n",
    "    inclination = inclinationAngle(q1,q2)\n",
    "    return F.smooth_l1_loss(inclination,torch.zeros_like(inclination))"
   ]
  },
  {
   "cell_type": "code",
   "execution_count": null,
   "metadata": {},
   "outputs": [
    {
     "data": {
      "text/plain": [
       "tensor(0.5354)"
      ]
     },
     "execution_count": null,
     "metadata": {},
     "output_type": "execute_result"
    }
   ],
   "source": [
    "smooth_inclination(tq1,tq2)"
   ]
  },
  {
   "cell_type": "code",
   "execution_count": null,
   "metadata": {},
   "outputs": [],
   "source": [
    "#export\n",
    "def rms_inclination_deg(q1,q2):\n",
    "    inclination = inclinationAngle(q1,q2)\n",
    "    return  rad2deg((inclination**2).mean().sqrt())"
   ]
  },
  {
   "cell_type": "code",
   "execution_count": null,
   "metadata": {},
   "outputs": [
    {
     "data": {
      "text/plain": [
       "tensor([63.6396])"
      ]
     },
     "execution_count": null,
     "metadata": {},
     "output_type": "execute_result"
    }
   ],
   "source": [
    "rms_inclination_deg(tq1,tq2)"
   ]
  },
  {
   "cell_type": "code",
   "execution_count": null,
   "metadata": {},
   "outputs": [],
   "source": [
    "#export\n",
    "def rms_pitch_deg(q1,q2):\n",
    "    inclination = pitchAngle(q1,q2)\n",
    "    return  rad2deg((inclination**2).mean().sqrt())"
   ]
  },
  {
   "cell_type": "code",
   "execution_count": null,
   "metadata": {},
   "outputs": [
    {
     "data": {
      "text/plain": [
       "tensor([63.6396])"
      ]
     },
     "execution_count": null,
     "metadata": {},
     "output_type": "execute_result"
    }
   ],
   "source": [
    "rms_pitch_deg(tq1,tq2)"
   ]
  },
  {
   "cell_type": "code",
   "execution_count": null,
   "metadata": {},
   "outputs": [],
   "source": [
    "#export\n",
    "def rms_roll_deg(q1,q2):\n",
    "    inclination = rollAngle(q1,q2)\n",
    "    return  rad2deg((inclination**2).mean().sqrt())"
   ]
  },
  {
   "cell_type": "code",
   "execution_count": null,
   "metadata": {},
   "outputs": [
    {
     "data": {
      "text/plain": [
       "tensor([0.])"
      ]
     },
     "execution_count": null,
     "metadata": {},
     "output_type": "execute_result"
    }
   ],
   "source": [
    "rms_roll_deg(tq1,tq2)"
   ]
  },
  {
   "cell_type": "code",
   "execution_count": null,
   "metadata": {},
   "outputs": [],
   "source": [
    "#export\n",
    "def mean_inclination_deg(q1,q2):\n",
    "    inclination = inclinationAngle(q1,q2)\n",
    "    return  rad2deg(inclination.mean())"
   ]
  },
  {
   "cell_type": "code",
   "execution_count": null,
   "metadata": {},
   "outputs": [
    {
     "data": {
      "text/plain": [
       "tensor([45.0198])"
      ]
     },
     "execution_count": null,
     "metadata": {},
     "output_type": "execute_result"
    }
   ],
   "source": [
    "mean_inclination_deg(tq1,tq2)"
   ]
  },
  {
   "cell_type": "code",
   "execution_count": null,
   "metadata": {},
   "outputs": [],
   "source": [
    "#export\n",
    "def angle_loss(q1,q2):\n",
    "    q = diffQuat(q1,q2)\n",
    "    return (q[..., 0]-1).abs().mean()"
   ]
  },
  {
   "cell_type": "code",
   "execution_count": null,
   "metadata": {},
   "outputs": [],
   "source": [
    "#export\n",
    "def angle_loss_opt(q1,q2):\n",
    "    q1 = norm_quaternion(q1)\n",
    "    q2 = norm_quaternion(q2)\n",
    "    \n",
    "    q2 = conjQuat(q2)\n",
    "    q = q1[..., 0] * q2[..., 0] - q1[..., 1] * q2[..., 1] - q1[..., 2] * q2[..., 2] - q1[..., 3] * q2[..., 3]\n",
    "    return (q-1).abs().mean()"
   ]
  },
  {
   "cell_type": "code",
   "execution_count": null,
   "metadata": {},
   "outputs": [],
   "source": [
    "#export\n",
    "def ms_rel_angle(q1,q2):\n",
    "    rel_angle = relativeAngle(q1,q2)\n",
    "    return  (rel_angle**2).mean()"
   ]
  },
  {
   "cell_type": "code",
   "execution_count": null,
   "metadata": {},
   "outputs": [
    {
     "data": {
      "text/plain": [
       "tensor(2.1932)"
      ]
     },
     "execution_count": null,
     "metadata": {},
     "output_type": "execute_result"
    }
   ],
   "source": [
    "ms_rel_angle(tq1,tq2)"
   ]
  },
  {
   "cell_type": "code",
   "execution_count": null,
   "metadata": {},
   "outputs": [],
   "source": [
    "#export\n",
    "def rms_rel_angle_deg(q1,q2):\n",
    "    rel_angle = relativeAngle(q1,q2)\n",
    "    return  rad2deg((rel_angle**2).mean().sqrt())"
   ]
  },
  {
   "cell_type": "code",
   "execution_count": null,
   "metadata": {},
   "outputs": [
    {
     "data": {
      "text/plain": [
       "tensor([84.8528])"
      ]
     },
     "execution_count": null,
     "metadata": {},
     "output_type": "execute_result"
    }
   ],
   "source": [
    "rms_rel_angle_deg(tq1,tq2)"
   ]
  },
  {
   "cell_type": "code",
   "execution_count": null,
   "metadata": {},
   "outputs": [],
   "source": [
    "#export\n",
    "def mean_rel_angle_deg(q1,q2):\n",
    "    rel_angle = relativeAngle(q1,q2)\n",
    "    return  rad2deg(rel_angle.mean())"
   ]
  },
  {
   "cell_type": "code",
   "execution_count": null,
   "metadata": {},
   "outputs": [
    {
     "data": {
      "text/plain": [
       "tensor([60.0198])"
      ]
     },
     "execution_count": null,
     "metadata": {},
     "output_type": "execute_result"
    }
   ],
   "source": [
    "mean_rel_angle_deg(tq1,tq2)"
   ]
  },
  {
   "cell_type": "code",
   "execution_count": null,
   "metadata": {},
   "outputs": [],
   "source": [
    "#export\n",
    "def deg_rmse(inp, targ):\n",
    "    return rad2deg(fun_rmse(inp, targ))"
   ]
  },
  {
   "cell_type": "markdown",
   "metadata": {},
   "source": [
    "## Callbacks"
   ]
  },
  {
   "cell_type": "markdown",
   "metadata": {},
   "source": [
    "In order to assure that the output of the model are close to unit quaternions the distance will be added to the loss"
   ]
  },
  {
   "cell_type": "code",
   "execution_count": null,
   "metadata": {},
   "outputs": [],
   "source": [
    "#export\n",
    "from fastai2.callback.hook import *\n",
    "@delegates()\n",
    "class QuaternionRegularizer(HookCallback):\n",
    "    \"Callback that adds AR and TAR to the loss, calculated by output of provided layer\"\n",
    "    run_before=TrainEvalCallback\n",
    "    def __init__(self,reg_unit=0.0,detach=False, **kwargs):\n",
    "        super().__init__(detach=detach,**kwargs)\n",
    "        store_attr(self,'reg_unit')\n",
    "        \n",
    "    def hook(self, m, i, o): \n",
    "        if type(o) is torch.Tensor:\n",
    "            self.out = o\n",
    "        else:\n",
    "            self.out = o[0]\n",
    "    \n",
    "    def after_loss(self):\n",
    "        if not self.training: return\n",
    "        h = self.out.float()\n",
    "        \n",
    "        if self.reg_unit != 0.:  \n",
    "            l_a = float(self.reg_unit) * ((1-h.norm(dim=-1))**2).mean()\n",
    "#             import pdb; pdb.set_trace()\n",
    "            self.learn.loss = self.learn.loss+l_a "
   ]
  },
  {
   "cell_type": "code",
   "execution_count": null,
   "metadata": {},
   "outputs": [],
   "source": [
    "#export\n",
    "def augmentation_groups(u_groups):\n",
    "    '''returns the rotation list corresponding to the input groups'''\n",
    "    u_groups = np.cumsum([0] + u_groups)\n",
    "    return [[u_groups[i],u_groups[i+1]-1] for i in range(len(u_groups)-1)]"
   ]
  },
  {
   "cell_type": "code",
   "execution_count": null,
   "metadata": {},
   "outputs": [],
   "source": [
    "u_raw_groups = [3,3]\n",
    "test_eq(augmentation_groups(u_raw_groups),[[0,2],[3,5]])"
   ]
  },
  {
   "cell_type": "code",
   "execution_count": null,
   "metadata": {},
   "outputs": [],
   "source": [
    "#export\n",
    "class QuaternionAugmentation(Transform):\n",
    "    \"A transform that before_call its state at each `__call__`\"\n",
    "    split_idx = 0\n",
    "    def __init__(self,inp_groups, **kwargs):\n",
    "        super().__init__(**kwargs)\n",
    "        self.inp_groups = inp_groups\n",
    "        self.r_quat = None\n",
    "        for g in inp_groups: \n",
    "            l = g[1]-g[0]+1\n",
    "            if l != 4 and l != 3: raise AttributeError\n",
    "\n",
    "    def __call__(self, b, split_idx=None, **kwargs):\n",
    "        #import pdb; pdb.set_trace()\n",
    "        self.r_quat = rand_quat()\n",
    "        return super().__call__(b, split_idx=split_idx, **kwargs) \n",
    "\n",
    "    def encodes(self, x:(TensorSequences)):\n",
    "        #import pdb; pdb.set_trace()\n",
    "        for g in self.inp_groups:\n",
    "            tmp = x[...,g[0]:g[1]+1]\n",
    "            if tmp.shape[1] == 3:\n",
    "                x[...,g[0]:g[1]+1] = rot_vec(tmp,self.r_quat)\n",
    "            else:\n",
    "                x[...,g[0]:g[1]+1] = multiplyQuat(tmp,self.r_quat)\n",
    "        return x\n",
    "    \n",
    "    def encodes(self, x:(TensorQuaternionInclination,TensorQuaternionAngle)):\n",
    "        return multiplyQuat(x,self.r_quat)"
   ]
  },
  {
   "cell_type": "code",
   "execution_count": null,
   "metadata": {},
   "outputs": [],
   "source": [
    "n_skip = 2**8\n",
    "\n",
    "inp,out = get_inp_out_size(dls)\n",
    "# model = SimpleGRU(inp,out,num_layers=1,hidden_size=100)\n",
    "model = TCN(inp,out,hl_depth=8,hl_width=10)\n",
    "\n",
    "skip = partial(SkipNLoss,n_skip=n_skip)\n",
    "metrics=rms_inclination_deg\n",
    "cbs = [QuaternionRegularizer(reg_unit=1,modules=[model])]\n",
    "\n",
    "lrn = Learner(dls,model,loss_func=ms_inclination,opt_func=ranger,metrics=metrics)"
   ]
  },
  {
   "cell_type": "code",
   "execution_count": null,
   "metadata": {},
   "outputs": [],
   "source": [
    "lrn.fit_one_cycle(1,lr_max=3e-3)"
   ]
  },
  {
   "cell_type": "markdown",
   "metadata": {},
   "source": [
    "## Inclination Datablock"
   ]
  },
  {
   "cell_type": "code",
   "execution_count": null,
   "metadata": {},
   "outputs": [],
   "source": [
    "#export\n",
    "class TensorInclination(TensorSequences): pass"
   ]
  },
  {
   "cell_type": "code",
   "execution_count": null,
   "metadata": {},
   "outputs": [],
   "source": [
    "#export\n",
    "import h5py\n",
    "class HDF2Inclination(HDF2Sequence):\n",
    "        \n",
    "    def _hdf_extract_sequence(self,hdf_path,dataset = None, l_slc = None, r_slc= None,down_s=None):\n",
    "        with h5py.File(hdf_path,'r') as f:\n",
    "            ds = f if dataset is None else f[dataset]\n",
    "            l_array = [ds[n][l_slc:r_slc] for n in self.clm_names]\n",
    "            seq = np.vstack(l_array).T\n",
    "            seq = array(inclinationAngleAbs(tensor(seq))[:,None])\n",
    "            return seq"
   ]
  },
  {
   "cell_type": "code",
   "execution_count": null,
   "metadata": {},
   "outputs": [],
   "source": [
    "#export\n",
    "class InclinationBlock(TransformBlock):\n",
    "    def __init__(self, seq_extract,padding=False):\n",
    "        return super().__init__(type_tfms=[seq_extract],\n",
    "                                batch_tfms=[Normalize(axes=[0,1])],\n",
    "                                dls_kwargs={} if not padding else {'before_batch': pad_sequence})\n",
    "\n",
    "    @classmethod\n",
    "    @delegates(HDF2Inclination, keep=True)\n",
    "    def from_hdf(cls, clm_names, seq_cls=TensorInclination,padding=False, **kwargs):\n",
    "        return cls(HDF2Inclination(clm_names,to_cls=seq_cls,**kwargs), padding)\n"
   ]
  },
  {
   "cell_type": "code",
   "execution_count": null,
   "metadata": {},
   "outputs": [],
   "source": [
    "# f_paths = '/mnt/Data/Systemidentification/Orientation_Estimation/'\n",
    "# hdf_files = get_hdf_files(f_paths)\n",
    "# tfm_src = CreateDict([DfHDFCreateWindows(win_sz=1000,stp_sz=100,clm='acc_x')])\n",
    "# u = ['acc_x','acc_y','acc_z','gyr_x','gyr_y','gyr_z']\n",
    "# # u = ['acc_x','acc_y','acc_z','gyr_x','gyr_y','gyr_z','mag_x','mag_y','mag_z']\n",
    "# y =['opt_a','opt_b','opt_c','opt_d']\n",
    "# dls = DataBlock(blocks=(SequenceBlock.from_hdf(u),\n",
    "#                         InclinationBlock.from_hdf(y)),\n",
    "#                 get_items=tfm_src,\n",
    "#                 splitter=ApplyToDict(FuncSplitter(lambda o: 'experiment2' in str(o)))\n",
    "#                ).dataloaders(hdf_files,shufflish=True,bs=128)"
   ]
  },
  {
   "cell_type": "markdown",
   "metadata": {},
   "source": [
    "## Show Results"
   ]
  },
  {
   "cell_type": "code",
   "execution_count": null,
   "metadata": {},
   "outputs": [],
   "source": [
    "#export\n",
    "def plot_scalar_inclination(axs,in_sig,targ_sig,out_sig=None, **kwargs):\n",
    "#     import pdb; pdb.set_trace()\n",
    "    first_targ = targ_sig[0].repeat(targ_sig.shape[0],1)\n",
    "    axs[0].plot(rad2deg(targ_sig))\n",
    "    axs[0].label_outer()\n",
    "    axs[0].set_ylabel('inclination[°]')\n",
    "    \n",
    "    if out_sig is not None:\n",
    "        axs[0].plot(rad2deg(out_sig))\n",
    "        axs[0].legend(['y','ŷ'])\n",
    "        axs[1].plot(rad2deg(targ_sig-out_sig))\n",
    "        axs[1].label_outer()\n",
    "        axs[1].set_ylabel('error[°]')\n",
    "        \n",
    "    axs[-1].plot(in_sig)"
   ]
  },
  {
   "cell_type": "code",
   "execution_count": null,
   "metadata": {},
   "outputs": [],
   "source": [
    "#export\n",
    "def plot_quaternion_inclination(axs,in_sig,targ_sig,out_sig=None, **kwargs):\n",
    "#     import pdb; pdb.set_trace()\n",
    "    axs[0].plot(rad2deg(inclinationAngleAbs(targ_sig)))\n",
    "    axs[0].label_outer()\n",
    "    axs[0].legend(['y'])\n",
    "    axs[0].set_ylabel('inclination[°]')\n",
    "    \n",
    "    if out_sig is not None:\n",
    "        axs[0].plot(rad2deg(inclinationAngleAbs(out_sig)))\n",
    "        axs[0].legend(['y','ŷ'])\n",
    "        axs[1].plot(rad2deg(inclinationAngle(out_sig,targ_sig)))\n",
    "        axs[1].label_outer()\n",
    "        axs[1].set_ylabel('error[°]')\n",
    "        if 'ref' in kwargs:\n",
    "#             axs[0].plot(rad2deg(inclinationAngleAbs(kwargs['ref'])))\n",
    "#             axs[0].legend(['y','ŷ','y_ref'])\n",
    "            axs[1].plot(rad2deg(inclinationAngle(targ_sig,kwargs['ref'])))\n",
    "            axs[1].legend(['ŷ','y_ref'])\n",
    "        \n",
    "    axs[-1].plot(in_sig)"
   ]
  },
  {
   "cell_type": "code",
   "execution_count": null,
   "metadata": {},
   "outputs": [],
   "source": [
    "#export\n",
    "def plot_quaternion_rel_angle(axs,in_sig,targ_sig,out_sig=None, **kwargs):\n",
    "#     import pdb; pdb.set_trace()\n",
    "    first_targ = targ_sig[0].repeat(targ_sig.shape[0],1)\n",
    "    axs[0].plot(rad2deg(relativeAngle(first_targ,targ_sig)))\n",
    "    axs[0].label_outer()\n",
    "    axs[0].legend(['y'])\n",
    "    axs[0].set_ylabel('angle[°]')\n",
    "    \n",
    "    if out_sig is not None:\n",
    "        axs[0].plot(rad2deg(relativeAngle(first_targ,out_sig)))\n",
    "        axs[0].legend(['y','ŷ'])\n",
    "        axs[1].plot(rad2deg(relativeAngle(out_sig,targ_sig)))\n",
    "        axs[1].label_outer()\n",
    "        axs[1].set_ylabel('error[°]')\n",
    "        \n",
    "    axs[-1].plot(in_sig)"
   ]
  },
  {
   "cell_type": "code",
   "execution_count": null,
   "metadata": {},
   "outputs": [],
   "source": [
    "dls.show_batch(max_n=3,ds_idx=0)"
   ]
  },
  {
   "cell_type": "code",
   "execution_count": null,
   "metadata": {},
   "outputs": [],
   "source": [
    "#export\n",
    "@typedispatch\n",
    "def show_results(x:TensorSequences, y:TensorInclination, samples, outs, ctxs=None, max_n=2, **kwargs):\n",
    "    n_samples = min(len(samples), max_n)\n",
    "    n_targ = 2\n",
    "    if n_samples > 3:\n",
    "        #if there are more then 3 samples to plot then put them in a single figure\n",
    "        plot_seqs_single_figure(n_samples,n_targ,samples,plot_scalar_inclination,outs, **kwargs)\n",
    "    else:\n",
    "        #if there are less then 3 samples to plot then put each in its own figure\n",
    "        plot_seqs_multi_figures(n_samples,n_targ,samples,plot_scalar_inclination,outs, **kwargs)\n",
    "    return ctxs"
   ]
  },
  {
   "cell_type": "code",
   "execution_count": null,
   "metadata": {},
   "outputs": [],
   "source": [
    "#export\n",
    "@typedispatch\n",
    "def show_batch(x:TensorSequences, y:TensorInclination, samples, ctxs=None, max_n=6, **kwargs):\n",
    "    n_samples = min(len(samples), max_n)\n",
    "    n_targ = 1\n",
    "    if n_samples > 3:\n",
    "        #if there are more then 3 samples to plot then put them in a single figure\n",
    "        plot_seqs_single_figure(n_samples,n_targ,samples,plot_scalar_inclination, **kwargs)\n",
    "    else:\n",
    "        #if there are less then 3 samples to plot then put each in its own figure\n",
    "        plot_seqs_multi_figures(n_samples,n_targ,samples,plot_scalar_inclination, **kwargs)\n",
    "    return ctxs"
   ]
  },
  {
   "cell_type": "code",
   "execution_count": null,
   "metadata": {},
   "outputs": [],
   "source": [
    "#export\n",
    "@typedispatch\n",
    "def show_results(x:TensorSequences, y:TensorQuaternionInclination, samples, outs, ctxs=None, max_n=2, **kwargs):\n",
    "    if 'quat' in kwargs: return show_results(x,TensorSequencesOutput(y), samples,outs, ctxs, max_n , **kwargs)\n",
    "    n_samples = min(len(samples), max_n)\n",
    "    n_targ = 2\n",
    "    if n_samples > 3:\n",
    "        #if there are more then 3 samples to plot then put them in a single figure\n",
    "        plot_seqs_single_figure(n_samples,n_targ,samples,plot_quaternion_inclination,outs,**kwargs)\n",
    "    else:\n",
    "        #if there are less then 3 samples to plot then put each in its own figure\n",
    "        plot_seqs_multi_figures(n_samples,n_targ,samples,plot_quaternion_inclination,outs,**kwargs)\n",
    "    return ctxs"
   ]
  },
  {
   "cell_type": "code",
   "execution_count": null,
   "metadata": {},
   "outputs": [],
   "source": [
    "#export\n",
    "@typedispatch\n",
    "def show_batch(x:TensorSequences, y:TensorQuaternionInclination, samples, ctxs=None, max_n=6, **kwargs):\n",
    "    n_samples = min(len(samples), max_n)\n",
    "    n_targ = 1\n",
    "    if n_samples > 3:\n",
    "        #if there are more then 3 samples to plot then put them in a single figure\n",
    "        plot_seqs_single_figure(n_samples,n_targ,samples,plot_quaternion_inclination)\n",
    "    else:\n",
    "        #if there are less then 3 samples to plot then put each in its own figure\n",
    "        plot_seqs_multi_figures(n_samples,n_targ,samples,plot_quaternion_inclination)\n",
    "    return ctxs"
   ]
  },
  {
   "cell_type": "code",
   "execution_count": null,
   "metadata": {},
   "outputs": [],
   "source": [
    "#export\n",
    "@typedispatch\n",
    "def show_results(x:TensorSequences, y:TensorQuaternionAngle, samples, outs, ctxs=None, max_n=2, **kwargs):\n",
    "    n_samples = min(len(samples), max_n)\n",
    "    n_targ = 2\n",
    "    if n_samples > 3:\n",
    "        #if there are more then 3 samples to plot then put them in a single figure\n",
    "        plot_seqs_single_figure(n_samples,n_targ,samples,plot_quaternion_rel_angle,outs, **kwargs)\n",
    "    else:\n",
    "        #if there are less then 3 samples to plot then put each in its own figure\n",
    "        plot_seqs_multi_figures(n_samples,n_targ,samples,plot_quaternion_rel_angle,outs, **kwargs)\n",
    "    return ctxs"
   ]
  },
  {
   "cell_type": "code",
   "execution_count": null,
   "metadata": {},
   "outputs": [],
   "source": [
    "#export\n",
    "@typedispatch\n",
    "def show_batch(x:TensorSequences, y:TensorQuaternionAngle, samples, ctxs=None, max_n=6, **kwargs):\n",
    "    n_samples = min(len(samples), max_n)\n",
    "    n_targ = 1\n",
    "    if n_samples > 3:\n",
    "        #if there are more then 3 samples to plot then put them in a single figure\n",
    "        plot_seqs_single_figure(n_samples,n_targ,samples,plot_quaternion_rel_angle, **kwargs)\n",
    "    else:\n",
    "        #if there are less then 3 samples to plot then put each in its own figure\n",
    "        plot_seqs_multi_figures(n_samples,n_targ,samples,plot_quaternion_rel_angle, **kwargs)\n",
    "    return ctxs"
   ]
  },
  {
   "cell_type": "code",
   "execution_count": null,
   "metadata": {},
   "outputs": [],
   "source": [
    "lrn.show_results(max_n=3,ds_idx=0,shuffle=True,quat=True)"
   ]
  },
  {
   "cell_type": "code",
   "execution_count": null,
   "metadata": {},
   "outputs": [
    {
     "name": "stdout",
     "output_type": "stream",
     "text": [
      "Converted 00_core.ipynb.\n",
      "Converted 01_model.ipynb.\n",
      "Converted 02_learner.ipynb.\n",
      "Converted 03_tbptt_dl.ipynb.\n",
      "Converted 11_dualrnn.ipynb.\n",
      "Converted 12_TensorQuaternions.ipynb.\n",
      "Converted 13_HPOpt.ipynb.\n",
      "Converted index.ipynb.\n"
     ]
    }
   ],
   "source": [
    "#hide\n",
    "from nbdev.export import *\n",
    "notebook2script()"
   ]
  },
  {
   "cell_type": "code",
   "execution_count": null,
   "metadata": {},
   "outputs": [],
   "source": []
  }
 ],
 "metadata": {
  "kernelspec": {
   "display_name": "Python 3",
   "language": "python",
   "name": "python3"
  }
 },
 "nbformat": 4,
 "nbformat_minor": 2
}
