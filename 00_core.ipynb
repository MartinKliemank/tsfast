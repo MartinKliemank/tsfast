{
 "cells": [
  {
   "cell_type": "raw",
   "metadata": {},
   "source": [
    "---\n",
    "description: Corefunctionality for data preparation of sequential data for pytorch,\n",
    "  fastai models\n",
    "output-file: core.html\n",
    "title: Corefunctions\n",
    "\n",
    "---\n",
    "\n"
   ]
  },
  {
   "cell_type": "code",
   "execution_count": null,
   "metadata": {},
   "outputs": [],
   "source": [
    "#| default_exp core\n",
    "#| default_cls_lvl 3"
   ]
  },
  {
   "cell_type": "code",
   "execution_count": null,
   "metadata": {},
   "outputs": [],
   "source": [
    "#| include: false\n",
    "# %load_ext line_profiler\n",
    "%matplotlib widget"
   ]
  },
  {
   "attachments": {},
   "cell_type": "markdown",
   "metadata": {},
   "source": [
    "# Application Structure\n",
    "The data will be extracted and prepared via transforms. Those are grouped in:\n",
    "- Type Transforms: Those extraxt the needed components from the source items, like input sequences or target scalar values. The work on single tensors.\n",
    "- Item Transforms: Those Transforms may work on tuple level and therefore may process relationships between input and output.\n",
    "- Batch Transform: Those transforms work on batch level. They receive batched tensors and may apply lazy transforms like normalization very effeciently.\n",
    "\n",
    "An application example may look like the following:\n",
    "- sourceitems: \n",
    "    - path extraction with hdf5 file endings\n",
    "    - create pandas dataframe with information for type transforms, like slices\n",
    "    - filter items in pandas dataframe\n",
    "- type transforms: \n",
    "    - extract hdf5 input and output sequence\n",
    "    - create windows\n",
    "- item transforms: \n",
    "    - filter sequence by value\n",
    "    - shift output sequence by 1 element\n",
    "- batch transforms: \n",
    "    - noise injection\n",
    "    - normalization\n",
    "    "
   ]
  },
  {
   "cell_type": "code",
   "execution_count": null,
   "metadata": {},
   "outputs": [],
   "source": [
    "#| export\n",
    "from fastai.data.all import *\n",
    "from fastai.vision.augment import RandTransform\n",
    "import h5py"
   ]
  },
  {
   "cell_type": "code",
   "execution_count": null,
   "metadata": {},
   "outputs": [],
   "source": [
    "#| export\n",
    "def obj_in_lst(lst,cls):\n",
    "    '''retrieve first object of type cls from a list'''\n",
    "    return next(o for o in lst if type(o) is cls)"
   ]
  },
  {
   "cell_type": "code",
   "execution_count": null,
   "metadata": {},
   "outputs": [],
   "source": [
    "#| export\n",
    "def count_parameters(model):\n",
    "    '''retrieve number of trainable parameters of a model'''\n",
    "    return sum(p.numel() for p in model.parameters() if p.requires_grad)"
   ]
  },
  {
   "attachments": {},
   "cell_type": "markdown",
   "metadata": {},
   "source": [
    "## 1. Extract Source Items\n",
    "The file paths may be extracted with `get_files` of fastai2. `get_hdf_files` removes the need of writing the hdf5 file extension.\n",
    "\n",
    "Then a pandas dataframe may be created in case further information for the source items need to be stored like slices for the windowing function."
   ]
  },
  {
   "attachments": {},
   "cell_type": "markdown",
   "metadata": {},
   "source": [
    "### 1.1 Extract File Paths"
   ]
  },
  {
   "cell_type": "code",
   "execution_count": null,
   "metadata": {},
   "outputs": [
    {
     "data": {
      "text/plain": [
       "(3,\n",
       " Path('/home/pheenix/Development/seqdata/test_data/battery/train/Sim_RealisticCycle1.hdf5'))"
      ]
     },
     "execution_count": null,
     "metadata": {},
     "output_type": "execute_result"
    }
   ],
   "source": [
    "f_path = Path.cwd() / 'test_data/battery'\n",
    "hdf_files = get_files(f_path,extensions='.hdf5',recurse=True)\n",
    "len(hdf_files),hdf_files[0]"
   ]
  },
  {
   "cell_type": "code",
   "execution_count": null,
   "metadata": {},
   "outputs": [],
   "source": [
    "#| export\n",
    "hdf_extensions = ['.hdf5']\n",
    "def get_hdf_files(path,recurse=True, folders=None):\n",
    "    \"Get hdf5 files in `path` recursively, only in `folders`, if specified.\"\n",
    "    return get_files(path, extensions=hdf_extensions, recurse=recurse, folders=folders)"
   ]
  },
  {
   "cell_type": "code",
   "execution_count": null,
   "metadata": {},
   "outputs": [
    {
     "data": {
      "text/plain": [
       "(3,\n",
       " Path('/home/pheenix/Development/seqdata/test_data/battery/train/Sim_RealisticCycle1.hdf5'))"
      ]
     },
     "execution_count": null,
     "metadata": {},
     "output_type": "execute_result"
    }
   ],
   "source": [
    "hdf_files = get_hdf_files(f_path)\n",
    "len(hdf_files),hdf_files[0]"
   ]
  },
  {
   "attachments": {},
   "cell_type": "markdown",
   "metadata": {},
   "source": [
    "### 1.2 Create Source Dictionaries\n",
    "In order to extract mulitple realizations of one file with different modifications, we create a list of properties. Pandas Dataframes are to slow for iteration but very fast and convenient for creations. So after creation of the pandas Dataframe we convert it to a list of dictionaries."
   ]
  },
  {
   "cell_type": "code",
   "execution_count": null,
   "metadata": {},
   "outputs": [],
   "source": [
    "#| export\n",
    "def apply_df_tfms(src,pd_tfms = None):\n",
    "    '''Create Pandas Dataframe out of a list of items, with a list of df transforms applied'''\n",
    "    if type(src) is pd.DataFrame:\n",
    "        df = src\n",
    "    else:\n",
    "        df = pd.DataFrame(data=src.items,columns=['path'],dtype=str)\n",
    "    if pd_tfms is not None:\n",
    "        for t in pd_tfms:\n",
    "            df = t(df)\n",
    "    return df"
   ]
  },
  {
   "cell_type": "code",
   "execution_count": null,
   "metadata": {},
   "outputs": [
    {
     "data": {
      "text/html": [
       "<div>\n",
       "<style scoped>\n",
       "    .dataframe tbody tr th:only-of-type {\n",
       "        vertical-align: middle;\n",
       "    }\n",
       "\n",
       "    .dataframe tbody tr th {\n",
       "        vertical-align: top;\n",
       "    }\n",
       "\n",
       "    .dataframe thead th {\n",
       "        text-align: right;\n",
       "    }\n",
       "</style>\n",
       "<table border=\"1\" class=\"dataframe\">\n",
       "  <thead>\n",
       "    <tr style=\"text-align: right;\">\n",
       "      <th></th>\n",
       "      <th>path</th>\n",
       "    </tr>\n",
       "  </thead>\n",
       "  <tbody>\n",
       "    <tr>\n",
       "      <th>0</th>\n",
       "      <td>/home/pheenix/Development/seqdata/test_data/battery/train/Sim_RealisticCycle1.hdf5</td>\n",
       "    </tr>\n",
       "    <tr>\n",
       "      <th>1</th>\n",
       "      <td>/home/pheenix/Development/seqdata/test_data/battery/train/Sim_RealisticCycle2.hdf5</td>\n",
       "    </tr>\n",
       "    <tr>\n",
       "      <th>2</th>\n",
       "      <td>/home/pheenix/Development/seqdata/test_data/battery/valid/Sim_RealisticCycle3.hdf5</td>\n",
       "    </tr>\n",
       "  </tbody>\n",
       "</table>\n",
       "</div>"
      ],
      "text/plain": [
       "                                                                                 path\n",
       "0  /home/pheenix/Development/seqdata/test_data/battery/train/Sim_RealisticCycle1.hdf5\n",
       "1  /home/pheenix/Development/seqdata/test_data/battery/train/Sim_RealisticCycle2.hdf5\n",
       "2  /home/pheenix/Development/seqdata/test_data/battery/valid/Sim_RealisticCycle3.hdf5"
      ]
     },
     "execution_count": null,
     "metadata": {},
     "output_type": "execute_result"
    }
   ],
   "source": [
    "df = apply_df_tfms(hdf_files)\n",
    "df.head()"
   ]
  },
  {
   "cell_type": "code",
   "execution_count": null,
   "metadata": {},
   "outputs": [],
   "source": [
    "test_eq(apply_df_tfms(hdf_files),apply_df_tfms(apply_df_tfms(hdf_files)))"
   ]
  },
  {
   "cell_type": "code",
   "execution_count": null,
   "metadata": {},
   "outputs": [],
   "source": [
    "#| export\n",
    "def CreateDict(pd_tfms = None):\n",
    "    '''Create List of Dictionarys out of a list of items, with a list of df transforms applied'''\n",
    "    def _inner(src):\n",
    "        df = apply_df_tfms(src,pd_tfms)\n",
    "#         df_dict_list = df.to_dict(orient='records') native to_dict is slower than self written approach\n",
    "        df_values = df.values\n",
    "        df_dict = {name:list(df_values[:,i]) for (i,name) in enumerate(df.columns)}\n",
    "        df_dict_list = [{name: df_dict[name][i] for name in df_dict} for i in range(len(df))]\n",
    "        return df_dict_list\n",
    "    return _inner"
   ]
  },
  {
   "cell_type": "code",
   "execution_count": null,
   "metadata": {},
   "outputs": [
    {
     "data": {
      "text/plain": [
       "[{'path': '/home/pheenix/Development/seqdata/test_data/battery/train/Sim_RealisticCycle1.hdf5'},\n",
       " {'path': '/home/pheenix/Development/seqdata/test_data/battery/train/Sim_RealisticCycle2.hdf5'},\n",
       " {'path': '/home/pheenix/Development/seqdata/test_data/battery/valid/Sim_RealisticCycle3.hdf5'}]"
      ]
     },
     "execution_count": null,
     "metadata": {},
     "output_type": "execute_result"
    }
   ],
   "source": [
    "l_dict =CreateDict()(hdf_files)\n",
    "l_dict"
   ]
  },
  {
   "cell_type": "code",
   "execution_count": null,
   "metadata": {},
   "outputs": [],
   "source": [
    "#| export\n",
    "def ValidClmContains(lst_valid):\n",
    "    '''add validation column using a list of strings that are part of the validation frames'''\n",
    "    def _inner(df):\n",
    "        re_valid = '|'.join([re.escape(f) for f in lst_valid])\n",
    "        df['valid'] = df.path.str.contains(re_valid)\n",
    "        return df\n",
    "\n",
    "    return _inner"
   ]
  },
  {
   "cell_type": "code",
   "execution_count": null,
   "metadata": {},
   "outputs": [
    {
     "name": "stdout",
     "output_type": "stream",
     "text": [
      "CPU times: user 729 µs, sys: 114 µs, total: 843 µs\n",
      "Wall time: 837 µs\n"
     ]
    },
    {
     "data": {
      "text/plain": [
       "[{'path': '/home/pheenix/Development/seqdata/test_data/battery/train/Sim_RealisticCycle1.hdf5',\n",
       "  'valid': False},\n",
       " {'path': '/home/pheenix/Development/seqdata/test_data/battery/train/Sim_RealisticCycle2.hdf5',\n",
       "  'valid': False},\n",
       " {'path': '/home/pheenix/Development/seqdata/test_data/battery/valid/Sim_RealisticCycle3.hdf5',\n",
       "  'valid': True}]"
      ]
     },
     "execution_count": null,
     "metadata": {},
     "output_type": "execute_result"
    }
   ],
   "source": [
    "%%time\n",
    "lst_valid = ['valid']\n",
    "CreateDict([ValidClmContains(lst_valid)])(hdf_files)"
   ]
  },
  {
   "cell_type": "code",
   "execution_count": null,
   "metadata": {},
   "outputs": [],
   "source": [
    "#| export\n",
    "def ValidClmIs(lst_valid):\n",
    "    '''adds validation column using a list of validation filenames'''\n",
    "    def _inner(df):\n",
    "        df['valid'] = df.path.isin([str(f) for f in lst_valid])\n",
    "        return df\n",
    "\n",
    "    return _inner"
   ]
  },
  {
   "cell_type": "code",
   "execution_count": null,
   "metadata": {},
   "outputs": [
    {
     "name": "stdout",
     "output_type": "stream",
     "text": [
      "CPU times: user 558 µs, sys: 88 µs, total: 646 µs\n",
      "Wall time: 641 µs\n"
     ]
    },
    {
     "data": {
      "text/plain": [
       "[{'path': '/home/pheenix/Development/seqdata/test_data/battery/train/Sim_RealisticCycle1.hdf5',\n",
       "  'valid': False},\n",
       " {'path': '/home/pheenix/Development/seqdata/test_data/battery/train/Sim_RealisticCycle2.hdf5',\n",
       "  'valid': False},\n",
       " {'path': '/home/pheenix/Development/seqdata/test_data/battery/valid/Sim_RealisticCycle3.hdf5',\n",
       "  'valid': False}]"
      ]
     },
     "execution_count": null,
     "metadata": {},
     "output_type": "execute_result"
    }
   ],
   "source": [
    "%%time\n",
    "lst_valid = ['test_data/battery/train/Sim_RealisticCycle2.hdf5','test_data/battery/valid/Sim_RealisticCycle3.hdf5']\n",
    "CreateDict([ValidClmIs(lst_valid)])(hdf_files)"
   ]
  },
  {
   "cell_type": "code",
   "execution_count": null,
   "metadata": {},
   "outputs": [],
   "source": [
    "#| export\n",
    "def FilterClm(clm_name,func = lambda x:x):\n",
    "    '''adds validation column using a list of validation filenames'''\n",
    "    def _inner(df):\n",
    "        return df[func(df[clm_name])]\n",
    "\n",
    "    return _inner"
   ]
  },
  {
   "cell_type": "code",
   "execution_count": null,
   "metadata": {},
   "outputs": [
    {
     "data": {
      "text/plain": [
       "[]"
      ]
     },
     "execution_count": null,
     "metadata": {},
     "output_type": "execute_result"
    }
   ],
   "source": [
    "CreateDict([ValidClmIs(lst_valid),FilterClm('valid')])(hdf_files)"
   ]
  },
  {
   "cell_type": "code",
   "execution_count": null,
   "metadata": {},
   "outputs": [],
   "source": [
    "#| export\n",
    "def get_hdf_seq_len(df,clm,ds=None):\n",
    "    '''extract the sequence length of the dataset with the 'clm' name and 'f_path' path  '''\n",
    "    with h5py.File(df['path'],'r') as f:\n",
    "        ds = f if 'dataset' not in df else f[df['dataset']]\n",
    "        f_len = max(ds[clm].shape)\n",
    "    return f_len "
   ]
  },
  {
   "cell_type": "code",
   "execution_count": null,
   "metadata": {},
   "outputs": [],
   "source": [
    "#| export\n",
    "def df_get_hdf_seq_len(df,clm,ds=None):\n",
    "    '''extracts the sequence length of every file in advance to prepare repeated window extractions with 'DfHDFCreateWindows' '''\n",
    "#     df['seq_len'] = ([get_hdf_seq_len(row.path,clm) for (idx, row) in df.iterrows()])\n",
    "    df['seq_len'] = df.apply(lambda x: get_hdf_seq_len(x,clm),axis=1)\n",
    "    return df"
   ]
  },
  {
   "cell_type": "code",
   "execution_count": null,
   "metadata": {},
   "outputs": [],
   "source": [
    "#| export\n",
    "def DfHDFGetSeqLen(clm):\n",
    "    def _inner(df):\n",
    "        return df_get_hdf_seq_len(df,clm)\n",
    "    return _inner"
   ]
  },
  {
   "cell_type": "code",
   "execution_count": null,
   "metadata": {},
   "outputs": [
    {
     "data": {
      "text/html": [
       "<div>\n",
       "<style scoped>\n",
       "    .dataframe tbody tr th:only-of-type {\n",
       "        vertical-align: middle;\n",
       "    }\n",
       "\n",
       "    .dataframe tbody tr th {\n",
       "        vertical-align: top;\n",
       "    }\n",
       "\n",
       "    .dataframe thead th {\n",
       "        text-align: right;\n",
       "    }\n",
       "</style>\n",
       "<table border=\"1\" class=\"dataframe\">\n",
       "  <thead>\n",
       "    <tr style=\"text-align: right;\">\n",
       "      <th></th>\n",
       "      <th>path</th>\n",
       "      <th>seq_len</th>\n",
       "    </tr>\n",
       "  </thead>\n",
       "  <tbody>\n",
       "    <tr>\n",
       "      <th>0</th>\n",
       "      <td>/home/pheenix/Development/seqdata/test_data/battery/train/Sim_RealisticCycle1.hdf5</td>\n",
       "      <td>265607</td>\n",
       "    </tr>\n",
       "    <tr>\n",
       "      <th>1</th>\n",
       "      <td>/home/pheenix/Development/seqdata/test_data/battery/train/Sim_RealisticCycle2.hdf5</td>\n",
       "      <td>265598</td>\n",
       "    </tr>\n",
       "    <tr>\n",
       "      <th>2</th>\n",
       "      <td>/home/pheenix/Development/seqdata/test_data/battery/valid/Sim_RealisticCycle3.hdf5</td>\n",
       "      <td>265593</td>\n",
       "    </tr>\n",
       "  </tbody>\n",
       "</table>\n",
       "</div>"
      ],
      "text/plain": [
       "                                                                                 path  \\\n",
       "0  /home/pheenix/Development/seqdata/test_data/battery/train/Sim_RealisticCycle1.hdf5   \n",
       "1  /home/pheenix/Development/seqdata/test_data/battery/train/Sim_RealisticCycle2.hdf5   \n",
       "2  /home/pheenix/Development/seqdata/test_data/battery/valid/Sim_RealisticCycle3.hdf5   \n",
       "\n",
       "   seq_len  \n",
       "0   265607  \n",
       "1   265598  \n",
       "2   265593  "
      ]
     },
     "execution_count": null,
     "metadata": {},
     "output_type": "execute_result"
    }
   ],
   "source": [
    "df_get_hdf_seq_len(df,'current')"
   ]
  },
  {
   "cell_type": "code",
   "execution_count": null,
   "metadata": {},
   "outputs": [
    {
     "data": {
      "text/html": [
       "<div>\n",
       "<style scoped>\n",
       "    .dataframe tbody tr th:only-of-type {\n",
       "        vertical-align: middle;\n",
       "    }\n",
       "\n",
       "    .dataframe tbody tr th {\n",
       "        vertical-align: top;\n",
       "    }\n",
       "\n",
       "    .dataframe thead th {\n",
       "        text-align: right;\n",
       "    }\n",
       "</style>\n",
       "<table border=\"1\" class=\"dataframe\">\n",
       "  <thead>\n",
       "    <tr style=\"text-align: right;\">\n",
       "      <th></th>\n",
       "      <th>path</th>\n",
       "      <th>seq_len</th>\n",
       "    </tr>\n",
       "  </thead>\n",
       "  <tbody>\n",
       "    <tr>\n",
       "      <th>0</th>\n",
       "      <td>/home/pheenix/Development/seqdata/test_data/battery/train/Sim_RealisticCycle1.hdf5</td>\n",
       "      <td>265607</td>\n",
       "    </tr>\n",
       "    <tr>\n",
       "      <th>1</th>\n",
       "      <td>/home/pheenix/Development/seqdata/test_data/battery/train/Sim_RealisticCycle2.hdf5</td>\n",
       "      <td>265598</td>\n",
       "    </tr>\n",
       "    <tr>\n",
       "      <th>2</th>\n",
       "      <td>/home/pheenix/Development/seqdata/test_data/battery/valid/Sim_RealisticCycle3.hdf5</td>\n",
       "      <td>265593</td>\n",
       "    </tr>\n",
       "  </tbody>\n",
       "</table>\n",
       "</div>"
      ],
      "text/plain": [
       "                                                                                 path  \\\n",
       "0  /home/pheenix/Development/seqdata/test_data/battery/train/Sim_RealisticCycle1.hdf5   \n",
       "1  /home/pheenix/Development/seqdata/test_data/battery/train/Sim_RealisticCycle2.hdf5   \n",
       "2  /home/pheenix/Development/seqdata/test_data/battery/valid/Sim_RealisticCycle3.hdf5   \n",
       "\n",
       "   seq_len  \n",
       "0   265607  \n",
       "1   265598  \n",
       "2   265593  "
      ]
     },
     "execution_count": null,
     "metadata": {},
     "output_type": "execute_result"
    }
   ],
   "source": [
    "DfHDFGetSeqLen('current')(df)"
   ]
  },
  {
   "cell_type": "code",
   "execution_count": null,
   "metadata": {},
   "outputs": [],
   "source": [
    "#| export\n",
    "import numbers\n",
    "def DfResamplingFactor(src_fs,lst_targ_fs):\n",
    "    if not isinstance(src_fs, numbers.Number) and not type(src_fs) is str: \n",
    "        raise ValueError('src_fs has to be a column name or a fixed number')\n",
    "    \n",
    "    def _inner(df):\n",
    "        np_targ_fs = array(lst_targ_fs)\n",
    "        pd.options.mode.chained_assignment = None #every row is a reference so we need to suppress the warning messages while copying\n",
    "\n",
    "        #repeat entries for every target fs\n",
    "        res_df = df.iloc[np.repeat(np.arange(len(df)),len(np_targ_fs))] \n",
    "        targ_fs = np.tile(np_targ_fs,len(df))\n",
    "        res_df['targ_fs'] = targ_fs\n",
    "        \n",
    "        if isinstance(src_fs, numbers.Number):\n",
    "            #src_fs is a fixed number\n",
    "            res_df['resampling_factor'] = targ_fs/src_fs\n",
    "        else:\n",
    "            #src_fs is a column name of the df\n",
    "            res_df['resampling_factor'] = targ_fs/res_df[src_fs]\n",
    "\n",
    "        pd.options.mode.chained_assignment = 'warn'\n",
    "        \n",
    "        return res_df\n",
    "    return _inner"
   ]
  },
  {
   "cell_type": "code",
   "execution_count": null,
   "metadata": {},
   "outputs": [],
   "source": [
    "targ_fs = [50,100,300]\n",
    "test_eq(len(DfResamplingFactor(100,targ_fs)(df)),9)   \n",
    "df['src_fs'] = 200.\n",
    "test_eq(len(DfResamplingFactor('src_fs',targ_fs)(df)),9)"
   ]
  },
  {
   "cell_type": "code",
   "execution_count": null,
   "metadata": {},
   "outputs": [],
   "source": [
    "#| export\n",
    "def DfHDFCreateWindows(win_sz,stp_sz, clm, fixed_start = False, fixed_end = False):\n",
    "    '''create windows of sequences, splits sequence into multiple items'''\n",
    "    def _inner(df):\n",
    "        if fixed_start and fixed_end: raise Exception\n",
    "        \n",
    "        if 'seq_len' in df:\n",
    "            np_f_len = df.seq_len.values\n",
    "        else:\n",
    "            np_f_len = np.array([get_hdf_seq_len(row,clm) for (idx, row) in df.iterrows()])\n",
    "            \n",
    "        if 'resampling_factor' in df: np_f_len =(np_f_len*df.resampling_factor.values).astype(int)\n",
    "            \n",
    "        n_win = ((np_f_len-win_sz)//stp_sz)+1\n",
    "        #cast array n_win to int and clip negative values to 0\n",
    "        n_win = n_win.astype(int)\n",
    "        n_win = np.clip(n_win,a_min=0,a_max=None) #remove negative values at instances where the winsize is smaller than the seq_len\n",
    "        lst_idx = np.arange(len(np_f_len))\n",
    "        \n",
    "        pd.options.mode.chained_assignment = None #every row is a reference so we need to suppress the warning messages while copying\n",
    "        \n",
    "        res_df = df.iloc[np.repeat(lst_idx,n_win)]\n",
    "#         res_df = df.loc[np.repeat(lst_idx,n_win)] #the loc variant as a little bit slower because it creates copies and returns wrong values with redundant indexes, but is more robust\n",
    "\n",
    "        step_idx = np.concatenate([np.arange(x) for x in n_win])\n",
    "    \n",
    "        \n",
    "        res_df['l_slc'] = step_idx*stp_sz if not fixed_start else None\n",
    "        res_df['r_slc'] = step_idx*stp_sz + win_sz if not fixed_end else None\n",
    "            \n",
    "        pd.options.mode.chained_assignment = 'warn'\n",
    "            \n",
    "        return res_df\n",
    "    \n",
    "    return _inner"
   ]
  },
  {
   "cell_type": "code",
   "execution_count": null,
   "metadata": {},
   "outputs": [
    {
     "name": "stdout",
     "output_type": "stream",
     "text": [
      "CPU times: user 1.02 ms, sys: 158 µs, total: 1.17 ms\n",
      "Wall time: 952 µs\n"
     ]
    },
    {
     "data": {
      "text/html": [
       "<div>\n",
       "<style scoped>\n",
       "    .dataframe tbody tr th:only-of-type {\n",
       "        vertical-align: middle;\n",
       "    }\n",
       "\n",
       "    .dataframe tbody tr th {\n",
       "        vertical-align: top;\n",
       "    }\n",
       "\n",
       "    .dataframe thead th {\n",
       "        text-align: right;\n",
       "    }\n",
       "</style>\n",
       "<table border=\"1\" class=\"dataframe\">\n",
       "  <thead>\n",
       "    <tr style=\"text-align: right;\">\n",
       "      <th></th>\n",
       "      <th>path</th>\n",
       "      <th>seq_len</th>\n",
       "      <th>src_fs</th>\n",
       "      <th>l_slc</th>\n",
       "      <th>r_slc</th>\n",
       "    </tr>\n",
       "  </thead>\n",
       "  <tbody>\n",
       "    <tr>\n",
       "      <th>0</th>\n",
       "      <td>/home/pheenix/Development/seqdata/test_data/battery/train/Sim_RealisticCycle1.hdf5</td>\n",
       "      <td>265607</td>\n",
       "      <td>200.0</td>\n",
       "      <td>0</td>\n",
       "      <td>100.2</td>\n",
       "    </tr>\n",
       "    <tr>\n",
       "      <th>0</th>\n",
       "      <td>/home/pheenix/Development/seqdata/test_data/battery/train/Sim_RealisticCycle1.hdf5</td>\n",
       "      <td>265607</td>\n",
       "      <td>200.0</td>\n",
       "      <td>100</td>\n",
       "      <td>200.2</td>\n",
       "    </tr>\n",
       "    <tr>\n",
       "      <th>0</th>\n",
       "      <td>/home/pheenix/Development/seqdata/test_data/battery/train/Sim_RealisticCycle1.hdf5</td>\n",
       "      <td>265607</td>\n",
       "      <td>200.0</td>\n",
       "      <td>200</td>\n",
       "      <td>300.2</td>\n",
       "    </tr>\n",
       "    <tr>\n",
       "      <th>0</th>\n",
       "      <td>/home/pheenix/Development/seqdata/test_data/battery/train/Sim_RealisticCycle1.hdf5</td>\n",
       "      <td>265607</td>\n",
       "      <td>200.0</td>\n",
       "      <td>300</td>\n",
       "      <td>400.2</td>\n",
       "    </tr>\n",
       "    <tr>\n",
       "      <th>0</th>\n",
       "      <td>/home/pheenix/Development/seqdata/test_data/battery/train/Sim_RealisticCycle1.hdf5</td>\n",
       "      <td>265607</td>\n",
       "      <td>200.0</td>\n",
       "      <td>400</td>\n",
       "      <td>500.2</td>\n",
       "    </tr>\n",
       "    <tr>\n",
       "      <th>...</th>\n",
       "      <td>...</td>\n",
       "      <td>...</td>\n",
       "      <td>...</td>\n",
       "      <td>...</td>\n",
       "      <td>...</td>\n",
       "    </tr>\n",
       "    <tr>\n",
       "      <th>2</th>\n",
       "      <td>/home/pheenix/Development/seqdata/test_data/battery/valid/Sim_RealisticCycle3.hdf5</td>\n",
       "      <td>265593</td>\n",
       "      <td>200.0</td>\n",
       "      <td>265000</td>\n",
       "      <td>265100.2</td>\n",
       "    </tr>\n",
       "    <tr>\n",
       "      <th>2</th>\n",
       "      <td>/home/pheenix/Development/seqdata/test_data/battery/valid/Sim_RealisticCycle3.hdf5</td>\n",
       "      <td>265593</td>\n",
       "      <td>200.0</td>\n",
       "      <td>265100</td>\n",
       "      <td>265200.2</td>\n",
       "    </tr>\n",
       "    <tr>\n",
       "      <th>2</th>\n",
       "      <td>/home/pheenix/Development/seqdata/test_data/battery/valid/Sim_RealisticCycle3.hdf5</td>\n",
       "      <td>265593</td>\n",
       "      <td>200.0</td>\n",
       "      <td>265200</td>\n",
       "      <td>265300.2</td>\n",
       "    </tr>\n",
       "    <tr>\n",
       "      <th>2</th>\n",
       "      <td>/home/pheenix/Development/seqdata/test_data/battery/valid/Sim_RealisticCycle3.hdf5</td>\n",
       "      <td>265593</td>\n",
       "      <td>200.0</td>\n",
       "      <td>265300</td>\n",
       "      <td>265400.2</td>\n",
       "    </tr>\n",
       "    <tr>\n",
       "      <th>2</th>\n",
       "      <td>/home/pheenix/Development/seqdata/test_data/battery/valid/Sim_RealisticCycle3.hdf5</td>\n",
       "      <td>265593</td>\n",
       "      <td>200.0</td>\n",
       "      <td>265400</td>\n",
       "      <td>265500.2</td>\n",
       "    </tr>\n",
       "  </tbody>\n",
       "</table>\n",
       "<p>7966 rows × 5 columns</p>\n",
       "</div>"
      ],
      "text/plain": [
       "                                                                                  path  \\\n",
       "0   /home/pheenix/Development/seqdata/test_data/battery/train/Sim_RealisticCycle1.hdf5   \n",
       "0   /home/pheenix/Development/seqdata/test_data/battery/train/Sim_RealisticCycle1.hdf5   \n",
       "0   /home/pheenix/Development/seqdata/test_data/battery/train/Sim_RealisticCycle1.hdf5   \n",
       "0   /home/pheenix/Development/seqdata/test_data/battery/train/Sim_RealisticCycle1.hdf5   \n",
       "0   /home/pheenix/Development/seqdata/test_data/battery/train/Sim_RealisticCycle1.hdf5   \n",
       "..                                                                                 ...   \n",
       "2   /home/pheenix/Development/seqdata/test_data/battery/valid/Sim_RealisticCycle3.hdf5   \n",
       "2   /home/pheenix/Development/seqdata/test_data/battery/valid/Sim_RealisticCycle3.hdf5   \n",
       "2   /home/pheenix/Development/seqdata/test_data/battery/valid/Sim_RealisticCycle3.hdf5   \n",
       "2   /home/pheenix/Development/seqdata/test_data/battery/valid/Sim_RealisticCycle3.hdf5   \n",
       "2   /home/pheenix/Development/seqdata/test_data/battery/valid/Sim_RealisticCycle3.hdf5   \n",
       "\n",
       "    seq_len  src_fs   l_slc     r_slc  \n",
       "0    265607   200.0       0     100.2  \n",
       "0    265607   200.0     100     200.2  \n",
       "0    265607   200.0     200     300.2  \n",
       "0    265607   200.0     300     400.2  \n",
       "0    265607   200.0     400     500.2  \n",
       "..      ...     ...     ...       ...  \n",
       "2    265593   200.0  265000  265100.2  \n",
       "2    265593   200.0  265100  265200.2  \n",
       "2    265593   200.0  265200  265300.2  \n",
       "2    265593   200.0  265300  265400.2  \n",
       "2    265593   200.0  265400  265500.2  \n",
       "\n",
       "[7966 rows x 5 columns]"
      ]
     },
     "execution_count": null,
     "metadata": {},
     "output_type": "execute_result"
    }
   ],
   "source": [
    "%%time\n",
    "create_win = DfHDFCreateWindows(win_sz=100.2,stp_sz=100,clm='current')\n",
    "win_df = create_win(df)\n",
    "win_df"
   ]
  },
  {
   "cell_type": "code",
   "execution_count": null,
   "metadata": {},
   "outputs": [
    {
     "data": {
      "text/html": [
       "<div>\n",
       "<style scoped>\n",
       "    .dataframe tbody tr th:only-of-type {\n",
       "        vertical-align: middle;\n",
       "    }\n",
       "\n",
       "    .dataframe tbody tr th {\n",
       "        vertical-align: top;\n",
       "    }\n",
       "\n",
       "    .dataframe thead th {\n",
       "        text-align: right;\n",
       "    }\n",
       "</style>\n",
       "<table border=\"1\" class=\"dataframe\">\n",
       "  <thead>\n",
       "    <tr style=\"text-align: right;\">\n",
       "      <th></th>\n",
       "      <th>path</th>\n",
       "      <th>seq_len</th>\n",
       "      <th>src_fs</th>\n",
       "      <th>l_slc</th>\n",
       "      <th>r_slc</th>\n",
       "    </tr>\n",
       "  </thead>\n",
       "  <tbody>\n",
       "    <tr>\n",
       "      <th>0</th>\n",
       "      <td>/home/pheenix/Development/seqdata/test_data/battery/train/Sim_RealisticCycle1.hdf5</td>\n",
       "      <td>265607</td>\n",
       "      <td>200.0</td>\n",
       "      <td>0</td>\n",
       "      <td>265594</td>\n",
       "    </tr>\n",
       "    <tr>\n",
       "      <th>1</th>\n",
       "      <td>/home/pheenix/Development/seqdata/test_data/battery/train/Sim_RealisticCycle2.hdf5</td>\n",
       "      <td>265598</td>\n",
       "      <td>200.0</td>\n",
       "      <td>0</td>\n",
       "      <td>265594</td>\n",
       "    </tr>\n",
       "  </tbody>\n",
       "</table>\n",
       "</div>"
      ],
      "text/plain": [
       "                                                                                 path  \\\n",
       "0  /home/pheenix/Development/seqdata/test_data/battery/train/Sim_RealisticCycle1.hdf5   \n",
       "1  /home/pheenix/Development/seqdata/test_data/battery/train/Sim_RealisticCycle2.hdf5   \n",
       "\n",
       "   seq_len  src_fs  l_slc   r_slc  \n",
       "0   265607   200.0      0  265594  \n",
       "1   265598   200.0      0  265594  "
      ]
     },
     "execution_count": null,
     "metadata": {},
     "output_type": "execute_result"
    }
   ],
   "source": [
    "win_df = DfHDFCreateWindows(win_sz=265594,stp_sz=100,clm='current')(df)\n",
    "test_eq(len(win_df),2)\n",
    "win_df"
   ]
  },
  {
   "cell_type": "code",
   "execution_count": null,
   "metadata": {},
   "outputs": [],
   "source": [
    "test_eq(create_win(df_get_hdf_seq_len(df,'current')) , create_win(df))"
   ]
  },
  {
   "cell_type": "code",
   "execution_count": null,
   "metadata": {},
   "outputs": [
    {
     "data": {
      "text/html": [
       "<div>\n",
       "<style scoped>\n",
       "    .dataframe tbody tr th:only-of-type {\n",
       "        vertical-align: middle;\n",
       "    }\n",
       "\n",
       "    .dataframe tbody tr th {\n",
       "        vertical-align: top;\n",
       "    }\n",
       "\n",
       "    .dataframe thead th {\n",
       "        text-align: right;\n",
       "    }\n",
       "</style>\n",
       "<table border=\"1\" class=\"dataframe\">\n",
       "  <thead>\n",
       "    <tr style=\"text-align: right;\">\n",
       "      <th></th>\n",
       "      <th>path</th>\n",
       "      <th>seq_len</th>\n",
       "      <th>src_fs</th>\n",
       "      <th>targ_fs</th>\n",
       "      <th>resampling_factor</th>\n",
       "      <th>l_slc</th>\n",
       "      <th>r_slc</th>\n",
       "    </tr>\n",
       "  </thead>\n",
       "  <tbody>\n",
       "    <tr>\n",
       "      <th>0</th>\n",
       "      <td>/home/pheenix/Development/seqdata/test_data/battery/train/Sim_RealisticCycle1.hdf5</td>\n",
       "      <td>265607</td>\n",
       "      <td>200.0</td>\n",
       "      <td>0.1</td>\n",
       "      <td>0.0005</td>\n",
       "      <td>0</td>\n",
       "      <td>100.2</td>\n",
       "    </tr>\n",
       "    <tr>\n",
       "      <th>1</th>\n",
       "      <td>/home/pheenix/Development/seqdata/test_data/battery/train/Sim_RealisticCycle2.hdf5</td>\n",
       "      <td>265598</td>\n",
       "      <td>200.0</td>\n",
       "      <td>0.1</td>\n",
       "      <td>0.0005</td>\n",
       "      <td>0</td>\n",
       "      <td>100.2</td>\n",
       "    </tr>\n",
       "    <tr>\n",
       "      <th>2</th>\n",
       "      <td>/home/pheenix/Development/seqdata/test_data/battery/valid/Sim_RealisticCycle3.hdf5</td>\n",
       "      <td>265593</td>\n",
       "      <td>200.0</td>\n",
       "      <td>0.1</td>\n",
       "      <td>0.0005</td>\n",
       "      <td>0</td>\n",
       "      <td>100.2</td>\n",
       "    </tr>\n",
       "  </tbody>\n",
       "</table>\n",
       "</div>"
      ],
      "text/plain": [
       "                                                                                 path  \\\n",
       "0  /home/pheenix/Development/seqdata/test_data/battery/train/Sim_RealisticCycle1.hdf5   \n",
       "1  /home/pheenix/Development/seqdata/test_data/battery/train/Sim_RealisticCycle2.hdf5   \n",
       "2  /home/pheenix/Development/seqdata/test_data/battery/valid/Sim_RealisticCycle3.hdf5   \n",
       "\n",
       "   seq_len  src_fs  targ_fs  resampling_factor  l_slc  r_slc  \n",
       "0   265607   200.0      0.1             0.0005      0  100.2  \n",
       "1   265598   200.0      0.1             0.0005      0  100.2  \n",
       "2   265593   200.0      0.1             0.0005      0  100.2  "
      ]
     },
     "execution_count": null,
     "metadata": {},
     "output_type": "execute_result"
    }
   ],
   "source": [
    "res_win_df = create_win(DfResamplingFactor(200,[0.1])(df))\n",
    "res_win_df"
   ]
  },
  {
   "cell_type": "code",
   "execution_count": null,
   "metadata": {},
   "outputs": [],
   "source": [
    "test_eq(len(res_win_df),3)"
   ]
  },
  {
   "cell_type": "code",
   "execution_count": null,
   "metadata": {},
   "outputs": [
    {
     "data": {
      "text/html": [
       "<div>\n",
       "<style scoped>\n",
       "    .dataframe tbody tr th:only-of-type {\n",
       "        vertical-align: middle;\n",
       "    }\n",
       "\n",
       "    .dataframe tbody tr th {\n",
       "        vertical-align: top;\n",
       "    }\n",
       "\n",
       "    .dataframe thead th {\n",
       "        text-align: right;\n",
       "    }\n",
       "</style>\n",
       "<table border=\"1\" class=\"dataframe\">\n",
       "  <thead>\n",
       "    <tr style=\"text-align: right;\">\n",
       "      <th></th>\n",
       "      <th>path</th>\n",
       "      <th>seq_len</th>\n",
       "      <th>src_fs</th>\n",
       "      <th>l_slc</th>\n",
       "      <th>r_slc</th>\n",
       "    </tr>\n",
       "  </thead>\n",
       "  <tbody>\n",
       "    <tr>\n",
       "      <th>0</th>\n",
       "      <td>/home/pheenix/Development/seqdata/test_data/battery/train/Sim_RealisticCycle1.hdf5</td>\n",
       "      <td>265607</td>\n",
       "      <td>200.0</td>\n",
       "      <td>0</td>\n",
       "      <td>265594</td>\n",
       "    </tr>\n",
       "    <tr>\n",
       "      <th>1</th>\n",
       "      <td>/home/pheenix/Development/seqdata/test_data/battery/train/Sim_RealisticCycle2.hdf5</td>\n",
       "      <td>265598</td>\n",
       "      <td>200.0</td>\n",
       "      <td>0</td>\n",
       "      <td>265594</td>\n",
       "    </tr>\n",
       "  </tbody>\n",
       "</table>\n",
       "</div>"
      ],
      "text/plain": [
       "                                                                                 path  \\\n",
       "0  /home/pheenix/Development/seqdata/test_data/battery/train/Sim_RealisticCycle1.hdf5   \n",
       "1  /home/pheenix/Development/seqdata/test_data/battery/train/Sim_RealisticCycle2.hdf5   \n",
       "\n",
       "   seq_len  src_fs  l_slc   r_slc  \n",
       "0   265607   200.0      0  265594  \n",
       "1   265598   200.0      0  265594  "
      ]
     },
     "execution_count": null,
     "metadata": {},
     "output_type": "execute_result"
    }
   ],
   "source": [
    "query_expr = 'l_slc <= 200'\n",
    "filt_df = win_df.query(query_expr)\n",
    "filt_df"
   ]
  },
  {
   "cell_type": "code",
   "execution_count": null,
   "metadata": {},
   "outputs": [],
   "source": [
    "#| export\n",
    "def DfApplyFuncSplit(split_func,func1,func2):\n",
    "    '''apply two different functions on the dataframe, func1 on the first indices of split_func, func2 on the second indices.\n",
    "        Split_func is a Training, Validation split function'''\n",
    "    def _inner(df):\n",
    "        (idxs1,idxs2) = split_func(df.path)\n",
    "        df1= func1(df.iloc[idxs1])\n",
    "        df2= func2(df.iloc[idxs2])\n",
    "        return pd.concat((df1,df2))\n",
    "    return _inner"
   ]
  },
  {
   "cell_type": "code",
   "execution_count": null,
   "metadata": {},
   "outputs": [
    {
     "data": {
      "text/html": [
       "<div>\n",
       "<style scoped>\n",
       "    .dataframe tbody tr th:only-of-type {\n",
       "        vertical-align: middle;\n",
       "    }\n",
       "\n",
       "    .dataframe tbody tr th {\n",
       "        vertical-align: top;\n",
       "    }\n",
       "\n",
       "    .dataframe thead th {\n",
       "        text-align: right;\n",
       "    }\n",
       "</style>\n",
       "<table border=\"1\" class=\"dataframe\">\n",
       "  <thead>\n",
       "    <tr style=\"text-align: right;\">\n",
       "      <th></th>\n",
       "      <th>path</th>\n",
       "      <th>seq_len</th>\n",
       "      <th>src_fs</th>\n",
       "      <th>l_slc</th>\n",
       "      <th>r_slc</th>\n",
       "    </tr>\n",
       "  </thead>\n",
       "  <tbody>\n",
       "    <tr>\n",
       "      <th>0</th>\n",
       "      <td>/home/pheenix/Development/seqdata/test_data/battery/train/Sim_RealisticCycle1.hdf5</td>\n",
       "      <td>265607</td>\n",
       "      <td>200.0</td>\n",
       "      <td>0</td>\n",
       "      <td>10000</td>\n",
       "    </tr>\n",
       "    <tr>\n",
       "      <th>0</th>\n",
       "      <td>/home/pheenix/Development/seqdata/test_data/battery/train/Sim_RealisticCycle1.hdf5</td>\n",
       "      <td>265607</td>\n",
       "      <td>200.0</td>\n",
       "      <td>1</td>\n",
       "      <td>10001</td>\n",
       "    </tr>\n",
       "    <tr>\n",
       "      <th>0</th>\n",
       "      <td>/home/pheenix/Development/seqdata/test_data/battery/train/Sim_RealisticCycle1.hdf5</td>\n",
       "      <td>265607</td>\n",
       "      <td>200.0</td>\n",
       "      <td>2</td>\n",
       "      <td>10002</td>\n",
       "    </tr>\n",
       "    <tr>\n",
       "      <th>0</th>\n",
       "      <td>/home/pheenix/Development/seqdata/test_data/battery/train/Sim_RealisticCycle1.hdf5</td>\n",
       "      <td>265607</td>\n",
       "      <td>200.0</td>\n",
       "      <td>3</td>\n",
       "      <td>10003</td>\n",
       "    </tr>\n",
       "    <tr>\n",
       "      <th>0</th>\n",
       "      <td>/home/pheenix/Development/seqdata/test_data/battery/train/Sim_RealisticCycle1.hdf5</td>\n",
       "      <td>265607</td>\n",
       "      <td>200.0</td>\n",
       "      <td>4</td>\n",
       "      <td>10004</td>\n",
       "    </tr>\n",
       "    <tr>\n",
       "      <th>...</th>\n",
       "      <td>...</td>\n",
       "      <td>...</td>\n",
       "      <td>...</td>\n",
       "      <td>...</td>\n",
       "      <td>...</td>\n",
       "    </tr>\n",
       "    <tr>\n",
       "      <th>2</th>\n",
       "      <td>/home/pheenix/Development/seqdata/test_data/battery/valid/Sim_RealisticCycle3.hdf5</td>\n",
       "      <td>265593</td>\n",
       "      <td>200.0</td>\n",
       "      <td>210000</td>\n",
       "      <td>220000</td>\n",
       "    </tr>\n",
       "    <tr>\n",
       "      <th>2</th>\n",
       "      <td>/home/pheenix/Development/seqdata/test_data/battery/valid/Sim_RealisticCycle3.hdf5</td>\n",
       "      <td>265593</td>\n",
       "      <td>200.0</td>\n",
       "      <td>220000</td>\n",
       "      <td>230000</td>\n",
       "    </tr>\n",
       "    <tr>\n",
       "      <th>2</th>\n",
       "      <td>/home/pheenix/Development/seqdata/test_data/battery/valid/Sim_RealisticCycle3.hdf5</td>\n",
       "      <td>265593</td>\n",
       "      <td>200.0</td>\n",
       "      <td>230000</td>\n",
       "      <td>240000</td>\n",
       "    </tr>\n",
       "    <tr>\n",
       "      <th>2</th>\n",
       "      <td>/home/pheenix/Development/seqdata/test_data/battery/valid/Sim_RealisticCycle3.hdf5</td>\n",
       "      <td>265593</td>\n",
       "      <td>200.0</td>\n",
       "      <td>240000</td>\n",
       "      <td>250000</td>\n",
       "    </tr>\n",
       "    <tr>\n",
       "      <th>2</th>\n",
       "      <td>/home/pheenix/Development/seqdata/test_data/battery/valid/Sim_RealisticCycle3.hdf5</td>\n",
       "      <td>265593</td>\n",
       "      <td>200.0</td>\n",
       "      <td>250000</td>\n",
       "      <td>260000</td>\n",
       "    </tr>\n",
       "  </tbody>\n",
       "</table>\n",
       "<p>255660 rows × 5 columns</p>\n",
       "</div>"
      ],
      "text/plain": [
       "                                                                                  path  \\\n",
       "0   /home/pheenix/Development/seqdata/test_data/battery/train/Sim_RealisticCycle1.hdf5   \n",
       "0   /home/pheenix/Development/seqdata/test_data/battery/train/Sim_RealisticCycle1.hdf5   \n",
       "0   /home/pheenix/Development/seqdata/test_data/battery/train/Sim_RealisticCycle1.hdf5   \n",
       "0   /home/pheenix/Development/seqdata/test_data/battery/train/Sim_RealisticCycle1.hdf5   \n",
       "0   /home/pheenix/Development/seqdata/test_data/battery/train/Sim_RealisticCycle1.hdf5   \n",
       "..                                                                                 ...   \n",
       "2   /home/pheenix/Development/seqdata/test_data/battery/valid/Sim_RealisticCycle3.hdf5   \n",
       "2   /home/pheenix/Development/seqdata/test_data/battery/valid/Sim_RealisticCycle3.hdf5   \n",
       "2   /home/pheenix/Development/seqdata/test_data/battery/valid/Sim_RealisticCycle3.hdf5   \n",
       "2   /home/pheenix/Development/seqdata/test_data/battery/valid/Sim_RealisticCycle3.hdf5   \n",
       "2   /home/pheenix/Development/seqdata/test_data/battery/valid/Sim_RealisticCycle3.hdf5   \n",
       "\n",
       "    seq_len  src_fs   l_slc   r_slc  \n",
       "0    265607   200.0       0   10000  \n",
       "0    265607   200.0       1   10001  \n",
       "0    265607   200.0       2   10002  \n",
       "0    265607   200.0       3   10003  \n",
       "0    265607   200.0       4   10004  \n",
       "..      ...     ...     ...     ...  \n",
       "2    265593   200.0  210000  220000  \n",
       "2    265593   200.0  220000  230000  \n",
       "2    265593   200.0  230000  240000  \n",
       "2    265593   200.0  240000  250000  \n",
       "2    265593   200.0  250000  260000  \n",
       "\n",
       "[255660 rows x 5 columns]"
      ]
     },
     "execution_count": null,
     "metadata": {},
     "output_type": "execute_result"
    }
   ],
   "source": [
    "create_win_split = DfApplyFuncSplit(\n",
    "    IndexSplitter([1,2]),\n",
    "    DfHDFCreateWindows(win_sz=10000,stp_sz=1,clm='current'),\n",
    "    DfHDFCreateWindows(win_sz=10000,stp_sz=10000,clm='current')\n",
    ")\n",
    "create_win_split(df)"
   ]
  },
  {
   "cell_type": "code",
   "execution_count": null,
   "metadata": {},
   "outputs": [],
   "source": [
    "#| export\n",
    "def DfFilterQuery(query):\n",
    "    def _inner(df):\n",
    "        return df.query(query)\n",
    "    return _inner"
   ]
  },
  {
   "cell_type": "code",
   "execution_count": null,
   "metadata": {},
   "outputs": [],
   "source": [
    "test_eq(DfFilterQuery(query_expr)(win_df),filt_df)"
   ]
  },
  {
   "cell_type": "code",
   "execution_count": null,
   "metadata": {},
   "outputs": [
    {
     "name": "stdout",
     "output_type": "stream",
     "text": [
      "CPU times: user 49.6 ms, sys: 0 ns, total: 49.6 ms\n",
      "Wall time: 49.2 ms\n"
     ]
    },
    {
     "data": {
      "text/plain": [
       "[{'path': '/home/pheenix/Development/seqdata/test_data/battery/train/Sim_RealisticCycle1.hdf5',\n",
       "  'valid': False,\n",
       "  'l_slc': 0,\n",
       "  'r_slc': 101},\n",
       " {'path': '/home/pheenix/Development/seqdata/test_data/battery/train/Sim_RealisticCycle1.hdf5',\n",
       "  'valid': False,\n",
       "  'l_slc': 10,\n",
       "  'r_slc': 111},\n",
       " {'path': '/home/pheenix/Development/seqdata/test_data/battery/train/Sim_RealisticCycle1.hdf5',\n",
       "  'valid': False,\n",
       "  'l_slc': 20,\n",
       "  'r_slc': 121},\n",
       " {'path': '/home/pheenix/Development/seqdata/test_data/battery/train/Sim_RealisticCycle1.hdf5',\n",
       "  'valid': False,\n",
       "  'l_slc': 30,\n",
       "  'r_slc': 131},\n",
       " {'path': '/home/pheenix/Development/seqdata/test_data/battery/train/Sim_RealisticCycle1.hdf5',\n",
       "  'valid': False,\n",
       "  'l_slc': 40,\n",
       "  'r_slc': 141}]"
      ]
     },
     "execution_count": null,
     "metadata": {},
     "output_type": "execute_result"
    }
   ],
   "source": [
    "%%time\n",
    "tfm_src = CreateDict([ValidClmContains(['valid']),DfHDFCreateWindows(win_sz=100+1,stp_sz=10,clm='current')])\n",
    "src_dicts = tfm_src(hdf_files)\n",
    "src_dicts[:5]"
   ]
  },
  {
   "cell_type": "code",
   "execution_count": null,
   "metadata": {},
   "outputs": [],
   "source": [
    "#| export\n",
    "def DfDropClmExcept(clms = ['path','l_slc','r_slc','p_sample','resampling_factor']):\n",
    "    '''drop unused dataframe columns as a last optional step to accelerate dictionary conversion'''\n",
    "    def _inner(df):\n",
    "        return df[[c for c in clms if c in df]]\n",
    "    return _inner"
   ]
  },
  {
   "attachments": {},
   "cell_type": "markdown",
   "metadata": {},
   "source": [
    "## 2. Convert Paths to Sequence Objects\n",
    "Der Pfad wird unter Angabe der Spaltennamen in Sequenzen und Skalare Werte umgewandelt, um so am Ende ein 3-Tupel zu erhalten aus:\n",
    "- (Sequence, Scalar, Sequence) <-> (input,input,output)"
   ]
  },
  {
   "attachments": {},
   "cell_type": "markdown",
   "metadata": {},
   "source": [
    "### 2.1 Extract sequential data from hdf5-files\n",
    "Two different functions, based on pandas df and on lists"
   ]
  },
  {
   "attachments": {},
   "cell_type": "markdown",
   "metadata": {},
   "source": [
    "#### 2.1.1 Shift time Series\n",
    "Sometimes we need to shift columns of a sequence by a specific value. Then we cant simply slice the array but have to handle each column individually. First a performance test has to be made."
   ]
  },
  {
   "cell_type": "code",
   "execution_count": null,
   "metadata": {},
   "outputs": [],
   "source": [
    "#| export\n",
    "def calc_shift_offsets(clm_shift):\n",
    "    clm_shift = array(clm_shift)\n",
    "    l_offs = -min(clm_shift.min(),0)\n",
    "    r_offs = -max(clm_shift.max(),0)\n",
    "    l_shift = clm_shift+l_offs\n",
    "    r_shift = clm_shift+r_offs\n",
    "    dim_red = l_offs-r_offs\n",
    "    return l_shift,r_shift,dim_red"
   ]
  },
  {
   "cell_type": "code",
   "execution_count": null,
   "metadata": {},
   "outputs": [
    {
     "data": {
      "text/plain": [
       "(array([1, 1, 0, 2]), array([-1, -1, -2,  0]), 2)"
      ]
     },
     "execution_count": null,
     "metadata": {},
     "output_type": "execute_result"
    }
   ],
   "source": [
    "shft = [0,0,-1,1]\n",
    "calc_shift_offsets(shft)"
   ]
  },
  {
   "attachments": {},
   "cell_type": "markdown",
   "metadata": {},
   "source": [
    "both shifting methods have their own performance character. vstack needs double the time on short sequences, while the creation of a seperate array with copy becomes worse starting at around 5000 elements"
   ]
  },
  {
   "cell_type": "code",
   "execution_count": null,
   "metadata": {},
   "outputs": [],
   "source": [
    "# ta = array([[1,2,3]*2]*10000)"
   ]
  },
  {
   "cell_type": "code",
   "execution_count": null,
   "metadata": {},
   "outputs": [],
   "source": [
    "# %%timeit\n",
    "# y = np.vstack([ta[i:-ta.shape[1]+i,i] for i in range(ta.shape[1])]).T   "
   ]
  },
  {
   "cell_type": "code",
   "execution_count": null,
   "metadata": {},
   "outputs": [],
   "source": [
    "# %%timeit\n",
    "# x = np.zeros((ta.shape[0]-ta.shape[1],ta.shape[1]))\n",
    "# for i in range(ta.shape[1]):\n",
    "#     x[:,i] = ta[i:-ta.shape[1]+i,i]"
   ]
  },
  {
   "attachments": {},
   "cell_type": "markdown",
   "metadata": {},
   "source": [
    "#### 2.1.2 HDF2Sequence\n",
    "HDF5 performance is massively affected by the dtype of the signals. f4 (32 bit floating point) Numbers are faster to load and lead to smaller files then f8 numbers."
   ]
  },
  {
   "cell_type": "code",
   "execution_count": null,
   "metadata": {},
   "outputs": [],
   "source": [
    "#| export\n",
    "def running_mean(x, N):\n",
    "    cumsum = np.cumsum(np.insert(x, 0, 0,axis=0),axis=0) \n",
    "    return (cumsum[N:] - cumsum[:-N]) / float(N)"
   ]
  },
  {
   "cell_type": "code",
   "execution_count": null,
   "metadata": {},
   "outputs": [],
   "source": [
    "#| export\n",
    "def downsample_mean(x,N):\n",
    "    shp = x.shape\n",
    "    trunc = -(x.shape[0] % N)\n",
    "    trunc = trunc if trunc != 0 else None\n",
    "    return x[:trunc,:].reshape((-1,N,x.shape[-1])).mean(axis=1)"
   ]
  },
  {
   "cell_type": "code",
   "execution_count": null,
   "metadata": {},
   "outputs": [],
   "source": [
    "#| export\n",
    "from scipy.signal import butter, lfilter, lfilter_zi\n",
    "from scipy import signal\n",
    "def resample_interp(x,resampling_factor,sequence_first=True, lowpass_cut=1.0, upsample_cubic_cut = None):\n",
    "    '''signal resampling using linear or cubic interpolation\n",
    "    \n",
    "    x: signal to resample with shape: features x resampling_dimension or resampling_dimension x  features if sequence_first=True\n",
    "    resampling_factor: Factor > 0 that scales the signal\n",
    "    lowpass_cut: Upper boundary for resampling_factor that activates the lowpassfilter, low values exchange accuracy for performance, default is 0.7\n",
    "    upsample_cubic_cut: Lower boundary for resampling_factor that activates cubic interpolation at high upsampling values. \n",
    "                        Improves signal dynamics in exchange of performance. None deactivates cubic interpolation\n",
    "    '''\n",
    "    \n",
    "    if sequence_first:\n",
    "        x = x.T\n",
    "    \n",
    "    fs_n = resampling_factor\n",
    "    #if downsampling rate is too high, lowpass filter before interpolation\n",
    "    if fs_n < lowpass_cut:\n",
    "        b,a = butter(2, fs_n)\n",
    "        zi = lfilter_zi(b,a)*x[:,:1] #initialize filter with steady state at first time step value\n",
    "        x,_ = lfilter(b,a,x,axis=-1,zi=zi)\n",
    "\n",
    "#         sos = butter(2, fs_n*1.2,output='sos')\n",
    "# #         sos = signal.cheby2(2,20, fs_n,output='sos')\n",
    "# #         import pdb;pdb.set_trace()\n",
    "#         zi = np.swapaxes(signal.sosfilt_zi(sos)[...,None]*x[:,0],1,2)\n",
    "#         x,_ = signal.sosfilt(sos, x,axis=-1,zi=zi)\n",
    "        \n",
    "    x_int = tensor(x)[None,...]\n",
    "    targ_size = int(x.shape[-1]*fs_n)\n",
    "    \n",
    "#     if upsampling rate is too high, switch from linear to cubic interpolation\n",
    "    if upsample_cubic_cut is None or fs_n <= upsample_cubic_cut:\n",
    "        x = array(nn.functional.interpolate(x_int, size=targ_size, mode='linear',align_corners=False)[0])\n",
    "    else:\n",
    "        x = array(nn.functional.interpolate(x_int[...,None], size=[targ_size,1], mode='bicubic',align_corners=False)[0,...,0])\n",
    "#     x = array(x_int)[0]\n",
    "    \n",
    "    if sequence_first:\n",
    "        x = x.T\n",
    "    \n",
    "    return x"
   ]
  },
  {
   "cell_type": "code",
   "execution_count": null,
   "metadata": {},
   "outputs": [],
   "source": [
    "x = np.random.normal(size=(100000,9))\n",
    "test_eq(resample_interp(x,0.3).shape[0],30000)"
   ]
  },
  {
   "cell_type": "code",
   "execution_count": null,
   "metadata": {},
   "outputs": [],
   "source": [
    "# def plotFFT(buffer,sample_rate,label,fig=plt):\n",
    "#     xf,yf = calcFFT(buffer,sample_rate)\n",
    "#     fig.plot(xf, yf,label=label)\n",
    "    \n",
    "# def calcFFT(buffer,sample_rate):\n",
    "#     N = buffer.shape[0]\n",
    "#     T = 1.0 / sample_rate\n",
    "#     x = np.linspace(0.0, N*T, N)\n",
    "#     y = buffer\n",
    "#     yf = scipy.fft.fft(y)\n",
    "#     xf = np.linspace(0.0, 1.0/(2.0*T), N//2)\n",
    "#     return xf,2.0/N * np.abs(yf[:N//2])\n",
    "\n",
    "# src_fs= 200\n",
    "# n_fs = 0.9\n",
    "# plt.figure()\n",
    "# plotFFT(x[:,0],src_fs,'raw')\n",
    "# plotFFT(resample_interp(x,n_fs)[:,0],n_fs*src_fs,'filtered')\n",
    "# plt.legend()"
   ]
  },
  {
   "cell_type": "code",
   "execution_count": null,
   "metadata": {},
   "outputs": [],
   "source": [
    "#| export\n",
    "from scipy.signal import resample\n",
    "def hdf_extract_sequence(hdf_path,clms,dataset = None, l_slc = None, r_slc= None, resampling_factor=None, fs_idx =None,dt_idx =False,fast_resample=True):\n",
    "    '''\n",
    "    extracts a sequence with the shape [seq_len x num_features]\n",
    "    \n",
    "    hdf_path: file path of hdf file, may be a string or path type\n",
    "    clms: list of dataset names of sequences in hdf file\n",
    "    dataset: dataset root for clms. Useful for multiples sequences stored in one file.\n",
    "    l_slc: left boundary for extraction of a window of the whole sequence\n",
    "    r_slc: right boundary for extraction of a window of the whole sequence\n",
    "    resampling_factor: scaling factor for the sequence length, uses 'resample_interp' for resampling\n",
    "    fs_idx: clms list idx of fs entry in sequence. Will be scaled by resampling_factor after resampling\n",
    "    dt_idx: clms list idx of dt entry in sequence. Will be scaled by resampling_factor after resampling\n",
    "    fast_resample: if True, uses linear interpolation with anti-aliasing filter for faster resampling. Is less accurate than fft based resampling\n",
    "    '''\n",
    "\n",
    "    if resampling_factor is not None:\n",
    "        seq_len = r_slc-l_slc if l_slc is not None and r_slc is not None else None #calculate seq_len for later slicing, necesary because of rounding errors in resampling\n",
    "        if l_slc is not None: l_slc= math.floor(l_slc/resampling_factor)\n",
    "        if r_slc is not None: r_slc= math.ceil(r_slc/resampling_factor)\n",
    "\n",
    "    with h5py.File(hdf_path,'r') as f:\n",
    "        ds = f if dataset is None else f[dataset]\n",
    "        l_array = [(ds[n][l_slc:r_slc]) for n in clms]\n",
    "        seq = np.stack(l_array,axis=-1)\n",
    "\n",
    "    if resampling_factor is not None:\n",
    "        if fast_resample:\n",
    "            res_seq = resample_interp(seq,resampling_factor)\n",
    "        else:\n",
    "            res_seq = resample(seq,int(seq.shape[0]*resampling_factor),window=('kaiser', 14.0))\n",
    "        if fs_idx is not None: res_seq[:,fs_idx] = seq[0,fs_idx] * resampling_factor\n",
    "        if dt_idx is not None: res_seq[:,dt_idx] = seq[0,dt_idx] / resampling_factor\n",
    "        seq = res_seq\n",
    "        \n",
    "        if seq_len is not None: seq = seq[:seq_len] #cut the part of the sequence that is too long because of resampling rounding errors\n",
    "        \n",
    "    return seq"
   ]
  },
  {
   "cell_type": "code",
   "execution_count": null,
   "metadata": {},
   "outputs": [],
   "source": [
    "#| export\n",
    "class Memoize:\n",
    "    def __init__(self, fn):\n",
    "        self.fn = fn\n",
    "        self.memo = {}\n",
    "\n",
    "    def __call__(self, *args):\n",
    "        if args not in self.memo:\n",
    "            self.memo[args] = self.fn(*args)\n",
    "        return self.memo[args]"
   ]
  },
  {
   "cell_type": "code",
   "execution_count": null,
   "metadata": {},
   "outputs": [],
   "source": [
    "#| export\n",
    "class HDF2Sequence(Transform):\n",
    "    \n",
    "    def __init__(self, clm_names,clm_shift=None,truncate_sz=None,to_cls=noop,cached=False, fs_idx =None,dt_idx =None,fast_resample=True):\n",
    "        if not clm_shift is None:\n",
    "            assert len(clm_shift)==len(clm_names) and all(isinstance(n, int) for n in clm_shift)\n",
    "            self.l_shift,self.r_shift,_ = calc_shift_offsets(clm_shift)\n",
    "        \n",
    "        self._exseq = Memoize(self._hdf_extract_sequence) if cached else self._hdf_extract_sequence\n",
    "        \n",
    "        store_attr('clm_names,clm_shift,truncate_sz,to_cls,cached,fs_idx,dt_idx,fast_resample')\n",
    "        \n",
    "    def _hdf_extract_sequence(self,hdf_path,dataset = None, l_slc = None, r_slc= None, resampling_factor=None, fs_idx =None,dt_idx =None,fast_resample=True):\n",
    "        '''\n",
    "        extracts a sequence with the shape [seq_len x num_features]\n",
    "\n",
    "        hdf_path: file path of hdf file, may be a string or path type\n",
    "        clms: list of dataset names of sequences in hdf file\n",
    "        dataset: dataset root for clms. Useful for multiples sequences stored in one file.\n",
    "        l_slc: left boundary for extraction of a window of the whole sequence\n",
    "        r_slc: right boundary for extraction of a window of the whole sequence\n",
    "        resampling_factor: scaling factor for the sequence length, uses 'resample_interp' for resampling\n",
    "        fs_idx: clms list idx of fs entry in sequence. Will be scaled by resampling_factor after resampling\n",
    "        dt_idx: clms list idx of dt entry in sequence. Will be scaled by resampling_factor after resampling\n",
    "        fast_resample: if True, uses linear interpolation with anti-aliasing filter for faster resampling. Is less accurate than fft based resampling\n",
    "        '''\n",
    "\n",
    "        if resampling_factor is not None:\n",
    "            seq_len = r_slc-l_slc if l_slc is not None and r_slc is not None else None #calculate seq_len for later slicing, necesary because of rounding errors in resampling\n",
    "            if l_slc is not None: l_slc= math.floor(l_slc/resampling_factor)\n",
    "            if r_slc is not None: r_slc= math.ceil(r_slc/resampling_factor)\n",
    "\n",
    "        with h5py.File(hdf_path,'r') as f:\n",
    "            ds = f if dataset is None else f[dataset]\n",
    "            l_array = [(ds[n][l_slc:r_slc]) for n in self.clm_names]\n",
    "            seq = np.stack(l_array,axis=-1)\n",
    "\n",
    "        if resampling_factor is not None:\n",
    "            if fast_resample:\n",
    "                res_seq = resample_interp(seq,resampling_factor)\n",
    "            else:\n",
    "                res_seq = resample(seq,int(seq.shape[0]*resampling_factor),window=('kaiser', 14.0))\n",
    "            \n",
    "            if fs_idx is not None: res_seq[:,fs_idx] = seq[0,fs_idx] * resampling_factor\n",
    "            if dt_idx is not None: res_seq[:,dt_idx] = seq[0,dt_idx] / resampling_factor\n",
    "            seq = res_seq\n",
    "\n",
    "            if seq_len is not None: seq = seq[:seq_len] #cut the part of the sequence that is too long because of resampling rounding errors\n",
    "\n",
    "        return seq\n",
    "    \n",
    "    def _extract_dict_sequence(self,item):\n",
    "        if hasattr(item,'keys'):\n",
    "            path = item['path']\n",
    "            dataset = item['dataset'] if 'dataset' in item else None\n",
    "            l_slc = item['l_slc'] if 'l_slc' in item else None\n",
    "            r_slc = item['r_slc'] if 'r_slc' in item else None\n",
    "            resampling_factor = item['resampling_factor'] if 'resampling_factor' in item else None\n",
    "\n",
    "            if self.cached:\n",
    "                seq = self._exseq(path,dataset,None,None,resampling_factor,self.fs_idx,self.dt_idx,self.fast_resample)[l_slc:r_slc]\n",
    "            else:\n",
    "                seq = self._exseq(path,dataset,l_slc,r_slc,resampling_factor,self.fs_idx,self.dt_idx,self.fast_resample)\n",
    "        else:\n",
    "            seq = self._exseq(str(item),None,None,None,None,None)\n",
    "\n",
    "        #shift clms of result by given value \n",
    "        if not self.clm_shift is None:\n",
    "            l_seq = seq.shape[0]\n",
    "            seq = np.stack([seq[self.l_shift[i]:l_seq+self.r_shift[i],i] for i in range(seq.shape[1])],axis=-1)\n",
    "            \n",
    "        if not self.truncate_sz is None:\n",
    "            seq = seq[truncate_sz:]\n",
    "        \n",
    "        #it is important to slice first and then do the class conversion\n",
    "#         return self.to_cls(seq.astype('f8'))#workaround for random bug, that mitigates convergence if the numpy array is an f4 array. Seems to make no sense because the result does not change. \n",
    "        return self.to_cls(seq)\n",
    "\n",
    "    def encodes(self, item)->None: \n",
    "        return self._extract_dict_sequence(item)"
   ]
  },
  {
   "cell_type": "code",
   "execution_count": null,
   "metadata": {},
   "outputs": [],
   "source": []
  },
  {
   "cell_type": "code",
   "execution_count": null,
   "metadata": {},
   "outputs": [
    {
     "data": {
      "text/plain": [
       "array([[ 0.       ,  4.1873503],\n",
       "       [-0.1      ,  4.18935  ],\n",
       "       [-0.1      ,  4.1896954],\n",
       "       ...,\n",
       "       [ 8.8388   ,  3.3932123],\n",
       "       [ 8.846    ,  3.3928714],\n",
       "       [ 8.8531   ,  3.3925302]], dtype=float32)"
      ]
     },
     "execution_count": null,
     "metadata": {},
     "output_type": "execute_result"
    }
   ],
   "source": [
    "# %%timeit\n",
    "hdf2seq = HDF2Sequence(['current','voltage'],cached=False)\n",
    "hdf2seq(hdf_files[0])"
   ]
  },
  {
   "cell_type": "code",
   "execution_count": null,
   "metadata": {},
   "outputs": [
    {
     "data": {
      "text/plain": [
       "array([[-0.1      ,  4.18935  ],\n",
       "       [-0.1      ,  4.1896954],\n",
       "       [-0.1      ,  4.190037 ],\n",
       "       ...,\n",
       "       [ 8.8388   ,  3.3932123],\n",
       "       [ 8.846    ,  3.3928714],\n",
       "       [ 8.8531   ,  3.3925302]], dtype=float32)"
      ]
     },
     "execution_count": null,
     "metadata": {},
     "output_type": "execute_result"
    }
   ],
   "source": [
    "hdf2seq = HDF2Sequence(['current','voltage'],clm_shift=[1,1])\n",
    "hdf2seq(hdf_files[0])"
   ]
  },
  {
   "cell_type": "code",
   "execution_count": null,
   "metadata": {},
   "outputs": [
    {
     "data": {
      "text/plain": [
       "array([[ 0.       ,  4.1873503],\n",
       "       [-0.1      ,  4.18935  ],\n",
       "       [-0.1      ,  4.1896954],\n",
       "       ...,\n",
       "       [ 8.8388   ,  3.3932123],\n",
       "       [ 8.846    ,  3.3928714],\n",
       "       [ 8.8531   ,  3.3925302]], dtype=float32)"
      ]
     },
     "execution_count": null,
     "metadata": {},
     "output_type": "execute_result"
    }
   ],
   "source": [
    "hdf2seq = HDF2Sequence(['current','voltage'],cached=False)\n",
    "hdf2seq(hdf_files[0])"
   ]
  },
  {
   "cell_type": "code",
   "execution_count": null,
   "metadata": {},
   "outputs": [
    {
     "data": {
      "text/plain": [
       "array([[ 0.       ,  4.1873503],\n",
       "       [-0.1      ,  4.18935  ],\n",
       "       [-0.1      ,  4.1896954],\n",
       "       ...,\n",
       "       [ 8.8388   ,  3.3932123],\n",
       "       [ 8.846    ,  3.3928714],\n",
       "       [ 8.8531   ,  3.3925302]], dtype=float32)"
      ]
     },
     "execution_count": null,
     "metadata": {},
     "output_type": "execute_result"
    }
   ],
   "source": [
    "# %%timeit\n",
    "hdf2seq(hdf_files[0])"
   ]
  },
  {
   "cell_type": "code",
   "execution_count": null,
   "metadata": {},
   "outputs": [],
   "source": [
    "hdf2seq = HDF2Sequence(['current','voltage'],cached=True)"
   ]
  },
  {
   "cell_type": "code",
   "execution_count": null,
   "metadata": {},
   "outputs": [
    {
     "data": {
      "text/plain": [
       "array([[ 0.       ,  4.1873503],\n",
       "       [-0.1      ,  4.18935  ],\n",
       "       [-0.1      ,  4.1896954],\n",
       "       ...,\n",
       "       [ 8.8388   ,  3.3932123],\n",
       "       [ 8.846    ,  3.3928714],\n",
       "       [ 8.8531   ,  3.3925302]], dtype=float32)"
      ]
     },
     "execution_count": null,
     "metadata": {},
     "output_type": "execute_result"
    }
   ],
   "source": [
    "# %%timeit\n",
    "hdf2seq(hdf_files[0])"
   ]
  },
  {
   "attachments": {},
   "cell_type": "markdown",
   "metadata": {},
   "source": [
    "Die Funktion lässt sich mittels Pipeline auf eine Liste von Quellobjekten (hier Pfade) anwenden "
   ]
  },
  {
   "cell_type": "code",
   "execution_count": null,
   "metadata": {},
   "outputs": [
    {
     "data": {
      "text/plain": [
       "(265607, 1)"
      ]
     },
     "execution_count": null,
     "metadata": {},
     "output_type": "execute_result"
    }
   ],
   "source": [
    "hdf2seq = HDF2Sequence(['current'])\n",
    "hdf2seq(hdf_files[0]).shape"
   ]
  },
  {
   "cell_type": "code",
   "execution_count": null,
   "metadata": {},
   "outputs": [],
   "source": [
    "pipe = Pipeline(HDF2Sequence(['current','voltage']))"
   ]
  },
  {
   "cell_type": "code",
   "execution_count": null,
   "metadata": {},
   "outputs": [],
   "source": [
    "# res_pipe = pipe(hdf_files)\n",
    "# len(res_pipe), res_pipe[0][0]"
   ]
  },
  {
   "cell_type": "code",
   "execution_count": null,
   "metadata": {},
   "outputs": [],
   "source": []
  },
  {
   "attachments": {},
   "cell_type": "markdown",
   "metadata": {},
   "source": [
    "#### Performance Test\n",
    "Caching stores the arrays for future use at every function call. Very usefull, especially for windows. Should allways be turned. Only explicitly turn it off when there is not enough memory for your data."
   ]
  },
  {
   "cell_type": "code",
   "execution_count": null,
   "metadata": {},
   "outputs": [],
   "source": [
    "tfms=[  [HDF2Sequence(['current','voltage'],cached=False)],\n",
    "        [HDF2Sequence(['voltage'],cached=False)]]\n",
    "dsrc = Datasets(src_dicts[:1000],tfms=tfms)"
   ]
  },
  {
   "cell_type": "code",
   "execution_count": null,
   "metadata": {},
   "outputs": [
    {
     "data": {
      "text/plain": [
       "1000"
      ]
     },
     "execution_count": null,
     "metadata": {},
     "output_type": "execute_result"
    }
   ],
   "source": [
    "len(dsrc)"
   ]
  },
  {
   "cell_type": "code",
   "execution_count": null,
   "metadata": {},
   "outputs": [],
   "source": [
    "# %%time\n",
    "# for x in dsrc:\n",
    "#     x"
   ]
  },
  {
   "cell_type": "code",
   "execution_count": null,
   "metadata": {},
   "outputs": [],
   "source": [
    "tfms=[  [HDF2Sequence(['current','voltage'],cached=True,clm_shift=[1,2])],\n",
    "        [HDF2Sequence(['voltage'],cached=True)]]\n",
    "dsrc = Datasets(src_dicts[:1000],tfms=tfms)"
   ]
  },
  {
   "cell_type": "code",
   "execution_count": null,
   "metadata": {},
   "outputs": [],
   "source": [
    "# %%timeit\n",
    "for x in dsrc:\n",
    "    x"
   ]
  },
  {
   "attachments": {},
   "cell_type": "markdown",
   "metadata": {},
   "source": [
    "Caching is way faster because every file gets loaded multiple times"
   ]
  },
  {
   "attachments": {},
   "cell_type": "markdown",
   "metadata": {},
   "source": [
    "### Extract Scalar data from hdf5-files"
   ]
  },
  {
   "cell_type": "code",
   "execution_count": null,
   "metadata": {},
   "outputs": [],
   "source": [
    "#| export\n",
    "def hdf2scalars(hdf_path,c_names,dataset = None):\n",
    "    with h5py.File(hdf_path,'r') as f:\n",
    "        ds = f if dataset is None else f[dataset]\n",
    "        l_array = [ds.attrs[n] for n in c_names]\n",
    "        scalars = np.stack(l_array,axis=-1)\n",
    "#         import pdb; pdb.set_trace()\n",
    "#         l_array = [f[n][:][:,None] for n in c_names]\n",
    "#         seq = np.concatenate(l_array,axis=1)\n",
    "        return scalars"
   ]
  },
  {
   "cell_type": "code",
   "execution_count": null,
   "metadata": {},
   "outputs": [],
   "source": [
    "# hdf2scalars('/mnt/data/sicwell/hdf5/Cycles/ch3/cycle00568.hdf5',['soc','temperature1'],dataset='measurement_00000')"
   ]
  },
  {
   "cell_type": "code",
   "execution_count": null,
   "metadata": {},
   "outputs": [],
   "source": [
    "#| export\n",
    "class HDF2Scalars(Transform):\n",
    "    \n",
    "    def __init__(self, clm_names,to_cls=noop):\n",
    "        store_attr('clm_names,to_cls')\n",
    "    \n",
    "    def _extract_dict_scalars(self,item):\n",
    "        if isinstance(item,dict):\n",
    "            path = item['path']\n",
    "            dataset = item['dataset'] if 'dataset' in item else None\n",
    "\n",
    "            seq = hdf2scalars(path,self.clm_names,dataset)\n",
    "        else:\n",
    "            seq = hdf2scalars(str(item),self.clm_names)\n",
    "        return self.to_cls(seq)\n",
    "\n",
    "    def encodes(self, item)->None: \n",
    "        return self._extract_dict_scalars(item)"
   ]
  },
  {
   "cell_type": "code",
   "execution_count": null,
   "metadata": {},
   "outputs": [],
   "source": [
    "# HDF2Scalars(['soc','temperature1'])({'path':'/mnt/data/sicwell/hdf5/Cycles/ch3/cycle00568.hdf5','dataset':'measurement_00000'})"
   ]
  },
  {
   "attachments": {},
   "cell_type": "markdown",
   "metadata": {},
   "source": [
    "### Extract Scalar from sequence"
   ]
  },
  {
   "cell_type": "code",
   "execution_count": null,
   "metadata": {},
   "outputs": [],
   "source": [
    "#| export\n",
    "class ScalarSequenceElement(Transform):\n",
    "    \n",
    "    def __init__(self, idx,to_cls=noop):\n",
    "        store_attr('idx,to_cls')\n",
    "\n",
    "    def encodes(self, item)->None: \n",
    "        return self.to_cls(item[self.idx])"
   ]
  },
  {
   "cell_type": "code",
   "execution_count": null,
   "metadata": {},
   "outputs": [
    {
     "data": {
      "text/plain": [
       "array([8.8531], dtype=float32)"
      ]
     },
     "execution_count": null,
     "metadata": {},
     "output_type": "execute_result"
    }
   ],
   "source": [
    "ScalarSequenceElement(-1)(hdf2seq(hdf_files[0]))"
   ]
  },
  {
   "attachments": {},
   "cell_type": "markdown",
   "metadata": {},
   "source": [
    "### 2.1 Datatypes for Sequences and Scalars"
   ]
  },
  {
   "cell_type": "code",
   "execution_count": null,
   "metadata": {},
   "outputs": [],
   "source": [
    "#| export\n",
    "class TensorSequences(TensorBase):#TensorBase\n",
    "#     def __init__(self,x,c_names=None, **kwargs):\n",
    "#         super().__init__()\n",
    "#         self.c_names = c_names\n",
    "    \n",
    "    def show(self, ctx=None, **kwargs):\n",
    "#         import pdb; pdb.set_trace()\n",
    "        ax = ctx\n",
    "        if ax is None: _,ax = plt.subplots()\n",
    "        ax.plot(self)\n",
    "#         if title is not None: ax.set_title(title)\n",
    "        return ax\n",
    "\n",
    "    @classmethod\n",
    "    @delegates(HDF2Sequence, keep=True)\n",
    "    def from_hdf(cls,clm_names,**kwargs):\n",
    "        return HDF2Sequence(clm_names,**kwargs)\n",
    "    \n",
    "class TensorSequencesInput(TensorSequences): pass\n",
    "class TensorSequencesOutput(TensorSequences): pass"
   ]
  },
  {
   "cell_type": "code",
   "execution_count": null,
   "metadata": {},
   "outputs": [
    {
     "data": {
      "text/plain": [
       "numpy.ndarray"
      ]
     },
     "execution_count": null,
     "metadata": {},
     "output_type": "execute_result"
    }
   ],
   "source": [
    "f = TensorSequencesInput.from_hdf(['current'])\n",
    "type(f(hdf_files[0]))"
   ]
  },
  {
   "cell_type": "code",
   "execution_count": null,
   "metadata": {},
   "outputs": [],
   "source": [
    "# TensorSequences(np.ones((30,2))).show()"
   ]
  },
  {
   "cell_type": "code",
   "execution_count": null,
   "metadata": {},
   "outputs": [],
   "source": [
    "#| export\n",
    "@Transform\n",
    "def toTensorSequencesInput(o): return TensorSequencesInput(o)\n",
    "@Transform\n",
    "def toTensorSequencesOutput(o): return TensorSequencesOutput(o)"
   ]
  },
  {
   "cell_type": "code",
   "execution_count": null,
   "metadata": {},
   "outputs": [],
   "source": [
    "#| export\n",
    "class TensorScalars(TensorBase):\n",
    "    @classmethod\n",
    "    @delegates(HDF2Scalars, keep=True)\n",
    "    def from_hdf(cls,clm_names,**kwargs):\n",
    "        return HDF2Scalars(clm_names,**kwargs)\n",
    "    \n",
    "    \n",
    "class TensorScalarsInput(TensorScalars): pass\n",
    "class TensorScalarsOutput(TensorScalars): pass\n"
   ]
  },
  {
   "attachments": {},
   "cell_type": "markdown",
   "metadata": {},
   "source": [
    "The tensor subclassing mechanism since pytorch 1.7 keeps the tensor type in tensor operations. Operations with different branches of subclasses of tensors require a implementation of '__torch_function__'.\n",
    "Fastai implements 'TensorBase.register_func' to mark methods that behave for the given types like the default torch operation.\n",
    "\n",
    "https://pytorch.org/docs/stable/notes/extending.html#extending-torch\n"
   ]
  },
  {
   "cell_type": "code",
   "execution_count": null,
   "metadata": {},
   "outputs": [],
   "source": [
    "#| export\n",
    "for f in torch.nn.functional.mse_loss,torch.nn.functional.huber_loss, Tensor.__getitem__, Tensor.__ne__,Tensor.__eq__,Tensor.add,Tensor.sub,Tensor.mul,Tensor.div,Tensor.__rsub__,Tensor.__radd__,Tensor.matmul,Tensor.bmm:\n",
    "    TensorBase.register_func(f,TensorSequences)\n",
    "    TensorBase.register_func(f,TensorScalars)"
   ]
  },
  {
   "cell_type": "code",
   "execution_count": null,
   "metadata": {},
   "outputs": [
    {
     "data": {
      "text/plain": [
       "TensorSequencesInput(0.1731)"
      ]
     },
     "execution_count": null,
     "metadata": {},
     "output_type": "execute_result"
    }
   ],
   "source": [
    "x1 = TensorSequencesInput(torch.rand((10,10)))\n",
    "x2 = TensorSequencesOutput(torch.rand((10,10)))\n",
    "torch.nn.functional.mse_loss(x1,x2)"
   ]
  },
  {
   "attachments": {},
   "cell_type": "markdown",
   "metadata": {},
   "source": [
    "## 3. Transformations\n"
   ]
  },
  {
   "attachments": {},
   "cell_type": "markdown",
   "metadata": {},
   "source": [
    "### 3.1 Sequence Slicing Transformation"
   ]
  },
  {
   "cell_type": "code",
   "execution_count": null,
   "metadata": {},
   "outputs": [],
   "source": [
    "#| export \n",
    "class SeqSlice(Transform):\n",
    "    '''Take a slice from an array-like object. Useful for e.g. shifting input and output'''\n",
    "    def __init__(self, l_slc=None,r_slc=None):\n",
    "        self.l_slc,self.r_slc = l_slc,r_slc\n",
    "        \n",
    "    def encodes(self, o): return o[self.l_slc:self.r_slc]"
   ]
  },
  {
   "cell_type": "code",
   "execution_count": null,
   "metadata": {},
   "outputs": [],
   "source": [
    "l_shift = SeqSlice(r_slc=-1)\n",
    "arr = np.ones((5))\n",
    "test_eq(l_shift(arr),arr[:-1])"
   ]
  },
  {
   "attachments": {},
   "cell_type": "markdown",
   "metadata": {},
   "source": [
    "### 3.2 Sequence Noise Injection Transformation"
   ]
  },
  {
   "cell_type": "code",
   "execution_count": null,
   "metadata": {},
   "outputs": [],
   "source": [
    "#| export\n",
    "class SeqNoiseInjection(RandTransform):\n",
    "    split_idx=0 #apply only to training data, if None it will be applied to all data\n",
    "    '''Adds normal distributed noise to the tensor sequence with seperate mean and std for every signal'''\n",
    "    def __init__(self, std=1e-1,mean=0.,p=1.0):\n",
    "        super().__init__(p=p)\n",
    "        self.std = tensor(std).type(torch.float)\n",
    "        self.mean = tensor(mean).type(torch.float)\n",
    "        \n",
    "    def encodes(self, o:TensorSequencesInput): \n",
    "        if o.device != self.mean.device:\n",
    "            self.std = self.std.to(o.device)\n",
    "            self.mean = self.mean.to(o.device)\n",
    "        #expand creates a view on a tensor and is therefore very fast compared to copy\n",
    "        return o+torch.normal(mean=self.mean.expand_as(o), \n",
    "                              std=self.std.expand_as(o))"
   ]
  },
  {
   "cell_type": "code",
   "execution_count": null,
   "metadata": {},
   "outputs": [
    {
     "data": {
      "text/plain": [
       "(TensorSequencesInput([[ 1.,  1.,  1.],\n",
       "                       [-1., -1., -1.]]),\n",
       " torch.Size([2, 3]))"
      ]
     },
     "execution_count": null,
     "metadata": {},
     "output_type": "execute_result"
    }
   ],
   "source": [
    "x = TensorSequencesInput(tensor([[1,1,1],[-1,-1,-1.0]]))\n",
    "ns_mean = tensor([0.,10.1,3.1])\n",
    "ns_std = tensor([1.,1.1,0.1])\n",
    "x,x.shape"
   ]
  },
  {
   "cell_type": "code",
   "execution_count": null,
   "metadata": {},
   "outputs": [
    {
     "data": {
      "text/plain": [
       "TensorSequencesInput([[ 1.,  1.,  1.],\n",
       "                      [-1., -1., -1.]])"
      ]
     },
     "execution_count": null,
     "metadata": {},
     "output_type": "execute_result"
    }
   ],
   "source": [
    "seq_noise = SeqNoiseInjection(std=ns_std,mean=ns_mean)\n",
    "seq_noise(x)"
   ]
  },
  {
   "cell_type": "code",
   "execution_count": null,
   "metadata": {},
   "outputs": [
    {
     "data": {
      "text/plain": [
       "TensorSequencesInput([[ 1.,  1.,  1.],\n",
       "                      [-1., -1., -1.]])"
      ]
     },
     "execution_count": null,
     "metadata": {},
     "output_type": "execute_result"
    }
   ],
   "source": [
    "seq_noise = SeqNoiseInjection(std=ns_std*10)\n",
    "seq_noise(x)"
   ]
  },
  {
   "cell_type": "code",
   "execution_count": null,
   "metadata": {},
   "outputs": [],
   "source": [
    "#| export\n",
    "class SeqNoiseInjection_Varying(RandTransform):\n",
    "    split_idx=0\n",
    "    '''Adds normal distributed noise to the tensor sequence with a normal distributed standard deviation for every application'''\n",
    "    def __init__(self, std_std=0.1,p=1.0):\n",
    "        super().__init__(p=p)\n",
    "        self.std_std = tensor(std_std).type(torch.float)\n",
    "        \n",
    "    def encodes(self, o:TensorSequencesInput): \n",
    "        if o.device != self.std_std.device:\n",
    "            self.std_std = self.std_std.to(o.device)\n",
    "            \n",
    "        #expand creates a view on a tensor and is therefore very fast compared to copy\n",
    "        std = torch.normal(mean=0,std=self.std_std).abs()\n",
    "        return o+torch.normal(mean=0,std=std.expand_as(o))"
   ]
  },
  {
   "cell_type": "code",
   "execution_count": null,
   "metadata": {},
   "outputs": [
    {
     "data": {
      "text/plain": [
       "(TensorSequencesInput([[0, 0, 0],\n",
       "                       [0, 0, 0]]),\n",
       " torch.Size([2, 3]))"
      ]
     },
     "execution_count": null,
     "metadata": {},
     "output_type": "execute_result"
    }
   ],
   "source": [
    "x = TensorSequencesInput(tensor([[0,0,0],[0,0,0]]))\n",
    "ns_std = tensor([1.,1.1,0.1])\n",
    "x,x.shape"
   ]
  },
  {
   "cell_type": "code",
   "execution_count": null,
   "metadata": {},
   "outputs": [
    {
     "data": {
      "text/plain": [
       "TensorSequencesInput([[0, 0, 0],\n",
       "                      [0, 0, 0]])"
      ]
     },
     "execution_count": null,
     "metadata": {},
     "output_type": "execute_result"
    }
   ],
   "source": [
    "seq_noise = SeqNoiseInjection_Varying(std_std=ns_std)\n",
    "seq_noise(x)"
   ]
  },
  {
   "cell_type": "code",
   "execution_count": null,
   "metadata": {},
   "outputs": [],
   "source": [
    "#| export\n",
    "class SeqNoiseInjection_Grouped(RandTransform):\n",
    "    split_idx=0\n",
    "    '''Adds normal distributed noise to the tensor sequence with a normal distributed standard deviation for every application, every group gert'''\n",
    "    def __init__(self, std_std,std_idx,p=1.0):\n",
    "        super().__init__(p=p)\n",
    "        self.std_std = tensor(std_std).type(torch.float)\n",
    "        self.std_idx = tensor(std_idx).type(torch.long)\n",
    "        \n",
    "    def encodes(self, o:TensorSequencesInput): \n",
    "        if o.device != self.std_std.device:\n",
    "            self.std_std = self.std_std.to(o.device)\n",
    "            \n",
    "        #expand creates a view on a tensor and is therefore very fast compared to copy\n",
    "        std = torch.normal(mean=0,std=self.std_std).abs()[self.std_idx]\n",
    "        return o+torch.normal(mean=0,std=std.expand_as(o))"
   ]
  },
  {
   "cell_type": "code",
   "execution_count": null,
   "metadata": {},
   "outputs": [
    {
     "data": {
      "text/plain": [
       "(TensorSequencesInput([[0, 0, 0],\n",
       "                       [0, 0, 0]]),\n",
       " torch.Size([2, 3]))"
      ]
     },
     "execution_count": null,
     "metadata": {},
     "output_type": "execute_result"
    }
   ],
   "source": [
    "x = TensorSequencesInput(tensor([[0,0,0],[0,0,0]]))\n",
    "ns_std = tensor([1.,1.1,0.1])\n",
    "x,x.shape"
   ]
  },
  {
   "cell_type": "code",
   "execution_count": null,
   "metadata": {},
   "outputs": [
    {
     "data": {
      "text/plain": [
       "TensorSequencesInput([[0, 0, 0],\n",
       "                      [0, 0, 0]])"
      ]
     },
     "execution_count": null,
     "metadata": {},
     "output_type": "execute_result"
    }
   ],
   "source": [
    "seq_noise = SeqNoiseInjection_Grouped(std_std=[3.,0],std_idx=[0,0,1])\n",
    "seq_noise(x)"
   ]
  },
  {
   "attachments": {},
   "cell_type": "markdown",
   "metadata": {},
   "source": [
    "### 3.2 Sequence Bias Injection Transformation"
   ]
  },
  {
   "cell_type": "code",
   "execution_count": null,
   "metadata": {},
   "outputs": [],
   "source": [
    "#| export\n",
    "class SeqBiasInjection(RandTransform):\n",
    "    split_idx=0\n",
    "    '''Adds a normal distributed offset to the tensor sequence with seperate mean and std for every signal'''\n",
    "    def __init__(self, std=1e-1,mean=0.,p=1.0):\n",
    "        super().__init__(p=p)\n",
    "        self.std = tensor(std).type(torch.float)\n",
    "        self.mean = tensor(mean).type(torch.float)\n",
    "        \n",
    "    def encodes(self, o:TensorSequencesInput): \n",
    "        if o.device != self.mean.device:\n",
    "            self.std = self.std.to(o.device)\n",
    "            self.mean = self.mean.to(o.device)\n",
    "        \n",
    "        #expand creates a view on a tensor and is therefore very fast compared to copy\n",
    "        mean=self.mean.repeat((o.shape[0],1,1)).expand((o.shape[0],1,o.shape[2]))\n",
    "        std= self.std.repeat((o.shape[0],1,1)).expand((o.shape[0],1,o.shape[2]))\n",
    "        n = torch.normal(mean=mean, std=std).expand_as(o)\n",
    "        return o+n"
   ]
  },
  {
   "cell_type": "code",
   "execution_count": null,
   "metadata": {},
   "outputs": [
    {
     "data": {
      "text/plain": [
       "TensorSequencesInput([[ 1., -1.]])"
      ]
     },
     "execution_count": null,
     "metadata": {},
     "output_type": "execute_result"
    }
   ],
   "source": [
    "x = TensorSequencesInput(tensor([[[1,1,1],[-1,-1,-1.0]]]))\n",
    "ns_mean = tensor([0.,10.1,3.1])\n",
    "ns_std = tensor([1.,1.1,0.1])\n",
    "seq_bias = SeqBiasInjection(std=ns_std,mean=ns_std)\n",
    "seq_bias(x)[...,0]"
   ]
  },
  {
   "cell_type": "code",
   "execution_count": null,
   "metadata": {},
   "outputs": [
    {
     "data": {
      "text/plain": [
       "tensor([1.0000, 1.1000, 0.1000])"
      ]
     },
     "execution_count": null,
     "metadata": {},
     "output_type": "execute_result"
    }
   ],
   "source": [
    "seq_bias.mean"
   ]
  },
  {
   "cell_type": "code",
   "execution_count": null,
   "metadata": {},
   "outputs": [
    {
     "data": {
      "text/plain": [
       "TensorSequencesInput([[[ 1.,  1.,  1.],\n",
       "                       [-1., -1., -1.]]])"
      ]
     },
     "execution_count": null,
     "metadata": {},
     "output_type": "execute_result"
    }
   ],
   "source": [
    "seq_bias = SeqBiasInjection(std=ns_std*10)\n",
    "seq_bias(x)"
   ]
  },
  {
   "attachments": {},
   "cell_type": "markdown",
   "metadata": {},
   "source": [
    "### 3.3 Normalization\n",
    "`Normalize` is programmed for `TensorImage` as an input tensor. It gets. At init the variable axes need to be chosen correspondingly to the shape of your tensor."
   ]
  },
  {
   "cell_type": "code",
   "execution_count": null,
   "metadata": {},
   "outputs": [],
   "source": [
    "#| export\n",
    "@Normalize\n",
    "def encodes(self, x:TensorSequencesInput): \n",
    "    if x.device != self.mean.device:\n",
    "        self.mean = self.mean.to(x.device)\n",
    "        self.std = self.std.to(x.device)\n",
    "    return (x-self.mean) / self.std\n",
    "\n",
    "@Normalize\n",
    "def decodes(self, x:TensorSequencesInput):\n",
    "    if x.device != self.mean.device:\n",
    "        self.mean = self.mean.to(x.device)\n",
    "        self.std = self.std.to(x.device)\n",
    "    return (x*self.std + self.mean)"
   ]
  },
  {
   "cell_type": "code",
   "execution_count": null,
   "metadata": {},
   "outputs": [
    {
     "data": {
      "text/plain": [
       "(TensorSequencesInput([[[ 1.,  1.,  1.],\n",
       "                        [-1., -1., -1.]]]),\n",
       " TensorSequencesInput([[[  1.0000,  -8.2727, -21.0000],\n",
       "                        [ -1.0000, -10.0909, -41.0000]]]))"
      ]
     },
     "execution_count": null,
     "metadata": {},
     "output_type": "execute_result"
    }
   ],
   "source": [
    "norm = Normalize.from_stats(mean=ns_mean,std=ns_std,dim=1,ndim=2,cuda=False)\n",
    "x,norm(x)"
   ]
  },
  {
   "attachments": {},
   "cell_type": "markdown",
   "metadata": {},
   "source": [
    "## 4. Split in Training, Validation\n",
    "Splitting kann anhand von vorher bekannten Indizes, dem Dateipfad oder anderen allgemeinen Funktion durchgeführt werden.\n",
    "\n",
    "Splitting innerhalb einer Sequenzen sollte in der Praxis nur dann geschehen wenn eine einzige Sequenz vorhanden ist. Diese kann dann vorher manuell geteilt werden.\n"
   ]
  },
  {
   "attachments": {},
   "cell_type": "markdown",
   "metadata": {},
   "source": [
    "### 4.1 Splitting mit vorgegebenem Index"
   ]
  },
  {
   "cell_type": "code",
   "execution_count": null,
   "metadata": {},
   "outputs": [],
   "source": [
    "splitter = IndexSplitter([1,2])\n",
    "test_eq(splitter(hdf_files),[[0],[1,2]])"
   ]
  },
  {
   "attachments": {},
   "cell_type": "markdown",
   "metadata": {},
   "source": [
    "### 4.2 Splitting mit allgemeiner Funktion\n",
    "Items, bei denen die definierte Funktion `True` zurück gibt, werden den Validierungsdatensatz zugeordnet, der Rest dem Training. In diesem Fall wird nach dem Übergeordneten Ordnernamen gesucht."
   ]
  },
  {
   "cell_type": "code",
   "execution_count": null,
   "metadata": {},
   "outputs": [],
   "source": [
    "splitter = FuncSplitter(lambda o: Path(o).parent.name == 'valid')\n",
    "test_eq(splitter(hdf_files),[[0,1],[2]])"
   ]
  },
  {
   "attachments": {},
   "cell_type": "markdown",
   "metadata": {},
   "source": [
    "### 4.3 Splitting anhand des Parent-Folders\n",
    "Splitter, der Explizit Training und Validierungsordner den Datensätzen zuordnet"
   ]
  },
  {
   "cell_type": "code",
   "execution_count": null,
   "metadata": {},
   "outputs": [],
   "source": [
    "#| export\n",
    "def _parent_idxs(items, name): return mask2idxs(Path(o).parent.name == name for o in items)\n",
    "\n",
    "def ParentSplitter(train_name='train', valid_name='valid'):\n",
    "    \"Split `items` from the parent folder names (`train_name` and `valid_name`).\"\n",
    "    def _inner(o, **kwargs):\n",
    "        return _parent_idxs(o, train_name),_parent_idxs(o, valid_name)\n",
    "    return _inner"
   ]
  },
  {
   "cell_type": "code",
   "execution_count": null,
   "metadata": {},
   "outputs": [],
   "source": [
    "splitter = ParentSplitter()\n",
    "test_eq(splitter(hdf_files),[[0,1],[2]])"
   ]
  },
  {
   "attachments": {},
   "cell_type": "markdown",
   "metadata": {},
   "source": [
    "### 4.4 Percentage Splitter"
   ]
  },
  {
   "cell_type": "code",
   "execution_count": null,
   "metadata": {},
   "outputs": [],
   "source": [
    "#| export\n",
    "def PercentageSplitter(pct=0.8):\n",
    "    \"Split `items` in order in relative quantity.\"\n",
    "    def _inner(o, **kwargs):\n",
    "        split_idx=int(len(o)*pct)\n",
    "        return L(range(split_idx)),L(range(split_idx,len(o)))\n",
    "    return _inner"
   ]
  },
  {
   "cell_type": "code",
   "execution_count": null,
   "metadata": {},
   "outputs": [],
   "source": [
    "splitter = PercentageSplitter(0.7)\n",
    "test_eq(splitter(hdf_files),[[0,1],[2]])"
   ]
  },
  {
   "attachments": {},
   "cell_type": "markdown",
   "metadata": {},
   "source": [
    "### 4.5 Apply To Dictionary\n",
    "In Case of the Datablock API your items are a list of dictionaries. If you want to apply a Splitter to the path stored within you need a wrapper function."
   ]
  },
  {
   "cell_type": "code",
   "execution_count": null,
   "metadata": {},
   "outputs": [],
   "source": [
    "#| export\n",
    "def ApplyToDict(fn,key='path'):\n",
    "    return lambda x:fn([i[key] for i in x])"
   ]
  },
  {
   "attachments": {},
   "cell_type": "markdown",
   "metadata": {},
   "source": [
    "### 4.6 Valid Column\n",
    "Using the 'valid' column of the Dataframe that has been created by a transformation."
   ]
  },
  {
   "cell_type": "code",
   "execution_count": null,
   "metadata": {},
   "outputs": [],
   "source": [
    "#| export\n",
    "valid_clm_splitter =  FuncSplitter(lambda o:o['valid'])"
   ]
  },
  {
   "cell_type": "code",
   "execution_count": null,
   "metadata": {},
   "outputs": [
    {
     "data": {
      "text/plain": [
       "((#53101) [0,1,2,3,4,5,6,7,8,9...],\n",
       " (#26550) [53101,53102,53103,53104,53105,53106,53107,53108,53109,53110...])"
      ]
     },
     "execution_count": null,
     "metadata": {},
     "output_type": "execute_result"
    }
   ],
   "source": [
    "valid_clm_splitter(src_dicts)"
   ]
  },
  {
   "attachments": {},
   "cell_type": "markdown",
   "metadata": {},
   "source": [
    "## 5. Dataloaders Creation\n",
    "A Datasets combines all implemented components on item level."
   ]
  },
  {
   "cell_type": "code",
   "execution_count": null,
   "metadata": {},
   "outputs": [],
   "source": [
    "#| export\n",
    "def pad_sequence(batch,sorting = False):\n",
    "    '''collate_fn for padding of sequences of different lengths, use in before_batch of databunch, still quite slow'''\n",
    "    #takes list of tuples as input, returns list of tuples\n",
    "    sorted_batch = sorted(batch, key=lambda x: x[0].shape[0], reverse=True) if sorting else batch\n",
    "\n",
    "    pad_func = partial(torch.nn.utils.rnn.pad_sequence,batch_first=True)\n",
    "    padded_tensors = [pad_func([x[tup] for x in sorted_batch]) for tup in range(len(batch[0]))]\n",
    "    padded_list = [retain_types(tuple([tup[entry] for tup in padded_tensors]),batch[0]) for entry in range(len(batch))]\n",
    "    #retain types is important for decoding later back to source items\n",
    "#     import pdb; pdb.set_trace()\n",
    "    \n",
    "    return padded_list"
   ]
  },
  {
   "attachments": {},
   "cell_type": "markdown",
   "metadata": {},
   "source": [
    "### 5.1 Low-Level with Transforms"
   ]
  },
  {
   "cell_type": "code",
   "execution_count": null,
   "metadata": {},
   "outputs": [],
   "source": [
    "tfms=[  [HDF2Sequence(['current','voltage']),SeqSlice(l_slc=1),toTensorSequencesInput],\n",
    "        [HDF2Sequence(['voltage']),SeqSlice(r_slc=-1),toTensorSequencesOutput]]\n",
    "splits = splitter([x['path'] for x in src_dicts])\n",
    "dsrc = Datasets(src_dicts,tfms=tfms,splits=splits)"
   ]
  },
  {
   "cell_type": "code",
   "execution_count": null,
   "metadata": {},
   "outputs": [],
   "source": [
    "# %%timeit\n",
    "# dsrc[0]"
   ]
  },
  {
   "cell_type": "code",
   "execution_count": null,
   "metadata": {},
   "outputs": [
    {
     "data": {
      "text/plain": [
       "torch.Size([128, 100, 2])"
      ]
     },
     "execution_count": null,
     "metadata": {},
     "output_type": "execute_result"
    }
   ],
   "source": [
    "db = dsrc.dataloaders(bs=128,after_batch=[SeqNoiseInjection(std=[1.1,0.01]),Normalize(axes=[0,1])],before_batch=pad_sequence)\n",
    "db.one_batch()[0].shape"
   ]
  },
  {
   "attachments": {},
   "cell_type": "markdown",
   "metadata": {},
   "source": [
    "### 5.2 Mid-Level with Datablock API"
   ]
  },
  {
   "cell_type": "code",
   "execution_count": null,
   "metadata": {},
   "outputs": [],
   "source": [
    "#| export\n",
    "class SequenceBlock(TransformBlock):\n",
    "    def __init__(self, seq_extract,padding=False):\n",
    "        return super().__init__(type_tfms=[seq_extract],\n",
    "                                batch_tfms=[Normalize(axes=[0,1])],\n",
    "                                dls_kwargs={} if not padding else {'before_batch': pad_sequence})\n",
    "\n",
    "    @classmethod\n",
    "    @delegates(HDF2Sequence, keep=True)\n",
    "    def from_hdf(cls, clm_names, seq_cls=TensorSequencesInput,padding=False, **kwargs):\n",
    "        return cls(HDF2Sequence(clm_names,to_cls=seq_cls,**kwargs), padding)\n",
    "\n",
    "    @classmethod\n",
    "    def from_numpy(cls, seq_cls=TensorSequencesInput,padding=False, **kwargs):\n",
    "        return cls(ToTensor(enc=seq_cls), padding)"
   ]
  },
  {
   "cell_type": "code",
   "execution_count": null,
   "metadata": {},
   "outputs": [],
   "source": [
    "seq = DataBlock(blocks=(SequenceBlock.from_hdf(['current','voltage'],TensorSequencesInput,padding=True,cached=False),\n",
    "                        SequenceBlock.from_hdf(['voltage'],TensorSequencesOutput,cached=False)),\n",
    "                get_items=tfm_src,\n",
    "                splitter=ApplyToDict(ParentSplitter()))"
   ]
  },
  {
   "cell_type": "code",
   "execution_count": null,
   "metadata": {},
   "outputs": [],
   "source": [
    "dls = seq.dataloaders(hdf_files)"
   ]
  },
  {
   "cell_type": "code",
   "execution_count": null,
   "metadata": {},
   "outputs": [],
   "source": [
    "#| export\n",
    "class ScalarNormalize(DisplayedTransform):\n",
    "    def __init__(self, mean=None, std=None, axes=(0,)): store_attr()\n",
    "        \n",
    "    @classmethod\n",
    "    def from_stats(cls, mean, std, dim=1, ndim=4, cuda=True): return cls(*broadcast_vec(dim, ndim, mean, std, cuda=cuda))\n",
    "    \n",
    "    def setups(self, dl:DataLoader):\n",
    "        if self.mean is None or self.std is None:\n",
    "            b = dl.one_batch()\n",
    "            for x in b:\n",
    "                if isinstance(x,TensorScalarsInput):\n",
    "                    self.mean,self.std = x.mean(self.axes, keepdim=True),x.std(self.axes, keepdim=True)+1e-7\n",
    "                    return\n",
    "\n",
    "    def encodes(self, x:TensorScalarsInput): \n",
    "        if x.device != self.mean.device:\n",
    "            self.mean = self.mean.to(x.device)\n",
    "            self.std = self.std.to(x.device)\n",
    "        return (x-self.mean) / self.std\n",
    "    \n",
    "    def decodes(self, x:TensorScalarsInput):\n",
    "        if x.device != self.mean.device:\n",
    "            self.mean = self.mean.to(x.device)\n",
    "            self.std = self.std.to(x.device)\n",
    "        return (x*self.std + self.mean)\n",
    "\n",
    "class ScalarBlock(TransformBlock):\n",
    "    def __init__(self, scl_extract):\n",
    "        return super().__init__(type_tfms=[scl_extract],\n",
    "                                batch_tfms=[ScalarNormalize()])\n",
    "\n",
    "    @classmethod\n",
    "    @delegates(HDF2Scalars, keep=True)\n",
    "    def from_hdf(cls, clm_names, scl_cls=TensorScalarsInput, **kwargs):\n",
    "        return cls(HDF2Scalars(clm_names,to_cls=scl_cls,**kwargs))"
   ]
  },
  {
   "attachments": {},
   "cell_type": "markdown",
   "metadata": {},
   "source": [
    "### 5.3 Spectrogram-Datablock"
   ]
  },
  {
   "cell_type": "code",
   "execution_count": null,
   "metadata": {},
   "outputs": [],
   "source": [
    "#| export\n",
    "class TensorSpectrogram(TensorBase):\n",
    "    def show(self, ctx=None, ax=None, title=\"\", **kwargs):\n",
    "        ax = ifnone(ax, ctx)\n",
    "        if ax is None:\n",
    "            _, ax = plt.subplots()\n",
    "        ax.axis(False)\n",
    "        n_channels = self.shape[0]\n",
    "        for i, channel in enumerate(self):\n",
    "            ia = ax.inset_axes((i / n_channels, 0.2, 1 / n_channels, 0.7))\n",
    "#             ia = ax.inset_axes((i / n_channels, 0, 1 / n_channels, 1))\n",
    "    \n",
    "            ia.imshow(channel.cpu().numpy(),aspect ='auto',origin ='lower')\n",
    "            if i>0: ia.set_yticks([])\n",
    "            ia.set_title(f\"Channel {i}\")\n",
    "        ax.set_title(title)\n",
    "        return ax\n",
    "\n",
    "class TensorSpectrogramInput(TensorSpectrogram): pass\n",
    "class TensorSpectrogramOutput(TensorSpectrogram): pass"
   ]
  },
  {
   "cell_type": "code",
   "execution_count": null,
   "metadata": {},
   "outputs": [
    {
     "data": {
      "text/plain": [
       "torch.Size([2000, 1])"
      ]
     },
     "execution_count": null,
     "metadata": {},
     "output_type": "execute_result"
    }
   ],
   "source": [
    "seq_spec = TensorSpectrogramInput(HDF2Sequence(['current'],to_cls=TensorSpectrogramInput)._hdf_extract_sequence(hdf_files[0],r_slc=2000))\n",
    "seq_spec.shape"
   ]
  },
  {
   "cell_type": "code",
   "execution_count": null,
   "metadata": {},
   "outputs": [],
   "source": [
    "#| exporti\n",
    "def complex_norm(\n",
    "        complex_tensor: Tensor,\n",
    "        power: float = 1.0\n",
    ") -> Tensor:\n",
    "    r\"\"\"Compute the norm of complex tensor input.\n",
    "\n",
    "    Args:\n",
    "        complex_tensor (Tensor): Tensor shape of `(..., complex=2)`\n",
    "        power (float): Power of the norm. (Default: `1.0`).\n",
    "\n",
    "    Returns:\n",
    "        Tensor: Power of the normed input tensor. Shape of `(..., )`\n",
    "    \"\"\"\n",
    "    if power == 1.0:\n",
    "        return torch.norm(complex_tensor, 2, -1)\n",
    "    return torch.norm(complex_tensor, 2, -1).pow(power)"
   ]
  },
  {
   "cell_type": "code",
   "execution_count": null,
   "metadata": {},
   "outputs": [],
   "source": [
    "#| exporti\n",
    "def spectrogram(\n",
    "        waveform: Tensor,\n",
    "        pad: int,\n",
    "        window: Tensor,\n",
    "        n_fft: int,\n",
    "        hop_length: int,\n",
    "        win_length: int,\n",
    "        power: Optional[float],\n",
    "        normalized: bool\n",
    ") -> Tensor:\n",
    "    r\"\"\"Create a spectrogram or a batch of spectrograms from a raw audio signal.\n",
    "    The spectrogram can be either magnitude-only or complex.\n",
    "\n",
    "    Args:\n",
    "        waveform (Tensor): Tensor of audio of dimension (..., time)\n",
    "        pad (int): Two sided padding of signal\n",
    "        window (Tensor): Window tensor that is applied/multiplied to each frame/window\n",
    "        n_fft (int): Size of FFT\n",
    "        hop_length (int): Length of hop between STFT windows\n",
    "        win_length (int): Window size\n",
    "        power (float or None): Exponent for the magnitude spectrogram,\n",
    "            (must be > 0) e.g., 1 for energy, 2 for power, etc.\n",
    "            If None, then the complex spectrum is returned instead.\n",
    "        normalized (bool): Whether to normalize by magnitude after stft\n",
    "\n",
    "    Returns:\n",
    "        Tensor: Dimension (..., freq, time), freq is\n",
    "        ``n_fft // 2 + 1`` and ``n_fft`` is the number of\n",
    "        Fourier bins, and time is the number of window hops (n_frame).\n",
    "    \"\"\"\n",
    "\n",
    "    if pad > 0:\n",
    "        # TODO add \"with torch.no_grad():\" back when JIT supports it\n",
    "        waveform = torch.nn.functional.pad(waveform, (pad, pad), \"constant\")\n",
    "\n",
    "    # pack batch\n",
    "    shape = waveform.size()\n",
    "    waveform = waveform.view(-1, shape[-1])\n",
    "\n",
    "    # default values are consistent with librosa.core.spectrum._spectrogram\n",
    "    spec_f = torch.view_as_real(torch.stft(\n",
    "        waveform, n_fft, hop_length, win_length, window, True, \"reflect\", False, True,return_complex=True\n",
    "    ))\n",
    "\n",
    "    # unpack batch\n",
    "    spec_f = spec_f.view(shape[:-1] + spec_f.shape[-3:])\n",
    "\n",
    "    if normalized:\n",
    "        spec_f /= window.pow(2.).sum().sqrt()\n",
    "    if power is not None:\n",
    "        spec_f = complex_norm(spec_f, power=power)\n",
    "\n",
    "    return spec_f"
   ]
  },
  {
   "cell_type": "code",
   "execution_count": null,
   "metadata": {},
   "outputs": [],
   "source": [
    "#| exporti\n",
    "from typing import Callable\n",
    "\n",
    "class Spectrogram(torch.nn.Module):\n",
    "    r\"\"\"Create a spectrogram from a audio signal.\n",
    "\n",
    "    Args:\n",
    "        n_fft (int, optional): Size of FFT, creates ``n_fft // 2 + 1`` bins. (Default: ``400``)\n",
    "        win_length (int or None, optional): Window size. (Default: ``n_fft``)\n",
    "        hop_length (int or None, optional): Length of hop between STFT windows. (Default: ``win_length // 2``)\n",
    "        pad (int, optional): Two sided padding of signal. (Default: ``0``)\n",
    "        window_fn (Callable[..., Tensor], optional): A function to create a window tensor\n",
    "            that is applied/multiplied to each frame/window. (Default: ``torch.hann_window``)\n",
    "        power (float or None, optional): Exponent for the magnitude spectrogram,\n",
    "            (must be > 0) e.g., 1 for energy, 2 for power, etc.\n",
    "            If None, then the complex spectrum is returned instead. (Default: ``2``)\n",
    "        normalized (bool, optional): Whether to normalize by magnitude after stft. (Default: ``False``)\n",
    "        wkwargs (dict or None, optional): Arguments for window function. (Default: ``None``)\n",
    "    \"\"\"\n",
    "    __constants__ = ['n_fft', 'win_length', 'hop_length', 'pad', 'power', 'normalized']\n",
    "\n",
    "    def __init__(self,\n",
    "                 n_fft: int = 400,\n",
    "                 win_length: Optional[int] = None,\n",
    "                 hop_length: Optional[int] = None,\n",
    "                 pad: int = 0,\n",
    "                 window_fn: Callable[..., Tensor] = torch.hann_window,\n",
    "                 power: Optional[float] = 2.,\n",
    "                 normalized: bool = False,\n",
    "                 wkwargs: Optional[dict] = None) -> None:\n",
    "        super(Spectrogram, self).__init__()\n",
    "        self.n_fft = n_fft\n",
    "        # number of FFT bins. the returned STFT result will have n_fft // 2 + 1\n",
    "        # number of frequecies due to onesided=True in torch.stft\n",
    "        self.win_length = win_length if win_length is not None else n_fft\n",
    "        self.hop_length = hop_length if hop_length is not None else self.win_length // 2\n",
    "        window = window_fn(self.win_length) if wkwargs is None else window_fn(self.win_length, **wkwargs)\n",
    "        self.register_buffer('window', window)\n",
    "        self.pad = pad\n",
    "        self.power = power\n",
    "        self.normalized = normalized\n",
    "\n",
    "    def forward(self, waveform: Tensor) -> Tensor:\n",
    "        r\"\"\"\n",
    "        Args:\n",
    "            waveform (Tensor): Tensor of audio of dimension (..., time).\n",
    "\n",
    "        Returns:\n",
    "            Tensor: Dimension (..., freq, time), where freq is\n",
    "            ``n_fft // 2 + 1`` where ``n_fft`` is the number of\n",
    "            Fourier bins, and time is the number of window hops (n_frame).\n",
    "        \"\"\"\n",
    "        return spectrogram(waveform, self.pad, self.window, self.n_fft, self.hop_length,\n",
    "                             self.win_length, self.power, self.normalized)"
   ]
  },
  {
   "cell_type": "code",
   "execution_count": null,
   "metadata": {},
   "outputs": [],
   "source": [
    "#| export\n",
    "@delegates(Spectrogram, keep=True)\n",
    "class Sequence2Spectrogram(Transform):\n",
    "    '''calculates the FFT of a sequence'''\n",
    "    \n",
    "    def __init__(self,scaling='log',**kwargs): \n",
    "        self.scaling=scaling\n",
    "        self.tfm = Spectrogram(**kwargs)\n",
    "        \n",
    "    def encodes(self, o:TensorSpectrogram): \n",
    "        if o.device != self.tfm.window.device: self.tfm.window = self.tfm.window.to(o.device)\n",
    "#         import pdb;pdb.set_trace()\n",
    "        spec = self.tfm(o.transpose(-1,-2).contiguous())\n",
    "        if self.scaling == 'log': spec = torch.log10(spec + 1e-10)\n",
    "        return spec"
   ]
  },
  {
   "cell_type": "code",
   "execution_count": null,
   "metadata": {},
   "outputs": [],
   "source": [
    "#| export\n",
    "class SpectrogramBlock(TransformBlock):\n",
    "    def __init__(self, seq_extract,padding=False,n_fft=100,hop_length=None,normalized=False):\n",
    "        return super().__init__(type_tfms=[seq_extract],\n",
    "                                batch_tfms=[Sequence2Spectrogram(n_fft=n_fft,hop_length=hop_length,normalized=normalized)],\n",
    "                                dls_kwargs={} if not padding else {'before_batch': pad_sequence})\n",
    "\n",
    "    @classmethod\n",
    "    @delegates(HDF2Sequence, keep=True)\n",
    "    def from_hdf(cls, clm_names, seq_cls=TensorSpectrogramInput,padding=False,n_fft=100,hop_length=None,normalized=False, **kwargs):\n",
    "        return cls(HDF2Sequence(clm_names,to_cls=seq_cls,**kwargs), padding,n_fft=n_fft,hop_length=hop_length,normalized=normalized)"
   ]
  },
  {
   "cell_type": "code",
   "execution_count": null,
   "metadata": {},
   "outputs": [],
   "source": [
    "dls_spec = DataBlock(blocks=(SpectrogramBlock.from_hdf(['current','voltage'],n_fft=100,hop_length=10,normalized=True),\n",
    "                        SequenceBlock.from_hdf(['voltage'],TensorSequencesOutput)),\n",
    "                get_items= CreateDict([DfHDFCreateWindows(win_sz=2000+1,stp_sz=10,clm='current')]),\n",
    "                splitter=ApplyToDict(ParentSplitter())).dataloaders(hdf_files)"
   ]
  },
  {
   "cell_type": "code",
   "execution_count": null,
   "metadata": {},
   "outputs": [
    {
     "data": {
      "text/plain": [
       "torch.Size([64, 2, 51, 201])"
      ]
     },
     "execution_count": null,
     "metadata": {},
     "output_type": "execute_result"
    }
   ],
   "source": [
    "dls_spec.one_batch()[0].shape"
   ]
  },
  {
   "attachments": {},
   "cell_type": "markdown",
   "metadata": {},
   "source": [
    "## 6. Show Batches and Results"
   ]
  },
  {
   "cell_type": "code",
   "execution_count": null,
   "metadata": {},
   "outputs": [],
   "source": [
    "#| export\n",
    "def plot_sequence(axs,in_sig,targ_sig,out_sig=None,**kwargs):\n",
    "    n_targ = targ_sig.shape[1]\n",
    "    for j,ax in  enumerate(axs[:-1]):\n",
    "        ax.plot(targ_sig[:,j])\n",
    "        if out_sig is not None: \n",
    "            ax.plot(out_sig[:,j])\n",
    "            ax.legend(['y','ŷ'])\n",
    "            if 'ref' in kwargs:\n",
    "                ax.plot(kwargs['ref'][:,j]) \n",
    "        ax.label_outer()\n",
    "    axs[-1].plot(in_sig)"
   ]
  },
  {
   "cell_type": "code",
   "execution_count": null,
   "metadata": {},
   "outputs": [],
   "source": [
    "#| export\n",
    "def plot_seqs_single_figure(n_samples,n_targ,samples,plot_func,outs=None,**kwargs):\n",
    "    rows=max(1,((n_samples-1) // 3)+1)\n",
    "    cols=min(3,n_samples)\n",
    "    fig = plt.figure(figsize=(9,2*cols))\n",
    "    outer_grid = fig.add_gridspec(rows, cols)\n",
    "#     import pdb; pdb.set_trace()\n",
    "    for i in range(n_samples):\n",
    "        in_sig = samples[i][0]\n",
    "        targ_sig = samples[i][1]\n",
    "        if outs is not None: out_sig = outs[i][0]\n",
    "        inner_grid = outer_grid[i].subgridspec(n_targ+1, 1)\n",
    "        axs = [fig.add_subplot(inner_grid[j]) for j in range(n_targ+1)]\n",
    "        plot_func(axs,in_sig,targ_sig,out_sig=out_sig if outs is not None else None,**kwargs)\n",
    "    plt.tight_layout()"
   ]
  },
  {
   "cell_type": "code",
   "execution_count": null,
   "metadata": {},
   "outputs": [],
   "source": [
    "#| export\n",
    "def plot_seqs_multi_figures(n_samples,n_targ,samples,plot_func,outs=None,**kwargs):\n",
    "    for i in range(n_samples):\n",
    "        fig = plt.figure(figsize=(9,3))\n",
    "        axs = fig.subplots(nrows=n_targ+1,sharex=True)\n",
    "        in_sig = samples[i][0]\n",
    "        targ_sig = samples[i][1]\n",
    "        if outs is not None:  out_sig = outs[i][0]\n",
    "            \n",
    "        plot_func(axs,in_sig,targ_sig,out_sig=out_sig if outs is not None else None,**kwargs)\n",
    "        \n",
    "        plt.tight_layout()"
   ]
  },
  {
   "cell_type": "code",
   "execution_count": null,
   "metadata": {},
   "outputs": [],
   "source": [
    "#| export\n",
    "@typedispatch\n",
    "def show_batch(x:TensorSequences, y:TensorSequences, samples, ctxs=None, max_n=6, **kwargs):\n",
    "    n_samples = min(len(samples), max_n)\n",
    "    n_targ = samples[0][1].shape[1]\n",
    "    if n_samples > 3:\n",
    "        #if there are more then 3 samples to plot then put them in a single figure\n",
    "        plot_seqs_single_figure(n_samples,n_targ,samples,plot_sequence, **kwargs)\n",
    "    else:\n",
    "        #if there are less then 3 samples to plot then put each in its own figure\n",
    "        plot_seqs_multi_figures(n_samples,n_targ,samples,plot_sequence, **kwargs)\n",
    "    return ctxs"
   ]
  },
  {
   "cell_type": "code",
   "execution_count": null,
   "metadata": {},
   "outputs": [],
   "source": [
    "#| export\n",
    "@typedispatch\n",
    "def show_results(x:TensorSequences, y:TensorSequences, samples, outs, ctxs=None, max_n=2, **kwargs):\n",
    "    n_samples = min(len(samples), max_n)\n",
    "    n_targ = samples[0][1].shape[1]\n",
    "    if n_samples > 3:\n",
    "        #if there are more then 3 samples to plot then put them in a single figure\n",
    "        plot_seqs_single_figure(n_samples,n_targ,samples,plot_sequence,outs, **kwargs)\n",
    "    else:\n",
    "        #if there are less then 3 samples to plot then put each in its own figure\n",
    "        plot_seqs_multi_figures(n_samples,n_targ,samples,plot_sequence,outs, **kwargs)\n",
    "    return ctxs"
   ]
  },
  {
   "cell_type": "code",
   "execution_count": null,
   "metadata": {},
   "outputs": [
    {
     "data": {
      "application/vnd.jupyter.widget-view+json": {
       "model_id": "b769a6ab0fde42e5868535682602ab00",
       "version_major": 2,
       "version_minor": 0
      },
      "image/png": "[encoded data removed]",
      "text/html": [
       "\n",
       "            <div style=\"display: inline-block;\">\n",
       "                <div class=\"jupyter-widgets widget-label\" style=\"text-align: center;\">\n",
       "                    Figure\n",
       "                </div>\n",
       "                <img src='data:image/png;base64,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' width=900.0/>\n",
       "            </div>\n",
       "        "
      ],
      "text/plain": [
       "Canvas(toolbar=Toolbar(toolitems=[('Home', 'Reset original view', 'home', 'home'), ('Back', 'Back to previous …"
      ]
     },
     "metadata": {},
     "output_type": "display_data"
    }
   ],
   "source": [
    "dls.show_batch()"
   ]
  },
  {
   "cell_type": "code",
   "execution_count": null,
   "metadata": {},
   "outputs": [],
   "source": [
    "#| include: false\n",
    "import nbdev; nbdev.nbdev_export()"
   ]
  },
  {
   "cell_type": "code",
   "execution_count": null,
   "metadata": {},
   "outputs": [],
   "source": []
  },
  {
   "cell_type": "code",
   "execution_count": null,
   "metadata": {},
   "outputs": [],
   "source": []
  }
 ],
 "metadata": {
  "kernelspec": {
   "display_name": "python3",
   "language": "python",
   "name": "python3"
  }
 },
 "nbformat": 4,
 "nbformat_minor": 4
}
