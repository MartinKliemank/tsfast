{
 "cells": [
  {
   "cell_type": "raw",
   "metadata": {},
   "source": [
    "---\n",
    "description: Corefunctionality for data preparation of sequential data for pytorch,\n",
    "  fastai models\n",
    "output-file: core.html\n",
    "title: Corefunctions\n",
    "\n",
    "---\n",
    "\n"
   ]
  },
  {
   "cell_type": "code",
   "execution_count": null,
   "metadata": {},
   "outputs": [],
   "source": [
    "#| default_exp core\n",
    "#| default_cls_lvl 3"
   ]
  },
  {
   "cell_type": "code",
   "execution_count": null,
   "metadata": {},
   "outputs": [],
   "source": [
    "#| include: false\n",
    "# %load_ext line_profiler\n",
    "%matplotlib widget"
   ]
  },
  {
   "attachments": {},
   "cell_type": "markdown",
   "metadata": {},
   "source": [
    "# Application Structure\n",
    "The data will be extracted and prepared via transforms. Those are grouped in:\n",
    "- Type Transforms: Those extraxt the needed components from the source items, like input sequences or target scalar values. The work on single tensors.\n",
    "- Item Transforms: Those Transforms may work on tuple level and therefore may process relationships between input and output.\n",
    "- Batch Transform: Those transforms work on batch level. They receive batched tensors and may apply lazy transforms like normalization very effeciently.\n",
    "\n",
    "An application example may look like the following:\n",
    "- sourceitems: \n",
    "    - path extraction with hdf5 file endings\n",
    "    - create pandas dataframe with information for type transforms, like slices\n",
    "    - filter items in pandas dataframe\n",
    "- type transforms: \n",
    "    - extract hdf5 input and output sequence\n",
    "    - create windows\n",
    "- item transforms: \n",
    "    - filter sequence by value\n",
    "    - shift output sequence by 1 element\n",
    "- batch transforms: \n",
    "    - noise injection\n",
    "    - normalization\n",
    "    "
   ]
  },
  {
   "cell_type": "code",
   "execution_count": null,
   "metadata": {},
   "outputs": [],
   "source": [
    "#| export\n",
    "from fastai.data.all import *\n",
    "from fastai.vision.augment import RandTransform\n",
    "import h5py"
   ]
  },
  {
   "cell_type": "code",
   "execution_count": null,
   "metadata": {},
   "outputs": [],
   "source": [
    "#| export\n",
    "def obj_in_lst(lst,cls):\n",
    "    '''retrieve first object of type cls from a list'''\n",
    "    return next(o for o in lst if type(o) is cls)"
   ]
  },
  {
   "cell_type": "code",
   "execution_count": null,
   "metadata": {},
   "outputs": [],
   "source": [
    "#| export\n",
    "def count_parameters(model):\n",
    "    '''retrieve number of trainable parameters of a model'''\n",
    "    return sum(p.numel() for p in model.parameters() if p.requires_grad)"
   ]
  },
  {
   "attachments": {},
   "cell_type": "markdown",
   "metadata": {},
   "source": [
    "## 1. Extract Source Items\n",
    "The file paths may be extracted with `get_files` of fastai2. `get_hdf_files` removes the need of writing the hdf5 file extension.\n",
    "\n",
    "Then a pandas dataframe may be created in case further information for the source items need to be stored like slices for the windowing function."
   ]
  },
  {
   "attachments": {},
   "cell_type": "markdown",
   "metadata": {},
   "source": [
    "### 1.1 Extract File Paths"
   ]
  },
  {
   "cell_type": "code",
   "execution_count": null,
   "metadata": {},
   "outputs": [
    {
     "data": {
      "text/plain": [
       "(3,\n",
       " Path('/home/pheenix/Development/seqdata/test_data/battery/train/Sim_RealisticCycle1.hdf5'))"
      ]
     },
     "execution_count": null,
     "metadata": {},
     "output_type": "execute_result"
    }
   ],
   "source": [
    "f_path = Path.cwd() / 'test_data/battery'\n",
    "hdf_files = get_files(f_path,extensions='.hdf5',recurse=True)\n",
    "len(hdf_files),hdf_files[0]"
   ]
  },
  {
   "cell_type": "code",
   "execution_count": null,
   "metadata": {},
   "outputs": [],
   "source": [
    "#| export\n",
    "hdf_extensions = ['.hdf5']\n",
    "def get_hdf_files(path,recurse=True, folders=None):\n",
    "    \"Get hdf5 files in `path` recursively, only in `folders`, if specified.\"\n",
    "    return get_files(path, extensions=hdf_extensions, recurse=recurse, folders=folders)"
   ]
  },
  {
   "cell_type": "code",
   "execution_count": null,
   "metadata": {},
   "outputs": [
    {
     "data": {
      "text/plain": [
       "(3,\n",
       " Path('/home/pheenix/Development/seqdata/test_data/battery/train/Sim_RealisticCycle1.hdf5'))"
      ]
     },
     "execution_count": null,
     "metadata": {},
     "output_type": "execute_result"
    }
   ],
   "source": [
    "hdf_files = get_hdf_files(f_path)\n",
    "len(hdf_files),hdf_files[0]"
   ]
  },
  {
   "attachments": {},
   "cell_type": "markdown",
   "metadata": {},
   "source": [
    "### 1.2 Create Source Dictionaries\n",
    "In order to extract mulitple realizations of one file with different modifications, we create a list of properties. Pandas Dataframes are to slow for iteration but very fast and convenient for creations. So after creation of the pandas Dataframe we convert it to a list of dictionaries."
   ]
  },
  {
   "cell_type": "code",
   "execution_count": null,
   "metadata": {},
   "outputs": [],
   "source": [
    "#| export\n",
    "def apply_df_tfms(src,pd_tfms = None):\n",
    "    '''Create Pandas Dataframe out of a list of items, with a list of df transforms applied'''\n",
    "    if type(src) is pd.DataFrame:\n",
    "        df = src\n",
    "    else:\n",
    "        df = pd.DataFrame(data=src.items,columns=['path'],dtype=str)\n",
    "    if pd_tfms is not None:\n",
    "        for t in pd_tfms:\n",
    "            df = t(df)\n",
    "    return df"
   ]
  },
  {
   "cell_type": "code",
   "execution_count": null,
   "metadata": {},
   "outputs": [
    {
     "data": {
      "text/html": [
       "<div>\n",
       "<style scoped>\n",
       "    .dataframe tbody tr th:only-of-type {\n",
       "        vertical-align: middle;\n",
       "    }\n",
       "\n",
       "    .dataframe tbody tr th {\n",
       "        vertical-align: top;\n",
       "    }\n",
       "\n",
       "    .dataframe thead th {\n",
       "        text-align: right;\n",
       "    }\n",
       "</style>\n",
       "<table border=\"1\" class=\"dataframe\">\n",
       "  <thead>\n",
       "    <tr style=\"text-align: right;\">\n",
       "      <th></th>\n",
       "      <th>path</th>\n",
       "    </tr>\n",
       "  </thead>\n",
       "  <tbody>\n",
       "    <tr>\n",
       "      <th>0</th>\n",
       "      <td>/home/pheenix/Development/seqdata/test_data/battery/train/Sim_RealisticCycle1.hdf5</td>\n",
       "    </tr>\n",
       "    <tr>\n",
       "      <th>1</th>\n",
       "      <td>/home/pheenix/Development/seqdata/test_data/battery/train/Sim_RealisticCycle2.hdf5</td>\n",
       "    </tr>\n",
       "    <tr>\n",
       "      <th>2</th>\n",
       "      <td>/home/pheenix/Development/seqdata/test_data/battery/valid/Sim_RealisticCycle3.hdf5</td>\n",
       "    </tr>\n",
       "  </tbody>\n",
       "</table>\n",
       "</div>"
      ],
      "text/plain": [
       "                                                                                 path\n",
       "0  /home/pheenix/Development/seqdata/test_data/battery/train/Sim_RealisticCycle1.hdf5\n",
       "1  /home/pheenix/Development/seqdata/test_data/battery/train/Sim_RealisticCycle2.hdf5\n",
       "2  /home/pheenix/Development/seqdata/test_data/battery/valid/Sim_RealisticCycle3.hdf5"
      ]
     },
     "execution_count": null,
     "metadata": {},
     "output_type": "execute_result"
    }
   ],
   "source": [
    "df = apply_df_tfms(hdf_files)\n",
    "df.head()"
   ]
  },
  {
   "cell_type": "code",
   "execution_count": null,
   "metadata": {},
   "outputs": [],
   "source": [
    "test_eq(apply_df_tfms(hdf_files),apply_df_tfms(apply_df_tfms(hdf_files)))"
   ]
  },
  {
   "cell_type": "code",
   "execution_count": null,
   "metadata": {},
   "outputs": [],
   "source": [
    "#| export\n",
    "def CreateDict(pd_tfms = None):\n",
    "    '''Create List of Dictionarys out of a list of items, with a list of df transforms applied'''\n",
    "    def _inner(src):\n",
    "        df = apply_df_tfms(src,pd_tfms)\n",
    "#         df_dict_list = df.to_dict(orient='records') native to_dict is slower than self written approach\n",
    "        df_values = df.values\n",
    "        df_dict = {name:list(df_values[:,i]) for (i,name) in enumerate(df.columns)}\n",
    "        df_dict_list = [{name: df_dict[name][i] for name in df_dict} for i in range(len(df))]\n",
    "        return df_dict_list\n",
    "    return _inner"
   ]
  },
  {
   "cell_type": "code",
   "execution_count": null,
   "metadata": {},
   "outputs": [
    {
     "data": {
      "text/plain": [
       "[{'path': '/home/pheenix/Development/seqdata/test_data/battery/train/Sim_RealisticCycle1.hdf5'},\n",
       " {'path': '/home/pheenix/Development/seqdata/test_data/battery/train/Sim_RealisticCycle2.hdf5'},\n",
       " {'path': '/home/pheenix/Development/seqdata/test_data/battery/valid/Sim_RealisticCycle3.hdf5'}]"
      ]
     },
     "execution_count": null,
     "metadata": {},
     "output_type": "execute_result"
    }
   ],
   "source": [
    "l_dict =CreateDict()(hdf_files)\n",
    "l_dict"
   ]
  },
  {
   "cell_type": "code",
   "execution_count": null,
   "metadata": {},
   "outputs": [],
   "source": [
    "#| export\n",
    "def ValidClmContains(lst_valid):\n",
    "    '''add validation column using a list of strings that are part of the validation frames'''\n",
    "    def _inner(df):\n",
    "        re_valid = '|'.join([re.escape(f) for f in lst_valid])\n",
    "        df['valid'] = df.path.str.contains(re_valid)\n",
    "        return df\n",
    "\n",
    "    return _inner"
   ]
  },
  {
   "cell_type": "code",
   "execution_count": null,
   "metadata": {},
   "outputs": [
    {
     "name": "stdout",
     "output_type": "stream",
     "text": [
      "CPU times: user 1.09 ms, sys: 107 µs, total: 1.19 ms\n",
      "Wall time: 1.19 ms\n"
     ]
    },
    {
     "data": {
      "text/plain": [
       "[{'path': '/home/pheenix/Development/seqdata/test_data/battery/train/Sim_RealisticCycle1.hdf5',\n",
       "  'valid': False},\n",
       " {'path': '/home/pheenix/Development/seqdata/test_data/battery/train/Sim_RealisticCycle2.hdf5',\n",
       "  'valid': False},\n",
       " {'path': '/home/pheenix/Development/seqdata/test_data/battery/valid/Sim_RealisticCycle3.hdf5',\n",
       "  'valid': True}]"
      ]
     },
     "execution_count": null,
     "metadata": {},
     "output_type": "execute_result"
    }
   ],
   "source": [
    "%%time\n",
    "lst_valid = ['valid']\n",
    "CreateDict([ValidClmContains(lst_valid)])(hdf_files)"
   ]
  },
  {
   "cell_type": "code",
   "execution_count": null,
   "metadata": {},
   "outputs": [],
   "source": [
    "#| export\n",
    "def ValidClmIs(lst_valid):\n",
    "    '''adds validation column using a list of validation filenames'''\n",
    "    def _inner(df):\n",
    "        df['valid'] = df.path.isin([str(f) for f in lst_valid])\n",
    "        return df\n",
    "\n",
    "    return _inner"
   ]
  },
  {
   "cell_type": "code",
   "execution_count": null,
   "metadata": {},
   "outputs": [
    {
     "name": "stdout",
     "output_type": "stream",
     "text": [
      "CPU times: user 720 µs, sys: 0 ns, total: 720 µs\n",
      "Wall time: 700 µs\n"
     ]
    },
    {
     "data": {
      "text/plain": [
       "[{'path': '/home/pheenix/Development/seqdata/test_data/battery/train/Sim_RealisticCycle1.hdf5',\n",
       "  'valid': False},\n",
       " {'path': '/home/pheenix/Development/seqdata/test_data/battery/train/Sim_RealisticCycle2.hdf5',\n",
       "  'valid': False},\n",
       " {'path': '/home/pheenix/Development/seqdata/test_data/battery/valid/Sim_RealisticCycle3.hdf5',\n",
       "  'valid': False}]"
      ]
     },
     "execution_count": null,
     "metadata": {},
     "output_type": "execute_result"
    }
   ],
   "source": [
    "%%time\n",
    "lst_valid = ['test_data/battery/train/Sim_RealisticCycle2.hdf5','test_data/battery/valid/Sim_RealisticCycle3.hdf5']\n",
    "CreateDict([ValidClmIs(lst_valid)])(hdf_files)"
   ]
  },
  {
   "cell_type": "code",
   "execution_count": null,
   "metadata": {},
   "outputs": [],
   "source": [
    "#| export\n",
    "def FilterClm(clm_name,func = lambda x:x):\n",
    "    '''adds validation column using a list of validation filenames'''\n",
    "    def _inner(df):\n",
    "        return df[func(df[clm_name])]\n",
    "\n",
    "    return _inner"
   ]
  },
  {
   "cell_type": "code",
   "execution_count": null,
   "metadata": {},
   "outputs": [
    {
     "data": {
      "text/plain": [
       "[]"
      ]
     },
     "execution_count": null,
     "metadata": {},
     "output_type": "execute_result"
    }
   ],
   "source": [
    "CreateDict([ValidClmIs(lst_valid),FilterClm('valid')])(hdf_files)"
   ]
  },
  {
   "cell_type": "code",
   "execution_count": null,
   "metadata": {},
   "outputs": [],
   "source": [
    "#| export\n",
    "def get_hdf_seq_len(df,clm,ds=None):\n",
    "    '''extract the sequence length of the dataset with the 'clm' name and 'f_path' path  '''\n",
    "    with h5py.File(df['path'],'r') as f:\n",
    "        ds = f if 'dataset' not in df else f[df['dataset']]\n",
    "        f_len = max(ds[clm].shape)\n",
    "    return f_len "
   ]
  },
  {
   "cell_type": "code",
   "execution_count": null,
   "metadata": {},
   "outputs": [],
   "source": [
    "#| export\n",
    "def df_get_hdf_seq_len(df,clm,ds=None):\n",
    "    '''extracts the sequence length of every file in advance to prepare repeated window extractions with 'DfHDFCreateWindows' '''\n",
    "#     df['seq_len'] = ([get_hdf_seq_len(row.path,clm) for (idx, row) in df.iterrows()])\n",
    "    df['seq_len'] = df.apply(lambda x: get_hdf_seq_len(x,clm),axis=1)\n",
    "    return df"
   ]
  },
  {
   "cell_type": "code",
   "execution_count": null,
   "metadata": {},
   "outputs": [],
   "source": [
    "#| export\n",
    "def DfHDFGetSeqLen(clm):\n",
    "    def _inner(df):\n",
    "        return df_get_hdf_seq_len(df,clm)\n",
    "    return _inner"
   ]
  },
  {
   "cell_type": "code",
   "execution_count": null,
   "metadata": {},
   "outputs": [
    {
     "data": {
      "text/html": [
       "<div>\n",
       "<style scoped>\n",
       "    .dataframe tbody tr th:only-of-type {\n",
       "        vertical-align: middle;\n",
       "    }\n",
       "\n",
       "    .dataframe tbody tr th {\n",
       "        vertical-align: top;\n",
       "    }\n",
       "\n",
       "    .dataframe thead th {\n",
       "        text-align: right;\n",
       "    }\n",
       "</style>\n",
       "<table border=\"1\" class=\"dataframe\">\n",
       "  <thead>\n",
       "    <tr style=\"text-align: right;\">\n",
       "      <th></th>\n",
       "      <th>path</th>\n",
       "      <th>seq_len</th>\n",
       "    </tr>\n",
       "  </thead>\n",
       "  <tbody>\n",
       "    <tr>\n",
       "      <th>0</th>\n",
       "      <td>/home/pheenix/Development/seqdata/test_data/battery/train/Sim_RealisticCycle1.hdf5</td>\n",
       "      <td>265607</td>\n",
       "    </tr>\n",
       "    <tr>\n",
       "      <th>1</th>\n",
       "      <td>/home/pheenix/Development/seqdata/test_data/battery/train/Sim_RealisticCycle2.hdf5</td>\n",
       "      <td>265598</td>\n",
       "    </tr>\n",
       "    <tr>\n",
       "      <th>2</th>\n",
       "      <td>/home/pheenix/Development/seqdata/test_data/battery/valid/Sim_RealisticCycle3.hdf5</td>\n",
       "      <td>265593</td>\n",
       "    </tr>\n",
       "  </tbody>\n",
       "</table>\n",
       "</div>"
      ],
      "text/plain": [
       "                                                                                 path  \\\n",
       "0  /home/pheenix/Development/seqdata/test_data/battery/train/Sim_RealisticCycle1.hdf5   \n",
       "1  /home/pheenix/Development/seqdata/test_data/battery/train/Sim_RealisticCycle2.hdf5   \n",
       "2  /home/pheenix/Development/seqdata/test_data/battery/valid/Sim_RealisticCycle3.hdf5   \n",
       "\n",
       "   seq_len  \n",
       "0   265607  \n",
       "1   265598  \n",
       "2   265593  "
      ]
     },
     "execution_count": null,
     "metadata": {},
     "output_type": "execute_result"
    }
   ],
   "source": [
    "df_get_hdf_seq_len(df,'current')"
   ]
  },
  {
   "cell_type": "code",
   "execution_count": null,
   "metadata": {},
   "outputs": [
    {
     "data": {
      "text/html": [
       "<div>\n",
       "<style scoped>\n",
       "    .dataframe tbody tr th:only-of-type {\n",
       "        vertical-align: middle;\n",
       "    }\n",
       "\n",
       "    .dataframe tbody tr th {\n",
       "        vertical-align: top;\n",
       "    }\n",
       "\n",
       "    .dataframe thead th {\n",
       "        text-align: right;\n",
       "    }\n",
       "</style>\n",
       "<table border=\"1\" class=\"dataframe\">\n",
       "  <thead>\n",
       "    <tr style=\"text-align: right;\">\n",
       "      <th></th>\n",
       "      <th>path</th>\n",
       "      <th>seq_len</th>\n",
       "    </tr>\n",
       "  </thead>\n",
       "  <tbody>\n",
       "    <tr>\n",
       "      <th>0</th>\n",
       "      <td>/home/pheenix/Development/seqdata/test_data/battery/train/Sim_RealisticCycle1.hdf5</td>\n",
       "      <td>265607</td>\n",
       "    </tr>\n",
       "    <tr>\n",
       "      <th>1</th>\n",
       "      <td>/home/pheenix/Development/seqdata/test_data/battery/train/Sim_RealisticCycle2.hdf5</td>\n",
       "      <td>265598</td>\n",
       "    </tr>\n",
       "    <tr>\n",
       "      <th>2</th>\n",
       "      <td>/home/pheenix/Development/seqdata/test_data/battery/valid/Sim_RealisticCycle3.hdf5</td>\n",
       "      <td>265593</td>\n",
       "    </tr>\n",
       "  </tbody>\n",
       "</table>\n",
       "</div>"
      ],
      "text/plain": [
       "                                                                                 path  \\\n",
       "0  /home/pheenix/Development/seqdata/test_data/battery/train/Sim_RealisticCycle1.hdf5   \n",
       "1  /home/pheenix/Development/seqdata/test_data/battery/train/Sim_RealisticCycle2.hdf5   \n",
       "2  /home/pheenix/Development/seqdata/test_data/battery/valid/Sim_RealisticCycle3.hdf5   \n",
       "\n",
       "   seq_len  \n",
       "0   265607  \n",
       "1   265598  \n",
       "2   265593  "
      ]
     },
     "execution_count": null,
     "metadata": {},
     "output_type": "execute_result"
    }
   ],
   "source": [
    "DfHDFGetSeqLen('current')(df)"
   ]
  },
  {
   "cell_type": "code",
   "execution_count": null,
   "metadata": {},
   "outputs": [],
   "source": [
    "#| export\n",
    "import numbers\n",
    "def DfResamplingFactor(src_fs,lst_targ_fs):\n",
    "    if not isinstance(src_fs, numbers.Number) and not type(src_fs) is str: \n",
    "        raise ValueError('src_fs has to be a column name or a fixed number')\n",
    "    \n",
    "    def _inner(df):\n",
    "        np_targ_fs = array(lst_targ_fs)\n",
    "        pd.options.mode.chained_assignment = None #every row is a reference so we need to suppress the warning messages while copying\n",
    "\n",
    "        #repeat entries for every target fs\n",
    "        res_df = df.iloc[np.repeat(np.arange(len(df)),len(np_targ_fs))] \n",
    "        targ_fs = np.tile(np_targ_fs,len(df))\n",
    "        res_df['targ_fs'] = targ_fs\n",
    "        \n",
    "        if isinstance(src_fs, numbers.Number):\n",
    "            #src_fs is a fixed number\n",
    "            res_df['resampling_factor'] = targ_fs/src_fs\n",
    "        else:\n",
    "            #src_fs is a column name of the df\n",
    "            res_df['resampling_factor'] = targ_fs/res_df[src_fs]\n",
    "\n",
    "        pd.options.mode.chained_assignment = 'warn'\n",
    "        \n",
    "        return res_df\n",
    "    return _inner"
   ]
  },
  {
   "cell_type": "code",
   "execution_count": null,
   "metadata": {},
   "outputs": [],
   "source": [
    "targ_fs = [50,100,300]\n",
    "test_eq(len(DfResamplingFactor(100,targ_fs)(df)),9)   \n",
    "df['src_fs'] = 200.\n",
    "test_eq(len(DfResamplingFactor('src_fs',targ_fs)(df)),9)"
   ]
  },
  {
   "cell_type": "code",
   "execution_count": null,
   "metadata": {},
   "outputs": [],
   "source": [
    "#| export\n",
    "def DfHDFCreateWindows(win_sz,stp_sz, clm, fixed_start = False, fixed_end = False):\n",
    "    '''create windows of sequences, splits sequence into multiple items'''\n",
    "    def _inner(df):\n",
    "        if fixed_start and fixed_end: raise Exception\n",
    "        \n",
    "        if 'seq_len' in df:\n",
    "            np_f_len = df.seq_len.values\n",
    "        else:\n",
    "            np_f_len = np.array([get_hdf_seq_len(row,clm) for (idx, row) in df.iterrows()])\n",
    "            \n",
    "        if 'resampling_factor' in df: np_f_len =(np_f_len*df.resampling_factor.values).astype(int)\n",
    "            \n",
    "        n_win = ((np_f_len-win_sz)//stp_sz)+1\n",
    "        #cast array n_win to int and clip negative values to 0\n",
    "        n_win = n_win.astype(int)\n",
    "        n_win = np.clip(n_win,a_min=0,a_max=None) #remove negative values at instances where the winsize is smaller than the seq_len\n",
    "        lst_idx = np.arange(len(np_f_len))\n",
    "        \n",
    "        pd.options.mode.chained_assignment = None #every row is a reference so we need to suppress the warning messages while copying\n",
    "        \n",
    "        res_df = df.iloc[np.repeat(lst_idx,n_win)]\n",
    "#         res_df = df.loc[np.repeat(lst_idx,n_win)] #the loc variant as a little bit slower because it creates copies and returns wrong values with redundant indexes, but is more robust\n",
    "\n",
    "        step_idx = np.concatenate([np.arange(x) for x in n_win])\n",
    "    \n",
    "        \n",
    "        res_df['l_slc'] = step_idx*stp_sz if not fixed_start else None\n",
    "        res_df['r_slc'] = step_idx*stp_sz + win_sz if not fixed_end else None\n",
    "            \n",
    "        pd.options.mode.chained_assignment = 'warn'\n",
    "            \n",
    "        return res_df\n",
    "    \n",
    "    return _inner"
   ]
  },
  {
   "cell_type": "code",
   "execution_count": null,
   "metadata": {},
   "outputs": [
    {
     "name": "stdout",
     "output_type": "stream",
     "text": [
      "CPU times: user 1.21 ms, sys: 120 µs, total: 1.33 ms\n",
      "Wall time: 1.14 ms\n"
     ]
    },
    {
     "data": {
      "text/html": [
       "<div>\n",
       "<style scoped>\n",
       "    .dataframe tbody tr th:only-of-type {\n",
       "        vertical-align: middle;\n",
       "    }\n",
       "\n",
       "    .dataframe tbody tr th {\n",
       "        vertical-align: top;\n",
       "    }\n",
       "\n",
       "    .dataframe thead th {\n",
       "        text-align: right;\n",
       "    }\n",
       "</style>\n",
       "<table border=\"1\" class=\"dataframe\">\n",
       "  <thead>\n",
       "    <tr style=\"text-align: right;\">\n",
       "      <th></th>\n",
       "      <th>path</th>\n",
       "      <th>seq_len</th>\n",
       "      <th>src_fs</th>\n",
       "      <th>l_slc</th>\n",
       "      <th>r_slc</th>\n",
       "    </tr>\n",
       "  </thead>\n",
       "  <tbody>\n",
       "    <tr>\n",
       "      <th>0</th>\n",
       "      <td>/home/pheenix/Development/seqdata/test_data/battery/train/Sim_RealisticCycle1.hdf5</td>\n",
       "      <td>265607</td>\n",
       "      <td>200.0</td>\n",
       "      <td>0</td>\n",
       "      <td>100.2</td>\n",
       "    </tr>\n",
       "    <tr>\n",
       "      <th>0</th>\n",
       "      <td>/home/pheenix/Development/seqdata/test_data/battery/train/Sim_RealisticCycle1.hdf5</td>\n",
       "      <td>265607</td>\n",
       "      <td>200.0</td>\n",
       "      <td>100</td>\n",
       "      <td>200.2</td>\n",
       "    </tr>\n",
       "    <tr>\n",
       "      <th>0</th>\n",
       "      <td>/home/pheenix/Development/seqdata/test_data/battery/train/Sim_RealisticCycle1.hdf5</td>\n",
       "      <td>265607</td>\n",
       "      <td>200.0</td>\n",
       "      <td>200</td>\n",
       "      <td>300.2</td>\n",
       "    </tr>\n",
       "    <tr>\n",
       "      <th>0</th>\n",
       "      <td>/home/pheenix/Development/seqdata/test_data/battery/train/Sim_RealisticCycle1.hdf5</td>\n",
       "      <td>265607</td>\n",
       "      <td>200.0</td>\n",
       "      <td>300</td>\n",
       "      <td>400.2</td>\n",
       "    </tr>\n",
       "    <tr>\n",
       "      <th>0</th>\n",
       "      <td>/home/pheenix/Development/seqdata/test_data/battery/train/Sim_RealisticCycle1.hdf5</td>\n",
       "      <td>265607</td>\n",
       "      <td>200.0</td>\n",
       "      <td>400</td>\n",
       "      <td>500.2</td>\n",
       "    </tr>\n",
       "    <tr>\n",
       "      <th>...</th>\n",
       "      <td>...</td>\n",
       "      <td>...</td>\n",
       "      <td>...</td>\n",
       "      <td>...</td>\n",
       "      <td>...</td>\n",
       "    </tr>\n",
       "    <tr>\n",
       "      <th>2</th>\n",
       "      <td>/home/pheenix/Development/seqdata/test_data/battery/valid/Sim_RealisticCycle3.hdf5</td>\n",
       "      <td>265593</td>\n",
       "      <td>200.0</td>\n",
       "      <td>265000</td>\n",
       "      <td>265100.2</td>\n",
       "    </tr>\n",
       "    <tr>\n",
       "      <th>2</th>\n",
       "      <td>/home/pheenix/Development/seqdata/test_data/battery/valid/Sim_RealisticCycle3.hdf5</td>\n",
       "      <td>265593</td>\n",
       "      <td>200.0</td>\n",
       "      <td>265100</td>\n",
       "      <td>265200.2</td>\n",
       "    </tr>\n",
       "    <tr>\n",
       "      <th>2</th>\n",
       "      <td>/home/pheenix/Development/seqdata/test_data/battery/valid/Sim_RealisticCycle3.hdf5</td>\n",
       "      <td>265593</td>\n",
       "      <td>200.0</td>\n",
       "      <td>265200</td>\n",
       "      <td>265300.2</td>\n",
       "    </tr>\n",
       "    <tr>\n",
       "      <th>2</th>\n",
       "      <td>/home/pheenix/Development/seqdata/test_data/battery/valid/Sim_RealisticCycle3.hdf5</td>\n",
       "      <td>265593</td>\n",
       "      <td>200.0</td>\n",
       "      <td>265300</td>\n",
       "      <td>265400.2</td>\n",
       "    </tr>\n",
       "    <tr>\n",
       "      <th>2</th>\n",
       "      <td>/home/pheenix/Development/seqdata/test_data/battery/valid/Sim_RealisticCycle3.hdf5</td>\n",
       "      <td>265593</td>\n",
       "      <td>200.0</td>\n",
       "      <td>265400</td>\n",
       "      <td>265500.2</td>\n",
       "    </tr>\n",
       "  </tbody>\n",
       "</table>\n",
       "<p>7966 rows × 5 columns</p>\n",
       "</div>"
      ],
      "text/plain": [
       "                                                                                  path  \\\n",
       "0   /home/pheenix/Development/seqdata/test_data/battery/train/Sim_RealisticCycle1.hdf5   \n",
       "0   /home/pheenix/Development/seqdata/test_data/battery/train/Sim_RealisticCycle1.hdf5   \n",
       "0   /home/pheenix/Development/seqdata/test_data/battery/train/Sim_RealisticCycle1.hdf5   \n",
       "0   /home/pheenix/Development/seqdata/test_data/battery/train/Sim_RealisticCycle1.hdf5   \n",
       "0   /home/pheenix/Development/seqdata/test_data/battery/train/Sim_RealisticCycle1.hdf5   \n",
       "..                                                                                 ...   \n",
       "2   /home/pheenix/Development/seqdata/test_data/battery/valid/Sim_RealisticCycle3.hdf5   \n",
       "2   /home/pheenix/Development/seqdata/test_data/battery/valid/Sim_RealisticCycle3.hdf5   \n",
       "2   /home/pheenix/Development/seqdata/test_data/battery/valid/Sim_RealisticCycle3.hdf5   \n",
       "2   /home/pheenix/Development/seqdata/test_data/battery/valid/Sim_RealisticCycle3.hdf5   \n",
       "2   /home/pheenix/Development/seqdata/test_data/battery/valid/Sim_RealisticCycle3.hdf5   \n",
       "\n",
       "    seq_len  src_fs   l_slc     r_slc  \n",
       "0    265607   200.0       0     100.2  \n",
       "0    265607   200.0     100     200.2  \n",
       "0    265607   200.0     200     300.2  \n",
       "0    265607   200.0     300     400.2  \n",
       "0    265607   200.0     400     500.2  \n",
       "..      ...     ...     ...       ...  \n",
       "2    265593   200.0  265000  265100.2  \n",
       "2    265593   200.0  265100  265200.2  \n",
       "2    265593   200.0  265200  265300.2  \n",
       "2    265593   200.0  265300  265400.2  \n",
       "2    265593   200.0  265400  265500.2  \n",
       "\n",
       "[7966 rows x 5 columns]"
      ]
     },
     "execution_count": null,
     "metadata": {},
     "output_type": "execute_result"
    }
   ],
   "source": [
    "%%time\n",
    "create_win = DfHDFCreateWindows(win_sz=100.2,stp_sz=100,clm='current')\n",
    "win_df = create_win(df)\n",
    "win_df"
   ]
  },
  {
   "cell_type": "code",
   "execution_count": null,
   "metadata": {},
   "outputs": [
    {
     "data": {
      "text/html": [
       "<div>\n",
       "<style scoped>\n",
       "    .dataframe tbody tr th:only-of-type {\n",
       "        vertical-align: middle;\n",
       "    }\n",
       "\n",
       "    .dataframe tbody tr th {\n",
       "        vertical-align: top;\n",
       "    }\n",
       "\n",
       "    .dataframe thead th {\n",
       "        text-align: right;\n",
       "    }\n",
       "</style>\n",
       "<table border=\"1\" class=\"dataframe\">\n",
       "  <thead>\n",
       "    <tr style=\"text-align: right;\">\n",
       "      <th></th>\n",
       "      <th>path</th>\n",
       "      <th>seq_len</th>\n",
       "      <th>src_fs</th>\n",
       "      <th>l_slc</th>\n",
       "      <th>r_slc</th>\n",
       "    </tr>\n",
       "  </thead>\n",
       "  <tbody>\n",
       "    <tr>\n",
       "      <th>0</th>\n",
       "      <td>/home/pheenix/Development/seqdata/test_data/battery/train/Sim_RealisticCycle1.hdf5</td>\n",
       "      <td>265607</td>\n",
       "      <td>200.0</td>\n",
       "      <td>0</td>\n",
       "      <td>265594</td>\n",
       "    </tr>\n",
       "    <tr>\n",
       "      <th>1</th>\n",
       "      <td>/home/pheenix/Development/seqdata/test_data/battery/train/Sim_RealisticCycle2.hdf5</td>\n",
       "      <td>265598</td>\n",
       "      <td>200.0</td>\n",
       "      <td>0</td>\n",
       "      <td>265594</td>\n",
       "    </tr>\n",
       "  </tbody>\n",
       "</table>\n",
       "</div>"
      ],
      "text/plain": [
       "                                                                                 path  \\\n",
       "0  /home/pheenix/Development/seqdata/test_data/battery/train/Sim_RealisticCycle1.hdf5   \n",
       "1  /home/pheenix/Development/seqdata/test_data/battery/train/Sim_RealisticCycle2.hdf5   \n",
       "\n",
       "   seq_len  src_fs  l_slc   r_slc  \n",
       "0   265607   200.0      0  265594  \n",
       "1   265598   200.0      0  265594  "
      ]
     },
     "execution_count": null,
     "metadata": {},
     "output_type": "execute_result"
    }
   ],
   "source": [
    "win_df = DfHDFCreateWindows(win_sz=265594,stp_sz=100,clm='current')(df)\n",
    "test_eq(len(win_df),2)\n",
    "win_df"
   ]
  },
  {
   "cell_type": "code",
   "execution_count": null,
   "metadata": {},
   "outputs": [],
   "source": [
    "test_eq(create_win(df_get_hdf_seq_len(df,'current')) , create_win(df))"
   ]
  },
  {
   "cell_type": "code",
   "execution_count": null,
   "metadata": {},
   "outputs": [
    {
     "data": {
      "text/html": [
       "<div>\n",
       "<style scoped>\n",
       "    .dataframe tbody tr th:only-of-type {\n",
       "        vertical-align: middle;\n",
       "    }\n",
       "\n",
       "    .dataframe tbody tr th {\n",
       "        vertical-align: top;\n",
       "    }\n",
       "\n",
       "    .dataframe thead th {\n",
       "        text-align: right;\n",
       "    }\n",
       "</style>\n",
       "<table border=\"1\" class=\"dataframe\">\n",
       "  <thead>\n",
       "    <tr style=\"text-align: right;\">\n",
       "      <th></th>\n",
       "      <th>path</th>\n",
       "      <th>seq_len</th>\n",
       "      <th>src_fs</th>\n",
       "      <th>targ_fs</th>\n",
       "      <th>resampling_factor</th>\n",
       "      <th>l_slc</th>\n",
       "      <th>r_slc</th>\n",
       "    </tr>\n",
       "  </thead>\n",
       "  <tbody>\n",
       "    <tr>\n",
       "      <th>0</th>\n",
       "      <td>/home/pheenix/Development/seqdata/test_data/battery/train/Sim_RealisticCycle1.hdf5</td>\n",
       "      <td>265607</td>\n",
       "      <td>200.0</td>\n",
       "      <td>0.1</td>\n",
       "      <td>0.0005</td>\n",
       "      <td>0</td>\n",
       "      <td>100.2</td>\n",
       "    </tr>\n",
       "    <tr>\n",
       "      <th>1</th>\n",
       "      <td>/home/pheenix/Development/seqdata/test_data/battery/train/Sim_RealisticCycle2.hdf5</td>\n",
       "      <td>265598</td>\n",
       "      <td>200.0</td>\n",
       "      <td>0.1</td>\n",
       "      <td>0.0005</td>\n",
       "      <td>0</td>\n",
       "      <td>100.2</td>\n",
       "    </tr>\n",
       "    <tr>\n",
       "      <th>2</th>\n",
       "      <td>/home/pheenix/Development/seqdata/test_data/battery/valid/Sim_RealisticCycle3.hdf5</td>\n",
       "      <td>265593</td>\n",
       "      <td>200.0</td>\n",
       "      <td>0.1</td>\n",
       "      <td>0.0005</td>\n",
       "      <td>0</td>\n",
       "      <td>100.2</td>\n",
       "    </tr>\n",
       "  </tbody>\n",
       "</table>\n",
       "</div>"
      ],
      "text/plain": [
       "                                                                                 path  \\\n",
       "0  /home/pheenix/Development/seqdata/test_data/battery/train/Sim_RealisticCycle1.hdf5   \n",
       "1  /home/pheenix/Development/seqdata/test_data/battery/train/Sim_RealisticCycle2.hdf5   \n",
       "2  /home/pheenix/Development/seqdata/test_data/battery/valid/Sim_RealisticCycle3.hdf5   \n",
       "\n",
       "   seq_len  src_fs  targ_fs  resampling_factor  l_slc  r_slc  \n",
       "0   265607   200.0      0.1             0.0005      0  100.2  \n",
       "1   265598   200.0      0.1             0.0005      0  100.2  \n",
       "2   265593   200.0      0.1             0.0005      0  100.2  "
      ]
     },
     "execution_count": null,
     "metadata": {},
     "output_type": "execute_result"
    }
   ],
   "source": [
    "res_win_df = create_win(DfResamplingFactor(200,[0.1])(df))\n",
    "res_win_df"
   ]
  },
  {
   "cell_type": "code",
   "execution_count": null,
   "metadata": {},
   "outputs": [],
   "source": [
    "test_eq(len(res_win_df),3)"
   ]
  },
  {
   "cell_type": "code",
   "execution_count": null,
   "metadata": {},
   "outputs": [
    {
     "data": {
      "text/html": [
       "<div>\n",
       "<style scoped>\n",
       "    .dataframe tbody tr th:only-of-type {\n",
       "        vertical-align: middle;\n",
       "    }\n",
       "\n",
       "    .dataframe tbody tr th {\n",
       "        vertical-align: top;\n",
       "    }\n",
       "\n",
       "    .dataframe thead th {\n",
       "        text-align: right;\n",
       "    }\n",
       "</style>\n",
       "<table border=\"1\" class=\"dataframe\">\n",
       "  <thead>\n",
       "    <tr style=\"text-align: right;\">\n",
       "      <th></th>\n",
       "      <th>path</th>\n",
       "      <th>seq_len</th>\n",
       "      <th>src_fs</th>\n",
       "      <th>l_slc</th>\n",
       "      <th>r_slc</th>\n",
       "    </tr>\n",
       "  </thead>\n",
       "  <tbody>\n",
       "    <tr>\n",
       "      <th>0</th>\n",
       "      <td>/home/pheenix/Development/seqdata/test_data/battery/train/Sim_RealisticCycle1.hdf5</td>\n",
       "      <td>265607</td>\n",
       "      <td>200.0</td>\n",
       "      <td>0</td>\n",
       "      <td>265594</td>\n",
       "    </tr>\n",
       "    <tr>\n",
       "      <th>1</th>\n",
       "      <td>/home/pheenix/Development/seqdata/test_data/battery/train/Sim_RealisticCycle2.hdf5</td>\n",
       "      <td>265598</td>\n",
       "      <td>200.0</td>\n",
       "      <td>0</td>\n",
       "      <td>265594</td>\n",
       "    </tr>\n",
       "  </tbody>\n",
       "</table>\n",
       "</div>"
      ],
      "text/plain": [
       "                                                                                 path  \\\n",
       "0  /home/pheenix/Development/seqdata/test_data/battery/train/Sim_RealisticCycle1.hdf5   \n",
       "1  /home/pheenix/Development/seqdata/test_data/battery/train/Sim_RealisticCycle2.hdf5   \n",
       "\n",
       "   seq_len  src_fs  l_slc   r_slc  \n",
       "0   265607   200.0      0  265594  \n",
       "1   265598   200.0      0  265594  "
      ]
     },
     "execution_count": null,
     "metadata": {},
     "output_type": "execute_result"
    }
   ],
   "source": [
    "query_expr = 'l_slc <= 200'\n",
    "filt_df = win_df.query(query_expr)\n",
    "filt_df"
   ]
  },
  {
   "cell_type": "code",
   "execution_count": null,
   "metadata": {},
   "outputs": [],
   "source": [
    "#| export\n",
    "def DfApplyFuncSplit(split_func,func1,func2):\n",
    "    '''apply two different functions on the dataframe, func1 on the first indices of split_func, func2 on the second indices.\n",
    "        Split_func is a Training, Validation split function'''\n",
    "    def _inner(df):\n",
    "        (idxs1,idxs2) = split_func(df.path)\n",
    "        df1= func1(df.iloc[idxs1])\n",
    "        df2= func2(df.iloc[idxs2])\n",
    "        return pd.concat((df1,df2))\n",
    "    return _inner"
   ]
  },
  {
   "cell_type": "code",
   "execution_count": null,
   "metadata": {},
   "outputs": [
    {
     "data": {
      "text/html": [
       "<div>\n",
       "<style scoped>\n",
       "    .dataframe tbody tr th:only-of-type {\n",
       "        vertical-align: middle;\n",
       "    }\n",
       "\n",
       "    .dataframe tbody tr th {\n",
       "        vertical-align: top;\n",
       "    }\n",
       "\n",
       "    .dataframe thead th {\n",
       "        text-align: right;\n",
       "    }\n",
       "</style>\n",
       "<table border=\"1\" class=\"dataframe\">\n",
       "  <thead>\n",
       "    <tr style=\"text-align: right;\">\n",
       "      <th></th>\n",
       "      <th>path</th>\n",
       "      <th>seq_len</th>\n",
       "      <th>src_fs</th>\n",
       "      <th>l_slc</th>\n",
       "      <th>r_slc</th>\n",
       "    </tr>\n",
       "  </thead>\n",
       "  <tbody>\n",
       "    <tr>\n",
       "      <th>0</th>\n",
       "      <td>/home/pheenix/Development/seqdata/test_data/battery/train/Sim_RealisticCycle1.hdf5</td>\n",
       "      <td>265607</td>\n",
       "      <td>200.0</td>\n",
       "      <td>0</td>\n",
       "      <td>10000</td>\n",
       "    </tr>\n",
       "    <tr>\n",
       "      <th>0</th>\n",
       "      <td>/home/pheenix/Development/seqdata/test_data/battery/train/Sim_RealisticCycle1.hdf5</td>\n",
       "      <td>265607</td>\n",
       "      <td>200.0</td>\n",
       "      <td>1</td>\n",
       "      <td>10001</td>\n",
       "    </tr>\n",
       "    <tr>\n",
       "      <th>0</th>\n",
       "      <td>/home/pheenix/Development/seqdata/test_data/battery/train/Sim_RealisticCycle1.hdf5</td>\n",
       "      <td>265607</td>\n",
       "      <td>200.0</td>\n",
       "      <td>2</td>\n",
       "      <td>10002</td>\n",
       "    </tr>\n",
       "    <tr>\n",
       "      <th>0</th>\n",
       "      <td>/home/pheenix/Development/seqdata/test_data/battery/train/Sim_RealisticCycle1.hdf5</td>\n",
       "      <td>265607</td>\n",
       "      <td>200.0</td>\n",
       "      <td>3</td>\n",
       "      <td>10003</td>\n",
       "    </tr>\n",
       "    <tr>\n",
       "      <th>0</th>\n",
       "      <td>/home/pheenix/Development/seqdata/test_data/battery/train/Sim_RealisticCycle1.hdf5</td>\n",
       "      <td>265607</td>\n",
       "      <td>200.0</td>\n",
       "      <td>4</td>\n",
       "      <td>10004</td>\n",
       "    </tr>\n",
       "    <tr>\n",
       "      <th>...</th>\n",
       "      <td>...</td>\n",
       "      <td>...</td>\n",
       "      <td>...</td>\n",
       "      <td>...</td>\n",
       "      <td>...</td>\n",
       "    </tr>\n",
       "    <tr>\n",
       "      <th>2</th>\n",
       "      <td>/home/pheenix/Development/seqdata/test_data/battery/valid/Sim_RealisticCycle3.hdf5</td>\n",
       "      <td>265593</td>\n",
       "      <td>200.0</td>\n",
       "      <td>210000</td>\n",
       "      <td>220000</td>\n",
       "    </tr>\n",
       "    <tr>\n",
       "      <th>2</th>\n",
       "      <td>/home/pheenix/Development/seqdata/test_data/battery/valid/Sim_RealisticCycle3.hdf5</td>\n",
       "      <td>265593</td>\n",
       "      <td>200.0</td>\n",
       "      <td>220000</td>\n",
       "      <td>230000</td>\n",
       "    </tr>\n",
       "    <tr>\n",
       "      <th>2</th>\n",
       "      <td>/home/pheenix/Development/seqdata/test_data/battery/valid/Sim_RealisticCycle3.hdf5</td>\n",
       "      <td>265593</td>\n",
       "      <td>200.0</td>\n",
       "      <td>230000</td>\n",
       "      <td>240000</td>\n",
       "    </tr>\n",
       "    <tr>\n",
       "      <th>2</th>\n",
       "      <td>/home/pheenix/Development/seqdata/test_data/battery/valid/Sim_RealisticCycle3.hdf5</td>\n",
       "      <td>265593</td>\n",
       "      <td>200.0</td>\n",
       "      <td>240000</td>\n",
       "      <td>250000</td>\n",
       "    </tr>\n",
       "    <tr>\n",
       "      <th>2</th>\n",
       "      <td>/home/pheenix/Development/seqdata/test_data/battery/valid/Sim_RealisticCycle3.hdf5</td>\n",
       "      <td>265593</td>\n",
       "      <td>200.0</td>\n",
       "      <td>250000</td>\n",
       "      <td>260000</td>\n",
       "    </tr>\n",
       "  </tbody>\n",
       "</table>\n",
       "<p>255660 rows × 5 columns</p>\n",
       "</div>"
      ],
      "text/plain": [
       "                                                                                  path  \\\n",
       "0   /home/pheenix/Development/seqdata/test_data/battery/train/Sim_RealisticCycle1.hdf5   \n",
       "0   /home/pheenix/Development/seqdata/test_data/battery/train/Sim_RealisticCycle1.hdf5   \n",
       "0   /home/pheenix/Development/seqdata/test_data/battery/train/Sim_RealisticCycle1.hdf5   \n",
       "0   /home/pheenix/Development/seqdata/test_data/battery/train/Sim_RealisticCycle1.hdf5   \n",
       "0   /home/pheenix/Development/seqdata/test_data/battery/train/Sim_RealisticCycle1.hdf5   \n",
       "..                                                                                 ...   \n",
       "2   /home/pheenix/Development/seqdata/test_data/battery/valid/Sim_RealisticCycle3.hdf5   \n",
       "2   /home/pheenix/Development/seqdata/test_data/battery/valid/Sim_RealisticCycle3.hdf5   \n",
       "2   /home/pheenix/Development/seqdata/test_data/battery/valid/Sim_RealisticCycle3.hdf5   \n",
       "2   /home/pheenix/Development/seqdata/test_data/battery/valid/Sim_RealisticCycle3.hdf5   \n",
       "2   /home/pheenix/Development/seqdata/test_data/battery/valid/Sim_RealisticCycle3.hdf5   \n",
       "\n",
       "    seq_len  src_fs   l_slc   r_slc  \n",
       "0    265607   200.0       0   10000  \n",
       "0    265607   200.0       1   10001  \n",
       "0    265607   200.0       2   10002  \n",
       "0    265607   200.0       3   10003  \n",
       "0    265607   200.0       4   10004  \n",
       "..      ...     ...     ...     ...  \n",
       "2    265593   200.0  210000  220000  \n",
       "2    265593   200.0  220000  230000  \n",
       "2    265593   200.0  230000  240000  \n",
       "2    265593   200.0  240000  250000  \n",
       "2    265593   200.0  250000  260000  \n",
       "\n",
       "[255660 rows x 5 columns]"
      ]
     },
     "execution_count": null,
     "metadata": {},
     "output_type": "execute_result"
    }
   ],
   "source": [
    "create_win_split = DfApplyFuncSplit(\n",
    "    IndexSplitter([1,2]),\n",
    "    DfHDFCreateWindows(win_sz=10000,stp_sz=1,clm='current'),\n",
    "    DfHDFCreateWindows(win_sz=10000,stp_sz=10000,clm='current')\n",
    ")\n",
    "create_win_split(df)"
   ]
  },
  {
   "cell_type": "code",
   "execution_count": null,
   "metadata": {},
   "outputs": [],
   "source": [
    "#| export\n",
    "def DfFilterQuery(query):\n",
    "    def _inner(df):\n",
    "        return df.query(query)\n",
    "    return _inner"
   ]
  },
  {
   "cell_type": "code",
   "execution_count": null,
   "metadata": {},
   "outputs": [],
   "source": [
    "test_eq(DfFilterQuery(query_expr)(win_df),filt_df)"
   ]
  },
  {
   "cell_type": "code",
   "execution_count": null,
   "metadata": {},
   "outputs": [
    {
     "name": "stdout",
     "output_type": "stream",
     "text": [
      "CPU times: user 52.7 ms, sys: 3.66 ms, total: 56.4 ms\n",
      "Wall time: 56.1 ms\n"
     ]
    },
    {
     "data": {
      "text/plain": [
       "[{'path': '/home/pheenix/Development/seqdata/test_data/battery/train/Sim_RealisticCycle1.hdf5',\n",
       "  'valid': False,\n",
       "  'l_slc': 0,\n",
       "  'r_slc': 101},\n",
       " {'path': '/home/pheenix/Development/seqdata/test_data/battery/train/Sim_RealisticCycle1.hdf5',\n",
       "  'valid': False,\n",
       "  'l_slc': 10,\n",
       "  'r_slc': 111},\n",
       " {'path': '/home/pheenix/Development/seqdata/test_data/battery/train/Sim_RealisticCycle1.hdf5',\n",
       "  'valid': False,\n",
       "  'l_slc': 20,\n",
       "  'r_slc': 121},\n",
       " {'path': '/home/pheenix/Development/seqdata/test_data/battery/train/Sim_RealisticCycle1.hdf5',\n",
       "  'valid': False,\n",
       "  'l_slc': 30,\n",
       "  'r_slc': 131},\n",
       " {'path': '/home/pheenix/Development/seqdata/test_data/battery/train/Sim_RealisticCycle1.hdf5',\n",
       "  'valid': False,\n",
       "  'l_slc': 40,\n",
       "  'r_slc': 141}]"
      ]
     },
     "execution_count": null,
     "metadata": {},
     "output_type": "execute_result"
    }
   ],
   "source": [
    "%%time\n",
    "tfm_src = CreateDict([ValidClmContains(['valid']),DfHDFCreateWindows(win_sz=100+1,stp_sz=10,clm='current')])\n",
    "src_dicts = tfm_src(hdf_files)\n",
    "src_dicts[:5]"
   ]
  },
  {
   "cell_type": "code",
   "execution_count": null,
   "metadata": {},
   "outputs": [],
   "source": [
    "#| export\n",
    "def DfDropClmExcept(clms = ['path','l_slc','r_slc','p_sample','resampling_factor']):\n",
    "    '''drop unused dataframe columns as a last optional step to accelerate dictionary conversion'''\n",
    "    def _inner(df):\n",
    "        return df[[c for c in clms if c in df]]\n",
    "    return _inner"
   ]
  },
  {
   "attachments": {},
   "cell_type": "markdown",
   "metadata": {},
   "source": [
    "## 2. Convert Paths to Sequence Objects\n",
    "Der Pfad wird unter Angabe der Spaltennamen in Sequenzen und Skalare Werte umgewandelt, um so am Ende ein 3-Tupel zu erhalten aus:\n",
    "- (Sequence, Scalar, Sequence) <-> (input,input,output)"
   ]
  },
  {
   "attachments": {},
   "cell_type": "markdown",
   "metadata": {},
   "source": [
    "### 2.1 Extract sequential data from hdf5-files\n",
    "Two different functions, based on pandas df and on lists"
   ]
  },
  {
   "attachments": {},
   "cell_type": "markdown",
   "metadata": {},
   "source": [
    "#### 2.1.1 Shift time Series\n",
    "Sometimes we need to shift columns of a sequence by a specific value. Then we cant simply slice the array but have to handle each column individually. First a performance test has to be made."
   ]
  },
  {
   "cell_type": "code",
   "execution_count": null,
   "metadata": {},
   "outputs": [],
   "source": [
    "#| export\n",
    "def calc_shift_offsets(clm_shift):\n",
    "    clm_shift = array(clm_shift)\n",
    "    l_offs = -min(clm_shift.min(),0)\n",
    "    r_offs = -max(clm_shift.max(),0)\n",
    "    l_shift = clm_shift+l_offs\n",
    "    r_shift = clm_shift+r_offs\n",
    "    dim_red = l_offs-r_offs\n",
    "    return l_shift,r_shift,dim_red"
   ]
  },
  {
   "cell_type": "code",
   "execution_count": null,
   "metadata": {},
   "outputs": [
    {
     "data": {
      "text/plain": [
       "(array([1, 1, 0, 2]), array([-1, -1, -2,  0]), 2)"
      ]
     },
     "execution_count": null,
     "metadata": {},
     "output_type": "execute_result"
    }
   ],
   "source": [
    "shft = [0,0,-1,1]\n",
    "calc_shift_offsets(shft)"
   ]
  },
  {
   "attachments": {},
   "cell_type": "markdown",
   "metadata": {},
   "source": [
    "both shifting methods have their own performance character. vstack needs double the time on short sequences, while the creation of a seperate array with copy becomes worse starting at around 5000 elements"
   ]
  },
  {
   "cell_type": "code",
   "execution_count": null,
   "metadata": {},
   "outputs": [],
   "source": [
    "# ta = array([[1,2,3]*2]*10000)"
   ]
  },
  {
   "cell_type": "code",
   "execution_count": null,
   "metadata": {},
   "outputs": [],
   "source": [
    "# %%timeit\n",
    "# y = np.vstack([ta[i:-ta.shape[1]+i,i] for i in range(ta.shape[1])]).T   "
   ]
  },
  {
   "cell_type": "code",
   "execution_count": null,
   "metadata": {},
   "outputs": [],
   "source": [
    "# %%timeit\n",
    "# x = np.zeros((ta.shape[0]-ta.shape[1],ta.shape[1]))\n",
    "# for i in range(ta.shape[1]):\n",
    "#     x[:,i] = ta[i:-ta.shape[1]+i,i]"
   ]
  },
  {
   "attachments": {},
   "cell_type": "markdown",
   "metadata": {},
   "source": [
    "#### 2.1.2 HDF2Sequence\n",
    "HDF5 performance is massively affected by the dtype of the signals. f4 (32 bit floating point) Numbers are faster to load and lead to smaller files then f8 numbers."
   ]
  },
  {
   "cell_type": "code",
   "execution_count": null,
   "metadata": {},
   "outputs": [],
   "source": [
    "#| export\n",
    "def running_mean(x, N):\n",
    "    cumsum = np.cumsum(np.insert(x, 0, 0,axis=0),axis=0) \n",
    "    return (cumsum[N:] - cumsum[:-N]) / float(N)"
   ]
  },
  {
   "cell_type": "code",
   "execution_count": null,
   "metadata": {},
   "outputs": [],
   "source": [
    "#| export\n",
    "def downsample_mean(x,N):\n",
    "    shp = x.shape\n",
    "    trunc = -(x.shape[0] % N)\n",
    "    trunc = trunc if trunc != 0 else None\n",
    "    return x[:trunc,:].reshape((-1,N,x.shape[-1])).mean(axis=1)"
   ]
  },
  {
   "cell_type": "code",
   "execution_count": null,
   "metadata": {},
   "outputs": [],
   "source": [
    "#| export\n",
    "from scipy.signal import butter, lfilter, lfilter_zi\n",
    "from scipy import signal\n",
    "def resample_interp(x,resampling_factor,sequence_first=True, lowpass_cut=1.0, upsample_cubic_cut = None):\n",
    "    '''signal resampling using linear or cubic interpolation\n",
    "    \n",
    "    x: signal to resample with shape: features x resampling_dimension or resampling_dimension x  features if sequence_first=True\n",
    "    resampling_factor: Factor > 0 that scales the signal\n",
    "    lowpass_cut: Upper boundary for resampling_factor that activates the lowpassfilter, low values exchange accuracy for performance, default is 0.7\n",
    "    upsample_cubic_cut: Lower boundary for resampling_factor that activates cubic interpolation at high upsampling values. \n",
    "                        Improves signal dynamics in exchange of performance. None deactivates cubic interpolation\n",
    "    '''\n",
    "    \n",
    "    if sequence_first:\n",
    "        x = x.T\n",
    "    \n",
    "    fs_n = resampling_factor\n",
    "    #if downsampling rate is too high, lowpass filter before interpolation\n",
    "    if fs_n < lowpass_cut:\n",
    "        b,a = butter(2, fs_n)\n",
    "        zi = lfilter_zi(b,a)*x[:,:1] #initialize filter with steady state at first time step value\n",
    "        x,_ = lfilter(b,a,x,axis=-1,zi=zi)\n",
    "\n",
    "#         sos = butter(2, fs_n*1.2,output='sos')\n",
    "# #         sos = signal.cheby2(2,20, fs_n,output='sos')\n",
    "# #         import pdb;pdb.set_trace()\n",
    "#         zi = np.swapaxes(signal.sosfilt_zi(sos)[...,None]*x[:,0],1,2)\n",
    "#         x,_ = signal.sosfilt(sos, x,axis=-1,zi=zi)\n",
    "        \n",
    "    x_int = tensor(x)[None,...]\n",
    "    targ_size = int(x.shape[-1]*fs_n)\n",
    "    \n",
    "#     if upsampling rate is too high, switch from linear to cubic interpolation\n",
    "    if upsample_cubic_cut is None or fs_n <= upsample_cubic_cut:\n",
    "        x = array(nn.functional.interpolate(x_int, size=targ_size, mode='linear',align_corners=False)[0])\n",
    "    else:\n",
    "        x = array(nn.functional.interpolate(x_int[...,None], size=[targ_size,1], mode='bicubic',align_corners=False)[0,...,0])\n",
    "#     x = array(x_int)[0]\n",
    "    \n",
    "    if sequence_first:\n",
    "        x = x.T\n",
    "    \n",
    "    return x"
   ]
  },
  {
   "cell_type": "code",
   "execution_count": null,
   "metadata": {},
   "outputs": [],
   "source": [
    "x = np.random.normal(size=(100000,9))\n",
    "test_eq(resample_interp(x,0.3).shape[0],30000)"
   ]
  },
  {
   "cell_type": "code",
   "execution_count": null,
   "metadata": {},
   "outputs": [],
   "source": [
    "# def plotFFT(buffer,sample_rate,label,fig=plt):\n",
    "#     xf,yf = calcFFT(buffer,sample_rate)\n",
    "#     fig.plot(xf, yf,label=label)\n",
    "    \n",
    "# def calcFFT(buffer,sample_rate):\n",
    "#     N = buffer.shape[0]\n",
    "#     T = 1.0 / sample_rate\n",
    "#     x = np.linspace(0.0, N*T, N)\n",
    "#     y = buffer\n",
    "#     yf = scipy.fft.fft(y)\n",
    "#     xf = np.linspace(0.0, 1.0/(2.0*T), N//2)\n",
    "#     return xf,2.0/N * np.abs(yf[:N//2])\n",
    "\n",
    "# src_fs= 200\n",
    "# n_fs = 0.9\n",
    "# plt.figure()\n",
    "# plotFFT(x[:,0],src_fs,'raw')\n",
    "# plotFFT(resample_interp(x,n_fs)[:,0],n_fs*src_fs,'filtered')\n",
    "# plt.legend()"
   ]
  },
  {
   "cell_type": "code",
   "execution_count": null,
   "metadata": {},
   "outputs": [],
   "source": [
    "#| export\n",
    "from scipy.signal import resample\n",
    "def hdf_extract_sequence(hdf_path,clms,dataset = None, l_slc = None, r_slc= None, resampling_factor=None, fs_idx =None,dt_idx =False,fast_resample=True):\n",
    "    '''\n",
    "    extracts a sequence with the shape [seq_len x num_features]\n",
    "    \n",
    "    hdf_path: file path of hdf file, may be a string or path type\n",
    "    clms: list of dataset names of sequences in hdf file\n",
    "    dataset: dataset root for clms. Useful for multiples sequences stored in one file.\n",
    "    l_slc: left boundary for extraction of a window of the whole sequence\n",
    "    r_slc: right boundary for extraction of a window of the whole sequence\n",
    "    resampling_factor: scaling factor for the sequence length, uses 'resample_interp' for resampling\n",
    "    fs_idx: clms list idx of fs entry in sequence. Will be scaled by resampling_factor after resampling\n",
    "    dt_idx: clms list idx of dt entry in sequence. Will be scaled by resampling_factor after resampling\n",
    "    fast_resample: if True, uses linear interpolation with anti-aliasing filter for faster resampling. Is less accurate than fft based resampling\n",
    "    '''\n",
    "\n",
    "    if resampling_factor is not None:\n",
    "        seq_len = r_slc-l_slc if l_slc is not None and r_slc is not None else None #calculate seq_len for later slicing, necesary because of rounding errors in resampling\n",
    "        if l_slc is not None: l_slc= math.floor(l_slc/resampling_factor)\n",
    "        if r_slc is not None: r_slc= math.ceil(r_slc/resampling_factor)\n",
    "\n",
    "    with h5py.File(hdf_path,'r') as f:\n",
    "        ds = f if dataset is None else f[dataset]\n",
    "        l_array = [(ds[n][l_slc:r_slc]) for n in clms]\n",
    "        seq = np.stack(l_array,axis=-1)\n",
    "\n",
    "    if resampling_factor is not None:\n",
    "        if fast_resample:\n",
    "            res_seq = resample_interp(seq,resampling_factor)\n",
    "        else:\n",
    "            res_seq = resample(seq,int(seq.shape[0]*resampling_factor),window=('kaiser', 14.0))\n",
    "        if fs_idx is not None: res_seq[:,fs_idx] = seq[0,fs_idx] * resampling_factor\n",
    "        if dt_idx is not None: res_seq[:,dt_idx] = seq[0,dt_idx] / resampling_factor\n",
    "        seq = res_seq\n",
    "        \n",
    "        if seq_len is not None: seq = seq[:seq_len] #cut the part of the sequence that is too long because of resampling rounding errors\n",
    "        \n",
    "    return seq"
   ]
  },
  {
   "cell_type": "code",
   "execution_count": null,
   "metadata": {},
   "outputs": [],
   "source": [
    "#| export\n",
    "class Memoize:\n",
    "    def __init__(self, fn):\n",
    "        self.fn = fn\n",
    "        self.memo = {}\n",
    "\n",
    "    def __call__(self, *args):\n",
    "        if args not in self.memo:\n",
    "            self.memo[args] = self.fn(*args)\n",
    "        return self.memo[args]\n",
    "\n"
   ]
  },
  {
   "cell_type": "code",
   "execution_count": null,
   "metadata": {},
   "outputs": [],
   "source": [
    "#| export\n",
    "from multiprocessing import shared_memory, Manager, Lock\n",
    "import weakref\n",
    "\n",
    "class MemoizeMP:\n",
    "    def __init__(self, fn):\n",
    "        self.fn = fn\n",
    "        self.manager = Manager()\n",
    "        self.results_dict = self.manager.dict()  # Stores metadata about computed results\n",
    "        self.lock = Lock()  # Ensure atomic updates to the results_dict\n",
    "        self.local_memo = {}  # Local cache for each process\n",
    "\n",
    "    def __call__(self, *args):\n",
    "        # First, attempt to return the result from the local cache to avoid unnecessary locking\n",
    "        if args in self.local_memo:\n",
    "            result, _ = self.local_memo[args]\n",
    "            return result\n",
    "\n",
    "        with self.lock:\n",
    "            if args in self.results_dict:\n",
    "                result_info = self.results_dict[args]\n",
    "                existing_shm = shared_memory.SharedMemory(name=result_info['name'])\n",
    "                result = np.ndarray(result_info['shape'], dtype=result_info['dtype'], buffer=existing_shm.buf)\n",
    "                # Register the shared memory for cleanup without removing it from the dictionary\n",
    "                self.local_memo[args] = (result, existing_shm)\n",
    "                # Using a weakref finalizer to ensure cleanup when the numpy array is no longer in use\n",
    "                weakref.finalize(result, self.cleanup_shared_memory, result_info['name'])\n",
    "                return result\n",
    "\n",
    "        result = self.fn(*args)\n",
    "\n",
    "\n",
    "        with self.lock:\n",
    "            if args not in self.results_dict:\n",
    "                result_shm = shared_memory.SharedMemory(create=True, size=result.nbytes)\n",
    "                shm_array = np.ndarray(result.shape, dtype=result.dtype, buffer=result_shm.buf)\n",
    "                shm_array[:] = result[:]\n",
    "                \n",
    "                self.results_dict[args] = {\n",
    "                    'name': result_shm.name,\n",
    "                    'shape': result.shape,\n",
    "                    'dtype': result.dtype.str\n",
    "                }\n",
    "                self.local_memo[args] = (result, result_shm)\n",
    "                # Register cleanup for the newly created shared memory block\n",
    "                weakref.finalize(result, self.cleanup_shared_memory, result_shm.name)\n",
    "\n",
    "        return result\n",
    "\n",
    "    def cleanup_shared_memory(self, shm_name):\n",
    "        \"\"\"Cleanup a specific shared memory block.\"\"\"\n",
    "        try:\n",
    "            shm = shared_memory.SharedMemory(name=shm_name)\n",
    "            shm.close()\n",
    "            shm.unlink()\n",
    "        except FileNotFoundError:\n",
    "            # Handle the case where the shared memory block is already cleaned up\n",
    "            pass"
   ]
  },
  {
   "cell_type": "code",
   "execution_count": null,
   "metadata": {},
   "outputs": [],
   "source": [
    "#| export\n",
    "class HDF2Sequence(Transform):\n",
    "    \n",
    "    def __init__(self, clm_names,clm_shift=None,truncate_sz=None,to_cls=noop,cached=True, fs_idx =None,dt_idx =None,fast_resample=True):\n",
    "        if not clm_shift is None:\n",
    "            assert len(clm_shift)==len(clm_names) and all(isinstance(n, int) for n in clm_shift)\n",
    "            self.l_shift,self.r_shift,_ = calc_shift_offsets(clm_shift)\n",
    "        \n",
    "        if not cached:\n",
    "            self._exseq = self._hdf_extract_sequence \n",
    "        elif cached == 'local':\n",
    "            self._exseq = Memoize(self._hdf_extract_sequence) \n",
    "        else :\n",
    "            self._exseq = MemoizeMP(self._hdf_extract_sequence)\n",
    "\n",
    "        self.cached = cached is not None\n",
    "        store_attr('clm_names,clm_shift,truncate_sz,to_cls,fs_idx,dt_idx,fast_resample')\n",
    "        \n",
    "    def _hdf_extract_sequence(self,hdf_path,dataset = None, l_slc = None, r_slc= None, resampling_factor=None, fs_idx =None,dt_idx =None,fast_resample=True):\n",
    "        '''\n",
    "        extracts a sequence with the shape [seq_len x num_features]\n",
    "\n",
    "        hdf_path: file path of hdf file, may be a string or path type\n",
    "        clms: list of dataset names of sequences in hdf file\n",
    "        dataset: dataset root for clms. Useful for multiples sequences stored in one file.\n",
    "        l_slc: left boundary for extraction of a window of the whole sequence\n",
    "        r_slc: right boundary for extraction of a window of the whole sequence\n",
    "        resampling_factor: scaling factor for the sequence length, uses 'resample_interp' for resampling\n",
    "        fs_idx: clms list idx of fs entry in sequence. Will be scaled by resampling_factor after resampling\n",
    "        dt_idx: clms list idx of dt entry in sequence. Will be scaled by resampling_factor after resampling\n",
    "        fast_resample: if True, uses linear interpolation with anti-aliasing filter for faster resampling. Is less accurate than fft based resampling\n",
    "        '''\n",
    "\n",
    "        if resampling_factor is not None:\n",
    "            seq_len = r_slc-l_slc if l_slc is not None and r_slc is not None else None #calculate seq_len for later slicing, necesary because of rounding errors in resampling\n",
    "            if l_slc is not None: l_slc= math.floor(l_slc/resampling_factor)\n",
    "            if r_slc is not None: r_slc= math.ceil(r_slc/resampling_factor)\n",
    "\n",
    "        with h5py.File(hdf_path,'r') as f:\n",
    "            ds = f if dataset is None else f[dataset]\n",
    "            l_array = [(ds[n][l_slc:r_slc]) for n in self.clm_names]\n",
    "            seq = np.stack(l_array,axis=-1)\n",
    "\n",
    "        if resampling_factor is not None:\n",
    "            if fast_resample:\n",
    "                res_seq = resample_interp(seq,resampling_factor)\n",
    "            else:\n",
    "                res_seq = resample(seq,int(seq.shape[0]*resampling_factor),window=('kaiser', 14.0))\n",
    "            \n",
    "            if fs_idx is not None: res_seq[:,fs_idx] = seq[0,fs_idx] * resampling_factor\n",
    "            if dt_idx is not None: res_seq[:,dt_idx] = seq[0,dt_idx] / resampling_factor\n",
    "            seq = res_seq\n",
    "\n",
    "            if seq_len is not None: seq = seq[:seq_len] #cut the part of the sequence that is too long because of resampling rounding errors\n",
    "\n",
    "        return seq\n",
    "    \n",
    "    def _extract_dict_sequence(self,item):\n",
    "        if hasattr(item,'keys'):\n",
    "            path = item['path']\n",
    "            dataset = item['dataset'] if 'dataset' in item else None\n",
    "            l_slc = item['l_slc'] if 'l_slc' in item else None\n",
    "            r_slc = item['r_slc'] if 'r_slc' in item else None\n",
    "            resampling_factor = item['resampling_factor'] if 'resampling_factor' in item else None\n",
    "\n",
    "            if self.cached:\n",
    "                seq = self._exseq(path,dataset,None,None,resampling_factor,self.fs_idx,self.dt_idx,self.fast_resample)[l_slc:r_slc]\n",
    "            else:\n",
    "                seq = self._exseq(path,dataset,l_slc,r_slc,resampling_factor,self.fs_idx,self.dt_idx,self.fast_resample)\n",
    "        else:\n",
    "            seq = self._exseq(str(item),None,None,None,None,None)\n",
    "\n",
    "        #shift clms of result by given value \n",
    "        if not self.clm_shift is None:\n",
    "            l_seq = seq.shape[0]\n",
    "            seq = np.stack([seq[self.l_shift[i]:l_seq+self.r_shift[i],i] for i in range(seq.shape[1])],axis=-1)\n",
    "            \n",
    "        if not self.truncate_sz is None:\n",
    "            seq = seq[truncate_sz:]\n",
    "        \n",
    "        #it is important to slice first and then do the class conversion\n",
    "#         return self.to_cls(seq.astype('f8'))#workaround for random bug, that mitigates convergence if the numpy array is an f4 array. Seems to make no sense because the result does not change. \n",
    "        return self.to_cls(seq)\n",
    "\n",
    "    def encodes(self, item)->None: \n",
    "        return self._extract_dict_sequence(item)"
   ]
  },
  {
   "cell_type": "code",
   "execution_count": null,
   "metadata": {},
   "outputs": [],
   "source": []
  },
  {
   "cell_type": "code",
   "execution_count": null,
   "metadata": {},
   "outputs": [
    {
     "data": {
      "text/plain": [
       "array([[ 0.       ,  4.1873503],\n",
       "       [-0.1      ,  4.18935  ],\n",
       "       [-0.1      ,  4.1896954],\n",
       "       ...,\n",
       "       [ 8.8388   ,  3.3932123],\n",
       "       [ 8.846    ,  3.3928714],\n",
       "       [ 8.8531   ,  3.3925302]], dtype=float32)"
      ]
     },
     "execution_count": null,
     "metadata": {},
     "output_type": "execute_result"
    }
   ],
   "source": [
    "# %%timeit\n",
    "hdf2seq = HDF2Sequence(['current','voltage'],cached=False)\n",
    "hdf2seq(hdf_files[0])"
   ]
  },
  {
   "cell_type": "code",
   "execution_count": null,
   "metadata": {},
   "outputs": [
    {
     "data": {
      "text/plain": [
       "array([[-0.1      ,  4.18935  ],\n",
       "       [-0.1      ,  4.1896954],\n",
       "       [-0.1      ,  4.190037 ],\n",
       "       ...,\n",
       "       [ 8.8388   ,  3.3932123],\n",
       "       [ 8.846    ,  3.3928714],\n",
       "       [ 8.8531   ,  3.3925302]], dtype=float32)"
      ]
     },
     "execution_count": null,
     "metadata": {},
     "output_type": "execute_result"
    }
   ],
   "source": [
    "hdf2seq = HDF2Sequence(['current','voltage'],clm_shift=[1,1])\n",
    "hdf2seq(hdf_files[0])"
   ]
  },
  {
   "cell_type": "code",
   "execution_count": null,
   "metadata": {},
   "outputs": [
    {
     "data": {
      "text/plain": [
       "array([[ 0.       ,  4.1873503],\n",
       "       [-0.1      ,  4.18935  ],\n",
       "       [-0.1      ,  4.1896954],\n",
       "       ...,\n",
       "       [ 8.8388   ,  3.3932123],\n",
       "       [ 8.846    ,  3.3928714],\n",
       "       [ 8.8531   ,  3.3925302]], dtype=float32)"
      ]
     },
     "execution_count": null,
     "metadata": {},
     "output_type": "execute_result"
    }
   ],
   "source": [
    "hdf2seq = HDF2Sequence(['current','voltage'],cached='shared')\n",
    "hdf2seq(hdf_files[0])"
   ]
  },
  {
   "cell_type": "code",
   "execution_count": null,
   "metadata": {},
   "outputs": [
    {
     "data": {
      "text/plain": [
       "array([[ 0.       ,  4.1873503],\n",
       "       [-0.1      ,  4.18935  ],\n",
       "       [-0.1      ,  4.1896954],\n",
       "       ...,\n",
       "       [ 8.8388   ,  3.3932123],\n",
       "       [ 8.846    ,  3.3928714],\n",
       "       [ 8.8531   ,  3.3925302]], dtype=float32)"
      ]
     },
     "execution_count": null,
     "metadata": {},
     "output_type": "execute_result"
    }
   ],
   "source": [
    "# %%timeit\n",
    "hdf2seq(hdf_files[0])"
   ]
  },
  {
   "cell_type": "code",
   "execution_count": null,
   "metadata": {},
   "outputs": [],
   "source": [
    "hdf2seq = HDF2Sequence(['current','voltage'],cached=True)"
   ]
  },
  {
   "cell_type": "code",
   "execution_count": null,
   "metadata": {},
   "outputs": [
    {
     "data": {
      "text/plain": [
       "array([[ 0.       ,  4.1873503],\n",
       "       [-0.1      ,  4.18935  ],\n",
       "       [-0.1      ,  4.1896954],\n",
       "       ...,\n",
       "       [ 8.8388   ,  3.3932123],\n",
       "       [ 8.846    ,  3.3928714],\n",
       "       [ 8.8531   ,  3.3925302]], dtype=float32)"
      ]
     },
     "execution_count": null,
     "metadata": {},
     "output_type": "execute_result"
    }
   ],
   "source": [
    "# %%timeit\n",
    "hdf2seq(hdf_files[0])"
   ]
  },
  {
   "attachments": {},
   "cell_type": "markdown",
   "metadata": {},
   "source": [
    "Die Funktion lässt sich mittels Pipeline auf eine Liste von Quellobjekten (hier Pfade) anwenden "
   ]
  },
  {
   "cell_type": "code",
   "execution_count": null,
   "metadata": {},
   "outputs": [
    {
     "data": {
      "text/plain": [
       "(265607, 1)"
      ]
     },
     "execution_count": null,
     "metadata": {},
     "output_type": "execute_result"
    }
   ],
   "source": [
    "hdf2seq = HDF2Sequence(['current'])\n",
    "hdf2seq(hdf_files[0]).shape"
   ]
  },
  {
   "cell_type": "code",
   "execution_count": null,
   "metadata": {},
   "outputs": [],
   "source": [
    "pipe = Pipeline(HDF2Sequence(['current','voltage']))"
   ]
  },
  {
   "cell_type": "code",
   "execution_count": null,
   "metadata": {},
   "outputs": [],
   "source": [
    "# res_pipe = pipe(hdf_files)\n",
    "# len(res_pipe), res_pipe[0][0]"
   ]
  },
  {
   "cell_type": "code",
   "execution_count": null,
   "metadata": {},
   "outputs": [],
   "source": []
  },
  {
   "attachments": {},
   "cell_type": "markdown",
   "metadata": {},
   "source": [
    "#### Performance Test\n",
    "Caching stores the arrays for future use at every function call. Very usefull, especially for windows. Should allways be turned. Only explicitly turn it off when there is not enough memory for your data."
   ]
  },
  {
   "cell_type": "code",
   "execution_count": null,
   "metadata": {},
   "outputs": [],
   "source": [
    "tfms=[  [HDF2Sequence(['current','voltage'],cached=None)],\n",
    "        [HDF2Sequence(['voltage'],cached=None)]]\n",
    "dsrc = Datasets(src_dicts[:1000],tfms=tfms)"
   ]
  },
  {
   "cell_type": "code",
   "execution_count": null,
   "metadata": {},
   "outputs": [
    {
     "data": {
      "text/plain": [
       "1000"
      ]
     },
     "execution_count": null,
     "metadata": {},
     "output_type": "execute_result"
    }
   ],
   "source": [
    "len(dsrc)"
   ]
  },
  {
   "cell_type": "code",
   "execution_count": null,
   "metadata": {},
   "outputs": [],
   "source": [
    "# %%time\n",
    "# for x in dsrc:\n",
    "#     x"
   ]
  },
  {
   "cell_type": "code",
   "execution_count": null,
   "metadata": {},
   "outputs": [],
   "source": [
    "tfms=[  [HDF2Sequence(['current','voltage'],cached=True,clm_shift=[1,2])],\n",
    "        [HDF2Sequence(['voltage'],cached=True)]]\n",
    "dsrc = Datasets(src_dicts[:1000],tfms=tfms)"
   ]
  },
  {
   "cell_type": "code",
   "execution_count": null,
   "metadata": {},
   "outputs": [],
   "source": [
    "# %%timeit\n",
    "for x in dsrc:\n",
    "    x"
   ]
  },
  {
   "attachments": {},
   "cell_type": "markdown",
   "metadata": {},
   "source": [
    "Caching is way faster because every file gets loaded multiple times"
   ]
  },
  {
   "attachments": {},
   "cell_type": "markdown",
   "metadata": {},
   "source": [
    "### Extract Scalar data from hdf5-files"
   ]
  },
  {
   "cell_type": "code",
   "execution_count": null,
   "metadata": {},
   "outputs": [],
   "source": [
    "#| export\n",
    "def hdf2scalars(hdf_path,c_names,dataset = None):\n",
    "    with h5py.File(hdf_path,'r') as f:\n",
    "        ds = f if dataset is None else f[dataset]\n",
    "        l_array = [ds.attrs[n] for n in c_names]\n",
    "        scalars = np.stack(l_array,axis=-1)\n",
    "#         import pdb; pdb.set_trace()\n",
    "#         l_array = [f[n][:][:,None] for n in c_names]\n",
    "#         seq = np.concatenate(l_array,axis=1)\n",
    "        return scalars"
   ]
  },
  {
   "cell_type": "code",
   "execution_count": null,
   "metadata": {},
   "outputs": [],
   "source": [
    "# hdf2scalars('/mnt/data/sicwell/hdf5/Cycles/ch3/cycle00568.hdf5',['soc','temperature1'],dataset='measurement_00000')"
   ]
  },
  {
   "cell_type": "code",
   "execution_count": null,
   "metadata": {},
   "outputs": [],
   "source": [
    "#| export\n",
    "class HDF2Scalars(Transform):\n",
    "    \n",
    "    def __init__(self, clm_names,to_cls=noop):\n",
    "        store_attr('clm_names,to_cls')\n",
    "    \n",
    "    def _extract_dict_scalars(self,item):\n",
    "        if isinstance(item,dict):\n",
    "            path = item['path']\n",
    "            dataset = item['dataset'] if 'dataset' in item else None\n",
    "\n",
    "            seq = hdf2scalars(path,self.clm_names,dataset)\n",
    "        else:\n",
    "            seq = hdf2scalars(str(item),self.clm_names)\n",
    "        return self.to_cls(seq)\n",
    "\n",
    "    def encodes(self, item)->None: \n",
    "        return self._extract_dict_scalars(item)"
   ]
  },
  {
   "cell_type": "code",
   "execution_count": null,
   "metadata": {},
   "outputs": [],
   "source": [
    "# HDF2Scalars(['soc','temperature1'])({'path':'/mnt/data/sicwell/hdf5/Cycles/ch3/cycle00568.hdf5','dataset':'measurement_00000'})"
   ]
  },
  {
   "attachments": {},
   "cell_type": "markdown",
   "metadata": {},
   "source": [
    "### Extract Scalar from sequence"
   ]
  },
  {
   "cell_type": "code",
   "execution_count": null,
   "metadata": {},
   "outputs": [],
   "source": [
    "#| export\n",
    "class ScalarSequenceElement(Transform):\n",
    "    \n",
    "    def __init__(self, idx,to_cls=noop):\n",
    "        store_attr('idx,to_cls')\n",
    "\n",
    "    def encodes(self, item)->None: \n",
    "        return self.to_cls(item[self.idx])"
   ]
  },
  {
   "cell_type": "code",
   "execution_count": null,
   "metadata": {},
   "outputs": [
    {
     "data": {
      "text/plain": [
       "array([8.8531], dtype=float32)"
      ]
     },
     "execution_count": null,
     "metadata": {},
     "output_type": "execute_result"
    }
   ],
   "source": [
    "ScalarSequenceElement(-1)(hdf2seq(hdf_files[0]))"
   ]
  },
  {
   "attachments": {},
   "cell_type": "markdown",
   "metadata": {},
   "source": [
    "### 2.1 Datatypes for Sequences and Scalars"
   ]
  },
  {
   "cell_type": "code",
   "execution_count": null,
   "metadata": {},
   "outputs": [],
   "source": [
    "#| export\n",
    "class TensorSequences(TensorBase):#TensorBase\n",
    "#     def __init__(self,x,c_names=None, **kwargs):\n",
    "#         super().__init__()\n",
    "#         self.c_names = c_names\n",
    "    \n",
    "    def show(self, ctx=None, **kwargs):\n",
    "#         import pdb; pdb.set_trace()\n",
    "        ax = ctx\n",
    "        if ax is None: _,ax = plt.subplots()\n",
    "        ax.plot(self)\n",
    "#         if title is not None: ax.set_title(title)\n",
    "        return ax\n",
    "\n",
    "    @classmethod\n",
    "    @delegates(HDF2Sequence, keep=True)\n",
    "    def from_hdf(cls,clm_names,**kwargs):\n",
    "        return HDF2Sequence(clm_names,**kwargs)\n",
    "    \n",
    "class TensorSequencesInput(TensorSequences): pass\n",
    "class TensorSequencesOutput(TensorSequences): pass"
   ]
  },
  {
   "cell_type": "code",
   "execution_count": null,
   "metadata": {},
   "outputs": [
    {
     "data": {
      "text/plain": [
       "numpy.ndarray"
      ]
     },
     "execution_count": null,
     "metadata": {},
     "output_type": "execute_result"
    }
   ],
   "source": [
    "f = TensorSequencesInput.from_hdf(['current'])\n",
    "type(f(hdf_files[0]))"
   ]
  },
  {
   "cell_type": "code",
   "execution_count": null,
   "metadata": {},
   "outputs": [],
   "source": [
    "# TensorSequences(np.ones((30,2))).show()"
   ]
  },
  {
   "cell_type": "code",
   "execution_count": null,
   "metadata": {},
   "outputs": [],
   "source": [
    "#| export\n",
    "@Transform\n",
    "def toTensorSequencesInput(o): return TensorSequencesInput(o)\n",
    "@Transform\n",
    "def toTensorSequencesOutput(o): return TensorSequencesOutput(o)"
   ]
  },
  {
   "cell_type": "code",
   "execution_count": null,
   "metadata": {},
   "outputs": [],
   "source": [
    "#| export\n",
    "class TensorScalars(TensorBase):\n",
    "    @classmethod\n",
    "    @delegates(HDF2Scalars, keep=True)\n",
    "    def from_hdf(cls,clm_names,**kwargs):\n",
    "        return HDF2Scalars(clm_names,**kwargs)\n",
    "    \n",
    "    \n",
    "class TensorScalarsInput(TensorScalars): pass\n",
    "class TensorScalarsOutput(TensorScalars): pass\n"
   ]
  },
  {
   "attachments": {},
   "cell_type": "markdown",
   "metadata": {},
   "source": [
    "The tensor subclassing mechanism since pytorch 1.7 keeps the tensor type in tensor operations. Operations with different branches of subclasses of tensors require a implementation of '__torch_function__'.\n",
    "Fastai implements 'TensorBase.register_func' to mark methods that behave for the given types like the default torch operation.\n",
    "\n",
    "https://pytorch.org/docs/stable/notes/extending.html#extending-torch\n"
   ]
  },
  {
   "cell_type": "code",
   "execution_count": null,
   "metadata": {},
   "outputs": [],
   "source": [
    "#| export\n",
    "for f in torch.nn.functional.mse_loss,torch.nn.functional.huber_loss, Tensor.__getitem__, Tensor.__ne__,Tensor.__eq__,Tensor.add,Tensor.sub,Tensor.mul,Tensor.div,Tensor.__rsub__,Tensor.__radd__,Tensor.matmul,Tensor.bmm:\n",
    "    TensorBase.register_func(f,TensorSequences)\n",
    "    TensorBase.register_func(f,TensorScalars)"
   ]
  },
  {
   "cell_type": "code",
   "execution_count": null,
   "metadata": {},
   "outputs": [
    {
     "data": {
      "text/plain": [
       "TensorSequencesInput(0.1628)"
      ]
     },
     "execution_count": null,
     "metadata": {},
     "output_type": "execute_result"
    }
   ],
   "source": [
    "x1 = TensorSequencesInput(torch.rand((10,10)))\n",
    "x2 = TensorSequencesOutput(torch.rand((10,10)))\n",
    "torch.nn.functional.mse_loss(x1,x2)"
   ]
  },
  {
   "attachments": {},
   "cell_type": "markdown",
   "metadata": {},
   "source": [
    "## 3. Transformations\n"
   ]
  },
  {
   "attachments": {},
   "cell_type": "markdown",
   "metadata": {},
   "source": [
    "### 3.1 Sequence Slicing Transformation"
   ]
  },
  {
   "cell_type": "code",
   "execution_count": null,
   "metadata": {},
   "outputs": [],
   "source": [
    "#| export \n",
    "class SeqSlice(Transform):\n",
    "    '''Take a slice from an array-like object. Useful for e.g. shifting input and output'''\n",
    "    def __init__(self, l_slc=None,r_slc=None):\n",
    "        self.l_slc,self.r_slc = l_slc,r_slc\n",
    "        \n",
    "    def encodes(self, o): return o[self.l_slc:self.r_slc]"
   ]
  },
  {
   "cell_type": "code",
   "execution_count": null,
   "metadata": {},
   "outputs": [],
   "source": [
    "l_shift = SeqSlice(r_slc=-1)\n",
    "arr = np.ones((5))\n",
    "test_eq(l_shift(arr),arr[:-1])"
   ]
  },
  {
   "attachments": {},
   "cell_type": "markdown",
   "metadata": {},
   "source": [
    "### 3.2 Sequence Noise Injection Transformation"
   ]
  },
  {
   "cell_type": "code",
   "execution_count": null,
   "metadata": {},
   "outputs": [],
   "source": [
    "#| export\n",
    "class SeqNoiseInjection(RandTransform):\n",
    "    split_idx=0 #apply only to training data, if None it will be applied to all data\n",
    "    '''Adds normal distributed noise to the tensor sequence with seperate mean and std for every signal'''\n",
    "    def __init__(self, std=1e-1,mean=0.,p=1.0):\n",
    "        super().__init__(p=p)\n",
    "        self.std = tensor(std).type(torch.float)\n",
    "        self.mean = tensor(mean).type(torch.float)\n",
    "        \n",
    "    def encodes(self, o:TensorSequencesInput): \n",
    "        if o.device != self.mean.device:\n",
    "            self.std = self.std.to(o.device)\n",
    "            self.mean = self.mean.to(o.device)\n",
    "        #expand creates a view on a tensor and is therefore very fast compared to copy\n",
    "        return o+torch.normal(mean=self.mean.expand_as(o), \n",
    "                              std=self.std.expand_as(o))"
   ]
  },
  {
   "cell_type": "code",
   "execution_count": null,
   "metadata": {},
   "outputs": [
    {
     "data": {
      "text/plain": [
       "(TensorSequencesInput([[ 1.,  1.,  1.],\n",
       "                       [-1., -1., -1.]]),\n",
       " torch.Size([2, 3]))"
      ]
     },
     "execution_count": null,
     "metadata": {},
     "output_type": "execute_result"
    }
   ],
   "source": [
    "x = TensorSequencesInput(tensor([[1,1,1],[-1,-1,-1.0]]))\n",
    "ns_mean = tensor([0.,10.1,3.1])\n",
    "ns_std = tensor([1.,1.1,0.1])\n",
    "x,x.shape"
   ]
  },
  {
   "cell_type": "code",
   "execution_count": null,
   "metadata": {},
   "outputs": [
    {
     "data": {
      "text/plain": [
       "TensorSequencesInput([[ 1.,  1.,  1.],\n",
       "                      [-1., -1., -1.]])"
      ]
     },
     "execution_count": null,
     "metadata": {},
     "output_type": "execute_result"
    }
   ],
   "source": [
    "seq_noise = SeqNoiseInjection(std=ns_std,mean=ns_mean)\n",
    "seq_noise(x)"
   ]
  },
  {
   "cell_type": "code",
   "execution_count": null,
   "metadata": {},
   "outputs": [
    {
     "data": {
      "text/plain": [
       "TensorSequencesInput([[ 1.,  1.,  1.],\n",
       "                      [-1., -1., -1.]])"
      ]
     },
     "execution_count": null,
     "metadata": {},
     "output_type": "execute_result"
    }
   ],
   "source": [
    "seq_noise = SeqNoiseInjection(std=ns_std*10)\n",
    "seq_noise(x)"
   ]
  },
  {
   "cell_type": "code",
   "execution_count": null,
   "metadata": {},
   "outputs": [],
   "source": [
    "#| export\n",
    "class SeqNoiseInjection_Varying(RandTransform):\n",
    "    split_idx=0\n",
    "    '''Adds normal distributed noise to the tensor sequence with a normal distributed standard deviation for every application'''\n",
    "    def __init__(self, std_std=0.1,p=1.0):\n",
    "        super().__init__(p=p)\n",
    "        self.std_std = tensor(std_std).type(torch.float)\n",
    "        \n",
    "    def encodes(self, o:TensorSequencesInput): \n",
    "        if o.device != self.std_std.device:\n",
    "            self.std_std = self.std_std.to(o.device)\n",
    "            \n",
    "        #expand creates a view on a tensor and is therefore very fast compared to copy\n",
    "        std = torch.normal(mean=0,std=self.std_std).abs()\n",
    "        return o+torch.normal(mean=0,std=std.expand_as(o))"
   ]
  },
  {
   "cell_type": "code",
   "execution_count": null,
   "metadata": {},
   "outputs": [
    {
     "data": {
      "text/plain": [
       "(TensorSequencesInput([[0, 0, 0],\n",
       "                       [0, 0, 0]]),\n",
       " torch.Size([2, 3]))"
      ]
     },
     "execution_count": null,
     "metadata": {},
     "output_type": "execute_result"
    }
   ],
   "source": [
    "x = TensorSequencesInput(tensor([[0,0,0],[0,0,0]]))\n",
    "ns_std = tensor([1.,1.1,0.1])\n",
    "x,x.shape"
   ]
  },
  {
   "cell_type": "code",
   "execution_count": null,
   "metadata": {},
   "outputs": [
    {
     "data": {
      "text/plain": [
       "TensorSequencesInput([[0, 0, 0],\n",
       "                      [0, 0, 0]])"
      ]
     },
     "execution_count": null,
     "metadata": {},
     "output_type": "execute_result"
    }
   ],
   "source": [
    "seq_noise = SeqNoiseInjection_Varying(std_std=ns_std)\n",
    "seq_noise(x)"
   ]
  },
  {
   "cell_type": "code",
   "execution_count": null,
   "metadata": {},
   "outputs": [],
   "source": [
    "#| export\n",
    "class SeqNoiseInjection_Grouped(RandTransform):\n",
    "    split_idx=0\n",
    "    '''Adds normal distributed noise to the tensor sequence with a normal distributed standard deviation for every application, every group gert'''\n",
    "    def __init__(self, std_std,std_idx,p=1.0):\n",
    "        super().__init__(p=p)\n",
    "        self.std_std = tensor(std_std).type(torch.float)\n",
    "        self.std_idx = tensor(std_idx).type(torch.long)\n",
    "        \n",
    "    def encodes(self, o:TensorSequencesInput): \n",
    "        if o.device != self.std_std.device:\n",
    "            self.std_std = self.std_std.to(o.device)\n",
    "            \n",
    "        #expand creates a view on a tensor and is therefore very fast compared to copy\n",
    "        std = torch.normal(mean=0,std=self.std_std).abs()[self.std_idx]\n",
    "        return o+torch.normal(mean=0,std=std.expand_as(o))"
   ]
  },
  {
   "cell_type": "code",
   "execution_count": null,
   "metadata": {},
   "outputs": [
    {
     "data": {
      "text/plain": [
       "(TensorSequencesInput([[0, 0, 0],\n",
       "                       [0, 0, 0]]),\n",
       " torch.Size([2, 3]))"
      ]
     },
     "execution_count": null,
     "metadata": {},
     "output_type": "execute_result"
    }
   ],
   "source": [
    "x = TensorSequencesInput(tensor([[0,0,0],[0,0,0]]))\n",
    "ns_std = tensor([1.,1.1,0.1])\n",
    "x,x.shape"
   ]
  },
  {
   "cell_type": "code",
   "execution_count": null,
   "metadata": {},
   "outputs": [
    {
     "data": {
      "text/plain": [
       "TensorSequencesInput([[0, 0, 0],\n",
       "                      [0, 0, 0]])"
      ]
     },
     "execution_count": null,
     "metadata": {},
     "output_type": "execute_result"
    }
   ],
   "source": [
    "seq_noise = SeqNoiseInjection_Grouped(std_std=[3.,0],std_idx=[0,0,1])\n",
    "seq_noise(x)"
   ]
  },
  {
   "attachments": {},
   "cell_type": "markdown",
   "metadata": {},
   "source": [
    "### 3.2 Sequence Bias Injection Transformation"
   ]
  },
  {
   "cell_type": "code",
   "execution_count": null,
   "metadata": {},
   "outputs": [],
   "source": [
    "#| export\n",
    "class SeqBiasInjection(RandTransform):\n",
    "    split_idx=0\n",
    "    '''Adds a normal distributed offset to the tensor sequence with seperate mean and std for every signal'''\n",
    "    def __init__(self, std=1e-1,mean=0.,p=1.0):\n",
    "        super().__init__(p=p)\n",
    "        self.std = tensor(std).type(torch.float)\n",
    "        self.mean = tensor(mean).type(torch.float)\n",
    "        \n",
    "    def encodes(self, o:TensorSequencesInput): \n",
    "        if o.device != self.mean.device:\n",
    "            self.std = self.std.to(o.device)\n",
    "            self.mean = self.mean.to(o.device)\n",
    "        \n",
    "        #expand creates a view on a tensor and is therefore very fast compared to copy\n",
    "        mean=self.mean.repeat((o.shape[0],1,1)).expand((o.shape[0],1,o.shape[2]))\n",
    "        std= self.std.repeat((o.shape[0],1,1)).expand((o.shape[0],1,o.shape[2]))\n",
    "        n = torch.normal(mean=mean, std=std).expand_as(o)\n",
    "        return o+n"
   ]
  },
  {
   "cell_type": "code",
   "execution_count": null,
   "metadata": {},
   "outputs": [
    {
     "data": {
      "text/plain": [
       "TensorSequencesInput([[ 1., -1.]])"
      ]
     },
     "execution_count": null,
     "metadata": {},
     "output_type": "execute_result"
    }
   ],
   "source": [
    "x = TensorSequencesInput(tensor([[[1,1,1],[-1,-1,-1.0]]]))\n",
    "ns_mean = tensor([0.,10.1,3.1])\n",
    "ns_std = tensor([1.,1.1,0.1])\n",
    "seq_bias = SeqBiasInjection(std=ns_std,mean=ns_std)\n",
    "seq_bias(x)[...,0]"
   ]
  },
  {
   "cell_type": "code",
   "execution_count": null,
   "metadata": {},
   "outputs": [
    {
     "data": {
      "text/plain": [
       "tensor([1.0000, 1.1000, 0.1000])"
      ]
     },
     "execution_count": null,
     "metadata": {},
     "output_type": "execute_result"
    }
   ],
   "source": [
    "seq_bias.mean"
   ]
  },
  {
   "cell_type": "code",
   "execution_count": null,
   "metadata": {},
   "outputs": [
    {
     "data": {
      "text/plain": [
       "TensorSequencesInput([[[ 1.,  1.,  1.],\n",
       "                       [-1., -1., -1.]]])"
      ]
     },
     "execution_count": null,
     "metadata": {},
     "output_type": "execute_result"
    }
   ],
   "source": [
    "seq_bias = SeqBiasInjection(std=ns_std*10)\n",
    "seq_bias(x)"
   ]
  },
  {
   "attachments": {},
   "cell_type": "markdown",
   "metadata": {},
   "source": [
    "### 3.3 Normalization\n",
    "`Normalize` is programmed for `TensorImage` as an input tensor. It gets. At init the variable axes need to be chosen correspondingly to the shape of your tensor."
   ]
  },
  {
   "cell_type": "code",
   "execution_count": null,
   "metadata": {},
   "outputs": [],
   "source": [
    "#| export\n",
    "@Normalize\n",
    "def encodes(self, x:TensorSequencesInput): \n",
    "    if x.device != self.mean.device:\n",
    "        self.mean = self.mean.to(x.device)\n",
    "        self.std = self.std.to(x.device)\n",
    "    return (x-self.mean) / self.std\n",
    "\n",
    "@Normalize\n",
    "def decodes(self, x:TensorSequencesInput):\n",
    "    if x.device != self.mean.device:\n",
    "        self.mean = self.mean.to(x.device)\n",
    "        self.std = self.std.to(x.device)\n",
    "    return (x*self.std + self.mean)"
   ]
  },
  {
   "cell_type": "code",
   "execution_count": null,
   "metadata": {},
   "outputs": [
    {
     "data": {
      "text/plain": [
       "(TensorSequencesInput([[[ 1.,  1.,  1.],\n",
       "                        [-1., -1., -1.]]]),\n",
       " TensorSequencesInput([[[  1.0000,  -8.2727, -21.0000],\n",
       "                        [ -1.0000, -10.0909, -41.0000]]]))"
      ]
     },
     "execution_count": null,
     "metadata": {},
     "output_type": "execute_result"
    }
   ],
   "source": [
    "norm = Normalize.from_stats(mean=ns_mean,std=ns_std,dim=1,ndim=2,cuda=False)\n",
    "x,norm(x)"
   ]
  },
  {
   "attachments": {},
   "cell_type": "markdown",
   "metadata": {},
   "source": [
    "## 4. Split in Training, Validation\n",
    "Splitting kann anhand von vorher bekannten Indizes, dem Dateipfad oder anderen allgemeinen Funktion durchgeführt werden.\n",
    "\n",
    "Splitting innerhalb einer Sequenzen sollte in der Praxis nur dann geschehen wenn eine einzige Sequenz vorhanden ist. Diese kann dann vorher manuell geteilt werden.\n"
   ]
  },
  {
   "attachments": {},
   "cell_type": "markdown",
   "metadata": {},
   "source": [
    "### 4.1 Splitting mit vorgegebenem Index"
   ]
  },
  {
   "cell_type": "code",
   "execution_count": null,
   "metadata": {},
   "outputs": [],
   "source": [
    "splitter = IndexSplitter([1,2])\n",
    "test_eq(splitter(hdf_files),[[0],[1,2]])"
   ]
  },
  {
   "attachments": {},
   "cell_type": "markdown",
   "metadata": {},
   "source": [
    "### 4.2 Splitting mit allgemeiner Funktion\n",
    "Items, bei denen die definierte Funktion `True` zurück gibt, werden den Validierungsdatensatz zugeordnet, der Rest dem Training. In diesem Fall wird nach dem Übergeordneten Ordnernamen gesucht."
   ]
  },
  {
   "cell_type": "code",
   "execution_count": null,
   "metadata": {},
   "outputs": [],
   "source": [
    "splitter = FuncSplitter(lambda o: Path(o).parent.name == 'valid')\n",
    "test_eq(splitter(hdf_files),[[0,1],[2]])"
   ]
  },
  {
   "attachments": {},
   "cell_type": "markdown",
   "metadata": {},
   "source": [
    "### 4.3 Splitting anhand des Parent-Folders\n",
    "Splitter, der Explizit Training und Validierungsordner den Datensätzen zuordnet"
   ]
  },
  {
   "cell_type": "code",
   "execution_count": null,
   "metadata": {},
   "outputs": [],
   "source": [
    "#| export\n",
    "def _parent_idxs(items, name): return mask2idxs(Path(o).parent.name == name for o in items)\n",
    "\n",
    "def ParentSplitter(train_name='train', valid_name='valid'):\n",
    "    \"Split `items` from the parent folder names (`train_name` and `valid_name`).\"\n",
    "    def _inner(o, **kwargs):\n",
    "        return _parent_idxs(o, train_name),_parent_idxs(o, valid_name)\n",
    "    return _inner"
   ]
  },
  {
   "cell_type": "code",
   "execution_count": null,
   "metadata": {},
   "outputs": [],
   "source": [
    "splitter = ParentSplitter()\n",
    "test_eq(splitter(hdf_files),[[0,1],[2]])"
   ]
  },
  {
   "attachments": {},
   "cell_type": "markdown",
   "metadata": {},
   "source": [
    "### 4.4 Percentage Splitter"
   ]
  },
  {
   "cell_type": "code",
   "execution_count": null,
   "metadata": {},
   "outputs": [],
   "source": [
    "#| export\n",
    "def PercentageSplitter(pct=0.8):\n",
    "    \"Split `items` in order in relative quantity.\"\n",
    "    def _inner(o, **kwargs):\n",
    "        split_idx=int(len(o)*pct)\n",
    "        return L(range(split_idx)),L(range(split_idx,len(o)))\n",
    "    return _inner"
   ]
  },
  {
   "cell_type": "code",
   "execution_count": null,
   "metadata": {},
   "outputs": [],
   "source": [
    "splitter = PercentageSplitter(0.7)\n",
    "test_eq(splitter(hdf_files),[[0,1],[2]])"
   ]
  },
  {
   "attachments": {},
   "cell_type": "markdown",
   "metadata": {},
   "source": [
    "### 4.5 Apply To Dictionary\n",
    "In Case of the Datablock API your items are a list of dictionaries. If you want to apply a Splitter to the path stored within you need a wrapper function."
   ]
  },
  {
   "cell_type": "code",
   "execution_count": null,
   "metadata": {},
   "outputs": [],
   "source": [
    "#| export\n",
    "def ApplyToDict(fn,key='path'):\n",
    "    return lambda x:fn([i[key] for i in x])"
   ]
  },
  {
   "attachments": {},
   "cell_type": "markdown",
   "metadata": {},
   "source": [
    "### 4.6 Valid Column\n",
    "Using the 'valid' column of the Dataframe that has been created by a transformation."
   ]
  },
  {
   "cell_type": "code",
   "execution_count": null,
   "metadata": {},
   "outputs": [],
   "source": [
    "#| export\n",
    "valid_clm_splitter =  FuncSplitter(lambda o:o['valid'])"
   ]
  },
  {
   "cell_type": "code",
   "execution_count": null,
   "metadata": {},
   "outputs": [
    {
     "data": {
      "text/plain": [
       "((#53101) [0,1,2,3,4,5,6,7,8,9...],\n",
       " (#26550) [53101,53102,53103,53104,53105,53106,53107,53108,53109,53110...])"
      ]
     },
     "execution_count": null,
     "metadata": {},
     "output_type": "execute_result"
    }
   ],
   "source": [
    "valid_clm_splitter(src_dicts)"
   ]
  },
  {
   "attachments": {},
   "cell_type": "markdown",
   "metadata": {},
   "source": [
    "## 5. Dataloaders Creation\n",
    "A Datasets combines all implemented components on item level."
   ]
  },
  {
   "cell_type": "code",
   "execution_count": null,
   "metadata": {},
   "outputs": [],
   "source": [
    "#| export\n",
    "def pad_sequence(batch,sorting = False):\n",
    "    '''collate_fn for padding of sequences of different lengths, use in before_batch of databunch, still quite slow'''\n",
    "    #takes list of tuples as input, returns list of tuples\n",
    "    sorted_batch = sorted(batch, key=lambda x: x[0].shape[0], reverse=True) if sorting else batch\n",
    "\n",
    "    pad_func = partial(torch.nn.utils.rnn.pad_sequence,batch_first=True)\n",
    "    padded_tensors = [pad_func([x[tup] for x in sorted_batch]) for tup in range(len(batch[0]))]\n",
    "    padded_list = [retain_types(tuple([tup[entry] for tup in padded_tensors]),batch[0]) for entry in range(len(batch))]\n",
    "    #retain types is important for decoding later back to source items\n",
    "#     import pdb; pdb.set_trace()\n",
    "    \n",
    "    return padded_list"
   ]
  },
  {
   "attachments": {},
   "cell_type": "markdown",
   "metadata": {},
   "source": [
    "### 5.1 Low-Level with Transforms"
   ]
  },
  {
   "cell_type": "code",
   "execution_count": null,
   "metadata": {},
   "outputs": [],
   "source": [
    "tfms=[  [HDF2Sequence(['current','voltage']),SeqSlice(l_slc=1),toTensorSequencesInput],\n",
    "        [HDF2Sequence(['voltage']),SeqSlice(r_slc=-1),toTensorSequencesOutput]]\n",
    "splits = splitter([x['path'] for x in src_dicts])\n",
    "dsrc = Datasets(src_dicts,tfms=tfms,splits=splits)"
   ]
  },
  {
   "cell_type": "code",
   "execution_count": null,
   "metadata": {},
   "outputs": [],
   "source": [
    "# %%timeit\n",
    "# dsrc[0]"
   ]
  },
  {
   "cell_type": "code",
   "execution_count": null,
   "metadata": {},
   "outputs": [
    {
     "data": {
      "text/plain": [
       "torch.Size([128, 100, 2])"
      ]
     },
     "execution_count": null,
     "metadata": {},
     "output_type": "execute_result"
    }
   ],
   "source": [
    "db = dsrc.dataloaders(bs=128,after_batch=[SeqNoiseInjection(std=[1.1,0.01]),Normalize(axes=[0,1])],before_batch=pad_sequence)\n",
    "db.one_batch()[0].shape"
   ]
  },
  {
   "attachments": {},
   "cell_type": "markdown",
   "metadata": {},
   "source": [
    "### 5.2 Mid-Level with Datablock API"
   ]
  },
  {
   "cell_type": "code",
   "execution_count": null,
   "metadata": {},
   "outputs": [],
   "source": [
    "#| export\n",
    "class SequenceBlock(TransformBlock):\n",
    "    def __init__(self, seq_extract,padding=False):\n",
    "        return super().__init__(type_tfms=[seq_extract],\n",
    "                                batch_tfms=[Normalize(axes=[0,1])],\n",
    "                                dls_kwargs={} if not padding else {'before_batch': pad_sequence})\n",
    "\n",
    "    @classmethod\n",
    "    @delegates(HDF2Sequence, keep=True)\n",
    "    def from_hdf(cls, clm_names, seq_cls=TensorSequencesInput,padding=False, **kwargs):\n",
    "        return cls(HDF2Sequence(clm_names,to_cls=seq_cls,**kwargs), padding)\n",
    "\n",
    "    @classmethod\n",
    "    def from_numpy(cls, seq_cls=TensorSequencesInput,padding=False, **kwargs):\n",
    "        return cls(ToTensor(enc=seq_cls), padding)"
   ]
  },
  {
   "cell_type": "code",
   "execution_count": null,
   "metadata": {},
   "outputs": [],
   "source": [
    "seq = DataBlock(blocks=(SequenceBlock.from_hdf(['current','voltage'],TensorSequencesInput,padding=True,cached=None),\n",
    "                        SequenceBlock.from_hdf(['voltage'],TensorSequencesOutput,cached=None)),\n",
    "                get_items=tfm_src,\n",
    "                splitter=ApplyToDict(ParentSplitter()))"
   ]
  },
  {
   "cell_type": "code",
   "execution_count": null,
   "metadata": {},
   "outputs": [],
   "source": [
    "dls = seq.dataloaders(hdf_files)"
   ]
  },
  {
   "cell_type": "code",
   "execution_count": null,
   "metadata": {},
   "outputs": [],
   "source": [
    "#| export\n",
    "class ScalarNormalize(DisplayedTransform):\n",
    "    def __init__(self, mean=None, std=None, axes=(0,)): store_attr()\n",
    "        \n",
    "    @classmethod\n",
    "    def from_stats(cls, mean, std, dim=1, ndim=4, cuda=True): return cls(*broadcast_vec(dim, ndim, mean, std, cuda=cuda))\n",
    "    \n",
    "    def setups(self, dl:DataLoader):\n",
    "        if self.mean is None or self.std is None:\n",
    "            b = dl.one_batch()\n",
    "            for x in b:\n",
    "                if isinstance(x,TensorScalarsInput):\n",
    "                    self.mean,self.std = x.mean(self.axes, keepdim=True),x.std(self.axes, keepdim=True)+1e-7\n",
    "                    return\n",
    "\n",
    "    def encodes(self, x:TensorScalarsInput): \n",
    "        if x.device != self.mean.device:\n",
    "            self.mean = self.mean.to(x.device)\n",
    "            self.std = self.std.to(x.device)\n",
    "        return (x-self.mean) / self.std\n",
    "    \n",
    "    def decodes(self, x:TensorScalarsInput):\n",
    "        if x.device != self.mean.device:\n",
    "            self.mean = self.mean.to(x.device)\n",
    "            self.std = self.std.to(x.device)\n",
    "        return (x*self.std + self.mean)\n",
    "\n",
    "class ScalarBlock(TransformBlock):\n",
    "    def __init__(self, scl_extract):\n",
    "        return super().__init__(type_tfms=[scl_extract],\n",
    "                                batch_tfms=[ScalarNormalize()])\n",
    "\n",
    "    @classmethod\n",
    "    @delegates(HDF2Scalars, keep=True)\n",
    "    def from_hdf(cls, clm_names, scl_cls=TensorScalarsInput, **kwargs):\n",
    "        return cls(HDF2Scalars(clm_names,to_cls=scl_cls,**kwargs))"
   ]
  },
  {
   "attachments": {},
   "cell_type": "markdown",
   "metadata": {},
   "source": [
    "### 5.3 Spectrogram-Datablock"
   ]
  },
  {
   "cell_type": "code",
   "execution_count": null,
   "metadata": {},
   "outputs": [],
   "source": [
    "#| export\n",
    "class TensorSpectrogram(TensorBase):\n",
    "    def show(self, ctx=None, ax=None, title=\"\", **kwargs):\n",
    "        ax = ifnone(ax, ctx)\n",
    "        if ax is None:\n",
    "            _, ax = plt.subplots()\n",
    "        ax.axis(False)\n",
    "        n_channels = self.shape[0]\n",
    "        for i, channel in enumerate(self):\n",
    "            ia = ax.inset_axes((i / n_channels, 0.2, 1 / n_channels, 0.7))\n",
    "#             ia = ax.inset_axes((i / n_channels, 0, 1 / n_channels, 1))\n",
    "    \n",
    "            ia.imshow(channel.cpu().numpy(),aspect ='auto',origin ='lower')\n",
    "            if i>0: ia.set_yticks([])\n",
    "            ia.set_title(f\"Channel {i}\")\n",
    "        ax.set_title(title)\n",
    "        return ax\n",
    "\n",
    "class TensorSpectrogramInput(TensorSpectrogram): pass\n",
    "class TensorSpectrogramOutput(TensorSpectrogram): pass"
   ]
  },
  {
   "cell_type": "code",
   "execution_count": null,
   "metadata": {},
   "outputs": [
    {
     "data": {
      "text/plain": [
       "torch.Size([2000, 1])"
      ]
     },
     "execution_count": null,
     "metadata": {},
     "output_type": "execute_result"
    }
   ],
   "source": [
    "seq_spec = TensorSpectrogramInput(HDF2Sequence(['current'],to_cls=TensorSpectrogramInput)._hdf_extract_sequence(hdf_files[0],r_slc=2000))\n",
    "seq_spec.shape"
   ]
  },
  {
   "cell_type": "code",
   "execution_count": null,
   "metadata": {},
   "outputs": [],
   "source": [
    "#| exporti\n",
    "def complex_norm(\n",
    "        complex_tensor: Tensor,\n",
    "        power: float = 1.0\n",
    ") -> Tensor:\n",
    "    r\"\"\"Compute the norm of complex tensor input.\n",
    "\n",
    "    Args:\n",
    "        complex_tensor (Tensor): Tensor shape of `(..., complex=2)`\n",
    "        power (float): Power of the norm. (Default: `1.0`).\n",
    "\n",
    "    Returns:\n",
    "        Tensor: Power of the normed input tensor. Shape of `(..., )`\n",
    "    \"\"\"\n",
    "    if power == 1.0:\n",
    "        return torch.norm(complex_tensor, 2, -1)\n",
    "    return torch.norm(complex_tensor, 2, -1).pow(power)"
   ]
  },
  {
   "cell_type": "code",
   "execution_count": null,
   "metadata": {},
   "outputs": [],
   "source": [
    "#| exporti\n",
    "def spectrogram(\n",
    "        waveform: Tensor,\n",
    "        pad: int,\n",
    "        window: Tensor,\n",
    "        n_fft: int,\n",
    "        hop_length: int,\n",
    "        win_length: int,\n",
    "        power: Optional[float],\n",
    "        normalized: bool\n",
    ") -> Tensor:\n",
    "    r\"\"\"Create a spectrogram or a batch of spectrograms from a raw audio signal.\n",
    "    The spectrogram can be either magnitude-only or complex.\n",
    "\n",
    "    Args:\n",
    "        waveform (Tensor): Tensor of audio of dimension (..., time)\n",
    "        pad (int): Two sided padding of signal\n",
    "        window (Tensor): Window tensor that is applied/multiplied to each frame/window\n",
    "        n_fft (int): Size of FFT\n",
    "        hop_length (int): Length of hop between STFT windows\n",
    "        win_length (int): Window size\n",
    "        power (float or None): Exponent for the magnitude spectrogram,\n",
    "            (must be > 0) e.g., 1 for energy, 2 for power, etc.\n",
    "            If None, then the complex spectrum is returned instead.\n",
    "        normalized (bool): Whether to normalize by magnitude after stft\n",
    "\n",
    "    Returns:\n",
    "        Tensor: Dimension (..., freq, time), freq is\n",
    "        ``n_fft // 2 + 1`` and ``n_fft`` is the number of\n",
    "        Fourier bins, and time is the number of window hops (n_frame).\n",
    "    \"\"\"\n",
    "\n",
    "    if pad > 0:\n",
    "        # TODO add \"with torch.no_grad():\" back when JIT supports it\n",
    "        waveform = torch.nn.functional.pad(waveform, (pad, pad), \"constant\")\n",
    "\n",
    "    # pack batch\n",
    "    shape = waveform.size()\n",
    "    waveform = waveform.view(-1, shape[-1])\n",
    "\n",
    "    # default values are consistent with librosa.core.spectrum._spectrogram\n",
    "    spec_f = torch.view_as_real(torch.stft(\n",
    "        waveform, n_fft, hop_length, win_length, window, True, \"reflect\", False, True,return_complex=True\n",
    "    ))\n",
    "\n",
    "    # unpack batch\n",
    "    spec_f = spec_f.view(shape[:-1] + spec_f.shape[-3:])\n",
    "\n",
    "    if normalized:\n",
    "        spec_f /= window.pow(2.).sum().sqrt()\n",
    "    if power is not None:\n",
    "        spec_f = complex_norm(spec_f, power=power)\n",
    "\n",
    "    return spec_f"
   ]
  },
  {
   "cell_type": "code",
   "execution_count": null,
   "metadata": {},
   "outputs": [],
   "source": [
    "#| exporti\n",
    "from typing import Callable\n",
    "\n",
    "class Spectrogram(torch.nn.Module):\n",
    "    r\"\"\"Create a spectrogram from a audio signal.\n",
    "\n",
    "    Args:\n",
    "        n_fft (int, optional): Size of FFT, creates ``n_fft // 2 + 1`` bins. (Default: ``400``)\n",
    "        win_length (int or None, optional): Window size. (Default: ``n_fft``)\n",
    "        hop_length (int or None, optional): Length of hop between STFT windows. (Default: ``win_length // 2``)\n",
    "        pad (int, optional): Two sided padding of signal. (Default: ``0``)\n",
    "        window_fn (Callable[..., Tensor], optional): A function to create a window tensor\n",
    "            that is applied/multiplied to each frame/window. (Default: ``torch.hann_window``)\n",
    "        power (float or None, optional): Exponent for the magnitude spectrogram,\n",
    "            (must be > 0) e.g., 1 for energy, 2 for power, etc.\n",
    "            If None, then the complex spectrum is returned instead. (Default: ``2``)\n",
    "        normalized (bool, optional): Whether to normalize by magnitude after stft. (Default: ``False``)\n",
    "        wkwargs (dict or None, optional): Arguments for window function. (Default: ``None``)\n",
    "    \"\"\"\n",
    "    __constants__ = ['n_fft', 'win_length', 'hop_length', 'pad', 'power', 'normalized']\n",
    "\n",
    "    def __init__(self,\n",
    "                 n_fft: int = 400,\n",
    "                 win_length: Optional[int] = None,\n",
    "                 hop_length: Optional[int] = None,\n",
    "                 pad: int = 0,\n",
    "                 window_fn: Callable[..., Tensor] = torch.hann_window,\n",
    "                 power: Optional[float] = 2.,\n",
    "                 normalized: bool = False,\n",
    "                 wkwargs: Optional[dict] = None) -> None:\n",
    "        super(Spectrogram, self).__init__()\n",
    "        self.n_fft = n_fft\n",
    "        # number of FFT bins. the returned STFT result will have n_fft // 2 + 1\n",
    "        # number of frequecies due to onesided=True in torch.stft\n",
    "        self.win_length = win_length if win_length is not None else n_fft\n",
    "        self.hop_length = hop_length if hop_length is not None else self.win_length // 2\n",
    "        window = window_fn(self.win_length) if wkwargs is None else window_fn(self.win_length, **wkwargs)\n",
    "        self.register_buffer('window', window)\n",
    "        self.pad = pad\n",
    "        self.power = power\n",
    "        self.normalized = normalized\n",
    "\n",
    "    def forward(self, waveform: Tensor) -> Tensor:\n",
    "        r\"\"\"\n",
    "        Args:\n",
    "            waveform (Tensor): Tensor of audio of dimension (..., time).\n",
    "\n",
    "        Returns:\n",
    "            Tensor: Dimension (..., freq, time), where freq is\n",
    "            ``n_fft // 2 + 1`` where ``n_fft`` is the number of\n",
    "            Fourier bins, and time is the number of window hops (n_frame).\n",
    "        \"\"\"\n",
    "        return spectrogram(waveform, self.pad, self.window, self.n_fft, self.hop_length,\n",
    "                             self.win_length, self.power, self.normalized)"
   ]
  },
  {
   "cell_type": "code",
   "execution_count": null,
   "metadata": {},
   "outputs": [],
   "source": [
    "#| export\n",
    "@delegates(Spectrogram, keep=True)\n",
    "class Sequence2Spectrogram(Transform):\n",
    "    '''calculates the FFT of a sequence'''\n",
    "    \n",
    "    def __init__(self,scaling='log',**kwargs): \n",
    "        self.scaling=scaling\n",
    "        self.tfm = Spectrogram(**kwargs)\n",
    "        \n",
    "    def encodes(self, o:TensorSpectrogram): \n",
    "        if o.device != self.tfm.window.device: self.tfm.window = self.tfm.window.to(o.device)\n",
    "#         import pdb;pdb.set_trace()\n",
    "        spec = self.tfm(o.transpose(-1,-2).contiguous())\n",
    "        if self.scaling == 'log': spec = torch.log10(spec + 1e-10)\n",
    "        return spec"
   ]
  },
  {
   "cell_type": "code",
   "execution_count": null,
   "metadata": {},
   "outputs": [],
   "source": [
    "#| export\n",
    "class SpectrogramBlock(TransformBlock):\n",
    "    def __init__(self, seq_extract,padding=False,n_fft=100,hop_length=None,normalized=False):\n",
    "        return super().__init__(type_tfms=[seq_extract],\n",
    "                                batch_tfms=[Sequence2Spectrogram(n_fft=n_fft,hop_length=hop_length,normalized=normalized)],\n",
    "                                dls_kwargs={} if not padding else {'before_batch': pad_sequence})\n",
    "\n",
    "    @classmethod\n",
    "    @delegates(HDF2Sequence, keep=True)\n",
    "    def from_hdf(cls, clm_names, seq_cls=TensorSpectrogramInput,padding=False,n_fft=100,hop_length=None,normalized=False, **kwargs):\n",
    "        return cls(HDF2Sequence(clm_names,to_cls=seq_cls,**kwargs), padding,n_fft=n_fft,hop_length=hop_length,normalized=normalized)"
   ]
  },
  {
   "cell_type": "code",
   "execution_count": null,
   "metadata": {},
   "outputs": [],
   "source": [
    "dls_spec = DataBlock(blocks=(SpectrogramBlock.from_hdf(['current','voltage'],n_fft=100,hop_length=10,normalized=True),\n",
    "                        SequenceBlock.from_hdf(['voltage'],TensorSequencesOutput)),\n",
    "                get_items= CreateDict([DfHDFCreateWindows(win_sz=2000+1,stp_sz=10,clm='current')]),\n",
    "                splitter=ApplyToDict(ParentSplitter())).dataloaders(hdf_files)"
   ]
  },
  {
   "cell_type": "code",
   "execution_count": null,
   "metadata": {},
   "outputs": [
    {
     "data": {
      "text/plain": [
       "torch.Size([64, 2, 51, 201])"
      ]
     },
     "execution_count": null,
     "metadata": {},
     "output_type": "execute_result"
    }
   ],
   "source": [
    "dls_spec.one_batch()[0].shape"
   ]
  },
  {
   "attachments": {},
   "cell_type": "markdown",
   "metadata": {},
   "source": [
    "## 6. Show Batches and Results"
   ]
  },
  {
   "cell_type": "code",
   "execution_count": null,
   "metadata": {},
   "outputs": [],
   "source": [
    "#| export\n",
    "def plot_sequence(axs,in_sig,targ_sig,out_sig=None,**kwargs):\n",
    "    n_targ = targ_sig.shape[1]\n",
    "    for j,ax in  enumerate(axs[:-1]):\n",
    "        ax.plot(targ_sig[:,j])\n",
    "        if out_sig is not None: \n",
    "            ax.plot(out_sig[:,j])\n",
    "            ax.legend(['y','ŷ'])\n",
    "            if 'ref' in kwargs:\n",
    "                ax.plot(kwargs['ref'][:,j]) \n",
    "        ax.label_outer()\n",
    "    axs[-1].plot(in_sig)"
   ]
  },
  {
   "cell_type": "code",
   "execution_count": null,
   "metadata": {},
   "outputs": [],
   "source": [
    "#| export\n",
    "def plot_seqs_single_figure(n_samples,n_targ,samples,plot_func,outs=None,**kwargs):\n",
    "    rows=max(1,((n_samples-1) // 3)+1)\n",
    "    cols=min(3,n_samples)\n",
    "    fig = plt.figure(figsize=(9,2*cols))\n",
    "    outer_grid = fig.add_gridspec(rows, cols)\n",
    "#     import pdb; pdb.set_trace()\n",
    "    for i in range(n_samples):\n",
    "        in_sig = samples[i][0]\n",
    "        targ_sig = samples[i][1]\n",
    "        if outs is not None: out_sig = outs[i][0]\n",
    "        inner_grid = outer_grid[i].subgridspec(n_targ+1, 1)\n",
    "        axs = [fig.add_subplot(inner_grid[j]) for j in range(n_targ+1)]\n",
    "        plot_func(axs,in_sig,targ_sig,out_sig=out_sig if outs is not None else None,**kwargs)\n",
    "    plt.tight_layout()"
   ]
  },
  {
   "cell_type": "code",
   "execution_count": null,
   "metadata": {},
   "outputs": [],
   "source": [
    "#| export\n",
    "def plot_seqs_multi_figures(n_samples,n_targ,samples,plot_func,outs=None,**kwargs):\n",
    "    for i in range(n_samples):\n",
    "        fig = plt.figure(figsize=(9,3))\n",
    "        axs = fig.subplots(nrows=n_targ+1,sharex=True)\n",
    "        in_sig = samples[i][0]\n",
    "        targ_sig = samples[i][1]\n",
    "        if outs is not None:  out_sig = outs[i][0]\n",
    "            \n",
    "        plot_func(axs,in_sig,targ_sig,out_sig=out_sig if outs is not None else None,**kwargs)\n",
    "        \n",
    "        plt.tight_layout()"
   ]
  },
  {
   "cell_type": "code",
   "execution_count": null,
   "metadata": {},
   "outputs": [],
   "source": [
    "#| export\n",
    "@typedispatch\n",
    "def show_batch(x:TensorSequences, y:TensorSequences, samples, ctxs=None, max_n=6, **kwargs):\n",
    "    n_samples = min(len(samples), max_n)\n",
    "    n_targ = samples[0][1].shape[1]\n",
    "    if n_samples > 3:\n",
    "        #if there are more then 3 samples to plot then put them in a single figure\n",
    "        plot_seqs_single_figure(n_samples,n_targ,samples,plot_sequence, **kwargs)\n",
    "    else:\n",
    "        #if there are less then 3 samples to plot then put each in its own figure\n",
    "        plot_seqs_multi_figures(n_samples,n_targ,samples,plot_sequence, **kwargs)\n",
    "    return ctxs"
   ]
  },
  {
   "cell_type": "code",
   "execution_count": null,
   "metadata": {},
   "outputs": [],
   "source": [
    "#| export\n",
    "@typedispatch\n",
    "def show_results(x:TensorSequences, y:TensorSequences, samples, outs, ctxs=None, max_n=2, **kwargs):\n",
    "    n_samples = min(len(samples), max_n)\n",
    "    n_targ = samples[0][1].shape[1]\n",
    "    if n_samples > 3:\n",
    "        #if there are more then 3 samples to plot then put them in a single figure\n",
    "        plot_seqs_single_figure(n_samples,n_targ,samples,plot_sequence,outs, **kwargs)\n",
    "    else:\n",
    "        #if there are less then 3 samples to plot then put each in its own figure\n",
    "        plot_seqs_multi_figures(n_samples,n_targ,samples,plot_sequence,outs, **kwargs)\n",
    "    return ctxs"
   ]
  },
  {
   "cell_type": "code",
   "execution_count": null,
   "metadata": {},
   "outputs": [
    {
     "data": {
      "application/vnd.jupyter.widget-view+json": {
       "model_id": "8786855308dc454f8ed8431f614ad48f",
       "version_major": 2,
       "version_minor": 0
      },
      "image/png": "[encoded data removed]",
      "text/html": [
       "\n",
       "            <div style=\"display: inline-block;\">\n",
       "                <div class=\"jupyter-widgets widget-label\" style=\"text-align: center;\">\n",
       "                    Figure\n",
       "                </div>\n",
       "                <img src='data:image/png;base64,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' width=900.0/>\n",
       "            </div>\n",
       "        "
      ],
      "text/plain": [
       "Canvas(toolbar=Toolbar(toolitems=[('Home', 'Reset original view', 'home', 'home'), ('Back', 'Back to previous …"
      ]
     },
     "metadata": {},
     "output_type": "display_data"
    }
   ],
   "source": [
    "dls.show_batch()"
   ]
  },
  {
   "cell_type": "code",
   "execution_count": null,
   "metadata": {},
   "outputs": [],
   "source": [
    "#| include: false\n",
    "import nbdev; nbdev.nbdev_export()"
   ]
  },
  {
   "cell_type": "code",
   "execution_count": null,
   "metadata": {},
   "outputs": [],
   "source": []
  },
  {
   "cell_type": "code",
   "execution_count": null,
   "metadata": {},
   "outputs": [],
   "source": []
  }
 ],
 "metadata": {
  "kernelspec": {
   "display_name": "python3",
   "language": "python",
   "name": "python3"
  }
 },
 "nbformat": 4,
 "nbformat_minor": 4
}
