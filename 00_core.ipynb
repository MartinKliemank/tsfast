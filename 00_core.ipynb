{
 "cells": [
  {
   "cell_type": "raw",
   "metadata": {},
   "source": [
    "---\n",
    "description: Corefunctionality for data preparation of sequential data for pytorch,\n",
    "  fastai models\n",
    "output-file: core.html\n",
    "title: Corefunctions\n",
    "\n",
    "---\n",
    "\n"
   ]
  },
  {
   "cell_type": "code",
   "execution_count": null,
   "metadata": {},
   "outputs": [],
   "source": [
    "#| default_exp core\n",
    "#| default_cls_lvl 3"
   ]
  },
  {
   "cell_type": "code",
   "execution_count": null,
   "metadata": {},
   "outputs": [],
   "source": [
    "#| include: false\n",
    "# %load_ext line_profiler\n",
    "%matplotlib widget"
   ]
  },
  {
   "attachments": {},
   "cell_type": "markdown",
   "metadata": {},
   "source": [
    "# Application Structure\n",
    "The data will be extracted and prepared via transforms. Those are grouped in:\n",
    "- Type Transforms: Those extraxt the needed components from the source items, like input sequences or target scalar values. The work on single tensors.\n",
    "- Item Transforms: Those Transforms may work on tuple level and therefore may process relationships between input and output.\n",
    "- Batch Transform: Those transforms work on batch level. They receive batched tensors and may apply lazy transforms like normalization very effeciently.\n",
    "\n",
    "An application example may look like the following:\n",
    "- sourceitems: \n",
    "    - path extraction with hdf5 file endings\n",
    "    - create pandas dataframe with information for type transforms, like slices\n",
    "    - filter items in pandas dataframe\n",
    "- type transforms: \n",
    "    - extract hdf5 input and output sequence\n",
    "    - create windows\n",
    "- item transforms: \n",
    "    - filter sequence by value\n",
    "    - shift output sequence by 1 element\n",
    "- batch transforms: \n",
    "    - noise injection\n",
    "    - normalization\n",
    "    "
   ]
  },
  {
   "cell_type": "code",
   "execution_count": null,
   "metadata": {},
   "outputs": [],
   "source": [
    "#| export\n",
    "from fastai.data.all import *\n",
    "from fastai.vision.augment import RandTransform\n",
    "import h5py"
   ]
  },
  {
   "cell_type": "code",
   "execution_count": null,
   "metadata": {},
   "outputs": [],
   "source": [
    "#| export\n",
    "def obj_in_lst(lst,cls):\n",
    "    '''retrieve first object of type cls from a list'''\n",
    "    return next(o for o in lst if type(o) is cls)"
   ]
  },
  {
   "cell_type": "code",
   "execution_count": null,
   "metadata": {},
   "outputs": [],
   "source": [
    "#| export\n",
    "def count_parameters(model):\n",
    "    '''retrieve number of trainable parameters of a model'''\n",
    "    return sum(p.numel() for p in model.parameters() if p.requires_grad)"
   ]
  },
  {
   "attachments": {},
   "cell_type": "markdown",
   "metadata": {},
   "source": [
    "## 1. Extract Source Items\n",
    "The file paths may be extracted with `get_files` of fastai2. `get_hdf_files` removes the need of writing the hdf5 file extension.\n",
    "\n",
    "Then a pandas dataframe may be created in case further information for the source items need to be stored like slices for the windowing function."
   ]
  },
  {
   "attachments": {},
   "cell_type": "markdown",
   "metadata": {},
   "source": [
    "### 1.1 Extract File Paths"
   ]
  },
  {
   "cell_type": "code",
   "execution_count": null,
   "metadata": {},
   "outputs": [
    {
     "data": {
      "text/plain": [
       "(3,\n",
       " Path('/home/pheenix/Development/seqdata/test_data/battery/train/Sim_RealisticCycle1.hdf5'))"
      ]
     },
     "execution_count": null,
     "metadata": {},
     "output_type": "execute_result"
    }
   ],
   "source": [
    "f_path = Path.cwd() / 'test_data/battery'\n",
    "hdf_files = get_files(f_path,extensions='.hdf5',recurse=True)\n",
    "len(hdf_files),hdf_files[0]"
   ]
  },
  {
   "cell_type": "code",
   "execution_count": null,
   "metadata": {},
   "outputs": [],
   "source": [
    "#| export\n",
    "hdf_extensions = ['.hdf5']\n",
    "def get_hdf_files(path,recurse=True, folders=None):\n",
    "    \"Get hdf5 files in `path` recursively, only in `folders`, if specified.\"\n",
    "    return get_files(path, extensions=hdf_extensions, recurse=recurse, folders=folders)"
   ]
  },
  {
   "cell_type": "code",
   "execution_count": null,
   "metadata": {},
   "outputs": [
    {
     "data": {
      "text/plain": [
       "(3,\n",
       " Path('/home/pheenix/Development/seqdata/test_data/battery/train/Sim_RealisticCycle1.hdf5'))"
      ]
     },
     "execution_count": null,
     "metadata": {},
     "output_type": "execute_result"
    }
   ],
   "source": [
    "hdf_files = get_hdf_files(f_path)\n",
    "len(hdf_files),hdf_files[0]"
   ]
  },
  {
   "attachments": {},
   "cell_type": "markdown",
   "metadata": {},
   "source": [
    "### 1.2 Create Source Dictionaries\n",
    "In order to extract mulitple realizations of one file with different modifications, we create a list of properties. Pandas Dataframes are to slow for iteration but very fast and convenient for creations. So after creation of the pandas Dataframe we convert it to a list of dictionaries."
   ]
  },
  {
   "cell_type": "code",
   "execution_count": null,
   "metadata": {},
   "outputs": [],
   "source": [
    "#| export\n",
    "def apply_df_tfms(src,pd_tfms = None):\n",
    "    '''Create Pandas Dataframe out of a list of items, with a list of df transforms applied'''\n",
    "    if type(src) is pd.DataFrame:\n",
    "        df = src\n",
    "    else:\n",
    "        df = pd.DataFrame(data=src.items,columns=['path'],dtype=str)\n",
    "    if pd_tfms is not None:\n",
    "        for t in pd_tfms:\n",
    "            df = t(df)\n",
    "    return df"
   ]
  },
  {
   "cell_type": "code",
   "execution_count": null,
   "metadata": {},
   "outputs": [
    {
     "data": {
      "text/html": [
       "<div>\n",
       "<style scoped>\n",
       "    .dataframe tbody tr th:only-of-type {\n",
       "        vertical-align: middle;\n",
       "    }\n",
       "\n",
       "    .dataframe tbody tr th {\n",
       "        vertical-align: top;\n",
       "    }\n",
       "\n",
       "    .dataframe thead th {\n",
       "        text-align: right;\n",
       "    }\n",
       "</style>\n",
       "<table border=\"1\" class=\"dataframe\">\n",
       "  <thead>\n",
       "    <tr style=\"text-align: right;\">\n",
       "      <th></th>\n",
       "      <th>path</th>\n",
       "    </tr>\n",
       "  </thead>\n",
       "  <tbody>\n",
       "    <tr>\n",
       "      <th>0</th>\n",
       "      <td>/home/pheenix/Development/seqdata/test_data/battery/train/Sim_RealisticCycle1.hdf5</td>\n",
       "    </tr>\n",
       "    <tr>\n",
       "      <th>1</th>\n",
       "      <td>/home/pheenix/Development/seqdata/test_data/battery/train/Sim_RealisticCycle2.hdf5</td>\n",
       "    </tr>\n",
       "    <tr>\n",
       "      <th>2</th>\n",
       "      <td>/home/pheenix/Development/seqdata/test_data/battery/valid/Sim_RealisticCycle3.hdf5</td>\n",
       "    </tr>\n",
       "  </tbody>\n",
       "</table>\n",
       "</div>"
      ],
      "text/plain": [
       "                                                                                 path\n",
       "0  /home/pheenix/Development/seqdata/test_data/battery/train/Sim_RealisticCycle1.hdf5\n",
       "1  /home/pheenix/Development/seqdata/test_data/battery/train/Sim_RealisticCycle2.hdf5\n",
       "2  /home/pheenix/Development/seqdata/test_data/battery/valid/Sim_RealisticCycle3.hdf5"
      ]
     },
     "execution_count": null,
     "metadata": {},
     "output_type": "execute_result"
    }
   ],
   "source": [
    "df = apply_df_tfms(hdf_files)\n",
    "df.head()"
   ]
  },
  {
   "cell_type": "code",
   "execution_count": null,
   "metadata": {},
   "outputs": [],
   "source": [
    "test_eq(apply_df_tfms(hdf_files),apply_df_tfms(apply_df_tfms(hdf_files)))"
   ]
  },
  {
   "cell_type": "code",
   "execution_count": null,
   "metadata": {},
   "outputs": [],
   "source": [
    "#| export\n",
    "def CreateDict(pd_tfms = None):\n",
    "    '''Create List of Dictionarys out of a list of items, with a list of df transforms applied'''\n",
    "    def _inner(src):\n",
    "        df = apply_df_tfms(src,pd_tfms)\n",
    "#         df_dict_list = df.to_dict(orient='records') native to_dict is slower than self written approach\n",
    "        df_values = df.values\n",
    "        df_dict = {name:list(df_values[:,i]) for (i,name) in enumerate(df.columns)}\n",
    "        df_dict_list = [{name: df_dict[name][i] for name in df_dict} for i in range(len(df))]\n",
    "        return df_dict_list\n",
    "    return _inner"
   ]
  },
  {
   "cell_type": "code",
   "execution_count": null,
   "metadata": {},
   "outputs": [
    {
     "data": {
      "text/plain": [
       "[{'path': '/home/pheenix/Development/seqdata/test_data/battery/train/Sim_RealisticCycle1.hdf5'},\n",
       " {'path': '/home/pheenix/Development/seqdata/test_data/battery/train/Sim_RealisticCycle2.hdf5'},\n",
       " {'path': '/home/pheenix/Development/seqdata/test_data/battery/valid/Sim_RealisticCycle3.hdf5'}]"
      ]
     },
     "execution_count": null,
     "metadata": {},
     "output_type": "execute_result"
    }
   ],
   "source": [
    "l_dict =CreateDict()(hdf_files)\n",
    "l_dict"
   ]
  },
  {
   "cell_type": "code",
   "execution_count": null,
   "metadata": {},
   "outputs": [],
   "source": [
    "#| export\n",
    "def ValidClmContains(lst_valid):\n",
    "    '''add validation column using a list of strings that are part of the validation frames'''\n",
    "    def _inner(df):\n",
    "        re_valid = '|'.join([re.escape(f) for f in lst_valid])\n",
    "        df['valid'] = df.path.str.contains(re_valid)\n",
    "        return df\n",
    "\n",
    "    return _inner"
   ]
  },
  {
   "cell_type": "code",
   "execution_count": null,
   "metadata": {},
   "outputs": [
    {
     "name": "stdout",
     "output_type": "stream",
     "text": [
      "CPU times: user 826 µs, sys: 76 µs, total: 902 µs\n",
      "Wall time: 899 µs\n"
     ]
    },
    {
     "data": {
      "text/plain": [
       "[{'path': '/home/pheenix/Development/seqdata/test_data/battery/train/Sim_RealisticCycle1.hdf5',\n",
       "  'valid': False},\n",
       " {'path': '/home/pheenix/Development/seqdata/test_data/battery/train/Sim_RealisticCycle2.hdf5',\n",
       "  'valid': False},\n",
       " {'path': '/home/pheenix/Development/seqdata/test_data/battery/valid/Sim_RealisticCycle3.hdf5',\n",
       "  'valid': True}]"
      ]
     },
     "execution_count": null,
     "metadata": {},
     "output_type": "execute_result"
    }
   ],
   "source": [
    "%%time\n",
    "lst_valid = ['valid']\n",
    "CreateDict([ValidClmContains(lst_valid)])(hdf_files)"
   ]
  },
  {
   "cell_type": "code",
   "execution_count": null,
   "metadata": {},
   "outputs": [],
   "source": [
    "#| export\n",
    "def ValidClmIs(lst_valid):\n",
    "    '''adds validation column using a list of validation filenames'''\n",
    "    def _inner(df):\n",
    "        df['valid'] = df.path.isin([str(f) for f in lst_valid])\n",
    "        return df\n",
    "\n",
    "    return _inner"
   ]
  },
  {
   "cell_type": "code",
   "execution_count": null,
   "metadata": {},
   "outputs": [
    {
     "name": "stdout",
     "output_type": "stream",
     "text": [
      "CPU times: user 780 µs, sys: 71 µs, total: 851 µs\n",
      "Wall time: 768 µs\n"
     ]
    },
    {
     "data": {
      "text/plain": [
       "[{'path': '/home/pheenix/Development/seqdata/test_data/battery/train/Sim_RealisticCycle1.hdf5',\n",
       "  'valid': False},\n",
       " {'path': '/home/pheenix/Development/seqdata/test_data/battery/train/Sim_RealisticCycle2.hdf5',\n",
       "  'valid': False},\n",
       " {'path': '/home/pheenix/Development/seqdata/test_data/battery/valid/Sim_RealisticCycle3.hdf5',\n",
       "  'valid': False}]"
      ]
     },
     "execution_count": null,
     "metadata": {},
     "output_type": "execute_result"
    }
   ],
   "source": [
    "%%time\n",
    "lst_valid = ['test_data/battery/train/Sim_RealisticCycle2.hdf5','test_data/battery/valid/Sim_RealisticCycle3.hdf5']\n",
    "CreateDict([ValidClmIs(lst_valid)])(hdf_files)"
   ]
  },
  {
   "cell_type": "code",
   "execution_count": null,
   "metadata": {},
   "outputs": [],
   "source": [
    "#| export\n",
    "def FilterClm(clm_name,func = lambda x:x):\n",
    "    '''adds validation column using a list of validation filenames'''\n",
    "    def _inner(df):\n",
    "        return df[func(df[clm_name])]\n",
    "\n",
    "    return _inner"
   ]
  },
  {
   "cell_type": "code",
   "execution_count": null,
   "metadata": {},
   "outputs": [
    {
     "data": {
      "text/plain": [
       "[]"
      ]
     },
     "execution_count": null,
     "metadata": {},
     "output_type": "execute_result"
    }
   ],
   "source": [
    "CreateDict([ValidClmIs(lst_valid),FilterClm('valid')])(hdf_files)"
   ]
  },
  {
   "cell_type": "code",
   "execution_count": null,
   "metadata": {},
   "outputs": [],
   "source": [
    "#| export\n",
    "def get_hdf_seq_len(df,clm,ds=None):\n",
    "    '''extract the sequence length of the dataset with the 'clm' name and 'f_path' path  '''\n",
    "    with h5py.File(df['path'],'r') as f:\n",
    "        ds = f if 'dataset' not in df else f[df['dataset']]\n",
    "        f_len = max(ds[clm].shape)\n",
    "    return f_len "
   ]
  },
  {
   "cell_type": "code",
   "execution_count": null,
   "metadata": {},
   "outputs": [],
   "source": [
    "#| export\n",
    "def df_get_hdf_seq_len(df,clm,ds=None):\n",
    "    '''extracts the sequence length of every file in advance to prepare repeated window extractions with 'DfHDFCreateWindows' '''\n",
    "#     df['seq_len'] = ([get_hdf_seq_len(row.path,clm) for (idx, row) in df.iterrows()])\n",
    "    df['seq_len'] = df.apply(lambda x: get_hdf_seq_len(x,clm),axis=1)\n",
    "    return df"
   ]
  },
  {
   "cell_type": "code",
   "execution_count": null,
   "metadata": {},
   "outputs": [],
   "source": [
    "#| export\n",
    "def DfHDFGetSeqLen(clm):\n",
    "    def _inner(df):\n",
    "        return df_get_hdf_seq_len(df,clm)\n",
    "    return _inner"
   ]
  },
  {
   "cell_type": "code",
   "execution_count": null,
   "metadata": {},
   "outputs": [
    {
     "data": {
      "text/html": [
       "<div>\n",
       "<style scoped>\n",
       "    .dataframe tbody tr th:only-of-type {\n",
       "        vertical-align: middle;\n",
       "    }\n",
       "\n",
       "    .dataframe tbody tr th {\n",
       "        vertical-align: top;\n",
       "    }\n",
       "\n",
       "    .dataframe thead th {\n",
       "        text-align: right;\n",
       "    }\n",
       "</style>\n",
       "<table border=\"1\" class=\"dataframe\">\n",
       "  <thead>\n",
       "    <tr style=\"text-align: right;\">\n",
       "      <th></th>\n",
       "      <th>path</th>\n",
       "      <th>seq_len</th>\n",
       "    </tr>\n",
       "  </thead>\n",
       "  <tbody>\n",
       "    <tr>\n",
       "      <th>0</th>\n",
       "      <td>/home/pheenix/Development/seqdata/test_data/battery/train/Sim_RealisticCycle1.hdf5</td>\n",
       "      <td>265607</td>\n",
       "    </tr>\n",
       "    <tr>\n",
       "      <th>1</th>\n",
       "      <td>/home/pheenix/Development/seqdata/test_data/battery/train/Sim_RealisticCycle2.hdf5</td>\n",
       "      <td>265598</td>\n",
       "    </tr>\n",
       "    <tr>\n",
       "      <th>2</th>\n",
       "      <td>/home/pheenix/Development/seqdata/test_data/battery/valid/Sim_RealisticCycle3.hdf5</td>\n",
       "      <td>265593</td>\n",
       "    </tr>\n",
       "  </tbody>\n",
       "</table>\n",
       "</div>"
      ],
      "text/plain": [
       "                                                                                 path  \\\n",
       "0  /home/pheenix/Development/seqdata/test_data/battery/train/Sim_RealisticCycle1.hdf5   \n",
       "1  /home/pheenix/Development/seqdata/test_data/battery/train/Sim_RealisticCycle2.hdf5   \n",
       "2  /home/pheenix/Development/seqdata/test_data/battery/valid/Sim_RealisticCycle3.hdf5   \n",
       "\n",
       "   seq_len  \n",
       "0   265607  \n",
       "1   265598  \n",
       "2   265593  "
      ]
     },
     "execution_count": null,
     "metadata": {},
     "output_type": "execute_result"
    }
   ],
   "source": [
    "df_get_hdf_seq_len(df,'current')"
   ]
  },
  {
   "cell_type": "code",
   "execution_count": null,
   "metadata": {},
   "outputs": [
    {
     "data": {
      "text/html": [
       "<div>\n",
       "<style scoped>\n",
       "    .dataframe tbody tr th:only-of-type {\n",
       "        vertical-align: middle;\n",
       "    }\n",
       "\n",
       "    .dataframe tbody tr th {\n",
       "        vertical-align: top;\n",
       "    }\n",
       "\n",
       "    .dataframe thead th {\n",
       "        text-align: right;\n",
       "    }\n",
       "</style>\n",
       "<table border=\"1\" class=\"dataframe\">\n",
       "  <thead>\n",
       "    <tr style=\"text-align: right;\">\n",
       "      <th></th>\n",
       "      <th>path</th>\n",
       "      <th>seq_len</th>\n",
       "    </tr>\n",
       "  </thead>\n",
       "  <tbody>\n",
       "    <tr>\n",
       "      <th>0</th>\n",
       "      <td>/home/pheenix/Development/seqdata/test_data/battery/train/Sim_RealisticCycle1.hdf5</td>\n",
       "      <td>265607</td>\n",
       "    </tr>\n",
       "    <tr>\n",
       "      <th>1</th>\n",
       "      <td>/home/pheenix/Development/seqdata/test_data/battery/train/Sim_RealisticCycle2.hdf5</td>\n",
       "      <td>265598</td>\n",
       "    </tr>\n",
       "    <tr>\n",
       "      <th>2</th>\n",
       "      <td>/home/pheenix/Development/seqdata/test_data/battery/valid/Sim_RealisticCycle3.hdf5</td>\n",
       "      <td>265593</td>\n",
       "    </tr>\n",
       "  </tbody>\n",
       "</table>\n",
       "</div>"
      ],
      "text/plain": [
       "                                                                                 path  \\\n",
       "0  /home/pheenix/Development/seqdata/test_data/battery/train/Sim_RealisticCycle1.hdf5   \n",
       "1  /home/pheenix/Development/seqdata/test_data/battery/train/Sim_RealisticCycle2.hdf5   \n",
       "2  /home/pheenix/Development/seqdata/test_data/battery/valid/Sim_RealisticCycle3.hdf5   \n",
       "\n",
       "   seq_len  \n",
       "0   265607  \n",
       "1   265598  \n",
       "2   265593  "
      ]
     },
     "execution_count": null,
     "metadata": {},
     "output_type": "execute_result"
    }
   ],
   "source": [
    "DfHDFGetSeqLen('current')(df)"
   ]
  },
  {
   "cell_type": "code",
   "execution_count": null,
   "metadata": {},
   "outputs": [],
   "source": [
    "#| export\n",
    "import numbers\n",
    "def DfResamplingFactor(src_fs,lst_targ_fs):\n",
    "    if not isinstance(src_fs, numbers.Number) and not type(src_fs) is str: \n",
    "        raise ValueError('src_fs has to be a column name or a fixed number')\n",
    "    \n",
    "    def _inner(df):\n",
    "        np_targ_fs = array(lst_targ_fs)\n",
    "        pd.options.mode.chained_assignment = None #every row is a reference so we need to suppress the warning messages while copying\n",
    "\n",
    "        #repeat entries for every target fs\n",
    "        res_df = df.iloc[np.repeat(np.arange(len(df)),len(np_targ_fs))] \n",
    "        targ_fs = np.tile(np_targ_fs,len(df))\n",
    "        res_df['targ_fs'] = targ_fs\n",
    "        \n",
    "        if isinstance(src_fs, numbers.Number):\n",
    "            #src_fs is a fixed number\n",
    "            res_df['resampling_factor'] = targ_fs/src_fs\n",
    "        else:\n",
    "            #src_fs is a column name of the df\n",
    "            res_df['resampling_factor'] = targ_fs/res_df[src_fs]\n",
    "\n",
    "        pd.options.mode.chained_assignment = 'warn'\n",
    "        \n",
    "        return res_df\n",
    "    return _inner"
   ]
  },
  {
   "cell_type": "code",
   "execution_count": null,
   "metadata": {},
   "outputs": [],
   "source": [
    "targ_fs = [50,100,300]\n",
    "test_eq(len(DfResamplingFactor(100,targ_fs)(df)),9)   \n",
    "df['src_fs'] = 200.\n",
    "test_eq(len(DfResamplingFactor('src_fs',targ_fs)(df)),9)"
   ]
  },
  {
   "cell_type": "code",
   "execution_count": null,
   "metadata": {},
   "outputs": [],
   "source": [
    "#| export\n",
    "def DfHDFCreateWindows(win_sz,stp_sz, clm, fixed_start = False, fixed_end = False):\n",
    "    '''create windows of sequences, splits sequence into multiple items'''\n",
    "    def _inner(df):\n",
    "        if fixed_start and fixed_end: raise Exception\n",
    "        \n",
    "        if 'seq_len' in df:\n",
    "            np_f_len = df.seq_len.values\n",
    "        else:\n",
    "            np_f_len = np.array([get_hdf_seq_len(row,clm) for (idx, row) in df.iterrows()])\n",
    "            \n",
    "        if 'resampling_factor' in df: np_f_len =(np_f_len*df.resampling_factor.values).astype(int)\n",
    "            \n",
    "        n_win = ((np_f_len-win_sz)//stp_sz)+1\n",
    "        #cast array n_win to int and clip negative values to 0\n",
    "        n_win = n_win.astype(int)\n",
    "        n_win = np.clip(n_win,a_min=0,a_max=None) #remove negative values at instances where the winsize is smaller than the seq_len\n",
    "        lst_idx = np.arange(len(np_f_len))\n",
    "        \n",
    "        pd.options.mode.chained_assignment = None #every row is a reference so we need to suppress the warning messages while copying\n",
    "        \n",
    "        res_df = df.iloc[np.repeat(lst_idx,n_win)]\n",
    "#         res_df = df.loc[np.repeat(lst_idx,n_win)] #the loc variant as a little bit slower because it creates copies and returns wrong values with redundant indexes, but is more robust\n",
    "\n",
    "        step_idx = np.concatenate([np.arange(x) for x in n_win])\n",
    "    \n",
    "        \n",
    "        res_df['l_slc'] = step_idx*stp_sz if not fixed_start else None\n",
    "        res_df['r_slc'] = step_idx*stp_sz + win_sz if not fixed_end else None\n",
    "            \n",
    "        pd.options.mode.chained_assignment = 'warn'\n",
    "            \n",
    "        return res_df\n",
    "    \n",
    "    return _inner"
   ]
  },
  {
   "cell_type": "code",
   "execution_count": null,
   "metadata": {},
   "outputs": [
    {
     "name": "stdout",
     "output_type": "stream",
     "text": [
      "CPU times: user 1.11 ms, sys: 109 µs, total: 1.22 ms\n",
      "Wall time: 1.07 ms\n"
     ]
    },
    {
     "data": {
      "text/html": [
       "<div>\n",
       "<style scoped>\n",
       "    .dataframe tbody tr th:only-of-type {\n",
       "        vertical-align: middle;\n",
       "    }\n",
       "\n",
       "    .dataframe tbody tr th {\n",
       "        vertical-align: top;\n",
       "    }\n",
       "\n",
       "    .dataframe thead th {\n",
       "        text-align: right;\n",
       "    }\n",
       "</style>\n",
       "<table border=\"1\" class=\"dataframe\">\n",
       "  <thead>\n",
       "    <tr style=\"text-align: right;\">\n",
       "      <th></th>\n",
       "      <th>path</th>\n",
       "      <th>seq_len</th>\n",
       "      <th>src_fs</th>\n",
       "      <th>l_slc</th>\n",
       "      <th>r_slc</th>\n",
       "    </tr>\n",
       "  </thead>\n",
       "  <tbody>\n",
       "    <tr>\n",
       "      <th>0</th>\n",
       "      <td>/home/pheenix/Development/seqdata/test_data/battery/train/Sim_RealisticCycle1.hdf5</td>\n",
       "      <td>265607</td>\n",
       "      <td>200.0</td>\n",
       "      <td>0</td>\n",
       "      <td>100.2</td>\n",
       "    </tr>\n",
       "    <tr>\n",
       "      <th>0</th>\n",
       "      <td>/home/pheenix/Development/seqdata/test_data/battery/train/Sim_RealisticCycle1.hdf5</td>\n",
       "      <td>265607</td>\n",
       "      <td>200.0</td>\n",
       "      <td>100</td>\n",
       "      <td>200.2</td>\n",
       "    </tr>\n",
       "    <tr>\n",
       "      <th>0</th>\n",
       "      <td>/home/pheenix/Development/seqdata/test_data/battery/train/Sim_RealisticCycle1.hdf5</td>\n",
       "      <td>265607</td>\n",
       "      <td>200.0</td>\n",
       "      <td>200</td>\n",
       "      <td>300.2</td>\n",
       "    </tr>\n",
       "    <tr>\n",
       "      <th>0</th>\n",
       "      <td>/home/pheenix/Development/seqdata/test_data/battery/train/Sim_RealisticCycle1.hdf5</td>\n",
       "      <td>265607</td>\n",
       "      <td>200.0</td>\n",
       "      <td>300</td>\n",
       "      <td>400.2</td>\n",
       "    </tr>\n",
       "    <tr>\n",
       "      <th>0</th>\n",
       "      <td>/home/pheenix/Development/seqdata/test_data/battery/train/Sim_RealisticCycle1.hdf5</td>\n",
       "      <td>265607</td>\n",
       "      <td>200.0</td>\n",
       "      <td>400</td>\n",
       "      <td>500.2</td>\n",
       "    </tr>\n",
       "    <tr>\n",
       "      <th>...</th>\n",
       "      <td>...</td>\n",
       "      <td>...</td>\n",
       "      <td>...</td>\n",
       "      <td>...</td>\n",
       "      <td>...</td>\n",
       "    </tr>\n",
       "    <tr>\n",
       "      <th>2</th>\n",
       "      <td>/home/pheenix/Development/seqdata/test_data/battery/valid/Sim_RealisticCycle3.hdf5</td>\n",
       "      <td>265593</td>\n",
       "      <td>200.0</td>\n",
       "      <td>265000</td>\n",
       "      <td>265100.2</td>\n",
       "    </tr>\n",
       "    <tr>\n",
       "      <th>2</th>\n",
       "      <td>/home/pheenix/Development/seqdata/test_data/battery/valid/Sim_RealisticCycle3.hdf5</td>\n",
       "      <td>265593</td>\n",
       "      <td>200.0</td>\n",
       "      <td>265100</td>\n",
       "      <td>265200.2</td>\n",
       "    </tr>\n",
       "    <tr>\n",
       "      <th>2</th>\n",
       "      <td>/home/pheenix/Development/seqdata/test_data/battery/valid/Sim_RealisticCycle3.hdf5</td>\n",
       "      <td>265593</td>\n",
       "      <td>200.0</td>\n",
       "      <td>265200</td>\n",
       "      <td>265300.2</td>\n",
       "    </tr>\n",
       "    <tr>\n",
       "      <th>2</th>\n",
       "      <td>/home/pheenix/Development/seqdata/test_data/battery/valid/Sim_RealisticCycle3.hdf5</td>\n",
       "      <td>265593</td>\n",
       "      <td>200.0</td>\n",
       "      <td>265300</td>\n",
       "      <td>265400.2</td>\n",
       "    </tr>\n",
       "    <tr>\n",
       "      <th>2</th>\n",
       "      <td>/home/pheenix/Development/seqdata/test_data/battery/valid/Sim_RealisticCycle3.hdf5</td>\n",
       "      <td>265593</td>\n",
       "      <td>200.0</td>\n",
       "      <td>265400</td>\n",
       "      <td>265500.2</td>\n",
       "    </tr>\n",
       "  </tbody>\n",
       "</table>\n",
       "<p>7966 rows × 5 columns</p>\n",
       "</div>"
      ],
      "text/plain": [
       "                                                                                  path  \\\n",
       "0   /home/pheenix/Development/seqdata/test_data/battery/train/Sim_RealisticCycle1.hdf5   \n",
       "0   /home/pheenix/Development/seqdata/test_data/battery/train/Sim_RealisticCycle1.hdf5   \n",
       "0   /home/pheenix/Development/seqdata/test_data/battery/train/Sim_RealisticCycle1.hdf5   \n",
       "0   /home/pheenix/Development/seqdata/test_data/battery/train/Sim_RealisticCycle1.hdf5   \n",
       "0   /home/pheenix/Development/seqdata/test_data/battery/train/Sim_RealisticCycle1.hdf5   \n",
       "..                                                                                 ...   \n",
       "2   /home/pheenix/Development/seqdata/test_data/battery/valid/Sim_RealisticCycle3.hdf5   \n",
       "2   /home/pheenix/Development/seqdata/test_data/battery/valid/Sim_RealisticCycle3.hdf5   \n",
       "2   /home/pheenix/Development/seqdata/test_data/battery/valid/Sim_RealisticCycle3.hdf5   \n",
       "2   /home/pheenix/Development/seqdata/test_data/battery/valid/Sim_RealisticCycle3.hdf5   \n",
       "2   /home/pheenix/Development/seqdata/test_data/battery/valid/Sim_RealisticCycle3.hdf5   \n",
       "\n",
       "    seq_len  src_fs   l_slc     r_slc  \n",
       "0    265607   200.0       0     100.2  \n",
       "0    265607   200.0     100     200.2  \n",
       "0    265607   200.0     200     300.2  \n",
       "0    265607   200.0     300     400.2  \n",
       "0    265607   200.0     400     500.2  \n",
       "..      ...     ...     ...       ...  \n",
       "2    265593   200.0  265000  265100.2  \n",
       "2    265593   200.0  265100  265200.2  \n",
       "2    265593   200.0  265200  265300.2  \n",
       "2    265593   200.0  265300  265400.2  \n",
       "2    265593   200.0  265400  265500.2  \n",
       "\n",
       "[7966 rows x 5 columns]"
      ]
     },
     "execution_count": null,
     "metadata": {},
     "output_type": "execute_result"
    }
   ],
   "source": [
    "%%time\n",
    "create_win = DfHDFCreateWindows(win_sz=100.2,stp_sz=100,clm='current')\n",
    "win_df = create_win(df)\n",
    "win_df"
   ]
  },
  {
   "cell_type": "code",
   "execution_count": null,
   "metadata": {},
   "outputs": [
    {
     "data": {
      "text/html": [
       "<div>\n",
       "<style scoped>\n",
       "    .dataframe tbody tr th:only-of-type {\n",
       "        vertical-align: middle;\n",
       "    }\n",
       "\n",
       "    .dataframe tbody tr th {\n",
       "        vertical-align: top;\n",
       "    }\n",
       "\n",
       "    .dataframe thead th {\n",
       "        text-align: right;\n",
       "    }\n",
       "</style>\n",
       "<table border=\"1\" class=\"dataframe\">\n",
       "  <thead>\n",
       "    <tr style=\"text-align: right;\">\n",
       "      <th></th>\n",
       "      <th>path</th>\n",
       "      <th>seq_len</th>\n",
       "      <th>src_fs</th>\n",
       "      <th>l_slc</th>\n",
       "      <th>r_slc</th>\n",
       "    </tr>\n",
       "  </thead>\n",
       "  <tbody>\n",
       "    <tr>\n",
       "      <th>0</th>\n",
       "      <td>/home/pheenix/Development/seqdata/test_data/battery/train/Sim_RealisticCycle1.hdf5</td>\n",
       "      <td>265607</td>\n",
       "      <td>200.0</td>\n",
       "      <td>0</td>\n",
       "      <td>265594</td>\n",
       "    </tr>\n",
       "    <tr>\n",
       "      <th>1</th>\n",
       "      <td>/home/pheenix/Development/seqdata/test_data/battery/train/Sim_RealisticCycle2.hdf5</td>\n",
       "      <td>265598</td>\n",
       "      <td>200.0</td>\n",
       "      <td>0</td>\n",
       "      <td>265594</td>\n",
       "    </tr>\n",
       "  </tbody>\n",
       "</table>\n",
       "</div>"
      ],
      "text/plain": [
       "                                                                                 path  \\\n",
       "0  /home/pheenix/Development/seqdata/test_data/battery/train/Sim_RealisticCycle1.hdf5   \n",
       "1  /home/pheenix/Development/seqdata/test_data/battery/train/Sim_RealisticCycle2.hdf5   \n",
       "\n",
       "   seq_len  src_fs  l_slc   r_slc  \n",
       "0   265607   200.0      0  265594  \n",
       "1   265598   200.0      0  265594  "
      ]
     },
     "execution_count": null,
     "metadata": {},
     "output_type": "execute_result"
    }
   ],
   "source": [
    "win_df = DfHDFCreateWindows(win_sz=265594,stp_sz=100,clm='current')(df)\n",
    "test_eq(len(win_df),2)\n",
    "win_df"
   ]
  },
  {
   "cell_type": "code",
   "execution_count": null,
   "metadata": {},
   "outputs": [],
   "source": [
    "test_eq(create_win(df_get_hdf_seq_len(df,'current')) , create_win(df))"
   ]
  },
  {
   "cell_type": "code",
   "execution_count": null,
   "metadata": {},
   "outputs": [
    {
     "data": {
      "text/html": [
       "<div>\n",
       "<style scoped>\n",
       "    .dataframe tbody tr th:only-of-type {\n",
       "        vertical-align: middle;\n",
       "    }\n",
       "\n",
       "    .dataframe tbody tr th {\n",
       "        vertical-align: top;\n",
       "    }\n",
       "\n",
       "    .dataframe thead th {\n",
       "        text-align: right;\n",
       "    }\n",
       "</style>\n",
       "<table border=\"1\" class=\"dataframe\">\n",
       "  <thead>\n",
       "    <tr style=\"text-align: right;\">\n",
       "      <th></th>\n",
       "      <th>path</th>\n",
       "      <th>seq_len</th>\n",
       "      <th>src_fs</th>\n",
       "      <th>targ_fs</th>\n",
       "      <th>resampling_factor</th>\n",
       "      <th>l_slc</th>\n",
       "      <th>r_slc</th>\n",
       "    </tr>\n",
       "  </thead>\n",
       "  <tbody>\n",
       "    <tr>\n",
       "      <th>0</th>\n",
       "      <td>/home/pheenix/Development/seqdata/test_data/battery/train/Sim_RealisticCycle1.hdf5</td>\n",
       "      <td>265607</td>\n",
       "      <td>200.0</td>\n",
       "      <td>0.1</td>\n",
       "      <td>0.0005</td>\n",
       "      <td>0</td>\n",
       "      <td>100.2</td>\n",
       "    </tr>\n",
       "    <tr>\n",
       "      <th>1</th>\n",
       "      <td>/home/pheenix/Development/seqdata/test_data/battery/train/Sim_RealisticCycle2.hdf5</td>\n",
       "      <td>265598</td>\n",
       "      <td>200.0</td>\n",
       "      <td>0.1</td>\n",
       "      <td>0.0005</td>\n",
       "      <td>0</td>\n",
       "      <td>100.2</td>\n",
       "    </tr>\n",
       "    <tr>\n",
       "      <th>2</th>\n",
       "      <td>/home/pheenix/Development/seqdata/test_data/battery/valid/Sim_RealisticCycle3.hdf5</td>\n",
       "      <td>265593</td>\n",
       "      <td>200.0</td>\n",
       "      <td>0.1</td>\n",
       "      <td>0.0005</td>\n",
       "      <td>0</td>\n",
       "      <td>100.2</td>\n",
       "    </tr>\n",
       "  </tbody>\n",
       "</table>\n",
       "</div>"
      ],
      "text/plain": [
       "                                                                                 path  \\\n",
       "0  /home/pheenix/Development/seqdata/test_data/battery/train/Sim_RealisticCycle1.hdf5   \n",
       "1  /home/pheenix/Development/seqdata/test_data/battery/train/Sim_RealisticCycle2.hdf5   \n",
       "2  /home/pheenix/Development/seqdata/test_data/battery/valid/Sim_RealisticCycle3.hdf5   \n",
       "\n",
       "   seq_len  src_fs  targ_fs  resampling_factor  l_slc  r_slc  \n",
       "0   265607   200.0      0.1             0.0005      0  100.2  \n",
       "1   265598   200.0      0.1             0.0005      0  100.2  \n",
       "2   265593   200.0      0.1             0.0005      0  100.2  "
      ]
     },
     "execution_count": null,
     "metadata": {},
     "output_type": "execute_result"
    }
   ],
   "source": [
    "res_win_df = create_win(DfResamplingFactor(200,[0.1])(df))\n",
    "res_win_df"
   ]
  },
  {
   "cell_type": "code",
   "execution_count": null,
   "metadata": {},
   "outputs": [],
   "source": [
    "test_eq(len(res_win_df),3)"
   ]
  },
  {
   "cell_type": "code",
   "execution_count": null,
   "metadata": {},
   "outputs": [
    {
     "data": {
      "text/html": [
       "<div>\n",
       "<style scoped>\n",
       "    .dataframe tbody tr th:only-of-type {\n",
       "        vertical-align: middle;\n",
       "    }\n",
       "\n",
       "    .dataframe tbody tr th {\n",
       "        vertical-align: top;\n",
       "    }\n",
       "\n",
       "    .dataframe thead th {\n",
       "        text-align: right;\n",
       "    }\n",
       "</style>\n",
       "<table border=\"1\" class=\"dataframe\">\n",
       "  <thead>\n",
       "    <tr style=\"text-align: right;\">\n",
       "      <th></th>\n",
       "      <th>path</th>\n",
       "      <th>seq_len</th>\n",
       "      <th>src_fs</th>\n",
       "      <th>l_slc</th>\n",
       "      <th>r_slc</th>\n",
       "    </tr>\n",
       "  </thead>\n",
       "  <tbody>\n",
       "    <tr>\n",
       "      <th>0</th>\n",
       "      <td>/home/pheenix/Development/seqdata/test_data/battery/train/Sim_RealisticCycle1.hdf5</td>\n",
       "      <td>265607</td>\n",
       "      <td>200.0</td>\n",
       "      <td>0</td>\n",
       "      <td>265594</td>\n",
       "    </tr>\n",
       "    <tr>\n",
       "      <th>1</th>\n",
       "      <td>/home/pheenix/Development/seqdata/test_data/battery/train/Sim_RealisticCycle2.hdf5</td>\n",
       "      <td>265598</td>\n",
       "      <td>200.0</td>\n",
       "      <td>0</td>\n",
       "      <td>265594</td>\n",
       "    </tr>\n",
       "  </tbody>\n",
       "</table>\n",
       "</div>"
      ],
      "text/plain": [
       "                                                                                 path  \\\n",
       "0  /home/pheenix/Development/seqdata/test_data/battery/train/Sim_RealisticCycle1.hdf5   \n",
       "1  /home/pheenix/Development/seqdata/test_data/battery/train/Sim_RealisticCycle2.hdf5   \n",
       "\n",
       "   seq_len  src_fs  l_slc   r_slc  \n",
       "0   265607   200.0      0  265594  \n",
       "1   265598   200.0      0  265594  "
      ]
     },
     "execution_count": null,
     "metadata": {},
     "output_type": "execute_result"
    }
   ],
   "source": [
    "query_expr = 'l_slc <= 200'\n",
    "filt_df = win_df.query(query_expr)\n",
    "filt_df"
   ]
  },
  {
   "cell_type": "code",
   "execution_count": null,
   "metadata": {},
   "outputs": [],
   "source": [
    "#| export\n",
    "def DfApplyFuncSplit(split_func,func1,func2):\n",
    "    '''apply two different functions on the dataframe, func1 on the first indices of split_func, func2 on the second indices.\n",
    "        Split_func is a Training, Validation split function'''\n",
    "    def _inner(df):\n",
    "        (idxs1,idxs2) = split_func(df.path)\n",
    "        df1= func1(df.iloc[idxs1])\n",
    "        df2= func2(df.iloc[idxs2])\n",
    "        return pd.concat((df1,df2))\n",
    "    return _inner"
   ]
  },
  {
   "cell_type": "code",
   "execution_count": null,
   "metadata": {},
   "outputs": [
    {
     "data": {
      "text/html": [
       "<div>\n",
       "<style scoped>\n",
       "    .dataframe tbody tr th:only-of-type {\n",
       "        vertical-align: middle;\n",
       "    }\n",
       "\n",
       "    .dataframe tbody tr th {\n",
       "        vertical-align: top;\n",
       "    }\n",
       "\n",
       "    .dataframe thead th {\n",
       "        text-align: right;\n",
       "    }\n",
       "</style>\n",
       "<table border=\"1\" class=\"dataframe\">\n",
       "  <thead>\n",
       "    <tr style=\"text-align: right;\">\n",
       "      <th></th>\n",
       "      <th>path</th>\n",
       "      <th>seq_len</th>\n",
       "      <th>src_fs</th>\n",
       "      <th>l_slc</th>\n",
       "      <th>r_slc</th>\n",
       "    </tr>\n",
       "  </thead>\n",
       "  <tbody>\n",
       "    <tr>\n",
       "      <th>0</th>\n",
       "      <td>/home/pheenix/Development/seqdata/test_data/battery/train/Sim_RealisticCycle1.hdf5</td>\n",
       "      <td>265607</td>\n",
       "      <td>200.0</td>\n",
       "      <td>0</td>\n",
       "      <td>10000</td>\n",
       "    </tr>\n",
       "    <tr>\n",
       "      <th>0</th>\n",
       "      <td>/home/pheenix/Development/seqdata/test_data/battery/train/Sim_RealisticCycle1.hdf5</td>\n",
       "      <td>265607</td>\n",
       "      <td>200.0</td>\n",
       "      <td>1</td>\n",
       "      <td>10001</td>\n",
       "    </tr>\n",
       "    <tr>\n",
       "      <th>0</th>\n",
       "      <td>/home/pheenix/Development/seqdata/test_data/battery/train/Sim_RealisticCycle1.hdf5</td>\n",
       "      <td>265607</td>\n",
       "      <td>200.0</td>\n",
       "      <td>2</td>\n",
       "      <td>10002</td>\n",
       "    </tr>\n",
       "    <tr>\n",
       "      <th>0</th>\n",
       "      <td>/home/pheenix/Development/seqdata/test_data/battery/train/Sim_RealisticCycle1.hdf5</td>\n",
       "      <td>265607</td>\n",
       "      <td>200.0</td>\n",
       "      <td>3</td>\n",
       "      <td>10003</td>\n",
       "    </tr>\n",
       "    <tr>\n",
       "      <th>0</th>\n",
       "      <td>/home/pheenix/Development/seqdata/test_data/battery/train/Sim_RealisticCycle1.hdf5</td>\n",
       "      <td>265607</td>\n",
       "      <td>200.0</td>\n",
       "      <td>4</td>\n",
       "      <td>10004</td>\n",
       "    </tr>\n",
       "    <tr>\n",
       "      <th>...</th>\n",
       "      <td>...</td>\n",
       "      <td>...</td>\n",
       "      <td>...</td>\n",
       "      <td>...</td>\n",
       "      <td>...</td>\n",
       "    </tr>\n",
       "    <tr>\n",
       "      <th>2</th>\n",
       "      <td>/home/pheenix/Development/seqdata/test_data/battery/valid/Sim_RealisticCycle3.hdf5</td>\n",
       "      <td>265593</td>\n",
       "      <td>200.0</td>\n",
       "      <td>210000</td>\n",
       "      <td>220000</td>\n",
       "    </tr>\n",
       "    <tr>\n",
       "      <th>2</th>\n",
       "      <td>/home/pheenix/Development/seqdata/test_data/battery/valid/Sim_RealisticCycle3.hdf5</td>\n",
       "      <td>265593</td>\n",
       "      <td>200.0</td>\n",
       "      <td>220000</td>\n",
       "      <td>230000</td>\n",
       "    </tr>\n",
       "    <tr>\n",
       "      <th>2</th>\n",
       "      <td>/home/pheenix/Development/seqdata/test_data/battery/valid/Sim_RealisticCycle3.hdf5</td>\n",
       "      <td>265593</td>\n",
       "      <td>200.0</td>\n",
       "      <td>230000</td>\n",
       "      <td>240000</td>\n",
       "    </tr>\n",
       "    <tr>\n",
       "      <th>2</th>\n",
       "      <td>/home/pheenix/Development/seqdata/test_data/battery/valid/Sim_RealisticCycle3.hdf5</td>\n",
       "      <td>265593</td>\n",
       "      <td>200.0</td>\n",
       "      <td>240000</td>\n",
       "      <td>250000</td>\n",
       "    </tr>\n",
       "    <tr>\n",
       "      <th>2</th>\n",
       "      <td>/home/pheenix/Development/seqdata/test_data/battery/valid/Sim_RealisticCycle3.hdf5</td>\n",
       "      <td>265593</td>\n",
       "      <td>200.0</td>\n",
       "      <td>250000</td>\n",
       "      <td>260000</td>\n",
       "    </tr>\n",
       "  </tbody>\n",
       "</table>\n",
       "<p>255660 rows × 5 columns</p>\n",
       "</div>"
      ],
      "text/plain": [
       "                                                                                  path  \\\n",
       "0   /home/pheenix/Development/seqdata/test_data/battery/train/Sim_RealisticCycle1.hdf5   \n",
       "0   /home/pheenix/Development/seqdata/test_data/battery/train/Sim_RealisticCycle1.hdf5   \n",
       "0   /home/pheenix/Development/seqdata/test_data/battery/train/Sim_RealisticCycle1.hdf5   \n",
       "0   /home/pheenix/Development/seqdata/test_data/battery/train/Sim_RealisticCycle1.hdf5   \n",
       "0   /home/pheenix/Development/seqdata/test_data/battery/train/Sim_RealisticCycle1.hdf5   \n",
       "..                                                                                 ...   \n",
       "2   /home/pheenix/Development/seqdata/test_data/battery/valid/Sim_RealisticCycle3.hdf5   \n",
       "2   /home/pheenix/Development/seqdata/test_data/battery/valid/Sim_RealisticCycle3.hdf5   \n",
       "2   /home/pheenix/Development/seqdata/test_data/battery/valid/Sim_RealisticCycle3.hdf5   \n",
       "2   /home/pheenix/Development/seqdata/test_data/battery/valid/Sim_RealisticCycle3.hdf5   \n",
       "2   /home/pheenix/Development/seqdata/test_data/battery/valid/Sim_RealisticCycle3.hdf5   \n",
       "\n",
       "    seq_len  src_fs   l_slc   r_slc  \n",
       "0    265607   200.0       0   10000  \n",
       "0    265607   200.0       1   10001  \n",
       "0    265607   200.0       2   10002  \n",
       "0    265607   200.0       3   10003  \n",
       "0    265607   200.0       4   10004  \n",
       "..      ...     ...     ...     ...  \n",
       "2    265593   200.0  210000  220000  \n",
       "2    265593   200.0  220000  230000  \n",
       "2    265593   200.0  230000  240000  \n",
       "2    265593   200.0  240000  250000  \n",
       "2    265593   200.0  250000  260000  \n",
       "\n",
       "[255660 rows x 5 columns]"
      ]
     },
     "execution_count": null,
     "metadata": {},
     "output_type": "execute_result"
    }
   ],
   "source": [
    "create_win_split = DfApplyFuncSplit(\n",
    "    IndexSplitter([1,2]),\n",
    "    DfHDFCreateWindows(win_sz=10000,stp_sz=1,clm='current'),\n",
    "    DfHDFCreateWindows(win_sz=10000,stp_sz=10000,clm='current')\n",
    ")\n",
    "create_win_split(df)"
   ]
  },
  {
   "cell_type": "code",
   "execution_count": null,
   "metadata": {},
   "outputs": [],
   "source": [
    "#| export\n",
    "def DfFilterQuery(query):\n",
    "    def _inner(df):\n",
    "        return df.query(query)\n",
    "    return _inner"
   ]
  },
  {
   "cell_type": "code",
   "execution_count": null,
   "metadata": {},
   "outputs": [],
   "source": [
    "test_eq(DfFilterQuery(query_expr)(win_df),filt_df)"
   ]
  },
  {
   "cell_type": "code",
   "execution_count": null,
   "metadata": {},
   "outputs": [
    {
     "name": "stdout",
     "output_type": "stream",
     "text": [
      "CPU times: user 51.6 ms, sys: 305 µs, total: 51.9 ms\n",
      "Wall time: 51.3 ms\n"
     ]
    },
    {
     "data": {
      "text/plain": [
       "[{'path': '/home/pheenix/Development/seqdata/test_data/battery/train/Sim_RealisticCycle1.hdf5',\n",
       "  'valid': False,\n",
       "  'l_slc': 0,\n",
       "  'r_slc': 101},\n",
       " {'path': '/home/pheenix/Development/seqdata/test_data/battery/train/Sim_RealisticCycle1.hdf5',\n",
       "  'valid': False,\n",
       "  'l_slc': 10,\n",
       "  'r_slc': 111},\n",
       " {'path': '/home/pheenix/Development/seqdata/test_data/battery/train/Sim_RealisticCycle1.hdf5',\n",
       "  'valid': False,\n",
       "  'l_slc': 20,\n",
       "  'r_slc': 121},\n",
       " {'path': '/home/pheenix/Development/seqdata/test_data/battery/train/Sim_RealisticCycle1.hdf5',\n",
       "  'valid': False,\n",
       "  'l_slc': 30,\n",
       "  'r_slc': 131},\n",
       " {'path': '/home/pheenix/Development/seqdata/test_data/battery/train/Sim_RealisticCycle1.hdf5',\n",
       "  'valid': False,\n",
       "  'l_slc': 40,\n",
       "  'r_slc': 141}]"
      ]
     },
     "execution_count": null,
     "metadata": {},
     "output_type": "execute_result"
    }
   ],
   "source": [
    "%%time\n",
    "tfm_src = CreateDict([ValidClmContains(['valid']),DfHDFCreateWindows(win_sz=100+1,stp_sz=10,clm='current')])\n",
    "src_dicts = tfm_src(hdf_files)\n",
    "src_dicts[:5]"
   ]
  },
  {
   "cell_type": "code",
   "execution_count": null,
   "metadata": {},
   "outputs": [],
   "source": [
    "#| export\n",
    "def DfDropClmExcept(clms = ['path','l_slc','r_slc','p_sample','resampling_factor']):\n",
    "    '''drop unused dataframe columns as a last optional step to accelerate dictionary conversion'''\n",
    "    def _inner(df):\n",
    "        return df[[c for c in clms if c in df]]\n",
    "    return _inner"
   ]
  },
  {
   "attachments": {},
   "cell_type": "markdown",
   "metadata": {},
   "source": [
    "## 2. Convert Paths to Sequence Objects\n",
    "Der Pfad wird unter Angabe der Spaltennamen in Sequenzen und Skalare Werte umgewandelt, um so am Ende ein 3-Tupel zu erhalten aus:\n",
    "- (Sequence, Scalar, Sequence) <-> (input,input,output)"
   ]
  },
  {
   "attachments": {},
   "cell_type": "markdown",
   "metadata": {},
   "source": [
    "### 2.1 Extract sequential data from hdf5-files\n",
    "Two different functions, based on pandas df and on lists"
   ]
  },
  {
   "attachments": {},
   "cell_type": "markdown",
   "metadata": {},
   "source": [
    "#### 2.1.1 Shift time Series\n",
    "Sometimes we need to shift columns of a sequence by a specific value. Then we cant simply slice the array but have to handle each column individually. First a performance test has to be made."
   ]
  },
  {
   "cell_type": "code",
   "execution_count": null,
   "metadata": {},
   "outputs": [],
   "source": [
    "#| export\n",
    "def calc_shift_offsets(clm_shift):\n",
    "    clm_shift = array(clm_shift)\n",
    "    l_offs = -min(clm_shift.min(),0)\n",
    "    r_offs = -max(clm_shift.max(),0)\n",
    "    l_shift = clm_shift+l_offs\n",
    "    r_shift = clm_shift+r_offs\n",
    "    dim_red = l_offs-r_offs\n",
    "    return l_shift,r_shift,dim_red"
   ]
  },
  {
   "cell_type": "code",
   "execution_count": null,
   "metadata": {},
   "outputs": [
    {
     "data": {
      "text/plain": [
       "(array([1, 1, 0, 2]), array([-1, -1, -2,  0]), 2)"
      ]
     },
     "execution_count": null,
     "metadata": {},
     "output_type": "execute_result"
    }
   ],
   "source": [
    "shft = [0,0,-1,1]\n",
    "calc_shift_offsets(shft)"
   ]
  },
  {
   "attachments": {},
   "cell_type": "markdown",
   "metadata": {},
   "source": [
    "both shifting methods have their own performance character. vstack needs double the time on short sequences, while the creation of a seperate array with copy becomes worse starting at around 5000 elements"
   ]
  },
  {
   "cell_type": "code",
   "execution_count": null,
   "metadata": {},
   "outputs": [],
   "source": [
    "# ta = array([[1,2,3]*2]*10000)"
   ]
  },
  {
   "cell_type": "code",
   "execution_count": null,
   "metadata": {},
   "outputs": [],
   "source": [
    "# %%timeit\n",
    "# y = np.vstack([ta[i:-ta.shape[1]+i,i] for i in range(ta.shape[1])]).T   "
   ]
  },
  {
   "cell_type": "code",
   "execution_count": null,
   "metadata": {},
   "outputs": [],
   "source": [
    "# %%timeit\n",
    "# x = np.zeros((ta.shape[0]-ta.shape[1],ta.shape[1]))\n",
    "# for i in range(ta.shape[1]):\n",
    "#     x[:,i] = ta[i:-ta.shape[1]+i,i]"
   ]
  },
  {
   "attachments": {},
   "cell_type": "markdown",
   "metadata": {},
   "source": [
    "#### 2.1.2 HDF2Sequence\n",
    "HDF5 performance is massively affected by the dtype of the signals. f4 (32 bit floating point) Numbers are faster to load and lead to smaller files then f8 numbers."
   ]
  },
  {
   "cell_type": "code",
   "execution_count": null,
   "metadata": {},
   "outputs": [],
   "source": [
    "#| export\n",
    "def running_mean(x, N):\n",
    "    cumsum = np.cumsum(np.insert(x, 0, 0,axis=0),axis=0) \n",
    "    return (cumsum[N:] - cumsum[:-N]) / float(N)"
   ]
  },
  {
   "cell_type": "code",
   "execution_count": null,
   "metadata": {},
   "outputs": [],
   "source": [
    "#| export\n",
    "def downsample_mean(x,N):\n",
    "    shp = x.shape\n",
    "    trunc = -(x.shape[0] % N)\n",
    "    trunc = trunc if trunc != 0 else None\n",
    "    return x[:trunc,:].reshape((-1,N,x.shape[-1])).mean(axis=1)"
   ]
  },
  {
   "cell_type": "code",
   "execution_count": null,
   "metadata": {},
   "outputs": [],
   "source": [
    "#| export\n",
    "from scipy.signal import butter, lfilter, lfilter_zi\n",
    "from scipy import signal\n",
    "def resample_interp(x,resampling_factor,sequence_first=True, lowpass_cut=1.0, upsample_cubic_cut = None):\n",
    "    '''signal resampling using linear or cubic interpolation\n",
    "    \n",
    "    x: signal to resample with shape: features x resampling_dimension or resampling_dimension x  features if sequence_first=True\n",
    "    resampling_factor: Factor > 0 that scales the signal\n",
    "    lowpass_cut: Upper boundary for resampling_factor that activates the lowpassfilter, low values exchange accuracy for performance, default is 0.7\n",
    "    upsample_cubic_cut: Lower boundary for resampling_factor that activates cubic interpolation at high upsampling values. \n",
    "                        Improves signal dynamics in exchange of performance. None deactivates cubic interpolation\n",
    "    '''\n",
    "    \n",
    "    if sequence_first:\n",
    "        x = x.T\n",
    "    \n",
    "    fs_n = resampling_factor\n",
    "    #if downsampling rate is too high, lowpass filter before interpolation\n",
    "    if fs_n < lowpass_cut:\n",
    "        b,a = butter(2, fs_n)\n",
    "        zi = lfilter_zi(b,a)*x[:,:1] #initialize filter with steady state at first time step value\n",
    "        x,_ = lfilter(b,a,x,axis=-1,zi=zi)\n",
    "\n",
    "#         sos = butter(2, fs_n*1.2,output='sos')\n",
    "# #         sos = signal.cheby2(2,20, fs_n,output='sos')\n",
    "# #         import pdb;pdb.set_trace()\n",
    "#         zi = np.swapaxes(signal.sosfilt_zi(sos)[...,None]*x[:,0],1,2)\n",
    "#         x,_ = signal.sosfilt(sos, x,axis=-1,zi=zi)\n",
    "        \n",
    "    x_int = tensor(x)[None,...]\n",
    "    targ_size = int(x.shape[-1]*fs_n)\n",
    "    \n",
    "#     if upsampling rate is too high, switch from linear to cubic interpolation\n",
    "    if upsample_cubic_cut is None or fs_n <= upsample_cubic_cut:\n",
    "        x = array(nn.functional.interpolate(x_int, size=targ_size, mode='linear',align_corners=False)[0])\n",
    "    else:\n",
    "        x = array(nn.functional.interpolate(x_int[...,None], size=[targ_size,1], mode='bicubic',align_corners=False)[0,...,0])\n",
    "#     x = array(x_int)[0]\n",
    "    \n",
    "    if sequence_first:\n",
    "        x = x.T\n",
    "    \n",
    "    return x"
   ]
  },
  {
   "cell_type": "code",
   "execution_count": null,
   "metadata": {},
   "outputs": [],
   "source": [
    "x = np.random.normal(size=(100000,9))\n",
    "test_eq(resample_interp(x,0.3).shape[0],30000)"
   ]
  },
  {
   "cell_type": "code",
   "execution_count": null,
   "metadata": {},
   "outputs": [],
   "source": [
    "# def plotFFT(buffer,sample_rate,label,fig=plt):\n",
    "#     xf,yf = calcFFT(buffer,sample_rate)\n",
    "#     fig.plot(xf, yf,label=label)\n",
    "    \n",
    "# def calcFFT(buffer,sample_rate):\n",
    "#     N = buffer.shape[0]\n",
    "#     T = 1.0 / sample_rate\n",
    "#     x = np.linspace(0.0, N*T, N)\n",
    "#     y = buffer\n",
    "#     yf = scipy.fft.fft(y)\n",
    "#     xf = np.linspace(0.0, 1.0/(2.0*T), N//2)\n",
    "#     return xf,2.0/N * np.abs(yf[:N//2])\n",
    "\n",
    "# src_fs= 200\n",
    "# n_fs = 0.9\n",
    "# plt.figure()\n",
    "# plotFFT(x[:,0],src_fs,'raw')\n",
    "# plotFFT(resample_interp(x,n_fs)[:,0],n_fs*src_fs,'filtered')\n",
    "# plt.legend()"
   ]
  },
  {
   "cell_type": "code",
   "execution_count": null,
   "metadata": {},
   "outputs": [],
   "source": [
    "#| export\n",
    "from scipy.signal import resample\n",
    "def hdf_extract_sequence(hdf_path,clms,dataset = None, l_slc = None, r_slc= None, resampling_factor=None, fs_idx =None,dt_idx =False,fast_resample=True):\n",
    "    '''\n",
    "    extracts a sequence with the shape [seq_len x num_features]\n",
    "    \n",
    "    hdf_path: file path of hdf file, may be a string or path type\n",
    "    clms: list of dataset names of sequences in hdf file\n",
    "    dataset: dataset root for clms. Useful for multiples sequences stored in one file.\n",
    "    l_slc: left boundary for extraction of a window of the whole sequence\n",
    "    r_slc: right boundary for extraction of a window of the whole sequence\n",
    "    resampling_factor: scaling factor for the sequence length, uses 'resample_interp' for resampling\n",
    "    fs_idx: clms list idx of fs entry in sequence. Will be scaled by resampling_factor after resampling\n",
    "    dt_idx: clms list idx of dt entry in sequence. Will be scaled by resampling_factor after resampling\n",
    "    fast_resample: if True, uses linear interpolation with anti-aliasing filter for faster resampling. Is less accurate than fft based resampling\n",
    "    '''\n",
    "\n",
    "    if resampling_factor is not None:\n",
    "        seq_len = r_slc-l_slc if l_slc is not None and r_slc is not None else None #calculate seq_len for later slicing, necesary because of rounding errors in resampling\n",
    "        if l_slc is not None: l_slc= math.floor(l_slc/resampling_factor)\n",
    "        if r_slc is not None: r_slc= math.ceil(r_slc/resampling_factor)\n",
    "\n",
    "    with h5py.File(hdf_path,'r') as f:\n",
    "        ds = f if dataset is None else f[dataset]\n",
    "        l_array = [(ds[n][l_slc:r_slc]) for n in clms]\n",
    "        seq = np.stack(l_array,axis=-1)\n",
    "\n",
    "    if resampling_factor is not None:\n",
    "        if fast_resample:\n",
    "            res_seq = resample_interp(seq,resampling_factor)\n",
    "        else:\n",
    "            res_seq = resample(seq,int(seq.shape[0]*resampling_factor),window=('kaiser', 14.0))\n",
    "        if fs_idx is not None: res_seq[:,fs_idx] = seq[0,fs_idx] * resampling_factor\n",
    "        if dt_idx is not None: res_seq[:,dt_idx] = seq[0,dt_idx] / resampling_factor\n",
    "        seq = res_seq\n",
    "        \n",
    "        if seq_len is not None: seq = seq[:seq_len] #cut the part of the sequence that is too long because of resampling rounding errors\n",
    "        \n",
    "    return seq"
   ]
  },
  {
   "cell_type": "code",
   "execution_count": null,
   "metadata": {},
   "outputs": [],
   "source": [
    "#| export\n",
    "class Memoize:\n",
    "    def __init__(self, fn):\n",
    "        self.fn = fn\n",
    "        self.memo = {}\n",
    "\n",
    "    def __call__(self, *args):\n",
    "        if args not in self.memo:\n",
    "            self.memo[args] = self.fn(*args)\n",
    "        return self.memo[args]\n",
    "\n"
   ]
  },
  {
   "cell_type": "code",
   "execution_count": null,
   "metadata": {},
   "outputs": [],
   "source": [
    "#| export\n",
    "from multiprocessing import shared_memory, Manager, Lock\n",
    "\n",
    "class MemoizeMP:\n",
    "    def __init__(self, fn):\n",
    "        self.fn = fn\n",
    "        self.manager = Manager()\n",
    "        self.results_dict = self.manager.dict()  # Stores metadata about computed results\n",
    "        self.lock = Lock()  # Ensure atomic updates to the results_dict\n",
    "        self.local_memo = {}  # Local cache for each process\n",
    "        self.shared_memories = []  # Keep track of all shared memory blocks for cleanup\n",
    "\n",
    "    def __call__(self, *args):\n",
    "        # First, attempt to return the result from the local cache to avoid unnecessary locking\n",
    "        if args in self.local_memo:\n",
    "            return self.local_memo[args][0]\n",
    "\n",
    "        if args in self.results_dict:     \n",
    "            result_info = self.results_dict[args]\n",
    "            existing_shm = shared_memory.SharedMemory(name=result_info['name'])\n",
    "            result = np.ndarray(result_info['shape'], dtype=result_info['dtype'], buffer=existing_shm.buf)\n",
    "            self.local_memo[args] = (result, existing_shm)  # Store tuple of array and shm, to keep shm from garbage collection\n",
    "            return result\n",
    "\n",
    "        result = self.fn(*args)\n",
    "\n",
    "        result_shm = shared_memory.SharedMemory(create=True, size=result.nbytes)\n",
    "        shm_array = np.ndarray(result.shape, dtype=result.dtype, buffer=result_shm.buf)\n",
    "        shm_array[:] = result[:]\n",
    "\n",
    "        with self.lock:\n",
    "            if args not in self.results_dict: \n",
    "                self.results_dict[args] = {\n",
    "                    'name': result_shm.name,\n",
    "                    'shape': result.shape,\n",
    "                    'dtype': result.dtype.str\n",
    "                }\n",
    "                # Keep track of the shared memory object for cleanup\n",
    "                self.shared_memories.append(result_shm)\n",
    "                \n",
    "        self.local_memo[args] = (result, result_shm)\n",
    "        return result\n",
    "\n",
    "    def __del__(self):\n",
    "        with self.lock:\n",
    "            for shm in self.shared_memories:\n",
    "                shm.close()\n",
    "                shm.unlink()\n",
    "            self.shared_memories.clear()"
   ]
  },
  {
   "cell_type": "code",
   "execution_count": null,
   "metadata": {},
   "outputs": [],
   "source": [
    "#| export\n",
    "class HDF2Sequence(Transform):\n",
    "    \n",
    "    def __init__(self, clm_names,clm_shift=None,truncate_sz=None,to_cls=noop,cached=True, fs_idx =None,dt_idx =None,fast_resample=True):\n",
    "        if not clm_shift is None:\n",
    "            assert len(clm_shift)==len(clm_names) and all(isinstance(n, int) for n in clm_shift)\n",
    "            self.l_shift,self.r_shift,_ = calc_shift_offsets(clm_shift)\n",
    "        \n",
    "        if not cached:\n",
    "            self._exseq = self._hdf_extract_sequence \n",
    "        elif cached == 'local':\n",
    "            self._exseq = Memoize(self._hdf_extract_sequence) \n",
    "        else :\n",
    "            self._exseq = MemoizeMP(self._hdf_extract_sequence)\n",
    "\n",
    "        self.cached = cached is not None\n",
    "        store_attr('clm_names,clm_shift,truncate_sz,to_cls,fs_idx,dt_idx,fast_resample')\n",
    "        \n",
    "    def _hdf_extract_sequence(self,hdf_path,dataset = None, l_slc = None, r_slc= None, resampling_factor=None, fs_idx =None,dt_idx =None,fast_resample=True):\n",
    "        '''\n",
    "        extracts a sequence with the shape [seq_len x num_features]\n",
    "\n",
    "        hdf_path: file path of hdf file, may be a string or path type\n",
    "        clms: list of dataset names of sequences in hdf file\n",
    "        dataset: dataset root for clms. Useful for multiples sequences stored in one file.\n",
    "        l_slc: left boundary for extraction of a window of the whole sequence\n",
    "        r_slc: right boundary for extraction of a window of the whole sequence\n",
    "        resampling_factor: scaling factor for the sequence length, uses 'resample_interp' for resampling\n",
    "        fs_idx: clms list idx of fs entry in sequence. Will be scaled by resampling_factor after resampling\n",
    "        dt_idx: clms list idx of dt entry in sequence. Will be scaled by resampling_factor after resampling\n",
    "        fast_resample: if True, uses linear interpolation with anti-aliasing filter for faster resampling. Is less accurate than fft based resampling\n",
    "        '''\n",
    "\n",
    "        if resampling_factor is not None:\n",
    "            seq_len = r_slc-l_slc if l_slc is not None and r_slc is not None else None #calculate seq_len for later slicing, necesary because of rounding errors in resampling\n",
    "            if l_slc is not None: l_slc= math.floor(l_slc/resampling_factor)\n",
    "            if r_slc is not None: r_slc= math.ceil(r_slc/resampling_factor)\n",
    "\n",
    "        with h5py.File(hdf_path,'r') as f:\n",
    "            ds = f if dataset is None else f[dataset]\n",
    "            l_array = [(ds[n][l_slc:r_slc]) for n in self.clm_names]\n",
    "            seq = np.stack(l_array,axis=-1)\n",
    "\n",
    "        if resampling_factor is not None:\n",
    "            if fast_resample:\n",
    "                res_seq = resample_interp(seq,resampling_factor)\n",
    "            else:\n",
    "                res_seq = resample(seq,int(seq.shape[0]*resampling_factor),window=('kaiser', 14.0))\n",
    "            \n",
    "            if fs_idx is not None: res_seq[:,fs_idx] = seq[0,fs_idx] * resampling_factor\n",
    "            if dt_idx is not None: res_seq[:,dt_idx] = seq[0,dt_idx] / resampling_factor\n",
    "            seq = res_seq\n",
    "\n",
    "            if seq_len is not None: seq = seq[:seq_len] #cut the part of the sequence that is too long because of resampling rounding errors\n",
    "\n",
    "        return seq\n",
    "    \n",
    "    def _extract_dict_sequence(self,item):\n",
    "        if hasattr(item,'keys'):\n",
    "            path = item['path']\n",
    "            dataset = item['dataset'] if 'dataset' in item else None\n",
    "            l_slc = item['l_slc'] if 'l_slc' in item else None\n",
    "            r_slc = item['r_slc'] if 'r_slc' in item else None\n",
    "            resampling_factor = item['resampling_factor'] if 'resampling_factor' in item else None\n",
    "\n",
    "            if self.cached:\n",
    "                seq = self._exseq(path,dataset,None,None,resampling_factor,self.fs_idx,self.dt_idx,self.fast_resample)[l_slc:r_slc]\n",
    "            else:\n",
    "                seq = self._exseq(path,dataset,l_slc,r_slc,resampling_factor,self.fs_idx,self.dt_idx,self.fast_resample)\n",
    "        else:\n",
    "            seq = self._exseq(str(item),None,None,None,None,None)\n",
    "\n",
    "        #shift clms of result by given value \n",
    "        if not self.clm_shift is None:\n",
    "            l_seq = seq.shape[0]\n",
    "            seq = np.stack([seq[self.l_shift[i]:l_seq+self.r_shift[i],i] for i in range(seq.shape[1])],axis=-1)\n",
    "            \n",
    "        if not self.truncate_sz is None:\n",
    "            seq = seq[truncate_sz:]\n",
    "        \n",
    "        #it is important to slice first and then do the class conversion\n",
    "#         return self.to_cls(seq.astype('f8'))#workaround for random bug, that mitigates convergence if the numpy array is an f4 array. Seems to make no sense because the result does not change. \n",
    "        return self.to_cls(seq)\n",
    "\n",
    "    def encodes(self, item)->None: \n",
    "        return self._extract_dict_sequence(item)"
   ]
  },
  {
   "cell_type": "code",
   "execution_count": null,
   "metadata": {},
   "outputs": [],
   "source": []
  },
  {
   "cell_type": "code",
   "execution_count": null,
   "metadata": {},
   "outputs": [
    {
     "data": {
      "text/plain": [
       "array([[ 0.       ,  4.1873503],\n",
       "       [-0.1      ,  4.18935  ],\n",
       "       [-0.1      ,  4.1896954],\n",
       "       ...,\n",
       "       [ 8.8388   ,  3.3932123],\n",
       "       [ 8.846    ,  3.3928714],\n",
       "       [ 8.8531   ,  3.3925302]], dtype=float32)"
      ]
     },
     "execution_count": null,
     "metadata": {},
     "output_type": "execute_result"
    }
   ],
   "source": [
    "# %%timeit\n",
    "hdf2seq = HDF2Sequence(['current','voltage'],cached=False)\n",
    "hdf2seq(hdf_files[0])"
   ]
  },
  {
   "cell_type": "code",
   "execution_count": null,
   "metadata": {},
   "outputs": [
    {
     "data": {
      "text/plain": [
       "array([[-0.1      ,  4.18935  ],\n",
       "       [-0.1      ,  4.1896954],\n",
       "       [-0.1      ,  4.190037 ],\n",
       "       ...,\n",
       "       [ 8.8388   ,  3.3932123],\n",
       "       [ 8.846    ,  3.3928714],\n",
       "       [ 8.8531   ,  3.3925302]], dtype=float32)"
      ]
     },
     "execution_count": null,
     "metadata": {},
     "output_type": "execute_result"
    }
   ],
   "source": [
    "hdf2seq = HDF2Sequence(['current','voltage'],clm_shift=[1,1])\n",
    "hdf2seq(hdf_files[0])"
   ]
  },
  {
   "cell_type": "code",
   "execution_count": null,
   "metadata": {},
   "outputs": [
    {
     "data": {
      "text/plain": [
       "array([[ 0.       ,  4.1873503],\n",
       "       [-0.1      ,  4.18935  ],\n",
       "       [-0.1      ,  4.1896954],\n",
       "       ...,\n",
       "       [ 8.8388   ,  3.3932123],\n",
       "       [ 8.846    ,  3.3928714],\n",
       "       [ 8.8531   ,  3.3925302]], dtype=float32)"
      ]
     },
     "execution_count": null,
     "metadata": {},
     "output_type": "execute_result"
    }
   ],
   "source": [
    "hdf2seq = HDF2Sequence(['current','voltage'],cached='shared')\n",
    "hdf2seq(hdf_files[0])"
   ]
  },
  {
   "cell_type": "code",
   "execution_count": null,
   "metadata": {},
   "outputs": [
    {
     "data": {
      "text/plain": [
       "array([[ 0.       ,  4.1873503],\n",
       "       [-0.1      ,  4.18935  ],\n",
       "       [-0.1      ,  4.1896954],\n",
       "       ...,\n",
       "       [ 8.8388   ,  3.3932123],\n",
       "       [ 8.846    ,  3.3928714],\n",
       "       [ 8.8531   ,  3.3925302]], dtype=float32)"
      ]
     },
     "execution_count": null,
     "metadata": {},
     "output_type": "execute_result"
    }
   ],
   "source": [
    "# %%timeit\n",
    "hdf2seq(hdf_files[0])"
   ]
  },
  {
   "cell_type": "code",
   "execution_count": null,
   "metadata": {},
   "outputs": [],
   "source": [
    "hdf2seq = HDF2Sequence(['current','voltage'],cached=True)"
   ]
  },
  {
   "cell_type": "code",
   "execution_count": null,
   "metadata": {},
   "outputs": [
    {
     "data": {
      "text/plain": [
       "array([[ 0.       ,  4.1873503],\n",
       "       [-0.1      ,  4.18935  ],\n",
       "       [-0.1      ,  4.1896954],\n",
       "       ...,\n",
       "       [ 8.8388   ,  3.3932123],\n",
       "       [ 8.846    ,  3.3928714],\n",
       "       [ 8.8531   ,  3.3925302]], dtype=float32)"
      ]
     },
     "execution_count": null,
     "metadata": {},
     "output_type": "execute_result"
    }
   ],
   "source": [
    "# %%timeit\n",
    "hdf2seq(hdf_files[0])"
   ]
  },
  {
   "attachments": {},
   "cell_type": "markdown",
   "metadata": {},
   "source": [
    "Die Funktion lässt sich mittels Pipeline auf eine Liste von Quellobjekten (hier Pfade) anwenden "
   ]
  },
  {
   "cell_type": "code",
   "execution_count": null,
   "metadata": {},
   "outputs": [
    {
     "data": {
      "text/plain": [
       "(265607, 1)"
      ]
     },
     "execution_count": null,
     "metadata": {},
     "output_type": "execute_result"
    }
   ],
   "source": [
    "hdf2seq = HDF2Sequence(['current'])\n",
    "hdf2seq(hdf_files[0]).shape"
   ]
  },
  {
   "cell_type": "code",
   "execution_count": null,
   "metadata": {},
   "outputs": [],
   "source": [
    "pipe = Pipeline(HDF2Sequence(['current','voltage']))"
   ]
  },
  {
   "cell_type": "code",
   "execution_count": null,
   "metadata": {},
   "outputs": [],
   "source": [
    "# res_pipe = pipe(hdf_files)\n",
    "# len(res_pipe), res_pipe[0][0]"
   ]
  },
  {
   "cell_type": "code",
   "execution_count": null,
   "metadata": {},
   "outputs": [],
   "source": []
  },
  {
   "attachments": {},
   "cell_type": "markdown",
   "metadata": {},
   "source": [
    "#### Performance Test\n",
    "Caching stores the arrays for future use at every function call. Very usefull, especially for windows. Should allways be turned. Only explicitly turn it off when there is not enough memory for your data."
   ]
  },
  {
   "cell_type": "code",
   "execution_count": null,
   "metadata": {},
   "outputs": [],
   "source": [
    "tfms=[  [HDF2Sequence(['current','voltage'],cached=None)],\n",
    "        [HDF2Sequence(['voltage'],cached=None)]]\n",
    "dsrc = Datasets(src_dicts[:1000],tfms=tfms)"
   ]
  },
  {
   "cell_type": "code",
   "execution_count": null,
   "metadata": {},
   "outputs": [
    {
     "data": {
      "text/plain": [
       "1000"
      ]
     },
     "execution_count": null,
     "metadata": {},
     "output_type": "execute_result"
    }
   ],
   "source": [
    "len(dsrc)"
   ]
  },
  {
   "cell_type": "code",
   "execution_count": null,
   "metadata": {},
   "outputs": [],
   "source": [
    "# %%time\n",
    "# for x in dsrc:\n",
    "#     x"
   ]
  },
  {
   "cell_type": "code",
   "execution_count": null,
   "metadata": {},
   "outputs": [],
   "source": [
    "tfms=[  [HDF2Sequence(['current','voltage'],cached=True,clm_shift=[1,2])],\n",
    "        [HDF2Sequence(['voltage'],cached=True)]]\n",
    "dsrc = Datasets(src_dicts[:1000],tfms=tfms)"
   ]
  },
  {
   "cell_type": "code",
   "execution_count": null,
   "metadata": {},
   "outputs": [],
   "source": [
    "# %%timeit\n",
    "for x in dsrc:\n",
    "    x"
   ]
  },
  {
   "attachments": {},
   "cell_type": "markdown",
   "metadata": {},
   "source": [
    "Caching is way faster because every file gets loaded multiple times"
   ]
  },
  {
   "attachments": {},
   "cell_type": "markdown",
   "metadata": {},
   "source": [
    "### Extract Scalar data from hdf5-files"
   ]
  },
  {
   "cell_type": "code",
   "execution_count": null,
   "metadata": {},
   "outputs": [],
   "source": [
    "#| export\n",
    "def hdf2scalars(hdf_path,c_names,dataset = None):\n",
    "    with h5py.File(hdf_path,'r') as f:\n",
    "        ds = f if dataset is None else f[dataset]\n",
    "        l_array = [ds.attrs[n] for n in c_names]\n",
    "        scalars = np.stack(l_array,axis=-1)\n",
    "#         import pdb; pdb.set_trace()\n",
    "#         l_array = [f[n][:][:,None] for n in c_names]\n",
    "#         seq = np.concatenate(l_array,axis=1)\n",
    "        return scalars"
   ]
  },
  {
   "cell_type": "code",
   "execution_count": null,
   "metadata": {},
   "outputs": [],
   "source": [
    "# hdf2scalars('/mnt/data/sicwell/hdf5/Cycles/ch3/cycle00568.hdf5',['soc','temperature1'],dataset='measurement_00000')"
   ]
  },
  {
   "cell_type": "code",
   "execution_count": null,
   "metadata": {},
   "outputs": [],
   "source": [
    "#| export\n",
    "class HDF2Scalars(Transform):\n",
    "    \n",
    "    def __init__(self, clm_names,to_cls=noop):\n",
    "        store_attr('clm_names,to_cls')\n",
    "    \n",
    "    def _extract_dict_scalars(self,item):\n",
    "        if isinstance(item,dict):\n",
    "            path = item['path']\n",
    "            dataset = item['dataset'] if 'dataset' in item else None\n",
    "\n",
    "            seq = hdf2scalars(path,self.clm_names,dataset)\n",
    "        else:\n",
    "            seq = hdf2scalars(str(item),self.clm_names)\n",
    "        return self.to_cls(seq)\n",
    "\n",
    "    def encodes(self, item)->None: \n",
    "        return self._extract_dict_scalars(item)"
   ]
  },
  {
   "cell_type": "code",
   "execution_count": null,
   "metadata": {},
   "outputs": [],
   "source": [
    "# HDF2Scalars(['soc','temperature1'])({'path':'/mnt/data/sicwell/hdf5/Cycles/ch3/cycle00568.hdf5','dataset':'measurement_00000'})"
   ]
  },
  {
   "attachments": {},
   "cell_type": "markdown",
   "metadata": {},
   "source": [
    "### Extract Scalar from sequence"
   ]
  },
  {
   "cell_type": "code",
   "execution_count": null,
   "metadata": {},
   "outputs": [],
   "source": [
    "#| export\n",
    "class ScalarSequenceElement(Transform):\n",
    "    \n",
    "    def __init__(self, idx,to_cls=noop):\n",
    "        store_attr('idx,to_cls')\n",
    "\n",
    "    def encodes(self, item)->None: \n",
    "        return self.to_cls(item[self.idx])"
   ]
  },
  {
   "cell_type": "code",
   "execution_count": null,
   "metadata": {},
   "outputs": [
    {
     "data": {
      "text/plain": [
       "array([8.8531], dtype=float32)"
      ]
     },
     "execution_count": null,
     "metadata": {},
     "output_type": "execute_result"
    }
   ],
   "source": [
    "ScalarSequenceElement(-1)(hdf2seq(hdf_files[0]))"
   ]
  },
  {
   "attachments": {},
   "cell_type": "markdown",
   "metadata": {},
   "source": [
    "### 2.1 Datatypes for Sequences and Scalars"
   ]
  },
  {
   "cell_type": "code",
   "execution_count": null,
   "metadata": {},
   "outputs": [],
   "source": [
    "#| export\n",
    "class TensorSequences(TensorBase):#TensorBase\n",
    "#     def __init__(self,x,c_names=None, **kwargs):\n",
    "#         super().__init__()\n",
    "#         self.c_names = c_names\n",
    "    \n",
    "    def show(self, ctx=None, **kwargs):\n",
    "#         import pdb; pdb.set_trace()\n",
    "        ax = ctx\n",
    "        if ax is None: _,ax = plt.subplots()\n",
    "        ax.plot(self)\n",
    "#         if title is not None: ax.set_title(title)\n",
    "        return ax\n",
    "\n",
    "    @classmethod\n",
    "    @delegates(HDF2Sequence, keep=True)\n",
    "    def from_hdf(cls,clm_names,**kwargs):\n",
    "        return HDF2Sequence(clm_names,**kwargs)\n",
    "    \n",
    "class TensorSequencesInput(TensorSequences): pass\n",
    "class TensorSequencesOutput(TensorSequences): pass"
   ]
  },
  {
   "cell_type": "code",
   "execution_count": null,
   "metadata": {},
   "outputs": [
    {
     "data": {
      "text/plain": [
       "numpy.ndarray"
      ]
     },
     "execution_count": null,
     "metadata": {},
     "output_type": "execute_result"
    }
   ],
   "source": [
    "f = TensorSequencesInput.from_hdf(['current'])\n",
    "type(f(hdf_files[0]))"
   ]
  },
  {
   "cell_type": "code",
   "execution_count": null,
   "metadata": {},
   "outputs": [],
   "source": [
    "# TensorSequences(np.ones((30,2))).show()"
   ]
  },
  {
   "cell_type": "code",
   "execution_count": null,
   "metadata": {},
   "outputs": [],
   "source": [
    "#| export\n",
    "@Transform\n",
    "def toTensorSequencesInput(o): return TensorSequencesInput(o)\n",
    "@Transform\n",
    "def toTensorSequencesOutput(o): return TensorSequencesOutput(o)"
   ]
  },
  {
   "cell_type": "code",
   "execution_count": null,
   "metadata": {},
   "outputs": [],
   "source": [
    "#| export\n",
    "class TensorScalars(TensorBase):\n",
    "    @classmethod\n",
    "    @delegates(HDF2Scalars, keep=True)\n",
    "    def from_hdf(cls,clm_names,**kwargs):\n",
    "        return HDF2Scalars(clm_names,**kwargs)\n",
    "    \n",
    "    \n",
    "class TensorScalarsInput(TensorScalars): pass\n",
    "class TensorScalarsOutput(TensorScalars): pass\n"
   ]
  },
  {
   "attachments": {},
   "cell_type": "markdown",
   "metadata": {},
   "source": [
    "The tensor subclassing mechanism since pytorch 1.7 keeps the tensor type in tensor operations. Operations with different branches of subclasses of tensors require a implementation of '__torch_function__'.\n",
    "Fastai implements 'TensorBase.register_func' to mark methods that behave for the given types like the default torch operation.\n",
    "\n",
    "https://pytorch.org/docs/stable/notes/extending.html#extending-torch\n"
   ]
  },
  {
   "cell_type": "code",
   "execution_count": null,
   "metadata": {},
   "outputs": [],
   "source": [
    "#| export\n",
    "for f in torch.nn.functional.mse_loss,torch.nn.functional.huber_loss, Tensor.__getitem__, Tensor.__ne__,Tensor.__eq__,Tensor.add,Tensor.sub,Tensor.mul,Tensor.div,Tensor.__rsub__,Tensor.__radd__,Tensor.matmul,Tensor.bmm:\n",
    "    TensorBase.register_func(f,TensorSequences)\n",
    "    TensorBase.register_func(f,TensorScalars)"
   ]
  },
  {
   "cell_type": "code",
   "execution_count": null,
   "metadata": {},
   "outputs": [
    {
     "data": {
      "text/plain": [
       "TensorSequencesInput(0.1384)"
      ]
     },
     "execution_count": null,
     "metadata": {},
     "output_type": "execute_result"
    }
   ],
   "source": [
    "x1 = TensorSequencesInput(torch.rand((10,10)))\n",
    "x2 = TensorSequencesOutput(torch.rand((10,10)))\n",
    "torch.nn.functional.mse_loss(x1,x2)"
   ]
  },
  {
   "attachments": {},
   "cell_type": "markdown",
   "metadata": {},
   "source": [
    "## 3. Transformations\n"
   ]
  },
  {
   "attachments": {},
   "cell_type": "markdown",
   "metadata": {},
   "source": [
    "### 3.1 Sequence Slicing Transformation"
   ]
  },
  {
   "cell_type": "code",
   "execution_count": null,
   "metadata": {},
   "outputs": [],
   "source": [
    "#| export \n",
    "class SeqSlice(Transform):\n",
    "    '''Take a slice from an array-like object. Useful for e.g. shifting input and output'''\n",
    "    def __init__(self, l_slc=None,r_slc=None):\n",
    "        self.l_slc,self.r_slc = l_slc,r_slc\n",
    "        \n",
    "    def encodes(self, o): return o[self.l_slc:self.r_slc]"
   ]
  },
  {
   "cell_type": "code",
   "execution_count": null,
   "metadata": {},
   "outputs": [],
   "source": [
    "l_shift = SeqSlice(r_slc=-1)\n",
    "arr = np.ones((5))\n",
    "test_eq(l_shift(arr),arr[:-1])"
   ]
  },
  {
   "attachments": {},
   "cell_type": "markdown",
   "metadata": {},
   "source": [
    "### 3.2 Sequence Noise Injection Transformation"
   ]
  },
  {
   "cell_type": "code",
   "execution_count": null,
   "metadata": {},
   "outputs": [],
   "source": [
    "#| export\n",
    "class SeqNoiseInjection(RandTransform):\n",
    "    split_idx=0 #apply only to training data, if None it will be applied to all data\n",
    "    '''Adds normal distributed noise to the tensor sequence with seperate mean and std for every signal'''\n",
    "    def __init__(self, std=1e-1,mean=0.,p=1.0):\n",
    "        super().__init__(p=p)\n",
    "        self.std = tensor(std).type(torch.float)\n",
    "        self.mean = tensor(mean).type(torch.float)\n",
    "        \n",
    "    def encodes(self, o:TensorSequencesInput): \n",
    "        if o.device != self.mean.device:\n",
    "            self.std = self.std.to(o.device)\n",
    "            self.mean = self.mean.to(o.device)\n",
    "        #expand creates a view on a tensor and is therefore very fast compared to copy\n",
    "        return o+torch.normal(mean=self.mean.expand_as(o), \n",
    "                              std=self.std.expand_as(o))"
   ]
  },
  {
   "cell_type": "code",
   "execution_count": null,
   "metadata": {},
   "outputs": [
    {
     "data": {
      "text/plain": [
       "(TensorSequencesInput([[ 1.,  1.,  1.],\n",
       "                       [-1., -1., -1.]]),\n",
       " torch.Size([2, 3]))"
      ]
     },
     "execution_count": null,
     "metadata": {},
     "output_type": "execute_result"
    }
   ],
   "source": [
    "x = TensorSequencesInput(tensor([[1,1,1],[-1,-1,-1.0]]))\n",
    "ns_mean = tensor([0.,10.1,3.1])\n",
    "ns_std = tensor([1.,1.1,0.1])\n",
    "x,x.shape"
   ]
  },
  {
   "cell_type": "code",
   "execution_count": null,
   "metadata": {},
   "outputs": [
    {
     "data": {
      "text/plain": [
       "TensorSequencesInput([[ 1.,  1.,  1.],\n",
       "                      [-1., -1., -1.]])"
      ]
     },
     "execution_count": null,
     "metadata": {},
     "output_type": "execute_result"
    }
   ],
   "source": [
    "seq_noise = SeqNoiseInjection(std=ns_std,mean=ns_mean)\n",
    "seq_noise(x)"
   ]
  },
  {
   "cell_type": "code",
   "execution_count": null,
   "metadata": {},
   "outputs": [
    {
     "data": {
      "text/plain": [
       "TensorSequencesInput([[ 1.,  1.,  1.],\n",
       "                      [-1., -1., -1.]])"
      ]
     },
     "execution_count": null,
     "metadata": {},
     "output_type": "execute_result"
    }
   ],
   "source": [
    "seq_noise = SeqNoiseInjection(std=ns_std*10)\n",
    "seq_noise(x)"
   ]
  },
  {
   "cell_type": "code",
   "execution_count": null,
   "metadata": {},
   "outputs": [],
   "source": [
    "#| export\n",
    "class SeqNoiseInjection_Varying(RandTransform):\n",
    "    split_idx=0\n",
    "    '''Adds normal distributed noise to the tensor sequence with a normal distributed standard deviation for every application'''\n",
    "    def __init__(self, std_std=0.1,p=1.0):\n",
    "        super().__init__(p=p)\n",
    "        self.std_std = tensor(std_std).type(torch.float)\n",
    "        \n",
    "    def encodes(self, o:TensorSequencesInput): \n",
    "        if o.device != self.std_std.device:\n",
    "            self.std_std = self.std_std.to(o.device)\n",
    "            \n",
    "        #expand creates a view on a tensor and is therefore very fast compared to copy\n",
    "        std = torch.normal(mean=0,std=self.std_std).abs()\n",
    "        return o+torch.normal(mean=0,std=std.expand_as(o))"
   ]
  },
  {
   "cell_type": "code",
   "execution_count": null,
   "metadata": {},
   "outputs": [
    {
     "data": {
      "text/plain": [
       "(TensorSequencesInput([[0, 0, 0],\n",
       "                       [0, 0, 0]]),\n",
       " torch.Size([2, 3]))"
      ]
     },
     "execution_count": null,
     "metadata": {},
     "output_type": "execute_result"
    }
   ],
   "source": [
    "x = TensorSequencesInput(tensor([[0,0,0],[0,0,0]]))\n",
    "ns_std = tensor([1.,1.1,0.1])\n",
    "x,x.shape"
   ]
  },
  {
   "cell_type": "code",
   "execution_count": null,
   "metadata": {},
   "outputs": [
    {
     "data": {
      "text/plain": [
       "TensorSequencesInput([[0, 0, 0],\n",
       "                      [0, 0, 0]])"
      ]
     },
     "execution_count": null,
     "metadata": {},
     "output_type": "execute_result"
    }
   ],
   "source": [
    "seq_noise = SeqNoiseInjection_Varying(std_std=ns_std)\n",
    "seq_noise(x)"
   ]
  },
  {
   "cell_type": "code",
   "execution_count": null,
   "metadata": {},
   "outputs": [],
   "source": [
    "#| export\n",
    "class SeqNoiseInjection_Grouped(RandTransform):\n",
    "    split_idx=0\n",
    "    '''Adds normal distributed noise to the tensor sequence with a normal distributed standard deviation for every application, every group gert'''\n",
    "    def __init__(self, std_std,std_idx,p=1.0):\n",
    "        super().__init__(p=p)\n",
    "        self.std_std = tensor(std_std).type(torch.float)\n",
    "        self.std_idx = tensor(std_idx).type(torch.long)\n",
    "        \n",
    "    def encodes(self, o:TensorSequencesInput): \n",
    "        if o.device != self.std_std.device:\n",
    "            self.std_std = self.std_std.to(o.device)\n",
    "            \n",
    "        #expand creates a view on a tensor and is therefore very fast compared to copy\n",
    "        std = torch.normal(mean=0,std=self.std_std).abs()[self.std_idx]\n",
    "        return o+torch.normal(mean=0,std=std.expand_as(o))"
   ]
  },
  {
   "cell_type": "code",
   "execution_count": null,
   "metadata": {},
   "outputs": [
    {
     "data": {
      "text/plain": [
       "(TensorSequencesInput([[0, 0, 0],\n",
       "                       [0, 0, 0]]),\n",
       " torch.Size([2, 3]))"
      ]
     },
     "execution_count": null,
     "metadata": {},
     "output_type": "execute_result"
    }
   ],
   "source": [
    "x = TensorSequencesInput(tensor([[0,0,0],[0,0,0]]))\n",
    "ns_std = tensor([1.,1.1,0.1])\n",
    "x,x.shape"
   ]
  },
  {
   "cell_type": "code",
   "execution_count": null,
   "metadata": {},
   "outputs": [
    {
     "data": {
      "text/plain": [
       "TensorSequencesInput([[0, 0, 0],\n",
       "                      [0, 0, 0]])"
      ]
     },
     "execution_count": null,
     "metadata": {},
     "output_type": "execute_result"
    }
   ],
   "source": [
    "seq_noise = SeqNoiseInjection_Grouped(std_std=[3.,0],std_idx=[0,0,1])\n",
    "seq_noise(x)"
   ]
  },
  {
   "attachments": {},
   "cell_type": "markdown",
   "metadata": {},
   "source": [
    "### 3.2 Sequence Bias Injection Transformation"
   ]
  },
  {
   "cell_type": "code",
   "execution_count": null,
   "metadata": {},
   "outputs": [],
   "source": [
    "#| export\n",
    "class SeqBiasInjection(RandTransform):\n",
    "    split_idx=0\n",
    "    '''Adds a normal distributed offset to the tensor sequence with seperate mean and std for every signal'''\n",
    "    def __init__(self, std=1e-1,mean=0.,p=1.0):\n",
    "        super().__init__(p=p)\n",
    "        self.std = tensor(std).type(torch.float)\n",
    "        self.mean = tensor(mean).type(torch.float)\n",
    "        \n",
    "    def encodes(self, o:TensorSequencesInput): \n",
    "        if o.device != self.mean.device:\n",
    "            self.std = self.std.to(o.device)\n",
    "            self.mean = self.mean.to(o.device)\n",
    "        \n",
    "        #expand creates a view on a tensor and is therefore very fast compared to copy\n",
    "        mean=self.mean.repeat((o.shape[0],1,1)).expand((o.shape[0],1,o.shape[2]))\n",
    "        std= self.std.repeat((o.shape[0],1,1)).expand((o.shape[0],1,o.shape[2]))\n",
    "        n = torch.normal(mean=mean, std=std).expand_as(o)\n",
    "        return o+n"
   ]
  },
  {
   "cell_type": "code",
   "execution_count": null,
   "metadata": {},
   "outputs": [
    {
     "data": {
      "text/plain": [
       "TensorSequencesInput([[ 1., -1.]])"
      ]
     },
     "execution_count": null,
     "metadata": {},
     "output_type": "execute_result"
    }
   ],
   "source": [
    "x = TensorSequencesInput(tensor([[[1,1,1],[-1,-1,-1.0]]]))\n",
    "ns_mean = tensor([0.,10.1,3.1])\n",
    "ns_std = tensor([1.,1.1,0.1])\n",
    "seq_bias = SeqBiasInjection(std=ns_std,mean=ns_std)\n",
    "seq_bias(x)[...,0]"
   ]
  },
  {
   "cell_type": "code",
   "execution_count": null,
   "metadata": {},
   "outputs": [
    {
     "data": {
      "text/plain": [
       "tensor([1.0000, 1.1000, 0.1000])"
      ]
     },
     "execution_count": null,
     "metadata": {},
     "output_type": "execute_result"
    }
   ],
   "source": [
    "seq_bias.mean"
   ]
  },
  {
   "cell_type": "code",
   "execution_count": null,
   "metadata": {},
   "outputs": [
    {
     "data": {
      "text/plain": [
       "TensorSequencesInput([[[ 1.,  1.,  1.],\n",
       "                       [-1., -1., -1.]]])"
      ]
     },
     "execution_count": null,
     "metadata": {},
     "output_type": "execute_result"
    }
   ],
   "source": [
    "seq_bias = SeqBiasInjection(std=ns_std*10)\n",
    "seq_bias(x)"
   ]
  },
  {
   "attachments": {},
   "cell_type": "markdown",
   "metadata": {},
   "source": [
    "### 3.3 Normalization\n",
    "`Normalize` is programmed for `TensorImage` as an input tensor. It gets. At init the variable axes need to be chosen correspondingly to the shape of your tensor."
   ]
  },
  {
   "cell_type": "code",
   "execution_count": null,
   "metadata": {},
   "outputs": [],
   "source": [
    "#| export\n",
    "@Normalize\n",
    "def encodes(self, x:TensorSequencesInput): \n",
    "    if x.device != self.mean.device:\n",
    "        self.mean = self.mean.to(x.device)\n",
    "        self.std = self.std.to(x.device)\n",
    "    return (x-self.mean) / self.std\n",
    "\n",
    "@Normalize\n",
    "def decodes(self, x:TensorSequencesInput):\n",
    "    if x.device != self.mean.device:\n",
    "        self.mean = self.mean.to(x.device)\n",
    "        self.std = self.std.to(x.device)\n",
    "    return (x*self.std + self.mean)"
   ]
  },
  {
   "cell_type": "code",
   "execution_count": null,
   "metadata": {},
   "outputs": [
    {
     "data": {
      "text/plain": [
       "(TensorSequencesInput([[[ 1.,  1.,  1.],\n",
       "                        [-1., -1., -1.]]]),\n",
       " TensorSequencesInput([[[  1.0000,  -8.2727, -21.0000],\n",
       "                        [ -1.0000, -10.0909, -41.0000]]]))"
      ]
     },
     "execution_count": null,
     "metadata": {},
     "output_type": "execute_result"
    }
   ],
   "source": [
    "norm = Normalize.from_stats(mean=ns_mean,std=ns_std,dim=1,ndim=2,cuda=False)\n",
    "x,norm(x)"
   ]
  },
  {
   "attachments": {},
   "cell_type": "markdown",
   "metadata": {},
   "source": [
    "## 4. Split in Training, Validation\n",
    "Splitting kann anhand von vorher bekannten Indizes, dem Dateipfad oder anderen allgemeinen Funktion durchgeführt werden.\n",
    "\n",
    "Splitting innerhalb einer Sequenzen sollte in der Praxis nur dann geschehen wenn eine einzige Sequenz vorhanden ist. Diese kann dann vorher manuell geteilt werden.\n"
   ]
  },
  {
   "attachments": {},
   "cell_type": "markdown",
   "metadata": {},
   "source": [
    "### 4.1 Splitting mit vorgegebenem Index"
   ]
  },
  {
   "cell_type": "code",
   "execution_count": null,
   "metadata": {},
   "outputs": [],
   "source": [
    "splitter = IndexSplitter([1,2])\n",
    "test_eq(splitter(hdf_files),[[0],[1,2]])"
   ]
  },
  {
   "attachments": {},
   "cell_type": "markdown",
   "metadata": {},
   "source": [
    "### 4.2 Splitting mit allgemeiner Funktion\n",
    "Items, bei denen die definierte Funktion `True` zurück gibt, werden den Validierungsdatensatz zugeordnet, der Rest dem Training. In diesem Fall wird nach dem Übergeordneten Ordnernamen gesucht."
   ]
  },
  {
   "cell_type": "code",
   "execution_count": null,
   "metadata": {},
   "outputs": [],
   "source": [
    "splitter = FuncSplitter(lambda o: Path(o).parent.name == 'valid')\n",
    "test_eq(splitter(hdf_files),[[0,1],[2]])"
   ]
  },
  {
   "attachments": {},
   "cell_type": "markdown",
   "metadata": {},
   "source": [
    "### 4.3 Splitting anhand des Parent-Folders\n",
    "Splitter, der Explizit Training und Validierungsordner den Datensätzen zuordnet"
   ]
  },
  {
   "cell_type": "code",
   "execution_count": null,
   "metadata": {},
   "outputs": [],
   "source": [
    "#| export\n",
    "def _parent_idxs(items, name): return mask2idxs(Path(o).parent.name == name for o in items)\n",
    "\n",
    "def ParentSplitter(train_name='train', valid_name='valid'):\n",
    "    \"Split `items` from the parent folder names (`train_name` and `valid_name`).\"\n",
    "    def _inner(o, **kwargs):\n",
    "        return _parent_idxs(o, train_name),_parent_idxs(o, valid_name)\n",
    "    return _inner"
   ]
  },
  {
   "cell_type": "code",
   "execution_count": null,
   "metadata": {},
   "outputs": [],
   "source": [
    "splitter = ParentSplitter()\n",
    "test_eq(splitter(hdf_files),[[0,1],[2]])"
   ]
  },
  {
   "attachments": {},
   "cell_type": "markdown",
   "metadata": {},
   "source": [
    "### 4.4 Percentage Splitter"
   ]
  },
  {
   "cell_type": "code",
   "execution_count": null,
   "metadata": {},
   "outputs": [],
   "source": [
    "#| export\n",
    "def PercentageSplitter(pct=0.8):\n",
    "    \"Split `items` in order in relative quantity.\"\n",
    "    def _inner(o, **kwargs):\n",
    "        split_idx=int(len(o)*pct)\n",
    "        return L(range(split_idx)),L(range(split_idx,len(o)))\n",
    "    return _inner"
   ]
  },
  {
   "cell_type": "code",
   "execution_count": null,
   "metadata": {},
   "outputs": [],
   "source": [
    "splitter = PercentageSplitter(0.7)\n",
    "test_eq(splitter(hdf_files),[[0,1],[2]])"
   ]
  },
  {
   "attachments": {},
   "cell_type": "markdown",
   "metadata": {},
   "source": [
    "### 4.5 Apply To Dictionary\n",
    "In Case of the Datablock API your items are a list of dictionaries. If you want to apply a Splitter to the path stored within you need a wrapper function."
   ]
  },
  {
   "cell_type": "code",
   "execution_count": null,
   "metadata": {},
   "outputs": [],
   "source": [
    "#| export\n",
    "def ApplyToDict(fn,key='path'):\n",
    "    return lambda x:fn([i[key] for i in x])"
   ]
  },
  {
   "attachments": {},
   "cell_type": "markdown",
   "metadata": {},
   "source": [
    "### 4.6 Valid Column\n",
    "Using the 'valid' column of the Dataframe that has been created by a transformation."
   ]
  },
  {
   "cell_type": "code",
   "execution_count": null,
   "metadata": {},
   "outputs": [],
   "source": [
    "#| export\n",
    "valid_clm_splitter =  FuncSplitter(lambda o:o['valid'])"
   ]
  },
  {
   "cell_type": "code",
   "execution_count": null,
   "metadata": {},
   "outputs": [
    {
     "data": {
      "text/plain": [
       "((#53101) [0,1,2,3,4,5,6,7,8,9...],\n",
       " (#26550) [53101,53102,53103,53104,53105,53106,53107,53108,53109,53110...])"
      ]
     },
     "execution_count": null,
     "metadata": {},
     "output_type": "execute_result"
    }
   ],
   "source": [
    "valid_clm_splitter(src_dicts)"
   ]
  },
  {
   "attachments": {},
   "cell_type": "markdown",
   "metadata": {},
   "source": [
    "## 5. Dataloaders Creation\n",
    "A Datasets combines all implemented components on item level."
   ]
  },
  {
   "cell_type": "code",
   "execution_count": null,
   "metadata": {},
   "outputs": [],
   "source": [
    "#| export\n",
    "def pad_sequence(batch,sorting = False):\n",
    "    '''collate_fn for padding of sequences of different lengths, use in before_batch of databunch, still quite slow'''\n",
    "    #takes list of tuples as input, returns list of tuples\n",
    "    sorted_batch = sorted(batch, key=lambda x: x[0].shape[0], reverse=True) if sorting else batch\n",
    "\n",
    "    pad_func = partial(torch.nn.utils.rnn.pad_sequence,batch_first=True)\n",
    "    padded_tensors = [pad_func([x[tup] for x in sorted_batch]) for tup in range(len(batch[0]))]\n",
    "    padded_list = [retain_types(tuple([tup[entry] for tup in padded_tensors]),batch[0]) for entry in range(len(batch))]\n",
    "    #retain types is important for decoding later back to source items\n",
    "#     import pdb; pdb.set_trace()\n",
    "    \n",
    "    return padded_list"
   ]
  },
  {
   "attachments": {},
   "cell_type": "markdown",
   "metadata": {},
   "source": [
    "### 5.1 Low-Level with Transforms"
   ]
  },
  {
   "cell_type": "code",
   "execution_count": null,
   "metadata": {},
   "outputs": [],
   "source": [
    "tfms=[  [HDF2Sequence(['current','voltage']),SeqSlice(l_slc=1),toTensorSequencesInput],\n",
    "        [HDF2Sequence(['voltage']),SeqSlice(r_slc=-1),toTensorSequencesOutput]]\n",
    "splits = splitter([x['path'] for x in src_dicts])\n",
    "dsrc = Datasets(src_dicts,tfms=tfms,splits=splits)"
   ]
  },
  {
   "cell_type": "code",
   "execution_count": null,
   "metadata": {},
   "outputs": [],
   "source": [
    "# %%timeit\n",
    "# dsrc[0]"
   ]
  },
  {
   "cell_type": "code",
   "execution_count": null,
   "metadata": {},
   "outputs": [
    {
     "data": {
      "text/plain": [
       "torch.Size([128, 100, 2])"
      ]
     },
     "execution_count": null,
     "metadata": {},
     "output_type": "execute_result"
    }
   ],
   "source": [
    "db = dsrc.dataloaders(bs=128,after_batch=[SeqNoiseInjection(std=[1.1,0.01]),Normalize(axes=[0,1])],before_batch=pad_sequence)\n",
    "db.one_batch()[0].shape"
   ]
  },
  {
   "attachments": {},
   "cell_type": "markdown",
   "metadata": {},
   "source": [
    "### 5.2 Mid-Level with Datablock API"
   ]
  },
  {
   "cell_type": "code",
   "execution_count": null,
   "metadata": {},
   "outputs": [],
   "source": [
    "#| export\n",
    "class SequenceBlock(TransformBlock):\n",
    "    def __init__(self, seq_extract,padding=False):\n",
    "        return super().__init__(type_tfms=[seq_extract],\n",
    "                                batch_tfms=[Normalize(axes=[0,1])],\n",
    "                                dls_kwargs={} if not padding else {'before_batch': pad_sequence})\n",
    "\n",
    "    @classmethod\n",
    "    @delegates(HDF2Sequence, keep=True)\n",
    "    def from_hdf(cls, clm_names, seq_cls=TensorSequencesInput,padding=False, **kwargs):\n",
    "        return cls(HDF2Sequence(clm_names,to_cls=seq_cls,**kwargs), padding)\n",
    "\n",
    "    @classmethod\n",
    "    def from_numpy(cls, seq_cls=TensorSequencesInput,padding=False, **kwargs):\n",
    "        return cls(ToTensor(enc=seq_cls), padding)"
   ]
  },
  {
   "cell_type": "code",
   "execution_count": null,
   "metadata": {},
   "outputs": [],
   "source": [
    "seq = DataBlock(blocks=(SequenceBlock.from_hdf(['current','voltage'],TensorSequencesInput,padding=True,cached=None),\n",
    "                        SequenceBlock.from_hdf(['voltage'],TensorSequencesOutput,cached=None)),\n",
    "                get_items=tfm_src,\n",
    "                splitter=ApplyToDict(ParentSplitter()))"
   ]
  },
  {
   "cell_type": "code",
   "execution_count": null,
   "metadata": {},
   "outputs": [],
   "source": [
    "dls = seq.dataloaders(hdf_files)"
   ]
  },
  {
   "cell_type": "code",
   "execution_count": null,
   "metadata": {},
   "outputs": [],
   "source": [
    "#| export\n",
    "class ScalarNormalize(DisplayedTransform):\n",
    "    def __init__(self, mean=None, std=None, axes=(0,)): store_attr()\n",
    "        \n",
    "    @classmethod\n",
    "    def from_stats(cls, mean, std, dim=1, ndim=4, cuda=True): return cls(*broadcast_vec(dim, ndim, mean, std, cuda=cuda))\n",
    "    \n",
    "    def setups(self, dl:DataLoader):\n",
    "        if self.mean is None or self.std is None:\n",
    "            b = dl.one_batch()\n",
    "            for x in b:\n",
    "                if isinstance(x,TensorScalarsInput):\n",
    "                    self.mean,self.std = x.mean(self.axes, keepdim=True),x.std(self.axes, keepdim=True)+1e-7\n",
    "                    return\n",
    "\n",
    "    def encodes(self, x:TensorScalarsInput): \n",
    "        if x.device != self.mean.device:\n",
    "            self.mean = self.mean.to(x.device)\n",
    "            self.std = self.std.to(x.device)\n",
    "        return (x-self.mean) / self.std\n",
    "    \n",
    "    def decodes(self, x:TensorScalarsInput):\n",
    "        if x.device != self.mean.device:\n",
    "            self.mean = self.mean.to(x.device)\n",
    "            self.std = self.std.to(x.device)\n",
    "        return (x*self.std + self.mean)\n",
    "\n",
    "class ScalarBlock(TransformBlock):\n",
    "    def __init__(self, scl_extract):\n",
    "        return super().__init__(type_tfms=[scl_extract],\n",
    "                                batch_tfms=[ScalarNormalize()])\n",
    "\n",
    "    @classmethod\n",
    "    @delegates(HDF2Scalars, keep=True)\n",
    "    def from_hdf(cls, clm_names, scl_cls=TensorScalarsInput, **kwargs):\n",
    "        return cls(HDF2Scalars(clm_names,to_cls=scl_cls,**kwargs))"
   ]
  },
  {
   "attachments": {},
   "cell_type": "markdown",
   "metadata": {},
   "source": [
    "### 5.3 Spectrogram-Datablock"
   ]
  },
  {
   "cell_type": "code",
   "execution_count": null,
   "metadata": {},
   "outputs": [],
   "source": [
    "#| export\n",
    "class TensorSpectrogram(TensorBase):\n",
    "    def show(self, ctx=None, ax=None, title=\"\", **kwargs):\n",
    "        ax = ifnone(ax, ctx)\n",
    "        if ax is None:\n",
    "            _, ax = plt.subplots()\n",
    "        ax.axis(False)\n",
    "        n_channels = self.shape[0]\n",
    "        for i, channel in enumerate(self):\n",
    "            ia = ax.inset_axes((i / n_channels, 0.2, 1 / n_channels, 0.7))\n",
    "#             ia = ax.inset_axes((i / n_channels, 0, 1 / n_channels, 1))\n",
    "    \n",
    "            ia.imshow(channel.cpu().numpy(),aspect ='auto',origin ='lower')\n",
    "            if i>0: ia.set_yticks([])\n",
    "            ia.set_title(f\"Channel {i}\")\n",
    "        ax.set_title(title)\n",
    "        return ax\n",
    "\n",
    "class TensorSpectrogramInput(TensorSpectrogram): pass\n",
    "class TensorSpectrogramOutput(TensorSpectrogram): pass"
   ]
  },
  {
   "cell_type": "code",
   "execution_count": null,
   "metadata": {},
   "outputs": [
    {
     "data": {
      "text/plain": [
       "torch.Size([2000, 1])"
      ]
     },
     "execution_count": null,
     "metadata": {},
     "output_type": "execute_result"
    }
   ],
   "source": [
    "seq_spec = TensorSpectrogramInput(HDF2Sequence(['current'],to_cls=TensorSpectrogramInput)._hdf_extract_sequence(hdf_files[0],r_slc=2000))\n",
    "seq_spec.shape"
   ]
  },
  {
   "cell_type": "code",
   "execution_count": null,
   "metadata": {},
   "outputs": [],
   "source": [
    "#| exporti\n",
    "def complex_norm(\n",
    "        complex_tensor: Tensor,\n",
    "        power: float = 1.0\n",
    ") -> Tensor:\n",
    "    r\"\"\"Compute the norm of complex tensor input.\n",
    "\n",
    "    Args:\n",
    "        complex_tensor (Tensor): Tensor shape of `(..., complex=2)`\n",
    "        power (float): Power of the norm. (Default: `1.0`).\n",
    "\n",
    "    Returns:\n",
    "        Tensor: Power of the normed input tensor. Shape of `(..., )`\n",
    "    \"\"\"\n",
    "    if power == 1.0:\n",
    "        return torch.norm(complex_tensor, 2, -1)\n",
    "    return torch.norm(complex_tensor, 2, -1).pow(power)"
   ]
  },
  {
   "cell_type": "code",
   "execution_count": null,
   "metadata": {},
   "outputs": [],
   "source": [
    "#| exporti\n",
    "def spectrogram(\n",
    "        waveform: Tensor,\n",
    "        pad: int,\n",
    "        window: Tensor,\n",
    "        n_fft: int,\n",
    "        hop_length: int,\n",
    "        win_length: int,\n",
    "        power: Optional[float],\n",
    "        normalized: bool\n",
    ") -> Tensor:\n",
    "    r\"\"\"Create a spectrogram or a batch of spectrograms from a raw audio signal.\n",
    "    The spectrogram can be either magnitude-only or complex.\n",
    "\n",
    "    Args:\n",
    "        waveform (Tensor): Tensor of audio of dimension (..., time)\n",
    "        pad (int): Two sided padding of signal\n",
    "        window (Tensor): Window tensor that is applied/multiplied to each frame/window\n",
    "        n_fft (int): Size of FFT\n",
    "        hop_length (int): Length of hop between STFT windows\n",
    "        win_length (int): Window size\n",
    "        power (float or None): Exponent for the magnitude spectrogram,\n",
    "            (must be > 0) e.g., 1 for energy, 2 for power, etc.\n",
    "            If None, then the complex spectrum is returned instead.\n",
    "        normalized (bool): Whether to normalize by magnitude after stft\n",
    "\n",
    "    Returns:\n",
    "        Tensor: Dimension (..., freq, time), freq is\n",
    "        ``n_fft // 2 + 1`` and ``n_fft`` is the number of\n",
    "        Fourier bins, and time is the number of window hops (n_frame).\n",
    "    \"\"\"\n",
    "\n",
    "    if pad > 0:\n",
    "        # TODO add \"with torch.no_grad():\" back when JIT supports it\n",
    "        waveform = torch.nn.functional.pad(waveform, (pad, pad), \"constant\")\n",
    "\n",
    "    # pack batch\n",
    "    shape = waveform.size()\n",
    "    waveform = waveform.view(-1, shape[-1])\n",
    "\n",
    "    # default values are consistent with librosa.core.spectrum._spectrogram\n",
    "    spec_f = torch.view_as_real(torch.stft(\n",
    "        waveform, n_fft, hop_length, win_length, window, True, \"reflect\", False, True,return_complex=True\n",
    "    ))\n",
    "\n",
    "    # unpack batch\n",
    "    spec_f = spec_f.view(shape[:-1] + spec_f.shape[-3:])\n",
    "\n",
    "    if normalized:\n",
    "        spec_f /= window.pow(2.).sum().sqrt()\n",
    "    if power is not None:\n",
    "        spec_f = complex_norm(spec_f, power=power)\n",
    "\n",
    "    return spec_f"
   ]
  },
  {
   "cell_type": "code",
   "execution_count": null,
   "metadata": {},
   "outputs": [],
   "source": [
    "#| exporti\n",
    "from typing import Callable\n",
    "\n",
    "class Spectrogram(torch.nn.Module):\n",
    "    r\"\"\"Create a spectrogram from a audio signal.\n",
    "\n",
    "    Args:\n",
    "        n_fft (int, optional): Size of FFT, creates ``n_fft // 2 + 1`` bins. (Default: ``400``)\n",
    "        win_length (int or None, optional): Window size. (Default: ``n_fft``)\n",
    "        hop_length (int or None, optional): Length of hop between STFT windows. (Default: ``win_length // 2``)\n",
    "        pad (int, optional): Two sided padding of signal. (Default: ``0``)\n",
    "        window_fn (Callable[..., Tensor], optional): A function to create a window tensor\n",
    "            that is applied/multiplied to each frame/window. (Default: ``torch.hann_window``)\n",
    "        power (float or None, optional): Exponent for the magnitude spectrogram,\n",
    "            (must be > 0) e.g., 1 for energy, 2 for power, etc.\n",
    "            If None, then the complex spectrum is returned instead. (Default: ``2``)\n",
    "        normalized (bool, optional): Whether to normalize by magnitude after stft. (Default: ``False``)\n",
    "        wkwargs (dict or None, optional): Arguments for window function. (Default: ``None``)\n",
    "    \"\"\"\n",
    "    __constants__ = ['n_fft', 'win_length', 'hop_length', 'pad', 'power', 'normalized']\n",
    "\n",
    "    def __init__(self,\n",
    "                 n_fft: int = 400,\n",
    "                 win_length: Optional[int] = None,\n",
    "                 hop_length: Optional[int] = None,\n",
    "                 pad: int = 0,\n",
    "                 window_fn: Callable[..., Tensor] = torch.hann_window,\n",
    "                 power: Optional[float] = 2.,\n",
    "                 normalized: bool = False,\n",
    "                 wkwargs: Optional[dict] = None) -> None:\n",
    "        super(Spectrogram, self).__init__()\n",
    "        self.n_fft = n_fft\n",
    "        # number of FFT bins. the returned STFT result will have n_fft // 2 + 1\n",
    "        # number of frequecies due to onesided=True in torch.stft\n",
    "        self.win_length = win_length if win_length is not None else n_fft\n",
    "        self.hop_length = hop_length if hop_length is not None else self.win_length // 2\n",
    "        window = window_fn(self.win_length) if wkwargs is None else window_fn(self.win_length, **wkwargs)\n",
    "        self.register_buffer('window', window)\n",
    "        self.pad = pad\n",
    "        self.power = power\n",
    "        self.normalized = normalized\n",
    "\n",
    "    def forward(self, waveform: Tensor) -> Tensor:\n",
    "        r\"\"\"\n",
    "        Args:\n",
    "            waveform (Tensor): Tensor of audio of dimension (..., time).\n",
    "\n",
    "        Returns:\n",
    "            Tensor: Dimension (..., freq, time), where freq is\n",
    "            ``n_fft // 2 + 1`` where ``n_fft`` is the number of\n",
    "            Fourier bins, and time is the number of window hops (n_frame).\n",
    "        \"\"\"\n",
    "        return spectrogram(waveform, self.pad, self.window, self.n_fft, self.hop_length,\n",
    "                             self.win_length, self.power, self.normalized)"
   ]
  },
  {
   "cell_type": "code",
   "execution_count": null,
   "metadata": {},
   "outputs": [],
   "source": [
    "#| export\n",
    "@delegates(Spectrogram, keep=True)\n",
    "class Sequence2Spectrogram(Transform):\n",
    "    '''calculates the FFT of a sequence'''\n",
    "    \n",
    "    def __init__(self,scaling='log',**kwargs): \n",
    "        self.scaling=scaling\n",
    "        self.tfm = Spectrogram(**kwargs)\n",
    "        \n",
    "    def encodes(self, o:TensorSpectrogram): \n",
    "        if o.device != self.tfm.window.device: self.tfm.window = self.tfm.window.to(o.device)\n",
    "#         import pdb;pdb.set_trace()\n",
    "        spec = self.tfm(o.transpose(-1,-2).contiguous())\n",
    "        if self.scaling == 'log': spec = torch.log10(spec + 1e-10)\n",
    "        return spec"
   ]
  },
  {
   "cell_type": "code",
   "execution_count": null,
   "metadata": {},
   "outputs": [],
   "source": [
    "#| export\n",
    "class SpectrogramBlock(TransformBlock):\n",
    "    def __init__(self, seq_extract,padding=False,n_fft=100,hop_length=None,normalized=False):\n",
    "        return super().__init__(type_tfms=[seq_extract],\n",
    "                                batch_tfms=[Sequence2Spectrogram(n_fft=n_fft,hop_length=hop_length,normalized=normalized)],\n",
    "                                dls_kwargs={} if not padding else {'before_batch': pad_sequence})\n",
    "\n",
    "    @classmethod\n",
    "    @delegates(HDF2Sequence, keep=True)\n",
    "    def from_hdf(cls, clm_names, seq_cls=TensorSpectrogramInput,padding=False,n_fft=100,hop_length=None,normalized=False, **kwargs):\n",
    "        return cls(HDF2Sequence(clm_names,to_cls=seq_cls,**kwargs), padding,n_fft=n_fft,hop_length=hop_length,normalized=normalized)"
   ]
  },
  {
   "cell_type": "code",
   "execution_count": null,
   "metadata": {},
   "outputs": [],
   "source": [
    "dls_spec = DataBlock(blocks=(SpectrogramBlock.from_hdf(['current','voltage'],n_fft=100,hop_length=10,normalized=True),\n",
    "                        SequenceBlock.from_hdf(['voltage'],TensorSequencesOutput)),\n",
    "                get_items= CreateDict([DfHDFCreateWindows(win_sz=2000+1,stp_sz=10,clm='current')]),\n",
    "                splitter=ApplyToDict(ParentSplitter())).dataloaders(hdf_files)"
   ]
  },
  {
   "cell_type": "code",
   "execution_count": null,
   "metadata": {},
   "outputs": [
    {
     "data": {
      "text/plain": [
       "torch.Size([64, 2, 51, 201])"
      ]
     },
     "execution_count": null,
     "metadata": {},
     "output_type": "execute_result"
    }
   ],
   "source": [
    "dls_spec.one_batch()[0].shape"
   ]
  },
  {
   "attachments": {},
   "cell_type": "markdown",
   "metadata": {},
   "source": [
    "## 6. Show Batches and Results"
   ]
  },
  {
   "cell_type": "code",
   "execution_count": null,
   "metadata": {},
   "outputs": [],
   "source": [
    "#| export\n",
    "def plot_sequence(axs,in_sig,targ_sig,out_sig=None,**kwargs):\n",
    "    n_targ = targ_sig.shape[1]\n",
    "    for j,ax in  enumerate(axs[:-1]):\n",
    "        ax.plot(targ_sig[:,j])\n",
    "        if out_sig is not None: \n",
    "            ax.plot(out_sig[:,j])\n",
    "            ax.legend(['y','ŷ'])\n",
    "            if 'ref' in kwargs:\n",
    "                ax.plot(kwargs['ref'][:,j]) \n",
    "        ax.label_outer()\n",
    "    axs[-1].plot(in_sig)"
   ]
  },
  {
   "cell_type": "code",
   "execution_count": null,
   "metadata": {},
   "outputs": [],
   "source": [
    "#| export\n",
    "def plot_seqs_single_figure(n_samples,n_targ,samples,plot_func,outs=None,**kwargs):\n",
    "    rows=max(1,((n_samples-1) // 3)+1)\n",
    "    cols=min(3,n_samples)\n",
    "    fig = plt.figure(figsize=(9,2*cols))\n",
    "    outer_grid = fig.add_gridspec(rows, cols)\n",
    "#     import pdb; pdb.set_trace()\n",
    "    for i in range(n_samples):\n",
    "        in_sig = samples[i][0]\n",
    "        targ_sig = samples[i][1]\n",
    "        if outs is not None: out_sig = outs[i][0]\n",
    "        inner_grid = outer_grid[i].subgridspec(n_targ+1, 1)\n",
    "        axs = [fig.add_subplot(inner_grid[j]) for j in range(n_targ+1)]\n",
    "        plot_func(axs,in_sig,targ_sig,out_sig=out_sig if outs is not None else None,**kwargs)\n",
    "    plt.tight_layout()"
   ]
  },
  {
   "cell_type": "code",
   "execution_count": null,
   "metadata": {},
   "outputs": [],
   "source": [
    "#| export\n",
    "def plot_seqs_multi_figures(n_samples,n_targ,samples,plot_func,outs=None,**kwargs):\n",
    "    for i in range(n_samples):\n",
    "        fig = plt.figure(figsize=(9,3))\n",
    "        axs = fig.subplots(nrows=n_targ+1,sharex=True)\n",
    "        in_sig = samples[i][0]\n",
    "        targ_sig = samples[i][1]\n",
    "        if outs is not None:  out_sig = outs[i][0]\n",
    "            \n",
    "        plot_func(axs,in_sig,targ_sig,out_sig=out_sig if outs is not None else None,**kwargs)\n",
    "        \n",
    "        plt.tight_layout()"
   ]
  },
  {
   "cell_type": "code",
   "execution_count": null,
   "metadata": {},
   "outputs": [],
   "source": [
    "#| export\n",
    "@typedispatch\n",
    "def show_batch(x:TensorSequences, y:TensorSequences, samples, ctxs=None, max_n=6, **kwargs):\n",
    "    n_samples = min(len(samples), max_n)\n",
    "    n_targ = samples[0][1].shape[1]\n",
    "    if n_samples > 3:\n",
    "        #if there are more then 3 samples to plot then put them in a single figure\n",
    "        plot_seqs_single_figure(n_samples,n_targ,samples,plot_sequence, **kwargs)\n",
    "    else:\n",
    "        #if there are less then 3 samples to plot then put each in its own figure\n",
    "        plot_seqs_multi_figures(n_samples,n_targ,samples,plot_sequence, **kwargs)\n",
    "    return ctxs"
   ]
  },
  {
   "cell_type": "code",
   "execution_count": null,
   "metadata": {},
   "outputs": [],
   "source": [
    "#| export\n",
    "@typedispatch\n",
    "def show_results(x:TensorSequences, y:TensorSequences, samples, outs, ctxs=None, max_n=2, **kwargs):\n",
    "    n_samples = min(len(samples), max_n)\n",
    "    n_targ = samples[0][1].shape[1]\n",
    "    if n_samples > 3:\n",
    "        #if there are more then 3 samples to plot then put them in a single figure\n",
    "        plot_seqs_single_figure(n_samples,n_targ,samples,plot_sequence,outs, **kwargs)\n",
    "    else:\n",
    "        #if there are less then 3 samples to plot then put each in its own figure\n",
    "        plot_seqs_multi_figures(n_samples,n_targ,samples,plot_sequence,outs, **kwargs)\n",
    "    return ctxs"
   ]
  },
  {
   "cell_type": "code",
   "execution_count": null,
   "metadata": {},
   "outputs": [
    {
     "data": {
      "application/vnd.jupyter.widget-view+json": {
       "model_id": "cde2bd344c434b9ebec646838fc2a076",
       "version_major": 2,
       "version_minor": 0
      },
      "image/png": "[encoded data removed]",
      "text/html": [
       "\n",
       "            <div style=\"display: inline-block;\">\n",
       "                <div class=\"jupyter-widgets widget-label\" style=\"text-align: center;\">\n",
       "                    Figure\n",
       "                </div>\n",
       "                <img src='data:image/png;base64,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' width=900.0/>\n",
       "            </div>\n",
       "        "
      ],
      "text/plain": [
       "Canvas(toolbar=Toolbar(toolitems=[('Home', 'Reset original view', 'home', 'home'), ('Back', 'Back to previous …"
      ]
     },
     "metadata": {},
     "output_type": "display_data"
    }
   ],
   "source": [
    "dls.show_batch()"
   ]
  },
  {
   "cell_type": "code",
   "execution_count": null,
   "metadata": {},
   "outputs": [],
   "source": [
    "#| include: false\n",
    "import nbdev; nbdev.nbdev_export()"
   ]
  },
  {
   "cell_type": "code",
   "execution_count": null,
   "metadata": {},
   "outputs": [],
   "source": []
  },
  {
   "cell_type": "code",
   "execution_count": null,
   "metadata": {},
   "outputs": [],
   "source": []
  }
 ],
 "metadata": {
  "kernelspec": {
   "display_name": "python3",
   "language": "python",
   "name": "python3"
  }
 },
 "nbformat": 4,
 "nbformat_minor": 4
}
