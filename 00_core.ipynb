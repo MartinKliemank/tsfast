{
 "cells": [
  {
   "cell_type": "raw",
   "metadata": {},
   "source": [
    "---\n",
    "description: Corefunctionality for data preparation of sequential data for pytorch,\n",
    "  fastai models\n",
    "output-file: core.html\n",
    "title: Corefunctions\n",
    "\n",
    "---\n",
    "\n"
   ]
  },
  {
   "cell_type": "code",
   "execution_count": 1,
   "metadata": {},
   "outputs": [],
   "source": [
    "#| default_exp core\n",
    "#| default_cls_lvl 3"
   ]
  },
  {
   "cell_type": "code",
   "execution_count": 2,
   "metadata": {},
   "outputs": [],
   "source": [
    "#| include: false\n",
    "# %load_ext line_profiler\n",
    "%matplotlib widget"
   ]
  },
  {
   "attachments": {},
   "cell_type": "markdown",
   "metadata": {},
   "source": [
    "# Application Structure\n",
    "The data will be extracted and prepared via transforms. Those are grouped in:\n",
    "- Type Transforms: Those extraxt the needed components from the source items, like input sequences or target scalar values. The work on single tensors.\n",
    "- Item Transforms: Those Transforms may work on tuple level and therefore may process relationships between input and output.\n",
    "- Batch Transform: Those transforms work on batch level. They receive batched tensors and may apply lazy transforms like normalization very effeciently.\n",
    "\n",
    "An application example may look like the following:\n",
    "- sourceitems: \n",
    "    - path extraction with hdf5 file endings\n",
    "    - create pandas dataframe with information for type transforms, like slices\n",
    "    - filter items in pandas dataframe\n",
    "- type transforms: \n",
    "    - extract hdf5 input and output sequence\n",
    "    - create windows\n",
    "- item transforms: \n",
    "    - filter sequence by value\n",
    "    - shift output sequence by 1 element\n",
    "- batch transforms: \n",
    "    - noise injection\n",
    "    - normalization\n",
    "    "
   ]
  },
  {
   "cell_type": "code",
   "execution_count": 4,
   "metadata": {},
   "outputs": [],
   "source": [
    "#| export\n",
    "from fastai.data.all import *\n",
    "from fastai.vision.augment import RandTransform\n",
    "import h5py"
   ]
  },
  {
   "cell_type": "code",
   "execution_count": 5,
   "metadata": {},
   "outputs": [],
   "source": [
    "#| export\n",
    "def obj_in_lst(lst,cls):\n",
    "    '''retrieve first object of type cls from a list'''\n",
    "    return next(o for o in lst if type(o) is cls)"
   ]
  },
  {
   "cell_type": "code",
   "execution_count": 6,
   "metadata": {},
   "outputs": [],
   "source": [
    "#| export\n",
    "def count_parameters(model):\n",
    "    '''retrieve number of trainable parameters of a model'''\n",
    "    return sum(p.numel() for p in model.parameters() if p.requires_grad)"
   ]
  },
  {
   "attachments": {},
   "cell_type": "markdown",
   "metadata": {},
   "source": [
    "## 1. Extract Source Items\n",
    "The file paths may be extracted with `get_files` of fastai2. `get_hdf_files` removes the need of writing the hdf5 file extension.\n",
    "\n",
    "Then a pandas dataframe may be created in case further information for the source items need to be stored like slices for the windowing function."
   ]
  },
  {
   "attachments": {},
   "cell_type": "markdown",
   "metadata": {},
   "source": [
    "### 1.1 Extract File Paths"
   ]
  },
  {
   "cell_type": "code",
   "execution_count": 7,
   "metadata": {},
   "outputs": [
    {
     "data": {
      "text/plain": [
       "(3, Path('test_data/train/Sim_RealisticCycle1.hdf5'))"
      ]
     },
     "execution_count": 7,
     "metadata": {},
     "output_type": "execute_result"
    }
   ],
   "source": [
    "f_path = 'test_data/'\n",
    "hdf_files = get_files(f_path,extensions='.hdf5',recurse=True)\n",
    "len(hdf_files),hdf_files[0]"
   ]
  },
  {
   "cell_type": "code",
   "execution_count": 8,
   "metadata": {},
   "outputs": [],
   "source": [
    "#| export\n",
    "hdf_extensions = ['.hdf5']\n",
    "def get_hdf_files(path,recurse=True, folders=None):\n",
    "    \"Get hdf5 files in `path` recursively, only in `folders`, if specified.\"\n",
    "    return get_files(path, extensions=hdf_extensions, recurse=recurse, folders=folders)"
   ]
  },
  {
   "cell_type": "code",
   "execution_count": 9,
   "metadata": {},
   "outputs": [
    {
     "data": {
      "text/plain": [
       "(3, Path('test_data/train/Sim_RealisticCycle1.hdf5'))"
      ]
     },
     "execution_count": 9,
     "metadata": {},
     "output_type": "execute_result"
    }
   ],
   "source": [
    "hdf_files = get_hdf_files(f_path)\n",
    "len(hdf_files),hdf_files[0]"
   ]
  },
  {
   "attachments": {},
   "cell_type": "markdown",
   "metadata": {},
   "source": [
    "### 1.2 Create Source Dictionaries\n",
    "In order to extract mulitple realizations of one file with different modifications, we create a list of properties. Pandas Dataframes are to slow for iteration but very fast and convenient for creations. So after creation of the pandas Dataframe we convert it to a list of dictionaries."
   ]
  },
  {
   "cell_type": "code",
   "execution_count": 10,
   "metadata": {},
   "outputs": [],
   "source": [
    "#| export\n",
    "def apply_df_tfms(src,pd_tfms = None):\n",
    "    '''Create Pandas Dataframe out of a list of items, with a list of df transforms applied'''\n",
    "    if type(src) is pd.DataFrame:\n",
    "        df = src\n",
    "    else:\n",
    "        df = pd.DataFrame(data=src.items,columns=['path'],dtype=str)\n",
    "    if pd_tfms is not None:\n",
    "        for t in pd_tfms:\n",
    "            df = t(df)\n",
    "    return df"
   ]
  },
  {
   "cell_type": "code",
   "execution_count": 11,
   "metadata": {},
   "outputs": [
    {
     "data": {
      "text/html": [
       "<div>\n",
       "<style scoped>\n",
       "    .dataframe tbody tr th:only-of-type {\n",
       "        vertical-align: middle;\n",
       "    }\n",
       "\n",
       "    .dataframe tbody tr th {\n",
       "        vertical-align: top;\n",
       "    }\n",
       "\n",
       "    .dataframe thead th {\n",
       "        text-align: right;\n",
       "    }\n",
       "</style>\n",
       "<table border=\"1\" class=\"dataframe\">\n",
       "  <thead>\n",
       "    <tr style=\"text-align: right;\">\n",
       "      <th></th>\n",
       "      <th>path</th>\n",
       "    </tr>\n",
       "  </thead>\n",
       "  <tbody>\n",
       "    <tr>\n",
       "      <th>0</th>\n",
       "      <td>test_data/train/Sim_RealisticCycle1.hdf5</td>\n",
       "    </tr>\n",
       "    <tr>\n",
       "      <th>1</th>\n",
       "      <td>test_data/train/Sim_RealisticCycle2.hdf5</td>\n",
       "    </tr>\n",
       "    <tr>\n",
       "      <th>2</th>\n",
       "      <td>test_data/valid/Sim_RealisticCycle3.hdf5</td>\n",
       "    </tr>\n",
       "  </tbody>\n",
       "</table>\n",
       "</div>"
      ],
      "text/plain": [
       "                                       path\n",
       "0  test_data/train/Sim_RealisticCycle1.hdf5\n",
       "1  test_data/train/Sim_RealisticCycle2.hdf5\n",
       "2  test_data/valid/Sim_RealisticCycle3.hdf5"
      ]
     },
     "execution_count": 11,
     "metadata": {},
     "output_type": "execute_result"
    }
   ],
   "source": [
    "df = apply_df_tfms(hdf_files)\n",
    "df.head()"
   ]
  },
  {
   "cell_type": "code",
   "execution_count": 12,
   "metadata": {},
   "outputs": [],
   "source": [
    "test_eq(apply_df_tfms(hdf_files),apply_df_tfms(apply_df_tfms(hdf_files)))"
   ]
  },
  {
   "cell_type": "code",
   "execution_count": 13,
   "metadata": {},
   "outputs": [],
   "source": [
    "#| export\n",
    "def CreateDict(pd_tfms = None):\n",
    "    '''Create List of Dictionarys out of a list of items, with a list of df transforms applied'''\n",
    "    def _inner(src):\n",
    "        df = apply_df_tfms(src,pd_tfms)\n",
    "#         df_dict_list = df.to_dict(orient='records') native to_dict is slower than self written approach\n",
    "        df_values = df.values\n",
    "        df_dict = {name:list(df_values[:,i]) for (i,name) in enumerate(df.columns)}\n",
    "        df_dict_list = [{name: df_dict[name][i] for name in df_dict} for i in range(len(df))]\n",
    "        return df_dict_list\n",
    "    return _inner"
   ]
  },
  {
   "cell_type": "code",
   "execution_count": 14,
   "metadata": {},
   "outputs": [
    {
     "data": {
      "text/plain": [
       "[{'path': 'test_data/train/Sim_RealisticCycle1.hdf5'},\n",
       " {'path': 'test_data/train/Sim_RealisticCycle2.hdf5'},\n",
       " {'path': 'test_data/valid/Sim_RealisticCycle3.hdf5'}]"
      ]
     },
     "execution_count": 14,
     "metadata": {},
     "output_type": "execute_result"
    }
   ],
   "source": [
    "l_dict =CreateDict()(hdf_files)\n",
    "l_dict"
   ]
  },
  {
   "cell_type": "code",
   "execution_count": 15,
   "metadata": {},
   "outputs": [],
   "source": [
    "#| export\n",
    "def ValidClmContains(lst_valid):\n",
    "    '''add validation column using a list of strings that are part of the validation frames'''\n",
    "    def _inner(df):\n",
    "        re_valid = '|'.join([re.escape(f) for f in lst_valid])\n",
    "        df['valid'] = df.path.str.contains(re_valid)\n",
    "        return df\n",
    "\n",
    "    return _inner"
   ]
  },
  {
   "cell_type": "code",
   "execution_count": 16,
   "metadata": {},
   "outputs": [
    {
     "name": "stdout",
     "output_type": "stream",
     "text": [
      "CPU times: user 1.67 ms, sys: 228 µs, total: 1.89 ms\n",
      "Wall time: 1.83 ms\n"
     ]
    },
    {
     "data": {
      "text/plain": [
       "[{'path': 'test_data/train/Sim_RealisticCycle1.hdf5', 'valid': False},\n",
       " {'path': 'test_data/train/Sim_RealisticCycle2.hdf5', 'valid': False},\n",
       " {'path': 'test_data/valid/Sim_RealisticCycle3.hdf5', 'valid': True}]"
      ]
     },
     "execution_count": 16,
     "metadata": {},
     "output_type": "execute_result"
    }
   ],
   "source": [
    "%%time\n",
    "lst_valid = ['valid']\n",
    "CreateDict([ValidClmContains(lst_valid)])(hdf_files)"
   ]
  },
  {
   "cell_type": "code",
   "execution_count": 17,
   "metadata": {},
   "outputs": [],
   "source": [
    "#| export\n",
    "def ValidClmIs(lst_valid):\n",
    "    '''adds validation column using a list of validation filenames'''\n",
    "    def _inner(df):\n",
    "        df['valid'] = df.path.isin([str(f) for f in lst_valid])\n",
    "        return df\n",
    "\n",
    "    return _inner"
   ]
  },
  {
   "cell_type": "code",
   "execution_count": 18,
   "metadata": {},
   "outputs": [
    {
     "name": "stdout",
     "output_type": "stream",
     "text": [
      "CPU times: user 1.9 ms, sys: 0 ns, total: 1.9 ms\n",
      "Wall time: 1.86 ms\n"
     ]
    },
    {
     "data": {
      "text/plain": [
       "[{'path': 'test_data/train/Sim_RealisticCycle1.hdf5', 'valid': False},\n",
       " {'path': 'test_data/train/Sim_RealisticCycle2.hdf5', 'valid': True},\n",
       " {'path': 'test_data/valid/Sim_RealisticCycle3.hdf5', 'valid': True}]"
      ]
     },
     "execution_count": 18,
     "metadata": {},
     "output_type": "execute_result"
    }
   ],
   "source": [
    "%%time\n",
    "lst_valid = ['test_data/train/Sim_RealisticCycle2.hdf5','test_data/valid/Sim_RealisticCycle3.hdf5']\n",
    "CreateDict([ValidClmIs(lst_valid)])(hdf_files)"
   ]
  },
  {
   "cell_type": "code",
   "execution_count": 19,
   "metadata": {},
   "outputs": [],
   "source": [
    "#| export\n",
    "def FilterClm(clm_name,func = lambda x:x):\n",
    "    '''adds validation column using a list of validation filenames'''\n",
    "    def _inner(df):\n",
    "        return df[func(df[clm_name])]\n",
    "\n",
    "    return _inner"
   ]
  },
  {
   "cell_type": "code",
   "execution_count": 20,
   "metadata": {},
   "outputs": [
    {
     "data": {
      "text/plain": [
       "[{'path': 'test_data/train/Sim_RealisticCycle2.hdf5', 'valid': True},\n",
       " {'path': 'test_data/valid/Sim_RealisticCycle3.hdf5', 'valid': True}]"
      ]
     },
     "execution_count": 20,
     "metadata": {},
     "output_type": "execute_result"
    }
   ],
   "source": [
    "CreateDict([ValidClmIs(lst_valid),FilterClm('valid')])(hdf_files)"
   ]
  },
  {
   "cell_type": "code",
   "execution_count": 21,
   "metadata": {},
   "outputs": [],
   "source": [
    "#| export\n",
    "def get_hdf_seq_len(df,clm,ds=None):\n",
    "    '''extract the sequence length of the dataset with the 'clm' name and 'f_path' path  '''\n",
    "    with h5py.File(df['path'],'r') as f:\n",
    "        ds = f if 'dataset' not in df else f[df['dataset']]\n",
    "        f_len = max(ds[clm].shape)\n",
    "    return f_len "
   ]
  },
  {
   "cell_type": "code",
   "execution_count": 22,
   "metadata": {},
   "outputs": [],
   "source": [
    "#| export\n",
    "def df_get_hdf_seq_len(df,clm,ds=None):\n",
    "    '''extracts the sequence length of every file in advance to prepare repeated window extractions with 'DfHDFCreateWindows' '''\n",
    "#     df['seq_len'] = ([get_hdf_seq_len(row.path,clm) for (idx, row) in df.iterrows()])\n",
    "    df['seq_len'] = df.apply(lambda x: get_hdf_seq_len(x,clm),axis=1)\n",
    "    return df"
   ]
  },
  {
   "cell_type": "code",
   "execution_count": 23,
   "metadata": {},
   "outputs": [],
   "source": [
    "#| export\n",
    "def DfHDFGetSeqLen(clm):\n",
    "    def _inner(df):\n",
    "        return df_get_hdf_seq_len(df,clm)\n",
    "    return _inner"
   ]
  },
  {
   "cell_type": "code",
   "execution_count": 24,
   "metadata": {},
   "outputs": [
    {
     "data": {
      "text/html": [
       "<div>\n",
       "<style scoped>\n",
       "    .dataframe tbody tr th:only-of-type {\n",
       "        vertical-align: middle;\n",
       "    }\n",
       "\n",
       "    .dataframe tbody tr th {\n",
       "        vertical-align: top;\n",
       "    }\n",
       "\n",
       "    .dataframe thead th {\n",
       "        text-align: right;\n",
       "    }\n",
       "</style>\n",
       "<table border=\"1\" class=\"dataframe\">\n",
       "  <thead>\n",
       "    <tr style=\"text-align: right;\">\n",
       "      <th></th>\n",
       "      <th>path</th>\n",
       "      <th>seq_len</th>\n",
       "    </tr>\n",
       "  </thead>\n",
       "  <tbody>\n",
       "    <tr>\n",
       "      <th>0</th>\n",
       "      <td>test_data/train/Sim_RealisticCycle1.hdf5</td>\n",
       "      <td>265607</td>\n",
       "    </tr>\n",
       "    <tr>\n",
       "      <th>1</th>\n",
       "      <td>test_data/train/Sim_RealisticCycle2.hdf5</td>\n",
       "      <td>265598</td>\n",
       "    </tr>\n",
       "    <tr>\n",
       "      <th>2</th>\n",
       "      <td>test_data/valid/Sim_RealisticCycle3.hdf5</td>\n",
       "      <td>265593</td>\n",
       "    </tr>\n",
       "  </tbody>\n",
       "</table>\n",
       "</div>"
      ],
      "text/plain": [
       "                                       path  seq_len\n",
       "0  test_data/train/Sim_RealisticCycle1.hdf5   265607\n",
       "1  test_data/train/Sim_RealisticCycle2.hdf5   265598\n",
       "2  test_data/valid/Sim_RealisticCycle3.hdf5   265593"
      ]
     },
     "execution_count": 24,
     "metadata": {},
     "output_type": "execute_result"
    }
   ],
   "source": [
    "df_get_hdf_seq_len(df,'current')"
   ]
  },
  {
   "cell_type": "code",
   "execution_count": 25,
   "metadata": {},
   "outputs": [
    {
     "data": {
      "text/html": [
       "<div>\n",
       "<style scoped>\n",
       "    .dataframe tbody tr th:only-of-type {\n",
       "        vertical-align: middle;\n",
       "    }\n",
       "\n",
       "    .dataframe tbody tr th {\n",
       "        vertical-align: top;\n",
       "    }\n",
       "\n",
       "    .dataframe thead th {\n",
       "        text-align: right;\n",
       "    }\n",
       "</style>\n",
       "<table border=\"1\" class=\"dataframe\">\n",
       "  <thead>\n",
       "    <tr style=\"text-align: right;\">\n",
       "      <th></th>\n",
       "      <th>path</th>\n",
       "      <th>seq_len</th>\n",
       "    </tr>\n",
       "  </thead>\n",
       "  <tbody>\n",
       "    <tr>\n",
       "      <th>0</th>\n",
       "      <td>test_data/train/Sim_RealisticCycle1.hdf5</td>\n",
       "      <td>265607</td>\n",
       "    </tr>\n",
       "    <tr>\n",
       "      <th>1</th>\n",
       "      <td>test_data/train/Sim_RealisticCycle2.hdf5</td>\n",
       "      <td>265598</td>\n",
       "    </tr>\n",
       "    <tr>\n",
       "      <th>2</th>\n",
       "      <td>test_data/valid/Sim_RealisticCycle3.hdf5</td>\n",
       "      <td>265593</td>\n",
       "    </tr>\n",
       "  </tbody>\n",
       "</table>\n",
       "</div>"
      ],
      "text/plain": [
       "                                       path  seq_len\n",
       "0  test_data/train/Sim_RealisticCycle1.hdf5   265607\n",
       "1  test_data/train/Sim_RealisticCycle2.hdf5   265598\n",
       "2  test_data/valid/Sim_RealisticCycle3.hdf5   265593"
      ]
     },
     "execution_count": 25,
     "metadata": {},
     "output_type": "execute_result"
    }
   ],
   "source": [
    "DfHDFGetSeqLen('current')(df)"
   ]
  },
  {
   "cell_type": "code",
   "execution_count": 26,
   "metadata": {},
   "outputs": [],
   "source": [
    "#| export\n",
    "import numbers\n",
    "def DfResamplingFactor(src_fs,lst_targ_fs):\n",
    "    if not isinstance(src_fs, numbers.Number) and not type(src_fs) is str: \n",
    "        raise ValueError('src_fs has to be a column name or a fixed number')\n",
    "    \n",
    "    def _inner(df):\n",
    "        np_targ_fs = array(lst_targ_fs)\n",
    "        pd.options.mode.chained_assignment = None #every row is a reference so we need to suppress the warning messages while copying\n",
    "\n",
    "        #repeat entries for every target fs\n",
    "        res_df = df.iloc[np.repeat(np.arange(len(df)),len(np_targ_fs))] \n",
    "        targ_fs = np.tile(np_targ_fs,len(df))\n",
    "        res_df['targ_fs'] = targ_fs\n",
    "        \n",
    "        if isinstance(src_fs, numbers.Number):\n",
    "            #src_fs is a fixed number\n",
    "            res_df['resampling_factor'] = targ_fs/src_fs\n",
    "        else:\n",
    "            #src_fs is a column name of the df\n",
    "            res_df['resampling_factor'] = targ_fs/res_df[src_fs]\n",
    "\n",
    "        pd.options.mode.chained_assignment = 'warn'\n",
    "        \n",
    "        return res_df\n",
    "    return _inner"
   ]
  },
  {
   "cell_type": "code",
   "execution_count": 27,
   "metadata": {},
   "outputs": [],
   "source": [
    "targ_fs = [50,100,300]\n",
    "test_eq(len(DfResamplingFactor(100,targ_fs)(df)),9)   \n",
    "df['src_fs'] = 200.\n",
    "test_eq(len(DfResamplingFactor('src_fs',targ_fs)(df)),9)"
   ]
  },
  {
   "cell_type": "code",
   "execution_count": 28,
   "metadata": {},
   "outputs": [],
   "source": [
    "#| export\n",
    "def DfHDFCreateWindows(win_sz,stp_sz, clm, fixed_start = False, fixed_end = False):\n",
    "    '''create windows of sequences, splits sequence into multiple items'''\n",
    "    def _inner(df):\n",
    "        if fixed_start and fixed_end: raise Exception\n",
    "        \n",
    "        if 'seq_len' in df:\n",
    "            np_f_len = df.seq_len.values\n",
    "        else:\n",
    "            np_f_len = np.array([get_hdf_seq_len(row,clm) for (idx, row) in df.iterrows()])\n",
    "            \n",
    "        if 'resampling_factor' in df: np_f_len =(np_f_len*df.resampling_factor.values).astype(int)\n",
    "            \n",
    "        n_win = ((np_f_len-win_sz)//stp_sz)+1\n",
    "        n_win = np.clip(n_win,a_min=0,a_max=None) #remove negative values at instances where the winsize is smaller than the seq_len\n",
    "        lst_idx = np.arange(len(np_f_len))\n",
    "        \n",
    "        pd.options.mode.chained_assignment = None #every row is a reference so we need to suppress the warning messages while copying\n",
    "        \n",
    "        res_df = df.iloc[np.repeat(lst_idx,n_win)]\n",
    "#         res_df = df.loc[np.repeat(lst_idx,n_win)] #the loc variant as a little bit slower because it creates copies and returns wrong values with redundant indexes, but is more robust\n",
    "\n",
    "        step_idx = np.concatenate([np.arange(x) for x in n_win])\n",
    "    \n",
    "        \n",
    "        res_df['l_slc'] = step_idx*stp_sz if not fixed_start else None\n",
    "        res_df['r_slc'] = step_idx*stp_sz + win_sz if not fixed_end else None\n",
    "            \n",
    "        pd.options.mode.chained_assignment = 'warn'\n",
    "            \n",
    "        return res_df\n",
    "    \n",
    "    return _inner"
   ]
  },
  {
   "cell_type": "code",
   "execution_count": 29,
   "metadata": {},
   "outputs": [
    {
     "name": "stdout",
     "output_type": "stream",
     "text": [
      "CPU times: user 4.8 ms, sys: 9 µs, total: 4.81 ms\n",
      "Wall time: 3.89 ms\n"
     ]
    },
    {
     "data": {
      "text/html": [
       "<div>\n",
       "<style scoped>\n",
       "    .dataframe tbody tr th:only-of-type {\n",
       "        vertical-align: middle;\n",
       "    }\n",
       "\n",
       "    .dataframe tbody tr th {\n",
       "        vertical-align: top;\n",
       "    }\n",
       "\n",
       "    .dataframe thead th {\n",
       "        text-align: right;\n",
       "    }\n",
       "</style>\n",
       "<table border=\"1\" class=\"dataframe\">\n",
       "  <thead>\n",
       "    <tr style=\"text-align: right;\">\n",
       "      <th></th>\n",
       "      <th>path</th>\n",
       "      <th>seq_len</th>\n",
       "      <th>src_fs</th>\n",
       "      <th>l_slc</th>\n",
       "      <th>r_slc</th>\n",
       "    </tr>\n",
       "  </thead>\n",
       "  <tbody>\n",
       "    <tr>\n",
       "      <th>0</th>\n",
       "      <td>test_data/train/Sim_RealisticCycle1.hdf5</td>\n",
       "      <td>265607</td>\n",
       "      <td>200.0</td>\n",
       "      <td>0</td>\n",
       "      <td>100</td>\n",
       "    </tr>\n",
       "    <tr>\n",
       "      <th>0</th>\n",
       "      <td>test_data/train/Sim_RealisticCycle1.hdf5</td>\n",
       "      <td>265607</td>\n",
       "      <td>200.0</td>\n",
       "      <td>100</td>\n",
       "      <td>200</td>\n",
       "    </tr>\n",
       "    <tr>\n",
       "      <th>0</th>\n",
       "      <td>test_data/train/Sim_RealisticCycle1.hdf5</td>\n",
       "      <td>265607</td>\n",
       "      <td>200.0</td>\n",
       "      <td>200</td>\n",
       "      <td>300</td>\n",
       "    </tr>\n",
       "    <tr>\n",
       "      <th>0</th>\n",
       "      <td>test_data/train/Sim_RealisticCycle1.hdf5</td>\n",
       "      <td>265607</td>\n",
       "      <td>200.0</td>\n",
       "      <td>300</td>\n",
       "      <td>400</td>\n",
       "    </tr>\n",
       "    <tr>\n",
       "      <th>0</th>\n",
       "      <td>test_data/train/Sim_RealisticCycle1.hdf5</td>\n",
       "      <td>265607</td>\n",
       "      <td>200.0</td>\n",
       "      <td>400</td>\n",
       "      <td>500</td>\n",
       "    </tr>\n",
       "    <tr>\n",
       "      <th>...</th>\n",
       "      <td>...</td>\n",
       "      <td>...</td>\n",
       "      <td>...</td>\n",
       "      <td>...</td>\n",
       "      <td>...</td>\n",
       "    </tr>\n",
       "    <tr>\n",
       "      <th>2</th>\n",
       "      <td>test_data/valid/Sim_RealisticCycle3.hdf5</td>\n",
       "      <td>265593</td>\n",
       "      <td>200.0</td>\n",
       "      <td>265000</td>\n",
       "      <td>265100</td>\n",
       "    </tr>\n",
       "    <tr>\n",
       "      <th>2</th>\n",
       "      <td>test_data/valid/Sim_RealisticCycle3.hdf5</td>\n",
       "      <td>265593</td>\n",
       "      <td>200.0</td>\n",
       "      <td>265100</td>\n",
       "      <td>265200</td>\n",
       "    </tr>\n",
       "    <tr>\n",
       "      <th>2</th>\n",
       "      <td>test_data/valid/Sim_RealisticCycle3.hdf5</td>\n",
       "      <td>265593</td>\n",
       "      <td>200.0</td>\n",
       "      <td>265200</td>\n",
       "      <td>265300</td>\n",
       "    </tr>\n",
       "    <tr>\n",
       "      <th>2</th>\n",
       "      <td>test_data/valid/Sim_RealisticCycle3.hdf5</td>\n",
       "      <td>265593</td>\n",
       "      <td>200.0</td>\n",
       "      <td>265300</td>\n",
       "      <td>265400</td>\n",
       "    </tr>\n",
       "    <tr>\n",
       "      <th>2</th>\n",
       "      <td>test_data/valid/Sim_RealisticCycle3.hdf5</td>\n",
       "      <td>265593</td>\n",
       "      <td>200.0</td>\n",
       "      <td>265400</td>\n",
       "      <td>265500</td>\n",
       "    </tr>\n",
       "  </tbody>\n",
       "</table>\n",
       "<p>7966 rows × 5 columns</p>\n",
       "</div>"
      ],
      "text/plain": [
       "                                        path  seq_len  src_fs   l_slc   r_slc\n",
       "0   test_data/train/Sim_RealisticCycle1.hdf5   265607   200.0       0     100\n",
       "0   test_data/train/Sim_RealisticCycle1.hdf5   265607   200.0     100     200\n",
       "0   test_data/train/Sim_RealisticCycle1.hdf5   265607   200.0     200     300\n",
       "0   test_data/train/Sim_RealisticCycle1.hdf5   265607   200.0     300     400\n",
       "0   test_data/train/Sim_RealisticCycle1.hdf5   265607   200.0     400     500\n",
       "..                                       ...      ...     ...     ...     ...\n",
       "2   test_data/valid/Sim_RealisticCycle3.hdf5   265593   200.0  265000  265100\n",
       "2   test_data/valid/Sim_RealisticCycle3.hdf5   265593   200.0  265100  265200\n",
       "2   test_data/valid/Sim_RealisticCycle3.hdf5   265593   200.0  265200  265300\n",
       "2   test_data/valid/Sim_RealisticCycle3.hdf5   265593   200.0  265300  265400\n",
       "2   test_data/valid/Sim_RealisticCycle3.hdf5   265593   200.0  265400  265500\n",
       "\n",
       "[7966 rows x 5 columns]"
      ]
     },
     "execution_count": 29,
     "metadata": {},
     "output_type": "execute_result"
    }
   ],
   "source": [
    "%%time\n",
    "create_win = DfHDFCreateWindows(win_sz=100,stp_sz=100,clm='current')\n",
    "win_df = create_win(df)\n",
    "win_df"
   ]
  },
  {
   "cell_type": "code",
   "execution_count": 30,
   "metadata": {},
   "outputs": [
    {
     "data": {
      "text/html": [
       "<div>\n",
       "<style scoped>\n",
       "    .dataframe tbody tr th:only-of-type {\n",
       "        vertical-align: middle;\n",
       "    }\n",
       "\n",
       "    .dataframe tbody tr th {\n",
       "        vertical-align: top;\n",
       "    }\n",
       "\n",
       "    .dataframe thead th {\n",
       "        text-align: right;\n",
       "    }\n",
       "</style>\n",
       "<table border=\"1\" class=\"dataframe\">\n",
       "  <thead>\n",
       "    <tr style=\"text-align: right;\">\n",
       "      <th></th>\n",
       "      <th>path</th>\n",
       "      <th>seq_len</th>\n",
       "      <th>src_fs</th>\n",
       "      <th>l_slc</th>\n",
       "      <th>r_slc</th>\n",
       "    </tr>\n",
       "  </thead>\n",
       "  <tbody>\n",
       "    <tr>\n",
       "      <th>0</th>\n",
       "      <td>test_data/train/Sim_RealisticCycle1.hdf5</td>\n",
       "      <td>265607</td>\n",
       "      <td>200.0</td>\n",
       "      <td>0</td>\n",
       "      <td>265594</td>\n",
       "    </tr>\n",
       "    <tr>\n",
       "      <th>1</th>\n",
       "      <td>test_data/train/Sim_RealisticCycle2.hdf5</td>\n",
       "      <td>265598</td>\n",
       "      <td>200.0</td>\n",
       "      <td>0</td>\n",
       "      <td>265594</td>\n",
       "    </tr>\n",
       "  </tbody>\n",
       "</table>\n",
       "</div>"
      ],
      "text/plain": [
       "                                       path  seq_len  src_fs  l_slc   r_slc\n",
       "0  test_data/train/Sim_RealisticCycle1.hdf5   265607   200.0      0  265594\n",
       "1  test_data/train/Sim_RealisticCycle2.hdf5   265598   200.0      0  265594"
      ]
     },
     "execution_count": 30,
     "metadata": {},
     "output_type": "execute_result"
    }
   ],
   "source": [
    "win_df = DfHDFCreateWindows(win_sz=265594,stp_sz=100,clm='current')(df)\n",
    "test_eq(len(win_df),2)\n",
    "win_df"
   ]
  },
  {
   "cell_type": "code",
   "execution_count": 31,
   "metadata": {},
   "outputs": [],
   "source": [
    "test_eq(create_win(df_get_hdf_seq_len(df,'current')) , create_win(df))"
   ]
  },
  {
   "cell_type": "code",
   "execution_count": 32,
   "metadata": {},
   "outputs": [
    {
     "data": {
      "text/html": [
       "<div>\n",
       "<style scoped>\n",
       "    .dataframe tbody tr th:only-of-type {\n",
       "        vertical-align: middle;\n",
       "    }\n",
       "\n",
       "    .dataframe tbody tr th {\n",
       "        vertical-align: top;\n",
       "    }\n",
       "\n",
       "    .dataframe thead th {\n",
       "        text-align: right;\n",
       "    }\n",
       "</style>\n",
       "<table border=\"1\" class=\"dataframe\">\n",
       "  <thead>\n",
       "    <tr style=\"text-align: right;\">\n",
       "      <th></th>\n",
       "      <th>path</th>\n",
       "      <th>seq_len</th>\n",
       "      <th>src_fs</th>\n",
       "      <th>targ_fs</th>\n",
       "      <th>resampling_factor</th>\n",
       "      <th>l_slc</th>\n",
       "      <th>r_slc</th>\n",
       "    </tr>\n",
       "  </thead>\n",
       "  <tbody>\n",
       "    <tr>\n",
       "      <th>0</th>\n",
       "      <td>test_data/train/Sim_RealisticCycle1.hdf5</td>\n",
       "      <td>265607</td>\n",
       "      <td>200.0</td>\n",
       "      <td>0.1</td>\n",
       "      <td>0.0005</td>\n",
       "      <td>0</td>\n",
       "      <td>100</td>\n",
       "    </tr>\n",
       "    <tr>\n",
       "      <th>1</th>\n",
       "      <td>test_data/train/Sim_RealisticCycle2.hdf5</td>\n",
       "      <td>265598</td>\n",
       "      <td>200.0</td>\n",
       "      <td>0.1</td>\n",
       "      <td>0.0005</td>\n",
       "      <td>0</td>\n",
       "      <td>100</td>\n",
       "    </tr>\n",
       "    <tr>\n",
       "      <th>2</th>\n",
       "      <td>test_data/valid/Sim_RealisticCycle3.hdf5</td>\n",
       "      <td>265593</td>\n",
       "      <td>200.0</td>\n",
       "      <td>0.1</td>\n",
       "      <td>0.0005</td>\n",
       "      <td>0</td>\n",
       "      <td>100</td>\n",
       "    </tr>\n",
       "  </tbody>\n",
       "</table>\n",
       "</div>"
      ],
      "text/plain": [
       "                                       path  seq_len  src_fs  targ_fs  \\\n",
       "0  test_data/train/Sim_RealisticCycle1.hdf5   265607   200.0      0.1   \n",
       "1  test_data/train/Sim_RealisticCycle2.hdf5   265598   200.0      0.1   \n",
       "2  test_data/valid/Sim_RealisticCycle3.hdf5   265593   200.0      0.1   \n",
       "\n",
       "   resampling_factor  l_slc  r_slc  \n",
       "0             0.0005      0    100  \n",
       "1             0.0005      0    100  \n",
       "2             0.0005      0    100  "
      ]
     },
     "execution_count": 32,
     "metadata": {},
     "output_type": "execute_result"
    }
   ],
   "source": [
    "res_win_df = create_win(DfResamplingFactor(200,[0.1])(df))\n",
    "res_win_df"
   ]
  },
  {
   "cell_type": "code",
   "execution_count": 33,
   "metadata": {},
   "outputs": [],
   "source": [
    "test_eq(len(res_win_df),3)"
   ]
  },
  {
   "cell_type": "code",
   "execution_count": 34,
   "metadata": {},
   "outputs": [
    {
     "data": {
      "text/html": [
       "<div>\n",
       "<style scoped>\n",
       "    .dataframe tbody tr th:only-of-type {\n",
       "        vertical-align: middle;\n",
       "    }\n",
       "\n",
       "    .dataframe tbody tr th {\n",
       "        vertical-align: top;\n",
       "    }\n",
       "\n",
       "    .dataframe thead th {\n",
       "        text-align: right;\n",
       "    }\n",
       "</style>\n",
       "<table border=\"1\" class=\"dataframe\">\n",
       "  <thead>\n",
       "    <tr style=\"text-align: right;\">\n",
       "      <th></th>\n",
       "      <th>path</th>\n",
       "      <th>seq_len</th>\n",
       "      <th>src_fs</th>\n",
       "      <th>l_slc</th>\n",
       "      <th>r_slc</th>\n",
       "    </tr>\n",
       "  </thead>\n",
       "  <tbody>\n",
       "    <tr>\n",
       "      <th>0</th>\n",
       "      <td>test_data/train/Sim_RealisticCycle1.hdf5</td>\n",
       "      <td>265607</td>\n",
       "      <td>200.0</td>\n",
       "      <td>0</td>\n",
       "      <td>265594</td>\n",
       "    </tr>\n",
       "    <tr>\n",
       "      <th>1</th>\n",
       "      <td>test_data/train/Sim_RealisticCycle2.hdf5</td>\n",
       "      <td>265598</td>\n",
       "      <td>200.0</td>\n",
       "      <td>0</td>\n",
       "      <td>265594</td>\n",
       "    </tr>\n",
       "  </tbody>\n",
       "</table>\n",
       "</div>"
      ],
      "text/plain": [
       "                                       path  seq_len  src_fs  l_slc   r_slc\n",
       "0  test_data/train/Sim_RealisticCycle1.hdf5   265607   200.0      0  265594\n",
       "1  test_data/train/Sim_RealisticCycle2.hdf5   265598   200.0      0  265594"
      ]
     },
     "execution_count": 34,
     "metadata": {},
     "output_type": "execute_result"
    }
   ],
   "source": [
    "query_expr = 'l_slc <= 200'\n",
    "filt_df = win_df.query(query_expr)\n",
    "filt_df"
   ]
  },
  {
   "cell_type": "code",
   "execution_count": 35,
   "metadata": {},
   "outputs": [],
   "source": [
    "#| export\n",
    "def DfFilterQuery(query):\n",
    "    def _inner(df):\n",
    "        return df.query(query)\n",
    "    return _inner"
   ]
  },
  {
   "cell_type": "code",
   "execution_count": 36,
   "metadata": {},
   "outputs": [],
   "source": [
    "test_eq(DfFilterQuery(query_expr)(win_df),filt_df)"
   ]
  },
  {
   "cell_type": "code",
   "execution_count": 37,
   "metadata": {},
   "outputs": [
    {
     "name": "stdout",
     "output_type": "stream",
     "text": [
      "CPU times: user 79.5 ms, sys: 4.06 ms, total: 83.5 ms\n",
      "Wall time: 82.3 ms\n"
     ]
    },
    {
     "data": {
      "text/plain": [
       "[{'path': 'test_data/train/Sim_RealisticCycle1.hdf5',\n",
       "  'valid': False,\n",
       "  'l_slc': 0,\n",
       "  'r_slc': 101},\n",
       " {'path': 'test_data/train/Sim_RealisticCycle1.hdf5',\n",
       "  'valid': False,\n",
       "  'l_slc': 10,\n",
       "  'r_slc': 111},\n",
       " {'path': 'test_data/train/Sim_RealisticCycle1.hdf5',\n",
       "  'valid': False,\n",
       "  'l_slc': 20,\n",
       "  'r_slc': 121},\n",
       " {'path': 'test_data/train/Sim_RealisticCycle1.hdf5',\n",
       "  'valid': False,\n",
       "  'l_slc': 30,\n",
       "  'r_slc': 131},\n",
       " {'path': 'test_data/train/Sim_RealisticCycle1.hdf5',\n",
       "  'valid': False,\n",
       "  'l_slc': 40,\n",
       "  'r_slc': 141}]"
      ]
     },
     "execution_count": 37,
     "metadata": {},
     "output_type": "execute_result"
    }
   ],
   "source": [
    "%%time\n",
    "tfm_src = CreateDict([ValidClmContains(['valid']),DfHDFCreateWindows(win_sz=100+1,stp_sz=10,clm='current')])\n",
    "src_dicts = tfm_src(hdf_files)\n",
    "src_dicts[:5]"
   ]
  },
  {
   "cell_type": "code",
   "execution_count": 38,
   "metadata": {},
   "outputs": [],
   "source": [
    "#| export\n",
    "def DfDropClmExcept(clms = ['path','l_slc','r_slc','p_sample','resampling_factor']):\n",
    "    '''drop unused dataframe columns as a last optional step to accelerate dictionary conversion'''\n",
    "    def _inner(df):\n",
    "        return df[[c for c in clms if c in df]]\n",
    "    return _inner"
   ]
  },
  {
   "attachments": {},
   "cell_type": "markdown",
   "metadata": {},
   "source": [
    "## 2. Convert Paths to Sequence Objects\n",
    "Der Pfad wird unter Angabe der Spaltennamen in Sequenzen und Skalare Werte umgewandelt, um so am Ende ein 3-Tupel zu erhalten aus:\n",
    "- (Sequence, Scalar, Sequence) <-> (input,input,output)"
   ]
  },
  {
   "attachments": {},
   "cell_type": "markdown",
   "metadata": {},
   "source": [
    "### 2.1 Extract sequential data from hdf5-files\n",
    "Two different functions, based on pandas df and on lists"
   ]
  },
  {
   "attachments": {},
   "cell_type": "markdown",
   "metadata": {},
   "source": [
    "#### 2.1.1 Shift time Series\n",
    "Sometimes we need to shift columns of a sequence by a specific value. Then we cant simply slice the array but have to handle each column individually. First a performance test has to be made."
   ]
  },
  {
   "cell_type": "code",
   "execution_count": 39,
   "metadata": {},
   "outputs": [],
   "source": [
    "#| export\n",
    "def calc_shift_offsets(clm_shift):\n",
    "    clm_shift = array(clm_shift)\n",
    "    l_offs = -min(clm_shift.min(),0)\n",
    "    r_offs = -max(clm_shift.max(),0)\n",
    "    l_shift = clm_shift+l_offs\n",
    "    r_shift = clm_shift+r_offs\n",
    "    dim_red = l_offs-r_offs\n",
    "    return l_shift,r_shift,dim_red"
   ]
  },
  {
   "cell_type": "code",
   "execution_count": 40,
   "metadata": {},
   "outputs": [
    {
     "data": {
      "text/plain": [
       "(array([1, 1, 0, 2]), array([-1, -1, -2,  0]), 2)"
      ]
     },
     "execution_count": 40,
     "metadata": {},
     "output_type": "execute_result"
    }
   ],
   "source": [
    "shft = [0,0,-1,1]\n",
    "calc_shift_offsets(shft)"
   ]
  },
  {
   "attachments": {},
   "cell_type": "markdown",
   "metadata": {},
   "source": [
    "both shifting methods have their own performance character. vstack needs double the time on short sequences, while the creation of a seperate array with copy becomes worse starting at around 5000 elements"
   ]
  },
  {
   "cell_type": "code",
   "execution_count": 41,
   "metadata": {},
   "outputs": [],
   "source": [
    "# ta = array([[1,2,3]*2]*10000)"
   ]
  },
  {
   "cell_type": "code",
   "execution_count": 42,
   "metadata": {},
   "outputs": [],
   "source": [
    "# %%timeit\n",
    "# y = np.vstack([ta[i:-ta.shape[1]+i,i] for i in range(ta.shape[1])]).T   "
   ]
  },
  {
   "cell_type": "code",
   "execution_count": 43,
   "metadata": {},
   "outputs": [],
   "source": [
    "# %%timeit\n",
    "# x = np.zeros((ta.shape[0]-ta.shape[1],ta.shape[1]))\n",
    "# for i in range(ta.shape[1]):\n",
    "#     x[:,i] = ta[i:-ta.shape[1]+i,i]"
   ]
  },
  {
   "attachments": {},
   "cell_type": "markdown",
   "metadata": {},
   "source": [
    "#### 2.1.2 HDF2Sequence\n",
    "HDF5 performance is massively affected by the dtype of the signals. f4 (32 bit floating point) Numbers are faster to load and lead to smaller files then f8 numbers."
   ]
  },
  {
   "cell_type": "code",
   "execution_count": 44,
   "metadata": {},
   "outputs": [],
   "source": [
    "#| export\n",
    "def running_mean(x, N):\n",
    "    cumsum = np.cumsum(np.insert(x, 0, 0,axis=0),axis=0) \n",
    "    return (cumsum[N:] - cumsum[:-N]) / float(N)"
   ]
  },
  {
   "cell_type": "code",
   "execution_count": 45,
   "metadata": {},
   "outputs": [],
   "source": [
    "#| export\n",
    "def downsample_mean(x,N):\n",
    "    shp = x.shape\n",
    "    trunc = -(x.shape[0] % N)\n",
    "    trunc = trunc if trunc != 0 else None\n",
    "    return x[:trunc,:].reshape((-1,N,x.shape[-1])).mean(axis=1)"
   ]
  },
  {
   "cell_type": "code",
   "execution_count": 46,
   "metadata": {},
   "outputs": [],
   "source": [
    "#| export\n",
    "from scipy.signal import butter, lfilter, lfilter_zi\n",
    "from scipy import signal\n",
    "def resample_interp(x,resampling_factor,sequence_first=True, lowpass_cut=1.0, upsample_cubic_cut = None):\n",
    "    '''signal resampling using linear or cubic interpolation\n",
    "    \n",
    "    x: signal to resample with shape: features x resampling_dimension or resampling_dimension x  features if sequence_first=True\n",
    "    resampling_factor: Factor > 0 that scales the signal\n",
    "    lowpass_cut: Upper boundary for resampling_factor that activates the lowpassfilter, low values exchange accuracy for performance, default is 0.7\n",
    "    upsample_cubic_cut: Lower boundary for resampling_factor that activates cubic interpolation at high upsampling values. \n",
    "                        Improves signal dynamics in exchange of performance. None deactivates cubic interpolation\n",
    "    '''\n",
    "    \n",
    "    if sequence_first:\n",
    "        x = x.T\n",
    "    \n",
    "    fs_n = resampling_factor\n",
    "    #if downsampling rate is too high, lowpass filter before interpolation\n",
    "    if fs_n < lowpass_cut:\n",
    "        b,a = butter(2, fs_n)\n",
    "        zi = lfilter_zi(b,a)*x[:,:1] #initialize filter with steady state at first time step value\n",
    "        x,_ = lfilter(b,a,x,axis=-1,zi=zi)\n",
    "\n",
    "#         sos = butter(2, fs_n*1.2,output='sos')\n",
    "# #         sos = signal.cheby2(2,20, fs_n,output='sos')\n",
    "# #         import pdb;pdb.set_trace()\n",
    "#         zi = np.swapaxes(signal.sosfilt_zi(sos)[...,None]*x[:,0],1,2)\n",
    "#         x,_ = signal.sosfilt(sos, x,axis=-1,zi=zi)\n",
    "        \n",
    "    x_int = tensor(x)[None,...]\n",
    "    targ_size = int(x.shape[-1]*fs_n)\n",
    "    \n",
    "#     if upsampling rate is too high, switch from linear to cubic interpolation\n",
    "    if upsample_cubic_cut is None or fs_n <= upsample_cubic_cut:\n",
    "        x = array(nn.functional.interpolate(x_int, size=targ_size, mode='linear',align_corners=False)[0])\n",
    "    else:\n",
    "        x = array(nn.functional.interpolate(x_int[...,None], size=[targ_size,1], mode='bicubic',align_corners=False)[0,...,0])\n",
    "#     x = array(x_int)[0]\n",
    "    \n",
    "    if sequence_first:\n",
    "        x = x.T\n",
    "    \n",
    "    return x"
   ]
  },
  {
   "cell_type": "code",
   "execution_count": 47,
   "metadata": {},
   "outputs": [],
   "source": [
    "x = np.random.normal(size=(100000,9))\n",
    "test_eq(resample_interp(x,0.3).shape[0],30000)"
   ]
  },
  {
   "cell_type": "code",
   "execution_count": 48,
   "metadata": {},
   "outputs": [],
   "source": [
    "# def plotFFT(buffer,sample_rate,label,fig=plt):\n",
    "#     xf,yf = calcFFT(buffer,sample_rate)\n",
    "#     fig.plot(xf, yf,label=label)\n",
    "    \n",
    "# def calcFFT(buffer,sample_rate):\n",
    "#     N = buffer.shape[0]\n",
    "#     T = 1.0 / sample_rate\n",
    "#     x = np.linspace(0.0, N*T, N)\n",
    "#     y = buffer\n",
    "#     yf = scipy.fft.fft(y)\n",
    "#     xf = np.linspace(0.0, 1.0/(2.0*T), N//2)\n",
    "#     return xf,2.0/N * np.abs(yf[:N//2])\n",
    "\n",
    "# src_fs= 200\n",
    "# n_fs = 0.9\n",
    "# plt.figure()\n",
    "# plotFFT(x[:,0],src_fs,'raw')\n",
    "# plotFFT(resample_interp(x,n_fs)[:,0],n_fs*src_fs,'filtered')\n",
    "# plt.legend()"
   ]
  },
  {
   "cell_type": "code",
   "execution_count": 49,
   "metadata": {},
   "outputs": [],
   "source": [
    "#| export\n",
    "from scipy.signal import resample\n",
    "def hdf_extract_sequence(hdf_path,clms,dataset = None, l_slc = None, r_slc= None, resampling_factor=None, fs_idx =None,dt_idx =False,fast_resample=True):\n",
    "    '''\n",
    "    extracts a sequence with the shape [seq_len x num_features]\n",
    "    \n",
    "    hdf_path: file path of hdf file, may be a string or path type\n",
    "    clms: list of dataset names of sequences in hdf file\n",
    "    dataset: dataset root for clms. Useful for multiples sequences stored in one file.\n",
    "    l_slc: left boundary for extraction of a window of the whole sequence\n",
    "    r_slc: right boundary for extraction of a window of the whole sequence\n",
    "    resampling_factor: scaling factor for the sequence length, uses 'resample_interp' for resampling\n",
    "    fs_idx: clms list idx of fs entry in sequence. Will be scaled by resampling_factor after resampling\n",
    "    dt_idx: clms list idx of dt entry in sequence. Will be scaled by resampling_factor after resampling\n",
    "    fast_resample: if True, uses linear interpolation with anti-aliasing filter for faster resampling. Is less accurate than fft based resampling\n",
    "    '''\n",
    "\n",
    "    if resampling_factor is not None:\n",
    "        seq_len = r_slc-l_slc if l_slc is not None and r_slc is not None else None #calculate seq_len for later slicing, necesary because of rounding errors in resampling\n",
    "        if l_slc is not None: l_slc= math.floor(l_slc/resampling_factor)\n",
    "        if r_slc is not None: r_slc= math.ceil(r_slc/resampling_factor)\n",
    "\n",
    "    with h5py.File(hdf_path,'r') as f:\n",
    "        ds = f if dataset is None else f[dataset]\n",
    "        l_array = [(ds[n][l_slc:r_slc]) for n in clms]\n",
    "        seq = np.stack(l_array,axis=-1)\n",
    "\n",
    "    if resampling_factor is not None:\n",
    "        if fast_resample:\n",
    "            res_seq = resample_interp(seq,resampling_factor)\n",
    "        else:\n",
    "            res_seq = resample(seq,int(seq.shape[0]*resampling_factor),window=('kaiser', 14.0))\n",
    "        if fs_idx is not None: res_seq[:,fs_idx] = seq[0,fs_idx] * resampling_factor\n",
    "        if dt_idx is not None: res_seq[:,dt_idx] = seq[0,dt_idx] / resampling_factor\n",
    "        seq = res_seq\n",
    "        \n",
    "        if seq_len is not None: seq = seq[:seq_len] #cut the part of the sequence that is too long because of resampling rounding errors\n",
    "        \n",
    "    return seq"
   ]
  },
  {
   "cell_type": "code",
   "execution_count": 50,
   "metadata": {},
   "outputs": [],
   "source": [
    "#| export\n",
    "class Memoize:\n",
    "    def __init__(self, fn):\n",
    "        self.fn = fn\n",
    "        self.memo = {}\n",
    "\n",
    "    def __call__(self, *args):\n",
    "        if args not in self.memo:\n",
    "            self.memo[args] = self.fn(*args)\n",
    "        return self.memo[args]"
   ]
  },
  {
   "cell_type": "code",
   "execution_count": 51,
   "metadata": {},
   "outputs": [],
   "source": [
    "#| export\n",
    "class HDF2Sequence(Transform):\n",
    "    \n",
    "    def __init__(self, clm_names,clm_shift=None,truncate_sz=None,to_cls=noop,cached=False, fs_idx =None,dt_idx =None,fast_resample=True):\n",
    "        if not clm_shift is None:\n",
    "            assert len(clm_shift)==len(clm_names) and all(isinstance(n, int) for n in clm_shift)\n",
    "            self.l_shift,self.r_shift,_ = calc_shift_offsets(clm_shift)\n",
    "        \n",
    "        self._exseq = Memoize(self._hdf_extract_sequence) if cached else self._hdf_extract_sequence\n",
    "        \n",
    "        store_attr('clm_names,clm_shift,truncate_sz,to_cls,cached,fs_idx,dt_idx,fast_resample')\n",
    "        \n",
    "    def _hdf_extract_sequence(self,hdf_path,dataset = None, l_slc = None, r_slc= None, resampling_factor=None, fs_idx =None,dt_idx =None,fast_resample=True):\n",
    "        '''\n",
    "        extracts a sequence with the shape [seq_len x num_features]\n",
    "\n",
    "        hdf_path: file path of hdf file, may be a string or path type\n",
    "        clms: list of dataset names of sequences in hdf file\n",
    "        dataset: dataset root for clms. Useful for multiples sequences stored in one file.\n",
    "        l_slc: left boundary for extraction of a window of the whole sequence\n",
    "        r_slc: right boundary for extraction of a window of the whole sequence\n",
    "        resampling_factor: scaling factor for the sequence length, uses 'resample_interp' for resampling\n",
    "        fs_idx: clms list idx of fs entry in sequence. Will be scaled by resampling_factor after resampling\n",
    "        dt_idx: clms list idx of dt entry in sequence. Will be scaled by resampling_factor after resampling\n",
    "        fast_resample: if True, uses linear interpolation with anti-aliasing filter for faster resampling. Is less accurate than fft based resampling\n",
    "        '''\n",
    "\n",
    "        if resampling_factor is not None:\n",
    "            seq_len = r_slc-l_slc if l_slc is not None and r_slc is not None else None #calculate seq_len for later slicing, necesary because of rounding errors in resampling\n",
    "            if l_slc is not None: l_slc= math.floor(l_slc/resampling_factor)\n",
    "            if r_slc is not None: r_slc= math.ceil(r_slc/resampling_factor)\n",
    "\n",
    "        with h5py.File(hdf_path,'r') as f:\n",
    "            ds = f if dataset is None else f[dataset]\n",
    "            l_array = [(ds[n][l_slc:r_slc]) for n in self.clm_names]\n",
    "            seq = np.stack(l_array,axis=-1)\n",
    "\n",
    "        if resampling_factor is not None:\n",
    "            if fast_resample:\n",
    "                res_seq = resample_interp(seq,resampling_factor)\n",
    "            else:\n",
    "                res_seq = resample(seq,int(seq.shape[0]*resampling_factor),window=('kaiser', 14.0))\n",
    "            \n",
    "            if fs_idx is not None: res_seq[:,fs_idx] = seq[0,fs_idx] * resampling_factor\n",
    "            if dt_idx is not None: res_seq[:,dt_idx] = seq[0,dt_idx] / resampling_factor\n",
    "            seq = res_seq\n",
    "\n",
    "            if seq_len is not None: seq = seq[:seq_len] #cut the part of the sequence that is too long because of resampling rounding errors\n",
    "\n",
    "        return seq\n",
    "    \n",
    "    def _extract_dict_sequence(self,item):\n",
    "        if hasattr(item,'keys'):\n",
    "            path = item['path']\n",
    "            dataset = item['dataset'] if 'dataset' in item else None\n",
    "            l_slc = item['l_slc'] if 'l_slc' in item else None\n",
    "            r_slc = item['r_slc'] if 'r_slc' in item else None\n",
    "            resampling_factor = item['resampling_factor'] if 'resampling_factor' in item else None\n",
    "\n",
    "            if self.cached:\n",
    "                seq = self._exseq(path,dataset,None,None,resampling_factor,self.fs_idx,self.dt_idx,self.fast_resample)[l_slc:r_slc]\n",
    "            else:\n",
    "                seq = self._exseq(path,dataset,l_slc,r_slc,resampling_factor,self.fs_idx,self.dt_idx,self.fast_resample)\n",
    "        else:\n",
    "            seq = self._exseq(str(item),None,None,None,None,None)\n",
    "\n",
    "        #shift clms of result by given value \n",
    "        if not self.clm_shift is None:\n",
    "            l_seq = seq.shape[0]\n",
    "            seq = np.stack([seq[self.l_shift[i]:l_seq+self.r_shift[i],i] for i in range(seq.shape[1])],axis=-1)\n",
    "            \n",
    "        if not self.truncate_sz is None:\n",
    "            seq = seq[truncate_sz:]\n",
    "        \n",
    "        #it is important to slice first and then do the class conversion\n",
    "#         return self.to_cls(seq.astype('f8'))#workaround for random bug, that mitigates convergence if the numpy array is an f4 array. Seems to make no sense because the result does not change. \n",
    "        return self.to_cls(seq)\n",
    "\n",
    "    def encodes(self, item)->None: \n",
    "        return self._extract_dict_sequence(item)"
   ]
  },
  {
   "cell_type": "code",
   "execution_count": null,
   "metadata": {},
   "outputs": [],
   "source": []
  },
  {
   "cell_type": "code",
   "execution_count": 52,
   "metadata": {},
   "outputs": [
    {
     "data": {
      "text/plain": [
       "array([[ 0.       ,  4.1873503],\n",
       "       [-0.1      ,  4.18935  ],\n",
       "       [-0.1      ,  4.1896954],\n",
       "       ...,\n",
       "       [ 8.8388   ,  3.3932123],\n",
       "       [ 8.846    ,  3.3928714],\n",
       "       [ 8.8531   ,  3.3925302]], dtype=float32)"
      ]
     },
     "execution_count": 52,
     "metadata": {},
     "output_type": "execute_result"
    }
   ],
   "source": [
    "# %%timeit\n",
    "hdf2seq = HDF2Sequence(['current','voltage'],cached=False)\n",
    "hdf2seq(hdf_files[0])"
   ]
  },
  {
   "cell_type": "code",
   "execution_count": 53,
   "metadata": {},
   "outputs": [
    {
     "data": {
      "text/plain": [
       "array([[-0.1      ,  4.18935  ],\n",
       "       [-0.1      ,  4.1896954],\n",
       "       [-0.1      ,  4.190037 ],\n",
       "       ...,\n",
       "       [ 8.8388   ,  3.3932123],\n",
       "       [ 8.846    ,  3.3928714],\n",
       "       [ 8.8531   ,  3.3925302]], dtype=float32)"
      ]
     },
     "execution_count": 53,
     "metadata": {},
     "output_type": "execute_result"
    }
   ],
   "source": [
    "hdf2seq = HDF2Sequence(['current','voltage'],clm_shift=[1,1])\n",
    "hdf2seq(hdf_files[0])"
   ]
  },
  {
   "cell_type": "code",
   "execution_count": 54,
   "metadata": {},
   "outputs": [
    {
     "data": {
      "text/plain": [
       "array([[ 0.       ,  4.1873503],\n",
       "       [-0.1      ,  4.18935  ],\n",
       "       [-0.1      ,  4.1896954],\n",
       "       ...,\n",
       "       [ 8.8388   ,  3.3932123],\n",
       "       [ 8.846    ,  3.3928714],\n",
       "       [ 8.8531   ,  3.3925302]], dtype=float32)"
      ]
     },
     "execution_count": 54,
     "metadata": {},
     "output_type": "execute_result"
    }
   ],
   "source": [
    "hdf2seq = HDF2Sequence(['current','voltage'],cached=False)\n",
    "hdf2seq(hdf_files[0])"
   ]
  },
  {
   "cell_type": "code",
   "execution_count": 56,
   "metadata": {},
   "outputs": [
    {
     "data": {
      "text/plain": [
       "array([[ 0.       ,  4.1873503],\n",
       "       [-0.1      ,  4.18935  ],\n",
       "       [-0.1      ,  4.1896954],\n",
       "       ...,\n",
       "       [ 8.8388   ,  3.3932123],\n",
       "       [ 8.846    ,  3.3928714],\n",
       "       [ 8.8531   ,  3.3925302]], dtype=float32)"
      ]
     },
     "execution_count": 56,
     "metadata": {},
     "output_type": "execute_result"
    }
   ],
   "source": [
    "# %%timeit\n",
    "hdf2seq(hdf_files[0])"
   ]
  },
  {
   "cell_type": "code",
   "execution_count": 57,
   "metadata": {},
   "outputs": [],
   "source": [
    "hdf2seq = HDF2Sequence(['current','voltage'],cached=True)"
   ]
  },
  {
   "cell_type": "code",
   "execution_count": 58,
   "metadata": {},
   "outputs": [
    {
     "data": {
      "text/plain": [
       "array([[ 0.       ,  4.1873503],\n",
       "       [-0.1      ,  4.18935  ],\n",
       "       [-0.1      ,  4.1896954],\n",
       "       ...,\n",
       "       [ 8.8388   ,  3.3932123],\n",
       "       [ 8.846    ,  3.3928714],\n",
       "       [ 8.8531   ,  3.3925302]], dtype=float32)"
      ]
     },
     "execution_count": 58,
     "metadata": {},
     "output_type": "execute_result"
    }
   ],
   "source": [
    "# %%timeit\n",
    "hdf2seq(hdf_files[0])"
   ]
  },
  {
   "attachments": {},
   "cell_type": "markdown",
   "metadata": {},
   "source": [
    "Die Funktion lässt sich mittels Pipeline auf eine Liste von Quellobjekten (hier Pfade) anwenden "
   ]
  },
  {
   "cell_type": "code",
   "execution_count": 59,
   "metadata": {},
   "outputs": [
    {
     "data": {
      "text/plain": [
       "(265607, 1)"
      ]
     },
     "execution_count": 59,
     "metadata": {},
     "output_type": "execute_result"
    }
   ],
   "source": [
    "hdf2seq = HDF2Sequence(['current'])\n",
    "hdf2seq(hdf_files[0]).shape"
   ]
  },
  {
   "cell_type": "code",
   "execution_count": 60,
   "metadata": {},
   "outputs": [],
   "source": [
    "pipe = Pipeline(HDF2Sequence(['current','voltage']))"
   ]
  },
  {
   "cell_type": "code",
   "execution_count": 61,
   "metadata": {},
   "outputs": [],
   "source": [
    "# res_pipe = pipe(hdf_files)\n",
    "# len(res_pipe), res_pipe[0][0]"
   ]
  },
  {
   "cell_type": "code",
   "execution_count": null,
   "metadata": {},
   "outputs": [],
   "source": []
  },
  {
   "attachments": {},
   "cell_type": "markdown",
   "metadata": {},
   "source": [
    "#### Performance Test\n",
    "Caching stores the arrays for future use at every function call. Very usefull, especially for windows. Should allways be turned. Only explicitly turn it off when there is not enough memory for your data."
   ]
  },
  {
   "cell_type": "code",
   "execution_count": 62,
   "metadata": {},
   "outputs": [],
   "source": [
    "tfms=[  [HDF2Sequence(['current','voltage'],cached=False)],\n",
    "        [HDF2Sequence(['voltage'],cached=False)]]\n",
    "dsrc = Datasets(src_dicts[:1000],tfms=tfms)"
   ]
  },
  {
   "cell_type": "code",
   "execution_count": 63,
   "metadata": {},
   "outputs": [
    {
     "data": {
      "text/plain": [
       "1000"
      ]
     },
     "execution_count": 63,
     "metadata": {},
     "output_type": "execute_result"
    }
   ],
   "source": [
    "len(dsrc)"
   ]
  },
  {
   "cell_type": "code",
   "execution_count": 64,
   "metadata": {},
   "outputs": [],
   "source": [
    "# %%time\n",
    "# for x in dsrc:\n",
    "#     x"
   ]
  },
  {
   "cell_type": "code",
   "execution_count": 65,
   "metadata": {},
   "outputs": [],
   "source": [
    "tfms=[  [HDF2Sequence(['current','voltage'],cached=True,clm_shift=[1,2])],\n",
    "        [HDF2Sequence(['voltage'],cached=True)]]\n",
    "dsrc = Datasets(src_dicts[:1000],tfms=tfms)"
   ]
  },
  {
   "cell_type": "code",
   "execution_count": 66,
   "metadata": {},
   "outputs": [],
   "source": [
    "# %%timeit\n",
    "for x in dsrc:\n",
    "    x"
   ]
  },
  {
   "attachments": {},
   "cell_type": "markdown",
   "metadata": {},
   "source": [
    "Caching is way faster because every file gets loaded multiple times"
   ]
  },
  {
   "attachments": {},
   "cell_type": "markdown",
   "metadata": {},
   "source": [
    "### Extract Scalar data from hdf5-files"
   ]
  },
  {
   "cell_type": "code",
   "execution_count": 67,
   "metadata": {},
   "outputs": [],
   "source": [
    "#| export\n",
    "def hdf2scalars(hdf_path,c_names,dataset = None):\n",
    "    with h5py.File(hdf_path,'r') as f:\n",
    "        ds = f if dataset is None else f[dataset]\n",
    "        l_array = [ds.attrs[n] for n in c_names]\n",
    "        scalars = np.stack(l_array,axis=-1)\n",
    "#         import pdb; pdb.set_trace()\n",
    "#         l_array = [f[n][:][:,None] for n in c_names]\n",
    "#         seq = np.concatenate(l_array,axis=1)\n",
    "        return scalars"
   ]
  },
  {
   "cell_type": "code",
   "execution_count": 69,
   "metadata": {},
   "outputs": [],
   "source": [
    "# hdf2scalars('/mnt/data/sicwell/hdf5/Cycles/ch3/cycle00568.hdf5',['soc','temperature1'],dataset='measurement_00000')"
   ]
  },
  {
   "cell_type": "code",
   "execution_count": 70,
   "metadata": {},
   "outputs": [],
   "source": [
    "#| export\n",
    "class HDF2Scalars(Transform):\n",
    "    \n",
    "    def __init__(self, clm_names,to_cls=noop):\n",
    "        store_attr('clm_names,to_cls')\n",
    "    \n",
    "    def _extract_dict_scalars(self,item):\n",
    "        if isinstance(item,dict):\n",
    "            path = item['path']\n",
    "            dataset = item['dataset'] if 'dataset' in item else None\n",
    "\n",
    "            seq = hdf2scalars(path,self.clm_names,dataset)\n",
    "        else:\n",
    "            seq = hdf2scalars(str(item),self.clm_names)\n",
    "        return self.to_cls(seq)\n",
    "\n",
    "    def encodes(self, item)->None: \n",
    "        return self._extract_dict_scalars(item)"
   ]
  },
  {
   "cell_type": "code",
   "execution_count": 71,
   "metadata": {},
   "outputs": [],
   "source": [
    "# HDF2Scalars(['soc','temperature1'])({'path':'/mnt/data/sicwell/hdf5/Cycles/ch3/cycle00568.hdf5','dataset':'measurement_00000'})"
   ]
  },
  {
   "attachments": {},
   "cell_type": "markdown",
   "metadata": {},
   "source": [
    "### Extract Scalar from sequence"
   ]
  },
  {
   "cell_type": "code",
   "execution_count": 72,
   "metadata": {},
   "outputs": [],
   "source": [
    "#| export\n",
    "class ScalarSequenceElement(Transform):\n",
    "    \n",
    "    def __init__(self, idx,to_cls=noop):\n",
    "        store_attr('idx,to_cls')\n",
    "\n",
    "    def encodes(self, item)->None: \n",
    "        return self.to_cls(item[self.idx])"
   ]
  },
  {
   "cell_type": "code",
   "execution_count": 73,
   "metadata": {},
   "outputs": [
    {
     "data": {
      "text/plain": [
       "array([8.8531], dtype=float32)"
      ]
     },
     "execution_count": 73,
     "metadata": {},
     "output_type": "execute_result"
    }
   ],
   "source": [
    "ScalarSequenceElement(-1)(hdf2seq(hdf_files[0]))"
   ]
  },
  {
   "attachments": {},
   "cell_type": "markdown",
   "metadata": {},
   "source": [
    "### 2.1 Datatypes for Sequences and Scalars"
   ]
  },
  {
   "cell_type": "code",
   "execution_count": 74,
   "metadata": {},
   "outputs": [],
   "source": [
    "#| export\n",
    "class TensorSequences(TensorBase):#TensorBase\n",
    "#     def __init__(self,x,c_names=None, **kwargs):\n",
    "#         super().__init__()\n",
    "#         self.c_names = c_names\n",
    "    \n",
    "    def show(self, ctx=None, **kwargs):\n",
    "#         import pdb; pdb.set_trace()\n",
    "        ax = ctx\n",
    "        if ax is None: _,ax = plt.subplots()\n",
    "        ax.plot(self)\n",
    "#         if title is not None: ax.set_title(title)\n",
    "        return ax\n",
    "\n",
    "    @classmethod\n",
    "    @delegates(HDF2Sequence, keep=True)\n",
    "    def from_hdf(cls,clm_names,**kwargs):\n",
    "        return HDF2Sequence(clm_names,**kwargs)\n",
    "    \n",
    "class TensorSequencesInput(TensorSequences): pass\n",
    "class TensorSequencesOutput(TensorSequences): pass"
   ]
  },
  {
   "cell_type": "code",
   "execution_count": 75,
   "metadata": {},
   "outputs": [
    {
     "data": {
      "text/plain": [
       "numpy.ndarray"
      ]
     },
     "execution_count": 75,
     "metadata": {},
     "output_type": "execute_result"
    }
   ],
   "source": [
    "f = TensorSequencesInput.from_hdf(['current'])\n",
    "type(f(hdf_files[0]))"
   ]
  },
  {
   "cell_type": "code",
   "execution_count": 76,
   "metadata": {},
   "outputs": [],
   "source": [
    "# TensorSequences(np.ones((30,2))).show()"
   ]
  },
  {
   "cell_type": "code",
   "execution_count": 77,
   "metadata": {},
   "outputs": [],
   "source": [
    "#| export\n",
    "@Transform\n",
    "def toTensorSequencesInput(o): return TensorSequencesInput(o)\n",
    "@Transform\n",
    "def toTensorSequencesOutput(o): return TensorSequencesOutput(o)"
   ]
  },
  {
   "cell_type": "code",
   "execution_count": 78,
   "metadata": {},
   "outputs": [],
   "source": [
    "#| export\n",
    "class TensorScalars(TensorBase):\n",
    "    @classmethod\n",
    "    @delegates(HDF2Scalars, keep=True)\n",
    "    def from_hdf(cls,clm_names,**kwargs):\n",
    "        return HDF2Scalars(clm_names,**kwargs)\n",
    "    \n",
    "    \n",
    "class TensorScalarsInput(TensorScalars): pass\n",
    "class TensorScalarsOutput(TensorScalars): pass\n"
   ]
  },
  {
   "attachments": {},
   "cell_type": "markdown",
   "metadata": {},
   "source": [
    "The tensor subclassing mechanism since pytorch 1.7 keeps the tensor type in tensor operations. Operations with different branches of subclasses of tensors require a implementation of '__torch_function__'.\n",
    "Fastai implements 'TensorBase.register_func' to mark methods that behave for the given types like the default torch operation.\n",
    "\n",
    "https://pytorch.org/docs/stable/notes/extending.html#extending-torch\n"
   ]
  },
  {
   "cell_type": "code",
   "execution_count": 79,
   "metadata": {},
   "outputs": [],
   "source": [
    "#| export\n",
    "for f in torch.nn.functional.mse_loss,torch.nn.functional.huber_loss, Tensor.__getitem__, Tensor.__ne__,Tensor.__eq__,Tensor.add,Tensor.sub,Tensor.mul,Tensor.div,Tensor.__rsub__,Tensor.__radd__,Tensor.matmul,Tensor.bmm:\n",
    "    TensorBase.register_func(f,TensorSequences)\n",
    "    TensorBase.register_func(f,TensorScalars)"
   ]
  },
  {
   "cell_type": "code",
   "execution_count": 80,
   "metadata": {},
   "outputs": [
    {
     "data": {
      "text/plain": [
       "TensorSequencesInput(0.1674)"
      ]
     },
     "execution_count": 80,
     "metadata": {},
     "output_type": "execute_result"
    }
   ],
   "source": [
    "x1 = TensorSequencesInput(torch.rand((10,10)))\n",
    "x2 = TensorSequencesOutput(torch.rand((10,10)))\n",
    "torch.nn.functional.mse_loss(x1,x2)"
   ]
  },
  {
   "attachments": {},
   "cell_type": "markdown",
   "metadata": {},
   "source": [
    "## 3. Transformations\n"
   ]
  },
  {
   "attachments": {},
   "cell_type": "markdown",
   "metadata": {},
   "source": [
    "### 3.1 Sequence Slicing Transformation"
   ]
  },
  {
   "cell_type": "code",
   "execution_count": 81,
   "metadata": {},
   "outputs": [],
   "source": [
    "#| export \n",
    "class SeqSlice(Transform):\n",
    "    '''Take a slice from an array-like object. Useful for e.g. shifting input and output'''\n",
    "    def __init__(self, l_slc=None,r_slc=None):\n",
    "        self.l_slc,self.r_slc = l_slc,r_slc\n",
    "        \n",
    "    def encodes(self, o): return o[self.l_slc:self.r_slc]"
   ]
  },
  {
   "cell_type": "code",
   "execution_count": 82,
   "metadata": {},
   "outputs": [],
   "source": [
    "l_shift = SeqSlice(r_slc=-1)\n",
    "arr = np.ones((5))\n",
    "test_eq(l_shift(arr),arr[:-1])"
   ]
  },
  {
   "attachments": {},
   "cell_type": "markdown",
   "metadata": {},
   "source": [
    "### 3.2 Sequence Noise Injection Transformation"
   ]
  },
  {
   "cell_type": "code",
   "execution_count": 112,
   "metadata": {},
   "outputs": [],
   "source": [
    "#| export\n",
    "class SeqNoiseInjection(RandTransform):\n",
    "    split_idx=0 #apply only to training data, if None it will be applied to all data\n",
    "    '''Adds normal distributed noise to the tensor sequence with seperate mean and std for every signal'''\n",
    "    def __init__(self, std=1e-1,mean=0.,p=1.0):\n",
    "        super().__init__(p=p)\n",
    "        self.std = tensor(std).type(torch.float)\n",
    "        self.mean = tensor(mean).type(torch.float)\n",
    "        \n",
    "    def encodes(self, o:TensorSequencesInput): \n",
    "        if o.device != self.mean.device:\n",
    "            self.std = self.std.to(o.device)\n",
    "            self.mean = self.mean.to(o.device)\n",
    "        #expand creates a view on a tensor and is therefore very fast compared to copy\n",
    "        return o+torch.normal(mean=self.mean.expand_as(o), \n",
    "                              std=self.std.expand_as(o))"
   ]
  },
  {
   "cell_type": "code",
   "execution_count": 113,
   "metadata": {},
   "outputs": [
    {
     "data": {
      "text/plain": [
       "(TensorSequencesInput([[ 1.,  1.,  1.],\n",
       "                       [-1., -1., -1.]]),\n",
       " torch.Size([2, 3]))"
      ]
     },
     "execution_count": 113,
     "metadata": {},
     "output_type": "execute_result"
    }
   ],
   "source": [
    "x = TensorSequencesInput(tensor([[1,1,1],[-1,-1,-1.0]]))\n",
    "ns_mean = tensor([0.,10.1,3.1])\n",
    "ns_std = tensor([1.,1.1,0.1])\n",
    "x,x.shape"
   ]
  },
  {
   "cell_type": "code",
   "execution_count": 114,
   "metadata": {},
   "outputs": [
    {
     "data": {
      "text/plain": [
       "TensorSequencesInput([[ 1.,  1.,  1.],\n",
       "                      [-1., -1., -1.]])"
      ]
     },
     "execution_count": 114,
     "metadata": {},
     "output_type": "execute_result"
    }
   ],
   "source": [
    "seq_noise = SeqNoiseInjection(std=ns_std,mean=ns_mean)\n",
    "seq_noise(x)"
   ]
  },
  {
   "cell_type": "code",
   "execution_count": 115,
   "metadata": {},
   "outputs": [
    {
     "data": {
      "text/plain": [
       "TensorSequencesInput([[ 1.,  1.,  1.],\n",
       "                      [-1., -1., -1.]])"
      ]
     },
     "execution_count": 115,
     "metadata": {},
     "output_type": "execute_result"
    }
   ],
   "source": [
    "seq_noise = SeqNoiseInjection(std=ns_std*10)\n",
    "seq_noise(x)"
   ]
  },
  {
   "cell_type": "code",
   "execution_count": 116,
   "metadata": {},
   "outputs": [],
   "source": [
    "#| export\n",
    "class SeqNoiseInjection_Varying(RandTransform):\n",
    "    split_idx=0\n",
    "    '''Adds normal distributed noise to the tensor sequence with a normal distributed standard deviation for every application'''\n",
    "    def __init__(self, std_std=0.1,p=1.0):\n",
    "        super().__init__(p=p)\n",
    "        self.std_std = tensor(std_std).type(torch.float)\n",
    "        \n",
    "    def encodes(self, o:TensorSequencesInput): \n",
    "        if o.device != self.std_std.device:\n",
    "            self.std_std = self.std_std.to(o.device)\n",
    "            \n",
    "        #expand creates a view on a tensor and is therefore very fast compared to copy\n",
    "        std = torch.normal(mean=0,std=self.std_std).abs()\n",
    "        return o+torch.normal(mean=0,std=std.expand_as(o))"
   ]
  },
  {
   "cell_type": "code",
   "execution_count": 117,
   "metadata": {},
   "outputs": [
    {
     "data": {
      "text/plain": [
       "(TensorSequencesInput([[0, 0, 0],\n",
       "                       [0, 0, 0]]),\n",
       " torch.Size([2, 3]))"
      ]
     },
     "execution_count": 117,
     "metadata": {},
     "output_type": "execute_result"
    }
   ],
   "source": [
    "x = TensorSequencesInput(tensor([[0,0,0],[0,0,0]]))\n",
    "ns_std = tensor([1.,1.1,0.1])\n",
    "x,x.shape"
   ]
  },
  {
   "cell_type": "code",
   "execution_count": 118,
   "metadata": {},
   "outputs": [
    {
     "data": {
      "text/plain": [
       "TensorSequencesInput([[0, 0, 0],\n",
       "                      [0, 0, 0]])"
      ]
     },
     "execution_count": 118,
     "metadata": {},
     "output_type": "execute_result"
    }
   ],
   "source": [
    "seq_noise = SeqNoiseInjection_Varying(std_std=ns_std)\n",
    "seq_noise(x)"
   ]
  },
  {
   "cell_type": "code",
   "execution_count": 119,
   "metadata": {},
   "outputs": [],
   "source": [
    "#| export\n",
    "class SeqNoiseInjection_Grouped(RandTransform):\n",
    "    split_idx=0\n",
    "    '''Adds normal distributed noise to the tensor sequence with a normal distributed standard deviation for every application, every group gert'''\n",
    "    def __init__(self, std_std,std_idx,p=1.0):\n",
    "        super().__init__(p=p)\n",
    "        self.std_std = tensor(std_std).type(torch.float)\n",
    "        self.std_idx = tensor(std_idx).type(torch.long)\n",
    "        \n",
    "    def encodes(self, o:TensorSequencesInput): \n",
    "        if o.device != self.std_std.device:\n",
    "            self.std_std = self.std_std.to(o.device)\n",
    "            \n",
    "        #expand creates a view on a tensor and is therefore very fast compared to copy\n",
    "        std = torch.normal(mean=0,std=self.std_std).abs()[self.std_idx]\n",
    "        return o+torch.normal(mean=0,std=std.expand_as(o))"
   ]
  },
  {
   "cell_type": "code",
   "execution_count": 120,
   "metadata": {},
   "outputs": [
    {
     "data": {
      "text/plain": [
       "(TensorSequencesInput([[0, 0, 0],\n",
       "                       [0, 0, 0]]),\n",
       " torch.Size([2, 3]))"
      ]
     },
     "execution_count": 120,
     "metadata": {},
     "output_type": "execute_result"
    }
   ],
   "source": [
    "x = TensorSequencesInput(tensor([[0,0,0],[0,0,0]]))\n",
    "ns_std = tensor([1.,1.1,0.1])\n",
    "x,x.shape"
   ]
  },
  {
   "cell_type": "code",
   "execution_count": 121,
   "metadata": {},
   "outputs": [
    {
     "data": {
      "text/plain": [
       "TensorSequencesInput([[0, 0, 0],\n",
       "                      [0, 0, 0]])"
      ]
     },
     "execution_count": 121,
     "metadata": {},
     "output_type": "execute_result"
    }
   ],
   "source": [
    "seq_noise = SeqNoiseInjection_Grouped(std_std=[3.,0],std_idx=[0,0,1])\n",
    "seq_noise(x)"
   ]
  },
  {
   "attachments": {},
   "cell_type": "markdown",
   "metadata": {},
   "source": [
    "### 3.2 Sequence Bias Injection Transformation"
   ]
  },
  {
   "cell_type": "code",
   "execution_count": 122,
   "metadata": {},
   "outputs": [],
   "source": [
    "#| export\n",
    "class SeqBiasInjection(RandTransform):\n",
    "    split_idx=0\n",
    "    '''Adds a normal distributed offset to the tensor sequence with seperate mean and std for every signal'''\n",
    "    def __init__(self, std=1e-1,mean=0.,p=1.0):\n",
    "        super().__init__(p=p)\n",
    "        self.std = tensor(std).type(torch.float)\n",
    "        self.mean = tensor(mean).type(torch.float)\n",
    "        \n",
    "    def encodes(self, o:TensorSequencesInput): \n",
    "        if o.device != self.mean.device:\n",
    "            self.std = self.std.to(o.device)\n",
    "            self.mean = self.mean.to(o.device)\n",
    "        \n",
    "        #expand creates a view on a tensor and is therefore very fast compared to copy\n",
    "        mean=self.mean.repeat((o.shape[0],1,1)).expand((o.shape[0],1,o.shape[2]))\n",
    "        std= self.std.repeat((o.shape[0],1,1)).expand((o.shape[0],1,o.shape[2]))\n",
    "        n = torch.normal(mean=mean, std=std).expand_as(o)\n",
    "        return o+n"
   ]
  },
  {
   "cell_type": "code",
   "execution_count": 123,
   "metadata": {},
   "outputs": [
    {
     "data": {
      "text/plain": [
       "TensorSequencesInput([[ 1., -1.]])"
      ]
     },
     "execution_count": 123,
     "metadata": {},
     "output_type": "execute_result"
    }
   ],
   "source": [
    "x = TensorSequencesInput(tensor([[[1,1,1],[-1,-1,-1.0]]]))\n",
    "ns_mean = tensor([0.,10.1,3.1])\n",
    "ns_std = tensor([1.,1.1,0.1])\n",
    "seq_bias = SeqBiasInjection(std=ns_std,mean=ns_std)\n",
    "seq_bias(x)[...,0]"
   ]
  },
  {
   "cell_type": "code",
   "execution_count": 124,
   "metadata": {},
   "outputs": [
    {
     "data": {
      "text/plain": [
       "tensor([1.0000, 1.1000, 0.1000])"
      ]
     },
     "execution_count": 124,
     "metadata": {},
     "output_type": "execute_result"
    }
   ],
   "source": [
    "seq_bias.mean"
   ]
  },
  {
   "cell_type": "code",
   "execution_count": 125,
   "metadata": {},
   "outputs": [
    {
     "data": {
      "text/plain": [
       "TensorSequencesInput([[[ 1.,  1.,  1.],\n",
       "                       [-1., -1., -1.]]])"
      ]
     },
     "execution_count": 125,
     "metadata": {},
     "output_type": "execute_result"
    }
   ],
   "source": [
    "seq_bias = SeqBiasInjection(std=ns_std*10)\n",
    "seq_bias(x)"
   ]
  },
  {
   "attachments": {},
   "cell_type": "markdown",
   "metadata": {},
   "source": [
    "### 3.3 Normalization\n",
    "`Normalize` is programmed for `TensorImage` as an input tensor. It gets. At init the variable axes need to be chosen correspondingly to the shape of your tensor."
   ]
  },
  {
   "cell_type": "code",
   "execution_count": 126,
   "metadata": {},
   "outputs": [],
   "source": [
    "#| export\n",
    "@Normalize\n",
    "def encodes(self, x:TensorSequencesInput): \n",
    "    if x.device != self.mean.device:\n",
    "        self.mean = self.mean.to(x.device)\n",
    "        self.std = self.std.to(x.device)\n",
    "    return (x-self.mean) / self.std\n",
    "\n",
    "@Normalize\n",
    "def decodes(self, x:TensorSequencesInput):\n",
    "    if x.device != self.mean.device:\n",
    "        self.mean = self.mean.to(x.device)\n",
    "        self.std = self.std.to(x.device)\n",
    "    return (x*self.std + self.mean)"
   ]
  },
  {
   "cell_type": "code",
   "execution_count": 127,
   "metadata": {},
   "outputs": [
    {
     "data": {
      "text/plain": [
       "(TensorSequencesInput([[[ 1.,  1.,  1.],\n",
       "                        [-1., -1., -1.]]]),\n",
       " TensorSequencesInput([[[  1.0000,  -8.2727, -21.0000],\n",
       "                        [ -1.0000, -10.0909, -41.0000]]]))"
      ]
     },
     "execution_count": 127,
     "metadata": {},
     "output_type": "execute_result"
    }
   ],
   "source": [
    "norm = Normalize.from_stats(mean=ns_mean,std=ns_std,dim=1,ndim=2,cuda=False)\n",
    "x,norm(x)"
   ]
  },
  {
   "attachments": {},
   "cell_type": "markdown",
   "metadata": {},
   "source": [
    "## 4. Split in Training, Validation\n",
    "Splitting kann anhand von vorher bekannten Indizes, dem Dateipfad oder anderen allgemeinen Funktion durchgeführt werden.\n",
    "\n",
    "Splitting innerhalb einer Sequenzen sollte in der Praxis nur dann geschehen wenn eine einzige Sequenz vorhanden ist. Diese kann dann vorher manuell geteilt werden.\n"
   ]
  },
  {
   "attachments": {},
   "cell_type": "markdown",
   "metadata": {},
   "source": [
    "### 4.1 Splitting mit vorgegebenem Index"
   ]
  },
  {
   "cell_type": "code",
   "execution_count": 128,
   "metadata": {},
   "outputs": [],
   "source": [
    "splitter = IndexSplitter([1,2])\n",
    "test_eq(splitter(hdf_files),[[0],[1,2]])"
   ]
  },
  {
   "attachments": {},
   "cell_type": "markdown",
   "metadata": {},
   "source": [
    "### 4.2 Splitting mit allgemeiner Funktion\n",
    "Items, bei denen die definierte Funktion `True` zurück gibt, werden den Validierungsdatensatz zugeordnet, der Rest dem Training. In diesem Fall wird nach dem Übergeordneten Ordnernamen gesucht."
   ]
  },
  {
   "cell_type": "code",
   "execution_count": 129,
   "metadata": {},
   "outputs": [],
   "source": [
    "splitter = FuncSplitter(lambda o: Path(o).parent.name == 'valid')\n",
    "test_eq(splitter(hdf_files),[[0,1],[2]])"
   ]
  },
  {
   "attachments": {},
   "cell_type": "markdown",
   "metadata": {},
   "source": [
    "### 4.3 Splitting anhand des Parent-Folders\n",
    "Splitter, der Explizit Training und Validierungsordner den Datensätzen zuordnet"
   ]
  },
  {
   "cell_type": "code",
   "execution_count": 130,
   "metadata": {},
   "outputs": [],
   "source": [
    "#| export\n",
    "def _parent_idxs(items, name): return mask2idxs(Path(o).parent.name == name for o in items)\n",
    "\n",
    "def ParentSplitter(train_name='train', valid_name='valid'):\n",
    "    \"Split `items` from the parent folder names (`train_name` and `valid_name`).\"\n",
    "    def _inner(o, **kwargs):\n",
    "        return _parent_idxs(o, train_name),_parent_idxs(o, valid_name)\n",
    "    return _inner"
   ]
  },
  {
   "cell_type": "code",
   "execution_count": 131,
   "metadata": {},
   "outputs": [],
   "source": [
    "splitter = ParentSplitter()\n",
    "test_eq(splitter(hdf_files),[[0,1],[2]])"
   ]
  },
  {
   "attachments": {},
   "cell_type": "markdown",
   "metadata": {},
   "source": [
    "### 4.4 Percentage Splitter"
   ]
  },
  {
   "cell_type": "code",
   "execution_count": 132,
   "metadata": {},
   "outputs": [],
   "source": [
    "#| export\n",
    "def PercentageSplitter(pct=0.8):\n",
    "    \"Split `items` in order in relative quantity.\"\n",
    "    def _inner(o, **kwargs):\n",
    "        split_idx=int(len(o)*pct)\n",
    "        return L(range(split_idx)),L(range(split_idx,len(o)))\n",
    "    return _inner"
   ]
  },
  {
   "cell_type": "code",
   "execution_count": 133,
   "metadata": {},
   "outputs": [],
   "source": [
    "splitter = PercentageSplitter(0.7)\n",
    "test_eq(splitter(hdf_files),[[0,1],[2]])"
   ]
  },
  {
   "attachments": {},
   "cell_type": "markdown",
   "metadata": {},
   "source": [
    "### 4.5 Apply To Dictionary\n",
    "In Case of the Datablock API your items are a list of dictionaries. If you want to apply a Splitter to the path stored within you need a wrapper function."
   ]
  },
  {
   "cell_type": "code",
   "execution_count": 134,
   "metadata": {},
   "outputs": [],
   "source": [
    "#| export\n",
    "def ApplyToDict(fn,key='path'):\n",
    "    return lambda x:fn([i[key] for i in x])"
   ]
  },
  {
   "attachments": {},
   "cell_type": "markdown",
   "metadata": {},
   "source": [
    "### 4.6 Valid Column\n",
    "Using the 'valid' column of the Dataframe that has been created by a transformation."
   ]
  },
  {
   "cell_type": "code",
   "execution_count": 135,
   "metadata": {},
   "outputs": [],
   "source": [
    "#| export\n",
    "valid_clm_splitter =  FuncSplitter(lambda o:o['valid'])"
   ]
  },
  {
   "cell_type": "code",
   "execution_count": 136,
   "metadata": {},
   "outputs": [
    {
     "data": {
      "text/plain": [
       "((#53101) [0,1,2,3,4,5,6,7,8,9...],\n",
       " (#26550) [53101,53102,53103,53104,53105,53106,53107,53108,53109,53110...])"
      ]
     },
     "execution_count": 136,
     "metadata": {},
     "output_type": "execute_result"
    }
   ],
   "source": [
    "valid_clm_splitter(src_dicts)"
   ]
  },
  {
   "attachments": {},
   "cell_type": "markdown",
   "metadata": {},
   "source": [
    "## 5. Dataloaders Creation\n",
    "A Datasets combines all implemented components on item level."
   ]
  },
  {
   "cell_type": "code",
   "execution_count": 138,
   "metadata": {},
   "outputs": [],
   "source": [
    "#| export\n",
    "def pad_sequence(batch,sorting = False):\n",
    "    '''collate_fn for padding of sequences of different lengths, use in before_batch of databunch, still quite slow'''\n",
    "    #takes list of tuples as input, returns list of tuples\n",
    "    sorted_batch = sorted(batch, key=lambda x: x[0].shape[0], reverse=True) if sorting else batch\n",
    "\n",
    "    pad_func = partial(torch.nn.utils.rnn.pad_sequence,batch_first=True)\n",
    "    padded_tensors = [pad_func([x[tup] for x in sorted_batch]) for tup in range(len(batch[0]))]\n",
    "    padded_list = [retain_types(tuple([tup[entry] for tup in padded_tensors]),batch[0]) for entry in range(len(batch))]\n",
    "    #retain types is important for decoding later back to source items\n",
    "#     import pdb; pdb.set_trace()\n",
    "    \n",
    "    return padded_list"
   ]
  },
  {
   "attachments": {},
   "cell_type": "markdown",
   "metadata": {},
   "source": [
    "### 5.1 Low-Level with Transforms"
   ]
  },
  {
   "cell_type": "code",
   "execution_count": 139,
   "metadata": {},
   "outputs": [],
   "source": [
    "tfms=[  [HDF2Sequence(['current','voltage']),SeqSlice(l_slc=1),toTensorSequencesInput],\n",
    "        [HDF2Sequence(['voltage']),SeqSlice(r_slc=-1),toTensorSequencesOutput]]\n",
    "splits = splitter([x['path'] for x in src_dicts])\n",
    "dsrc = Datasets(src_dicts,tfms=tfms,splits=splits)"
   ]
  },
  {
   "cell_type": "code",
   "execution_count": 140,
   "metadata": {},
   "outputs": [],
   "source": [
    "# %%timeit\n",
    "# dsrc[0]"
   ]
  },
  {
   "cell_type": "code",
   "execution_count": 141,
   "metadata": {},
   "outputs": [
    {
     "data": {
      "text/plain": [
       "torch.Size([128, 100, 2])"
      ]
     },
     "execution_count": 141,
     "metadata": {},
     "output_type": "execute_result"
    }
   ],
   "source": [
    "db = dsrc.dataloaders(bs=128,after_batch=[SeqNoiseInjection(std=[1.1,0.01]),Normalize(axes=[0,1])],before_batch=pad_sequence)\n",
    "db.one_batch()[0].shape"
   ]
  },
  {
   "attachments": {},
   "cell_type": "markdown",
   "metadata": {},
   "source": [
    "### 5.2 Mid-Level with Datablock API"
   ]
  },
  {
   "cell_type": "code",
   "execution_count": 142,
   "metadata": {},
   "outputs": [],
   "source": [
    "#| export\n",
    "class SequenceBlock(TransformBlock):\n",
    "    def __init__(self, seq_extract,padding=False):\n",
    "        return super().__init__(type_tfms=[seq_extract],\n",
    "                                batch_tfms=[Normalize(axes=[0,1])],\n",
    "                                dls_kwargs={} if not padding else {'before_batch': pad_sequence})\n",
    "\n",
    "    @classmethod\n",
    "    @delegates(HDF2Sequence, keep=True)\n",
    "    def from_hdf(cls, clm_names, seq_cls=TensorSequencesInput,padding=False, **kwargs):\n",
    "        return cls(HDF2Sequence(clm_names,to_cls=seq_cls,**kwargs), padding)\n",
    "\n",
    "    @classmethod\n",
    "    def from_numpy(cls, seq_cls=TensorSequencesInput,padding=False, **kwargs):\n",
    "        return cls(ToTensor(enc=seq_cls), padding)"
   ]
  },
  {
   "cell_type": "code",
   "execution_count": 143,
   "metadata": {},
   "outputs": [],
   "source": [
    "seq = DataBlock(blocks=(SequenceBlock.from_hdf(['current','voltage'],TensorSequencesInput,padding=True,cached=False),\n",
    "                        SequenceBlock.from_hdf(['voltage'],TensorSequencesOutput,cached=False)),\n",
    "                get_items=tfm_src,\n",
    "                splitter=ApplyToDict(ParentSplitter()))"
   ]
  },
  {
   "cell_type": "code",
   "execution_count": 144,
   "metadata": {},
   "outputs": [],
   "source": [
    "dls = seq.dataloaders(hdf_files)"
   ]
  },
  {
   "cell_type": "code",
   "execution_count": 145,
   "metadata": {},
   "outputs": [],
   "source": [
    "#| export\n",
    "class ScalarNormalize(DisplayedTransform):\n",
    "    def __init__(self, mean=None, std=None, axes=(0,)): store_attr()\n",
    "        \n",
    "    @classmethod\n",
    "    def from_stats(cls, mean, std, dim=1, ndim=4, cuda=True): return cls(*broadcast_vec(dim, ndim, mean, std, cuda=cuda))\n",
    "    \n",
    "    def setups(self, dl:DataLoader):\n",
    "        if self.mean is None or self.std is None:\n",
    "            b = dl.one_batch()\n",
    "            for x in b:\n",
    "                if isinstance(x,TensorScalarsInput):\n",
    "                    self.mean,self.std = x.mean(self.axes, keepdim=True),x.std(self.axes, keepdim=True)+1e-7\n",
    "                    return\n",
    "\n",
    "    def encodes(self, x:TensorScalarsInput): \n",
    "        if x.device != self.mean.device:\n",
    "            self.mean = self.mean.to(x.device)\n",
    "            self.std = self.std.to(x.device)\n",
    "        return (x-self.mean) / self.std\n",
    "    \n",
    "    def decodes(self, x:TensorScalarsInput):\n",
    "        if x.device != self.mean.device:\n",
    "            self.mean = self.mean.to(x.device)\n",
    "            self.std = self.std.to(x.device)\n",
    "        return (x*self.std + self.mean)\n",
    "\n",
    "class ScalarBlock(TransformBlock):\n",
    "    def __init__(self, scl_extract):\n",
    "        return super().__init__(type_tfms=[scl_extract],\n",
    "                                batch_tfms=[ScalarNormalize()])\n",
    "\n",
    "    @classmethod\n",
    "    @delegates(HDF2Scalars, keep=True)\n",
    "    def from_hdf(cls, clm_names, scl_cls=TensorScalarsInput, **kwargs):\n",
    "        return cls(HDF2Scalars(clm_names,to_cls=scl_cls,**kwargs))"
   ]
  },
  {
   "attachments": {},
   "cell_type": "markdown",
   "metadata": {},
   "source": [
    "### 5.3 Spectrogram-Datablock"
   ]
  },
  {
   "cell_type": "code",
   "execution_count": 146,
   "metadata": {},
   "outputs": [],
   "source": [
    "#| export\n",
    "class TensorSpectrogram(TensorBase):\n",
    "    def show(self, ctx=None, ax=None, title=\"\", **kwargs):\n",
    "        ax = ifnone(ax, ctx)\n",
    "        if ax is None:\n",
    "            _, ax = plt.subplots()\n",
    "        ax.axis(False)\n",
    "        n_channels = self.shape[0]\n",
    "        for i, channel in enumerate(self):\n",
    "            ia = ax.inset_axes((i / n_channels, 0.2, 1 / n_channels, 0.7))\n",
    "#             ia = ax.inset_axes((i / n_channels, 0, 1 / n_channels, 1))\n",
    "    \n",
    "            ia.imshow(channel.cpu().numpy(),aspect ='auto',origin ='lower')\n",
    "            if i>0: ia.set_yticks([])\n",
    "            ia.set_title(f\"Channel {i}\")\n",
    "        ax.set_title(title)\n",
    "        return ax\n",
    "\n",
    "class TensorSpectrogramInput(TensorSpectrogram): pass\n",
    "class TensorSpectrogramOutput(TensorSpectrogram): pass"
   ]
  },
  {
   "cell_type": "code",
   "execution_count": 147,
   "metadata": {},
   "outputs": [
    {
     "data": {
      "text/plain": [
       "torch.Size([2000, 1])"
      ]
     },
     "execution_count": 147,
     "metadata": {},
     "output_type": "execute_result"
    }
   ],
   "source": [
    "seq_spec = TensorSpectrogramInput(HDF2Sequence(['current'],to_cls=TensorSpectrogramInput)._hdf_extract_sequence(hdf_files[0],r_slc=2000))\n",
    "seq_spec.shape"
   ]
  },
  {
   "cell_type": "code",
   "execution_count": 148,
   "metadata": {},
   "outputs": [],
   "source": [
    "#| exporti\n",
    "def complex_norm(\n",
    "        complex_tensor: Tensor,\n",
    "        power: float = 1.0\n",
    ") -> Tensor:\n",
    "    r\"\"\"Compute the norm of complex tensor input.\n",
    "\n",
    "    Args:\n",
    "        complex_tensor (Tensor): Tensor shape of `(..., complex=2)`\n",
    "        power (float): Power of the norm. (Default: `1.0`).\n",
    "\n",
    "    Returns:\n",
    "        Tensor: Power of the normed input tensor. Shape of `(..., )`\n",
    "    \"\"\"\n",
    "    if power == 1.0:\n",
    "        return torch.norm(complex_tensor, 2, -1)\n",
    "    return torch.norm(complex_tensor, 2, -1).pow(power)"
   ]
  },
  {
   "cell_type": "code",
   "execution_count": 159,
   "metadata": {},
   "outputs": [],
   "source": [
    "#| exporti\n",
    "def spectrogram(\n",
    "        waveform: Tensor,\n",
    "        pad: int,\n",
    "        window: Tensor,\n",
    "        n_fft: int,\n",
    "        hop_length: int,\n",
    "        win_length: int,\n",
    "        power: Optional[float],\n",
    "        normalized: bool\n",
    ") -> Tensor:\n",
    "    r\"\"\"Create a spectrogram or a batch of spectrograms from a raw audio signal.\n",
    "    The spectrogram can be either magnitude-only or complex.\n",
    "\n",
    "    Args:\n",
    "        waveform (Tensor): Tensor of audio of dimension (..., time)\n",
    "        pad (int): Two sided padding of signal\n",
    "        window (Tensor): Window tensor that is applied/multiplied to each frame/window\n",
    "        n_fft (int): Size of FFT\n",
    "        hop_length (int): Length of hop between STFT windows\n",
    "        win_length (int): Window size\n",
    "        power (float or None): Exponent for the magnitude spectrogram,\n",
    "            (must be > 0) e.g., 1 for energy, 2 for power, etc.\n",
    "            If None, then the complex spectrum is returned instead.\n",
    "        normalized (bool): Whether to normalize by magnitude after stft\n",
    "\n",
    "    Returns:\n",
    "        Tensor: Dimension (..., freq, time), freq is\n",
    "        ``n_fft // 2 + 1`` and ``n_fft`` is the number of\n",
    "        Fourier bins, and time is the number of window hops (n_frame).\n",
    "    \"\"\"\n",
    "\n",
    "    if pad > 0:\n",
    "        # TODO add \"with torch.no_grad():\" back when JIT supports it\n",
    "        waveform = torch.nn.functional.pad(waveform, (pad, pad), \"constant\")\n",
    "\n",
    "    # pack batch\n",
    "    shape = waveform.size()\n",
    "    waveform = waveform.view(-1, shape[-1])\n",
    "\n",
    "    # default values are consistent with librosa.core.spectrum._spectrogram\n",
    "    spec_f = torch.view_as_real(torch.stft(\n",
    "        waveform, n_fft, hop_length, win_length, window, True, \"reflect\", False, True,return_complex=True\n",
    "    ))\n",
    "\n",
    "    # unpack batch\n",
    "    spec_f = spec_f.view(shape[:-1] + spec_f.shape[-3:])\n",
    "\n",
    "    if normalized:\n",
    "        spec_f /= window.pow(2.).sum().sqrt()\n",
    "    if power is not None:\n",
    "        spec_f = complex_norm(spec_f, power=power)\n",
    "\n",
    "    return spec_f"
   ]
  },
  {
   "cell_type": "code",
   "execution_count": 160,
   "metadata": {},
   "outputs": [],
   "source": [
    "#| exporti\n",
    "from typing import Callable\n",
    "\n",
    "class Spectrogram(torch.nn.Module):\n",
    "    r\"\"\"Create a spectrogram from a audio signal.\n",
    "\n",
    "    Args:\n",
    "        n_fft (int, optional): Size of FFT, creates ``n_fft // 2 + 1`` bins. (Default: ``400``)\n",
    "        win_length (int or None, optional): Window size. (Default: ``n_fft``)\n",
    "        hop_length (int or None, optional): Length of hop between STFT windows. (Default: ``win_length // 2``)\n",
    "        pad (int, optional): Two sided padding of signal. (Default: ``0``)\n",
    "        window_fn (Callable[..., Tensor], optional): A function to create a window tensor\n",
    "            that is applied/multiplied to each frame/window. (Default: ``torch.hann_window``)\n",
    "        power (float or None, optional): Exponent for the magnitude spectrogram,\n",
    "            (must be > 0) e.g., 1 for energy, 2 for power, etc.\n",
    "            If None, then the complex spectrum is returned instead. (Default: ``2``)\n",
    "        normalized (bool, optional): Whether to normalize by magnitude after stft. (Default: ``False``)\n",
    "        wkwargs (dict or None, optional): Arguments for window function. (Default: ``None``)\n",
    "    \"\"\"\n",
    "    __constants__ = ['n_fft', 'win_length', 'hop_length', 'pad', 'power', 'normalized']\n",
    "\n",
    "    def __init__(self,\n",
    "                 n_fft: int = 400,\n",
    "                 win_length: Optional[int] = None,\n",
    "                 hop_length: Optional[int] = None,\n",
    "                 pad: int = 0,\n",
    "                 window_fn: Callable[..., Tensor] = torch.hann_window,\n",
    "                 power: Optional[float] = 2.,\n",
    "                 normalized: bool = False,\n",
    "                 wkwargs: Optional[dict] = None) -> None:\n",
    "        super(Spectrogram, self).__init__()\n",
    "        self.n_fft = n_fft\n",
    "        # number of FFT bins. the returned STFT result will have n_fft // 2 + 1\n",
    "        # number of frequecies due to onesided=True in torch.stft\n",
    "        self.win_length = win_length if win_length is not None else n_fft\n",
    "        self.hop_length = hop_length if hop_length is not None else self.win_length // 2\n",
    "        window = window_fn(self.win_length) if wkwargs is None else window_fn(self.win_length, **wkwargs)\n",
    "        self.register_buffer('window', window)\n",
    "        self.pad = pad\n",
    "        self.power = power\n",
    "        self.normalized = normalized\n",
    "\n",
    "    def forward(self, waveform: Tensor) -> Tensor:\n",
    "        r\"\"\"\n",
    "        Args:\n",
    "            waveform (Tensor): Tensor of audio of dimension (..., time).\n",
    "\n",
    "        Returns:\n",
    "            Tensor: Dimension (..., freq, time), where freq is\n",
    "            ``n_fft // 2 + 1`` where ``n_fft`` is the number of\n",
    "            Fourier bins, and time is the number of window hops (n_frame).\n",
    "        \"\"\"\n",
    "        return spectrogram(waveform, self.pad, self.window, self.n_fft, self.hop_length,\n",
    "                             self.win_length, self.power, self.normalized)"
   ]
  },
  {
   "cell_type": "code",
   "execution_count": 161,
   "metadata": {},
   "outputs": [],
   "source": [
    "#| export\n",
    "@delegates(Spectrogram, keep=True)\n",
    "class Sequence2Spectrogram(Transform):\n",
    "    '''calculates the FFT of a sequence'''\n",
    "    \n",
    "    def __init__(self,scaling='log',**kwargs): \n",
    "        self.scaling=scaling\n",
    "        self.tfm = Spectrogram(**kwargs)\n",
    "        \n",
    "    def encodes(self, o:TensorSpectrogram): \n",
    "        if o.device != self.tfm.window.device: self.tfm.window = self.tfm.window.to(o.device)\n",
    "#         import pdb;pdb.set_trace()\n",
    "        spec = self.tfm(o.transpose(-1,-2).contiguous())\n",
    "        if self.scaling == 'log': spec = torch.log10(spec + 1e-10)\n",
    "        return spec"
   ]
  },
  {
   "cell_type": "code",
   "execution_count": 162,
   "metadata": {},
   "outputs": [],
   "source": [
    "#| export\n",
    "class SpectrogramBlock(TransformBlock):\n",
    "    def __init__(self, seq_extract,padding=False,n_fft=100,hop_length=None,normalized=False):\n",
    "        return super().__init__(type_tfms=[seq_extract],\n",
    "                                batch_tfms=[Sequence2Spectrogram(n_fft=n_fft,hop_length=hop_length,normalized=normalized)],\n",
    "                                dls_kwargs={} if not padding else {'before_batch': pad_sequence})\n",
    "\n",
    "    @classmethod\n",
    "    @delegates(HDF2Sequence, keep=True)\n",
    "    def from_hdf(cls, clm_names, seq_cls=TensorSpectrogramInput,padding=False,n_fft=100,hop_length=None,normalized=False, **kwargs):\n",
    "        return cls(HDF2Sequence(clm_names,to_cls=seq_cls,**kwargs), padding,n_fft=n_fft,hop_length=hop_length,normalized=normalized)"
   ]
  },
  {
   "cell_type": "code",
   "execution_count": 163,
   "metadata": {},
   "outputs": [],
   "source": [
    "dls_spec = DataBlock(blocks=(SpectrogramBlock.from_hdf(['current','voltage'],n_fft=100,hop_length=10,normalized=True),\n",
    "                        SequenceBlock.from_hdf(['voltage'],TensorSequencesOutput)),\n",
    "                get_items= CreateDict([DfHDFCreateWindows(win_sz=2000+1,stp_sz=10,clm='current')]),\n",
    "                splitter=ApplyToDict(ParentSplitter())).dataloaders(hdf_files)"
   ]
  },
  {
   "cell_type": "code",
   "execution_count": 164,
   "metadata": {},
   "outputs": [
    {
     "data": {
      "text/plain": [
       "torch.Size([64, 2, 51, 201])"
      ]
     },
     "execution_count": 164,
     "metadata": {},
     "output_type": "execute_result"
    }
   ],
   "source": [
    "dls_spec.one_batch()[0].shape"
   ]
  },
  {
   "attachments": {},
   "cell_type": "markdown",
   "metadata": {},
   "source": [
    "## 6. Show Batches and Results"
   ]
  },
  {
   "cell_type": "code",
   "execution_count": 165,
   "metadata": {},
   "outputs": [],
   "source": [
    "#| export\n",
    "def plot_sequence(axs,in_sig,targ_sig,out_sig=None,**kwargs):\n",
    "    n_targ = targ_sig.shape[1]\n",
    "    for j,ax in  enumerate(axs[:-1]):\n",
    "        ax.plot(targ_sig[:,j])\n",
    "        if out_sig is not None: \n",
    "            ax.plot(out_sig[:,j])\n",
    "            ax.legend(['y','ŷ'])\n",
    "            if 'ref' in kwargs:\n",
    "                ax.plot(kwargs['ref'][:,j]) \n",
    "        ax.label_outer()\n",
    "    axs[-1].plot(in_sig)"
   ]
  },
  {
   "cell_type": "code",
   "execution_count": 166,
   "metadata": {},
   "outputs": [],
   "source": [
    "#| export\n",
    "def plot_seqs_single_figure(n_samples,n_targ,samples,plot_func,outs=None,**kwargs):\n",
    "    rows=max(1,((n_samples-1) // 3)+1)\n",
    "    cols=min(3,n_samples)\n",
    "    fig = plt.figure(figsize=(9,2*cols))\n",
    "    outer_grid = fig.add_gridspec(rows, cols)\n",
    "#     import pdb; pdb.set_trace()\n",
    "    for i in range(n_samples):\n",
    "        in_sig = samples[i][0]\n",
    "        targ_sig = samples[i][1]\n",
    "        if outs is not None: out_sig = outs[i][0]\n",
    "        inner_grid = outer_grid[i].subgridspec(n_targ+1, 1)\n",
    "        axs = [fig.add_subplot(inner_grid[j]) for j in range(n_targ+1)]\n",
    "        plot_func(axs,in_sig,targ_sig,out_sig=out_sig if outs is not None else None,**kwargs)\n",
    "    plt.tight_layout()"
   ]
  },
  {
   "cell_type": "code",
   "execution_count": 167,
   "metadata": {},
   "outputs": [],
   "source": [
    "#| export\n",
    "def plot_seqs_multi_figures(n_samples,n_targ,samples,plot_func,outs=None,**kwargs):\n",
    "    for i in range(n_samples):\n",
    "        fig = plt.figure(figsize=(9,3))\n",
    "        axs = fig.subplots(nrows=n_targ+1,sharex=True)\n",
    "        in_sig = samples[i][0]\n",
    "        targ_sig = samples[i][1]\n",
    "        if outs is not None:  out_sig = outs[i][0]\n",
    "            \n",
    "        plot_func(axs,in_sig,targ_sig,out_sig=out_sig if outs is not None else None,**kwargs)\n",
    "        \n",
    "        plt.tight_layout()"
   ]
  },
  {
   "cell_type": "code",
   "execution_count": 168,
   "metadata": {},
   "outputs": [],
   "source": [
    "#| export\n",
    "@typedispatch\n",
    "def show_batch(x:TensorSequences, y:TensorSequences, samples, ctxs=None, max_n=6, **kwargs):\n",
    "    n_samples = min(len(samples), max_n)\n",
    "    n_targ = samples[0][1].shape[1]\n",
    "    if n_samples > 3:\n",
    "        #if there are more then 3 samples to plot then put them in a single figure\n",
    "        plot_seqs_single_figure(n_samples,n_targ,samples,plot_sequence, **kwargs)\n",
    "    else:\n",
    "        #if there are less then 3 samples to plot then put each in its own figure\n",
    "        plot_seqs_multi_figures(n_samples,n_targ,samples,plot_sequence, **kwargs)\n",
    "    return ctxs"
   ]
  },
  {
   "cell_type": "code",
   "execution_count": 169,
   "metadata": {},
   "outputs": [],
   "source": [
    "#| export\n",
    "@typedispatch\n",
    "def show_results(x:TensorSequences, y:TensorSequences, samples, outs, ctxs=None, max_n=2, **kwargs):\n",
    "    n_samples = min(len(samples), max_n)\n",
    "    n_targ = samples[0][1].shape[1]\n",
    "    if n_samples > 3:\n",
    "        #if there are more then 3 samples to plot then put them in a single figure\n",
    "        plot_seqs_single_figure(n_samples,n_targ,samples,plot_sequence,outs, **kwargs)\n",
    "    else:\n",
    "        #if there are less then 3 samples to plot then put each in its own figure\n",
    "        plot_seqs_multi_figures(n_samples,n_targ,samples,plot_sequence,outs, **kwargs)\n",
    "    return ctxs"
   ]
  },
  {
   "cell_type": "code",
   "execution_count": 170,
   "metadata": {},
   "outputs": [
    {
     "data": {
      "application/vnd.jupyter.widget-view+json": {
       "model_id": "bddcb5616f344ba191dea073474d053d",
       "version_major": 2,
       "version_minor": 0
      },
      "image/png": "[encoded data removed]",
      "text/html": [
       "\n",
       "            <div style=\"display: inline-block;\">\n",
       "                <div class=\"jupyter-widgets widget-label\" style=\"text-align: center;\">\n",
       "                    Figure\n",
       "                </div>\n",
       "                <img src='data:image/png;base64,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' width=900.0/>\n",
       "            </div>\n",
       "        "
      ],
      "text/plain": [
       "Canvas(toolbar=Toolbar(toolitems=[('Home', 'Reset original view', 'home', 'home'), ('Back', 'Back to previous …"
      ]
     },
     "metadata": {},
     "output_type": "display_data"
    }
   ],
   "source": [
    "dls.show_batch()"
   ]
  },
  {
   "cell_type": "code",
   "execution_count": 171,
   "metadata": {},
   "outputs": [
    {
     "ename": "ModuleNotFoundError",
     "evalue": "No module named 'nbdev'",
     "output_type": "error",
     "traceback": [
      "\u001b[0;31m---------------------------------------------------------------------------\u001b[0m",
      "\u001b[0;31mModuleNotFoundError\u001b[0m                       Traceback (most recent call last)",
      "Cell \u001b[0;32mIn[171], line 2\u001b[0m\n\u001b[1;32m      1\u001b[0m \u001b[39m#hide\u001b[39;00m\n\u001b[0;32m----> 2\u001b[0m \u001b[39mfrom\u001b[39;00m \u001b[39mnbdev\u001b[39;00m\u001b[39m.\u001b[39;00m\u001b[39mexport\u001b[39;00m \u001b[39mimport\u001b[39;00m \u001b[39m*\u001b[39m\n\u001b[1;32m      3\u001b[0m nbdev_export()\n",
      "\u001b[0;31mModuleNotFoundError\u001b[0m: No module named 'nbdev'"
     ]
    }
   ],
   "source": [
    "#| include: false\n",
    "from nbdev.export import *\n",
    "nbdev_export()"
   ]
  },
  {
   "cell_type": "code",
   "execution_count": null,
   "metadata": {},
   "outputs": [],
   "source": []
  }
 ],
 "metadata": {
  "kernelspec": {
   "display_name": "Python 3 (ipykernel)",
   "language": "python",
   "name": "python3"
  },
  "language_info": {
   "codemirror_mode": {
    "name": "ipython",
    "version": 3
   },
   "file_extension": ".py",
   "mimetype": "text/x-python",
   "name": "python",
   "nbconvert_exporter": "python",
   "pygments_lexer": "ipython3",
   "version": "3.10.11"
  }
 },
 "nbformat": 4,
 "nbformat_minor": 4
}
