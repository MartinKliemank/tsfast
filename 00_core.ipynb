{
 "cells": [
  {
   "cell_type": "code",
   "execution_count": null,
   "metadata": {},
   "outputs": [],
   "source": [
    "# default_exp core\n",
    "# default_cls_lvl 3"
   ]
  },
  {
   "cell_type": "code",
   "execution_count": null,
   "metadata": {},
   "outputs": [],
   "source": [
    "#hide\n",
    "%load_ext line_profiler\n",
    "%matplotlib notebook"
   ]
  },
  {
   "cell_type": "markdown",
   "metadata": {},
   "source": [
    "# Corefunctions\n",
    "> Corefunctionality for data preparation of sequential data for pytorch, fastai models"
   ]
  },
  {
   "cell_type": "markdown",
   "metadata": {},
   "source": [
    "# Application Structure\n",
    "The data will be extracted and prepared via transforms. Those are grouped in:\n",
    "- Type Transforms: Those extraxt the needed components from the source items, like input sequences or target scalar values. The work on single tensors.\n",
    "- Item Transforms: Those Transforms may work on tuple level and therefore may process relationships between input and output.\n",
    "- Batch Transform: Those transforms work on batch level. They receive batched tensors and may apply lazy transforms like normalization very effeciently.\n",
    "\n",
    "An application example may look like the following:\n",
    "- sourceitems: \n",
    "    - path extraction with hdf5 file endings\n",
    "    - create pandas dataframe with information for type transforms, like slices\n",
    "    - filter items in pandas dataframe\n",
    "- type transforms: \n",
    "    - extract hdf5 input and output sequence\n",
    "    - create windows\n",
    "- item transforms: \n",
    "    - filter sequence by value\n",
    "    - shift output sequence by 1 element\n",
    "- batch transforms: \n",
    "    - noise injection\n",
    "    - normalization\n",
    "    "
   ]
  },
  {
   "cell_type": "code",
   "execution_count": null,
   "metadata": {},
   "outputs": [],
   "source": [
    "#export\n",
    "from fastai2.data.all import *\n",
    "import h5py"
   ]
  },
  {
   "cell_type": "markdown",
   "metadata": {},
   "source": [
    "## 1. Extract Source Items\n",
    "The file paths may be extracted with `get_files` of fastai2. `get_hdf_files` removes the need of writing the hdf5 file extension.\n",
    "\n",
    "Then a pandas dataframe may be created in case further information for the source items need to be stored like slices for the windowing function."
   ]
  },
  {
   "cell_type": "markdown",
   "metadata": {},
   "source": [
    "### 1.1 Extract File Paths"
   ]
  },
  {
   "cell_type": "code",
   "execution_count": null,
   "metadata": {},
   "outputs": [
    {
     "data": {
      "text/plain": [
       "(3, Path('test_data/train/Sim_RealisticCycle2.hdf5'))"
      ]
     },
     "execution_count": null,
     "metadata": {},
     "output_type": "execute_result"
    }
   ],
   "source": [
    "f_path = 'test_data/'\n",
    "hdf_files = get_files(f_path,extensions='.hdf5',recurse=True)\n",
    "len(hdf_files),hdf_files[0]"
   ]
  },
  {
   "cell_type": "code",
   "execution_count": null,
   "metadata": {},
   "outputs": [],
   "source": [
    "#export\n",
    "hdf_extensions = ['.hdf5']\n",
    "def get_hdf_files(path,recurse=True, folders=None):\n",
    "    \"Get hdf5 files in `path` recursively, only in `folders`, if specified.\"\n",
    "    return get_files(path, extensions=hdf_extensions, recurse=recurse, folders=folders)"
   ]
  },
  {
   "cell_type": "code",
   "execution_count": null,
   "metadata": {},
   "outputs": [
    {
     "data": {
      "text/plain": [
       "(3, Path('test_data/train/Sim_RealisticCycle2.hdf5'))"
      ]
     },
     "execution_count": null,
     "metadata": {},
     "output_type": "execute_result"
    }
   ],
   "source": [
    "hdf_files = get_hdf_files(f_path)\n",
    "len(hdf_files),hdf_files[0]"
   ]
  },
  {
   "cell_type": "markdown",
   "metadata": {},
   "source": [
    "### 1.2 Create Source Dictionaries\n",
    "In order to extract mulitple realizations of one file with different modifications, we create a list of properties. Pandas Dataframes are to slow for iteration but very fast and convenient for creations. So after creation of the pandas Dataframe we convert it to a list of dictionaries."
   ]
  },
  {
   "cell_type": "code",
   "execution_count": null,
   "metadata": {},
   "outputs": [],
   "source": [
    "#export\n",
    "def apply_df_tfms(f_list,pd_tfms = None):\n",
    "    '''Create Pandas Dataframe out of a list of items, with a list of df transforms applied'''\n",
    "    df = pd.DataFrame(data=f_list.items,columns=['path'])\n",
    "    if pd_tfms is not None:\n",
    "        for t in pd_tfms:\n",
    "            df = t(df)\n",
    "    return df"
   ]
  },
  {
   "cell_type": "code",
   "execution_count": null,
   "metadata": {},
   "outputs": [
    {
     "data": {
      "text/html": [
       "<div>\n",
       "<style scoped>\n",
       "    .dataframe tbody tr th:only-of-type {\n",
       "        vertical-align: middle;\n",
       "    }\n",
       "\n",
       "    .dataframe tbody tr th {\n",
       "        vertical-align: top;\n",
       "    }\n",
       "\n",
       "    .dataframe thead th {\n",
       "        text-align: right;\n",
       "    }\n",
       "</style>\n",
       "<table border=\"1\" class=\"dataframe\">\n",
       "  <thead>\n",
       "    <tr style=\"text-align: right;\">\n",
       "      <th></th>\n",
       "      <th>path</th>\n",
       "    </tr>\n",
       "  </thead>\n",
       "  <tbody>\n",
       "    <tr>\n",
       "      <th>0</th>\n",
       "      <td>test_data/train/Sim_RealisticCycle2.hdf5</td>\n",
       "    </tr>\n",
       "    <tr>\n",
       "      <th>1</th>\n",
       "      <td>test_data/train/Sim_RealisticCycle1.hdf5</td>\n",
       "    </tr>\n",
       "    <tr>\n",
       "      <th>2</th>\n",
       "      <td>test_data/valid/Sim_RealisticCycle3.hdf5</td>\n",
       "    </tr>\n",
       "  </tbody>\n",
       "</table>\n",
       "</div>"
      ],
      "text/plain": [
       "                                       path\n",
       "0  test_data/train/Sim_RealisticCycle2.hdf5\n",
       "1  test_data/train/Sim_RealisticCycle1.hdf5\n",
       "2  test_data/valid/Sim_RealisticCycle3.hdf5"
      ]
     },
     "execution_count": null,
     "metadata": {},
     "output_type": "execute_result"
    }
   ],
   "source": [
    "df = apply_df_tfms(hdf_files)\n",
    "df.head()"
   ]
  },
  {
   "cell_type": "code",
   "execution_count": null,
   "metadata": {},
   "outputs": [],
   "source": [
    "#export\n",
    "def CreateDict(pd_tfms = None):\n",
    "    '''Create List of Dictionarys out of a list of items, with a list of df transforms applied'''\n",
    "    def _inner(f_list):\n",
    "        return apply_df_tfms(f_list,pd_tfms).to_dict(orient='records')\n",
    "    return _inner"
   ]
  },
  {
   "cell_type": "code",
   "execution_count": null,
   "metadata": {},
   "outputs": [
    {
     "data": {
      "text/plain": [
       "[{'path': Path('test_data/train/Sim_RealisticCycle2.hdf5')},\n",
       " {'path': Path('test_data/train/Sim_RealisticCycle1.hdf5')},\n",
       " {'path': Path('test_data/valid/Sim_RealisticCycle3.hdf5')}]"
      ]
     },
     "execution_count": null,
     "metadata": {},
     "output_type": "execute_result"
    }
   ],
   "source": [
    "l_dict =CreateDict()(hdf_files)\n",
    "l_dict"
   ]
  },
  {
   "cell_type": "code",
   "execution_count": null,
   "metadata": {},
   "outputs": [],
   "source": [
    "#export\n",
    "def DfHDFCreateWindows(win_sz,stp_sz, clm, fixed_start = False, fixed_end = False):\n",
    "    '''create windows of sequences, splits sequence into multiple items'''\n",
    "    def _inner(df):\n",
    "        if fixed_start and fixed_end: raise Exception\n",
    "\n",
    "        lst_df = [] #new dataframe for every row\n",
    "        for idx, row in df.iterrows():\n",
    "            with h5py.File(row.path,'r') as f:\n",
    "                #TODO make clm optional\n",
    "#                 if clm == '': \n",
    "#                     clm = list(f.keys())[0]\n",
    "                f_len = max(f[clm].shape)\n",
    "\n",
    "                n_win = ((f_len-win_sz)//stp_sz)+1\n",
    "                tmp_df = df.iloc[[idx]*n_win]; #duplicate the row of the df multiple times by reference\n",
    "                lst_idx = np.arange(n_win)\n",
    "\n",
    "                #every row is a reference so we need to suppress the warning messages while copying\n",
    "                pd.options.mode.chained_assignment = None\n",
    "                tmp_df['l_slc'] = None if fixed_start else lst_idx*stp_sz\n",
    "                tmp_df['r_slc'] = None if fixed_end else lst_idx*stp_sz + win_sz\n",
    "                pd.options.mode.chained_assignment = 'warn'\n",
    "\n",
    "                lst_df.append(tmp_df)\n",
    "\n",
    "        res_df = pd.concat(lst_df)\n",
    "        return res_df\n",
    "    \n",
    "    return _inner"
   ]
  },
  {
   "cell_type": "code",
   "execution_count": null,
   "metadata": {},
   "outputs": [
    {
     "name": "stdout",
     "output_type": "stream",
     "text": [
      "CPU times: user 14 ms, sys: 0 ns, total: 14 ms\n",
      "Wall time: 13.6 ms\n"
     ]
    }
   ],
   "source": [
    "%%time\n",
    "create_win = DfHDFCreateWindows(win_sz=100,stp_sz=100,clm='current')\n",
    "create_win(df).head()"
   ]
  },
  {
   "cell_type": "code",
   "execution_count": null,
   "metadata": {},
   "outputs": [
    {
     "name": "stdout",
     "output_type": "stream",
     "text": [
      "CPU times: user 1.54 s, sys: 40.1 ms, total: 1.58 s\n",
      "Wall time: 1.58 s\n"
     ]
    }
   ],
   "source": [
    "%%time\n",
    "tfm_src = CreateDict([DfHDFCreateWindows(win_sz=100+1,stp_sz=10,clm='current')])\n",
    "src_dicts = tfm_src(hdf_files)\n",
    "src_dicts[:5]"
   ]
  },
  {
   "cell_type": "markdown",
   "metadata": {},
   "source": [
    "## 2. Convert Paths to Sequence Objects\n",
    "Der Pfad wird unter Angabe der Spaltennamen in Sequenzen und Skalare Werte umgewandelt, um so am Ende ein 3-Tupel zu erhalten aus:\n",
    "- (Sequence, Scalar, Sequence) <-> (input,input,output)"
   ]
  },
  {
   "cell_type": "markdown",
   "metadata": {},
   "source": [
    "### 2.1 Extract sequential data from hdf5-files\n",
    "Two different functions, based on pandas df and on lists"
   ]
  },
  {
   "cell_type": "markdown",
   "metadata": {},
   "source": [
    "#### 2.1.1 Shift time Series\n",
    "Sometimes we need to shift columns of a sequence by a specific value. Then we cant simply slice the array but have to handle each column individually. First a performance test has to be made."
   ]
  },
  {
   "cell_type": "code",
   "execution_count": null,
   "metadata": {},
   "outputs": [],
   "source": [
    "#export\n",
    "def calc_shift_offsets(clm_shift):\n",
    "    clm_shift = array(clm_shift)\n",
    "    l_offs = -min(clm_shift.min(),0)\n",
    "    r_offs = -max(clm_shift.max(),0)\n",
    "    l_shift = clm_shift+l_offs\n",
    "    r_shift = clm_shift+r_offs\n",
    "    dim_red = l_offs-r_offs\n",
    "    return l_shift,r_shift,dim_red"
   ]
  },
  {
   "cell_type": "code",
   "execution_count": null,
   "metadata": {},
   "outputs": [
    {
     "data": {
      "text/plain": [
       "(array([1, 1, 0, 2]), array([-1, -1, -2,  0]), 2)"
      ]
     },
     "execution_count": null,
     "metadata": {},
     "output_type": "execute_result"
    }
   ],
   "source": [
    "shft = [0,0,-1,1]\n",
    "calc_shift_offsets(shft)"
   ]
  },
  {
   "cell_type": "markdown",
   "metadata": {},
   "source": [
    "both shifting methods have their own performance character. vstack needs double the time on short sequences, while the creation of a seperate array with copy becomes worse starting at around 5000 elements"
   ]
  },
  {
   "cell_type": "code",
   "execution_count": null,
   "metadata": {},
   "outputs": [],
   "source": [
    "# ta = array([[1,2,3]*2]*10000)"
   ]
  },
  {
   "cell_type": "code",
   "execution_count": null,
   "metadata": {},
   "outputs": [],
   "source": [
    "# %%timeit\n",
    "# y = np.vstack([ta[i:-ta.shape[1]+i,i] for i in range(ta.shape[1])]).T   "
   ]
  },
  {
   "cell_type": "code",
   "execution_count": null,
   "metadata": {},
   "outputs": [],
   "source": [
    "# %%timeit\n",
    "# x = np.zeros((ta.shape[0]-ta.shape[1],ta.shape[1]))\n",
    "# for i in range(ta.shape[1]):\n",
    "#     x[:,i] = ta[i:-ta.shape[1]+i,i]"
   ]
  },
  {
   "cell_type": "markdown",
   "metadata": {},
   "source": [
    "#### 2.1.2 HDF2Sequence"
   ]
  },
  {
   "cell_type": "code",
   "execution_count": null,
   "metadata": {},
   "outputs": [],
   "source": [
    "#export\n",
    "def hdf_extract_sequence(hdf_path,clms,dataset = None, l_slc = None, r_slc= None):\n",
    "    with h5py.File(hdf_path,'r') as f:\n",
    "        ds = f if dataset is None else f[dataset]\n",
    "        l_array = [ds[n][l_slc:r_slc] for n in clms]\n",
    "        seq = np.vstack(l_array).T\n",
    "        return seq"
   ]
  },
  {
   "cell_type": "code",
   "execution_count": null,
   "metadata": {},
   "outputs": [],
   "source": [
    "#export\n",
    "class Memoize:\n",
    "    def __init__(self, fn):\n",
    "        self.fn = fn\n",
    "        self.memo = {}\n",
    "\n",
    "    def __call__(self, *args):\n",
    "        if args not in self.memo:\n",
    "            self.memo[args] = self.fn(*args)\n",
    "        return self.memo[args]"
   ]
  },
  {
   "cell_type": "code",
   "execution_count": null,
   "metadata": {},
   "outputs": [],
   "source": [
    "#export\n",
    "class HDF2Sequence(Transform):\n",
    "    \n",
    "    def __init__(self, clm_names,clm_shift=None,truncate_sz=None,to_cls=noop,cached=True):\n",
    "        if not clm_shift is None:\n",
    "            assert len(clm_shift)==len(clm_names) and all(isinstance(n, int) for n in clm_shift)\n",
    "            self.l_shift,self.r_shift,_ = calc_shift_offsets(clm_shift)\n",
    "        \n",
    "        self._exseq = Memoize(self._hdf_extract_sequence) if cached else self._hdf_extract_sequence\n",
    "        \n",
    "        store_attr(self,'clm_names,clm_shift,truncate_sz,to_cls,cached')\n",
    "        \n",
    "    def _hdf_extract_sequence(self,hdf_path,dataset = None, l_slc = None, r_slc= None):\n",
    "        with h5py.File(hdf_path,'r') as f:\n",
    "            ds = f if dataset is None else f[dataset]\n",
    "            l_array = [ds[n][l_slc:r_slc] for n in self.clm_names]\n",
    "            seq = np.vstack(l_array).T\n",
    "            return seq\n",
    "    \n",
    "    def _extract_dict_sequence(self,item):\n",
    "        if isinstance(item,dict):\n",
    "            path = item['path']\n",
    "            dataset = item['dataset'] if 'dataset' in item else None\n",
    "            l_slc = item['l_slc'] if 'l_slc' in item else None\n",
    "            r_slc = item['r_slc'] if 'r_slc' in item else None\n",
    "\n",
    "            if self.cached:\n",
    "                seq = self._exseq(path,dataset)[l_slc:r_slc]\n",
    "            else:\n",
    "                seq = self._exseq(path,dataset,l_slc,r_slc)\n",
    "        else:\n",
    "            seq = self._exseq(str(item))\n",
    "\n",
    "        #shift clms of result by given value \n",
    "        if not self.clm_shift is None:\n",
    "            l_seq = seq.shape[0]\n",
    "            seq = np.vstack([seq[self.l_shift[i]:l_seq+self.r_shift[i],i] for i in range(seq.shape[1])]).T \n",
    "            \n",
    "        if not self.truncate_sz is None:\n",
    "            seq = seq[truncate_sz:]\n",
    "\n",
    "        #it is important to slice first and then do the class conversion\n",
    "        return self.to_cls(seq)\n",
    "\n",
    "    def encodes(self, item)->None: \n",
    "        return self._extract_dict_sequence(item)"
   ]
  },
  {
   "cell_type": "code",
   "execution_count": null,
   "metadata": {},
   "outputs": [],
   "source": [
    "# #export\n",
    "# from functools import lru_cache\n",
    "# def HDF2Sequence(clm_names,clm_shift=None,to_cls=Tensor,cached=True):\n",
    "#     if not clm_shift is None:\n",
    "#         assert len(clm_shift)==len(clm_names) and all(isinstance(n, int) for n in clm_shift)\n",
    "#         l_shift,r_shift,dim_red = calc_shift_offsets(clm_shift)\n",
    "\n",
    "#     def _extract_sequence(hdf_path,dataset = None, l_slc = None, r_slc= None):\n",
    "#         with h5py.File(hdf_path,'r') as f:\n",
    "#             ds = f if dataset is None else f[dataset]\n",
    "#             l_array = [ds[n][l_slc:r_slc] for n in clm_names]\n",
    "#             seq = np.vstack(l_array).T\n",
    "#             return seq\n",
    "\n",
    "#     _exseq = lru_cache(maxsize=None)(_extract_sequence) if cached else _extract_sequence\n",
    "\n",
    "#     def _extract_dict_sequence(item):\n",
    "#         if isinstance(item,dict):\n",
    "#             path = item['path']\n",
    "#             dataset = item['dataset'] if 'dataset' in item else None\n",
    "#             l_slc = item['l_slc'] if 'l_slc' in item else None\n",
    "#             r_slc = item['r_slc'] if 'r_slc' in item else None\n",
    "\n",
    "#             if cached:\n",
    "#                 seq = _exseq(path,dataset)[l_slc:r_slc]\n",
    "#             else:\n",
    "#                 seq = _exseq(path,dataset,l_slc,r_slc)\n",
    "#         else:\n",
    "#             seq = _exseq(str(item))\n",
    "\n",
    "#         #shift clms of result by given value\n",
    "#         if not clm_shift is None:\n",
    "#             l_seq = seq.shape[0]\n",
    "#             seq = np.vstack([seq[l_shift[i]:l_seq+r_shift[i],i] for i in range(seq.shape[1])]).T\n",
    "\n",
    "#         #it is important to slice first and then do the class conversion\n",
    "#         return to_cls(seq)\n",
    "\n",
    "#     return _extract_dict_sequence"
   ]
  },
  {
   "cell_type": "code",
   "execution_count": null,
   "metadata": {},
   "outputs": [
    {
     "data": {
      "text/plain": [
       "tensor([[ 0.0000,  4.1874],\n",
       "        [-0.0052,  4.1875],\n",
       "        [-0.0090,  4.1875],\n",
       "        ...,\n",
       "        [ 1.0783,  3.7160],\n",
       "        [ 1.0739,  3.7161],\n",
       "        [ 1.0706,  3.7162]])"
      ]
     },
     "execution_count": null,
     "metadata": {},
     "output_type": "execute_result"
    }
   ],
   "source": [
    "# %%timeit\n",
    "hdf2seq = HDF2Sequence(['current','voltage'],cached=False)\n",
    "hdf2seq(hdf_files[0])"
   ]
  },
  {
   "cell_type": "code",
   "execution_count": null,
   "metadata": {},
   "outputs": [
    {
     "data": {
      "text/plain": [
       "tensor([[-0.0052,  4.1875],\n",
       "        [-0.0090,  4.1875],\n",
       "        [-0.0114,  4.1876],\n",
       "        ...,\n",
       "        [ 1.0783,  3.7160],\n",
       "        [ 1.0739,  3.7161],\n",
       "        [ 1.0706,  3.7162]])"
      ]
     },
     "execution_count": null,
     "metadata": {},
     "output_type": "execute_result"
    }
   ],
   "source": [
    "hdf2seq = HDF2Sequence(['current','voltage'],clm_shift=[1,1])\n",
    "hdf2seq(hdf_files[0])"
   ]
  },
  {
   "cell_type": "code",
   "execution_count": null,
   "metadata": {},
   "outputs": [],
   "source": [
    "hdf2seq = HDF2Sequence(['current','voltage'],cached=True)"
   ]
  },
  {
   "cell_type": "code",
   "execution_count": null,
   "metadata": {},
   "outputs": [
    {
     "data": {
      "text/plain": [
       "tensor([[ 0.0000,  4.1874],\n",
       "        [-0.0052,  4.1875],\n",
       "        [-0.0090,  4.1875],\n",
       "        ...,\n",
       "        [ 1.0783,  3.7160],\n",
       "        [ 1.0739,  3.7161],\n",
       "        [ 1.0706,  3.7162]])"
      ]
     },
     "execution_count": null,
     "metadata": {},
     "output_type": "execute_result"
    }
   ],
   "source": [
    "# %%timeit\n",
    "hdf2seq(hdf_files[0])"
   ]
  },
  {
   "cell_type": "markdown",
   "metadata": {},
   "source": [
    "Die Funktion lässt sich mittels Pipeline auf eine Liste von Quellobjekten (hier Pfade) anwenden "
   ]
  },
  {
   "cell_type": "code",
   "execution_count": null,
   "metadata": {},
   "outputs": [
    {
     "data": {
      "text/plain": [
       "torch.Size([265598, 1])"
      ]
     },
     "execution_count": null,
     "metadata": {},
     "output_type": "execute_result"
    }
   ],
   "source": [
    "hdf2seq = HDF2Sequence(['current'])\n",
    "hdf2seq(hdf_files[0]).shape"
   ]
  },
  {
   "cell_type": "code",
   "execution_count": null,
   "metadata": {},
   "outputs": [],
   "source": [
    "pipe = Pipeline(HDF2Sequence(['current','voltage']))"
   ]
  },
  {
   "cell_type": "code",
   "execution_count": null,
   "metadata": {},
   "outputs": [
    {
     "data": {
      "text/plain": [
       "(3, tensor([0.0000, 4.1874]))"
      ]
     },
     "execution_count": null,
     "metadata": {},
     "output_type": "execute_result"
    }
   ],
   "source": [
    "res_pipe = pipe(hdf_files)\n",
    "len(res_pipe), res_pipe[0][0]"
   ]
  },
  {
   "cell_type": "code",
   "execution_count": null,
   "metadata": {},
   "outputs": [],
   "source": [
    "#export\n",
    "def hdf2scalars(hdf_path,c_names):\n",
    "    with h5py.File(hdf_path,'r') as f:\n",
    "#         import pdb; pdb.set_trace()\n",
    "#         l_array = [f[n][:][:,None] for n in c_names]\n",
    "#         seq = np.concatenate(l_array,axis=1)\n",
    "        return None"
   ]
  },
  {
   "cell_type": "markdown",
   "metadata": {},
   "source": [
    "#### Performance Test\n",
    "Caching stores the arrays for future use at every function call. Very usefull, especially for windows. Should allways be turned. Only explicitly turn it off when there is not enough memory for your data."
   ]
  },
  {
   "cell_type": "code",
   "execution_count": null,
   "metadata": {},
   "outputs": [],
   "source": [
    "tfms=[  [HDF2Sequence(['current','voltage'],cached=False)],\n",
    "        [HDF2Sequence(['voltage'],cached=False)]]\n",
    "dsrc = Datasets(src_dicts[:1000],tfms=tfms)"
   ]
  },
  {
   "cell_type": "code",
   "execution_count": null,
   "metadata": {},
   "outputs": [
    {
     "data": {
      "text/plain": [
       "1000"
      ]
     },
     "execution_count": null,
     "metadata": {},
     "output_type": "execute_result"
    }
   ],
   "source": [
    "len(dsrc)"
   ]
  },
  {
   "cell_type": "code",
   "execution_count": null,
   "metadata": {},
   "outputs": [],
   "source": [
    "# %%time\n",
    "# for x in dsrc:\n",
    "#     x"
   ]
  },
  {
   "cell_type": "code",
   "execution_count": null,
   "metadata": {},
   "outputs": [],
   "source": [
    "tfms=[  [HDF2Sequence(['current','voltage'],cached=True,clm_shift=[1,2])],\n",
    "        [HDF2Sequence(['voltage'],cached=True)]]\n",
    "dsrc = Datasets(src_dicts[:1000],tfms=tfms)"
   ]
  },
  {
   "cell_type": "code",
   "execution_count": null,
   "metadata": {},
   "outputs": [],
   "source": [
    "# %%timeit\n",
    "for x in dsrc:\n",
    "    x"
   ]
  },
  {
   "cell_type": "markdown",
   "metadata": {},
   "source": [
    "Caching is way faster because every file gets loaded multiple times"
   ]
  },
  {
   "cell_type": "markdown",
   "metadata": {},
   "source": [
    "### 2.1 Datatypes for Sequences and Scalars"
   ]
  },
  {
   "cell_type": "code",
   "execution_count": null,
   "metadata": {},
   "outputs": [],
   "source": [
    "#export\n",
    "class TensorSequences(Tensor):#TensorBase\n",
    "#     def __init__(self,x,c_names=None, **kwargs):\n",
    "#         super().__init__()\n",
    "#         self.c_names = c_names\n",
    "    \n",
    "    def show(self, ctx=None, **kwargs):\n",
    "#         import pdb; pdb.set_trace()\n",
    "        ax = ctx\n",
    "        if ax is None: _,ax = plt.subplots()\n",
    "        ax.plot(self)\n",
    "#         if title is not None: ax.set_title(title)\n",
    "        return ax\n",
    "\n",
    "    @classmethod\n",
    "    def from_hdf(cls,clm_names,cached=True):\n",
    "        return HDF2Sequence(clm_names=clm_names,cached=cached,to_cls=cls)\n",
    "    \n",
    "class TensorSequencesInput(TensorSequences): pass\n",
    "class TensorSequencesOutput(TensorSequences): pass"
   ]
  },
  {
   "cell_type": "code",
   "execution_count": null,
   "metadata": {},
   "outputs": [
    {
     "data": {
      "text/plain": [
       "__main__.TensorSequencesInput"
      ]
     },
     "execution_count": null,
     "metadata": {},
     "output_type": "execute_result"
    }
   ],
   "source": [
    "f = TensorSequencesInput.from_hdf(['current'])\n",
    "type(f(hdf_files[0]))"
   ]
  },
  {
   "cell_type": "code",
   "execution_count": null,
   "metadata": {},
   "outputs": [],
   "source": [
    "# TensorSequences(np.ones((30,2))).show()"
   ]
  },
  {
   "cell_type": "code",
   "execution_count": null,
   "metadata": {},
   "outputs": [],
   "source": [
    "#export\n",
    "@Transform\n",
    "def toTensorSequencesInput(o): return TensorSequencesInput(o)\n",
    "@Transform\n",
    "def toTensorSequencesOutput(o): return TensorSequencesOutput(o)"
   ]
  },
  {
   "cell_type": "code",
   "execution_count": null,
   "metadata": {},
   "outputs": [],
   "source": [
    "#export\n",
    "class TensorScalars(Tensor): pass\n",
    "class TensorScalarsInput(TensorScalars): pass\n",
    "class TensorScalarsOutput(TensorScalars): pass"
   ]
  },
  {
   "cell_type": "markdown",
   "metadata": {},
   "source": [
    "## 3. Transformations\n"
   ]
  },
  {
   "cell_type": "markdown",
   "metadata": {},
   "source": [
    "### 3.1 Sequence Slicing Transformation"
   ]
  },
  {
   "cell_type": "code",
   "execution_count": null,
   "metadata": {},
   "outputs": [],
   "source": [
    "#export \n",
    "class SeqSlice(Transform):\n",
    "    '''Take a slice from an array-like object. Useful for e.g. shifting input and output'''\n",
    "    def __init__(self, l_slc=None,r_slc=None):\n",
    "        self.l_slc,self.r_slc = l_slc,r_slc\n",
    "        \n",
    "    def encodes(self, o): return o[self.l_slc:self.r_slc]"
   ]
  },
  {
   "cell_type": "code",
   "execution_count": null,
   "metadata": {},
   "outputs": [],
   "source": [
    "l_shift = SeqSlice(r_slc=-1)\n",
    "arr = np.ones((5))\n",
    "test_eq(l_shift(arr),arr[:-1])"
   ]
  },
  {
   "cell_type": "markdown",
   "metadata": {},
   "source": [
    "### 3.2 Sequence Noise Injection Transformation"
   ]
  },
  {
   "cell_type": "code",
   "execution_count": null,
   "metadata": {},
   "outputs": [],
   "source": [
    "#export\n",
    "class SeqNoiseInjection(Transform):\n",
    "    split_idx=0\n",
    "    '''Adds normal distributed noise to the tensor sequence with seperate mean and std for every signal'''\n",
    "    def __init__(self, std=1e-1,mean=0.):\n",
    "        self.std,self.mean = tensor(std),tensor(mean)\n",
    "        \n",
    "    def setups(self, dl:DataLoader):\n",
    "        #check the tensor type of your input\n",
    "        #TODO: include scalar type case\n",
    "        x,*_ = dl.one_batch()\n",
    "        self.std = to_device(self.std,x.device)\n",
    "        self.mean = to_device(self.mean,x.device)\n",
    "        \n",
    "    def encodes(self, o:TensorSequencesInput): \n",
    "        #expand creates a view on a tensor and is therefore very fast compared to copy\n",
    "        return o+torch.normal(mean=self.mean.expand_as(o), \n",
    "                              std=self.std.expand_as(o))"
   ]
  },
  {
   "cell_type": "code",
   "execution_count": null,
   "metadata": {},
   "outputs": [
    {
     "data": {
      "text/plain": [
       "(tensor([[ 1.,  1.,  1.],\n",
       "         [-1., -1., -1.]]), torch.Size([2, 3]))"
      ]
     },
     "execution_count": null,
     "metadata": {},
     "output_type": "execute_result"
    }
   ],
   "source": [
    "x = TensorSequencesInput(tensor([[1,1,1],[-1,-1,-1.0]]))\n",
    "ns_mean = tensor([0.,10.1,3.1])\n",
    "ns_std = tensor([1.,1.1,0.1])\n",
    "x,x.shape"
   ]
  },
  {
   "cell_type": "code",
   "execution_count": null,
   "metadata": {},
   "outputs": [
    {
     "data": {
      "text/plain": [
       "tensor([[ 1.,  1.,  1.],\n",
       "        [-1., -1., -1.]])"
      ]
     },
     "execution_count": null,
     "metadata": {},
     "output_type": "execute_result"
    }
   ],
   "source": [
    "seq_noise = SeqNoiseInjection(std=ns_std,mean=ns_std)\n",
    "seq_noise(x)"
   ]
  },
  {
   "cell_type": "code",
   "execution_count": null,
   "metadata": {},
   "outputs": [
    {
     "data": {
      "text/plain": [
       "tensor([[ 1.,  1.,  1.],\n",
       "        [-1., -1., -1.]])"
      ]
     },
     "execution_count": null,
     "metadata": {},
     "output_type": "execute_result"
    }
   ],
   "source": [
    "seq_noise = SeqNoiseInjection(std=ns_std*10)\n",
    "seq_noise(x)"
   ]
  },
  {
   "cell_type": "markdown",
   "metadata": {},
   "source": [
    "### 3.3 Normalization\n",
    "`Normalize` is programmed for `TensorImage` as an input tensor. It gets. At init the variable axes need to be chosen correspondingly to the shape of your tensor."
   ]
  },
  {
   "cell_type": "code",
   "execution_count": null,
   "metadata": {},
   "outputs": [],
   "source": [
    "#export\n",
    "@Normalize\n",
    "def encodes(self, x:TensorSequencesInput): \n",
    "    return (x-self.mean) / self.std\n",
    "\n",
    "@Normalize\n",
    "def decodes(self, x:TensorSequencesInput):\n",
    "    f = to_cpu if x.device.type=='cpu' else noop\n",
    "    return (x*f(self.std) + f(self.mean))"
   ]
  },
  {
   "cell_type": "code",
   "execution_count": null,
   "metadata": {},
   "outputs": [
    {
     "data": {
      "text/plain": [
       "(tensor([[ 1.,  1.,  1.],\n",
       "         [-1., -1., -1.]]), tensor([[  1.0000,  -8.2727, -21.0000],\n",
       "         [ -1.0000, -10.0909, -41.0000]]))"
      ]
     },
     "execution_count": null,
     "metadata": {},
     "output_type": "execute_result"
    }
   ],
   "source": [
    "norm = Normalize.from_stats(mean=ns_mean,std=ns_std,dim=1,ndim=2,cuda=False)\n",
    "x,norm(x)"
   ]
  },
  {
   "cell_type": "markdown",
   "metadata": {},
   "source": [
    "## 4. Split in Training, Validation\n",
    "Splitting kann anhand von vorher bekannten Indizes, dem Dateipfad oder anderen allgemeinen Funktion durchgeführt werden.\n",
    "\n",
    "Splitting innerhalb einer Sequenzen sollte in der Praxis nur dann geschehen wenn eine einzige Sequenz vorhanden ist. Diese kann dann vorher manuell geteilt werden.\n"
   ]
  },
  {
   "cell_type": "markdown",
   "metadata": {},
   "source": [
    "### 4.1 Splitting mit vorgegebenem Index"
   ]
  },
  {
   "cell_type": "code",
   "execution_count": null,
   "metadata": {},
   "outputs": [],
   "source": [
    "splitter = IndexSplitter([1,2])\n",
    "test_eq(splitter(hdf_files),[[0],[1,2]])"
   ]
  },
  {
   "cell_type": "markdown",
   "metadata": {},
   "source": [
    "### 4.2 Splitting mit allgemeiner Funktion\n",
    "Items, bei denen die definierte Funktion `True` zurück gibt, werden den Validierungsdatensatz zugeordnet, der Rest dem Training. In diesem Fall wird nach dem Übergeordneten Ordnernamen gesucht."
   ]
  },
  {
   "cell_type": "code",
   "execution_count": null,
   "metadata": {},
   "outputs": [],
   "source": [
    "splitter = FuncSplitter(lambda o: Path(o).parent.name == 'valid')\n",
    "test_eq(splitter(hdf_files),[[0,1],[2]])"
   ]
  },
  {
   "cell_type": "markdown",
   "metadata": {},
   "source": [
    "### 4.3 Splitting anhand des Parent-Folders\n",
    "Splitter, der Explizit Training und Validierungsordner den Datensätzen zuordnet"
   ]
  },
  {
   "cell_type": "code",
   "execution_count": null,
   "metadata": {},
   "outputs": [],
   "source": [
    "#export\n",
    "def _parent_idxs(items, name): return mask2idxs(Path(o).parent.name == name for o in items)\n",
    "\n",
    "def ParentSplitter(train_name='train', valid_name='valid'):\n",
    "    \"Split `items` from the parent folder names (`train_name` and `valid_name`).\"\n",
    "    def _inner(o, **kwargs):\n",
    "        return _parent_idxs(o, train_name),_parent_idxs(o, valid_name)\n",
    "    return _inner"
   ]
  },
  {
   "cell_type": "code",
   "execution_count": null,
   "metadata": {},
   "outputs": [],
   "source": [
    "splitter = ParentSplitter()\n",
    "test_eq(splitter(hdf_files),[[0,1],[2]])"
   ]
  },
  {
   "cell_type": "markdown",
   "metadata": {},
   "source": [
    "### 4.4 Percentage Splitter"
   ]
  },
  {
   "cell_type": "code",
   "execution_count": null,
   "metadata": {},
   "outputs": [],
   "source": [
    "#export\n",
    "def PercentageSplitter(pct=0.8):\n",
    "    \"Split `items` in order in relative quantity.\"\n",
    "    def _inner(o, **kwargs):\n",
    "        split_idx=int(len(o)*pct)\n",
    "        return L(range(split_idx)),L(range(split_idx,len(o)))\n",
    "    return _inner"
   ]
  },
  {
   "cell_type": "code",
   "execution_count": null,
   "metadata": {},
   "outputs": [],
   "source": [
    "splitter = PercentageSplitter(0.7)\n",
    "test_eq(splitter(hdf_files),[[0,1],[2]])"
   ]
  },
  {
   "cell_type": "markdown",
   "metadata": {},
   "source": [
    "### 4.5 Apply To Dictionary\n",
    "In Case of the Datablock API your items are a list of dictionaries. If you want to apply a Splitter to the path stored within you need a wrapper function."
   ]
  },
  {
   "cell_type": "code",
   "execution_count": null,
   "metadata": {},
   "outputs": [],
   "source": [
    "#export\n",
    "def ApplyToDict(fn,key='path'):\n",
    "    return lambda x:fn([i[key] for i in x])"
   ]
  },
  {
   "cell_type": "markdown",
   "metadata": {},
   "source": [
    "## 5. Dataloaders Creation\n",
    "A Datasets combines all implemented components on item level."
   ]
  },
  {
   "cell_type": "code",
   "execution_count": null,
   "metadata": {},
   "outputs": [],
   "source": [
    "#export\n",
    "def pad_sequence(batch):\n",
    "    '''collate_fn for padding of sequences of different lengths, use in before_batch of databunch, still quite slow'''\n",
    "    #takes list of tuples as input, returns list of tuples\n",
    "    sorted_batch = sorted(batch, key=lambda x: x[0].shape[0], reverse=True)\n",
    "\n",
    "    pad_func = partial(torch.nn.utils.rnn.pad_sequence,batch_first=True)\n",
    "    padded_tensors = [pad_func([x[tup] for x in sorted_batch]) for tup in range(len(batch[0]))]\n",
    "    padded_list = [retain_types(tuple([tup[entry] for tup in padded_tensors]),batch[0]) for entry in range(len(batch))]\n",
    "    #retain types is important for decoding later back to source items\n",
    "#     import pdb; pdb.set_trace()\n",
    "    \n",
    "    return padded_list"
   ]
  },
  {
   "cell_type": "markdown",
   "metadata": {},
   "source": [
    "### 5.1 Low-Level with Transforms"
   ]
  },
  {
   "cell_type": "code",
   "execution_count": null,
   "metadata": {},
   "outputs": [],
   "source": [
    "tfms=[  [HDF2Sequence(['current','voltage']),SeqSlice(l_slc=1),toTensorSequencesInput],\n",
    "        [HDF2Sequence(['voltage']),SeqSlice(r_slc=-1),toTensorSequencesOutput]]\n",
    "splits = splitter([x['path'] for x in src_dicts])\n",
    "dsrc = Datasets(src_dicts,tfms=tfms,splits=splits)"
   ]
  },
  {
   "cell_type": "code",
   "execution_count": null,
   "metadata": {},
   "outputs": [],
   "source": [
    "# %%timeit\n",
    "# dsrc[0]"
   ]
  },
  {
   "cell_type": "code",
   "execution_count": null,
   "metadata": {},
   "outputs": [
    {
     "data": {
      "text/plain": [
       "torch.Size([128, 100, 2])"
      ]
     },
     "execution_count": null,
     "metadata": {},
     "output_type": "execute_result"
    }
   ],
   "source": [
    "db = dsrc.dataloaders(bs=128,after_batch=[SeqNoiseInjection(std=[1.1,0.01]),Normalize(axes=[0,1])],before_batch=pad_sequence)\n",
    "db.one_batch()[0].shape"
   ]
  },
  {
   "cell_type": "markdown",
   "metadata": {},
   "source": [
    "### 5.2 Mid-Level with Datablock API"
   ]
  },
  {
   "cell_type": "code",
   "execution_count": null,
   "metadata": {},
   "outputs": [],
   "source": [
    "#export\n",
    "class SequenceBlock(TransformBlock):\n",
    "    def __init__(self, seq_extract,padding=False):\n",
    "        return super().__init__(type_tfms=[seq_extract],\n",
    "                                batch_tfms=[Normalize(axes=[0,1])],\n",
    "                                dls_kwargs={} if not padding else {'before_batch': pad_sequence})\n",
    "\n",
    "    @classmethod\n",
    "    @delegates(HDF2Sequence, keep=True)\n",
    "    def from_hdf(cls, clm_names, seq_cls=TensorSequencesInput,padding=False, **kwargs):\n",
    "        return cls(HDF2Sequence(clm_names,to_cls=seq_cls,**kwargs), padding)\n"
   ]
  },
  {
   "cell_type": "code",
   "execution_count": null,
   "metadata": {},
   "outputs": [],
   "source": [
    "seq = DataBlock(blocks=(SequenceBlock.from_hdf(['current','voltage'],TensorSequencesInput,padding=True,cached=False),\n",
    "                        SequenceBlock.from_hdf(['voltage'],TensorSequencesOutput,cached=False)),\n",
    "                get_items=tfm_src,\n",
    "                splitter=ApplyToDict(ParentSplitter()))"
   ]
  },
  {
   "cell_type": "code",
   "execution_count": null,
   "metadata": {},
   "outputs": [],
   "source": [
    "db = seq.dataloaders(hdf_files)"
   ]
  },
  {
   "cell_type": "code",
   "execution_count": null,
   "metadata": {},
   "outputs": [],
   "source": [
    "# _ = pickle.dumps(db)"
   ]
  },
  {
   "cell_type": "markdown",
   "metadata": {},
   "source": [
    "### 5.3 High-Level with SequenceDataloaders"
   ]
  },
  {
   "cell_type": "code",
   "execution_count": null,
   "metadata": {},
   "outputs": [],
   "source": [
    "#export\n",
    "from torch.utils.data import Dataset,ConcatDataset\n",
    "class Seq2SeqDS(Dataset):\n",
    "    #Datensatz aus HDF5 Datei \n",
    "\n",
    "    def __init__(self, hdf_file, u_clms,y_clms, win_sz,stp_sz):\n",
    "        super().__init__()\n",
    "        store_attr(self,'u_clms,y_clms,win_sz,stp_sz')\n",
    "        \n",
    "        self.u = hdf_extract_sequence(hdf_file,u_clms)\n",
    "        self.y = hdf_extract_sequence(hdf_file,y_clms)\n",
    "        \n",
    "#         if clm_shift is not None:\n",
    "#             assert len(clm_shift[0])==len(u_clms) and len(clm_shift[1])==len(y_clms)\n",
    "#             l_shift,r_shift,dim_red = calc_shift_offsets(clm_shift)\n",
    "        \n",
    "        self.len = (self.u.shape[0]-self.win_sz)//self.stp_sz or 1\n",
    "\n",
    "    def __len__(self):\n",
    "        return self.len\n",
    "\n",
    "    def __getitem__(self, idx):\n",
    "        if not (0 <= idx < len(self)): raise IndexError\n",
    "#         import pdb; pdb.set_trace()\n",
    "        i = idx*self.stp_sz + self.win_sz\n",
    "        return (TensorSequencesInput(self.u[(i-self.win_sz+1):i+1]),\n",
    "                TensorSequencesOutput(self.y[(i-self.win_sz+1):i+1]))"
   ]
  },
  {
   "cell_type": "code",
   "execution_count": null,
   "metadata": {},
   "outputs": [],
   "source": [
    "#export\n",
    "@delegates(TfmdDL, keep=True)\n",
    "def Seq2SeqDataloaders(items,u_clms,y_clms, win_sz,stp_sz=1,splitter=None,**kwargs):\n",
    "    if splitter is None:\n",
    "        lst_items = [items]\n",
    "    else:\n",
    "        lst_items = [items[idx] for idx in splitter(items)]\n",
    "        \n",
    "    dss = [ConcatDataset([Seq2SeqDS(f,u_clms,y_clms, win_sz,stp_sz) for f in itms])\n",
    "          for itms in lst_items]\n",
    "    if not 'after_batch' in kwargs: kwargs['after_batch'] = [to_device,Normalize(axes=[0,1])]\n",
    "    \n",
    "    dls = [TfmdDL(ds,shuffle=(i == 0),**kwargs) for i,ds in enumerate(dss)]\n",
    "    return DataLoaders(*dls)"
   ]
  },
  {
   "cell_type": "code",
   "execution_count": null,
   "metadata": {},
   "outputs": [],
   "source": [
    "dls=Seq2SeqDataloaders(hdf_files,['current','voltage'],['voltage'],100,10,\n",
    "                       splitter=ParentSplitter())"
   ]
  },
  {
   "cell_type": "markdown",
   "metadata": {},
   "source": [
    "## 6. Show Batches and Results"
   ]
  },
  {
   "cell_type": "code",
   "execution_count": null,
   "metadata": {},
   "outputs": [],
   "source": [
    "#export\n",
    "def plot_seqs_single_figure(n_samples,samples,outs=None):\n",
    "    rows=max(1,((n_samples-1) // 3)+1)\n",
    "    cols=min(3,n_samples)\n",
    "    fig = plt.figure(figsize=(9,2*cols))\n",
    "    outer_grid = fig.add_gridspec(rows, cols)\n",
    "#     import pdb; pdb.set_trace()\n",
    "    n_targ = samples[0][1].shape[1]\n",
    "    for i in range(n_samples):\n",
    "        in_signals = samples[i][0]\n",
    "        targ_signals = samples[i][1]\n",
    "        if outs is not None: out_signals = outs[i][0]\n",
    "        inner_grid = outer_grid[i].subgridspec(n_targ+1, 1)\n",
    "        for j in range(n_targ):\n",
    "            ax = fig.add_subplot(inner_grid[j])\n",
    "            ax.plot(targ_signals[:,j])\n",
    "            if outs is not None: ax.plot(out_signals[:,j])\n",
    "            ax.label_outer()\n",
    "\n",
    "        ax = fig.add_subplot(inner_grid[n_targ])\n",
    "        ax.plot(in_signals)\n",
    "    plt.tight_layout()"
   ]
  },
  {
   "cell_type": "code",
   "execution_count": null,
   "metadata": {},
   "outputs": [],
   "source": [
    "#export\n",
    "def plot_seqs_multi_figures(n_samples,samples,outs=None):\n",
    "    n_targ = samples[0][1].shape[1]\n",
    "    for i in range(n_samples):\n",
    "        fig = plt.figure(figsize=(9,3))\n",
    "        axs = fig.subplots(nrows=n_targ+1,sharex=True)\n",
    "        in_signals = samples[i][0]\n",
    "        targ_signals = samples[i][1]\n",
    "        if outs is not None:  out_signals = outs[i][0]\n",
    "        for j in range(n_targ):\n",
    "            ax = axs[j]\n",
    "            ax.plot(targ_signals[:,j])\n",
    "            if outs is not None:   ax.plot(out_signals[:,j])\n",
    "\n",
    "        axs[-1].plot(in_signals)\n",
    "        plt.tight_layout()"
   ]
  },
  {
   "cell_type": "code",
   "execution_count": null,
   "metadata": {},
   "outputs": [],
   "source": [
    "#export\n",
    "@typedispatch\n",
    "def show_batch(x:TensorSequences, y:TensorSequences, samples, ctxs=None, max_n=6, **kwargs):\n",
    "    n_samples = min(len(samples), max_n)\n",
    "    if n_samples > 3:\n",
    "        #if there are more then 3 samples to plot then put them in a single figure\n",
    "        plot_seqs_single_figure(n_samples,samples)\n",
    "    else:\n",
    "        #if there are less then 3 samples to plot then put each in its own figure\n",
    "        plot_seqs_multi_figures(n_samples,samples)\n",
    "    return ctxs"
   ]
  },
  {
   "cell_type": "code",
   "execution_count": null,
   "metadata": {},
   "outputs": [
    {
     "data": {
      "application/javascript": [
       "/* Put everything inside the global mpl namespace */\n",
       "window.mpl = {};\n",
       "\n",
       "\n",
       "mpl.get_websocket_type = function() {\n",
       "    if (typeof(WebSocket) !== 'undefined') {\n",
       "        return WebSocket;\n",
       "    } else if (typeof(MozWebSocket) !== 'undefined') {\n",
       "        return MozWebSocket;\n",
       "    } else {\n",
       "        alert('Your browser does not have WebSocket support. ' +\n",
       "              'Please try Chrome, Safari or Firefox ≥ 6. ' +\n",
       "              'Firefox 4 and 5 are also supported but you ' +\n",
       "              'have to enable WebSockets in about:config.');\n",
       "    };\n",
       "}\n",
       "\n",
       "mpl.figure = function(figure_id, websocket, ondownload, parent_element) {\n",
       "    this.id = figure_id;\n",
       "\n",
       "    this.ws = websocket;\n",
       "\n",
       "    this.supports_binary = (this.ws.binaryType != undefined);\n",
       "\n",
       "    if (!this.supports_binary) {\n",
       "        var warnings = document.getElementById(\"mpl-warnings\");\n",
       "        if (warnings) {\n",
       "            warnings.style.display = 'block';\n",
       "            warnings.textContent = (\n",
       "                \"This browser does not support binary websocket messages. \" +\n",
       "                    \"Performance may be slow.\");\n",
       "        }\n",
       "    }\n",
       "\n",
       "    this.imageObj = new Image();\n",
       "\n",
       "    this.context = undefined;\n",
       "    this.message = undefined;\n",
       "    this.canvas = undefined;\n",
       "    this.rubberband_canvas = undefined;\n",
       "    this.rubberband_context = undefined;\n",
       "    this.format_dropdown = undefined;\n",
       "\n",
       "    this.image_mode = 'full';\n",
       "\n",
       "    this.root = $('<div/>');\n",
       "    this._root_extra_style(this.root)\n",
       "    this.root.attr('style', 'display: inline-block');\n",
       "\n",
       "    $(parent_element).append(this.root);\n",
       "\n",
       "    this._init_header(this);\n",
       "    this._init_canvas(this);\n",
       "    this._init_toolbar(this);\n",
       "\n",
       "    var fig = this;\n",
       "\n",
       "    this.waiting = false;\n",
       "\n",
       "    this.ws.onopen =  function () {\n",
       "            fig.send_message(\"supports_binary\", {value: fig.supports_binary});\n",
       "            fig.send_message(\"send_image_mode\", {});\n",
       "            if (mpl.ratio != 1) {\n",
       "                fig.send_message(\"set_dpi_ratio\", {'dpi_ratio': mpl.ratio});\n",
       "            }\n",
       "            fig.send_message(\"refresh\", {});\n",
       "        }\n",
       "\n",
       "    this.imageObj.onload = function() {\n",
       "            if (fig.image_mode == 'full') {\n",
       "                // Full images could contain transparency (where diff images\n",
       "                // almost always do), so we need to clear the canvas so that\n",
       "                // there is no ghosting.\n",
       "                fig.context.clearRect(0, 0, fig.canvas.width, fig.canvas.height);\n",
       "            }\n",
       "            fig.context.drawImage(fig.imageObj, 0, 0);\n",
       "        };\n",
       "\n",
       "    this.imageObj.onunload = function() {\n",
       "        fig.ws.close();\n",
       "    }\n",
       "\n",
       "    this.ws.onmessage = this._make_on_message_function(this);\n",
       "\n",
       "    this.ondownload = ondownload;\n",
       "}\n",
       "\n",
       "mpl.figure.prototype._init_header = function() {\n",
       "    var titlebar = $(\n",
       "        '<div class=\"ui-dialog-titlebar ui-widget-header ui-corner-all ' +\n",
       "        'ui-helper-clearfix\"/>');\n",
       "    var titletext = $(\n",
       "        '<div class=\"ui-dialog-title\" style=\"width: 100%; ' +\n",
       "        'text-align: center; padding: 3px;\"/>');\n",
       "    titlebar.append(titletext)\n",
       "    this.root.append(titlebar);\n",
       "    this.header = titletext[0];\n",
       "}\n",
       "\n",
       "\n",
       "\n",
       "mpl.figure.prototype._canvas_extra_style = function(canvas_div) {\n",
       "\n",
       "}\n",
       "\n",
       "\n",
       "mpl.figure.prototype._root_extra_style = function(canvas_div) {\n",
       "\n",
       "}\n",
       "\n",
       "mpl.figure.prototype._init_canvas = function() {\n",
       "    var fig = this;\n",
       "\n",
       "    var canvas_div = $('<div/>');\n",
       "\n",
       "    canvas_div.attr('style', 'position: relative; clear: both; outline: 0');\n",
       "\n",
       "    function canvas_keyboard_event(event) {\n",
       "        return fig.key_event(event, event['data']);\n",
       "    }\n",
       "\n",
       "    canvas_div.keydown('key_press', canvas_keyboard_event);\n",
       "    canvas_div.keyup('key_release', canvas_keyboard_event);\n",
       "    this.canvas_div = canvas_div\n",
       "    this._canvas_extra_style(canvas_div)\n",
       "    this.root.append(canvas_div);\n",
       "\n",
       "    var canvas = $('<canvas/>');\n",
       "    canvas.addClass('mpl-canvas');\n",
       "    canvas.attr('style', \"left: 0; top: 0; z-index: 0; outline: 0\")\n",
       "\n",
       "    this.canvas = canvas[0];\n",
       "    this.context = canvas[0].getContext(\"2d\");\n",
       "\n",
       "    var backingStore = this.context.backingStorePixelRatio ||\n",
       "\tthis.context.webkitBackingStorePixelRatio ||\n",
       "\tthis.context.mozBackingStorePixelRatio ||\n",
       "\tthis.context.msBackingStorePixelRatio ||\n",
       "\tthis.context.oBackingStorePixelRatio ||\n",
       "\tthis.context.backingStorePixelRatio || 1;\n",
       "\n",
       "    mpl.ratio = (window.devicePixelRatio || 1) / backingStore;\n",
       "\n",
       "    var rubberband = $('<canvas/>');\n",
       "    rubberband.attr('style', \"position: absolute; left: 0; top: 0; z-index: 1;\")\n",
       "\n",
       "    var pass_mouse_events = true;\n",
       "\n",
       "    canvas_div.resizable({\n",
       "        start: function(event, ui) {\n",
       "            pass_mouse_events = false;\n",
       "        },\n",
       "        resize: function(event, ui) {\n",
       "            fig.request_resize(ui.size.width, ui.size.height);\n",
       "        },\n",
       "        stop: function(event, ui) {\n",
       "            pass_mouse_events = true;\n",
       "            fig.request_resize(ui.size.width, ui.size.height);\n",
       "        },\n",
       "    });\n",
       "\n",
       "    function mouse_event_fn(event) {\n",
       "        if (pass_mouse_events)\n",
       "            return fig.mouse_event(event, event['data']);\n",
       "    }\n",
       "\n",
       "    rubberband.mousedown('button_press', mouse_event_fn);\n",
       "    rubberband.mouseup('button_release', mouse_event_fn);\n",
       "    // Throttle sequential mouse events to 1 every 20ms.\n",
       "    rubberband.mousemove('motion_notify', mouse_event_fn);\n",
       "\n",
       "    rubberband.mouseenter('figure_enter', mouse_event_fn);\n",
       "    rubberband.mouseleave('figure_leave', mouse_event_fn);\n",
       "\n",
       "    canvas_div.on(\"wheel\", function (event) {\n",
       "        event = event.originalEvent;\n",
       "        event['data'] = 'scroll'\n",
       "        if (event.deltaY < 0) {\n",
       "            event.step = 1;\n",
       "        } else {\n",
       "            event.step = -1;\n",
       "        }\n",
       "        mouse_event_fn(event);\n",
       "    });\n",
       "\n",
       "    canvas_div.append(canvas);\n",
       "    canvas_div.append(rubberband);\n",
       "\n",
       "    this.rubberband = rubberband;\n",
       "    this.rubberband_canvas = rubberband[0];\n",
       "    this.rubberband_context = rubberband[0].getContext(\"2d\");\n",
       "    this.rubberband_context.strokeStyle = \"#000000\";\n",
       "\n",
       "    this._resize_canvas = function(width, height) {\n",
       "        // Keep the size of the canvas, canvas container, and rubber band\n",
       "        // canvas in synch.\n",
       "        canvas_div.css('width', width)\n",
       "        canvas_div.css('height', height)\n",
       "\n",
       "        canvas.attr('width', width * mpl.ratio);\n",
       "        canvas.attr('height', height * mpl.ratio);\n",
       "        canvas.attr('style', 'width: ' + width + 'px; height: ' + height + 'px;');\n",
       "\n",
       "        rubberband.attr('width', width);\n",
       "        rubberband.attr('height', height);\n",
       "    }\n",
       "\n",
       "    // Set the figure to an initial 600x600px, this will subsequently be updated\n",
       "    // upon first draw.\n",
       "    this._resize_canvas(600, 600);\n",
       "\n",
       "    // Disable right mouse context menu.\n",
       "    $(this.rubberband_canvas).bind(\"contextmenu\",function(e){\n",
       "        return false;\n",
       "    });\n",
       "\n",
       "    function set_focus () {\n",
       "        canvas.focus();\n",
       "        canvas_div.focus();\n",
       "    }\n",
       "\n",
       "    window.setTimeout(set_focus, 100);\n",
       "}\n",
       "\n",
       "mpl.figure.prototype._init_toolbar = function() {\n",
       "    var fig = this;\n",
       "\n",
       "    var nav_element = $('<div/>');\n",
       "    nav_element.attr('style', 'width: 100%');\n",
       "    this.root.append(nav_element);\n",
       "\n",
       "    // Define a callback function for later on.\n",
       "    function toolbar_event(event) {\n",
       "        return fig.toolbar_button_onclick(event['data']);\n",
       "    }\n",
       "    function toolbar_mouse_event(event) {\n",
       "        return fig.toolbar_button_onmouseover(event['data']);\n",
       "    }\n",
       "\n",
       "    for(var toolbar_ind in mpl.toolbar_items) {\n",
       "        var name = mpl.toolbar_items[toolbar_ind][0];\n",
       "        var tooltip = mpl.toolbar_items[toolbar_ind][1];\n",
       "        var image = mpl.toolbar_items[toolbar_ind][2];\n",
       "        var method_name = mpl.toolbar_items[toolbar_ind][3];\n",
       "\n",
       "        if (!name) {\n",
       "            // put a spacer in here.\n",
       "            continue;\n",
       "        }\n",
       "        var button = $('<button/>');\n",
       "        button.addClass('ui-button ui-widget ui-state-default ui-corner-all ' +\n",
       "                        'ui-button-icon-only');\n",
       "        button.attr('role', 'button');\n",
       "        button.attr('aria-disabled', 'false');\n",
       "        button.click(method_name, toolbar_event);\n",
       "        button.mouseover(tooltip, toolbar_mouse_event);\n",
       "\n",
       "        var icon_img = $('<span/>');\n",
       "        icon_img.addClass('ui-button-icon-primary ui-icon');\n",
       "        icon_img.addClass(image);\n",
       "        icon_img.addClass('ui-corner-all');\n",
       "\n",
       "        var tooltip_span = $('<span/>');\n",
       "        tooltip_span.addClass('ui-button-text');\n",
       "        tooltip_span.html(tooltip);\n",
       "\n",
       "        button.append(icon_img);\n",
       "        button.append(tooltip_span);\n",
       "\n",
       "        nav_element.append(button);\n",
       "    }\n",
       "\n",
       "    var fmt_picker_span = $('<span/>');\n",
       "\n",
       "    var fmt_picker = $('<select/>');\n",
       "    fmt_picker.addClass('mpl-toolbar-option ui-widget ui-widget-content');\n",
       "    fmt_picker_span.append(fmt_picker);\n",
       "    nav_element.append(fmt_picker_span);\n",
       "    this.format_dropdown = fmt_picker[0];\n",
       "\n",
       "    for (var ind in mpl.extensions) {\n",
       "        var fmt = mpl.extensions[ind];\n",
       "        var option = $(\n",
       "            '<option/>', {selected: fmt === mpl.default_extension}).html(fmt);\n",
       "        fmt_picker.append(option);\n",
       "    }\n",
       "\n",
       "    // Add hover states to the ui-buttons\n",
       "    $( \".ui-button\" ).hover(\n",
       "        function() { $(this).addClass(\"ui-state-hover\");},\n",
       "        function() { $(this).removeClass(\"ui-state-hover\");}\n",
       "    );\n",
       "\n",
       "    var status_bar = $('<span class=\"mpl-message\"/>');\n",
       "    nav_element.append(status_bar);\n",
       "    this.message = status_bar[0];\n",
       "}\n",
       "\n",
       "mpl.figure.prototype.request_resize = function(x_pixels, y_pixels) {\n",
       "    // Request matplotlib to resize the figure. Matplotlib will then trigger a resize in the client,\n",
       "    // which will in turn request a refresh of the image.\n",
       "    this.send_message('resize', {'width': x_pixels, 'height': y_pixels});\n",
       "}\n",
       "\n",
       "mpl.figure.prototype.send_message = function(type, properties) {\n",
       "    properties['type'] = type;\n",
       "    properties['figure_id'] = this.id;\n",
       "    this.ws.send(JSON.stringify(properties));\n",
       "}\n",
       "\n",
       "mpl.figure.prototype.send_draw_message = function() {\n",
       "    if (!this.waiting) {\n",
       "        this.waiting = true;\n",
       "        this.ws.send(JSON.stringify({type: \"draw\", figure_id: this.id}));\n",
       "    }\n",
       "}\n",
       "\n",
       "\n",
       "mpl.figure.prototype.handle_save = function(fig, msg) {\n",
       "    var format_dropdown = fig.format_dropdown;\n",
       "    var format = format_dropdown.options[format_dropdown.selectedIndex].value;\n",
       "    fig.ondownload(fig, format);\n",
       "}\n",
       "\n",
       "\n",
       "mpl.figure.prototype.handle_resize = function(fig, msg) {\n",
       "    var size = msg['size'];\n",
       "    if (size[0] != fig.canvas.width || size[1] != fig.canvas.height) {\n",
       "        fig._resize_canvas(size[0], size[1]);\n",
       "        fig.send_message(\"refresh\", {});\n",
       "    };\n",
       "}\n",
       "\n",
       "mpl.figure.prototype.handle_rubberband = function(fig, msg) {\n",
       "    var x0 = msg['x0'] / mpl.ratio;\n",
       "    var y0 = (fig.canvas.height - msg['y0']) / mpl.ratio;\n",
       "    var x1 = msg['x1'] / mpl.ratio;\n",
       "    var y1 = (fig.canvas.height - msg['y1']) / mpl.ratio;\n",
       "    x0 = Math.floor(x0) + 0.5;\n",
       "    y0 = Math.floor(y0) + 0.5;\n",
       "    x1 = Math.floor(x1) + 0.5;\n",
       "    y1 = Math.floor(y1) + 0.5;\n",
       "    var min_x = Math.min(x0, x1);\n",
       "    var min_y = Math.min(y0, y1);\n",
       "    var width = Math.abs(x1 - x0);\n",
       "    var height = Math.abs(y1 - y0);\n",
       "\n",
       "    fig.rubberband_context.clearRect(\n",
       "        0, 0, fig.canvas.width / mpl.ratio, fig.canvas.height / mpl.ratio);\n",
       "\n",
       "    fig.rubberband_context.strokeRect(min_x, min_y, width, height);\n",
       "}\n",
       "\n",
       "mpl.figure.prototype.handle_figure_label = function(fig, msg) {\n",
       "    // Updates the figure title.\n",
       "    fig.header.textContent = msg['label'];\n",
       "}\n",
       "\n",
       "mpl.figure.prototype.handle_cursor = function(fig, msg) {\n",
       "    var cursor = msg['cursor'];\n",
       "    switch(cursor)\n",
       "    {\n",
       "    case 0:\n",
       "        cursor = 'pointer';\n",
       "        break;\n",
       "    case 1:\n",
       "        cursor = 'default';\n",
       "        break;\n",
       "    case 2:\n",
       "        cursor = 'crosshair';\n",
       "        break;\n",
       "    case 3:\n",
       "        cursor = 'move';\n",
       "        break;\n",
       "    }\n",
       "    fig.rubberband_canvas.style.cursor = cursor;\n",
       "}\n",
       "\n",
       "mpl.figure.prototype.handle_message = function(fig, msg) {\n",
       "    fig.message.textContent = msg['message'];\n",
       "}\n",
       "\n",
       "mpl.figure.prototype.handle_draw = function(fig, msg) {\n",
       "    // Request the server to send over a new figure.\n",
       "    fig.send_draw_message();\n",
       "}\n",
       "\n",
       "mpl.figure.prototype.handle_image_mode = function(fig, msg) {\n",
       "    fig.image_mode = msg['mode'];\n",
       "}\n",
       "\n",
       "mpl.figure.prototype.updated_canvas_event = function() {\n",
       "    // Called whenever the canvas gets updated.\n",
       "    this.send_message(\"ack\", {});\n",
       "}\n",
       "\n",
       "// A function to construct a web socket function for onmessage handling.\n",
       "// Called in the figure constructor.\n",
       "mpl.figure.prototype._make_on_message_function = function(fig) {\n",
       "    return function socket_on_message(evt) {\n",
       "        if (evt.data instanceof Blob) {\n",
       "            /* FIXME: We get \"Resource interpreted as Image but\n",
       "             * transferred with MIME type text/plain:\" errors on\n",
       "             * Chrome.  But how to set the MIME type?  It doesn't seem\n",
       "             * to be part of the websocket stream */\n",
       "            evt.data.type = \"image/png\";\n",
       "\n",
       "            /* Free the memory for the previous frames */\n",
       "            if (fig.imageObj.src) {\n",
       "                (window.URL || window.webkitURL).revokeObjectURL(\n",
       "                    fig.imageObj.src);\n",
       "            }\n",
       "\n",
       "            fig.imageObj.src = (window.URL || window.webkitURL).createObjectURL(\n",
       "                evt.data);\n",
       "            fig.updated_canvas_event();\n",
       "            fig.waiting = false;\n",
       "            return;\n",
       "        }\n",
       "        else if (typeof evt.data === 'string' && evt.data.slice(0, 21) == \"data:image/png;base64\") {\n",
       "            fig.imageObj.src = evt.data;\n",
       "            fig.updated_canvas_event();\n",
       "            fig.waiting = false;\n",
       "            return;\n",
       "        }\n",
       "\n",
       "        var msg = JSON.parse(evt.data);\n",
       "        var msg_type = msg['type'];\n",
       "\n",
       "        // Call the  \"handle_{type}\" callback, which takes\n",
       "        // the figure and JSON message as its only arguments.\n",
       "        try {\n",
       "            var callback = fig[\"handle_\" + msg_type];\n",
       "        } catch (e) {\n",
       "            console.log(\"No handler for the '\" + msg_type + \"' message type: \", msg);\n",
       "            return;\n",
       "        }\n",
       "\n",
       "        if (callback) {\n",
       "            try {\n",
       "                // console.log(\"Handling '\" + msg_type + \"' message: \", msg);\n",
       "                callback(fig, msg);\n",
       "            } catch (e) {\n",
       "                console.log(\"Exception inside the 'handler_\" + msg_type + \"' callback:\", e, e.stack, msg);\n",
       "            }\n",
       "        }\n",
       "    };\n",
       "}\n",
       "\n",
       "// from http://stackoverflow.com/questions/1114465/getting-mouse-location-in-canvas\n",
       "mpl.findpos = function(e) {\n",
       "    //this section is from http://www.quirksmode.org/js/events_properties.html\n",
       "    var targ;\n",
       "    if (!e)\n",
       "        e = window.event;\n",
       "    if (e.target)\n",
       "        targ = e.target;\n",
       "    else if (e.srcElement)\n",
       "        targ = e.srcElement;\n",
       "    if (targ.nodeType == 3) // defeat Safari bug\n",
       "        targ = targ.parentNode;\n",
       "\n",
       "    // jQuery normalizes the pageX and pageY\n",
       "    // pageX,Y are the mouse positions relative to the document\n",
       "    // offset() returns the position of the element relative to the document\n",
       "    var x = e.pageX - $(targ).offset().left;\n",
       "    var y = e.pageY - $(targ).offset().top;\n",
       "\n",
       "    return {\"x\": x, \"y\": y};\n",
       "};\n",
       "\n",
       "/*\n",
       " * return a copy of an object with only non-object keys\n",
       " * we need this to avoid circular references\n",
       " * http://stackoverflow.com/a/24161582/3208463\n",
       " */\n",
       "function simpleKeys (original) {\n",
       "  return Object.keys(original).reduce(function (obj, key) {\n",
       "    if (typeof original[key] !== 'object')\n",
       "        obj[key] = original[key]\n",
       "    return obj;\n",
       "  }, {});\n",
       "}\n",
       "\n",
       "mpl.figure.prototype.mouse_event = function(event, name) {\n",
       "    var canvas_pos = mpl.findpos(event)\n",
       "\n",
       "    if (name === 'button_press')\n",
       "    {\n",
       "        this.canvas.focus();\n",
       "        this.canvas_div.focus();\n",
       "    }\n",
       "\n",
       "    var x = canvas_pos.x * mpl.ratio;\n",
       "    var y = canvas_pos.y * mpl.ratio;\n",
       "\n",
       "    this.send_message(name, {x: x, y: y, button: event.button,\n",
       "                             step: event.step,\n",
       "                             guiEvent: simpleKeys(event)});\n",
       "\n",
       "    /* This prevents the web browser from automatically changing to\n",
       "     * the text insertion cursor when the button is pressed.  We want\n",
       "     * to control all of the cursor setting manually through the\n",
       "     * 'cursor' event from matplotlib */\n",
       "    event.preventDefault();\n",
       "    return false;\n",
       "}\n",
       "\n",
       "mpl.figure.prototype._key_event_extra = function(event, name) {\n",
       "    // Handle any extra behaviour associated with a key event\n",
       "}\n",
       "\n",
       "mpl.figure.prototype.key_event = function(event, name) {\n",
       "\n",
       "    // Prevent repeat events\n",
       "    if (name == 'key_press')\n",
       "    {\n",
       "        if (event.which === this._key)\n",
       "            return;\n",
       "        else\n",
       "            this._key = event.which;\n",
       "    }\n",
       "    if (name == 'key_release')\n",
       "        this._key = null;\n",
       "\n",
       "    var value = '';\n",
       "    if (event.ctrlKey && event.which != 17)\n",
       "        value += \"ctrl+\";\n",
       "    if (event.altKey && event.which != 18)\n",
       "        value += \"alt+\";\n",
       "    if (event.shiftKey && event.which != 16)\n",
       "        value += \"shift+\";\n",
       "\n",
       "    value += 'k';\n",
       "    value += event.which.toString();\n",
       "\n",
       "    this._key_event_extra(event, name);\n",
       "\n",
       "    this.send_message(name, {key: value,\n",
       "                             guiEvent: simpleKeys(event)});\n",
       "    return false;\n",
       "}\n",
       "\n",
       "mpl.figure.prototype.toolbar_button_onclick = function(name) {\n",
       "    if (name == 'download') {\n",
       "        this.handle_save(this, null);\n",
       "    } else {\n",
       "        this.send_message(\"toolbar_button\", {name: name});\n",
       "    }\n",
       "};\n",
       "\n",
       "mpl.figure.prototype.toolbar_button_onmouseover = function(tooltip) {\n",
       "    this.message.textContent = tooltip;\n",
       "};\n",
       "mpl.toolbar_items = [[\"Home\", \"Reset original view\", \"fa fa-home icon-home\", \"home\"], [\"Back\", \"Back to previous view\", \"fa fa-arrow-left icon-arrow-left\", \"back\"], [\"Forward\", \"Forward to next view\", \"fa fa-arrow-right icon-arrow-right\", \"forward\"], [\"\", \"\", \"\", \"\"], [\"Pan\", \"Pan axes with left mouse, zoom with right\", \"fa fa-arrows icon-move\", \"pan\"], [\"Zoom\", \"Zoom to rectangle\", \"fa fa-square-o icon-check-empty\", \"zoom\"], [\"\", \"\", \"\", \"\"], [\"Download\", \"Download plot\", \"fa fa-floppy-o icon-save\", \"download\"]];\n",
       "\n",
       "mpl.extensions = [\"eps\", \"jpeg\", \"pdf\", \"png\", \"ps\", \"raw\", \"svg\", \"tif\"];\n",
       "\n",
       "mpl.default_extension = \"png\";var comm_websocket_adapter = function(comm) {\n",
       "    // Create a \"websocket\"-like object which calls the given IPython comm\n",
       "    // object with the appropriate methods. Currently this is a non binary\n",
       "    // socket, so there is still some room for performance tuning.\n",
       "    var ws = {};\n",
       "\n",
       "    ws.close = function() {\n",
       "        comm.close()\n",
       "    };\n",
       "    ws.send = function(m) {\n",
       "        //console.log('sending', m);\n",
       "        comm.send(m);\n",
       "    };\n",
       "    // Register the callback with on_msg.\n",
       "    comm.on_msg(function(msg) {\n",
       "        //console.log('receiving', msg['content']['data'], msg);\n",
       "        // Pass the mpl event to the overridden (by mpl) onmessage function.\n",
       "        ws.onmessage(msg['content']['data'])\n",
       "    });\n",
       "    return ws;\n",
       "}\n",
       "\n",
       "mpl.mpl_figure_comm = function(comm, msg) {\n",
       "    // This is the function which gets called when the mpl process\n",
       "    // starts-up an IPython Comm through the \"matplotlib\" channel.\n",
       "\n",
       "    var id = msg.content.data.id;\n",
       "    // Get hold of the div created by the display call when the Comm\n",
       "    // socket was opened in Python.\n",
       "    var element = $(\"#\" + id);\n",
       "    var ws_proxy = comm_websocket_adapter(comm)\n",
       "\n",
       "    function ondownload(figure, format) {\n",
       "        window.open(figure.imageObj.src);\n",
       "    }\n",
       "\n",
       "    var fig = new mpl.figure(id, ws_proxy,\n",
       "                           ondownload,\n",
       "                           element.get(0));\n",
       "\n",
       "    // Call onopen now - mpl needs it, as it is assuming we've passed it a real\n",
       "    // web socket which is closed, not our websocket->open comm proxy.\n",
       "    ws_proxy.onopen();\n",
       "\n",
       "    fig.parent_element = element.get(0);\n",
       "    fig.cell_info = mpl.find_output_cell(\"<div id='\" + id + \"'></div>\");\n",
       "    if (!fig.cell_info) {\n",
       "        console.error(\"Failed to find cell for figure\", id, fig);\n",
       "        return;\n",
       "    }\n",
       "\n",
       "    var output_index = fig.cell_info[2]\n",
       "    var cell = fig.cell_info[0];\n",
       "\n",
       "};\n",
       "\n",
       "mpl.figure.prototype.handle_close = function(fig, msg) {\n",
       "    var width = fig.canvas.width/mpl.ratio\n",
       "    fig.root.unbind('remove')\n",
       "\n",
       "    // Update the output cell to use the data from the current canvas.\n",
       "    fig.push_to_output();\n",
       "    var dataURL = fig.canvas.toDataURL();\n",
       "    // Re-enable the keyboard manager in IPython - without this line, in FF,\n",
       "    // the notebook keyboard shortcuts fail.\n",
       "    IPython.keyboard_manager.enable()\n",
       "    $(fig.parent_element).html('<img src=\"' + dataURL + '\" width=\"' + width + '\">');\n",
       "    fig.close_ws(fig, msg);\n",
       "}\n",
       "\n",
       "mpl.figure.prototype.close_ws = function(fig, msg){\n",
       "    fig.send_message('closing', msg);\n",
       "    // fig.ws.close()\n",
       "}\n",
       "\n",
       "mpl.figure.prototype.push_to_output = function(remove_interactive) {\n",
       "    // Turn the data on the canvas into data in the output cell.\n",
       "    var width = this.canvas.width/mpl.ratio\n",
       "    var dataURL = this.canvas.toDataURL();\n",
       "    this.cell_info[1]['text/html'] = '<img src=\"' + dataURL + '\" width=\"' + width + '\">';\n",
       "}\n",
       "\n",
       "mpl.figure.prototype.updated_canvas_event = function() {\n",
       "    // Tell IPython that the notebook contents must change.\n",
       "    IPython.notebook.set_dirty(true);\n",
       "    this.send_message(\"ack\", {});\n",
       "    var fig = this;\n",
       "    // Wait a second, then push the new image to the DOM so\n",
       "    // that it is saved nicely (might be nice to debounce this).\n",
       "    setTimeout(function () { fig.push_to_output() }, 1000);\n",
       "}\n",
       "\n",
       "mpl.figure.prototype._init_toolbar = function() {\n",
       "    var fig = this;\n",
       "\n",
       "    var nav_element = $('<div/>');\n",
       "    nav_element.attr('style', 'width: 100%');\n",
       "    this.root.append(nav_element);\n",
       "\n",
       "    // Define a callback function for later on.\n",
       "    function toolbar_event(event) {\n",
       "        return fig.toolbar_button_onclick(event['data']);\n",
       "    }\n",
       "    function toolbar_mouse_event(event) {\n",
       "        return fig.toolbar_button_onmouseover(event['data']);\n",
       "    }\n",
       "\n",
       "    for(var toolbar_ind in mpl.toolbar_items){\n",
       "        var name = mpl.toolbar_items[toolbar_ind][0];\n",
       "        var tooltip = mpl.toolbar_items[toolbar_ind][1];\n",
       "        var image = mpl.toolbar_items[toolbar_ind][2];\n",
       "        var method_name = mpl.toolbar_items[toolbar_ind][3];\n",
       "\n",
       "        if (!name) { continue; };\n",
       "\n",
       "        var button = $('<button class=\"btn btn-default\" href=\"#\" title=\"' + name + '\"><i class=\"fa ' + image + ' fa-lg\"></i></button>');\n",
       "        button.click(method_name, toolbar_event);\n",
       "        button.mouseover(tooltip, toolbar_mouse_event);\n",
       "        nav_element.append(button);\n",
       "    }\n",
       "\n",
       "    // Add the status bar.\n",
       "    var status_bar = $('<span class=\"mpl-message\" style=\"text-align:right; float: right;\"/>');\n",
       "    nav_element.append(status_bar);\n",
       "    this.message = status_bar[0];\n",
       "\n",
       "    // Add the close button to the window.\n",
       "    var buttongrp = $('<div class=\"btn-group inline pull-right\"></div>');\n",
       "    var button = $('<button class=\"btn btn-mini btn-primary\" href=\"#\" title=\"Stop Interaction\"><i class=\"fa fa-power-off icon-remove icon-large\"></i></button>');\n",
       "    button.click(function (evt) { fig.handle_close(fig, {}); } );\n",
       "    button.mouseover('Stop Interaction', toolbar_mouse_event);\n",
       "    buttongrp.append(button);\n",
       "    var titlebar = this.root.find($('.ui-dialog-titlebar'));\n",
       "    titlebar.prepend(buttongrp);\n",
       "}\n",
       "\n",
       "mpl.figure.prototype._root_extra_style = function(el){\n",
       "    var fig = this\n",
       "    el.on(\"remove\", function(){\n",
       "\tfig.close_ws(fig, {});\n",
       "    });\n",
       "}\n",
       "\n",
       "mpl.figure.prototype._canvas_extra_style = function(el){\n",
       "    // this is important to make the div 'focusable\n",
       "    el.attr('tabindex', 0)\n",
       "    // reach out to IPython and tell the keyboard manager to turn it's self\n",
       "    // off when our div gets focus\n",
       "\n",
       "    // location in version 3\n",
       "    if (IPython.notebook.keyboard_manager) {\n",
       "        IPython.notebook.keyboard_manager.register_events(el);\n",
       "    }\n",
       "    else {\n",
       "        // location in version 2\n",
       "        IPython.keyboard_manager.register_events(el);\n",
       "    }\n",
       "\n",
       "}\n",
       "\n",
       "mpl.figure.prototype._key_event_extra = function(event, name) {\n",
       "    var manager = IPython.notebook.keyboard_manager;\n",
       "    if (!manager)\n",
       "        manager = IPython.keyboard_manager;\n",
       "\n",
       "    // Check for shift+enter\n",
       "    if (event.shiftKey && event.which == 13) {\n",
       "        this.canvas_div.blur();\n",
       "        // select the cell after this one\n",
       "        var index = IPython.notebook.find_cell_index(this.cell_info[0]);\n",
       "        IPython.notebook.select(index + 1);\n",
       "    }\n",
       "}\n",
       "\n",
       "mpl.figure.prototype.handle_save = function(fig, msg) {\n",
       "    fig.ondownload(fig, null);\n",
       "}\n",
       "\n",
       "\n",
       "mpl.find_output_cell = function(html_output) {\n",
       "    // Return the cell and output element which can be found *uniquely* in the notebook.\n",
       "    // Note - this is a bit hacky, but it is done because the \"notebook_saving.Notebook\"\n",
       "    // IPython event is triggered only after the cells have been serialised, which for\n",
       "    // our purposes (turning an active figure into a static one), is too late.\n",
       "    var cells = IPython.notebook.get_cells();\n",
       "    var ncells = cells.length;\n",
       "    for (var i=0; i<ncells; i++) {\n",
       "        var cell = cells[i];\n",
       "        if (cell.cell_type === 'code'){\n",
       "            for (var j=0; j<cell.output_area.outputs.length; j++) {\n",
       "                var data = cell.output_area.outputs[j];\n",
       "                if (data.data) {\n",
       "                    // IPython >= 3 moved mimebundle to data attribute of output\n",
       "                    data = data.data;\n",
       "                }\n",
       "                if (data['text/html'] == html_output) {\n",
       "                    return [cell, data, j];\n",
       "                }\n",
       "            }\n",
       "        }\n",
       "    }\n",
       "}\n",
       "\n",
       "// Register the function which deals with the matplotlib target/channel.\n",
       "// The kernel may be null if the page has been refreshed.\n",
       "if (IPython.notebook.kernel != null) {\n",
       "    IPython.notebook.kernel.comm_manager.register_target('matplotlib', mpl.mpl_figure_comm);\n",
       "}\n"
      ],
      "text/plain": [
       "<IPython.core.display.Javascript object>"
      ]
     },
     "metadata": {},
     "output_type": "display_data"
    },
    {
     "data": {
      "text/html": [
       "<img src=\"data:image/png;base64,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\" width=\"900\">"
      ],
      "text/plain": [
       "<IPython.core.display.HTML object>"
      ]
     },
     "metadata": {},
     "output_type": "display_data"
    }
   ],
   "source": [
    "dls.show_batch(max_n=6)"
   ]
  },
  {
   "cell_type": "code",
   "execution_count": null,
   "metadata": {},
   "outputs": [],
   "source": [
    "#export\n",
    "@typedispatch\n",
    "def show_results(x:TensorSequences, y:TensorSequences, samples, outs, ctxs=None, max_n=2, **kwargs):\n",
    "    n_samples = min(len(samples), max_n)\n",
    "    if n_samples > 3:\n",
    "        #if there are more then 3 samples to plot then put them in a single figure\n",
    "        plot_seqs_single_figure(n_samples,samples,outs)\n",
    "    else:\n",
    "        #if there are less then 3 samples to plot then put each in its own figure\n",
    "        plot_seqs_multi_figures(n_samples,samples,outs)\n",
    "    return ctxs"
   ]
  },
  {
   "cell_type": "code",
   "execution_count": null,
   "metadata": {},
   "outputs": [],
   "source": [
    "#TODO"
   ]
  },
  {
   "cell_type": "code",
   "execution_count": null,
   "metadata": {},
   "outputs": [
    {
     "name": "stdout",
     "output_type": "stream",
     "text": [
      "Converted 00_core.ipynb.\n",
      "Converted 01_model.ipynb.\n",
      "Converted 02_learner.ipynb.\n",
      "Converted 10_performance_test.ipynb.\n",
      "Converted 11_ProDiag.ipynb.\n",
      "Converted 11_TensorQuaternions.ipynb.\n",
      "Converted 93_mdt_benchmark.ipynb.\n",
      "Converted 96_EEG.ipynb.\n",
      "Converted 97_Battery.ipynb.\n",
      "Converted index.ipynb.\n"
     ]
    }
   ],
   "source": [
    "#hide\n",
    "from nbdev.export import *\n",
    "notebook2script()"
   ]
  },
  {
   "cell_type": "code",
   "execution_count": null,
   "metadata": {},
   "outputs": [],
   "source": []
  }
 ],
 "metadata": {
  "kernelspec": {
   "display_name": "Python 3",
   "language": "python",
   "name": "python3"
  }
 },
 "nbformat": 4,
 "nbformat_minor": 2
}
