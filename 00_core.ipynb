{
 "cells": [
  {
   "cell_type": "raw",
   "metadata": {},
   "source": [
    "---\n",
    "description: Corefunctionality for data preparation of sequential data for pytorch,\n",
    "  fastai models\n",
    "output-file: core.html\n",
    "title: Corefunctions\n",
    "\n",
    "---\n",
    "\n"
   ]
  },
  {
   "cell_type": "code",
   "execution_count": null,
   "metadata": {},
   "outputs": [],
   "source": [
    "#| default_exp core\n",
    "#| default_cls_lvl 3"
   ]
  },
  {
   "cell_type": "code",
   "execution_count": null,
   "metadata": {},
   "outputs": [],
   "source": [
    "#| include: false\n",
    "# %load_ext line_profiler\n",
    "%matplotlib widget"
   ]
  },
  {
   "attachments": {},
   "cell_type": "markdown",
   "metadata": {},
   "source": [
    "# Application Structure\n",
    "The data will be extracted and prepared via transforms. Those are grouped in:\n",
    "- Type Transforms: Those extraxt the needed components from the source items, like input sequences or target scalar values. The work on single tensors.\n",
    "- Item Transforms: Those Transforms may work on tuple level and therefore may process relationships between input and output.\n",
    "- Batch Transform: Those transforms work on batch level. They receive batched tensors and may apply lazy transforms like normalization very effeciently.\n",
    "\n",
    "An application example may look like the following:\n",
    "- sourceitems: \n",
    "    - path extraction with hdf5 file endings\n",
    "    - create pandas dataframe with information for type transforms, like slices\n",
    "    - filter items in pandas dataframe\n",
    "- type transforms: \n",
    "    - extract hdf5 input and output sequence\n",
    "    - create windows\n",
    "- item transforms: \n",
    "    - filter sequence by value\n",
    "    - shift output sequence by 1 element\n",
    "- batch transforms: \n",
    "    - noise injection\n",
    "    - normalization\n",
    "    "
   ]
  },
  {
   "cell_type": "code",
   "execution_count": null,
   "metadata": {},
   "outputs": [],
   "source": [
    "#| export\n",
    "from fastai.data.all import *\n",
    "from fastai.vision.augment import RandTransform\n",
    "import h5py"
   ]
  },
  {
   "cell_type": "code",
   "execution_count": null,
   "metadata": {},
   "outputs": [],
   "source": [
    "#| export\n",
    "def obj_in_lst(lst,cls):\n",
    "    '''retrieve first object of type cls from a list'''\n",
    "    return next(o for o in lst if type(o) is cls)"
   ]
  },
  {
   "cell_type": "code",
   "execution_count": null,
   "metadata": {},
   "outputs": [],
   "source": [
    "#| export\n",
    "def count_parameters(model):\n",
    "    '''retrieve number of trainable parameters of a model'''\n",
    "    return sum(p.numel() for p in model.parameters() if p.requires_grad)"
   ]
  },
  {
   "attachments": {},
   "cell_type": "markdown",
   "metadata": {},
   "source": [
    "## 1. Extract Source Items\n",
    "The file paths may be extracted with `get_files` of fastai2. `get_hdf_files` removes the need of writing the hdf5 file extension.\n",
    "\n",
    "Then a pandas dataframe may be created in case further information for the source items need to be stored like slices for the windowing function."
   ]
  },
  {
   "attachments": {},
   "cell_type": "markdown",
   "metadata": {},
   "source": [
    "### 1.1 Extract File Paths"
   ]
  },
  {
   "cell_type": "code",
   "execution_count": null,
   "metadata": {},
   "outputs": [
    {
     "data": {
      "text/plain": [
       "(3,\n",
       " Path('/home/pheenix/Development/seqdata/test_data/battery/train/Sim_RealisticCycle1.hdf5'))"
      ]
     },
     "execution_count": null,
     "metadata": {},
     "output_type": "execute_result"
    }
   ],
   "source": [
    "f_path = Path.cwd() / 'test_data/battery'\n",
    "hdf_files = get_files(f_path,extensions='.hdf5',recurse=True)\n",
    "len(hdf_files),hdf_files[0]"
   ]
  },
  {
   "cell_type": "code",
   "execution_count": null,
   "metadata": {},
   "outputs": [],
   "source": [
    "#| export\n",
    "hdf_extensions = ['.hdf5']\n",
    "def get_hdf_files(path,recurse=True, folders=None):\n",
    "    \"Get hdf5 files in `path` recursively, only in `folders`, if specified.\"\n",
    "    return get_files(path, extensions=hdf_extensions, recurse=recurse, folders=folders)"
   ]
  },
  {
   "cell_type": "code",
   "execution_count": null,
   "metadata": {},
   "outputs": [
    {
     "data": {
      "text/plain": [
       "(3,\n",
       " Path('/home/pheenix/Development/seqdata/test_data/battery/train/Sim_RealisticCycle1.hdf5'))"
      ]
     },
     "execution_count": null,
     "metadata": {},
     "output_type": "execute_result"
    }
   ],
   "source": [
    "hdf_files = get_hdf_files(f_path)\n",
    "len(hdf_files),hdf_files[0]"
   ]
  },
  {
   "attachments": {},
   "cell_type": "markdown",
   "metadata": {},
   "source": [
    "### 1.2 Create Source Dictionaries\n",
    "In order to extract mulitple realizations of one file with different modifications, we create a list of properties. Pandas Dataframes are to slow for iteration but very fast and convenient for creations. So after creation of the pandas Dataframe we convert it to a list of dictionaries."
   ]
  },
  {
   "cell_type": "code",
   "execution_count": null,
   "metadata": {},
   "outputs": [],
   "source": [
    "#| export\n",
    "def apply_df_tfms(src,pd_tfms = None):\n",
    "    '''Create Pandas Dataframe out of a list of items, with a list of df transforms applied'''\n",
    "    if type(src) is pd.DataFrame:\n",
    "        df = src\n",
    "    else:\n",
    "        df = pd.DataFrame(data=src.items,columns=['path'],dtype=str)\n",
    "    if pd_tfms is not None:\n",
    "        for t in pd_tfms:\n",
    "            df = t(df)\n",
    "    return df"
   ]
  },
  {
   "cell_type": "code",
   "execution_count": null,
   "metadata": {},
   "outputs": [
    {
     "data": {
      "text/html": [
       "<div>\n",
       "<style scoped>\n",
       "    .dataframe tbody tr th:only-of-type {\n",
       "        vertical-align: middle;\n",
       "    }\n",
       "\n",
       "    .dataframe tbody tr th {\n",
       "        vertical-align: top;\n",
       "    }\n",
       "\n",
       "    .dataframe thead th {\n",
       "        text-align: right;\n",
       "    }\n",
       "</style>\n",
       "<table border=\"1\" class=\"dataframe\">\n",
       "  <thead>\n",
       "    <tr style=\"text-align: right;\">\n",
       "      <th></th>\n",
       "      <th>path</th>\n",
       "    </tr>\n",
       "  </thead>\n",
       "  <tbody>\n",
       "    <tr>\n",
       "      <th>0</th>\n",
       "      <td>/home/pheenix/Development/seqdata/test_data/battery/train/Sim_RealisticCycle1.hdf5</td>\n",
       "    </tr>\n",
       "    <tr>\n",
       "      <th>1</th>\n",
       "      <td>/home/pheenix/Development/seqdata/test_data/battery/train/Sim_RealisticCycle2.hdf5</td>\n",
       "    </tr>\n",
       "    <tr>\n",
       "      <th>2</th>\n",
       "      <td>/home/pheenix/Development/seqdata/test_data/battery/valid/Sim_RealisticCycle3.hdf5</td>\n",
       "    </tr>\n",
       "  </tbody>\n",
       "</table>\n",
       "</div>"
      ],
      "text/plain": [
       "                                                                                 path\n",
       "0  /home/pheenix/Development/seqdata/test_data/battery/train/Sim_RealisticCycle1.hdf5\n",
       "1  /home/pheenix/Development/seqdata/test_data/battery/train/Sim_RealisticCycle2.hdf5\n",
       "2  /home/pheenix/Development/seqdata/test_data/battery/valid/Sim_RealisticCycle3.hdf5"
      ]
     },
     "execution_count": null,
     "metadata": {},
     "output_type": "execute_result"
    }
   ],
   "source": [
    "df = apply_df_tfms(hdf_files)\n",
    "df.head()"
   ]
  },
  {
   "cell_type": "code",
   "execution_count": null,
   "metadata": {},
   "outputs": [],
   "source": [
    "test_eq(apply_df_tfms(hdf_files),apply_df_tfms(apply_df_tfms(hdf_files)))"
   ]
  },
  {
   "cell_type": "code",
   "execution_count": null,
   "metadata": {},
   "outputs": [],
   "source": [
    "#| export\n",
    "def CreateDict(pd_tfms = None):\n",
    "    '''Create List of Dictionarys out of a list of items, with a list of df transforms applied'''\n",
    "    def _inner(src):\n",
    "        df = apply_df_tfms(src,pd_tfms)\n",
    "#         df_dict_list = df.to_dict(orient='records') native to_dict is slower than self written approach\n",
    "        df_values = df.values\n",
    "        df_dict = {name:list(df_values[:,i]) for (i,name) in enumerate(df.columns)}\n",
    "        df_dict_list = [{name: df_dict[name][i] for name in df_dict} for i in range(len(df))]\n",
    "        return df_dict_list\n",
    "    return _inner"
   ]
  },
  {
   "cell_type": "code",
   "execution_count": null,
   "metadata": {},
   "outputs": [
    {
     "data": {
      "text/plain": [
       "[{'path': '/home/pheenix/Development/seqdata/test_data/battery/train/Sim_RealisticCycle1.hdf5'},\n",
       " {'path': '/home/pheenix/Development/seqdata/test_data/battery/train/Sim_RealisticCycle2.hdf5'},\n",
       " {'path': '/home/pheenix/Development/seqdata/test_data/battery/valid/Sim_RealisticCycle3.hdf5'}]"
      ]
     },
     "execution_count": null,
     "metadata": {},
     "output_type": "execute_result"
    }
   ],
   "source": [
    "l_dict =CreateDict()(hdf_files)\n",
    "l_dict"
   ]
  },
  {
   "cell_type": "code",
   "execution_count": null,
   "metadata": {},
   "outputs": [],
   "source": [
    "#| export\n",
    "def ValidClmContains(lst_valid):\n",
    "    '''add validation column using a list of strings that are part of the validation frames'''\n",
    "    def _inner(df):\n",
    "        re_valid = '|'.join([re.escape(f) for f in lst_valid])\n",
    "        df['valid'] = df.path.str.contains(re_valid)\n",
    "        return df\n",
    "\n",
    "    return _inner"
   ]
  },
  {
   "cell_type": "code",
   "execution_count": null,
   "metadata": {},
   "outputs": [
    {
     "name": "stdout",
     "output_type": "stream",
     "text": [
      "CPU times: user 1.32 ms, sys: 153 µs, total: 1.48 ms\n",
      "Wall time: 1.47 ms\n"
     ]
    },
    {
     "data": {
      "text/plain": [
       "[{'path': '/home/pheenix/Development/seqdata/test_data/battery/train/Sim_RealisticCycle1.hdf5',\n",
       "  'valid': False},\n",
       " {'path': '/home/pheenix/Development/seqdata/test_data/battery/train/Sim_RealisticCycle2.hdf5',\n",
       "  'valid': False},\n",
       " {'path': '/home/pheenix/Development/seqdata/test_data/battery/valid/Sim_RealisticCycle3.hdf5',\n",
       "  'valid': True}]"
      ]
     },
     "execution_count": null,
     "metadata": {},
     "output_type": "execute_result"
    }
   ],
   "source": [
    "%%time\n",
    "lst_valid = ['valid']\n",
    "CreateDict([ValidClmContains(lst_valid)])(hdf_files)"
   ]
  },
  {
   "cell_type": "code",
   "execution_count": null,
   "metadata": {},
   "outputs": [],
   "source": [
    "#| export\n",
    "def ValidClmIs(lst_valid):\n",
    "    '''adds validation column using a list of validation filenames'''\n",
    "    def _inner(df):\n",
    "        df['valid'] = df.path.isin([str(f) for f in lst_valid])\n",
    "        return df\n",
    "\n",
    "    return _inner"
   ]
  },
  {
   "cell_type": "code",
   "execution_count": null,
   "metadata": {},
   "outputs": [
    {
     "name": "stdout",
     "output_type": "stream",
     "text": [
      "CPU times: user 780 µs, sys: 90 µs, total: 870 µs\n",
      "Wall time: 863 µs\n"
     ]
    },
    {
     "data": {
      "text/plain": [
       "[{'path': '/home/pheenix/Development/seqdata/test_data/battery/train/Sim_RealisticCycle1.hdf5',\n",
       "  'valid': False},\n",
       " {'path': '/home/pheenix/Development/seqdata/test_data/battery/train/Sim_RealisticCycle2.hdf5',\n",
       "  'valid': False},\n",
       " {'path': '/home/pheenix/Development/seqdata/test_data/battery/valid/Sim_RealisticCycle3.hdf5',\n",
       "  'valid': False}]"
      ]
     },
     "execution_count": null,
     "metadata": {},
     "output_type": "execute_result"
    }
   ],
   "source": [
    "%%time\n",
    "lst_valid = ['test_data/battery/train/Sim_RealisticCycle2.hdf5','test_data/battery/valid/Sim_RealisticCycle3.hdf5']\n",
    "CreateDict([ValidClmIs(lst_valid)])(hdf_files)"
   ]
  },
  {
   "cell_type": "code",
   "execution_count": null,
   "metadata": {},
   "outputs": [],
   "source": [
    "#| export\n",
    "def FilterClm(clm_name,func = lambda x:x):\n",
    "    '''adds validation column using a list of validation filenames'''\n",
    "    def _inner(df):\n",
    "        return df[func(df[clm_name])]\n",
    "\n",
    "    return _inner"
   ]
  },
  {
   "cell_type": "code",
   "execution_count": null,
   "metadata": {},
   "outputs": [
    {
     "data": {
      "text/plain": [
       "[]"
      ]
     },
     "execution_count": null,
     "metadata": {},
     "output_type": "execute_result"
    }
   ],
   "source": [
    "CreateDict([ValidClmIs(lst_valid),FilterClm('valid')])(hdf_files)"
   ]
  },
  {
   "cell_type": "code",
   "execution_count": null,
   "metadata": {},
   "outputs": [],
   "source": [
    "#| export\n",
    "def get_hdf_seq_len(df,clm,ds=None):\n",
    "    '''extract the sequence length of the dataset with the 'clm' name and 'f_path' path  '''\n",
    "    with h5py.File(df['path'],'r') as f:\n",
    "        ds = f if 'dataset' not in df else f[df['dataset']]\n",
    "        f_len = max(ds[clm].shape)\n",
    "    return f_len "
   ]
  },
  {
   "cell_type": "code",
   "execution_count": null,
   "metadata": {},
   "outputs": [],
   "source": [
    "#| export\n",
    "def df_get_hdf_seq_len(df,clm,ds=None):\n",
    "    '''extracts the sequence length of every file in advance to prepare repeated window extractions with 'DfHDFCreateWindows' '''\n",
    "#     df['seq_len'] = ([get_hdf_seq_len(row.path,clm) for (idx, row) in df.iterrows()])\n",
    "    df['seq_len'] = df.apply(lambda x: get_hdf_seq_len(x,clm),axis=1)\n",
    "    return df"
   ]
  },
  {
   "cell_type": "code",
   "execution_count": null,
   "metadata": {},
   "outputs": [],
   "source": [
    "#| export\n",
    "def DfHDFGetSeqLen(clm):\n",
    "    def _inner(df):\n",
    "        return df_get_hdf_seq_len(df,clm)\n",
    "    return _inner"
   ]
  },
  {
   "cell_type": "code",
   "execution_count": null,
   "metadata": {},
   "outputs": [
    {
     "data": {
      "text/html": [
       "<div>\n",
       "<style scoped>\n",
       "    .dataframe tbody tr th:only-of-type {\n",
       "        vertical-align: middle;\n",
       "    }\n",
       "\n",
       "    .dataframe tbody tr th {\n",
       "        vertical-align: top;\n",
       "    }\n",
       "\n",
       "    .dataframe thead th {\n",
       "        text-align: right;\n",
       "    }\n",
       "</style>\n",
       "<table border=\"1\" class=\"dataframe\">\n",
       "  <thead>\n",
       "    <tr style=\"text-align: right;\">\n",
       "      <th></th>\n",
       "      <th>path</th>\n",
       "      <th>seq_len</th>\n",
       "    </tr>\n",
       "  </thead>\n",
       "  <tbody>\n",
       "    <tr>\n",
       "      <th>0</th>\n",
       "      <td>/home/pheenix/Development/seqdata/test_data/battery/train/Sim_RealisticCycle1.hdf5</td>\n",
       "      <td>265607</td>\n",
       "    </tr>\n",
       "    <tr>\n",
       "      <th>1</th>\n",
       "      <td>/home/pheenix/Development/seqdata/test_data/battery/train/Sim_RealisticCycle2.hdf5</td>\n",
       "      <td>265598</td>\n",
       "    </tr>\n",
       "    <tr>\n",
       "      <th>2</th>\n",
       "      <td>/home/pheenix/Development/seqdata/test_data/battery/valid/Sim_RealisticCycle3.hdf5</td>\n",
       "      <td>265593</td>\n",
       "    </tr>\n",
       "  </tbody>\n",
       "</table>\n",
       "</div>"
      ],
      "text/plain": [
       "                                                                                 path  \\\n",
       "0  /home/pheenix/Development/seqdata/test_data/battery/train/Sim_RealisticCycle1.hdf5   \n",
       "1  /home/pheenix/Development/seqdata/test_data/battery/train/Sim_RealisticCycle2.hdf5   \n",
       "2  /home/pheenix/Development/seqdata/test_data/battery/valid/Sim_RealisticCycle3.hdf5   \n",
       "\n",
       "   seq_len  \n",
       "0   265607  \n",
       "1   265598  \n",
       "2   265593  "
      ]
     },
     "execution_count": null,
     "metadata": {},
     "output_type": "execute_result"
    }
   ],
   "source": [
    "df_get_hdf_seq_len(df,'current')"
   ]
  },
  {
   "cell_type": "code",
   "execution_count": null,
   "metadata": {},
   "outputs": [
    {
     "data": {
      "text/html": [
       "<div>\n",
       "<style scoped>\n",
       "    .dataframe tbody tr th:only-of-type {\n",
       "        vertical-align: middle;\n",
       "    }\n",
       "\n",
       "    .dataframe tbody tr th {\n",
       "        vertical-align: top;\n",
       "    }\n",
       "\n",
       "    .dataframe thead th {\n",
       "        text-align: right;\n",
       "    }\n",
       "</style>\n",
       "<table border=\"1\" class=\"dataframe\">\n",
       "  <thead>\n",
       "    <tr style=\"text-align: right;\">\n",
       "      <th></th>\n",
       "      <th>path</th>\n",
       "      <th>seq_len</th>\n",
       "    </tr>\n",
       "  </thead>\n",
       "  <tbody>\n",
       "    <tr>\n",
       "      <th>0</th>\n",
       "      <td>/home/pheenix/Development/seqdata/test_data/battery/train/Sim_RealisticCycle1.hdf5</td>\n",
       "      <td>265607</td>\n",
       "    </tr>\n",
       "    <tr>\n",
       "      <th>1</th>\n",
       "      <td>/home/pheenix/Development/seqdata/test_data/battery/train/Sim_RealisticCycle2.hdf5</td>\n",
       "      <td>265598</td>\n",
       "    </tr>\n",
       "    <tr>\n",
       "      <th>2</th>\n",
       "      <td>/home/pheenix/Development/seqdata/test_data/battery/valid/Sim_RealisticCycle3.hdf5</td>\n",
       "      <td>265593</td>\n",
       "    </tr>\n",
       "  </tbody>\n",
       "</table>\n",
       "</div>"
      ],
      "text/plain": [
       "                                                                                 path  \\\n",
       "0  /home/pheenix/Development/seqdata/test_data/battery/train/Sim_RealisticCycle1.hdf5   \n",
       "1  /home/pheenix/Development/seqdata/test_data/battery/train/Sim_RealisticCycle2.hdf5   \n",
       "2  /home/pheenix/Development/seqdata/test_data/battery/valid/Sim_RealisticCycle3.hdf5   \n",
       "\n",
       "   seq_len  \n",
       "0   265607  \n",
       "1   265598  \n",
       "2   265593  "
      ]
     },
     "execution_count": null,
     "metadata": {},
     "output_type": "execute_result"
    }
   ],
   "source": [
    "DfHDFGetSeqLen('current')(df)"
   ]
  },
  {
   "cell_type": "code",
   "execution_count": null,
   "metadata": {},
   "outputs": [],
   "source": [
    "#| export\n",
    "import numbers\n",
    "def DfResamplingFactor(src_fs,lst_targ_fs):\n",
    "    if not isinstance(src_fs, numbers.Number) and not type(src_fs) is str: \n",
    "        raise ValueError('src_fs has to be a column name or a fixed number')\n",
    "    \n",
    "    def _inner(df):\n",
    "        np_targ_fs = array(lst_targ_fs)\n",
    "        pd.options.mode.chained_assignment = None #every row is a reference so we need to suppress the warning messages while copying\n",
    "\n",
    "        #repeat entries for every target fs\n",
    "        res_df = df.iloc[np.repeat(np.arange(len(df)),len(np_targ_fs))] \n",
    "        targ_fs = np.tile(np_targ_fs,len(df))\n",
    "        res_df['targ_fs'] = targ_fs\n",
    "        \n",
    "        if isinstance(src_fs, numbers.Number):\n",
    "            #src_fs is a fixed number\n",
    "            res_df['resampling_factor'] = targ_fs/src_fs\n",
    "        else:\n",
    "            #src_fs is a column name of the df\n",
    "            res_df['resampling_factor'] = targ_fs/res_df[src_fs]\n",
    "\n",
    "        pd.options.mode.chained_assignment = 'warn'\n",
    "        \n",
    "        return res_df\n",
    "    return _inner"
   ]
  },
  {
   "cell_type": "code",
   "execution_count": null,
   "metadata": {},
   "outputs": [],
   "source": [
    "targ_fs = [50,100,300]\n",
    "test_eq(len(DfResamplingFactor(100,targ_fs)(df)),9)   \n",
    "df['src_fs'] = 200.\n",
    "test_eq(len(DfResamplingFactor('src_fs',targ_fs)(df)),9)"
   ]
  },
  {
   "cell_type": "code",
   "execution_count": null,
   "metadata": {},
   "outputs": [],
   "source": [
    "#| export\n",
    "def DfHDFCreateWindows(win_sz,stp_sz, clm, fixed_start = False, fixed_end = False):\n",
    "    '''create windows of sequences, splits sequence into multiple items'''\n",
    "    def _inner(df):\n",
    "        if fixed_start and fixed_end: raise Exception\n",
    "        \n",
    "        if 'seq_len' in df:\n",
    "            np_f_len = df.seq_len.values\n",
    "        else:\n",
    "            np_f_len = np.array([get_hdf_seq_len(row,clm) for (idx, row) in df.iterrows()])\n",
    "            \n",
    "        if 'resampling_factor' in df: np_f_len =(np_f_len*df.resampling_factor.values).astype(int)\n",
    "            \n",
    "        n_win = ((np_f_len-win_sz)//stp_sz)+1\n",
    "        #cast array n_win to int and clip negative values to 0\n",
    "        n_win = n_win.astype(int)\n",
    "        n_win = np.clip(n_win,a_min=0,a_max=None) #remove negative values at instances where the winsize is smaller than the seq_len\n",
    "        lst_idx = np.arange(len(np_f_len))\n",
    "        \n",
    "        pd.options.mode.chained_assignment = None #every row is a reference so we need to suppress the warning messages while copying\n",
    "        \n",
    "        res_df = df.iloc[np.repeat(lst_idx,n_win)]\n",
    "#         res_df = df.loc[np.repeat(lst_idx,n_win)] #the loc variant as a little bit slower because it creates copies and returns wrong values with redundant indexes, but is more robust\n",
    "\n",
    "        step_idx = np.concatenate([np.arange(x) for x in n_win])\n",
    "    \n",
    "        \n",
    "        res_df['l_slc'] = step_idx*stp_sz if not fixed_start else None\n",
    "        res_df['r_slc'] = step_idx*stp_sz + win_sz if not fixed_end else None\n",
    "            \n",
    "        pd.options.mode.chained_assignment = 'warn'\n",
    "            \n",
    "        return res_df\n",
    "    \n",
    "    return _inner"
   ]
  },
  {
   "cell_type": "code",
   "execution_count": null,
   "metadata": {},
   "outputs": [
    {
     "name": "stdout",
     "output_type": "stream",
     "text": [
      "CPU times: user 1.41 ms, sys: 164 µs, total: 1.57 ms\n",
      "Wall time: 1.42 ms\n"
     ]
    },
    {
     "data": {
      "text/html": [
       "<div>\n",
       "<style scoped>\n",
       "    .dataframe tbody tr th:only-of-type {\n",
       "        vertical-align: middle;\n",
       "    }\n",
       "\n",
       "    .dataframe tbody tr th {\n",
       "        vertical-align: top;\n",
       "    }\n",
       "\n",
       "    .dataframe thead th {\n",
       "        text-align: right;\n",
       "    }\n",
       "</style>\n",
       "<table border=\"1\" class=\"dataframe\">\n",
       "  <thead>\n",
       "    <tr style=\"text-align: right;\">\n",
       "      <th></th>\n",
       "      <th>path</th>\n",
       "      <th>seq_len</th>\n",
       "      <th>src_fs</th>\n",
       "      <th>l_slc</th>\n",
       "      <th>r_slc</th>\n",
       "    </tr>\n",
       "  </thead>\n",
       "  <tbody>\n",
       "    <tr>\n",
       "      <th>0</th>\n",
       "      <td>/home/pheenix/Development/seqdata/test_data/battery/train/Sim_RealisticCycle1.hdf5</td>\n",
       "      <td>265607</td>\n",
       "      <td>200.0</td>\n",
       "      <td>0</td>\n",
       "      <td>100.2</td>\n",
       "    </tr>\n",
       "    <tr>\n",
       "      <th>0</th>\n",
       "      <td>/home/pheenix/Development/seqdata/test_data/battery/train/Sim_RealisticCycle1.hdf5</td>\n",
       "      <td>265607</td>\n",
       "      <td>200.0</td>\n",
       "      <td>100</td>\n",
       "      <td>200.2</td>\n",
       "    </tr>\n",
       "    <tr>\n",
       "      <th>0</th>\n",
       "      <td>/home/pheenix/Development/seqdata/test_data/battery/train/Sim_RealisticCycle1.hdf5</td>\n",
       "      <td>265607</td>\n",
       "      <td>200.0</td>\n",
       "      <td>200</td>\n",
       "      <td>300.2</td>\n",
       "    </tr>\n",
       "    <tr>\n",
       "      <th>0</th>\n",
       "      <td>/home/pheenix/Development/seqdata/test_data/battery/train/Sim_RealisticCycle1.hdf5</td>\n",
       "      <td>265607</td>\n",
       "      <td>200.0</td>\n",
       "      <td>300</td>\n",
       "      <td>400.2</td>\n",
       "    </tr>\n",
       "    <tr>\n",
       "      <th>0</th>\n",
       "      <td>/home/pheenix/Development/seqdata/test_data/battery/train/Sim_RealisticCycle1.hdf5</td>\n",
       "      <td>265607</td>\n",
       "      <td>200.0</td>\n",
       "      <td>400</td>\n",
       "      <td>500.2</td>\n",
       "    </tr>\n",
       "    <tr>\n",
       "      <th>...</th>\n",
       "      <td>...</td>\n",
       "      <td>...</td>\n",
       "      <td>...</td>\n",
       "      <td>...</td>\n",
       "      <td>...</td>\n",
       "    </tr>\n",
       "    <tr>\n",
       "      <th>2</th>\n",
       "      <td>/home/pheenix/Development/seqdata/test_data/battery/valid/Sim_RealisticCycle3.hdf5</td>\n",
       "      <td>265593</td>\n",
       "      <td>200.0</td>\n",
       "      <td>265000</td>\n",
       "      <td>265100.2</td>\n",
       "    </tr>\n",
       "    <tr>\n",
       "      <th>2</th>\n",
       "      <td>/home/pheenix/Development/seqdata/test_data/battery/valid/Sim_RealisticCycle3.hdf5</td>\n",
       "      <td>265593</td>\n",
       "      <td>200.0</td>\n",
       "      <td>265100</td>\n",
       "      <td>265200.2</td>\n",
       "    </tr>\n",
       "    <tr>\n",
       "      <th>2</th>\n",
       "      <td>/home/pheenix/Development/seqdata/test_data/battery/valid/Sim_RealisticCycle3.hdf5</td>\n",
       "      <td>265593</td>\n",
       "      <td>200.0</td>\n",
       "      <td>265200</td>\n",
       "      <td>265300.2</td>\n",
       "    </tr>\n",
       "    <tr>\n",
       "      <th>2</th>\n",
       "      <td>/home/pheenix/Development/seqdata/test_data/battery/valid/Sim_RealisticCycle3.hdf5</td>\n",
       "      <td>265593</td>\n",
       "      <td>200.0</td>\n",
       "      <td>265300</td>\n",
       "      <td>265400.2</td>\n",
       "    </tr>\n",
       "    <tr>\n",
       "      <th>2</th>\n",
       "      <td>/home/pheenix/Development/seqdata/test_data/battery/valid/Sim_RealisticCycle3.hdf5</td>\n",
       "      <td>265593</td>\n",
       "      <td>200.0</td>\n",
       "      <td>265400</td>\n",
       "      <td>265500.2</td>\n",
       "    </tr>\n",
       "  </tbody>\n",
       "</table>\n",
       "<p>7966 rows × 5 columns</p>\n",
       "</div>"
      ],
      "text/plain": [
       "                                                                                  path  \\\n",
       "0   /home/pheenix/Development/seqdata/test_data/battery/train/Sim_RealisticCycle1.hdf5   \n",
       "0   /home/pheenix/Development/seqdata/test_data/battery/train/Sim_RealisticCycle1.hdf5   \n",
       "0   /home/pheenix/Development/seqdata/test_data/battery/train/Sim_RealisticCycle1.hdf5   \n",
       "0   /home/pheenix/Development/seqdata/test_data/battery/train/Sim_RealisticCycle1.hdf5   \n",
       "0   /home/pheenix/Development/seqdata/test_data/battery/train/Sim_RealisticCycle1.hdf5   \n",
       "..                                                                                 ...   \n",
       "2   /home/pheenix/Development/seqdata/test_data/battery/valid/Sim_RealisticCycle3.hdf5   \n",
       "2   /home/pheenix/Development/seqdata/test_data/battery/valid/Sim_RealisticCycle3.hdf5   \n",
       "2   /home/pheenix/Development/seqdata/test_data/battery/valid/Sim_RealisticCycle3.hdf5   \n",
       "2   /home/pheenix/Development/seqdata/test_data/battery/valid/Sim_RealisticCycle3.hdf5   \n",
       "2   /home/pheenix/Development/seqdata/test_data/battery/valid/Sim_RealisticCycle3.hdf5   \n",
       "\n",
       "    seq_len  src_fs   l_slc     r_slc  \n",
       "0    265607   200.0       0     100.2  \n",
       "0    265607   200.0     100     200.2  \n",
       "0    265607   200.0     200     300.2  \n",
       "0    265607   200.0     300     400.2  \n",
       "0    265607   200.0     400     500.2  \n",
       "..      ...     ...     ...       ...  \n",
       "2    265593   200.0  265000  265100.2  \n",
       "2    265593   200.0  265100  265200.2  \n",
       "2    265593   200.0  265200  265300.2  \n",
       "2    265593   200.0  265300  265400.2  \n",
       "2    265593   200.0  265400  265500.2  \n",
       "\n",
       "[7966 rows x 5 columns]"
      ]
     },
     "execution_count": null,
     "metadata": {},
     "output_type": "execute_result"
    }
   ],
   "source": [
    "%%time\n",
    "create_win = DfHDFCreateWindows(win_sz=100.2,stp_sz=100,clm='current')\n",
    "win_df = create_win(df)\n",
    "win_df"
   ]
  },
  {
   "cell_type": "code",
   "execution_count": null,
   "metadata": {},
   "outputs": [
    {
     "data": {
      "text/html": [
       "<div>\n",
       "<style scoped>\n",
       "    .dataframe tbody tr th:only-of-type {\n",
       "        vertical-align: middle;\n",
       "    }\n",
       "\n",
       "    .dataframe tbody tr th {\n",
       "        vertical-align: top;\n",
       "    }\n",
       "\n",
       "    .dataframe thead th {\n",
       "        text-align: right;\n",
       "    }\n",
       "</style>\n",
       "<table border=\"1\" class=\"dataframe\">\n",
       "  <thead>\n",
       "    <tr style=\"text-align: right;\">\n",
       "      <th></th>\n",
       "      <th>path</th>\n",
       "      <th>seq_len</th>\n",
       "      <th>src_fs</th>\n",
       "      <th>l_slc</th>\n",
       "      <th>r_slc</th>\n",
       "    </tr>\n",
       "  </thead>\n",
       "  <tbody>\n",
       "    <tr>\n",
       "      <th>0</th>\n",
       "      <td>/home/pheenix/Development/seqdata/test_data/battery/train/Sim_RealisticCycle1.hdf5</td>\n",
       "      <td>265607</td>\n",
       "      <td>200.0</td>\n",
       "      <td>0</td>\n",
       "      <td>265594</td>\n",
       "    </tr>\n",
       "    <tr>\n",
       "      <th>1</th>\n",
       "      <td>/home/pheenix/Development/seqdata/test_data/battery/train/Sim_RealisticCycle2.hdf5</td>\n",
       "      <td>265598</td>\n",
       "      <td>200.0</td>\n",
       "      <td>0</td>\n",
       "      <td>265594</td>\n",
       "    </tr>\n",
       "  </tbody>\n",
       "</table>\n",
       "</div>"
      ],
      "text/plain": [
       "                                                                                 path  \\\n",
       "0  /home/pheenix/Development/seqdata/test_data/battery/train/Sim_RealisticCycle1.hdf5   \n",
       "1  /home/pheenix/Development/seqdata/test_data/battery/train/Sim_RealisticCycle2.hdf5   \n",
       "\n",
       "   seq_len  src_fs  l_slc   r_slc  \n",
       "0   265607   200.0      0  265594  \n",
       "1   265598   200.0      0  265594  "
      ]
     },
     "execution_count": null,
     "metadata": {},
     "output_type": "execute_result"
    }
   ],
   "source": [
    "win_df = DfHDFCreateWindows(win_sz=265594,stp_sz=100,clm='current')(df)\n",
    "test_eq(len(win_df),2)\n",
    "win_df"
   ]
  },
  {
   "cell_type": "code",
   "execution_count": null,
   "metadata": {},
   "outputs": [],
   "source": [
    "test_eq(create_win(df_get_hdf_seq_len(df,'current')) , create_win(df))"
   ]
  },
  {
   "cell_type": "code",
   "execution_count": null,
   "metadata": {},
   "outputs": [
    {
     "data": {
      "text/html": [
       "<div>\n",
       "<style scoped>\n",
       "    .dataframe tbody tr th:only-of-type {\n",
       "        vertical-align: middle;\n",
       "    }\n",
       "\n",
       "    .dataframe tbody tr th {\n",
       "        vertical-align: top;\n",
       "    }\n",
       "\n",
       "    .dataframe thead th {\n",
       "        text-align: right;\n",
       "    }\n",
       "</style>\n",
       "<table border=\"1\" class=\"dataframe\">\n",
       "  <thead>\n",
       "    <tr style=\"text-align: right;\">\n",
       "      <th></th>\n",
       "      <th>path</th>\n",
       "      <th>seq_len</th>\n",
       "      <th>src_fs</th>\n",
       "      <th>targ_fs</th>\n",
       "      <th>resampling_factor</th>\n",
       "      <th>l_slc</th>\n",
       "      <th>r_slc</th>\n",
       "    </tr>\n",
       "  </thead>\n",
       "  <tbody>\n",
       "    <tr>\n",
       "      <th>0</th>\n",
       "      <td>/home/pheenix/Development/seqdata/test_data/battery/train/Sim_RealisticCycle1.hdf5</td>\n",
       "      <td>265607</td>\n",
       "      <td>200.0</td>\n",
       "      <td>0.1</td>\n",
       "      <td>0.0005</td>\n",
       "      <td>0</td>\n",
       "      <td>100.2</td>\n",
       "    </tr>\n",
       "    <tr>\n",
       "      <th>1</th>\n",
       "      <td>/home/pheenix/Development/seqdata/test_data/battery/train/Sim_RealisticCycle2.hdf5</td>\n",
       "      <td>265598</td>\n",
       "      <td>200.0</td>\n",
       "      <td>0.1</td>\n",
       "      <td>0.0005</td>\n",
       "      <td>0</td>\n",
       "      <td>100.2</td>\n",
       "    </tr>\n",
       "    <tr>\n",
       "      <th>2</th>\n",
       "      <td>/home/pheenix/Development/seqdata/test_data/battery/valid/Sim_RealisticCycle3.hdf5</td>\n",
       "      <td>265593</td>\n",
       "      <td>200.0</td>\n",
       "      <td>0.1</td>\n",
       "      <td>0.0005</td>\n",
       "      <td>0</td>\n",
       "      <td>100.2</td>\n",
       "    </tr>\n",
       "  </tbody>\n",
       "</table>\n",
       "</div>"
      ],
      "text/plain": [
       "                                                                                 path  \\\n",
       "0  /home/pheenix/Development/seqdata/test_data/battery/train/Sim_RealisticCycle1.hdf5   \n",
       "1  /home/pheenix/Development/seqdata/test_data/battery/train/Sim_RealisticCycle2.hdf5   \n",
       "2  /home/pheenix/Development/seqdata/test_data/battery/valid/Sim_RealisticCycle3.hdf5   \n",
       "\n",
       "   seq_len  src_fs  targ_fs  resampling_factor  l_slc  r_slc  \n",
       "0   265607   200.0      0.1             0.0005      0  100.2  \n",
       "1   265598   200.0      0.1             0.0005      0  100.2  \n",
       "2   265593   200.0      0.1             0.0005      0  100.2  "
      ]
     },
     "execution_count": null,
     "metadata": {},
     "output_type": "execute_result"
    }
   ],
   "source": [
    "res_win_df = create_win(DfResamplingFactor(200,[0.1])(df))\n",
    "res_win_df"
   ]
  },
  {
   "cell_type": "code",
   "execution_count": null,
   "metadata": {},
   "outputs": [],
   "source": [
    "test_eq(len(res_win_df),3)"
   ]
  },
  {
   "cell_type": "code",
   "execution_count": null,
   "metadata": {},
   "outputs": [
    {
     "data": {
      "text/html": [
       "<div>\n",
       "<style scoped>\n",
       "    .dataframe tbody tr th:only-of-type {\n",
       "        vertical-align: middle;\n",
       "    }\n",
       "\n",
       "    .dataframe tbody tr th {\n",
       "        vertical-align: top;\n",
       "    }\n",
       "\n",
       "    .dataframe thead th {\n",
       "        text-align: right;\n",
       "    }\n",
       "</style>\n",
       "<table border=\"1\" class=\"dataframe\">\n",
       "  <thead>\n",
       "    <tr style=\"text-align: right;\">\n",
       "      <th></th>\n",
       "      <th>path</th>\n",
       "      <th>seq_len</th>\n",
       "      <th>src_fs</th>\n",
       "      <th>l_slc</th>\n",
       "      <th>r_slc</th>\n",
       "    </tr>\n",
       "  </thead>\n",
       "  <tbody>\n",
       "    <tr>\n",
       "      <th>0</th>\n",
       "      <td>/home/pheenix/Development/seqdata/test_data/battery/train/Sim_RealisticCycle1.hdf5</td>\n",
       "      <td>265607</td>\n",
       "      <td>200.0</td>\n",
       "      <td>0</td>\n",
       "      <td>265594</td>\n",
       "    </tr>\n",
       "    <tr>\n",
       "      <th>1</th>\n",
       "      <td>/home/pheenix/Development/seqdata/test_data/battery/train/Sim_RealisticCycle2.hdf5</td>\n",
       "      <td>265598</td>\n",
       "      <td>200.0</td>\n",
       "      <td>0</td>\n",
       "      <td>265594</td>\n",
       "    </tr>\n",
       "  </tbody>\n",
       "</table>\n",
       "</div>"
      ],
      "text/plain": [
       "                                                                                 path  \\\n",
       "0  /home/pheenix/Development/seqdata/test_data/battery/train/Sim_RealisticCycle1.hdf5   \n",
       "1  /home/pheenix/Development/seqdata/test_data/battery/train/Sim_RealisticCycle2.hdf5   \n",
       "\n",
       "   seq_len  src_fs  l_slc   r_slc  \n",
       "0   265607   200.0      0  265594  \n",
       "1   265598   200.0      0  265594  "
      ]
     },
     "execution_count": null,
     "metadata": {},
     "output_type": "execute_result"
    }
   ],
   "source": [
    "query_expr = 'l_slc <= 200'\n",
    "filt_df = win_df.query(query_expr)\n",
    "filt_df"
   ]
  },
  {
   "cell_type": "code",
   "execution_count": null,
   "metadata": {},
   "outputs": [],
   "source": [
    "#| export\n",
    "def DfApplyFuncSplit(split_func,func1,func2):\n",
    "    '''apply two different functions on the dataframe, func1 on the first indices of split_func, func2 on the second indices.\n",
    "        Split_func is a Training, Validation split function'''\n",
    "    def _inner(df):\n",
    "        (idxs1,idxs2) = split_func(df.path)\n",
    "        df1= func1(df.iloc[idxs1])\n",
    "        df2= func2(df.iloc[idxs2])\n",
    "        return pd.concat((df1,df2))\n",
    "    return _inner"
   ]
  },
  {
   "cell_type": "code",
   "execution_count": null,
   "metadata": {},
   "outputs": [
    {
     "data": {
      "text/html": [
       "<div>\n",
       "<style scoped>\n",
       "    .dataframe tbody tr th:only-of-type {\n",
       "        vertical-align: middle;\n",
       "    }\n",
       "\n",
       "    .dataframe tbody tr th {\n",
       "        vertical-align: top;\n",
       "    }\n",
       "\n",
       "    .dataframe thead th {\n",
       "        text-align: right;\n",
       "    }\n",
       "</style>\n",
       "<table border=\"1\" class=\"dataframe\">\n",
       "  <thead>\n",
       "    <tr style=\"text-align: right;\">\n",
       "      <th></th>\n",
       "      <th>path</th>\n",
       "      <th>seq_len</th>\n",
       "      <th>src_fs</th>\n",
       "      <th>l_slc</th>\n",
       "      <th>r_slc</th>\n",
       "    </tr>\n",
       "  </thead>\n",
       "  <tbody>\n",
       "    <tr>\n",
       "      <th>0</th>\n",
       "      <td>/home/pheenix/Development/seqdata/test_data/battery/train/Sim_RealisticCycle1.hdf5</td>\n",
       "      <td>265607</td>\n",
       "      <td>200.0</td>\n",
       "      <td>0</td>\n",
       "      <td>10000</td>\n",
       "    </tr>\n",
       "    <tr>\n",
       "      <th>0</th>\n",
       "      <td>/home/pheenix/Development/seqdata/test_data/battery/train/Sim_RealisticCycle1.hdf5</td>\n",
       "      <td>265607</td>\n",
       "      <td>200.0</td>\n",
       "      <td>1</td>\n",
       "      <td>10001</td>\n",
       "    </tr>\n",
       "    <tr>\n",
       "      <th>0</th>\n",
       "      <td>/home/pheenix/Development/seqdata/test_data/battery/train/Sim_RealisticCycle1.hdf5</td>\n",
       "      <td>265607</td>\n",
       "      <td>200.0</td>\n",
       "      <td>2</td>\n",
       "      <td>10002</td>\n",
       "    </tr>\n",
       "    <tr>\n",
       "      <th>0</th>\n",
       "      <td>/home/pheenix/Development/seqdata/test_data/battery/train/Sim_RealisticCycle1.hdf5</td>\n",
       "      <td>265607</td>\n",
       "      <td>200.0</td>\n",
       "      <td>3</td>\n",
       "      <td>10003</td>\n",
       "    </tr>\n",
       "    <tr>\n",
       "      <th>0</th>\n",
       "      <td>/home/pheenix/Development/seqdata/test_data/battery/train/Sim_RealisticCycle1.hdf5</td>\n",
       "      <td>265607</td>\n",
       "      <td>200.0</td>\n",
       "      <td>4</td>\n",
       "      <td>10004</td>\n",
       "    </tr>\n",
       "    <tr>\n",
       "      <th>...</th>\n",
       "      <td>...</td>\n",
       "      <td>...</td>\n",
       "      <td>...</td>\n",
       "      <td>...</td>\n",
       "      <td>...</td>\n",
       "    </tr>\n",
       "    <tr>\n",
       "      <th>2</th>\n",
       "      <td>/home/pheenix/Development/seqdata/test_data/battery/valid/Sim_RealisticCycle3.hdf5</td>\n",
       "      <td>265593</td>\n",
       "      <td>200.0</td>\n",
       "      <td>210000</td>\n",
       "      <td>220000</td>\n",
       "    </tr>\n",
       "    <tr>\n",
       "      <th>2</th>\n",
       "      <td>/home/pheenix/Development/seqdata/test_data/battery/valid/Sim_RealisticCycle3.hdf5</td>\n",
       "      <td>265593</td>\n",
       "      <td>200.0</td>\n",
       "      <td>220000</td>\n",
       "      <td>230000</td>\n",
       "    </tr>\n",
       "    <tr>\n",
       "      <th>2</th>\n",
       "      <td>/home/pheenix/Development/seqdata/test_data/battery/valid/Sim_RealisticCycle3.hdf5</td>\n",
       "      <td>265593</td>\n",
       "      <td>200.0</td>\n",
       "      <td>230000</td>\n",
       "      <td>240000</td>\n",
       "    </tr>\n",
       "    <tr>\n",
       "      <th>2</th>\n",
       "      <td>/home/pheenix/Development/seqdata/test_data/battery/valid/Sim_RealisticCycle3.hdf5</td>\n",
       "      <td>265593</td>\n",
       "      <td>200.0</td>\n",
       "      <td>240000</td>\n",
       "      <td>250000</td>\n",
       "    </tr>\n",
       "    <tr>\n",
       "      <th>2</th>\n",
       "      <td>/home/pheenix/Development/seqdata/test_data/battery/valid/Sim_RealisticCycle3.hdf5</td>\n",
       "      <td>265593</td>\n",
       "      <td>200.0</td>\n",
       "      <td>250000</td>\n",
       "      <td>260000</td>\n",
       "    </tr>\n",
       "  </tbody>\n",
       "</table>\n",
       "<p>255660 rows × 5 columns</p>\n",
       "</div>"
      ],
      "text/plain": [
       "                                                                                  path  \\\n",
       "0   /home/pheenix/Development/seqdata/test_data/battery/train/Sim_RealisticCycle1.hdf5   \n",
       "0   /home/pheenix/Development/seqdata/test_data/battery/train/Sim_RealisticCycle1.hdf5   \n",
       "0   /home/pheenix/Development/seqdata/test_data/battery/train/Sim_RealisticCycle1.hdf5   \n",
       "0   /home/pheenix/Development/seqdata/test_data/battery/train/Sim_RealisticCycle1.hdf5   \n",
       "0   /home/pheenix/Development/seqdata/test_data/battery/train/Sim_RealisticCycle1.hdf5   \n",
       "..                                                                                 ...   \n",
       "2   /home/pheenix/Development/seqdata/test_data/battery/valid/Sim_RealisticCycle3.hdf5   \n",
       "2   /home/pheenix/Development/seqdata/test_data/battery/valid/Sim_RealisticCycle3.hdf5   \n",
       "2   /home/pheenix/Development/seqdata/test_data/battery/valid/Sim_RealisticCycle3.hdf5   \n",
       "2   /home/pheenix/Development/seqdata/test_data/battery/valid/Sim_RealisticCycle3.hdf5   \n",
       "2   /home/pheenix/Development/seqdata/test_data/battery/valid/Sim_RealisticCycle3.hdf5   \n",
       "\n",
       "    seq_len  src_fs   l_slc   r_slc  \n",
       "0    265607   200.0       0   10000  \n",
       "0    265607   200.0       1   10001  \n",
       "0    265607   200.0       2   10002  \n",
       "0    265607   200.0       3   10003  \n",
       "0    265607   200.0       4   10004  \n",
       "..      ...     ...     ...     ...  \n",
       "2    265593   200.0  210000  220000  \n",
       "2    265593   200.0  220000  230000  \n",
       "2    265593   200.0  230000  240000  \n",
       "2    265593   200.0  240000  250000  \n",
       "2    265593   200.0  250000  260000  \n",
       "\n",
       "[255660 rows x 5 columns]"
      ]
     },
     "execution_count": null,
     "metadata": {},
     "output_type": "execute_result"
    }
   ],
   "source": [
    "create_win_split = DfApplyFuncSplit(\n",
    "    IndexSplitter([1,2]),\n",
    "    DfHDFCreateWindows(win_sz=10000,stp_sz=1,clm='current'),\n",
    "    DfHDFCreateWindows(win_sz=10000,stp_sz=10000,clm='current')\n",
    ")\n",
    "create_win_split(df)"
   ]
  },
  {
   "cell_type": "code",
   "execution_count": null,
   "metadata": {},
   "outputs": [],
   "source": [
    "#| export\n",
    "def DfFilterQuery(query):\n",
    "    def _inner(df):\n",
    "        return df.query(query)\n",
    "    return _inner"
   ]
  },
  {
   "cell_type": "code",
   "execution_count": null,
   "metadata": {},
   "outputs": [],
   "source": [
    "test_eq(DfFilterQuery(query_expr)(win_df),filt_df)"
   ]
  },
  {
   "cell_type": "code",
   "execution_count": null,
   "metadata": {},
   "outputs": [
    {
     "name": "stdout",
     "output_type": "stream",
     "text": [
      "CPU times: user 64.1 ms, sys: 0 ns, total: 64.1 ms\n",
      "Wall time: 63.5 ms\n"
     ]
    },
    {
     "data": {
      "text/plain": [
       "[{'path': '/home/pheenix/Development/seqdata/test_data/battery/train/Sim_RealisticCycle1.hdf5',\n",
       "  'valid': False,\n",
       "  'l_slc': 0,\n",
       "  'r_slc': 101},\n",
       " {'path': '/home/pheenix/Development/seqdata/test_data/battery/train/Sim_RealisticCycle1.hdf5',\n",
       "  'valid': False,\n",
       "  'l_slc': 10,\n",
       "  'r_slc': 111},\n",
       " {'path': '/home/pheenix/Development/seqdata/test_data/battery/train/Sim_RealisticCycle1.hdf5',\n",
       "  'valid': False,\n",
       "  'l_slc': 20,\n",
       "  'r_slc': 121},\n",
       " {'path': '/home/pheenix/Development/seqdata/test_data/battery/train/Sim_RealisticCycle1.hdf5',\n",
       "  'valid': False,\n",
       "  'l_slc': 30,\n",
       "  'r_slc': 131},\n",
       " {'path': '/home/pheenix/Development/seqdata/test_data/battery/train/Sim_RealisticCycle1.hdf5',\n",
       "  'valid': False,\n",
       "  'l_slc': 40,\n",
       "  'r_slc': 141}]"
      ]
     },
     "execution_count": null,
     "metadata": {},
     "output_type": "execute_result"
    }
   ],
   "source": [
    "%%time\n",
    "tfm_src = CreateDict([ValidClmContains(['valid']),DfHDFCreateWindows(win_sz=100+1,stp_sz=10,clm='current')])\n",
    "src_dicts = tfm_src(hdf_files)\n",
    "src_dicts[:5]"
   ]
  },
  {
   "cell_type": "code",
   "execution_count": null,
   "metadata": {},
   "outputs": [],
   "source": [
    "#| export\n",
    "def DfDropClmExcept(clms = ['path','l_slc','r_slc','p_sample','resampling_factor']):\n",
    "    '''drop unused dataframe columns as a last optional step to accelerate dictionary conversion'''\n",
    "    def _inner(df):\n",
    "        return df[[c for c in clms if c in df]]\n",
    "    return _inner"
   ]
  },
  {
   "attachments": {},
   "cell_type": "markdown",
   "metadata": {},
   "source": [
    "## 2. Convert Paths to Sequence Objects\n",
    "Der Pfad wird unter Angabe der Spaltennamen in Sequenzen und Skalare Werte umgewandelt, um so am Ende ein 3-Tupel zu erhalten aus:\n",
    "- (Sequence, Scalar, Sequence) <-> (input,input,output)"
   ]
  },
  {
   "attachments": {},
   "cell_type": "markdown",
   "metadata": {},
   "source": [
    "### 2.1 Extract sequential data from hdf5-files\n",
    "Two different functions, based on pandas df and on lists"
   ]
  },
  {
   "attachments": {},
   "cell_type": "markdown",
   "metadata": {},
   "source": [
    "#### 2.1.1 Shift time Series\n",
    "Sometimes we need to shift columns of a sequence by a specific value. Then we cant simply slice the array but have to handle each column individually. First a performance test has to be made."
   ]
  },
  {
   "cell_type": "code",
   "execution_count": null,
   "metadata": {},
   "outputs": [],
   "source": [
    "#| export\n",
    "def calc_shift_offsets(clm_shift):\n",
    "    clm_shift = array(clm_shift)\n",
    "    l_offs = -min(clm_shift.min(),0)\n",
    "    r_offs = -max(clm_shift.max(),0)\n",
    "    l_shift = clm_shift+l_offs\n",
    "    r_shift = clm_shift+r_offs\n",
    "    dim_red = l_offs-r_offs\n",
    "    return l_shift,r_shift,dim_red"
   ]
  },
  {
   "cell_type": "code",
   "execution_count": null,
   "metadata": {},
   "outputs": [
    {
     "data": {
      "text/plain": [
       "(array([1, 1, 0, 2]), array([-1, -1, -2,  0]), 2)"
      ]
     },
     "execution_count": null,
     "metadata": {},
     "output_type": "execute_result"
    }
   ],
   "source": [
    "shft = [0,0,-1,1]\n",
    "calc_shift_offsets(shft)"
   ]
  },
  {
   "attachments": {},
   "cell_type": "markdown",
   "metadata": {},
   "source": [
    "both shifting methods have their own performance character. vstack needs double the time on short sequences, while the creation of a seperate array with copy becomes worse starting at around 5000 elements"
   ]
  },
  {
   "cell_type": "code",
   "execution_count": null,
   "metadata": {},
   "outputs": [],
   "source": [
    "# ta = array([[1,2,3]*2]*10000)"
   ]
  },
  {
   "cell_type": "code",
   "execution_count": null,
   "metadata": {},
   "outputs": [],
   "source": [
    "# %%timeit\n",
    "# y = np.vstack([ta[i:-ta.shape[1]+i,i] for i in range(ta.shape[1])]).T   "
   ]
  },
  {
   "cell_type": "code",
   "execution_count": null,
   "metadata": {},
   "outputs": [],
   "source": [
    "# %%timeit\n",
    "# x = np.zeros((ta.shape[0]-ta.shape[1],ta.shape[1]))\n",
    "# for i in range(ta.shape[1]):\n",
    "#     x[:,i] = ta[i:-ta.shape[1]+i,i]"
   ]
  },
  {
   "attachments": {},
   "cell_type": "markdown",
   "metadata": {},
   "source": [
    "#### 2.1.2 HDF2Sequence\n",
    "HDF5 performance is massively affected by the dtype of the signals. f4 (32 bit floating point) Numbers are faster to load and lead to smaller files then f8 numbers."
   ]
  },
  {
   "cell_type": "code",
   "execution_count": null,
   "metadata": {},
   "outputs": [],
   "source": [
    "#| export\n",
    "def running_mean(x, N):\n",
    "    cumsum = np.cumsum(np.insert(x, 0, 0,axis=0),axis=0) \n",
    "    return (cumsum[N:] - cumsum[:-N]) / float(N)"
   ]
  },
  {
   "cell_type": "code",
   "execution_count": null,
   "metadata": {},
   "outputs": [],
   "source": [
    "#| export\n",
    "def downsample_mean(x,N):\n",
    "    shp = x.shape\n",
    "    trunc = -(x.shape[0] % N)\n",
    "    trunc = trunc if trunc != 0 else None\n",
    "    return x[:trunc,:].reshape((-1,N,x.shape[-1])).mean(axis=1)"
   ]
  },
  {
   "cell_type": "code",
   "execution_count": null,
   "metadata": {},
   "outputs": [],
   "source": [
    "#| export\n",
    "from scipy.signal import butter, lfilter, lfilter_zi\n",
    "from scipy import signal\n",
    "def resample_interp(x,resampling_factor,sequence_first=True, lowpass_cut=1.0, upsample_cubic_cut = None):\n",
    "    '''signal resampling using linear or cubic interpolation\n",
    "    \n",
    "    x: signal to resample with shape: features x resampling_dimension or resampling_dimension x  features if sequence_first=True\n",
    "    resampling_factor: Factor > 0 that scales the signal\n",
    "    lowpass_cut: Upper boundary for resampling_factor that activates the lowpassfilter, low values exchange accuracy for performance, default is 0.7\n",
    "    upsample_cubic_cut: Lower boundary for resampling_factor that activates cubic interpolation at high upsampling values. \n",
    "                        Improves signal dynamics in exchange of performance. None deactivates cubic interpolation\n",
    "    '''\n",
    "    \n",
    "    if sequence_first:\n",
    "        x = x.T\n",
    "    \n",
    "    fs_n = resampling_factor\n",
    "    #if downsampling rate is too high, lowpass filter before interpolation\n",
    "    if fs_n < lowpass_cut:\n",
    "        b,a = butter(2, fs_n)\n",
    "        zi = lfilter_zi(b,a)*x[:,:1] #initialize filter with steady state at first time step value\n",
    "        x,_ = lfilter(b,a,x,axis=-1,zi=zi)\n",
    "\n",
    "#         sos = butter(2, fs_n*1.2,output='sos')\n",
    "# #         sos = signal.cheby2(2,20, fs_n,output='sos')\n",
    "# #         import pdb;pdb.set_trace()\n",
    "#         zi = np.swapaxes(signal.sosfilt_zi(sos)[...,None]*x[:,0],1,2)\n",
    "#         x,_ = signal.sosfilt(sos, x,axis=-1,zi=zi)\n",
    "        \n",
    "    x_int = tensor(x)[None,...]\n",
    "    targ_size = int(x.shape[-1]*fs_n)\n",
    "    \n",
    "#     if upsampling rate is too high, switch from linear to cubic interpolation\n",
    "    if upsample_cubic_cut is None or fs_n <= upsample_cubic_cut:\n",
    "        x = array(nn.functional.interpolate(x_int, size=targ_size, mode='linear',align_corners=False)[0])\n",
    "    else:\n",
    "        x = array(nn.functional.interpolate(x_int[...,None], size=[targ_size,1], mode='bicubic',align_corners=False)[0,...,0])\n",
    "#     x = array(x_int)[0]\n",
    "    \n",
    "    if sequence_first:\n",
    "        x = x.T\n",
    "    \n",
    "    return x"
   ]
  },
  {
   "cell_type": "code",
   "execution_count": null,
   "metadata": {},
   "outputs": [],
   "source": [
    "x = np.random.normal(size=(100000,9))\n",
    "test_eq(resample_interp(x,0.3).shape[0],30000)"
   ]
  },
  {
   "cell_type": "code",
   "execution_count": null,
   "metadata": {},
   "outputs": [],
   "source": [
    "# def plotFFT(buffer,sample_rate,label,fig=plt):\n",
    "#     xf,yf = calcFFT(buffer,sample_rate)\n",
    "#     fig.plot(xf, yf,label=label)\n",
    "    \n",
    "# def calcFFT(buffer,sample_rate):\n",
    "#     N = buffer.shape[0]\n",
    "#     T = 1.0 / sample_rate\n",
    "#     x = np.linspace(0.0, N*T, N)\n",
    "#     y = buffer\n",
    "#     yf = scipy.fft.fft(y)\n",
    "#     xf = np.linspace(0.0, 1.0/(2.0*T), N//2)\n",
    "#     return xf,2.0/N * np.abs(yf[:N//2])\n",
    "\n",
    "# src_fs= 200\n",
    "# n_fs = 0.9\n",
    "# plt.figure()\n",
    "# plotFFT(x[:,0],src_fs,'raw')\n",
    "# plotFFT(resample_interp(x,n_fs)[:,0],n_fs*src_fs,'filtered')\n",
    "# plt.legend()"
   ]
  },
  {
   "cell_type": "code",
   "execution_count": null,
   "metadata": {},
   "outputs": [],
   "source": [
    "#| export\n",
    "from scipy.signal import resample\n",
    "def hdf_extract_sequence(hdf_path,clms,dataset = None, l_slc = None, r_slc= None, resampling_factor=None, fs_idx =None,dt_idx =False,fast_resample=True):\n",
    "    '''\n",
    "    extracts a sequence with the shape [seq_len x num_features]\n",
    "    \n",
    "    hdf_path: file path of hdf file, may be a string or path type\n",
    "    clms: list of dataset names of sequences in hdf file\n",
    "    dataset: dataset root for clms. Useful for multiples sequences stored in one file.\n",
    "    l_slc: left boundary for extraction of a window of the whole sequence\n",
    "    r_slc: right boundary for extraction of a window of the whole sequence\n",
    "    resampling_factor: scaling factor for the sequence length, uses 'resample_interp' for resampling\n",
    "    fs_idx: clms list idx of fs entry in sequence. Will be scaled by resampling_factor after resampling\n",
    "    dt_idx: clms list idx of dt entry in sequence. Will be scaled by resampling_factor after resampling\n",
    "    fast_resample: if True, uses linear interpolation with anti-aliasing filter for faster resampling. Is less accurate than fft based resampling\n",
    "    '''\n",
    "\n",
    "    if resampling_factor is not None:\n",
    "        seq_len = r_slc-l_slc if l_slc is not None and r_slc is not None else None #calculate seq_len for later slicing, necesary because of rounding errors in resampling\n",
    "        if l_slc is not None: l_slc= math.floor(l_slc/resampling_factor)\n",
    "        if r_slc is not None: r_slc= math.ceil(r_slc/resampling_factor)\n",
    "\n",
    "    with h5py.File(hdf_path,'r') as f:\n",
    "        ds = f if dataset is None else f[dataset]\n",
    "        l_array = [(ds[n][l_slc:r_slc]) for n in clms]\n",
    "        seq = np.stack(l_array,axis=-1)\n",
    "\n",
    "    if resampling_factor is not None:\n",
    "        if fast_resample:\n",
    "            res_seq = resample_interp(seq,resampling_factor)\n",
    "        else:\n",
    "            res_seq = resample(seq,int(seq.shape[0]*resampling_factor),window=('kaiser', 14.0))\n",
    "        if fs_idx is not None: res_seq[:,fs_idx] = seq[0,fs_idx] * resampling_factor\n",
    "        if dt_idx is not None: res_seq[:,dt_idx] = seq[0,dt_idx] / resampling_factor\n",
    "        seq = res_seq\n",
    "        \n",
    "        if seq_len is not None: seq = seq[:seq_len] #cut the part of the sequence that is too long because of resampling rounding errors\n",
    "        \n",
    "    return seq"
   ]
  },
  {
   "cell_type": "code",
   "execution_count": null,
   "metadata": {},
   "outputs": [],
   "source": [
    "#| export\n",
    "class Memoize:\n",
    "    def __init__(self, fn):\n",
    "        self.fn = fn\n",
    "        self.memo = {}\n",
    "\n",
    "    def __call__(self, *args):\n",
    "        if args not in self.memo:\n",
    "            self.memo[args] = self.fn(*args)\n",
    "        return self.memo[args]\n",
    "\n",
    "\n",
    "from multiprocessing import Manager, Lock\n",
    "class MemoizeMP:\n",
    "    '''\n",
    "        Multiprocessing Shared Memory implementation of function caching. \n",
    "        Used for multiprocessing dataloaders, so not every process has to load from files.\n",
    "    '''\n",
    "    def __init__(self, fn):\n",
    "        self.fn = fn\n",
    "        self.shared_memo = Manager().dict()  # Shared dictionary across processes\n",
    "        self.local_memo = {}  # Local cache for each process\n",
    "        self.lock = Lock()  # Lock for concurrency control in shared memory access\n",
    "    \n",
    "    def __call__(self, *args):\n",
    "\n",
    "        # First, attempt to return the result from the local cache to avoid unnecessary locking\n",
    "        if args in self.local_memo:\n",
    "            return self.local_memo[args]\n",
    "        \n",
    "        # If the result is not in the local cache, check the shared cache\n",
    "        if args in self.shared_memo:\n",
    "            # If found in the shared cache, update the local cache for faster future access\n",
    "            result = self.shared_memo[args]\n",
    "            self.local_memo[args] = result\n",
    "            return result\n",
    "\n",
    "        result = self.fn(*args)\n",
    "        \n",
    "        with self.lock:\n",
    "            # Check again if the result was not computed by another process\n",
    "            if args not in self.shared_memo:\n",
    "                self.shared_memo[args] = result\n",
    "        \n",
    "        # Update the local cache before returning the result\n",
    "        self.local_memo[args] = result\n",
    "        return result"
   ]
  },
  {
   "cell_type": "code",
   "execution_count": null,
   "metadata": {},
   "outputs": [],
   "source": [
    "#| export\n",
    "class HDF2Sequence(Transform):\n",
    "    \n",
    "    def __init__(self, clm_names,clm_shift=None,truncate_sz=None,to_cls=noop,cached=None, fs_idx =None,dt_idx =None,fast_resample=True):\n",
    "        if not clm_shift is None:\n",
    "            assert len(clm_shift)==len(clm_names) and all(isinstance(n, int) for n in clm_shift)\n",
    "            self.l_shift,self.r_shift,_ = calc_shift_offsets(clm_shift)\n",
    "        \n",
    "        if cached is None:\n",
    "            self._exseq = self._hdf_extract_sequence \n",
    "        elif cached == 'shared':\n",
    "            self._exseq = MemoizeMP(self._hdf_extract_sequence) \n",
    "        else :\n",
    "            self._exseq = Memoize(self._hdf_extract_sequence)\n",
    "\n",
    "        self.cached = cached is not None\n",
    "        store_attr('clm_names,clm_shift,truncate_sz,to_cls,fs_idx,dt_idx,fast_resample')\n",
    "        \n",
    "    def _hdf_extract_sequence(self,hdf_path,dataset = None, l_slc = None, r_slc= None, resampling_factor=None, fs_idx =None,dt_idx =None,fast_resample=True):\n",
    "        '''\n",
    "        extracts a sequence with the shape [seq_len x num_features]\n",
    "\n",
    "        hdf_path: file path of hdf file, may be a string or path type\n",
    "        clms: list of dataset names of sequences in hdf file\n",
    "        dataset: dataset root for clms. Useful for multiples sequences stored in one file.\n",
    "        l_slc: left boundary for extraction of a window of the whole sequence\n",
    "        r_slc: right boundary for extraction of a window of the whole sequence\n",
    "        resampling_factor: scaling factor for the sequence length, uses 'resample_interp' for resampling\n",
    "        fs_idx: clms list idx of fs entry in sequence. Will be scaled by resampling_factor after resampling\n",
    "        dt_idx: clms list idx of dt entry in sequence. Will be scaled by resampling_factor after resampling\n",
    "        fast_resample: if True, uses linear interpolation with anti-aliasing filter for faster resampling. Is less accurate than fft based resampling\n",
    "        '''\n",
    "\n",
    "        if resampling_factor is not None:\n",
    "            seq_len = r_slc-l_slc if l_slc is not None and r_slc is not None else None #calculate seq_len for later slicing, necesary because of rounding errors in resampling\n",
    "            if l_slc is not None: l_slc= math.floor(l_slc/resampling_factor)\n",
    "            if r_slc is not None: r_slc= math.ceil(r_slc/resampling_factor)\n",
    "\n",
    "        with h5py.File(hdf_path,'r') as f:\n",
    "            ds = f if dataset is None else f[dataset]\n",
    "            l_array = [(ds[n][l_slc:r_slc]) for n in self.clm_names]\n",
    "            seq = np.stack(l_array,axis=-1)\n",
    "\n",
    "        if resampling_factor is not None:\n",
    "            if fast_resample:\n",
    "                res_seq = resample_interp(seq,resampling_factor)\n",
    "            else:\n",
    "                res_seq = resample(seq,int(seq.shape[0]*resampling_factor),window=('kaiser', 14.0))\n",
    "            \n",
    "            if fs_idx is not None: res_seq[:,fs_idx] = seq[0,fs_idx] * resampling_factor\n",
    "            if dt_idx is not None: res_seq[:,dt_idx] = seq[0,dt_idx] / resampling_factor\n",
    "            seq = res_seq\n",
    "\n",
    "            if seq_len is not None: seq = seq[:seq_len] #cut the part of the sequence that is too long because of resampling rounding errors\n",
    "\n",
    "        return seq\n",
    "    \n",
    "    def _extract_dict_sequence(self,item):\n",
    "        if hasattr(item,'keys'):\n",
    "            path = item['path']\n",
    "            dataset = item['dataset'] if 'dataset' in item else None\n",
    "            l_slc = item['l_slc'] if 'l_slc' in item else None\n",
    "            r_slc = item['r_slc'] if 'r_slc' in item else None\n",
    "            resampling_factor = item['resampling_factor'] if 'resampling_factor' in item else None\n",
    "\n",
    "            if self.cached:\n",
    "                seq = self._exseq(path,dataset,None,None,resampling_factor,self.fs_idx,self.dt_idx,self.fast_resample)[l_slc:r_slc]\n",
    "            else:\n",
    "                seq = self._exseq(path,dataset,l_slc,r_slc,resampling_factor,self.fs_idx,self.dt_idx,self.fast_resample)\n",
    "        else:\n",
    "            seq = self._exseq(str(item),None,None,None,None,None)\n",
    "\n",
    "        #shift clms of result by given value \n",
    "        if not self.clm_shift is None:\n",
    "            l_seq = seq.shape[0]\n",
    "            seq = np.stack([seq[self.l_shift[i]:l_seq+self.r_shift[i],i] for i in range(seq.shape[1])],axis=-1)\n",
    "            \n",
    "        if not self.truncate_sz is None:\n",
    "            seq = seq[truncate_sz:]\n",
    "        \n",
    "        #it is important to slice first and then do the class conversion\n",
    "#         return self.to_cls(seq.astype('f8'))#workaround for random bug, that mitigates convergence if the numpy array is an f4 array. Seems to make no sense because the result does not change. \n",
    "        return self.to_cls(seq)\n",
    "\n",
    "    def encodes(self, item)->None: \n",
    "        return self._extract_dict_sequence(item)"
   ]
  },
  {
   "cell_type": "code",
   "execution_count": null,
   "metadata": {},
   "outputs": [],
   "source": []
  },
  {
   "cell_type": "code",
   "execution_count": null,
   "metadata": {},
   "outputs": [
    {
     "data": {
      "text/plain": [
       "array([[ 0.       ,  4.1873503],\n",
       "       [-0.1      ,  4.18935  ],\n",
       "       [-0.1      ,  4.1896954],\n",
       "       ...,\n",
       "       [ 8.8388   ,  3.3932123],\n",
       "       [ 8.846    ,  3.3928714],\n",
       "       [ 8.8531   ,  3.3925302]], dtype=float32)"
      ]
     },
     "execution_count": null,
     "metadata": {},
     "output_type": "execute_result"
    }
   ],
   "source": [
    "# %%timeit\n",
    "hdf2seq = HDF2Sequence(['current','voltage'],cached=None)\n",
    "hdf2seq(hdf_files[0])"
   ]
  },
  {
   "cell_type": "code",
   "execution_count": null,
   "metadata": {},
   "outputs": [
    {
     "data": {
      "text/plain": [
       "array([[-0.1      ,  4.18935  ],\n",
       "       [-0.1      ,  4.1896954],\n",
       "       [-0.1      ,  4.190037 ],\n",
       "       ...,\n",
       "       [ 8.8388   ,  3.3932123],\n",
       "       [ 8.846    ,  3.3928714],\n",
       "       [ 8.8531   ,  3.3925302]], dtype=float32)"
      ]
     },
     "execution_count": null,
     "metadata": {},
     "output_type": "execute_result"
    }
   ],
   "source": [
    "hdf2seq = HDF2Sequence(['current','voltage'],clm_shift=[1,1])\n",
    "hdf2seq(hdf_files[0])"
   ]
  },
  {
   "cell_type": "code",
   "execution_count": null,
   "metadata": {},
   "outputs": [
    {
     "data": {
      "text/plain": [
       "array([[ 0.       ,  4.1873503],\n",
       "       [-0.1      ,  4.18935  ],\n",
       "       [-0.1      ,  4.1896954],\n",
       "       ...,\n",
       "       [ 8.8388   ,  3.3932123],\n",
       "       [ 8.846    ,  3.3928714],\n",
       "       [ 8.8531   ,  3.3925302]], dtype=float32)"
      ]
     },
     "execution_count": null,
     "metadata": {},
     "output_type": "execute_result"
    }
   ],
   "source": [
    "hdf2seq = HDF2Sequence(['current','voltage'],cached=None)\n",
    "hdf2seq(hdf_files[0])"
   ]
  },
  {
   "cell_type": "code",
   "execution_count": null,
   "metadata": {},
   "outputs": [
    {
     "data": {
      "text/plain": [
       "array([[ 0.       ,  4.1873503],\n",
       "       [-0.1      ,  4.18935  ],\n",
       "       [-0.1      ,  4.1896954],\n",
       "       ...,\n",
       "       [ 8.8388   ,  3.3932123],\n",
       "       [ 8.846    ,  3.3928714],\n",
       "       [ 8.8531   ,  3.3925302]], dtype=float32)"
      ]
     },
     "execution_count": null,
     "metadata": {},
     "output_type": "execute_result"
    }
   ],
   "source": [
    "# %%timeit\n",
    "hdf2seq(hdf_files[0])"
   ]
  },
  {
   "cell_type": "code",
   "execution_count": null,
   "metadata": {},
   "outputs": [],
   "source": [
    "hdf2seq = HDF2Sequence(['current','voltage'],cached='local')"
   ]
  },
  {
   "cell_type": "code",
   "execution_count": null,
   "metadata": {},
   "outputs": [
    {
     "data": {
      "text/plain": [
       "array([[ 0.       ,  4.1873503],\n",
       "       [-0.1      ,  4.18935  ],\n",
       "       [-0.1      ,  4.1896954],\n",
       "       ...,\n",
       "       [ 8.8388   ,  3.3932123],\n",
       "       [ 8.846    ,  3.3928714],\n",
       "       [ 8.8531   ,  3.3925302]], dtype=float32)"
      ]
     },
     "execution_count": null,
     "metadata": {},
     "output_type": "execute_result"
    }
   ],
   "source": [
    "# %%timeit\n",
    "hdf2seq(hdf_files[0])"
   ]
  },
  {
   "attachments": {},
   "cell_type": "markdown",
   "metadata": {},
   "source": [
    "Die Funktion lässt sich mittels Pipeline auf eine Liste von Quellobjekten (hier Pfade) anwenden "
   ]
  },
  {
   "cell_type": "code",
   "execution_count": null,
   "metadata": {},
   "outputs": [
    {
     "data": {
      "text/plain": [
       "(265607, 1)"
      ]
     },
     "execution_count": null,
     "metadata": {},
     "output_type": "execute_result"
    }
   ],
   "source": [
    "hdf2seq = HDF2Sequence(['current'])\n",
    "hdf2seq(hdf_files[0]).shape"
   ]
  },
  {
   "cell_type": "code",
   "execution_count": null,
   "metadata": {},
   "outputs": [],
   "source": [
    "pipe = Pipeline(HDF2Sequence(['current','voltage']))"
   ]
  },
  {
   "cell_type": "code",
   "execution_count": null,
   "metadata": {},
   "outputs": [],
   "source": [
    "# res_pipe = pipe(hdf_files)\n",
    "# len(res_pipe), res_pipe[0][0]"
   ]
  },
  {
   "cell_type": "code",
   "execution_count": null,
   "metadata": {},
   "outputs": [],
   "source": []
  },
  {
   "attachments": {},
   "cell_type": "markdown",
   "metadata": {},
   "source": [
    "#### Performance Test\n",
    "Caching stores the arrays for future use at every function call. Very usefull, especially for windows. Should allways be turned. Only explicitly turn it off when there is not enough memory for your data."
   ]
  },
  {
   "cell_type": "code",
   "execution_count": null,
   "metadata": {},
   "outputs": [],
   "source": [
    "tfms=[  [HDF2Sequence(['current','voltage'],cached=None)],\n",
    "        [HDF2Sequence(['voltage'],cached=None)]]\n",
    "dsrc = Datasets(src_dicts[:1000],tfms=tfms)"
   ]
  },
  {
   "cell_type": "code",
   "execution_count": null,
   "metadata": {},
   "outputs": [
    {
     "data": {
      "text/plain": [
       "1000"
      ]
     },
     "execution_count": null,
     "metadata": {},
     "output_type": "execute_result"
    }
   ],
   "source": [
    "len(dsrc)"
   ]
  },
  {
   "cell_type": "code",
   "execution_count": null,
   "metadata": {},
   "outputs": [],
   "source": [
    "# %%time\n",
    "# for x in dsrc:\n",
    "#     x"
   ]
  },
  {
   "cell_type": "code",
   "execution_count": null,
   "metadata": {},
   "outputs": [],
   "source": [
    "tfms=[  [HDF2Sequence(['current','voltage'],cached='local',clm_shift=[1,2])],\n",
    "        [HDF2Sequence(['voltage'],cached='local')]]\n",
    "dsrc = Datasets(src_dicts[:1000],tfms=tfms)"
   ]
  },
  {
   "cell_type": "code",
   "execution_count": null,
   "metadata": {},
   "outputs": [],
   "source": [
    "# %%timeit\n",
    "for x in dsrc:\n",
    "    x"
   ]
  },
  {
   "attachments": {},
   "cell_type": "markdown",
   "metadata": {},
   "source": [
    "Caching is way faster because every file gets loaded multiple times"
   ]
  },
  {
   "attachments": {},
   "cell_type": "markdown",
   "metadata": {},
   "source": [
    "### Extract Scalar data from hdf5-files"
   ]
  },
  {
   "cell_type": "code",
   "execution_count": null,
   "metadata": {},
   "outputs": [],
   "source": [
    "#| export\n",
    "def hdf2scalars(hdf_path,c_names,dataset = None):\n",
    "    with h5py.File(hdf_path,'r') as f:\n",
    "        ds = f if dataset is None else f[dataset]\n",
    "        l_array = [ds.attrs[n] for n in c_names]\n",
    "        scalars = np.stack(l_array,axis=-1)\n",
    "#         import pdb; pdb.set_trace()\n",
    "#         l_array = [f[n][:][:,None] for n in c_names]\n",
    "#         seq = np.concatenate(l_array,axis=1)\n",
    "        return scalars"
   ]
  },
  {
   "cell_type": "code",
   "execution_count": null,
   "metadata": {},
   "outputs": [],
   "source": [
    "# hdf2scalars('/mnt/data/sicwell/hdf5/Cycles/ch3/cycle00568.hdf5',['soc','temperature1'],dataset='measurement_00000')"
   ]
  },
  {
   "cell_type": "code",
   "execution_count": null,
   "metadata": {},
   "outputs": [],
   "source": [
    "#| export\n",
    "class HDF2Scalars(Transform):\n",
    "    \n",
    "    def __init__(self, clm_names,to_cls=noop):\n",
    "        store_attr('clm_names,to_cls')\n",
    "    \n",
    "    def _extract_dict_scalars(self,item):\n",
    "        if isinstance(item,dict):\n",
    "            path = item['path']\n",
    "            dataset = item['dataset'] if 'dataset' in item else None\n",
    "\n",
    "            seq = hdf2scalars(path,self.clm_names,dataset)\n",
    "        else:\n",
    "            seq = hdf2scalars(str(item),self.clm_names)\n",
    "        return self.to_cls(seq)\n",
    "\n",
    "    def encodes(self, item)->None: \n",
    "        return self._extract_dict_scalars(item)"
   ]
  },
  {
   "cell_type": "code",
   "execution_count": null,
   "metadata": {},
   "outputs": [],
   "source": [
    "# HDF2Scalars(['soc','temperature1'])({'path':'/mnt/data/sicwell/hdf5/Cycles/ch3/cycle00568.hdf5','dataset':'measurement_00000'})"
   ]
  },
  {
   "attachments": {},
   "cell_type": "markdown",
   "metadata": {},
   "source": [
    "### Extract Scalar from sequence"
   ]
  },
  {
   "cell_type": "code",
   "execution_count": null,
   "metadata": {},
   "outputs": [],
   "source": [
    "#| export\n",
    "class ScalarSequenceElement(Transform):\n",
    "    \n",
    "    def __init__(self, idx,to_cls=noop):\n",
    "        store_attr('idx,to_cls')\n",
    "\n",
    "    def encodes(self, item)->None: \n",
    "        return self.to_cls(item[self.idx])"
   ]
  },
  {
   "cell_type": "code",
   "execution_count": null,
   "metadata": {},
   "outputs": [
    {
     "data": {
      "text/plain": [
       "array([8.8531], dtype=float32)"
      ]
     },
     "execution_count": null,
     "metadata": {},
     "output_type": "execute_result"
    }
   ],
   "source": [
    "ScalarSequenceElement(-1)(hdf2seq(hdf_files[0]))"
   ]
  },
  {
   "attachments": {},
   "cell_type": "markdown",
   "metadata": {},
   "source": [
    "### 2.1 Datatypes for Sequences and Scalars"
   ]
  },
  {
   "cell_type": "code",
   "execution_count": null,
   "metadata": {},
   "outputs": [],
   "source": [
    "#| export\n",
    "class TensorSequences(TensorBase):#TensorBase\n",
    "#     def __init__(self,x,c_names=None, **kwargs):\n",
    "#         super().__init__()\n",
    "#         self.c_names = c_names\n",
    "    \n",
    "    def show(self, ctx=None, **kwargs):\n",
    "#         import pdb; pdb.set_trace()\n",
    "        ax = ctx\n",
    "        if ax is None: _,ax = plt.subplots()\n",
    "        ax.plot(self)\n",
    "#         if title is not None: ax.set_title(title)\n",
    "        return ax\n",
    "\n",
    "    @classmethod\n",
    "    @delegates(HDF2Sequence, keep=True)\n",
    "    def from_hdf(cls,clm_names,**kwargs):\n",
    "        return HDF2Sequence(clm_names,**kwargs)\n",
    "    \n",
    "class TensorSequencesInput(TensorSequences): pass\n",
    "class TensorSequencesOutput(TensorSequences): pass"
   ]
  },
  {
   "cell_type": "code",
   "execution_count": null,
   "metadata": {},
   "outputs": [
    {
     "data": {
      "text/plain": [
       "numpy.ndarray"
      ]
     },
     "execution_count": null,
     "metadata": {},
     "output_type": "execute_result"
    }
   ],
   "source": [
    "f = TensorSequencesInput.from_hdf(['current'])\n",
    "type(f(hdf_files[0]))"
   ]
  },
  {
   "cell_type": "code",
   "execution_count": null,
   "metadata": {},
   "outputs": [],
   "source": [
    "# TensorSequences(np.ones((30,2))).show()"
   ]
  },
  {
   "cell_type": "code",
   "execution_count": null,
   "metadata": {},
   "outputs": [],
   "source": [
    "#| export\n",
    "@Transform\n",
    "def toTensorSequencesInput(o): return TensorSequencesInput(o)\n",
    "@Transform\n",
    "def toTensorSequencesOutput(o): return TensorSequencesOutput(o)"
   ]
  },
  {
   "cell_type": "code",
   "execution_count": null,
   "metadata": {},
   "outputs": [],
   "source": [
    "#| export\n",
    "class TensorScalars(TensorBase):\n",
    "    @classmethod\n",
    "    @delegates(HDF2Scalars, keep=True)\n",
    "    def from_hdf(cls,clm_names,**kwargs):\n",
    "        return HDF2Scalars(clm_names,**kwargs)\n",
    "    \n",
    "    \n",
    "class TensorScalarsInput(TensorScalars): pass\n",
    "class TensorScalarsOutput(TensorScalars): pass\n"
   ]
  },
  {
   "attachments": {},
   "cell_type": "markdown",
   "metadata": {},
   "source": [
    "The tensor subclassing mechanism since pytorch 1.7 keeps the tensor type in tensor operations. Operations with different branches of subclasses of tensors require a implementation of '__torch_function__'.\n",
    "Fastai implements 'TensorBase.register_func' to mark methods that behave for the given types like the default torch operation.\n",
    "\n",
    "https://pytorch.org/docs/stable/notes/extending.html#extending-torch\n"
   ]
  },
  {
   "cell_type": "code",
   "execution_count": null,
   "metadata": {},
   "outputs": [],
   "source": [
    "#| export\n",
    "for f in torch.nn.functional.mse_loss,torch.nn.functional.huber_loss, Tensor.__getitem__, Tensor.__ne__,Tensor.__eq__,Tensor.add,Tensor.sub,Tensor.mul,Tensor.div,Tensor.__rsub__,Tensor.__radd__,Tensor.matmul,Tensor.bmm:\n",
    "    TensorBase.register_func(f,TensorSequences)\n",
    "    TensorBase.register_func(f,TensorScalars)"
   ]
  },
  {
   "cell_type": "code",
   "execution_count": null,
   "metadata": {},
   "outputs": [
    {
     "data": {
      "text/plain": [
       "TensorSequencesInput(0.1737)"
      ]
     },
     "execution_count": null,
     "metadata": {},
     "output_type": "execute_result"
    }
   ],
   "source": [
    "x1 = TensorSequencesInput(torch.rand((10,10)))\n",
    "x2 = TensorSequencesOutput(torch.rand((10,10)))\n",
    "torch.nn.functional.mse_loss(x1,x2)"
   ]
  },
  {
   "attachments": {},
   "cell_type": "markdown",
   "metadata": {},
   "source": [
    "## 3. Transformations\n"
   ]
  },
  {
   "attachments": {},
   "cell_type": "markdown",
   "metadata": {},
   "source": [
    "### 3.1 Sequence Slicing Transformation"
   ]
  },
  {
   "cell_type": "code",
   "execution_count": null,
   "metadata": {},
   "outputs": [],
   "source": [
    "#| export \n",
    "class SeqSlice(Transform):\n",
    "    '''Take a slice from an array-like object. Useful for e.g. shifting input and output'''\n",
    "    def __init__(self, l_slc=None,r_slc=None):\n",
    "        self.l_slc,self.r_slc = l_slc,r_slc\n",
    "        \n",
    "    def encodes(self, o): return o[self.l_slc:self.r_slc]"
   ]
  },
  {
   "cell_type": "code",
   "execution_count": null,
   "metadata": {},
   "outputs": [],
   "source": [
    "l_shift = SeqSlice(r_slc=-1)\n",
    "arr = np.ones((5))\n",
    "test_eq(l_shift(arr),arr[:-1])"
   ]
  },
  {
   "attachments": {},
   "cell_type": "markdown",
   "metadata": {},
   "source": [
    "### 3.2 Sequence Noise Injection Transformation"
   ]
  },
  {
   "cell_type": "code",
   "execution_count": null,
   "metadata": {},
   "outputs": [],
   "source": [
    "#| export\n",
    "class SeqNoiseInjection(RandTransform):\n",
    "    split_idx=0 #apply only to training data, if None it will be applied to all data\n",
    "    '''Adds normal distributed noise to the tensor sequence with seperate mean and std for every signal'''\n",
    "    def __init__(self, std=1e-1,mean=0.,p=1.0):\n",
    "        super().__init__(p=p)\n",
    "        self.std = tensor(std).type(torch.float)\n",
    "        self.mean = tensor(mean).type(torch.float)\n",
    "        \n",
    "    def encodes(self, o:TensorSequencesInput): \n",
    "        if o.device != self.mean.device:\n",
    "            self.std = self.std.to(o.device)\n",
    "            self.mean = self.mean.to(o.device)\n",
    "        #expand creates a view on a tensor and is therefore very fast compared to copy\n",
    "        return o+torch.normal(mean=self.mean.expand_as(o), \n",
    "                              std=self.std.expand_as(o))"
   ]
  },
  {
   "cell_type": "code",
   "execution_count": null,
   "metadata": {},
   "outputs": [
    {
     "data": {
      "text/plain": [
       "(TensorSequencesInput([[ 1.,  1.,  1.],\n",
       "                       [-1., -1., -1.]]),\n",
       " torch.Size([2, 3]))"
      ]
     },
     "execution_count": null,
     "metadata": {},
     "output_type": "execute_result"
    }
   ],
   "source": [
    "x = TensorSequencesInput(tensor([[1,1,1],[-1,-1,-1.0]]))\n",
    "ns_mean = tensor([0.,10.1,3.1])\n",
    "ns_std = tensor([1.,1.1,0.1])\n",
    "x,x.shape"
   ]
  },
  {
   "cell_type": "code",
   "execution_count": null,
   "metadata": {},
   "outputs": [
    {
     "data": {
      "text/plain": [
       "TensorSequencesInput([[ 1.,  1.,  1.],\n",
       "                      [-1., -1., -1.]])"
      ]
     },
     "execution_count": null,
     "metadata": {},
     "output_type": "execute_result"
    }
   ],
   "source": [
    "seq_noise = SeqNoiseInjection(std=ns_std,mean=ns_mean)\n",
    "seq_noise(x)"
   ]
  },
  {
   "cell_type": "code",
   "execution_count": null,
   "metadata": {},
   "outputs": [
    {
     "data": {
      "text/plain": [
       "TensorSequencesInput([[ 1.,  1.,  1.],\n",
       "                      [-1., -1., -1.]])"
      ]
     },
     "execution_count": null,
     "metadata": {},
     "output_type": "execute_result"
    }
   ],
   "source": [
    "seq_noise = SeqNoiseInjection(std=ns_std*10)\n",
    "seq_noise(x)"
   ]
  },
  {
   "cell_type": "code",
   "execution_count": null,
   "metadata": {},
   "outputs": [],
   "source": [
    "#| export\n",
    "class SeqNoiseInjection_Varying(RandTransform):\n",
    "    split_idx=0\n",
    "    '''Adds normal distributed noise to the tensor sequence with a normal distributed standard deviation for every application'''\n",
    "    def __init__(self, std_std=0.1,p=1.0):\n",
    "        super().__init__(p=p)\n",
    "        self.std_std = tensor(std_std).type(torch.float)\n",
    "        \n",
    "    def encodes(self, o:TensorSequencesInput): \n",
    "        if o.device != self.std_std.device:\n",
    "            self.std_std = self.std_std.to(o.device)\n",
    "            \n",
    "        #expand creates a view on a tensor and is therefore very fast compared to copy\n",
    "        std = torch.normal(mean=0,std=self.std_std).abs()\n",
    "        return o+torch.normal(mean=0,std=std.expand_as(o))"
   ]
  },
  {
   "cell_type": "code",
   "execution_count": null,
   "metadata": {},
   "outputs": [
    {
     "data": {
      "text/plain": [
       "(TensorSequencesInput([[0, 0, 0],\n",
       "                       [0, 0, 0]]),\n",
       " torch.Size([2, 3]))"
      ]
     },
     "execution_count": null,
     "metadata": {},
     "output_type": "execute_result"
    }
   ],
   "source": [
    "x = TensorSequencesInput(tensor([[0,0,0],[0,0,0]]))\n",
    "ns_std = tensor([1.,1.1,0.1])\n",
    "x,x.shape"
   ]
  },
  {
   "cell_type": "code",
   "execution_count": null,
   "metadata": {},
   "outputs": [
    {
     "data": {
      "text/plain": [
       "TensorSequencesInput([[0, 0, 0],\n",
       "                      [0, 0, 0]])"
      ]
     },
     "execution_count": null,
     "metadata": {},
     "output_type": "execute_result"
    }
   ],
   "source": [
    "seq_noise = SeqNoiseInjection_Varying(std_std=ns_std)\n",
    "seq_noise(x)"
   ]
  },
  {
   "cell_type": "code",
   "execution_count": null,
   "metadata": {},
   "outputs": [],
   "source": [
    "#| export\n",
    "class SeqNoiseInjection_Grouped(RandTransform):\n",
    "    split_idx=0\n",
    "    '''Adds normal distributed noise to the tensor sequence with a normal distributed standard deviation for every application, every group gert'''\n",
    "    def __init__(self, std_std,std_idx,p=1.0):\n",
    "        super().__init__(p=p)\n",
    "        self.std_std = tensor(std_std).type(torch.float)\n",
    "        self.std_idx = tensor(std_idx).type(torch.long)\n",
    "        \n",
    "    def encodes(self, o:TensorSequencesInput): \n",
    "        if o.device != self.std_std.device:\n",
    "            self.std_std = self.std_std.to(o.device)\n",
    "            \n",
    "        #expand creates a view on a tensor and is therefore very fast compared to copy\n",
    "        std = torch.normal(mean=0,std=self.std_std).abs()[self.std_idx]\n",
    "        return o+torch.normal(mean=0,std=std.expand_as(o))"
   ]
  },
  {
   "cell_type": "code",
   "execution_count": null,
   "metadata": {},
   "outputs": [
    {
     "data": {
      "text/plain": [
       "(TensorSequencesInput([[0, 0, 0],\n",
       "                       [0, 0, 0]]),\n",
       " torch.Size([2, 3]))"
      ]
     },
     "execution_count": null,
     "metadata": {},
     "output_type": "execute_result"
    }
   ],
   "source": [
    "x = TensorSequencesInput(tensor([[0,0,0],[0,0,0]]))\n",
    "ns_std = tensor([1.,1.1,0.1])\n",
    "x,x.shape"
   ]
  },
  {
   "cell_type": "code",
   "execution_count": null,
   "metadata": {},
   "outputs": [
    {
     "data": {
      "text/plain": [
       "TensorSequencesInput([[0, 0, 0],\n",
       "                      [0, 0, 0]])"
      ]
     },
     "execution_count": null,
     "metadata": {},
     "output_type": "execute_result"
    }
   ],
   "source": [
    "seq_noise = SeqNoiseInjection_Grouped(std_std=[3.,0],std_idx=[0,0,1])\n",
    "seq_noise(x)"
   ]
  },
  {
   "attachments": {},
   "cell_type": "markdown",
   "metadata": {},
   "source": [
    "### 3.2 Sequence Bias Injection Transformation"
   ]
  },
  {
   "cell_type": "code",
   "execution_count": null,
   "metadata": {},
   "outputs": [],
   "source": [
    "#| export\n",
    "class SeqBiasInjection(RandTransform):\n",
    "    split_idx=0\n",
    "    '''Adds a normal distributed offset to the tensor sequence with seperate mean and std for every signal'''\n",
    "    def __init__(self, std=1e-1,mean=0.,p=1.0):\n",
    "        super().__init__(p=p)\n",
    "        self.std = tensor(std).type(torch.float)\n",
    "        self.mean = tensor(mean).type(torch.float)\n",
    "        \n",
    "    def encodes(self, o:TensorSequencesInput): \n",
    "        if o.device != self.mean.device:\n",
    "            self.std = self.std.to(o.device)\n",
    "            self.mean = self.mean.to(o.device)\n",
    "        \n",
    "        #expand creates a view on a tensor and is therefore very fast compared to copy\n",
    "        mean=self.mean.repeat((o.shape[0],1,1)).expand((o.shape[0],1,o.shape[2]))\n",
    "        std= self.std.repeat((o.shape[0],1,1)).expand((o.shape[0],1,o.shape[2]))\n",
    "        n = torch.normal(mean=mean, std=std).expand_as(o)\n",
    "        return o+n"
   ]
  },
  {
   "cell_type": "code",
   "execution_count": null,
   "metadata": {},
   "outputs": [
    {
     "data": {
      "text/plain": [
       "TensorSequencesInput([[ 1., -1.]])"
      ]
     },
     "execution_count": null,
     "metadata": {},
     "output_type": "execute_result"
    }
   ],
   "source": [
    "x = TensorSequencesInput(tensor([[[1,1,1],[-1,-1,-1.0]]]))\n",
    "ns_mean = tensor([0.,10.1,3.1])\n",
    "ns_std = tensor([1.,1.1,0.1])\n",
    "seq_bias = SeqBiasInjection(std=ns_std,mean=ns_std)\n",
    "seq_bias(x)[...,0]"
   ]
  },
  {
   "cell_type": "code",
   "execution_count": null,
   "metadata": {},
   "outputs": [
    {
     "data": {
      "text/plain": [
       "tensor([1.0000, 1.1000, 0.1000])"
      ]
     },
     "execution_count": null,
     "metadata": {},
     "output_type": "execute_result"
    }
   ],
   "source": [
    "seq_bias.mean"
   ]
  },
  {
   "cell_type": "code",
   "execution_count": null,
   "metadata": {},
   "outputs": [
    {
     "data": {
      "text/plain": [
       "TensorSequencesInput([[[ 1.,  1.,  1.],\n",
       "                       [-1., -1., -1.]]])"
      ]
     },
     "execution_count": null,
     "metadata": {},
     "output_type": "execute_result"
    }
   ],
   "source": [
    "seq_bias = SeqBiasInjection(std=ns_std*10)\n",
    "seq_bias(x)"
   ]
  },
  {
   "attachments": {},
   "cell_type": "markdown",
   "metadata": {},
   "source": [
    "### 3.3 Normalization\n",
    "`Normalize` is programmed for `TensorImage` as an input tensor. It gets. At init the variable axes need to be chosen correspondingly to the shape of your tensor."
   ]
  },
  {
   "cell_type": "code",
   "execution_count": null,
   "metadata": {},
   "outputs": [],
   "source": [
    "#| export\n",
    "@Normalize\n",
    "def encodes(self, x:TensorSequencesInput): \n",
    "    if x.device != self.mean.device:\n",
    "        self.mean = self.mean.to(x.device)\n",
    "        self.std = self.std.to(x.device)\n",
    "    return (x-self.mean) / self.std\n",
    "\n",
    "@Normalize\n",
    "def decodes(self, x:TensorSequencesInput):\n",
    "    if x.device != self.mean.device:\n",
    "        self.mean = self.mean.to(x.device)\n",
    "        self.std = self.std.to(x.device)\n",
    "    return (x*self.std + self.mean)"
   ]
  },
  {
   "cell_type": "code",
   "execution_count": null,
   "metadata": {},
   "outputs": [
    {
     "data": {
      "text/plain": [
       "(TensorSequencesInput([[[ 1.,  1.,  1.],\n",
       "                        [-1., -1., -1.]]]),\n",
       " TensorSequencesInput([[[  1.0000,  -8.2727, -21.0000],\n",
       "                        [ -1.0000, -10.0909, -41.0000]]]))"
      ]
     },
     "execution_count": null,
     "metadata": {},
     "output_type": "execute_result"
    }
   ],
   "source": [
    "norm = Normalize.from_stats(mean=ns_mean,std=ns_std,dim=1,ndim=2,cuda=False)\n",
    "x,norm(x)"
   ]
  },
  {
   "attachments": {},
   "cell_type": "markdown",
   "metadata": {},
   "source": [
    "## 4. Split in Training, Validation\n",
    "Splitting kann anhand von vorher bekannten Indizes, dem Dateipfad oder anderen allgemeinen Funktion durchgeführt werden.\n",
    "\n",
    "Splitting innerhalb einer Sequenzen sollte in der Praxis nur dann geschehen wenn eine einzige Sequenz vorhanden ist. Diese kann dann vorher manuell geteilt werden.\n"
   ]
  },
  {
   "attachments": {},
   "cell_type": "markdown",
   "metadata": {},
   "source": [
    "### 4.1 Splitting mit vorgegebenem Index"
   ]
  },
  {
   "cell_type": "code",
   "execution_count": null,
   "metadata": {},
   "outputs": [],
   "source": [
    "splitter = IndexSplitter([1,2])\n",
    "test_eq(splitter(hdf_files),[[0],[1,2]])"
   ]
  },
  {
   "attachments": {},
   "cell_type": "markdown",
   "metadata": {},
   "source": [
    "### 4.2 Splitting mit allgemeiner Funktion\n",
    "Items, bei denen die definierte Funktion `True` zurück gibt, werden den Validierungsdatensatz zugeordnet, der Rest dem Training. In diesem Fall wird nach dem Übergeordneten Ordnernamen gesucht."
   ]
  },
  {
   "cell_type": "code",
   "execution_count": null,
   "metadata": {},
   "outputs": [],
   "source": [
    "splitter = FuncSplitter(lambda o: Path(o).parent.name == 'valid')\n",
    "test_eq(splitter(hdf_files),[[0,1],[2]])"
   ]
  },
  {
   "attachments": {},
   "cell_type": "markdown",
   "metadata": {},
   "source": [
    "### 4.3 Splitting anhand des Parent-Folders\n",
    "Splitter, der Explizit Training und Validierungsordner den Datensätzen zuordnet"
   ]
  },
  {
   "cell_type": "code",
   "execution_count": null,
   "metadata": {},
   "outputs": [],
   "source": [
    "#| export\n",
    "def _parent_idxs(items, name): return mask2idxs(Path(o).parent.name == name for o in items)\n",
    "\n",
    "def ParentSplitter(train_name='train', valid_name='valid'):\n",
    "    \"Split `items` from the parent folder names (`train_name` and `valid_name`).\"\n",
    "    def _inner(o, **kwargs):\n",
    "        return _parent_idxs(o, train_name),_parent_idxs(o, valid_name)\n",
    "    return _inner"
   ]
  },
  {
   "cell_type": "code",
   "execution_count": null,
   "metadata": {},
   "outputs": [],
   "source": [
    "splitter = ParentSplitter()\n",
    "test_eq(splitter(hdf_files),[[0,1],[2]])"
   ]
  },
  {
   "attachments": {},
   "cell_type": "markdown",
   "metadata": {},
   "source": [
    "### 4.4 Percentage Splitter"
   ]
  },
  {
   "cell_type": "code",
   "execution_count": null,
   "metadata": {},
   "outputs": [],
   "source": [
    "#| export\n",
    "def PercentageSplitter(pct=0.8):\n",
    "    \"Split `items` in order in relative quantity.\"\n",
    "    def _inner(o, **kwargs):\n",
    "        split_idx=int(len(o)*pct)\n",
    "        return L(range(split_idx)),L(range(split_idx,len(o)))\n",
    "    return _inner"
   ]
  },
  {
   "cell_type": "code",
   "execution_count": null,
   "metadata": {},
   "outputs": [],
   "source": [
    "splitter = PercentageSplitter(0.7)\n",
    "test_eq(splitter(hdf_files),[[0,1],[2]])"
   ]
  },
  {
   "attachments": {},
   "cell_type": "markdown",
   "metadata": {},
   "source": [
    "### 4.5 Apply To Dictionary\n",
    "In Case of the Datablock API your items are a list of dictionaries. If you want to apply a Splitter to the path stored within you need a wrapper function."
   ]
  },
  {
   "cell_type": "code",
   "execution_count": null,
   "metadata": {},
   "outputs": [],
   "source": [
    "#| export\n",
    "def ApplyToDict(fn,key='path'):\n",
    "    return lambda x:fn([i[key] for i in x])"
   ]
  },
  {
   "attachments": {},
   "cell_type": "markdown",
   "metadata": {},
   "source": [
    "### 4.6 Valid Column\n",
    "Using the 'valid' column of the Dataframe that has been created by a transformation."
   ]
  },
  {
   "cell_type": "code",
   "execution_count": null,
   "metadata": {},
   "outputs": [],
   "source": [
    "#| export\n",
    "valid_clm_splitter =  FuncSplitter(lambda o:o['valid'])"
   ]
  },
  {
   "cell_type": "code",
   "execution_count": null,
   "metadata": {},
   "outputs": [
    {
     "data": {
      "text/plain": [
       "((#53101) [0,1,2,3,4,5,6,7,8,9...],\n",
       " (#26550) [53101,53102,53103,53104,53105,53106,53107,53108,53109,53110...])"
      ]
     },
     "execution_count": null,
     "metadata": {},
     "output_type": "execute_result"
    }
   ],
   "source": [
    "valid_clm_splitter(src_dicts)"
   ]
  },
  {
   "attachments": {},
   "cell_type": "markdown",
   "metadata": {},
   "source": [
    "## 5. Dataloaders Creation\n",
    "A Datasets combines all implemented components on item level."
   ]
  },
  {
   "cell_type": "code",
   "execution_count": null,
   "metadata": {},
   "outputs": [],
   "source": [
    "#| export\n",
    "def pad_sequence(batch,sorting = False):\n",
    "    '''collate_fn for padding of sequences of different lengths, use in before_batch of databunch, still quite slow'''\n",
    "    #takes list of tuples as input, returns list of tuples\n",
    "    sorted_batch = sorted(batch, key=lambda x: x[0].shape[0], reverse=True) if sorting else batch\n",
    "\n",
    "    pad_func = partial(torch.nn.utils.rnn.pad_sequence,batch_first=True)\n",
    "    padded_tensors = [pad_func([x[tup] for x in sorted_batch]) for tup in range(len(batch[0]))]\n",
    "    padded_list = [retain_types(tuple([tup[entry] for tup in padded_tensors]),batch[0]) for entry in range(len(batch))]\n",
    "    #retain types is important for decoding later back to source items\n",
    "#     import pdb; pdb.set_trace()\n",
    "    \n",
    "    return padded_list"
   ]
  },
  {
   "attachments": {},
   "cell_type": "markdown",
   "metadata": {},
   "source": [
    "### 5.1 Low-Level with Transforms"
   ]
  },
  {
   "cell_type": "code",
   "execution_count": null,
   "metadata": {},
   "outputs": [],
   "source": [
    "tfms=[  [HDF2Sequence(['current','voltage']),SeqSlice(l_slc=1),toTensorSequencesInput],\n",
    "        [HDF2Sequence(['voltage']),SeqSlice(r_slc=-1),toTensorSequencesOutput]]\n",
    "splits = splitter([x['path'] for x in src_dicts])\n",
    "dsrc = Datasets(src_dicts,tfms=tfms,splits=splits)"
   ]
  },
  {
   "cell_type": "code",
   "execution_count": null,
   "metadata": {},
   "outputs": [],
   "source": [
    "# %%timeit\n",
    "# dsrc[0]"
   ]
  },
  {
   "cell_type": "code",
   "execution_count": null,
   "metadata": {},
   "outputs": [
    {
     "data": {
      "text/plain": [
       "torch.Size([128, 100, 2])"
      ]
     },
     "execution_count": null,
     "metadata": {},
     "output_type": "execute_result"
    }
   ],
   "source": [
    "db = dsrc.dataloaders(bs=128,after_batch=[SeqNoiseInjection(std=[1.1,0.01]),Normalize(axes=[0,1])],before_batch=pad_sequence)\n",
    "db.one_batch()[0].shape"
   ]
  },
  {
   "attachments": {},
   "cell_type": "markdown",
   "metadata": {},
   "source": [
    "### 5.2 Mid-Level with Datablock API"
   ]
  },
  {
   "cell_type": "code",
   "execution_count": null,
   "metadata": {},
   "outputs": [],
   "source": [
    "#| export\n",
    "class SequenceBlock(TransformBlock):\n",
    "    def __init__(self, seq_extract,padding=False):\n",
    "        return super().__init__(type_tfms=[seq_extract],\n",
    "                                batch_tfms=[Normalize(axes=[0,1])],\n",
    "                                dls_kwargs={} if not padding else {'before_batch': pad_sequence})\n",
    "\n",
    "    @classmethod\n",
    "    @delegates(HDF2Sequence, keep=True)\n",
    "    def from_hdf(cls, clm_names, seq_cls=TensorSequencesInput,padding=False, **kwargs):\n",
    "        return cls(HDF2Sequence(clm_names,to_cls=seq_cls,**kwargs), padding)\n",
    "\n",
    "    @classmethod\n",
    "    def from_numpy(cls, seq_cls=TensorSequencesInput,padding=False, **kwargs):\n",
    "        return cls(ToTensor(enc=seq_cls), padding)"
   ]
  },
  {
   "cell_type": "code",
   "execution_count": null,
   "metadata": {},
   "outputs": [],
   "source": [
    "seq = DataBlock(blocks=(SequenceBlock.from_hdf(['current','voltage'],TensorSequencesInput,padding=True,cached=None),\n",
    "                        SequenceBlock.from_hdf(['voltage'],TensorSequencesOutput,cached=None)),\n",
    "                get_items=tfm_src,\n",
    "                splitter=ApplyToDict(ParentSplitter()))"
   ]
  },
  {
   "cell_type": "code",
   "execution_count": null,
   "metadata": {},
   "outputs": [],
   "source": [
    "dls = seq.dataloaders(hdf_files)"
   ]
  },
  {
   "cell_type": "code",
   "execution_count": null,
   "metadata": {},
   "outputs": [],
   "source": [
    "#| export\n",
    "class ScalarNormalize(DisplayedTransform):\n",
    "    def __init__(self, mean=None, std=None, axes=(0,)): store_attr()\n",
    "        \n",
    "    @classmethod\n",
    "    def from_stats(cls, mean, std, dim=1, ndim=4, cuda=True): return cls(*broadcast_vec(dim, ndim, mean, std, cuda=cuda))\n",
    "    \n",
    "    def setups(self, dl:DataLoader):\n",
    "        if self.mean is None or self.std is None:\n",
    "            b = dl.one_batch()\n",
    "            for x in b:\n",
    "                if isinstance(x,TensorScalarsInput):\n",
    "                    self.mean,self.std = x.mean(self.axes, keepdim=True),x.std(self.axes, keepdim=True)+1e-7\n",
    "                    return\n",
    "\n",
    "    def encodes(self, x:TensorScalarsInput): \n",
    "        if x.device != self.mean.device:\n",
    "            self.mean = self.mean.to(x.device)\n",
    "            self.std = self.std.to(x.device)\n",
    "        return (x-self.mean) / self.std\n",
    "    \n",
    "    def decodes(self, x:TensorScalarsInput):\n",
    "        if x.device != self.mean.device:\n",
    "            self.mean = self.mean.to(x.device)\n",
    "            self.std = self.std.to(x.device)\n",
    "        return (x*self.std + self.mean)\n",
    "\n",
    "class ScalarBlock(TransformBlock):\n",
    "    def __init__(self, scl_extract):\n",
    "        return super().__init__(type_tfms=[scl_extract],\n",
    "                                batch_tfms=[ScalarNormalize()])\n",
    "\n",
    "    @classmethod\n",
    "    @delegates(HDF2Scalars, keep=True)\n",
    "    def from_hdf(cls, clm_names, scl_cls=TensorScalarsInput, **kwargs):\n",
    "        return cls(HDF2Scalars(clm_names,to_cls=scl_cls,**kwargs))"
   ]
  },
  {
   "attachments": {},
   "cell_type": "markdown",
   "metadata": {},
   "source": [
    "### 5.3 Spectrogram-Datablock"
   ]
  },
  {
   "cell_type": "code",
   "execution_count": null,
   "metadata": {},
   "outputs": [],
   "source": [
    "#| export\n",
    "class TensorSpectrogram(TensorBase):\n",
    "    def show(self, ctx=None, ax=None, title=\"\", **kwargs):\n",
    "        ax = ifnone(ax, ctx)\n",
    "        if ax is None:\n",
    "            _, ax = plt.subplots()\n",
    "        ax.axis(False)\n",
    "        n_channels = self.shape[0]\n",
    "        for i, channel in enumerate(self):\n",
    "            ia = ax.inset_axes((i / n_channels, 0.2, 1 / n_channels, 0.7))\n",
    "#             ia = ax.inset_axes((i / n_channels, 0, 1 / n_channels, 1))\n",
    "    \n",
    "            ia.imshow(channel.cpu().numpy(),aspect ='auto',origin ='lower')\n",
    "            if i>0: ia.set_yticks([])\n",
    "            ia.set_title(f\"Channel {i}\")\n",
    "        ax.set_title(title)\n",
    "        return ax\n",
    "\n",
    "class TensorSpectrogramInput(TensorSpectrogram): pass\n",
    "class TensorSpectrogramOutput(TensorSpectrogram): pass"
   ]
  },
  {
   "cell_type": "code",
   "execution_count": null,
   "metadata": {},
   "outputs": [
    {
     "data": {
      "text/plain": [
       "torch.Size([2000, 1])"
      ]
     },
     "execution_count": null,
     "metadata": {},
     "output_type": "execute_result"
    }
   ],
   "source": [
    "seq_spec = TensorSpectrogramInput(HDF2Sequence(['current'],to_cls=TensorSpectrogramInput)._hdf_extract_sequence(hdf_files[0],r_slc=2000))\n",
    "seq_spec.shape"
   ]
  },
  {
   "cell_type": "code",
   "execution_count": null,
   "metadata": {},
   "outputs": [],
   "source": [
    "#| exporti\n",
    "def complex_norm(\n",
    "        complex_tensor: Tensor,\n",
    "        power: float = 1.0\n",
    ") -> Tensor:\n",
    "    r\"\"\"Compute the norm of complex tensor input.\n",
    "\n",
    "    Args:\n",
    "        complex_tensor (Tensor): Tensor shape of `(..., complex=2)`\n",
    "        power (float): Power of the norm. (Default: `1.0`).\n",
    "\n",
    "    Returns:\n",
    "        Tensor: Power of the normed input tensor. Shape of `(..., )`\n",
    "    \"\"\"\n",
    "    if power == 1.0:\n",
    "        return torch.norm(complex_tensor, 2, -1)\n",
    "    return torch.norm(complex_tensor, 2, -1).pow(power)"
   ]
  },
  {
   "cell_type": "code",
   "execution_count": null,
   "metadata": {},
   "outputs": [],
   "source": [
    "#| exporti\n",
    "def spectrogram(\n",
    "        waveform: Tensor,\n",
    "        pad: int,\n",
    "        window: Tensor,\n",
    "        n_fft: int,\n",
    "        hop_length: int,\n",
    "        win_length: int,\n",
    "        power: Optional[float],\n",
    "        normalized: bool\n",
    ") -> Tensor:\n",
    "    r\"\"\"Create a spectrogram or a batch of spectrograms from a raw audio signal.\n",
    "    The spectrogram can be either magnitude-only or complex.\n",
    "\n",
    "    Args:\n",
    "        waveform (Tensor): Tensor of audio of dimension (..., time)\n",
    "        pad (int): Two sided padding of signal\n",
    "        window (Tensor): Window tensor that is applied/multiplied to each frame/window\n",
    "        n_fft (int): Size of FFT\n",
    "        hop_length (int): Length of hop between STFT windows\n",
    "        win_length (int): Window size\n",
    "        power (float or None): Exponent for the magnitude spectrogram,\n",
    "            (must be > 0) e.g., 1 for energy, 2 for power, etc.\n",
    "            If None, then the complex spectrum is returned instead.\n",
    "        normalized (bool): Whether to normalize by magnitude after stft\n",
    "\n",
    "    Returns:\n",
    "        Tensor: Dimension (..., freq, time), freq is\n",
    "        ``n_fft // 2 + 1`` and ``n_fft`` is the number of\n",
    "        Fourier bins, and time is the number of window hops (n_frame).\n",
    "    \"\"\"\n",
    "\n",
    "    if pad > 0:\n",
    "        # TODO add \"with torch.no_grad():\" back when JIT supports it\n",
    "        waveform = torch.nn.functional.pad(waveform, (pad, pad), \"constant\")\n",
    "\n",
    "    # pack batch\n",
    "    shape = waveform.size()\n",
    "    waveform = waveform.view(-1, shape[-1])\n",
    "\n",
    "    # default values are consistent with librosa.core.spectrum._spectrogram\n",
    "    spec_f = torch.view_as_real(torch.stft(\n",
    "        waveform, n_fft, hop_length, win_length, window, True, \"reflect\", False, True,return_complex=True\n",
    "    ))\n",
    "\n",
    "    # unpack batch\n",
    "    spec_f = spec_f.view(shape[:-1] + spec_f.shape[-3:])\n",
    "\n",
    "    if normalized:\n",
    "        spec_f /= window.pow(2.).sum().sqrt()\n",
    "    if power is not None:\n",
    "        spec_f = complex_norm(spec_f, power=power)\n",
    "\n",
    "    return spec_f"
   ]
  },
  {
   "cell_type": "code",
   "execution_count": null,
   "metadata": {},
   "outputs": [],
   "source": [
    "#| exporti\n",
    "from typing import Callable\n",
    "\n",
    "class Spectrogram(torch.nn.Module):\n",
    "    r\"\"\"Create a spectrogram from a audio signal.\n",
    "\n",
    "    Args:\n",
    "        n_fft (int, optional): Size of FFT, creates ``n_fft // 2 + 1`` bins. (Default: ``400``)\n",
    "        win_length (int or None, optional): Window size. (Default: ``n_fft``)\n",
    "        hop_length (int or None, optional): Length of hop between STFT windows. (Default: ``win_length // 2``)\n",
    "        pad (int, optional): Two sided padding of signal. (Default: ``0``)\n",
    "        window_fn (Callable[..., Tensor], optional): A function to create a window tensor\n",
    "            that is applied/multiplied to each frame/window. (Default: ``torch.hann_window``)\n",
    "        power (float or None, optional): Exponent for the magnitude spectrogram,\n",
    "            (must be > 0) e.g., 1 for energy, 2 for power, etc.\n",
    "            If None, then the complex spectrum is returned instead. (Default: ``2``)\n",
    "        normalized (bool, optional): Whether to normalize by magnitude after stft. (Default: ``False``)\n",
    "        wkwargs (dict or None, optional): Arguments for window function. (Default: ``None``)\n",
    "    \"\"\"\n",
    "    __constants__ = ['n_fft', 'win_length', 'hop_length', 'pad', 'power', 'normalized']\n",
    "\n",
    "    def __init__(self,\n",
    "                 n_fft: int = 400,\n",
    "                 win_length: Optional[int] = None,\n",
    "                 hop_length: Optional[int] = None,\n",
    "                 pad: int = 0,\n",
    "                 window_fn: Callable[..., Tensor] = torch.hann_window,\n",
    "                 power: Optional[float] = 2.,\n",
    "                 normalized: bool = False,\n",
    "                 wkwargs: Optional[dict] = None) -> None:\n",
    "        super(Spectrogram, self).__init__()\n",
    "        self.n_fft = n_fft\n",
    "        # number of FFT bins. the returned STFT result will have n_fft // 2 + 1\n",
    "        # number of frequecies due to onesided=True in torch.stft\n",
    "        self.win_length = win_length if win_length is not None else n_fft\n",
    "        self.hop_length = hop_length if hop_length is not None else self.win_length // 2\n",
    "        window = window_fn(self.win_length) if wkwargs is None else window_fn(self.win_length, **wkwargs)\n",
    "        self.register_buffer('window', window)\n",
    "        self.pad = pad\n",
    "        self.power = power\n",
    "        self.normalized = normalized\n",
    "\n",
    "    def forward(self, waveform: Tensor) -> Tensor:\n",
    "        r\"\"\"\n",
    "        Args:\n",
    "            waveform (Tensor): Tensor of audio of dimension (..., time).\n",
    "\n",
    "        Returns:\n",
    "            Tensor: Dimension (..., freq, time), where freq is\n",
    "            ``n_fft // 2 + 1`` where ``n_fft`` is the number of\n",
    "            Fourier bins, and time is the number of window hops (n_frame).\n",
    "        \"\"\"\n",
    "        return spectrogram(waveform, self.pad, self.window, self.n_fft, self.hop_length,\n",
    "                             self.win_length, self.power, self.normalized)"
   ]
  },
  {
   "cell_type": "code",
   "execution_count": null,
   "metadata": {},
   "outputs": [],
   "source": [
    "#| export\n",
    "@delegates(Spectrogram, keep=True)\n",
    "class Sequence2Spectrogram(Transform):\n",
    "    '''calculates the FFT of a sequence'''\n",
    "    \n",
    "    def __init__(self,scaling='log',**kwargs): \n",
    "        self.scaling=scaling\n",
    "        self.tfm = Spectrogram(**kwargs)\n",
    "        \n",
    "    def encodes(self, o:TensorSpectrogram): \n",
    "        if o.device != self.tfm.window.device: self.tfm.window = self.tfm.window.to(o.device)\n",
    "#         import pdb;pdb.set_trace()\n",
    "        spec = self.tfm(o.transpose(-1,-2).contiguous())\n",
    "        if self.scaling == 'log': spec = torch.log10(spec + 1e-10)\n",
    "        return spec"
   ]
  },
  {
   "cell_type": "code",
   "execution_count": null,
   "metadata": {},
   "outputs": [],
   "source": [
    "#| export\n",
    "class SpectrogramBlock(TransformBlock):\n",
    "    def __init__(self, seq_extract,padding=False,n_fft=100,hop_length=None,normalized=False):\n",
    "        return super().__init__(type_tfms=[seq_extract],\n",
    "                                batch_tfms=[Sequence2Spectrogram(n_fft=n_fft,hop_length=hop_length,normalized=normalized)],\n",
    "                                dls_kwargs={} if not padding else {'before_batch': pad_sequence})\n",
    "\n",
    "    @classmethod\n",
    "    @delegates(HDF2Sequence, keep=True)\n",
    "    def from_hdf(cls, clm_names, seq_cls=TensorSpectrogramInput,padding=False,n_fft=100,hop_length=None,normalized=False, **kwargs):\n",
    "        return cls(HDF2Sequence(clm_names,to_cls=seq_cls,**kwargs), padding,n_fft=n_fft,hop_length=hop_length,normalized=normalized)"
   ]
  },
  {
   "cell_type": "code",
   "execution_count": null,
   "metadata": {},
   "outputs": [],
   "source": [
    "dls_spec = DataBlock(blocks=(SpectrogramBlock.from_hdf(['current','voltage'],n_fft=100,hop_length=10,normalized=True),\n",
    "                        SequenceBlock.from_hdf(['voltage'],TensorSequencesOutput)),\n",
    "                get_items= CreateDict([DfHDFCreateWindows(win_sz=2000+1,stp_sz=10,clm='current')]),\n",
    "                splitter=ApplyToDict(ParentSplitter())).dataloaders(hdf_files)"
   ]
  },
  {
   "cell_type": "code",
   "execution_count": null,
   "metadata": {},
   "outputs": [
    {
     "data": {
      "text/plain": [
       "torch.Size([64, 2, 51, 201])"
      ]
     },
     "execution_count": null,
     "metadata": {},
     "output_type": "execute_result"
    }
   ],
   "source": [
    "dls_spec.one_batch()[0].shape"
   ]
  },
  {
   "attachments": {},
   "cell_type": "markdown",
   "metadata": {},
   "source": [
    "## 6. Show Batches and Results"
   ]
  },
  {
   "cell_type": "code",
   "execution_count": null,
   "metadata": {},
   "outputs": [],
   "source": [
    "#| export\n",
    "def plot_sequence(axs,in_sig,targ_sig,out_sig=None,**kwargs):\n",
    "    n_targ = targ_sig.shape[1]\n",
    "    for j,ax in  enumerate(axs[:-1]):\n",
    "        ax.plot(targ_sig[:,j])\n",
    "        if out_sig is not None: \n",
    "            ax.plot(out_sig[:,j])\n",
    "            ax.legend(['y','ŷ'])\n",
    "            if 'ref' in kwargs:\n",
    "                ax.plot(kwargs['ref'][:,j]) \n",
    "        ax.label_outer()\n",
    "    axs[-1].plot(in_sig)"
   ]
  },
  {
   "cell_type": "code",
   "execution_count": null,
   "metadata": {},
   "outputs": [],
   "source": [
    "#| export\n",
    "def plot_seqs_single_figure(n_samples,n_targ,samples,plot_func,outs=None,**kwargs):\n",
    "    rows=max(1,((n_samples-1) // 3)+1)\n",
    "    cols=min(3,n_samples)\n",
    "    fig = plt.figure(figsize=(9,2*cols))\n",
    "    outer_grid = fig.add_gridspec(rows, cols)\n",
    "#     import pdb; pdb.set_trace()\n",
    "    for i in range(n_samples):\n",
    "        in_sig = samples[i][0]\n",
    "        targ_sig = samples[i][1]\n",
    "        if outs is not None: out_sig = outs[i][0]\n",
    "        inner_grid = outer_grid[i].subgridspec(n_targ+1, 1)\n",
    "        axs = [fig.add_subplot(inner_grid[j]) for j in range(n_targ+1)]\n",
    "        plot_func(axs,in_sig,targ_sig,out_sig=out_sig if outs is not None else None,**kwargs)\n",
    "    plt.tight_layout()"
   ]
  },
  {
   "cell_type": "code",
   "execution_count": null,
   "metadata": {},
   "outputs": [],
   "source": [
    "#| export\n",
    "def plot_seqs_multi_figures(n_samples,n_targ,samples,plot_func,outs=None,**kwargs):\n",
    "    for i in range(n_samples):\n",
    "        fig = plt.figure(figsize=(9,3))\n",
    "        axs = fig.subplots(nrows=n_targ+1,sharex=True)\n",
    "        in_sig = samples[i][0]\n",
    "        targ_sig = samples[i][1]\n",
    "        if outs is not None:  out_sig = outs[i][0]\n",
    "            \n",
    "        plot_func(axs,in_sig,targ_sig,out_sig=out_sig if outs is not None else None,**kwargs)\n",
    "        \n",
    "        plt.tight_layout()"
   ]
  },
  {
   "cell_type": "code",
   "execution_count": null,
   "metadata": {},
   "outputs": [],
   "source": [
    "#| export\n",
    "@typedispatch\n",
    "def show_batch(x:TensorSequences, y:TensorSequences, samples, ctxs=None, max_n=6, **kwargs):\n",
    "    n_samples = min(len(samples), max_n)\n",
    "    n_targ = samples[0][1].shape[1]\n",
    "    if n_samples > 3:\n",
    "        #if there are more then 3 samples to plot then put them in a single figure\n",
    "        plot_seqs_single_figure(n_samples,n_targ,samples,plot_sequence, **kwargs)\n",
    "    else:\n",
    "        #if there are less then 3 samples to plot then put each in its own figure\n",
    "        plot_seqs_multi_figures(n_samples,n_targ,samples,plot_sequence, **kwargs)\n",
    "    return ctxs"
   ]
  },
  {
   "cell_type": "code",
   "execution_count": null,
   "metadata": {},
   "outputs": [],
   "source": [
    "#| export\n",
    "@typedispatch\n",
    "def show_results(x:TensorSequences, y:TensorSequences, samples, outs, ctxs=None, max_n=2, **kwargs):\n",
    "    n_samples = min(len(samples), max_n)\n",
    "    n_targ = samples[0][1].shape[1]\n",
    "    if n_samples > 3:\n",
    "        #if there are more then 3 samples to plot then put them in a single figure\n",
    "        plot_seqs_single_figure(n_samples,n_targ,samples,plot_sequence,outs, **kwargs)\n",
    "    else:\n",
    "        #if there are less then 3 samples to plot then put each in its own figure\n",
    "        plot_seqs_multi_figures(n_samples,n_targ,samples,plot_sequence,outs, **kwargs)\n",
    "    return ctxs"
   ]
  },
  {
   "cell_type": "code",
   "execution_count": null,
   "metadata": {},
   "outputs": [
    {
     "data": {
      "application/vnd.jupyter.widget-view+json": {
       "model_id": "e64f919081624f5397b79b7a81dc5cb3",
       "version_major": 2,
       "version_minor": 0
      },
      "image/png": "[encoded data removed]",
      "text/html": [
       "\n",
       "            <div style=\"display: inline-block;\">\n",
       "                <div class=\"jupyter-widgets widget-label\" style=\"text-align: center;\">\n",
       "                    Figure\n",
       "                </div>\n",
       "                <img src='data:image/png;base64,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' width=900.0/>\n",
       "            </div>\n",
       "        "
      ],
      "text/plain": [
       "Canvas(toolbar=Toolbar(toolitems=[('Home', 'Reset original view', 'home', 'home'), ('Back', 'Back to previous …"
      ]
     },
     "metadata": {},
     "output_type": "display_data"
    }
   ],
   "source": [
    "dls.show_batch()"
   ]
  },
  {
   "cell_type": "code",
   "execution_count": null,
   "metadata": {},
   "outputs": [],
   "source": [
    "#| include: false\n",
    "import nbdev; nbdev.nbdev_export()"
   ]
  },
  {
   "cell_type": "code",
   "execution_count": null,
   "metadata": {},
   "outputs": [],
   "source": []
  },
  {
   "cell_type": "code",
   "execution_count": null,
   "metadata": {},
   "outputs": [],
   "source": []
  }
 ],
 "metadata": {
  "kernelspec": {
   "display_name": "python3",
   "language": "python",
   "name": "python3"
  }
 },
 "nbformat": 4,
 "nbformat_minor": 4
}
