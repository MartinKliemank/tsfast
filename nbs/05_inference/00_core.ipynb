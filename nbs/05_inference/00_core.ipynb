{
 "cells": [
  {
   "cell_type": "raw",
   "metadata": {},
   "source": [
    "---\n",
    "description: Pytorch Modules for Training Models for sequential data\n",
    "output-file: core.html\n",
    "title: Inference\n",
    "\n",
    "---\n",
    "\n"
   ]
  },
  {
   "cell_type": "code",
   "execution_count": 1,
   "metadata": {},
   "outputs": [],
   "source": [
    "#| default_exp inference.core\n",
    "#| default_cls_lvl 3"
   ]
  },
  {
   "cell_type": "code",
   "execution_count": 2,
   "metadata": {},
   "outputs": [],
   "source": [
    "#| export\n",
    "from tsfast.datasets.core import extract_mean_std_from_dls\n",
    "from tsfast.data.loader import reset_model_state\n",
    "from tsfast.models.layers import NormalizedModel\n",
    "import numpy as np\n",
    "import torch"
   ]
  },
  {
   "cell_type": "code",
   "execution_count": 3,
   "metadata": {},
   "outputs": [],
   "source": [
    "#| export\n",
    "\n",
    "class InferenceWrapper:\n",
    "    \"\"\"\n",
    "    A wrapper class to simplify inference with a trained tsfast/fastai Learner\n",
    "    on NumPy data. Handles normalization and state reset automatically.\n",
    "    \"\"\"\n",
    "    def __init__(self, learner,device='cpu'):\n",
    "        \"\"\"\n",
    "        Initializes the inferencer.\n",
    "\n",
    "        Args:\n",
    "            learner: The trained tsfast/fastai Learner object.\n",
    "            device = 'cpu': The device to run the inference on.\n",
    "        \"\"\"\n",
    "        if not hasattr(learner, 'model') or not hasattr(learner, 'dls'):\n",
    "            raise TypeError(\"Input 'learner' object does not appear to be a valid fastai/tsfast Learner.\")\n",
    "\n",
    "        self.device = device\n",
    "        self.core_model = learner.model.to(self.device)\n",
    "\n",
    "        # Extract normalization stats\n",
    "        mean, std = extract_mean_std_from_dls(learner.dls)\n",
    "        if mean is None or std is None:\n",
    "             raise ValueError(\"Could not extract mean/std from learner's DataLoaders. Ensure normalization was used during training.\")\n",
    "\n",
    "        # Create and store the NormalizedModel\n",
    "        self.norm_model = NormalizedModel(self.core_model, mean, std).to(self.device)\n",
    "        self.norm_model.eval() # Set to evaluation mode\n",
    "\n",
    "    def inference(self, numpy_data: np.ndarray) -> np.ndarray:\n",
    "        # Add batch dimension if needed\n",
    "        if numpy_data.ndim == 1:\n",
    "            numpy_data_batched = np.expand_dims(numpy_data, axis=(0,-1))\n",
    "        elif numpy_data.ndim == 2:\n",
    "            numpy_data_batched = np.expand_dims(numpy_data, axis=0)\n",
    "        elif numpy_data.ndim == 3 and numpy_data.shape[0] == 1:\n",
    "            numpy_data_batched = numpy_data\n",
    "        else:\n",
    "             raise ValueError(f\"Input data should have 2 dimensions [seq_len, features] or 3 dimensions [1, seq_len, features]. Provided shape: {numpy_data.shape}\")\n",
    "\n",
    "        input_tensor = torch.from_numpy(numpy_data_batched).float().to(self.device)\n",
    "\n",
    "        output_tensor = None\n",
    "        with torch.no_grad():\n",
    "            reset_model_state(self.core_model)\n",
    "            model_output = self.norm_model(input_tensor)\n",
    "\n",
    "            # Handle tuple outputs\n",
    "            if isinstance(model_output, tuple):\n",
    "                output_tensor = model_output[0]\n",
    "            else:\n",
    "                output_tensor = model_output\n",
    "        if output_tensor is None:\n",
    "            raise RuntimeError(\"Model did not return a valid output tensor.\")\n",
    "\n",
    "        return output_tensor.squeeze(0).cpu().numpy()\n",
    "\n",
    "    def __call__(self, numpy_data: np.ndarray) -> np.ndarray:\n",
    "        \"\"\"Allows calling the predictor instance like a function.\"\"\"\n",
    "        return self.inference(numpy_data)"
   ]
  },
  {
   "cell_type": "code",
   "execution_count": 4,
   "metadata": {},
   "outputs": [],
   "source": [
    "from tsfast.datasets.core import create_dls_test\n",
    "from tsfast.learner.learner import RNNLearner"
   ]
  },
  {
   "cell_type": "code",
   "execution_count": 5,
   "metadata": {},
   "outputs": [],
   "source": [
    "dls = create_dls_test()\n",
    "lrn = RNNLearner(dls)\n",
    "model = InferenceWrapper(lrn)"
   ]
  },
  {
   "cell_type": "code",
   "execution_count": 6,
   "metadata": {},
   "outputs": [
    {
     "data": {
      "text/plain": [
       "(100, 1)"
      ]
     },
     "execution_count": 6,
     "metadata": {},
     "output_type": "execute_result"
    }
   ],
   "source": [
    "model(np.random.randn(100, 1)).shape"
   ]
  },
  {
   "cell_type": "code",
   "execution_count": 7,
   "metadata": {},
   "outputs": [
    {
     "data": {
      "text/plain": [
       "(100, 1)"
      ]
     },
     "execution_count": 7,
     "metadata": {},
     "output_type": "execute_result"
    }
   ],
   "source": [
    "model(np.random.randn(100)).shape"
   ]
  },
  {
   "cell_type": "code",
   "execution_count": 8,
   "metadata": {},
   "outputs": [
    {
     "data": {
      "text/plain": [
       "(100, 1)"
      ]
     },
     "execution_count": 8,
     "metadata": {},
     "output_type": "execute_result"
    }
   ],
   "source": [
    "model(np.random.randn(1,100,1)).shape"
   ]
  },
  {
   "cell_type": "code",
   "execution_count": 9,
   "metadata": {},
   "outputs": [],
   "source": [
    "#| include: false\n",
    "import nbdev; nbdev.nbdev_export()"
   ]
  },
  {
   "cell_type": "code",
   "execution_count": null,
   "metadata": {},
   "outputs": [],
   "source": []
  }
 ],
 "metadata": {
  "kernelspec": {
   "display_name": "env_tsfast",
   "language": "python",
   "name": "python3"
  },
  "language_info": {
   "codemirror_mode": {
    "name": "ipython",
    "version": 3
   },
   "file_extension": ".py",
   "mimetype": "text/x-python",
   "name": "python",
   "nbconvert_exporter": "python",
   "pygments_lexer": "ipython3",
   "version": "3.10.16"
  }
 },
 "nbformat": 4,
 "nbformat_minor": 4
}
