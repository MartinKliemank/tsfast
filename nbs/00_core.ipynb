{
 "cells": [
  {
   "cell_type": "raw",
   "metadata": {},
   "source": [
    "---\n",
    "description: Corefunctionality for data preparation of sequential data for pytorch,\n",
    "  fastai models\n",
    "output-file: core.html\n",
    "title: Corefunctions\n",
    "\n",
    "---\n",
    "\n"
   ]
  },
  {
   "cell_type": "code",
   "execution_count": 1,
   "metadata": {},
   "outputs": [],
   "source": [
    "#| default_exp core\n",
    "#| default_cls_lvl 3"
   ]
  },
  {
   "cell_type": "code",
   "execution_count": 2,
   "metadata": {},
   "outputs": [],
   "source": [
    "#| include: false\n",
    "# %load_ext line_profiler\n",
    "%matplotlib widget"
   ]
  },
  {
   "cell_type": "markdown",
   "metadata": {},
   "source": [
    "# Application Structure\n",
    "The data will be extracted and prepared via transforms. Those are grouped in:\n",
    "- Type Transforms: Those extraxt the needed components from the source items, like input sequences or target scalar values. The work on single tensors.\n",
    "- Item Transforms: Those Transforms may work on tuple level and therefore may process relationships between input and output.\n",
    "- Batch Transform: Those transforms work on batch level. They receive batched tensors and may apply lazy transforms like normalization very effeciently.\n",
    "\n",
    "An application example may look like the following:\n",
    "- sourceitems: \n",
    "    - path extraction with hdf5 file endings\n",
    "    - create pandas dataframe with information for type transforms, like slices\n",
    "    - filter items in pandas dataframe\n",
    "- type transforms: \n",
    "    - extract hdf5 input and output sequence\n",
    "    - create windows\n",
    "- item transforms: \n",
    "    - filter sequence by value\n",
    "    - shift output sequence by 1 element\n",
    "- batch transforms: \n",
    "    - noise injection\n",
    "    - normalization\n",
    "    "
   ]
  },
  {
   "cell_type": "code",
   "execution_count": 3,
   "metadata": {},
   "outputs": [],
   "source": [
    "#| export\n",
    "from fastai.data.all import *\n",
    "from fastai.vision.augment import RandTransform\n",
    "import h5py"
   ]
  },
  {
   "cell_type": "code",
   "execution_count": 4,
   "metadata": {},
   "outputs": [],
   "source": [
    "#| export\n",
    "def obj_in_lst(lst,cls):\n",
    "    '''retrieve first object of type cls from a list'''\n",
    "    return next(o for o in lst if type(o) is cls)"
   ]
  },
  {
   "cell_type": "code",
   "execution_count": 5,
   "metadata": {},
   "outputs": [],
   "source": [
    "#| export\n",
    "def count_parameters(model):\n",
    "    '''retrieve number of trainable parameters of a model'''\n",
    "    return sum(p.numel() for p in model.parameters() if p.requires_grad)"
   ]
  },
  {
   "cell_type": "markdown",
   "metadata": {},
   "source": [
    "## 1. Extract Source Items\n",
    "The file paths may be extracted with `get_files` of fastai2. `get_hdf_files` removes the need of writing the hdf5 file extension.\n",
    "\n",
    "Then a pandas dataframe may be created in case further information for the source items need to be stored like slices for the windowing function."
   ]
  },
  {
   "cell_type": "markdown",
   "metadata": {},
   "source": [
    "### 1.1 Extract File Paths"
   ]
  },
  {
   "cell_type": "code",
   "execution_count": 6,
   "metadata": {},
   "outputs": [],
   "source": [
    "from nbdev.config import get_config\n",
    "project_root = get_config().config_file.parent\n",
    "f_path = project_root / 'test_data/WienerHammerstein'"
   ]
  },
  {
   "cell_type": "code",
   "execution_count": 7,
   "metadata": {},
   "outputs": [
    {
     "data": {
      "text/plain": [
       "(3,\n",
       " Path('/home/pheenix/Development/seqdata/test_data/WienerHammerstein/test/WienerHammerstein_test.hdf5'))"
      ]
     },
     "execution_count": 7,
     "metadata": {},
     "output_type": "execute_result"
    }
   ],
   "source": [
    "hdf_files = get_files(f_path,extensions='.hdf5',recurse=True)\n",
    "len(hdf_files),hdf_files[0]"
   ]
  },
  {
   "cell_type": "code",
   "execution_count": 8,
   "metadata": {},
   "outputs": [],
   "source": [
    "#| export\n",
    "hdf_extensions = ['.hdf5']\n",
    "def get_hdf_files(path,recurse=True, folders=None):\n",
    "    \"Get hdf5 files in `path` recursively, only in `folders`, if specified.\"\n",
    "    return get_files(path, extensions=hdf_extensions, recurse=recurse, folders=folders)"
   ]
  },
  {
   "cell_type": "code",
   "execution_count": 9,
   "metadata": {},
   "outputs": [
    {
     "data": {
      "text/plain": [
       "(3,\n",
       " Path('/home/pheenix/Development/seqdata/test_data/WienerHammerstein/test/WienerHammerstein_test.hdf5'))"
      ]
     },
     "execution_count": 9,
     "metadata": {},
     "output_type": "execute_result"
    }
   ],
   "source": [
    "hdf_files = get_hdf_files(f_path)\n",
    "len(hdf_files),hdf_files[0]"
   ]
  },
  {
   "cell_type": "markdown",
   "metadata": {},
   "source": [
    "### 1.2 Create Source Dictionaries\n",
    "In order to extract mulitple realizations of one file with different modifications, we create a list of properties. Pandas Dataframes are to slow for iteration but very fast and convenient for creations. So after creation of the pandas Dataframe we convert it to a list of dictionaries."
   ]
  },
  {
   "cell_type": "code",
   "execution_count": 10,
   "metadata": {},
   "outputs": [],
   "source": [
    "#| export\n",
    "def apply_df_tfms(src,pd_tfms = None):\n",
    "    '''Create Pandas Dataframe out of a list of items, with a list of df transforms applied'''\n",
    "    if type(src) is pd.DataFrame:\n",
    "        df = src\n",
    "    else:\n",
    "        df = pd.DataFrame(data=src.items,columns=['path'],dtype=str)\n",
    "    if pd_tfms is not None:\n",
    "        for t in pd_tfms:\n",
    "            df = t(df)\n",
    "    return df"
   ]
  },
  {
   "cell_type": "code",
   "execution_count": 11,
   "metadata": {},
   "outputs": [
    {
     "data": {
      "text/html": [
       "<div>\n",
       "<style scoped>\n",
       "    .dataframe tbody tr th:only-of-type {\n",
       "        vertical-align: middle;\n",
       "    }\n",
       "\n",
       "    .dataframe tbody tr th {\n",
       "        vertical-align: top;\n",
       "    }\n",
       "\n",
       "    .dataframe thead th {\n",
       "        text-align: right;\n",
       "    }\n",
       "</style>\n",
       "<table border=\"1\" class=\"dataframe\">\n",
       "  <thead>\n",
       "    <tr style=\"text-align: right;\">\n",
       "      <th></th>\n",
       "      <th>path</th>\n",
       "    </tr>\n",
       "  </thead>\n",
       "  <tbody>\n",
       "    <tr>\n",
       "      <th>0</th>\n",
       "      <td>/home/pheenix/Development/seqdata/test_data/WienerHammerstein/test/WienerHammerstein_test.hdf5</td>\n",
       "    </tr>\n",
       "    <tr>\n",
       "      <th>1</th>\n",
       "      <td>/home/pheenix/Development/seqdata/test_data/WienerHammerstein/train/WienerHammerstein_train.hdf5</td>\n",
       "    </tr>\n",
       "    <tr>\n",
       "      <th>2</th>\n",
       "      <td>/home/pheenix/Development/seqdata/test_data/WienerHammerstein/valid/WienerHammerstein_valid.hdf5</td>\n",
       "    </tr>\n",
       "  </tbody>\n",
       "</table>\n",
       "</div>"
      ],
      "text/plain": [
       "                                                                                               path\n",
       "0    /home/pheenix/Development/seqdata/test_data/WienerHammerstein/test/WienerHammerstein_test.hdf5\n",
       "1  /home/pheenix/Development/seqdata/test_data/WienerHammerstein/train/WienerHammerstein_train.hdf5\n",
       "2  /home/pheenix/Development/seqdata/test_data/WienerHammerstein/valid/WienerHammerstein_valid.hdf5"
      ]
     },
     "execution_count": 11,
     "metadata": {},
     "output_type": "execute_result"
    }
   ],
   "source": [
    "df = apply_df_tfms(hdf_files)\n",
    "df.head()"
   ]
  },
  {
   "cell_type": "code",
   "execution_count": 12,
   "metadata": {},
   "outputs": [],
   "source": [
    "test_eq(apply_df_tfms(hdf_files),apply_df_tfms(apply_df_tfms(hdf_files)))"
   ]
  },
  {
   "cell_type": "code",
   "execution_count": 13,
   "metadata": {},
   "outputs": [],
   "source": [
    "#| export\n",
    "def CreateDict(pd_tfms = None):\n",
    "    '''Create List of Dictionarys out of a list of items, with a list of df transforms applied'''\n",
    "    def _inner(src):\n",
    "        df = apply_df_tfms(src,pd_tfms)\n",
    "#         df_dict_list = df.to_dict(orient='records') native to_dict is slower than self written approach\n",
    "        df_values = df.values\n",
    "        df_dict = {name:list(df_values[:,i]) for (i,name) in enumerate(df.columns)}\n",
    "        df_dict_list = [{name: df_dict[name][i] for name in df_dict} for i in range(len(df))]\n",
    "        return df_dict_list\n",
    "    return _inner"
   ]
  },
  {
   "cell_type": "code",
   "execution_count": 14,
   "metadata": {},
   "outputs": [
    {
     "data": {
      "text/plain": [
       "[{'path': '/home/pheenix/Development/seqdata/test_data/WienerHammerstein/test/WienerHammerstein_test.hdf5'},\n",
       " {'path': '/home/pheenix/Development/seqdata/test_data/WienerHammerstein/train/WienerHammerstein_train.hdf5'},\n",
       " {'path': '/home/pheenix/Development/seqdata/test_data/WienerHammerstein/valid/WienerHammerstein_valid.hdf5'}]"
      ]
     },
     "execution_count": 14,
     "metadata": {},
     "output_type": "execute_result"
    }
   ],
   "source": [
    "l_dict =CreateDict()(hdf_files)\n",
    "l_dict"
   ]
  },
  {
   "cell_type": "code",
   "execution_count": 15,
   "metadata": {},
   "outputs": [],
   "source": [
    "#| export\n",
    "def ValidClmContains(lst_valid):\n",
    "    '''add validation column using a list of strings that are part of the validation frames'''\n",
    "    def _inner(df):\n",
    "        re_valid = '|'.join([re.escape(f) for f in lst_valid])\n",
    "        df['valid'] = df.path.str.contains(re_valid)\n",
    "        return df\n",
    "\n",
    "    return _inner"
   ]
  },
  {
   "cell_type": "code",
   "execution_count": 16,
   "metadata": {},
   "outputs": [
    {
     "name": "stdout",
     "output_type": "stream",
     "text": [
      "CPU times: user 1.38 ms, sys: 268 µs, total: 1.65 ms\n",
      "Wall time: 1.61 ms\n"
     ]
    },
    {
     "data": {
      "text/plain": [
       "[{'path': '/home/pheenix/Development/seqdata/test_data/WienerHammerstein/test/WienerHammerstein_test.hdf5',\n",
       "  'valid': False},\n",
       " {'path': '/home/pheenix/Development/seqdata/test_data/WienerHammerstein/train/WienerHammerstein_train.hdf5',\n",
       "  'valid': False},\n",
       " {'path': '/home/pheenix/Development/seqdata/test_data/WienerHammerstein/valid/WienerHammerstein_valid.hdf5',\n",
       "  'valid': True}]"
      ]
     },
     "execution_count": 16,
     "metadata": {},
     "output_type": "execute_result"
    }
   ],
   "source": [
    "%%time\n",
    "lst_valid = ['valid']\n",
    "CreateDict([ValidClmContains(lst_valid)])(hdf_files)"
   ]
  },
  {
   "cell_type": "code",
   "execution_count": 17,
   "metadata": {},
   "outputs": [],
   "source": [
    "#| export\n",
    "def ValidClmIs(lst_valid):\n",
    "    '''adds validation column using a list of validation filenames'''\n",
    "    def _inner(df):\n",
    "        df['valid'] = df.path.isin([str(f) for f in lst_valid])\n",
    "        return df\n",
    "\n",
    "    return _inner"
   ]
  },
  {
   "cell_type": "code",
   "execution_count": 18,
   "metadata": {},
   "outputs": [
    {
     "name": "stdout",
     "output_type": "stream",
     "text": [
      "CPU times: user 1.36 ms, sys: 266 µs, total: 1.63 ms\n",
      "Wall time: 1.6 ms\n"
     ]
    },
    {
     "data": {
      "text/plain": [
       "[{'path': '/home/pheenix/Development/seqdata/test_data/WienerHammerstein/test/WienerHammerstein_test.hdf5',\n",
       "  'valid': False},\n",
       " {'path': '/home/pheenix/Development/seqdata/test_data/WienerHammerstein/train/WienerHammerstein_train.hdf5',\n",
       "  'valid': False},\n",
       " {'path': '/home/pheenix/Development/seqdata/test_data/WienerHammerstein/valid/WienerHammerstein_valid.hdf5',\n",
       "  'valid': False}]"
      ]
     },
     "execution_count": 18,
     "metadata": {},
     "output_type": "execute_result"
    }
   ],
   "source": [
    "%%time\n",
    "lst_valid = ['test_data/battery/train/Sim_RealisticCycle2.hdf5',\n",
    "'test_data/battery/valid/Sim_RealisticCycle3.hdf5']\n",
    "CreateDict([ValidClmIs(lst_valid)])(hdf_files)"
   ]
  },
  {
   "cell_type": "code",
   "execution_count": 19,
   "metadata": {},
   "outputs": [],
   "source": [
    "#| export\n",
    "def FilterClm(clm_name,func = lambda x:x):\n",
    "    '''adds validation column using a list of validation filenames'''\n",
    "    def _inner(df):\n",
    "        return df[func(df[clm_name])]\n",
    "\n",
    "    return _inner"
   ]
  },
  {
   "cell_type": "code",
   "execution_count": 20,
   "metadata": {},
   "outputs": [
    {
     "data": {
      "text/plain": [
       "[]"
      ]
     },
     "execution_count": 20,
     "metadata": {},
     "output_type": "execute_result"
    }
   ],
   "source": [
    "CreateDict([ValidClmIs(lst_valid),FilterClm('valid')])(hdf_files)"
   ]
  },
  {
   "cell_type": "code",
   "execution_count": 21,
   "metadata": {},
   "outputs": [],
   "source": [
    "#| export\n",
    "def get_hdf_seq_len(df,clm,ds=None):\n",
    "    '''extract the sequence length of the dataset with the 'clm' name and 'f_path' path  '''\n",
    "    with h5py.File(df['path'],'r') as f:\n",
    "        ds = f if 'dataset' not in df else f[df['dataset']]\n",
    "        f_len = max(ds[clm].shape)\n",
    "    return f_len "
   ]
  },
  {
   "cell_type": "code",
   "execution_count": 22,
   "metadata": {},
   "outputs": [],
   "source": [
    "#| export\n",
    "def df_get_hdf_seq_len(df,clm,ds=None):\n",
    "    '''extracts the sequence length of every file in advance to prepare repeated window extractions with 'DfHDFCreateWindows' '''\n",
    "#     df['seq_len'] = ([get_hdf_seq_len(row.path,clm) for (idx, row) in df.iterrows()])\n",
    "    df['seq_len'] = df.apply(lambda x: get_hdf_seq_len(x,clm),axis=1)\n",
    "    return df"
   ]
  },
  {
   "cell_type": "code",
   "execution_count": 23,
   "metadata": {},
   "outputs": [],
   "source": [
    "#| export\n",
    "def DfHDFGetSeqLen(clm):\n",
    "    def _inner(df):\n",
    "        return df_get_hdf_seq_len(df,clm)\n",
    "    return _inner"
   ]
  },
  {
   "cell_type": "code",
   "execution_count": 24,
   "metadata": {},
   "outputs": [
    {
     "data": {
      "text/html": [
       "<div>\n",
       "<style scoped>\n",
       "    .dataframe tbody tr th:only-of-type {\n",
       "        vertical-align: middle;\n",
       "    }\n",
       "\n",
       "    .dataframe tbody tr th {\n",
       "        vertical-align: top;\n",
       "    }\n",
       "\n",
       "    .dataframe thead th {\n",
       "        text-align: right;\n",
       "    }\n",
       "</style>\n",
       "<table border=\"1\" class=\"dataframe\">\n",
       "  <thead>\n",
       "    <tr style=\"text-align: right;\">\n",
       "      <th></th>\n",
       "      <th>path</th>\n",
       "      <th>seq_len</th>\n",
       "    </tr>\n",
       "  </thead>\n",
       "  <tbody>\n",
       "    <tr>\n",
       "      <th>0</th>\n",
       "      <td>/home/pheenix/Development/seqdata/test_data/WienerHammerstein/test/WienerHammerstein_test.hdf5</td>\n",
       "      <td>88000</td>\n",
       "    </tr>\n",
       "    <tr>\n",
       "      <th>1</th>\n",
       "      <td>/home/pheenix/Development/seqdata/test_data/WienerHammerstein/train/WienerHammerstein_train.hdf5</td>\n",
       "      <td>80000</td>\n",
       "    </tr>\n",
       "    <tr>\n",
       "      <th>2</th>\n",
       "      <td>/home/pheenix/Development/seqdata/test_data/WienerHammerstein/valid/WienerHammerstein_valid.hdf5</td>\n",
       "      <td>20000</td>\n",
       "    </tr>\n",
       "  </tbody>\n",
       "</table>\n",
       "</div>"
      ],
      "text/plain": [
       "                                                                                               path  \\\n",
       "0    /home/pheenix/Development/seqdata/test_data/WienerHammerstein/test/WienerHammerstein_test.hdf5   \n",
       "1  /home/pheenix/Development/seqdata/test_data/WienerHammerstein/train/WienerHammerstein_train.hdf5   \n",
       "2  /home/pheenix/Development/seqdata/test_data/WienerHammerstein/valid/WienerHammerstein_valid.hdf5   \n",
       "\n",
       "   seq_len  \n",
       "0    88000  \n",
       "1    80000  \n",
       "2    20000  "
      ]
     },
     "execution_count": 24,
     "metadata": {},
     "output_type": "execute_result"
    }
   ],
   "source": [
    "df_get_hdf_seq_len(df,'u')"
   ]
  },
  {
   "cell_type": "code",
   "execution_count": 25,
   "metadata": {},
   "outputs": [
    {
     "data": {
      "text/html": [
       "<div>\n",
       "<style scoped>\n",
       "    .dataframe tbody tr th:only-of-type {\n",
       "        vertical-align: middle;\n",
       "    }\n",
       "\n",
       "    .dataframe tbody tr th {\n",
       "        vertical-align: top;\n",
       "    }\n",
       "\n",
       "    .dataframe thead th {\n",
       "        text-align: right;\n",
       "    }\n",
       "</style>\n",
       "<table border=\"1\" class=\"dataframe\">\n",
       "  <thead>\n",
       "    <tr style=\"text-align: right;\">\n",
       "      <th></th>\n",
       "      <th>path</th>\n",
       "      <th>seq_len</th>\n",
       "    </tr>\n",
       "  </thead>\n",
       "  <tbody>\n",
       "    <tr>\n",
       "      <th>0</th>\n",
       "      <td>/home/pheenix/Development/seqdata/test_data/WienerHammerstein/test/WienerHammerstein_test.hdf5</td>\n",
       "      <td>88000</td>\n",
       "    </tr>\n",
       "    <tr>\n",
       "      <th>1</th>\n",
       "      <td>/home/pheenix/Development/seqdata/test_data/WienerHammerstein/train/WienerHammerstein_train.hdf5</td>\n",
       "      <td>80000</td>\n",
       "    </tr>\n",
       "    <tr>\n",
       "      <th>2</th>\n",
       "      <td>/home/pheenix/Development/seqdata/test_data/WienerHammerstein/valid/WienerHammerstein_valid.hdf5</td>\n",
       "      <td>20000</td>\n",
       "    </tr>\n",
       "  </tbody>\n",
       "</table>\n",
       "</div>"
      ],
      "text/plain": [
       "                                                                                               path  \\\n",
       "0    /home/pheenix/Development/seqdata/test_data/WienerHammerstein/test/WienerHammerstein_test.hdf5   \n",
       "1  /home/pheenix/Development/seqdata/test_data/WienerHammerstein/train/WienerHammerstein_train.hdf5   \n",
       "2  /home/pheenix/Development/seqdata/test_data/WienerHammerstein/valid/WienerHammerstein_valid.hdf5   \n",
       "\n",
       "   seq_len  \n",
       "0    88000  \n",
       "1    80000  \n",
       "2    20000  "
      ]
     },
     "execution_count": 25,
     "metadata": {},
     "output_type": "execute_result"
    }
   ],
   "source": [
    "DfHDFGetSeqLen('u')(df)"
   ]
  },
  {
   "cell_type": "code",
   "execution_count": 26,
   "metadata": {},
   "outputs": [],
   "source": [
    "#| export\n",
    "import numbers\n",
    "def DfResamplingFactor(src_fs,lst_targ_fs):\n",
    "    if not isinstance(src_fs, numbers.Number) and not type(src_fs) is str: \n",
    "        raise ValueError('src_fs has to be a column name or a fixed number')\n",
    "    \n",
    "    def _inner(df):\n",
    "        np_targ_fs = array(lst_targ_fs)\n",
    "        pd.options.mode.chained_assignment = None #every row is a reference so we need to suppress the warning messages while copying\n",
    "\n",
    "        #repeat entries for every target fs\n",
    "        res_df = df.iloc[np.repeat(np.arange(len(df)),len(np_targ_fs))] \n",
    "        targ_fs = np.tile(np_targ_fs,len(df))\n",
    "        res_df['targ_fs'] = targ_fs\n",
    "        \n",
    "        if isinstance(src_fs, numbers.Number):\n",
    "            #src_fs is a fixed number\n",
    "            res_df['resampling_factor'] = targ_fs/src_fs\n",
    "        else:\n",
    "            #src_fs is a column name of the df\n",
    "            res_df['resampling_factor'] = targ_fs/res_df[src_fs]\n",
    "\n",
    "        pd.options.mode.chained_assignment = 'warn'\n",
    "        \n",
    "        return res_df\n",
    "    return _inner"
   ]
  },
  {
   "cell_type": "code",
   "execution_count": 27,
   "metadata": {},
   "outputs": [],
   "source": [
    "targ_fs = [50,100,300]\n",
    "test_eq(len(DfResamplingFactor(100,targ_fs)(df)),9)   \n",
    "df['src_fs'] = 200.\n",
    "test_eq(len(DfResamplingFactor('src_fs',targ_fs)(df)),9)"
   ]
  },
  {
   "cell_type": "code",
   "execution_count": 28,
   "metadata": {},
   "outputs": [],
   "source": [
    "#| export\n",
    "def DfHDFCreateWindows(win_sz,stp_sz, clm, fixed_start = False, fixed_end = False):\n",
    "    '''create windows of sequences, splits sequence into multiple items'''\n",
    "    def _inner(df):\n",
    "        if fixed_start and fixed_end: raise Exception\n",
    "        \n",
    "        if 'seq_len' in df:\n",
    "            np_f_len = df.seq_len.values\n",
    "        else:\n",
    "            np_f_len = np.array([get_hdf_seq_len(row,clm) for (idx, row) in df.iterrows()])\n",
    "            \n",
    "        if 'resampling_factor' in df: np_f_len =(np_f_len*df.resampling_factor.values).astype(int)\n",
    "            \n",
    "        n_win = ((np_f_len-win_sz)//stp_sz)+1\n",
    "        #cast array n_win to int and clip negative values to 0\n",
    "        n_win = n_win.astype(int)\n",
    "        n_win = np.clip(n_win,a_min=0,a_max=None) #remove negative values at instances where the winsize is smaller than the seq_len\n",
    "        lst_idx = np.arange(len(np_f_len))\n",
    "        \n",
    "        pd.options.mode.chained_assignment = None #every row is a reference so we need to suppress the warning messages while copying\n",
    "        \n",
    "        res_df = df.iloc[np.repeat(lst_idx,n_win)]\n",
    "#         res_df = df.loc[np.repeat(lst_idx,n_win)] #the loc variant as a little bit slower because it creates copies and returns wrong values with redundant indexes, but is more robust\n",
    "\n",
    "        step_idx = np.concatenate([np.arange(x) for x in n_win])\n",
    "    \n",
    "        \n",
    "        res_df['l_slc'] = step_idx*stp_sz if not fixed_start else None\n",
    "        res_df['r_slc'] = step_idx*stp_sz + win_sz if not fixed_end else None\n",
    "            \n",
    "        pd.options.mode.chained_assignment = 'warn'\n",
    "            \n",
    "        return res_df\n",
    "    \n",
    "    return _inner"
   ]
  },
  {
   "cell_type": "code",
   "execution_count": 29,
   "metadata": {},
   "outputs": [
    {
     "name": "stdout",
     "output_type": "stream",
     "text": [
      "CPU times: user 2.44 ms, sys: 477 µs, total: 2.92 ms\n",
      "Wall time: 2.43 ms\n"
     ]
    },
    {
     "data": {
      "text/html": [
       "<div>\n",
       "<style scoped>\n",
       "    .dataframe tbody tr th:only-of-type {\n",
       "        vertical-align: middle;\n",
       "    }\n",
       "\n",
       "    .dataframe tbody tr th {\n",
       "        vertical-align: top;\n",
       "    }\n",
       "\n",
       "    .dataframe thead th {\n",
       "        text-align: right;\n",
       "    }\n",
       "</style>\n",
       "<table border=\"1\" class=\"dataframe\">\n",
       "  <thead>\n",
       "    <tr style=\"text-align: right;\">\n",
       "      <th></th>\n",
       "      <th>path</th>\n",
       "      <th>seq_len</th>\n",
       "      <th>src_fs</th>\n",
       "      <th>l_slc</th>\n",
       "      <th>r_slc</th>\n",
       "    </tr>\n",
       "  </thead>\n",
       "  <tbody>\n",
       "    <tr>\n",
       "      <th>0</th>\n",
       "      <td>/home/pheenix/Development/seqdata/test_data/WienerHammerstein/test/WienerHammerstein_test.hdf5</td>\n",
       "      <td>88000</td>\n",
       "      <td>200.0</td>\n",
       "      <td>0</td>\n",
       "      <td>100.2</td>\n",
       "    </tr>\n",
       "    <tr>\n",
       "      <th>0</th>\n",
       "      <td>/home/pheenix/Development/seqdata/test_data/WienerHammerstein/test/WienerHammerstein_test.hdf5</td>\n",
       "      <td>88000</td>\n",
       "      <td>200.0</td>\n",
       "      <td>100</td>\n",
       "      <td>200.2</td>\n",
       "    </tr>\n",
       "    <tr>\n",
       "      <th>0</th>\n",
       "      <td>/home/pheenix/Development/seqdata/test_data/WienerHammerstein/test/WienerHammerstein_test.hdf5</td>\n",
       "      <td>88000</td>\n",
       "      <td>200.0</td>\n",
       "      <td>200</td>\n",
       "      <td>300.2</td>\n",
       "    </tr>\n",
       "    <tr>\n",
       "      <th>0</th>\n",
       "      <td>/home/pheenix/Development/seqdata/test_data/WienerHammerstein/test/WienerHammerstein_test.hdf5</td>\n",
       "      <td>88000</td>\n",
       "      <td>200.0</td>\n",
       "      <td>300</td>\n",
       "      <td>400.2</td>\n",
       "    </tr>\n",
       "    <tr>\n",
       "      <th>0</th>\n",
       "      <td>/home/pheenix/Development/seqdata/test_data/WienerHammerstein/test/WienerHammerstein_test.hdf5</td>\n",
       "      <td>88000</td>\n",
       "      <td>200.0</td>\n",
       "      <td>400</td>\n",
       "      <td>500.2</td>\n",
       "    </tr>\n",
       "    <tr>\n",
       "      <th>...</th>\n",
       "      <td>...</td>\n",
       "      <td>...</td>\n",
       "      <td>...</td>\n",
       "      <td>...</td>\n",
       "      <td>...</td>\n",
       "    </tr>\n",
       "    <tr>\n",
       "      <th>2</th>\n",
       "      <td>/home/pheenix/Development/seqdata/test_data/WienerHammerstein/valid/WienerHammerstein_valid.hdf5</td>\n",
       "      <td>20000</td>\n",
       "      <td>200.0</td>\n",
       "      <td>19400</td>\n",
       "      <td>19500.2</td>\n",
       "    </tr>\n",
       "    <tr>\n",
       "      <th>2</th>\n",
       "      <td>/home/pheenix/Development/seqdata/test_data/WienerHammerstein/valid/WienerHammerstein_valid.hdf5</td>\n",
       "      <td>20000</td>\n",
       "      <td>200.0</td>\n",
       "      <td>19500</td>\n",
       "      <td>19600.2</td>\n",
       "    </tr>\n",
       "    <tr>\n",
       "      <th>2</th>\n",
       "      <td>/home/pheenix/Development/seqdata/test_data/WienerHammerstein/valid/WienerHammerstein_valid.hdf5</td>\n",
       "      <td>20000</td>\n",
       "      <td>200.0</td>\n",
       "      <td>19600</td>\n",
       "      <td>19700.2</td>\n",
       "    </tr>\n",
       "    <tr>\n",
       "      <th>2</th>\n",
       "      <td>/home/pheenix/Development/seqdata/test_data/WienerHammerstein/valid/WienerHammerstein_valid.hdf5</td>\n",
       "      <td>20000</td>\n",
       "      <td>200.0</td>\n",
       "      <td>19700</td>\n",
       "      <td>19800.2</td>\n",
       "    </tr>\n",
       "    <tr>\n",
       "      <th>2</th>\n",
       "      <td>/home/pheenix/Development/seqdata/test_data/WienerHammerstein/valid/WienerHammerstein_valid.hdf5</td>\n",
       "      <td>20000</td>\n",
       "      <td>200.0</td>\n",
       "      <td>19800</td>\n",
       "      <td>19900.2</td>\n",
       "    </tr>\n",
       "  </tbody>\n",
       "</table>\n",
       "<p>1877 rows × 5 columns</p>\n",
       "</div>"
      ],
      "text/plain": [
       "                                                                                                path  \\\n",
       "0     /home/pheenix/Development/seqdata/test_data/WienerHammerstein/test/WienerHammerstein_test.hdf5   \n",
       "0     /home/pheenix/Development/seqdata/test_data/WienerHammerstein/test/WienerHammerstein_test.hdf5   \n",
       "0     /home/pheenix/Development/seqdata/test_data/WienerHammerstein/test/WienerHammerstein_test.hdf5   \n",
       "0     /home/pheenix/Development/seqdata/test_data/WienerHammerstein/test/WienerHammerstein_test.hdf5   \n",
       "0     /home/pheenix/Development/seqdata/test_data/WienerHammerstein/test/WienerHammerstein_test.hdf5   \n",
       "..                                                                                               ...   \n",
       "2   /home/pheenix/Development/seqdata/test_data/WienerHammerstein/valid/WienerHammerstein_valid.hdf5   \n",
       "2   /home/pheenix/Development/seqdata/test_data/WienerHammerstein/valid/WienerHammerstein_valid.hdf5   \n",
       "2   /home/pheenix/Development/seqdata/test_data/WienerHammerstein/valid/WienerHammerstein_valid.hdf5   \n",
       "2   /home/pheenix/Development/seqdata/test_data/WienerHammerstein/valid/WienerHammerstein_valid.hdf5   \n",
       "2   /home/pheenix/Development/seqdata/test_data/WienerHammerstein/valid/WienerHammerstein_valid.hdf5   \n",
       "\n",
       "    seq_len  src_fs  l_slc    r_slc  \n",
       "0     88000   200.0      0    100.2  \n",
       "0     88000   200.0    100    200.2  \n",
       "0     88000   200.0    200    300.2  \n",
       "0     88000   200.0    300    400.2  \n",
       "0     88000   200.0    400    500.2  \n",
       "..      ...     ...    ...      ...  \n",
       "2     20000   200.0  19400  19500.2  \n",
       "2     20000   200.0  19500  19600.2  \n",
       "2     20000   200.0  19600  19700.2  \n",
       "2     20000   200.0  19700  19800.2  \n",
       "2     20000   200.0  19800  19900.2  \n",
       "\n",
       "[1877 rows x 5 columns]"
      ]
     },
     "execution_count": 29,
     "metadata": {},
     "output_type": "execute_result"
    }
   ],
   "source": [
    "%%time\n",
    "create_win = DfHDFCreateWindows(win_sz=100.2,stp_sz=100,clm='u')\n",
    "win_df = create_win(df)\n",
    "win_df"
   ]
  },
  {
   "cell_type": "code",
   "execution_count": 30,
   "metadata": {},
   "outputs": [
    {
     "data": {
      "text/html": [
       "<div>\n",
       "<style scoped>\n",
       "    .dataframe tbody tr th:only-of-type {\n",
       "        vertical-align: middle;\n",
       "    }\n",
       "\n",
       "    .dataframe tbody tr th {\n",
       "        vertical-align: top;\n",
       "    }\n",
       "\n",
       "    .dataframe thead th {\n",
       "        text-align: right;\n",
       "    }\n",
       "</style>\n",
       "<table border=\"1\" class=\"dataframe\">\n",
       "  <thead>\n",
       "    <tr style=\"text-align: right;\">\n",
       "      <th></th>\n",
       "      <th>path</th>\n",
       "      <th>seq_len</th>\n",
       "      <th>src_fs</th>\n",
       "      <th>l_slc</th>\n",
       "      <th>r_slc</th>\n",
       "    </tr>\n",
       "  </thead>\n",
       "  <tbody>\n",
       "    <tr>\n",
       "      <th>0</th>\n",
       "      <td>/home/pheenix/Development/seqdata/test_data/WienerHammerstein/test/WienerHammerstein_test.hdf5</td>\n",
       "      <td>88000</td>\n",
       "      <td>200.0</td>\n",
       "      <td>0</td>\n",
       "      <td>20000</td>\n",
       "    </tr>\n",
       "    <tr>\n",
       "      <th>0</th>\n",
       "      <td>/home/pheenix/Development/seqdata/test_data/WienerHammerstein/test/WienerHammerstein_test.hdf5</td>\n",
       "      <td>88000</td>\n",
       "      <td>200.0</td>\n",
       "      <td>1000</td>\n",
       "      <td>21000</td>\n",
       "    </tr>\n",
       "    <tr>\n",
       "      <th>0</th>\n",
       "      <td>/home/pheenix/Development/seqdata/test_data/WienerHammerstein/test/WienerHammerstein_test.hdf5</td>\n",
       "      <td>88000</td>\n",
       "      <td>200.0</td>\n",
       "      <td>2000</td>\n",
       "      <td>22000</td>\n",
       "    </tr>\n",
       "    <tr>\n",
       "      <th>0</th>\n",
       "      <td>/home/pheenix/Development/seqdata/test_data/WienerHammerstein/test/WienerHammerstein_test.hdf5</td>\n",
       "      <td>88000</td>\n",
       "      <td>200.0</td>\n",
       "      <td>3000</td>\n",
       "      <td>23000</td>\n",
       "    </tr>\n",
       "    <tr>\n",
       "      <th>0</th>\n",
       "      <td>/home/pheenix/Development/seqdata/test_data/WienerHammerstein/test/WienerHammerstein_test.hdf5</td>\n",
       "      <td>88000</td>\n",
       "      <td>200.0</td>\n",
       "      <td>4000</td>\n",
       "      <td>24000</td>\n",
       "    </tr>\n",
       "    <tr>\n",
       "      <th>...</th>\n",
       "      <td>...</td>\n",
       "      <td>...</td>\n",
       "      <td>...</td>\n",
       "      <td>...</td>\n",
       "      <td>...</td>\n",
       "    </tr>\n",
       "    <tr>\n",
       "      <th>1</th>\n",
       "      <td>/home/pheenix/Development/seqdata/test_data/WienerHammerstein/train/WienerHammerstein_train.hdf5</td>\n",
       "      <td>80000</td>\n",
       "      <td>200.0</td>\n",
       "      <td>57000</td>\n",
       "      <td>77000</td>\n",
       "    </tr>\n",
       "    <tr>\n",
       "      <th>1</th>\n",
       "      <td>/home/pheenix/Development/seqdata/test_data/WienerHammerstein/train/WienerHammerstein_train.hdf5</td>\n",
       "      <td>80000</td>\n",
       "      <td>200.0</td>\n",
       "      <td>58000</td>\n",
       "      <td>78000</td>\n",
       "    </tr>\n",
       "    <tr>\n",
       "      <th>1</th>\n",
       "      <td>/home/pheenix/Development/seqdata/test_data/WienerHammerstein/train/WienerHammerstein_train.hdf5</td>\n",
       "      <td>80000</td>\n",
       "      <td>200.0</td>\n",
       "      <td>59000</td>\n",
       "      <td>79000</td>\n",
       "    </tr>\n",
       "    <tr>\n",
       "      <th>1</th>\n",
       "      <td>/home/pheenix/Development/seqdata/test_data/WienerHammerstein/train/WienerHammerstein_train.hdf5</td>\n",
       "      <td>80000</td>\n",
       "      <td>200.0</td>\n",
       "      <td>60000</td>\n",
       "      <td>80000</td>\n",
       "    </tr>\n",
       "    <tr>\n",
       "      <th>2</th>\n",
       "      <td>/home/pheenix/Development/seqdata/test_data/WienerHammerstein/valid/WienerHammerstein_valid.hdf5</td>\n",
       "      <td>20000</td>\n",
       "      <td>200.0</td>\n",
       "      <td>0</td>\n",
       "      <td>20000</td>\n",
       "    </tr>\n",
       "  </tbody>\n",
       "</table>\n",
       "<p>131 rows × 5 columns</p>\n",
       "</div>"
      ],
      "text/plain": [
       "                                                                                                path  \\\n",
       "0     /home/pheenix/Development/seqdata/test_data/WienerHammerstein/test/WienerHammerstein_test.hdf5   \n",
       "0     /home/pheenix/Development/seqdata/test_data/WienerHammerstein/test/WienerHammerstein_test.hdf5   \n",
       "0     /home/pheenix/Development/seqdata/test_data/WienerHammerstein/test/WienerHammerstein_test.hdf5   \n",
       "0     /home/pheenix/Development/seqdata/test_data/WienerHammerstein/test/WienerHammerstein_test.hdf5   \n",
       "0     /home/pheenix/Development/seqdata/test_data/WienerHammerstein/test/WienerHammerstein_test.hdf5   \n",
       "..                                                                                               ...   \n",
       "1   /home/pheenix/Development/seqdata/test_data/WienerHammerstein/train/WienerHammerstein_train.hdf5   \n",
       "1   /home/pheenix/Development/seqdata/test_data/WienerHammerstein/train/WienerHammerstein_train.hdf5   \n",
       "1   /home/pheenix/Development/seqdata/test_data/WienerHammerstein/train/WienerHammerstein_train.hdf5   \n",
       "1   /home/pheenix/Development/seqdata/test_data/WienerHammerstein/train/WienerHammerstein_train.hdf5   \n",
       "2   /home/pheenix/Development/seqdata/test_data/WienerHammerstein/valid/WienerHammerstein_valid.hdf5   \n",
       "\n",
       "    seq_len  src_fs  l_slc  r_slc  \n",
       "0     88000   200.0      0  20000  \n",
       "0     88000   200.0   1000  21000  \n",
       "0     88000   200.0   2000  22000  \n",
       "0     88000   200.0   3000  23000  \n",
       "0     88000   200.0   4000  24000  \n",
       "..      ...     ...    ...    ...  \n",
       "1     80000   200.0  57000  77000  \n",
       "1     80000   200.0  58000  78000  \n",
       "1     80000   200.0  59000  79000  \n",
       "1     80000   200.0  60000  80000  \n",
       "2     20000   200.0      0  20000  \n",
       "\n",
       "[131 rows x 5 columns]"
      ]
     },
     "execution_count": 30,
     "metadata": {},
     "output_type": "execute_result"
    }
   ],
   "source": [
    "win_df = DfHDFCreateWindows(win_sz=20_000,stp_sz=1000,clm='u')(df)\n",
    "test_eq(len(win_df),131)\n",
    "win_df"
   ]
  },
  {
   "cell_type": "code",
   "execution_count": 31,
   "metadata": {},
   "outputs": [],
   "source": [
    "test_eq(create_win(df_get_hdf_seq_len(df,'u')) , create_win(df))"
   ]
  },
  {
   "cell_type": "code",
   "execution_count": 32,
   "metadata": {},
   "outputs": [
    {
     "data": {
      "text/html": [
       "<div>\n",
       "<style scoped>\n",
       "    .dataframe tbody tr th:only-of-type {\n",
       "        vertical-align: middle;\n",
       "    }\n",
       "\n",
       "    .dataframe tbody tr th {\n",
       "        vertical-align: top;\n",
       "    }\n",
       "\n",
       "    .dataframe thead th {\n",
       "        text-align: right;\n",
       "    }\n",
       "</style>\n",
       "<table border=\"1\" class=\"dataframe\">\n",
       "  <thead>\n",
       "    <tr style=\"text-align: right;\">\n",
       "      <th></th>\n",
       "      <th>path</th>\n",
       "      <th>seq_len</th>\n",
       "      <th>src_fs</th>\n",
       "      <th>targ_fs</th>\n",
       "      <th>resampling_factor</th>\n",
       "      <th>l_slc</th>\n",
       "      <th>r_slc</th>\n",
       "    </tr>\n",
       "  </thead>\n",
       "  <tbody>\n",
       "    <tr>\n",
       "      <th>0</th>\n",
       "      <td>/home/pheenix/Development/seqdata/test_data/WienerHammerstein/test/WienerHammerstein_test.hdf5</td>\n",
       "      <td>88000</td>\n",
       "      <td>200.0</td>\n",
       "      <td>0.1</td>\n",
       "      <td>0.005</td>\n",
       "      <td>0</td>\n",
       "      <td>100.2</td>\n",
       "    </tr>\n",
       "    <tr>\n",
       "      <th>0</th>\n",
       "      <td>/home/pheenix/Development/seqdata/test_data/WienerHammerstein/test/WienerHammerstein_test.hdf5</td>\n",
       "      <td>88000</td>\n",
       "      <td>200.0</td>\n",
       "      <td>0.1</td>\n",
       "      <td>0.005</td>\n",
       "      <td>100</td>\n",
       "      <td>200.2</td>\n",
       "    </tr>\n",
       "    <tr>\n",
       "      <th>0</th>\n",
       "      <td>/home/pheenix/Development/seqdata/test_data/WienerHammerstein/test/WienerHammerstein_test.hdf5</td>\n",
       "      <td>88000</td>\n",
       "      <td>200.0</td>\n",
       "      <td>0.1</td>\n",
       "      <td>0.005</td>\n",
       "      <td>200</td>\n",
       "      <td>300.2</td>\n",
       "    </tr>\n",
       "    <tr>\n",
       "      <th>0</th>\n",
       "      <td>/home/pheenix/Development/seqdata/test_data/WienerHammerstein/test/WienerHammerstein_test.hdf5</td>\n",
       "      <td>88000</td>\n",
       "      <td>200.0</td>\n",
       "      <td>0.1</td>\n",
       "      <td>0.005</td>\n",
       "      <td>300</td>\n",
       "      <td>400.2</td>\n",
       "    </tr>\n",
       "    <tr>\n",
       "      <th>1</th>\n",
       "      <td>/home/pheenix/Development/seqdata/test_data/WienerHammerstein/train/WienerHammerstein_train.hdf5</td>\n",
       "      <td>80000</td>\n",
       "      <td>200.0</td>\n",
       "      <td>0.1</td>\n",
       "      <td>0.005</td>\n",
       "      <td>0</td>\n",
       "      <td>100.2</td>\n",
       "    </tr>\n",
       "    <tr>\n",
       "      <th>1</th>\n",
       "      <td>/home/pheenix/Development/seqdata/test_data/WienerHammerstein/train/WienerHammerstein_train.hdf5</td>\n",
       "      <td>80000</td>\n",
       "      <td>200.0</td>\n",
       "      <td>0.1</td>\n",
       "      <td>0.005</td>\n",
       "      <td>100</td>\n",
       "      <td>200.2</td>\n",
       "    </tr>\n",
       "    <tr>\n",
       "      <th>1</th>\n",
       "      <td>/home/pheenix/Development/seqdata/test_data/WienerHammerstein/train/WienerHammerstein_train.hdf5</td>\n",
       "      <td>80000</td>\n",
       "      <td>200.0</td>\n",
       "      <td>0.1</td>\n",
       "      <td>0.005</td>\n",
       "      <td>200</td>\n",
       "      <td>300.2</td>\n",
       "    </tr>\n",
       "  </tbody>\n",
       "</table>\n",
       "</div>"
      ],
      "text/plain": [
       "                                                                                               path  \\\n",
       "0    /home/pheenix/Development/seqdata/test_data/WienerHammerstein/test/WienerHammerstein_test.hdf5   \n",
       "0    /home/pheenix/Development/seqdata/test_data/WienerHammerstein/test/WienerHammerstein_test.hdf5   \n",
       "0    /home/pheenix/Development/seqdata/test_data/WienerHammerstein/test/WienerHammerstein_test.hdf5   \n",
       "0    /home/pheenix/Development/seqdata/test_data/WienerHammerstein/test/WienerHammerstein_test.hdf5   \n",
       "1  /home/pheenix/Development/seqdata/test_data/WienerHammerstein/train/WienerHammerstein_train.hdf5   \n",
       "1  /home/pheenix/Development/seqdata/test_data/WienerHammerstein/train/WienerHammerstein_train.hdf5   \n",
       "1  /home/pheenix/Development/seqdata/test_data/WienerHammerstein/train/WienerHammerstein_train.hdf5   \n",
       "\n",
       "   seq_len  src_fs  targ_fs  resampling_factor  l_slc  r_slc  \n",
       "0    88000   200.0      0.1              0.005      0  100.2  \n",
       "0    88000   200.0      0.1              0.005    100  200.2  \n",
       "0    88000   200.0      0.1              0.005    200  300.2  \n",
       "0    88000   200.0      0.1              0.005    300  400.2  \n",
       "1    80000   200.0      0.1              0.005      0  100.2  \n",
       "1    80000   200.0      0.1              0.005    100  200.2  \n",
       "1    80000   200.0      0.1              0.005    200  300.2  "
      ]
     },
     "execution_count": 32,
     "metadata": {},
     "output_type": "execute_result"
    }
   ],
   "source": [
    "res_win_df = create_win(DfResamplingFactor(20,[0.1])(df))\n",
    "res_win_df"
   ]
  },
  {
   "cell_type": "code",
   "execution_count": 33,
   "metadata": {},
   "outputs": [],
   "source": [
    "test_eq(len(res_win_df),7)"
   ]
  },
  {
   "cell_type": "code",
   "execution_count": 34,
   "metadata": {},
   "outputs": [
    {
     "data": {
      "text/html": [
       "<div>\n",
       "<style scoped>\n",
       "    .dataframe tbody tr th:only-of-type {\n",
       "        vertical-align: middle;\n",
       "    }\n",
       "\n",
       "    .dataframe tbody tr th {\n",
       "        vertical-align: top;\n",
       "    }\n",
       "\n",
       "    .dataframe thead th {\n",
       "        text-align: right;\n",
       "    }\n",
       "</style>\n",
       "<table border=\"1\" class=\"dataframe\">\n",
       "  <thead>\n",
       "    <tr style=\"text-align: right;\">\n",
       "      <th></th>\n",
       "      <th>path</th>\n",
       "      <th>seq_len</th>\n",
       "      <th>src_fs</th>\n",
       "      <th>l_slc</th>\n",
       "      <th>r_slc</th>\n",
       "    </tr>\n",
       "  </thead>\n",
       "  <tbody>\n",
       "    <tr>\n",
       "      <th>0</th>\n",
       "      <td>/home/pheenix/Development/seqdata/test_data/WienerHammerstein/test/WienerHammerstein_test.hdf5</td>\n",
       "      <td>88000</td>\n",
       "      <td>200.0</td>\n",
       "      <td>0</td>\n",
       "      <td>20000</td>\n",
       "    </tr>\n",
       "    <tr>\n",
       "      <th>1</th>\n",
       "      <td>/home/pheenix/Development/seqdata/test_data/WienerHammerstein/train/WienerHammerstein_train.hdf5</td>\n",
       "      <td>80000</td>\n",
       "      <td>200.0</td>\n",
       "      <td>0</td>\n",
       "      <td>20000</td>\n",
       "    </tr>\n",
       "    <tr>\n",
       "      <th>2</th>\n",
       "      <td>/home/pheenix/Development/seqdata/test_data/WienerHammerstein/valid/WienerHammerstein_valid.hdf5</td>\n",
       "      <td>20000</td>\n",
       "      <td>200.0</td>\n",
       "      <td>0</td>\n",
       "      <td>20000</td>\n",
       "    </tr>\n",
       "  </tbody>\n",
       "</table>\n",
       "</div>"
      ],
      "text/plain": [
       "                                                                                               path  \\\n",
       "0    /home/pheenix/Development/seqdata/test_data/WienerHammerstein/test/WienerHammerstein_test.hdf5   \n",
       "1  /home/pheenix/Development/seqdata/test_data/WienerHammerstein/train/WienerHammerstein_train.hdf5   \n",
       "2  /home/pheenix/Development/seqdata/test_data/WienerHammerstein/valid/WienerHammerstein_valid.hdf5   \n",
       "\n",
       "   seq_len  src_fs  l_slc  r_slc  \n",
       "0    88000   200.0      0  20000  \n",
       "1    80000   200.0      0  20000  \n",
       "2    20000   200.0      0  20000  "
      ]
     },
     "execution_count": 34,
     "metadata": {},
     "output_type": "execute_result"
    }
   ],
   "source": [
    "query_expr = 'l_slc <= 200'\n",
    "filt_df = win_df.query(query_expr)\n",
    "filt_df"
   ]
  },
  {
   "cell_type": "code",
   "execution_count": 35,
   "metadata": {},
   "outputs": [],
   "source": [
    "#| export\n",
    "def DfApplyFuncSplit(split_func,func1,func2):\n",
    "    '''apply two different functions on the dataframe, func1 on the first indices of split_func, func2 on the second indices.\n",
    "        Split_func is a Training, Validation split function'''\n",
    "    def _inner(df):\n",
    "        (idxs1,idxs2) = split_func(df.path)\n",
    "        df1= func1(df.iloc[idxs1])\n",
    "        df2= func2(df.iloc[idxs2])\n",
    "        return pd.concat((df1,df2))\n",
    "    return _inner"
   ]
  },
  {
   "cell_type": "code",
   "execution_count": 36,
   "metadata": {},
   "outputs": [
    {
     "data": {
      "text/html": [
       "<div>\n",
       "<style scoped>\n",
       "    .dataframe tbody tr th:only-of-type {\n",
       "        vertical-align: middle;\n",
       "    }\n",
       "\n",
       "    .dataframe tbody tr th {\n",
       "        vertical-align: top;\n",
       "    }\n",
       "\n",
       "    .dataframe thead th {\n",
       "        text-align: right;\n",
       "    }\n",
       "</style>\n",
       "<table border=\"1\" class=\"dataframe\">\n",
       "  <thead>\n",
       "    <tr style=\"text-align: right;\">\n",
       "      <th></th>\n",
       "      <th>path</th>\n",
       "      <th>seq_len</th>\n",
       "      <th>src_fs</th>\n",
       "      <th>l_slc</th>\n",
       "      <th>r_slc</th>\n",
       "    </tr>\n",
       "  </thead>\n",
       "  <tbody>\n",
       "    <tr>\n",
       "      <th>0</th>\n",
       "      <td>/home/pheenix/Development/seqdata/test_data/WienerHammerstein/test/WienerHammerstein_test.hdf5</td>\n",
       "      <td>88000</td>\n",
       "      <td>200.0</td>\n",
       "      <td>0</td>\n",
       "      <td>10000</td>\n",
       "    </tr>\n",
       "    <tr>\n",
       "      <th>0</th>\n",
       "      <td>/home/pheenix/Development/seqdata/test_data/WienerHammerstein/test/WienerHammerstein_test.hdf5</td>\n",
       "      <td>88000</td>\n",
       "      <td>200.0</td>\n",
       "      <td>1</td>\n",
       "      <td>10001</td>\n",
       "    </tr>\n",
       "    <tr>\n",
       "      <th>0</th>\n",
       "      <td>/home/pheenix/Development/seqdata/test_data/WienerHammerstein/test/WienerHammerstein_test.hdf5</td>\n",
       "      <td>88000</td>\n",
       "      <td>200.0</td>\n",
       "      <td>2</td>\n",
       "      <td>10002</td>\n",
       "    </tr>\n",
       "    <tr>\n",
       "      <th>0</th>\n",
       "      <td>/home/pheenix/Development/seqdata/test_data/WienerHammerstein/test/WienerHammerstein_test.hdf5</td>\n",
       "      <td>88000</td>\n",
       "      <td>200.0</td>\n",
       "      <td>3</td>\n",
       "      <td>10003</td>\n",
       "    </tr>\n",
       "    <tr>\n",
       "      <th>0</th>\n",
       "      <td>/home/pheenix/Development/seqdata/test_data/WienerHammerstein/test/WienerHammerstein_test.hdf5</td>\n",
       "      <td>88000</td>\n",
       "      <td>200.0</td>\n",
       "      <td>4</td>\n",
       "      <td>10004</td>\n",
       "    </tr>\n",
       "    <tr>\n",
       "      <th>...</th>\n",
       "      <td>...</td>\n",
       "      <td>...</td>\n",
       "      <td>...</td>\n",
       "      <td>...</td>\n",
       "      <td>...</td>\n",
       "    </tr>\n",
       "    <tr>\n",
       "      <th>1</th>\n",
       "      <td>/home/pheenix/Development/seqdata/test_data/WienerHammerstein/train/WienerHammerstein_train.hdf5</td>\n",
       "      <td>80000</td>\n",
       "      <td>200.0</td>\n",
       "      <td>50000</td>\n",
       "      <td>60000</td>\n",
       "    </tr>\n",
       "    <tr>\n",
       "      <th>1</th>\n",
       "      <td>/home/pheenix/Development/seqdata/test_data/WienerHammerstein/train/WienerHammerstein_train.hdf5</td>\n",
       "      <td>80000</td>\n",
       "      <td>200.0</td>\n",
       "      <td>60000</td>\n",
       "      <td>70000</td>\n",
       "    </tr>\n",
       "    <tr>\n",
       "      <th>1</th>\n",
       "      <td>/home/pheenix/Development/seqdata/test_data/WienerHammerstein/train/WienerHammerstein_train.hdf5</td>\n",
       "      <td>80000</td>\n",
       "      <td>200.0</td>\n",
       "      <td>70000</td>\n",
       "      <td>80000</td>\n",
       "    </tr>\n",
       "    <tr>\n",
       "      <th>2</th>\n",
       "      <td>/home/pheenix/Development/seqdata/test_data/WienerHammerstein/valid/WienerHammerstein_valid.hdf5</td>\n",
       "      <td>20000</td>\n",
       "      <td>200.0</td>\n",
       "      <td>0</td>\n",
       "      <td>10000</td>\n",
       "    </tr>\n",
       "    <tr>\n",
       "      <th>2</th>\n",
       "      <td>/home/pheenix/Development/seqdata/test_data/WienerHammerstein/valid/WienerHammerstein_valid.hdf5</td>\n",
       "      <td>20000</td>\n",
       "      <td>200.0</td>\n",
       "      <td>10000</td>\n",
       "      <td>20000</td>\n",
       "    </tr>\n",
       "  </tbody>\n",
       "</table>\n",
       "<p>78011 rows × 5 columns</p>\n",
       "</div>"
      ],
      "text/plain": [
       "                                                                                                path  \\\n",
       "0     /home/pheenix/Development/seqdata/test_data/WienerHammerstein/test/WienerHammerstein_test.hdf5   \n",
       "0     /home/pheenix/Development/seqdata/test_data/WienerHammerstein/test/WienerHammerstein_test.hdf5   \n",
       "0     /home/pheenix/Development/seqdata/test_data/WienerHammerstein/test/WienerHammerstein_test.hdf5   \n",
       "0     /home/pheenix/Development/seqdata/test_data/WienerHammerstein/test/WienerHammerstein_test.hdf5   \n",
       "0     /home/pheenix/Development/seqdata/test_data/WienerHammerstein/test/WienerHammerstein_test.hdf5   \n",
       "..                                                                                               ...   \n",
       "1   /home/pheenix/Development/seqdata/test_data/WienerHammerstein/train/WienerHammerstein_train.hdf5   \n",
       "1   /home/pheenix/Development/seqdata/test_data/WienerHammerstein/train/WienerHammerstein_train.hdf5   \n",
       "1   /home/pheenix/Development/seqdata/test_data/WienerHammerstein/train/WienerHammerstein_train.hdf5   \n",
       "2   /home/pheenix/Development/seqdata/test_data/WienerHammerstein/valid/WienerHammerstein_valid.hdf5   \n",
       "2   /home/pheenix/Development/seqdata/test_data/WienerHammerstein/valid/WienerHammerstein_valid.hdf5   \n",
       "\n",
       "    seq_len  src_fs  l_slc  r_slc  \n",
       "0     88000   200.0      0  10000  \n",
       "0     88000   200.0      1  10001  \n",
       "0     88000   200.0      2  10002  \n",
       "0     88000   200.0      3  10003  \n",
       "0     88000   200.0      4  10004  \n",
       "..      ...     ...    ...    ...  \n",
       "1     80000   200.0  50000  60000  \n",
       "1     80000   200.0  60000  70000  \n",
       "1     80000   200.0  70000  80000  \n",
       "2     20000   200.0      0  10000  \n",
       "2     20000   200.0  10000  20000  \n",
       "\n",
       "[78011 rows x 5 columns]"
      ]
     },
     "execution_count": 36,
     "metadata": {},
     "output_type": "execute_result"
    }
   ],
   "source": [
    "create_win_split = DfApplyFuncSplit(\n",
    "    IndexSplitter([1,2]),\n",
    "    DfHDFCreateWindows(win_sz=10000,stp_sz=1,clm='u'),\n",
    "    DfHDFCreateWindows(win_sz=10000,stp_sz=10000,clm='u')\n",
    ")\n",
    "create_win_split(df)"
   ]
  },
  {
   "cell_type": "code",
   "execution_count": 37,
   "metadata": {},
   "outputs": [],
   "source": [
    "#| export\n",
    "def DfFilterQuery(query):\n",
    "    def _inner(df):\n",
    "        return df.query(query)\n",
    "    return _inner"
   ]
  },
  {
   "cell_type": "code",
   "execution_count": 38,
   "metadata": {},
   "outputs": [],
   "source": [
    "test_eq(DfFilterQuery(query_expr)(win_df),filt_df)"
   ]
  },
  {
   "cell_type": "code",
   "execution_count": 39,
   "metadata": {},
   "outputs": [
    {
     "name": "stdout",
     "output_type": "stream",
     "text": [
      "CPU times: user 19.2 ms, sys: 0 ns, total: 19.2 ms\n",
      "Wall time: 18.3 ms\n"
     ]
    },
    {
     "data": {
      "text/plain": [
       "[{'path': '/home/pheenix/Development/seqdata/test_data/WienerHammerstein/test/WienerHammerstein_test.hdf5',\n",
       "  'valid': False,\n",
       "  'l_slc': 0,\n",
       "  'r_slc': 101},\n",
       " {'path': '/home/pheenix/Development/seqdata/test_data/WienerHammerstein/test/WienerHammerstein_test.hdf5',\n",
       "  'valid': False,\n",
       "  'l_slc': 10,\n",
       "  'r_slc': 111},\n",
       " {'path': '/home/pheenix/Development/seqdata/test_data/WienerHammerstein/test/WienerHammerstein_test.hdf5',\n",
       "  'valid': False,\n",
       "  'l_slc': 20,\n",
       "  'r_slc': 121},\n",
       " {'path': '/home/pheenix/Development/seqdata/test_data/WienerHammerstein/test/WienerHammerstein_test.hdf5',\n",
       "  'valid': False,\n",
       "  'l_slc': 30,\n",
       "  'r_slc': 131},\n",
       " {'path': '/home/pheenix/Development/seqdata/test_data/WienerHammerstein/test/WienerHammerstein_test.hdf5',\n",
       "  'valid': False,\n",
       "  'l_slc': 40,\n",
       "  'r_slc': 141}]"
      ]
     },
     "execution_count": 39,
     "metadata": {},
     "output_type": "execute_result"
    }
   ],
   "source": [
    "%%time\n",
    "tfm_src = CreateDict([ValidClmContains(['valid']),DfHDFCreateWindows(win_sz=100+1,stp_sz=10,clm='u')])\n",
    "src_dicts = tfm_src(hdf_files)\n",
    "src_dicts[:5]"
   ]
  },
  {
   "cell_type": "code",
   "execution_count": 40,
   "metadata": {},
   "outputs": [],
   "source": [
    "#| export\n",
    "def DfDropClmExcept(clms = ['path','l_slc','r_slc','p_sample','resampling_factor']):\n",
    "    '''drop unused dataframe columns as a last optional step to accelerate dictionary conversion'''\n",
    "    def _inner(df):\n",
    "        return df[[c for c in clms if c in df]]\n",
    "    return _inner"
   ]
  },
  {
   "cell_type": "markdown",
   "metadata": {},
   "source": [
    "## 2. Convert Paths to Sequence Objects\n",
    "Der Pfad wird unter Angabe der Spaltennamen in Sequenzen und Skalare Werte umgewandelt, um so am Ende ein 3-Tupel zu erhalten aus:\n",
    "- (Sequence, Scalar, Sequence) <-> (input,input,output)"
   ]
  },
  {
   "cell_type": "markdown",
   "metadata": {},
   "source": [
    "### 2.1 Extract sequential data from hdf5-files\n",
    "Two different functions, based on pandas df and on lists"
   ]
  },
  {
   "cell_type": "markdown",
   "metadata": {},
   "source": [
    "#### 2.1.1 Shift time Series\n",
    "Sometimes we need to shift columns of a sequence by a specific value. Then we cant simply slice the array but have to handle each column individually. First a performance test has to be made."
   ]
  },
  {
   "cell_type": "code",
   "execution_count": 41,
   "metadata": {},
   "outputs": [],
   "source": [
    "#| export\n",
    "def calc_shift_offsets(clm_shift):\n",
    "    clm_shift = array(clm_shift)\n",
    "    l_offs = -min(clm_shift.min(),0)\n",
    "    r_offs = -max(clm_shift.max(),0)\n",
    "    l_shift = clm_shift+l_offs\n",
    "    r_shift = clm_shift+r_offs\n",
    "    dim_red = l_offs-r_offs\n",
    "    return l_shift,r_shift,dim_red"
   ]
  },
  {
   "cell_type": "code",
   "execution_count": 42,
   "metadata": {},
   "outputs": [
    {
     "data": {
      "text/plain": [
       "(array([1, 1, 0, 2]), array([-1, -1, -2,  0]), 2)"
      ]
     },
     "execution_count": 42,
     "metadata": {},
     "output_type": "execute_result"
    }
   ],
   "source": [
    "shft = [0,0,-1,1]\n",
    "calc_shift_offsets(shft)"
   ]
  },
  {
   "cell_type": "markdown",
   "metadata": {},
   "source": [
    "both shifting methods have their own performance character. vstack needs double the time on short sequences, while the creation of a seperate array with copy becomes worse starting at around 5000 elements"
   ]
  },
  {
   "cell_type": "code",
   "execution_count": 43,
   "metadata": {},
   "outputs": [],
   "source": [
    "# ta = array([[1,2,3]*2]*10000)"
   ]
  },
  {
   "cell_type": "code",
   "execution_count": 44,
   "metadata": {},
   "outputs": [],
   "source": [
    "# %%timeit\n",
    "# y = np.vstack([ta[i:-ta.shape[1]+i,i] for i in range(ta.shape[1])]).T   "
   ]
  },
  {
   "cell_type": "code",
   "execution_count": 45,
   "metadata": {},
   "outputs": [],
   "source": [
    "# %%timeit\n",
    "# x = np.zeros((ta.shape[0]-ta.shape[1],ta.shape[1]))\n",
    "# for i in range(ta.shape[1]):\n",
    "#     x[:,i] = ta[i:-ta.shape[1]+i,i]"
   ]
  },
  {
   "cell_type": "markdown",
   "metadata": {},
   "source": [
    "#### 2.1.2 HDF2Sequence\n",
    "HDF5 performance is massively affected by the dtype of the signals. f4 (32 bit floating point) Numbers are faster to load and lead to smaller files then f8 numbers."
   ]
  },
  {
   "cell_type": "code",
   "execution_count": 46,
   "metadata": {},
   "outputs": [],
   "source": [
    "#| export\n",
    "def running_mean(x, N):\n",
    "    cumsum = np.cumsum(np.insert(x, 0, 0,axis=0),axis=0) \n",
    "    return (cumsum[N:] - cumsum[:-N]) / float(N)"
   ]
  },
  {
   "cell_type": "code",
   "execution_count": 47,
   "metadata": {},
   "outputs": [],
   "source": [
    "#| export\n",
    "def downsample_mean(x,N):\n",
    "    shp = x.shape\n",
    "    trunc = -(x.shape[0] % N)\n",
    "    trunc = trunc if trunc != 0 else None\n",
    "    return x[:trunc,:].reshape((-1,N,x.shape[-1])).mean(axis=1)"
   ]
  },
  {
   "cell_type": "code",
   "execution_count": 48,
   "metadata": {},
   "outputs": [],
   "source": [
    "#| export\n",
    "from scipy.signal import butter, lfilter, lfilter_zi\n",
    "from scipy import signal\n",
    "def resample_interp(x,resampling_factor,sequence_first=True, lowpass_cut=1.0, upsample_cubic_cut = None):\n",
    "    '''signal resampling using linear or cubic interpolation\n",
    "    \n",
    "    x: signal to resample with shape: features x resampling_dimension or resampling_dimension x  features if sequence_first=True\n",
    "    resampling_factor: Factor > 0 that scales the signal\n",
    "    lowpass_cut: Upper boundary for resampling_factor that activates the lowpassfilter, low values exchange accuracy for performance, default is 0.7\n",
    "    upsample_cubic_cut: Lower boundary for resampling_factor that activates cubic interpolation at high upsampling values. \n",
    "                        Improves signal dynamics in exchange of performance. None deactivates cubic interpolation\n",
    "    '''\n",
    "    \n",
    "    if sequence_first:\n",
    "        x = x.T\n",
    "    \n",
    "    fs_n = resampling_factor\n",
    "    #if downsampling rate is too high, lowpass filter before interpolation\n",
    "    if fs_n < lowpass_cut:\n",
    "        b,a = butter(2, fs_n)\n",
    "        zi = lfilter_zi(b,a)*x[:,:1] #initialize filter with steady state at first time step value\n",
    "        x,_ = lfilter(b,a,x,axis=-1,zi=zi)\n",
    "\n",
    "#         sos = butter(2, fs_n*1.2,output='sos')\n",
    "# #         sos = signal.cheby2(2,20, fs_n,output='sos')\n",
    "# #         import pdb;pdb.set_trace()\n",
    "#         zi = np.swapaxes(signal.sosfilt_zi(sos)[...,None]*x[:,0],1,2)\n",
    "#         x,_ = signal.sosfilt(sos, x,axis=-1,zi=zi)\n",
    "        \n",
    "    x_int = tensor(x)[None,...]\n",
    "    targ_size = int(x.shape[-1]*fs_n)\n",
    "    \n",
    "#     if upsampling rate is too high, switch from linear to cubic interpolation\n",
    "    if upsample_cubic_cut is None or fs_n <= upsample_cubic_cut:\n",
    "        x = array(nn.functional.interpolate(x_int, size=targ_size, mode='linear',align_corners=False)[0])\n",
    "    else:\n",
    "        x = array(nn.functional.interpolate(x_int[...,None], size=[targ_size,1], mode='bicubic',align_corners=False)[0,...,0])\n",
    "#     x = array(x_int)[0]\n",
    "    \n",
    "    if sequence_first:\n",
    "        x = x.T\n",
    "    \n",
    "    return x"
   ]
  },
  {
   "cell_type": "code",
   "execution_count": 49,
   "metadata": {},
   "outputs": [],
   "source": [
    "x = np.random.normal(size=(100000,9))\n",
    "test_eq(resample_interp(x,0.3).shape[0],30000)"
   ]
  },
  {
   "cell_type": "code",
   "execution_count": 50,
   "metadata": {},
   "outputs": [],
   "source": [
    "# def plotFFT(buffer,sample_rate,label,fig=plt):\n",
    "#     xf,yf = calcFFT(buffer,sample_rate)\n",
    "#     fig.plot(xf, yf,label=label)\n",
    "    \n",
    "# def calcFFT(buffer,sample_rate):\n",
    "#     N = buffer.shape[0]\n",
    "#     T = 1.0 / sample_rate\n",
    "#     x = np.linspace(0.0, N*T, N)\n",
    "#     y = buffer\n",
    "#     yf = scipy.fft.fft(y)\n",
    "#     xf = np.linspace(0.0, 1.0/(2.0*T), N//2)\n",
    "#     return xf,2.0/N * np.abs(yf[:N//2])\n",
    "\n",
    "# src_fs= 200\n",
    "# n_fs = 0.9\n",
    "# plt.figure()\n",
    "# plotFFT(x[:,0],src_fs,'raw')\n",
    "# plotFFT(resample_interp(x,n_fs)[:,0],n_fs*src_fs,'filtered')\n",
    "# plt.legend()"
   ]
  },
  {
   "cell_type": "code",
   "execution_count": 51,
   "metadata": {},
   "outputs": [],
   "source": [
    "#| export\n",
    "from scipy.signal import resample\n",
    "def hdf_extract_sequence(hdf_path,clms,dataset = None, l_slc = None, r_slc= None, resampling_factor=None, fs_idx =None,dt_idx =False,fast_resample=True):\n",
    "    '''\n",
    "    extracts a sequence with the shape [seq_len x num_features]\n",
    "    \n",
    "    hdf_path: file path of hdf file, may be a string or path type\n",
    "    clms: list of dataset names of sequences in hdf file\n",
    "    dataset: dataset root for clms. Useful for multiples sequences stored in one file.\n",
    "    l_slc: left boundary for extraction of a window of the whole sequence\n",
    "    r_slc: right boundary for extraction of a window of the whole sequence\n",
    "    resampling_factor: scaling factor for the sequence length, uses 'resample_interp' for resampling\n",
    "    fs_idx: clms list idx of fs entry in sequence. Will be scaled by resampling_factor after resampling\n",
    "    dt_idx: clms list idx of dt entry in sequence. Will be scaled by resampling_factor after resampling\n",
    "    fast_resample: if True, uses linear interpolation with anti-aliasing filter for faster resampling. Is less accurate than fft based resampling\n",
    "    '''\n",
    "\n",
    "    if resampling_factor is not None:\n",
    "        seq_len = r_slc-l_slc if l_slc is not None and r_slc is not None else None #calculate seq_len for later slicing, necesary because of rounding errors in resampling\n",
    "        if l_slc is not None: l_slc= math.floor(l_slc/resampling_factor)\n",
    "        if r_slc is not None: r_slc= math.ceil(r_slc/resampling_factor)\n",
    "\n",
    "    with h5py.File(hdf_path,'r') as f:\n",
    "        ds = f if dataset is None else f[dataset]\n",
    "        l_array = [(ds[n][l_slc:r_slc]) for n in clms]\n",
    "        seq = np.stack(l_array,axis=-1)\n",
    "\n",
    "    if resampling_factor is not None:\n",
    "        if fast_resample:\n",
    "            res_seq = resample_interp(seq,resampling_factor)\n",
    "        else:\n",
    "            res_seq = resample(seq,int(seq.shape[0]*resampling_factor),window=('kaiser', 14.0))\n",
    "        if fs_idx is not None: res_seq[:,fs_idx] = seq[0,fs_idx] * resampling_factor\n",
    "        if dt_idx is not None: res_seq[:,dt_idx] = seq[0,dt_idx] / resampling_factor\n",
    "        seq = res_seq\n",
    "        \n",
    "        if seq_len is not None: seq = seq[:seq_len] #cut the part of the sequence that is too long because of resampling rounding errors\n",
    "        \n",
    "    return seq"
   ]
  },
  {
   "cell_type": "code",
   "execution_count": 52,
   "metadata": {},
   "outputs": [],
   "source": [
    "#| export\n",
    "class Memoize:\n",
    "    def __init__(self, fn):\n",
    "        self.fn = fn\n",
    "        self.memo = {}\n",
    "\n",
    "    def __call__(self, *args):\n",
    "        if args not in self.memo:\n",
    "            self.memo[args] = self.fn(*args)\n",
    "        return self.memo[args]\n",
    "\n"
   ]
  },
  {
   "cell_type": "code",
   "execution_count": 53,
   "metadata": {},
   "outputs": [],
   "source": [
    "# #| export\n",
    "# from multiprocessing import shared_memory, Manager, Lock\n",
    "\n",
    "# class MemoizeMP:\n",
    "#     def __init__(self, fn):\n",
    "#         self.fn = fn\n",
    "#         self.manager = Manager()\n",
    "#         self.results_dict = self.manager.dict()  # Stores metadata about computed results\n",
    "#         self.lock = Lock()  # Ensure atomic updates to the results_dict\n",
    "#         self.local_memo = {}  # Local cache for each process\n",
    "#         self.shared_memory_segments = []  # Track all shared memory segments\n",
    "\n",
    "#     def __call__(self, *args):\n",
    "#         if args in self.local_memo:\n",
    "#             return self.local_memo[args][0]\n",
    "\n",
    "#         with self.lock:\n",
    "#             if args in self.results_dict:\n",
    "#                 result_info = self.results_dict[args]\n",
    "#                 existing_shm = shared_memory.SharedMemory(name=result_info['name'])\n",
    "#                 result = np.ndarray(result_info['shape'], dtype=result_info['dtype'], buffer=existing_shm.buf)\n",
    "#                 self.local_memo[args] = (result, existing_shm)\n",
    "#                 return result\n",
    "\n",
    "#         result = self.fn(*args)\n",
    "\n",
    "#         with self.lock:\n",
    "#             if args not in self.results_dict:\n",
    "#                 result_shm = shared_memory.SharedMemory(create=True, size=result.nbytes)\n",
    "#                 shm_array = np.ndarray(result.shape, dtype=result.dtype, buffer=result_shm.buf)\n",
    "#                 shm_array[:] = result[:]\n",
    "                \n",
    "#                 self.results_dict[args] = {\n",
    "#                     'name': result_shm.name,\n",
    "#                     'shape': result.shape,\n",
    "#                     'dtype': result.dtype.str\n",
    "#                 }\n",
    "#                 self.local_memo[args] = (result, result_shm)\n",
    "#                 # Track this shared memory segment for later cleanup\n",
    "#                 self.shared_memory_segments.append(result_shm)\n",
    "\n",
    "#         return result\n",
    "\n",
    "#     def cleanup_shared_memory(self):\n",
    "#         \"\"\"Explicitly cleanup all tracked shared memory segments.\"\"\"\n",
    "#         for shm in self.shared_memory_segments:\n",
    "#             try:\n",
    "#                 shm.close()\n",
    "#                 shm.unlink()\n",
    "#             except FileNotFoundError:\n",
    "#                 # The shared memory segment was already cleaned up\n",
    "#                 pass\n",
    "#         # Clear the list after cleanup\n",
    "#         self.shared_memory_segments.clear()\n",
    "\n",
    "#     def __del__(self):\n",
    "#         self.cleanup_shared_memory()"
   ]
  },
  {
   "cell_type": "code",
   "execution_count": 54,
   "metadata": {},
   "outputs": [],
   "source": [
    "#| export\n",
    "from multiprocessing import shared_memory, Manager, Lock\n",
    "class MemoizeMP:\n",
    "    def __init__(self, fn):\n",
    "        self.fn = fn\n",
    "        self.manager = Manager()\n",
    "        self.results_dict = self.manager.dict()  # Stores metadata about computed results\n",
    "        self.lock = Lock()  # Ensure atomic updates to the results_dict\n",
    "        self.local_memo = {}  # Local cache for each process\n",
    "        self.shared_memory_segments = []  # Track all shared memory segments\n",
    "    def __call__(self, *args):\n",
    "        if args in self.local_memo:\n",
    "            return self.local_memo[args][0]\n",
    "        with self.lock:\n",
    "            if args in self.results_dict:\n",
    "                result_info = self.results_dict[args]\n",
    "                existing_shm = shared_memory.SharedMemory(name=result_info['name'])\n",
    "                result = np.ndarray(result_info['shape'], dtype=result_info['dtype'], buffer=existing_shm.buf)\n",
    "                self.local_memo[args] = (result, existing_shm)\n",
    "                return result\n",
    "        result = self.fn(*args)\n",
    "        with self.lock:\n",
    "            if args not in self.results_dict:\n",
    "                result_shm = shared_memory.SharedMemory(create=True, size=result.nbytes)\n",
    "                shm_array = np.ndarray(result.shape, dtype=result.dtype, buffer=result_shm.buf)\n",
    "                shm_array[:] = result[:]\n",
    "              \n",
    "                self.results_dict[args] = {\n",
    "                    'name': result_shm.name,\n",
    "                    'shape': result.shape,\n",
    "                    'dtype': result.dtype.str\n",
    "                }\n",
    "                self.local_memo[args] = (result, result_shm)\n",
    "                # Track this shared memory segment for later cleanup\n",
    "                self.shared_memory_segments.append(result_shm)\n",
    "        return result\n",
    "    def cleanup_shared_memory(self):\n",
    "        \"\"\"Explicitly cleanup all tracked shared memory segments.\"\"\"\n",
    "        for shm in self.shared_memory_segments:\n",
    "            try:\n",
    "                shm.close()\n",
    "                shm.unlink()\n",
    "            except FileNotFoundError:\n",
    "                # The shared memory segment was already cleaned up\n",
    "                pass\n",
    "        # Clear the list after cleanup\n",
    "        self.shared_memory_segments.clear()\n",
    "    def __del__(self):\n",
    "        self.cleanup_shared_memory()"
   ]
  },
  {
   "cell_type": "code",
   "execution_count": 55,
   "metadata": {},
   "outputs": [],
   "source": [
    "##| export\n",
    "#from multiprocessing.managers import SharedMemoryManager\n",
    "#from multiprocessing import shared_memory, Manager, Lock\n",
    "#import atexit\n",
    "#\n",
    "#class MemoizeMP:\n",
    "#    def __init__(self, fn):\n",
    "#        self.fn = fn\n",
    "#        self.manager = Manager()\n",
    "#        self.results_dict = self.manager.dict()  # Stores metadata about computed results\n",
    "#        self.lock = Lock()  # Ensure atomic updates to the results_dict\n",
    "#        self.local_memo = {}  # Local cache for each process\n",
    "#        self.shared_memory_manager = SharedMemoryManager()\n",
    "#        self.shared_memory_manager.start()  # Start the shared memory manager process\n",
    "#\n",
    "#    def __call__(self, *args):\n",
    "#        if args in self.local_memo:\n",
    "#            return self.local_memo[args][0]\n",
    "#\n",
    "#        with self.lock:\n",
    "#            if args in self.results_dict:\n",
    "#                result_info = self.results_dict[args]\n",
    "#                existing_shm = shared_memory.SharedMemory(name=result_info['name'])\n",
    "#                result = np.ndarray(result_info['shape'], dtype=result_info['dtype'], buffer=existing_shm.buf)\n",
    "#                self.local_memo[args] = (result, existing_shm)\n",
    "#                return result\n",
    "#\n",
    "#        result = self.fn(*args)\n",
    "#\n",
    "#        with self.lock:\n",
    "#            if args not in self.results_dict:\n",
    "#                # Create a new shared memory block through the manager\n",
    "#                result_shm = self.shared_memory_manager.SharedMemory(size=result.nbytes)\n",
    "#                shm_array = np.ndarray(result.shape, dtype=result.dtype, buffer=result_shm.buf)\n",
    "#                shm_array[:] = result[:]\n",
    "#\n",
    "#                self.results_dict[args] = {\n",
    "#                    'name': result_shm.name,\n",
    "#                    'shape': result.shape,\n",
    "#                    'dtype': result.dtype.str\n",
    "#                }\n",
    "#                self.local_memo[args] = (result, result_shm)\n",
    "#\n",
    "#        return result\n",
    "#\n",
    "#    @atexit.register\n",
    "#    def cleanup_shared_memory(self):\n",
    "#        \"\"\"Explicitly cleanup all shared memory segments managed by SharedMemoryManager.\"\"\"\n",
    "#        self.shared_memory_manager.shutdown()  # This will release all shared memory blocks\n",
    "#\n",
    "#    def __del__(self):\n",
    "#        self.cleanup_shared_memory()"
   ]
  },
  {
   "cell_type": "code",
   "execution_count": 56,
   "metadata": {},
   "outputs": [],
   "source": [
    "#| export\n",
    "class HDF2Sequence(Transform):\n",
    "    \n",
    "    def __init__(self, clm_names,clm_shift=None,truncate_sz=None,to_cls=noop,cached=True, fs_idx =None,dt_idx =None,fast_resample=True):\n",
    "        if not clm_shift is None:\n",
    "            assert len(clm_shift)==len(clm_names) and all(isinstance(n, int) for n in clm_shift)\n",
    "            self.l_shift,self.r_shift,_ = calc_shift_offsets(clm_shift)\n",
    "        \n",
    "        if not cached:\n",
    "            self._exseq = self._hdf_extract_sequence \n",
    "        elif cached == 'local':\n",
    "            self._exseq = Memoize(self._hdf_extract_sequence) \n",
    "        else :\n",
    "            self._exseq = Memoize(self._hdf_extract_sequence) \n",
    "            #self._exseq = MemoizeMP(self._hdf_extract_sequence)\n",
    "\n",
    "        self.cached = cached is not None\n",
    "        store_attr('clm_names,clm_shift,truncate_sz,to_cls,fs_idx,dt_idx,fast_resample')\n",
    "        \n",
    "    def _hdf_extract_sequence(self,hdf_path,dataset = None, l_slc = None, r_slc= None, resampling_factor=None, fs_idx =None,dt_idx =None,fast_resample=True):\n",
    "        '''\n",
    "        extracts a sequence with the shape [seq_len x num_features]\n",
    "\n",
    "        hdf_path: file path of hdf file, may be a string or path type\n",
    "        clms: list of dataset names of sequences in hdf file\n",
    "        dataset: dataset root for clms. Useful for multiples sequences stored in one file.\n",
    "        l_slc: left boundary for extraction of a window of the whole sequence\n",
    "        r_slc: right boundary for extraction of a window of the whole sequence\n",
    "        resampling_factor: scaling factor for the sequence length, uses 'resample_interp' for resampling\n",
    "        fs_idx: clms list idx of fs entry in sequence. Will be scaled by resampling_factor after resampling\n",
    "        dt_idx: clms list idx of dt entry in sequence. Will be scaled by resampling_factor after resampling\n",
    "        fast_resample: if True, uses linear interpolation with anti-aliasing filter for faster resampling. Is less accurate than fft based resampling\n",
    "        '''\n",
    "\n",
    "        if resampling_factor is not None:\n",
    "            seq_len = r_slc-l_slc if l_slc is not None and r_slc is not None else None #calculate seq_len for later slicing, necesary because of rounding errors in resampling\n",
    "            if l_slc is not None: l_slc= math.floor(l_slc/resampling_factor)\n",
    "            if r_slc is not None: r_slc= math.ceil(r_slc/resampling_factor)\n",
    "\n",
    "        with h5py.File(hdf_path,'r') as f:\n",
    "            ds = f if dataset is None else f[dataset]\n",
    "            l_array = [(ds[n][l_slc:r_slc]) for n in self.clm_names]\n",
    "            seq = np.stack(l_array,axis=-1)\n",
    "\n",
    "        if resampling_factor is not None:\n",
    "            if fast_resample:\n",
    "                res_seq = resample_interp(seq,resampling_factor)\n",
    "            else:\n",
    "                res_seq = resample(seq,int(seq.shape[0]*resampling_factor),window=('kaiser', 14.0))\n",
    "            \n",
    "            if fs_idx is not None: res_seq[:,fs_idx] = seq[0,fs_idx] * resampling_factor\n",
    "            if dt_idx is not None: res_seq[:,dt_idx] = seq[0,dt_idx] / resampling_factor\n",
    "            seq = res_seq\n",
    "\n",
    "            if seq_len is not None: seq = seq[:seq_len] #cut the part of the sequence that is too long because of resampling rounding errors\n",
    "\n",
    "        return seq\n",
    "    \n",
    "    def _extract_dict_sequence(self,item):\n",
    "        if hasattr(item,'keys'):\n",
    "            path = item['path']\n",
    "            dataset = item['dataset'] if 'dataset' in item else None\n",
    "            l_slc = item['l_slc'] if 'l_slc' in item else None\n",
    "            r_slc = item['r_slc'] if 'r_slc' in item else None\n",
    "            resampling_factor = item['resampling_factor'] if 'resampling_factor' in item else None\n",
    "\n",
    "            if self.cached:\n",
    "                seq = self._exseq(path,dataset,None,None,resampling_factor,self.fs_idx,self.dt_idx,self.fast_resample)[l_slc:r_slc]\n",
    "            else:\n",
    "                seq = self._exseq(path,dataset,l_slc,r_slc,resampling_factor,self.fs_idx,self.dt_idx,self.fast_resample)\n",
    "        else:\n",
    "            seq = self._exseq(str(item),None,None,None,None,None)\n",
    "\n",
    "        #shift clms of result by given value \n",
    "        if not self.clm_shift is None:\n",
    "            l_seq = seq.shape[0]\n",
    "            seq = np.stack([seq[self.l_shift[i]:l_seq+self.r_shift[i],i] for i in range(seq.shape[1])],axis=-1)\n",
    "            \n",
    "        if not self.truncate_sz is None:\n",
    "            seq = seq[truncate_sz:]\n",
    "        \n",
    "        #it is important to slice first and then do the class conversion\n",
    "#         return self.to_cls(seq.astype('f8'))#workaround for random bug, that mitigates convergence if the numpy array is an f4 array. Seems to make no sense because the result does not change. \n",
    "        return self.to_cls(seq)\n",
    "\n",
    "    def encodes(self, item)->None: \n",
    "        return self._extract_dict_sequence(item)"
   ]
  },
  {
   "cell_type": "code",
   "execution_count": 57,
   "metadata": {},
   "outputs": [
    {
     "data": {
      "text/plain": [
       "array([[ 0.78419271, -0.07519186],\n",
       "       [ 1.14985174, -0.03296081],\n",
       "       [ 1.31053572,  0.01270365],\n",
       "       ...,\n",
       "       [-0.00583681, -0.00583681],\n",
       "       [-0.00583681, -0.00618015],\n",
       "       [-0.00583681, -0.00652349]])"
      ]
     },
     "execution_count": 57,
     "metadata": {},
     "output_type": "execute_result"
    }
   ],
   "source": [
    "# %%timeit\n",
    "hdf2seq = HDF2Sequence(['u','y'],cached=False)\n",
    "hdf2seq(hdf_files[0])"
   ]
  },
  {
   "cell_type": "code",
   "execution_count": 58,
   "metadata": {},
   "outputs": [
    {
     "data": {
      "text/plain": [
       "array([[ 1.14985174, -0.03296081],\n",
       "       [ 1.31053572,  0.01270365],\n",
       "       [ 1.0427291 ,  0.06111484],\n",
       "       ...,\n",
       "       [-0.00583681, -0.00583681],\n",
       "       [-0.00583681, -0.00618015],\n",
       "       [-0.00583681, -0.00652349]])"
      ]
     },
     "execution_count": 58,
     "metadata": {},
     "output_type": "execute_result"
    }
   ],
   "source": [
    "hdf2seq = HDF2Sequence(['u','y'],clm_shift=[1,1])\n",
    "hdf2seq(hdf_files[0])"
   ]
  },
  {
   "cell_type": "code",
   "execution_count": 59,
   "metadata": {},
   "outputs": [
    {
     "name": "stdout",
     "output_type": "stream",
     "text": [
      "[[ 0.78419271 -0.07519186]\n",
      " [ 1.14985174 -0.03296081]\n",
      " [ 1.31053572  0.01270365]\n",
      " ...\n",
      " [-0.00583681 -0.00583681]\n",
      " [-0.00583681 -0.00618015]\n",
      " [-0.00583681 -0.00652349]]\n"
     ]
    }
   ],
   "source": [
    "hdf2seq = HDF2Sequence(['u','y'],cached='shared')\n",
    "print(hdf2seq(hdf_files[0]))"
   ]
  },
  {
   "cell_type": "code",
   "execution_count": 60,
   "metadata": {},
   "outputs": [
    {
     "data": {
      "text/plain": [
       "array([[ 0.78419271, -0.07519186],\n",
       "       [ 1.14985174, -0.03296081],\n",
       "       [ 1.31053572,  0.01270365],\n",
       "       ...,\n",
       "       [-0.00583681, -0.00583681],\n",
       "       [-0.00583681, -0.00618015],\n",
       "       [-0.00583681, -0.00652349]])"
      ]
     },
     "execution_count": 60,
     "metadata": {},
     "output_type": "execute_result"
    }
   ],
   "source": [
    "# %%timeit\n",
    "hdf2seq(hdf_files[0])"
   ]
  },
  {
   "cell_type": "code",
   "execution_count": 61,
   "metadata": {},
   "outputs": [],
   "source": [
    "hdf2seq = HDF2Sequence(['u','y'],cached=True)"
   ]
  },
  {
   "cell_type": "code",
   "execution_count": 62,
   "metadata": {},
   "outputs": [
    {
     "data": {
      "text/plain": [
       "array([[ 0.78419271, -0.07519186],\n",
       "       [ 1.14985174, -0.03296081],\n",
       "       [ 1.31053572,  0.01270365],\n",
       "       ...,\n",
       "       [-0.00583681, -0.00583681],\n",
       "       [-0.00583681, -0.00618015],\n",
       "       [-0.00583681, -0.00652349]])"
      ]
     },
     "execution_count": 62,
     "metadata": {},
     "output_type": "execute_result"
    }
   ],
   "source": [
    "# %%timeit\n",
    "hdf2seq(hdf_files[0])"
   ]
  },
  {
   "cell_type": "markdown",
   "metadata": {},
   "source": [
    "Die Funktion lässt sich mittels Pipeline auf eine Liste von Quellobjekten (hier Pfade) anwenden "
   ]
  },
  {
   "cell_type": "code",
   "execution_count": 63,
   "metadata": {},
   "outputs": [
    {
     "data": {
      "text/plain": [
       "(88000, 1)"
      ]
     },
     "execution_count": 63,
     "metadata": {},
     "output_type": "execute_result"
    }
   ],
   "source": [
    "hdf2seq = HDF2Sequence(['u'])\n",
    "hdf2seq(hdf_files[0]).shape"
   ]
  },
  {
   "cell_type": "code",
   "execution_count": 64,
   "metadata": {},
   "outputs": [],
   "source": [
    "pipe = Pipeline(HDF2Sequence(['u','y']))"
   ]
  },
  {
   "cell_type": "code",
   "execution_count": 65,
   "metadata": {},
   "outputs": [],
   "source": [
    "# res_pipe = pipe(hdf_files)\n",
    "# len(res_pipe), res_pipe[0][0]"
   ]
  },
  {
   "cell_type": "code",
   "execution_count": null,
   "metadata": {},
   "outputs": [],
   "source": []
  },
  {
   "cell_type": "markdown",
   "metadata": {},
   "source": [
    "#### Performance Test\n",
    "Caching stores the arrays for future use at every function call. Very usefull, especially for windows. Should allways be turned. Only explicitly turn it off when there is not enough memory for your data."
   ]
  },
  {
   "cell_type": "code",
   "execution_count": 66,
   "metadata": {},
   "outputs": [],
   "source": [
    "tfms=[  [HDF2Sequence(['u','y'],cached=None)],\n",
    "        [HDF2Sequence(['y'],cached=None)]]\n",
    "dsrc = Datasets(src_dicts[:1000],tfms=tfms)"
   ]
  },
  {
   "cell_type": "code",
   "execution_count": 67,
   "metadata": {},
   "outputs": [
    {
     "data": {
      "text/plain": [
       "1000"
      ]
     },
     "execution_count": 67,
     "metadata": {},
     "output_type": "execute_result"
    }
   ],
   "source": [
    "len(dsrc)"
   ]
  },
  {
   "cell_type": "code",
   "execution_count": 68,
   "metadata": {},
   "outputs": [],
   "source": [
    "# %%time\n",
    "# for x in dsrc:\n",
    "#     x"
   ]
  },
  {
   "cell_type": "code",
   "execution_count": 69,
   "metadata": {},
   "outputs": [],
   "source": [
    "tfms=[  [HDF2Sequence(['u','y'],cached=True,clm_shift=[1,2])],\n",
    "        [HDF2Sequence(['y'],cached=True)]]\n",
    "dsrc = Datasets(src_dicts[:1000],tfms=tfms)"
   ]
  },
  {
   "cell_type": "code",
   "execution_count": 70,
   "metadata": {},
   "outputs": [],
   "source": [
    "# # %%timeit\n",
    "# for x in dsrc:\n",
    "#     x"
   ]
  },
  {
   "cell_type": "markdown",
   "metadata": {},
   "source": [
    "Caching is way faster because every file gets loaded multiple times"
   ]
  },
  {
   "cell_type": "markdown",
   "metadata": {},
   "source": [
    "### Extract Scalar data from hdf5-files"
   ]
  },
  {
   "cell_type": "code",
   "execution_count": 71,
   "metadata": {},
   "outputs": [],
   "source": [
    "#| export\n",
    "def hdf2scalars(hdf_path,c_names,dataset = None):\n",
    "    with h5py.File(hdf_path,'r') as f:\n",
    "        ds = f if dataset is None else f[dataset]\n",
    "        l_array = [ds.attrs[n] for n in c_names]\n",
    "        scalars = np.stack(l_array,axis=-1)\n",
    "#         import pdb; pdb.set_trace()\n",
    "#         l_array = [f[n][:][:,None] for n in c_names]\n",
    "#         seq = np.concatenate(l_array,axis=1)\n",
    "        return scalars"
   ]
  },
  {
   "cell_type": "code",
   "execution_count": 72,
   "metadata": {},
   "outputs": [],
   "source": [
    "# hdf2scalars('/mnt/data/sicwell/hdf5/Cycles/ch3/cycle00568.hdf5',['soc','temperature1'],dataset='measurement_00000')"
   ]
  },
  {
   "cell_type": "code",
   "execution_count": 73,
   "metadata": {},
   "outputs": [],
   "source": [
    "#| export\n",
    "class HDF2Scalars(Transform):\n",
    "    \n",
    "    def __init__(self, clm_names,to_cls=noop):\n",
    "        store_attr('clm_names,to_cls')\n",
    "    \n",
    "    def _extract_dict_scalars(self,item):\n",
    "        if isinstance(item,dict):\n",
    "            path = item['path']\n",
    "            dataset = item['dataset'] if 'dataset' in item else None\n",
    "\n",
    "            seq = hdf2scalars(path,self.clm_names,dataset)\n",
    "        else:\n",
    "            seq = hdf2scalars(str(item),self.clm_names)\n",
    "        return self.to_cls(seq)\n",
    "\n",
    "    def encodes(self, item)->None: \n",
    "        return self._extract_dict_scalars(item)"
   ]
  },
  {
   "cell_type": "code",
   "execution_count": 74,
   "metadata": {},
   "outputs": [],
   "source": [
    "# HDF2Scalars(['soc','temperature1'])({'path':'/mnt/data/sicwell/hdf5/Cycles/ch3/cycle00568.hdf5','dataset':'measurement_00000'})"
   ]
  },
  {
   "cell_type": "markdown",
   "metadata": {},
   "source": [
    "### Extract Scalar from sequence"
   ]
  },
  {
   "cell_type": "code",
   "execution_count": 75,
   "metadata": {},
   "outputs": [],
   "source": [
    "#| export\n",
    "class ScalarSequenceElement(Transform):\n",
    "    \n",
    "    def __init__(self, idx,to_cls=noop):\n",
    "        store_attr('idx,to_cls')\n",
    "\n",
    "    def encodes(self, item)->None: \n",
    "        return self.to_cls(item[self.idx])"
   ]
  },
  {
   "cell_type": "code",
   "execution_count": 76,
   "metadata": {},
   "outputs": [
    {
     "data": {
      "text/plain": [
       "array([-0.00583681])"
      ]
     },
     "execution_count": 76,
     "metadata": {},
     "output_type": "execute_result"
    }
   ],
   "source": [
    "ScalarSequenceElement(-1)(hdf2seq(hdf_files[0]))"
   ]
  },
  {
   "cell_type": "markdown",
   "metadata": {},
   "source": [
    "### 2.1 Datatypes for Sequences and Scalars"
   ]
  },
  {
   "cell_type": "code",
   "execution_count": 77,
   "metadata": {},
   "outputs": [],
   "source": [
    "#| export\n",
    "class TensorSequences(TensorBase):#TensorBase\n",
    "#     def __init__(self,x,c_names=None, **kwargs):\n",
    "#         super().__init__()\n",
    "#         self.c_names = c_names\n",
    "    \n",
    "    def show(self, ctx=None, **kwargs):\n",
    "#         import pdb; pdb.set_trace()\n",
    "        ax = ctx\n",
    "        if ax is None: _,ax = plt.subplots()\n",
    "        ax.plot(self)\n",
    "#         if title is not None: ax.set_title(title)\n",
    "        return ax\n",
    "\n",
    "    @classmethod\n",
    "    @delegates(HDF2Sequence, keep=True)\n",
    "    def from_hdf(cls,clm_names,**kwargs):\n",
    "        return HDF2Sequence(clm_names,**kwargs)\n",
    "    \n",
    "class TensorSequencesInput(TensorSequences): pass\n",
    "class TensorSequencesOutput(TensorSequences): pass"
   ]
  },
  {
   "cell_type": "code",
   "execution_count": 78,
   "metadata": {},
   "outputs": [
    {
     "data": {
      "text/plain": [
       "numpy.ndarray"
      ]
     },
     "execution_count": 78,
     "metadata": {},
     "output_type": "execute_result"
    }
   ],
   "source": [
    "f = TensorSequencesInput.from_hdf(['u'])\n",
    "type(f(hdf_files[0]))"
   ]
  },
  {
   "cell_type": "code",
   "execution_count": 79,
   "metadata": {},
   "outputs": [],
   "source": [
    "# TensorSequences(np.ones((30,2))).show()"
   ]
  },
  {
   "cell_type": "code",
   "execution_count": 80,
   "metadata": {},
   "outputs": [],
   "source": [
    "#| export\n",
    "@Transform\n",
    "def toTensorSequencesInput(o): return TensorSequencesInput(o)\n",
    "@Transform\n",
    "def toTensorSequencesOutput(o): return TensorSequencesOutput(o)"
   ]
  },
  {
   "cell_type": "code",
   "execution_count": 81,
   "metadata": {},
   "outputs": [],
   "source": [
    "#| export\n",
    "class TensorScalars(TensorBase):\n",
    "    @classmethod\n",
    "    @delegates(HDF2Scalars, keep=True)\n",
    "    def from_hdf(cls,clm_names,**kwargs):\n",
    "        return HDF2Scalars(clm_names,**kwargs)\n",
    "    \n",
    "    \n",
    "class TensorScalarsInput(TensorScalars): pass\n",
    "class TensorScalarsOutput(TensorScalars): pass\n"
   ]
  },
  {
   "cell_type": "markdown",
   "metadata": {},
   "source": [
    "The tensor subclassing mechanism since pytorch 1.7 keeps the tensor type in tensor operations. Operations with different branches of subclasses of tensors require a implementation of '__torch_function__'.\n",
    "Fastai implements 'TensorBase.register_func' to mark methods that behave for the given types like the default torch operation.\n",
    "\n",
    "https://pytorch.org/docs/stable/notes/extending.html#extending-torch\n"
   ]
  },
  {
   "cell_type": "code",
   "execution_count": 82,
   "metadata": {},
   "outputs": [],
   "source": [
    "#| export\n",
    "for f in torch.nn.functional.mse_loss,torch.nn.functional.huber_loss, Tensor.__getitem__, Tensor.__ne__,Tensor.__eq__,Tensor.add,Tensor.sub,Tensor.mul,Tensor.div,Tensor.__rsub__,Tensor.__radd__,Tensor.matmul,Tensor.bmm:\n",
    "    TensorBase.register_func(f,TensorSequences)\n",
    "    TensorBase.register_func(f,TensorScalars)"
   ]
  },
  {
   "cell_type": "code",
   "execution_count": 83,
   "metadata": {},
   "outputs": [
    {
     "data": {
      "text/plain": [
       "TensorSequencesInput(0.1667)"
      ]
     },
     "execution_count": 83,
     "metadata": {},
     "output_type": "execute_result"
    }
   ],
   "source": [
    "x1 = TensorSequencesInput(torch.rand((10,10)))\n",
    "x2 = TensorSequencesOutput(torch.rand((10,10)))\n",
    "torch.nn.functional.mse_loss(x1,x2)"
   ]
  },
  {
   "cell_type": "markdown",
   "metadata": {},
   "source": [
    "## 3. Transformations\n"
   ]
  },
  {
   "cell_type": "markdown",
   "metadata": {},
   "source": [
    "### 3.1 Sequence Slicing Transformation"
   ]
  },
  {
   "cell_type": "code",
   "execution_count": 84,
   "metadata": {},
   "outputs": [],
   "source": [
    "#| export \n",
    "class SeqSlice(Transform):\n",
    "    '''Take a slice from an array-like object. Useful for e.g. shifting input and output'''\n",
    "    def __init__(self, l_slc=None,r_slc=None):\n",
    "        self.l_slc,self.r_slc = l_slc,r_slc\n",
    "        \n",
    "    def encodes(self, o): return o[self.l_slc:self.r_slc]"
   ]
  },
  {
   "cell_type": "code",
   "execution_count": 85,
   "metadata": {},
   "outputs": [],
   "source": [
    "l_shift = SeqSlice(r_slc=-1)\n",
    "arr = np.ones((5))\n",
    "test_eq(l_shift(arr),arr[:-1])"
   ]
  },
  {
   "cell_type": "markdown",
   "metadata": {},
   "source": [
    "### 3.2 Sequence Noise Injection Transformation"
   ]
  },
  {
   "cell_type": "code",
   "execution_count": 86,
   "metadata": {},
   "outputs": [],
   "source": [
    "#| export\n",
    "class SeqNoiseInjection(RandTransform):\n",
    "    split_idx=0 #apply only to training data, if None it will be applied to all data\n",
    "    '''Adds normal distributed noise to the tensor sequence with seperate mean and std for every signal'''\n",
    "    def __init__(self, std=1e-1,mean=0.,p=1.0):\n",
    "        super().__init__(p=p)\n",
    "        self.std = tensor(std).type(torch.float)\n",
    "        self.mean = tensor(mean).type(torch.float)\n",
    "        \n",
    "    def encodes(self, o:TensorSequencesInput): \n",
    "        if o.device != self.mean.device:\n",
    "            self.std = self.std.to(o.device)\n",
    "            self.mean = self.mean.to(o.device)\n",
    "        #expand creates a view on a tensor and is therefore very fast compared to copy\n",
    "        return o+torch.normal(mean=self.mean.expand_as(o), \n",
    "                              std=self.std.expand_as(o))"
   ]
  },
  {
   "cell_type": "code",
   "execution_count": 87,
   "metadata": {},
   "outputs": [
    {
     "data": {
      "text/plain": [
       "(TensorSequencesInput([[ 1.,  1.,  1.],\n",
       "                       [-1., -1., -1.]]),\n",
       " torch.Size([2, 3]))"
      ]
     },
     "execution_count": 87,
     "metadata": {},
     "output_type": "execute_result"
    }
   ],
   "source": [
    "x = TensorSequencesInput(tensor([[1,1,1],[-1,-1,-1.0]]))\n",
    "ns_mean = tensor([0.,10.1,3.1])\n",
    "ns_std = tensor([1.,1.1,0.1])\n",
    "x,x.shape"
   ]
  },
  {
   "cell_type": "code",
   "execution_count": 88,
   "metadata": {},
   "outputs": [
    {
     "data": {
      "text/plain": [
       "TensorSequencesInput([[ 1.,  1.,  1.],\n",
       "                      [-1., -1., -1.]])"
      ]
     },
     "execution_count": 88,
     "metadata": {},
     "output_type": "execute_result"
    }
   ],
   "source": [
    "seq_noise = SeqNoiseInjection(std=ns_std,mean=ns_mean)\n",
    "seq_noise(x)"
   ]
  },
  {
   "cell_type": "code",
   "execution_count": 89,
   "metadata": {},
   "outputs": [
    {
     "data": {
      "text/plain": [
       "TensorSequencesInput([[ 1.,  1.,  1.],\n",
       "                      [-1., -1., -1.]])"
      ]
     },
     "execution_count": 89,
     "metadata": {},
     "output_type": "execute_result"
    }
   ],
   "source": [
    "seq_noise = SeqNoiseInjection(std=ns_std*10)\n",
    "seq_noise(x)"
   ]
  },
  {
   "cell_type": "code",
   "execution_count": 90,
   "metadata": {},
   "outputs": [],
   "source": [
    "#| export\n",
    "class SeqNoiseInjection_Varying(RandTransform):\n",
    "    split_idx=0\n",
    "    '''Adds normal distributed noise to the tensor sequence with a normal distributed standard deviation for every application'''\n",
    "    def __init__(self, std_std=0.1,p=1.0):\n",
    "        super().__init__(p=p)\n",
    "        self.std_std = tensor(std_std).type(torch.float)\n",
    "        \n",
    "    def encodes(self, o:TensorSequencesInput): \n",
    "        if o.device != self.std_std.device:\n",
    "            self.std_std = self.std_std.to(o.device)\n",
    "            \n",
    "        #expand creates a view on a tensor and is therefore very fast compared to copy\n",
    "        std = torch.normal(mean=0,std=self.std_std).abs()\n",
    "        return o+torch.normal(mean=0,std=std.expand_as(o))"
   ]
  },
  {
   "cell_type": "code",
   "execution_count": 91,
   "metadata": {},
   "outputs": [
    {
     "data": {
      "text/plain": [
       "(TensorSequencesInput([[0, 0, 0],\n",
       "                       [0, 0, 0]]),\n",
       " torch.Size([2, 3]))"
      ]
     },
     "execution_count": 91,
     "metadata": {},
     "output_type": "execute_result"
    }
   ],
   "source": [
    "x = TensorSequencesInput(tensor([[0,0,0],[0,0,0]]))\n",
    "ns_std = tensor([1.,1.1,0.1])\n",
    "x,x.shape"
   ]
  },
  {
   "cell_type": "code",
   "execution_count": 92,
   "metadata": {},
   "outputs": [
    {
     "data": {
      "text/plain": [
       "TensorSequencesInput([[0, 0, 0],\n",
       "                      [0, 0, 0]])"
      ]
     },
     "execution_count": 92,
     "metadata": {},
     "output_type": "execute_result"
    }
   ],
   "source": [
    "seq_noise = SeqNoiseInjection_Varying(std_std=ns_std)\n",
    "seq_noise(x)"
   ]
  },
  {
   "cell_type": "code",
   "execution_count": 93,
   "metadata": {},
   "outputs": [],
   "source": [
    "#| export\n",
    "class SeqNoiseInjection_Grouped(RandTransform):\n",
    "    split_idx=0\n",
    "    '''Adds normal distributed noise to the tensor sequence with a normal distributed standard deviation for every application, every group gert'''\n",
    "    def __init__(self, std_std,std_idx,p=1.0):\n",
    "        super().__init__(p=p)\n",
    "        self.std_std = tensor(std_std).type(torch.float)\n",
    "        self.std_idx = tensor(std_idx).type(torch.long)\n",
    "        \n",
    "    def encodes(self, o:TensorSequencesInput): \n",
    "        if o.device != self.std_std.device:\n",
    "            self.std_std = self.std_std.to(o.device)\n",
    "            \n",
    "        #expand creates a view on a tensor and is therefore very fast compared to copy\n",
    "        std = torch.normal(mean=0,std=self.std_std).abs()[self.std_idx]\n",
    "        return o+torch.normal(mean=0,std=std.expand_as(o))"
   ]
  },
  {
   "cell_type": "code",
   "execution_count": 94,
   "metadata": {},
   "outputs": [
    {
     "data": {
      "text/plain": [
       "(TensorSequencesInput([[0, 0, 0],\n",
       "                       [0, 0, 0]]),\n",
       " torch.Size([2, 3]))"
      ]
     },
     "execution_count": 94,
     "metadata": {},
     "output_type": "execute_result"
    }
   ],
   "source": [
    "x = TensorSequencesInput(tensor([[0,0,0],[0,0,0]]))\n",
    "ns_std = tensor([1.,1.1,0.1])\n",
    "x,x.shape"
   ]
  },
  {
   "cell_type": "code",
   "execution_count": 95,
   "metadata": {},
   "outputs": [
    {
     "data": {
      "text/plain": [
       "TensorSequencesInput([[0, 0, 0],\n",
       "                      [0, 0, 0]])"
      ]
     },
     "execution_count": 95,
     "metadata": {},
     "output_type": "execute_result"
    }
   ],
   "source": [
    "seq_noise = SeqNoiseInjection_Grouped(std_std=[3.,0],std_idx=[0,0,1])\n",
    "seq_noise(x)"
   ]
  },
  {
   "cell_type": "markdown",
   "metadata": {},
   "source": [
    "### 3.2 Sequence Bias Injection Transformation"
   ]
  },
  {
   "cell_type": "code",
   "execution_count": 96,
   "metadata": {},
   "outputs": [],
   "source": [
    "#| export\n",
    "class SeqBiasInjection(RandTransform):\n",
    "    split_idx=0\n",
    "    '''Adds a normal distributed offset to the tensor sequence with seperate mean and std for every signal'''\n",
    "    def __init__(self, std=1e-1,mean=0.,p=1.0):\n",
    "        super().__init__(p=p)\n",
    "        self.std = tensor(std).type(torch.float)\n",
    "        self.mean = tensor(mean).type(torch.float)\n",
    "        \n",
    "    def encodes(self, o:TensorSequencesInput): \n",
    "        if o.device != self.mean.device:\n",
    "            self.std = self.std.to(o.device)\n",
    "            self.mean = self.mean.to(o.device)\n",
    "        \n",
    "        #expand creates a view on a tensor and is therefore very fast compared to copy\n",
    "        mean=self.mean.repeat((o.shape[0],1,1)).expand((o.shape[0],1,o.shape[2]))\n",
    "        std= self.std.repeat((o.shape[0],1,1)).expand((o.shape[0],1,o.shape[2]))\n",
    "        n = torch.normal(mean=mean, std=std).expand_as(o)\n",
    "        return o+n"
   ]
  },
  {
   "cell_type": "code",
   "execution_count": 97,
   "metadata": {},
   "outputs": [
    {
     "data": {
      "text/plain": [
       "TensorSequencesInput([[ 1., -1.]])"
      ]
     },
     "execution_count": 97,
     "metadata": {},
     "output_type": "execute_result"
    }
   ],
   "source": [
    "x = TensorSequencesInput(tensor([[[1,1,1],[-1,-1,-1.0]]]))\n",
    "ns_mean = tensor([0.,10.1,3.1])\n",
    "ns_std = tensor([1.,1.1,0.1])\n",
    "seq_bias = SeqBiasInjection(std=ns_std,mean=ns_std)\n",
    "seq_bias(x)[...,0]"
   ]
  },
  {
   "cell_type": "code",
   "execution_count": 98,
   "metadata": {},
   "outputs": [
    {
     "data": {
      "text/plain": [
       "tensor([1.0000, 1.1000, 0.1000])"
      ]
     },
     "execution_count": 98,
     "metadata": {},
     "output_type": "execute_result"
    }
   ],
   "source": [
    "seq_bias.mean"
   ]
  },
  {
   "cell_type": "code",
   "execution_count": 99,
   "metadata": {},
   "outputs": [
    {
     "data": {
      "text/plain": [
       "TensorSequencesInput([[[ 1.,  1.,  1.],\n",
       "                       [-1., -1., -1.]]])"
      ]
     },
     "execution_count": 99,
     "metadata": {},
     "output_type": "execute_result"
    }
   ],
   "source": [
    "seq_bias = SeqBiasInjection(std=ns_std*10)\n",
    "seq_bias(x)"
   ]
  },
  {
   "cell_type": "markdown",
   "metadata": {},
   "source": [
    "### 3.3 Normalization\n",
    "`Normalize` is programmed for `TensorImage` as an input tensor. It gets. At init the variable axes need to be chosen correspondingly to the shape of your tensor."
   ]
  },
  {
   "cell_type": "code",
   "execution_count": 100,
   "metadata": {},
   "outputs": [],
   "source": [
    "#| export\n",
    "@Normalize\n",
    "def encodes(self, x:TensorSequencesInput): \n",
    "    if x.device != self.mean.device:\n",
    "        self.mean = self.mean.to(x.device)\n",
    "        self.std = self.std.to(x.device)\n",
    "    return (x-self.mean) / self.std\n",
    "\n",
    "@Normalize\n",
    "def decodes(self, x:TensorSequencesInput):\n",
    "    if x.device != self.mean.device:\n",
    "        self.mean = self.mean.to(x.device)\n",
    "        self.std = self.std.to(x.device)\n",
    "    return (x*self.std + self.mean)"
   ]
  },
  {
   "cell_type": "code",
   "execution_count": 101,
   "metadata": {},
   "outputs": [
    {
     "data": {
      "text/plain": [
       "(TensorSequencesInput([[[ 1.,  1.,  1.],\n",
       "                        [-1., -1., -1.]]]),\n",
       " TensorSequencesInput([[[  1.0000,  -8.2727, -21.0000],\n",
       "                        [ -1.0000, -10.0909, -41.0000]]]))"
      ]
     },
     "execution_count": 101,
     "metadata": {},
     "output_type": "execute_result"
    }
   ],
   "source": [
    "norm = Normalize.from_stats(mean=ns_mean,std=ns_std,dim=1,ndim=2,cuda=False)\n",
    "x,norm(x)"
   ]
  },
  {
   "cell_type": "markdown",
   "metadata": {},
   "source": [
    "## 4. Split in Training, Validation\n",
    "Splitting kann anhand von vorher bekannten Indizes, dem Dateipfad oder anderen allgemeinen Funktion durchgeführt werden.\n",
    "\n",
    "Splitting innerhalb einer Sequenzen sollte in der Praxis nur dann geschehen wenn eine einzige Sequenz vorhanden ist. Diese kann dann vorher manuell geteilt werden.\n"
   ]
  },
  {
   "cell_type": "markdown",
   "metadata": {},
   "source": [
    "### 4.1 Splitting mit vorgegebenem Index"
   ]
  },
  {
   "cell_type": "code",
   "execution_count": 102,
   "metadata": {},
   "outputs": [],
   "source": [
    "splitter = IndexSplitter([1,2])\n",
    "test_eq(splitter(hdf_files),[[0],[1,2]])"
   ]
  },
  {
   "cell_type": "markdown",
   "metadata": {},
   "source": [
    "### 4.2 Splitting mit allgemeiner Funktion\n",
    "Items, bei denen die definierte Funktion `True` zurück gibt, werden den Validierungsdatensatz zugeordnet, der Rest dem Training. In diesem Fall wird nach dem Übergeordneten Ordnernamen gesucht."
   ]
  },
  {
   "cell_type": "code",
   "execution_count": 103,
   "metadata": {},
   "outputs": [],
   "source": [
    "splitter = FuncSplitter(lambda o: Path(o).parent.name == 'valid')\n",
    "splitter(hdf_files)\n",
    "test_eq(splitter(hdf_files),[[0,1],[2]])"
   ]
  },
  {
   "cell_type": "markdown",
   "metadata": {},
   "source": [
    "### 4.3 Splitting anhand des Parent-Folders\n",
    "Splitter, der Explizit Training und Validierungsordner den Datensätzen zuordnet"
   ]
  },
  {
   "cell_type": "code",
   "execution_count": 104,
   "metadata": {},
   "outputs": [],
   "source": [
    "#| export\n",
    "def _parent_idxs(items, name): return mask2idxs(Path(o).parent.name == name for o in items)\n",
    "\n",
    "def ParentSplitter(train_name='train', valid_name='valid'):\n",
    "    \"Split `items` from the parent folder names (`train_name` and `valid_name`).\"\n",
    "    def _inner(o, **kwargs):\n",
    "        return _parent_idxs(o, train_name),_parent_idxs(o, valid_name)\n",
    "    return _inner"
   ]
  },
  {
   "cell_type": "code",
   "execution_count": 105,
   "metadata": {},
   "outputs": [],
   "source": [
    "splitter = ParentSplitter()\n",
    "test_eq(splitter(hdf_files),[[1],[2]])"
   ]
  },
  {
   "cell_type": "markdown",
   "metadata": {},
   "source": [
    "### 4.4 Percentage Splitter"
   ]
  },
  {
   "cell_type": "code",
   "execution_count": 106,
   "metadata": {},
   "outputs": [],
   "source": [
    "#| export\n",
    "def PercentageSplitter(pct=0.8):\n",
    "    \"Split `items` in order in relative quantity.\"\n",
    "    def _inner(o, **kwargs):\n",
    "        split_idx=int(len(o)*pct)\n",
    "        return L(range(split_idx)),L(range(split_idx,len(o)))\n",
    "    return _inner"
   ]
  },
  {
   "cell_type": "code",
   "execution_count": 107,
   "metadata": {},
   "outputs": [],
   "source": [
    "splitter = PercentageSplitter(0.7)\n",
    "test_eq(splitter(hdf_files),[[0,1],[2]])"
   ]
  },
  {
   "cell_type": "markdown",
   "metadata": {},
   "source": [
    "### 4.5 Apply To Dictionary\n",
    "In Case of the Datablock API your items are a list of dictionaries. If you want to apply a Splitter to the path stored within you need a wrapper function."
   ]
  },
  {
   "cell_type": "code",
   "execution_count": 108,
   "metadata": {},
   "outputs": [],
   "source": [
    "#| export\n",
    "def ApplyToDict(fn,key='path'):\n",
    "    return lambda x:fn([i[key] for i in x])"
   ]
  },
  {
   "cell_type": "markdown",
   "metadata": {},
   "source": [
    "### 4.6 Valid Column\n",
    "Using the 'valid' column of the Dataframe that has been created by a transformation."
   ]
  },
  {
   "cell_type": "code",
   "execution_count": 109,
   "metadata": {},
   "outputs": [],
   "source": [
    "#| export\n",
    "valid_clm_splitter =  FuncSplitter(lambda o:o['valid'])"
   ]
  },
  {
   "cell_type": "code",
   "execution_count": 110,
   "metadata": {},
   "outputs": [
    {
     "data": {
      "text/plain": [
       "((#16780) [0,1,2,3,4,5,6,7,8,9...],\n",
       " (#1990) [16780,16781,16782,16783,16784,16785,16786,16787,16788,16789...])"
      ]
     },
     "execution_count": 110,
     "metadata": {},
     "output_type": "execute_result"
    }
   ],
   "source": [
    "valid_clm_splitter(src_dicts)"
   ]
  },
  {
   "cell_type": "markdown",
   "metadata": {},
   "source": [
    "## 5. Dataloaders Creation\n",
    "A Datasets combines all implemented components on item level."
   ]
  },
  {
   "cell_type": "code",
   "execution_count": 111,
   "metadata": {},
   "outputs": [],
   "source": [
    "#| export\n",
    "def pad_sequence(batch,sorting = False):\n",
    "    '''collate_fn for padding of sequences of different lengths, use in before_batch of databunch, still quite slow'''\n",
    "    #takes list of tuples as input, returns list of tuples\n",
    "    sorted_batch = sorted(batch, key=lambda x: x[0].shape[0], reverse=True) if sorting else batch\n",
    "\n",
    "    pad_func = partial(torch.nn.utils.rnn.pad_sequence,batch_first=True)\n",
    "    padded_tensors = [pad_func([x[tup] for x in sorted_batch]) for tup in range(len(batch[0]))]\n",
    "    padded_list = [retain_types(tuple([tup[entry] for tup in padded_tensors]),batch[0]) for entry in range(len(batch))]\n",
    "    #retain types is important for decoding later back to source items\n",
    "#     import pdb; pdb.set_trace()\n",
    "    \n",
    "    return padded_list"
   ]
  },
  {
   "cell_type": "markdown",
   "metadata": {},
   "source": [
    "### 5.1 Low-Level with Transforms"
   ]
  },
  {
   "cell_type": "code",
   "execution_count": 112,
   "metadata": {},
   "outputs": [],
   "source": [
    "tfms=[  [HDF2Sequence(['u','y']),SeqSlice(l_slc=1),toTensorSequencesInput],\n",
    "        [HDF2Sequence(['y']),SeqSlice(r_slc=-1),toTensorSequencesOutput]]\n",
    "splits = splitter([x['path'] for x in src_dicts])\n",
    "dsrc = Datasets(src_dicts,tfms=tfms,splits=splits)"
   ]
  },
  {
   "cell_type": "code",
   "execution_count": 113,
   "metadata": {},
   "outputs": [],
   "source": [
    "# %%timeit\n",
    "# dsrc[0]"
   ]
  },
  {
   "cell_type": "code",
   "execution_count": 114,
   "metadata": {},
   "outputs": [
    {
     "data": {
      "text/plain": [
       "torch.Size([128, 100, 2])"
      ]
     },
     "execution_count": 114,
     "metadata": {},
     "output_type": "execute_result"
    }
   ],
   "source": [
    "db = dsrc.dataloaders(bs=128,after_batch=[SeqNoiseInjection(std=[1.1,0.01]),Normalize(axes=[0,1])],before_batch=pad_sequence)\n",
    "db.one_batch()[0].shape"
   ]
  },
  {
   "cell_type": "markdown",
   "metadata": {},
   "source": [
    "### 5.2 Mid-Level with Datablock API"
   ]
  },
  {
   "cell_type": "code",
   "execution_count": 115,
   "metadata": {},
   "outputs": [],
   "source": [
    "#| export\n",
    "class SequenceBlock(TransformBlock):\n",
    "    def __init__(self, seq_extract,padding=False):\n",
    "        return super().__init__(type_tfms=[seq_extract],\n",
    "                                batch_tfms=[Normalize(axes=[0,1])],\n",
    "                                dls_kwargs={} if not padding else {'before_batch': pad_sequence})\n",
    "\n",
    "    @classmethod\n",
    "    @delegates(HDF2Sequence, keep=True)\n",
    "    def from_hdf(cls, clm_names, seq_cls=TensorSequencesInput,padding=False, **kwargs):\n",
    "        return cls(HDF2Sequence(clm_names,to_cls=seq_cls,**kwargs), padding)\n",
    "\n",
    "    @classmethod\n",
    "    def from_numpy(cls, seq_cls=TensorSequencesInput,padding=False, **kwargs):\n",
    "        return cls(ToTensor(enc=seq_cls), padding)"
   ]
  },
  {
   "cell_type": "code",
   "execution_count": 116,
   "metadata": {},
   "outputs": [],
   "source": [
    "seq = DataBlock(blocks=(SequenceBlock.from_hdf(['u','y'],TensorSequencesInput,padding=True,cached=None),\n",
    "                        SequenceBlock.from_hdf(['y'],TensorSequencesOutput,cached=None)),\n",
    "                get_items=tfm_src,\n",
    "                splitter=ApplyToDict(ParentSplitter()))"
   ]
  },
  {
   "cell_type": "code",
   "execution_count": 117,
   "metadata": {},
   "outputs": [],
   "source": [
    "dls = seq.dataloaders(hdf_files)"
   ]
  },
  {
   "cell_type": "code",
   "execution_count": 118,
   "metadata": {},
   "outputs": [],
   "source": [
    "#| export\n",
    "class ScalarNormalize(DisplayedTransform):\n",
    "    def __init__(self, mean=None, std=None, axes=(0,)): store_attr()\n",
    "        \n",
    "    @classmethod\n",
    "    def from_stats(cls, mean, std, dim=1, ndim=4, cuda=True): return cls(*broadcast_vec(dim, ndim, mean, std, cuda=cuda))\n",
    "    \n",
    "    def setups(self, dl:DataLoader):\n",
    "        if self.mean is None or self.std is None:\n",
    "            b = dl.one_batch()\n",
    "            for x in b:\n",
    "                if isinstance(x,TensorScalarsInput):\n",
    "                    self.mean,self.std = x.mean(self.axes, keepdim=True),x.std(self.axes, keepdim=True)+1e-7\n",
    "                    return\n",
    "\n",
    "    def encodes(self, x:TensorScalarsInput): \n",
    "        if x.device != self.mean.device:\n",
    "            self.mean = self.mean.to(x.device)\n",
    "            self.std = self.std.to(x.device)\n",
    "        return (x-self.mean) / self.std\n",
    "    \n",
    "    def decodes(self, x:TensorScalarsInput):\n",
    "        if x.device != self.mean.device:\n",
    "            self.mean = self.mean.to(x.device)\n",
    "            self.std = self.std.to(x.device)\n",
    "        return (x*self.std + self.mean)\n",
    "\n",
    "class ScalarBlock(TransformBlock):\n",
    "    def __init__(self, scl_extract):\n",
    "        return super().__init__(type_tfms=[scl_extract],\n",
    "                                batch_tfms=[ScalarNormalize()])\n",
    "\n",
    "    @classmethod\n",
    "    @delegates(HDF2Scalars, keep=True)\n",
    "    def from_hdf(cls, clm_names, scl_cls=TensorScalarsInput, **kwargs):\n",
    "        return cls(HDF2Scalars(clm_names,to_cls=scl_cls,**kwargs))"
   ]
  },
  {
   "cell_type": "markdown",
   "metadata": {},
   "source": [
    "### 5.3 Spectrogram-Datablock"
   ]
  },
  {
   "cell_type": "code",
   "execution_count": 119,
   "metadata": {},
   "outputs": [],
   "source": [
    "#| export\n",
    "class TensorSpectrogram(TensorBase):\n",
    "    def show(self, ctx=None, ax=None, title=\"\", **kwargs):\n",
    "        ax = ifnone(ax, ctx)\n",
    "        if ax is None:\n",
    "            _, ax = plt.subplots()\n",
    "        ax.axis(False)\n",
    "        n_channels = self.shape[0]\n",
    "        for i, channel in enumerate(self):\n",
    "            ia = ax.inset_axes((i / n_channels, 0.2, 1 / n_channels, 0.7))\n",
    "#             ia = ax.inset_axes((i / n_channels, 0, 1 / n_channels, 1))\n",
    "    \n",
    "            ia.imshow(channel.cpu().numpy(),aspect ='auto',origin ='lower')\n",
    "            if i>0: ia.set_yticks([])\n",
    "            ia.set_title(f\"Channel {i}\")\n",
    "        ax.set_title(title)\n",
    "        return ax\n",
    "\n",
    "class TensorSpectrogramInput(TensorSpectrogram): pass\n",
    "class TensorSpectrogramOutput(TensorSpectrogram): pass"
   ]
  },
  {
   "cell_type": "code",
   "execution_count": 120,
   "metadata": {},
   "outputs": [
    {
     "data": {
      "text/plain": [
       "torch.Size([2000, 1])"
      ]
     },
     "execution_count": 120,
     "metadata": {},
     "output_type": "execute_result"
    }
   ],
   "source": [
    "seq_spec = TensorSpectrogramInput(HDF2Sequence(['u'],to_cls=TensorSpectrogramInput)._hdf_extract_sequence(hdf_files[0],r_slc=2000))\n",
    "seq_spec.shape"
   ]
  },
  {
   "cell_type": "code",
   "execution_count": 121,
   "metadata": {},
   "outputs": [],
   "source": [
    "#| exporti\n",
    "def complex_norm(\n",
    "        complex_tensor: Tensor,\n",
    "        power: float = 1.0\n",
    ") -> Tensor:\n",
    "    r\"\"\"Compute the norm of complex tensor input.\n",
    "\n",
    "    Args:\n",
    "        complex_tensor (Tensor): Tensor shape of `(..., complex=2)`\n",
    "        power (float): Power of the norm. (Default: `1.0`).\n",
    "\n",
    "    Returns:\n",
    "        Tensor: Power of the normed input tensor. Shape of `(..., )`\n",
    "    \"\"\"\n",
    "    if power == 1.0:\n",
    "        return torch.norm(complex_tensor, 2, -1)\n",
    "    return torch.norm(complex_tensor, 2, -1).pow(power)"
   ]
  },
  {
   "cell_type": "code",
   "execution_count": 122,
   "metadata": {},
   "outputs": [],
   "source": [
    "#| exporti\n",
    "def spectrogram(\n",
    "        waveform: Tensor,\n",
    "        pad: int,\n",
    "        window: Tensor,\n",
    "        n_fft: int,\n",
    "        hop_length: int,\n",
    "        win_length: int,\n",
    "        power: Optional[float],\n",
    "        normalized: bool\n",
    ") -> Tensor:\n",
    "    r\"\"\"Create a spectrogram or a batch of spectrograms from a raw audio signal.\n",
    "    The spectrogram can be either magnitude-only or complex.\n",
    "\n",
    "    Args:\n",
    "        waveform (Tensor): Tensor of audio of dimension (..., time)\n",
    "        pad (int): Two sided padding of signal\n",
    "        window (Tensor): Window tensor that is applied/multiplied to each frame/window\n",
    "        n_fft (int): Size of FFT\n",
    "        hop_length (int): Length of hop between STFT windows\n",
    "        win_length (int): Window size\n",
    "        power (float or None): Exponent for the magnitude spectrogram,\n",
    "            (must be > 0) e.g., 1 for energy, 2 for power, etc.\n",
    "            If None, then the complex spectrum is returned instead.\n",
    "        normalized (bool): Whether to normalize by magnitude after stft\n",
    "\n",
    "    Returns:\n",
    "        Tensor: Dimension (..., freq, time), freq is\n",
    "        ``n_fft // 2 + 1`` and ``n_fft`` is the number of\n",
    "        Fourier bins, and time is the number of window hops (n_frame).\n",
    "    \"\"\"\n",
    "\n",
    "    if pad > 0:\n",
    "        # TODO add \"with torch.no_grad():\" back when JIT supports it\n",
    "        waveform = torch.nn.functional.pad(waveform, (pad, pad), \"constant\")\n",
    "\n",
    "    # pack batch\n",
    "    shape = waveform.size()\n",
    "    waveform = waveform.view(-1, shape[-1])\n",
    "\n",
    "    # default values are consistent with librosa.core.spectrum._spectrogram\n",
    "    spec_f = torch.view_as_real(torch.stft(\n",
    "        waveform, n_fft, hop_length, win_length, window, True, \"reflect\", False, True,return_complex=True\n",
    "    ))\n",
    "\n",
    "    # unpack batch\n",
    "    spec_f = spec_f.view(shape[:-1] + spec_f.shape[-3:])\n",
    "\n",
    "    if normalized:\n",
    "        spec_f /= window.pow(2.).sum().sqrt()\n",
    "    if power is not None:\n",
    "        spec_f = complex_norm(spec_f, power=power)\n",
    "\n",
    "    return spec_f"
   ]
  },
  {
   "cell_type": "code",
   "execution_count": 123,
   "metadata": {},
   "outputs": [],
   "source": [
    "#| exporti\n",
    "from typing import Callable\n",
    "\n",
    "class Spectrogram(torch.nn.Module):\n",
    "    r\"\"\"Create a spectrogram from a audio signal.\n",
    "\n",
    "    Args:\n",
    "        n_fft (int, optional): Size of FFT, creates ``n_fft // 2 + 1`` bins. (Default: ``400``)\n",
    "        win_length (int or None, optional): Window size. (Default: ``n_fft``)\n",
    "        hop_length (int or None, optional): Length of hop between STFT windows. (Default: ``win_length // 2``)\n",
    "        pad (int, optional): Two sided padding of signal. (Default: ``0``)\n",
    "        window_fn (Callable[..., Tensor], optional): A function to create a window tensor\n",
    "            that is applied/multiplied to each frame/window. (Default: ``torch.hann_window``)\n",
    "        power (float or None, optional): Exponent for the magnitude spectrogram,\n",
    "            (must be > 0) e.g., 1 for energy, 2 for power, etc.\n",
    "            If None, then the complex spectrum is returned instead. (Default: ``2``)\n",
    "        normalized (bool, optional): Whether to normalize by magnitude after stft. (Default: ``False``)\n",
    "        wkwargs (dict or None, optional): Arguments for window function. (Default: ``None``)\n",
    "    \"\"\"\n",
    "    __constants__ = ['n_fft', 'win_length', 'hop_length', 'pad', 'power', 'normalized']\n",
    "\n",
    "    def __init__(self,\n",
    "                 n_fft: int = 400,\n",
    "                 win_length: Optional[int] = None,\n",
    "                 hop_length: Optional[int] = None,\n",
    "                 pad: int = 0,\n",
    "                 window_fn: Callable[..., Tensor] = torch.hann_window,\n",
    "                 power: Optional[float] = 2.,\n",
    "                 normalized: bool = False,\n",
    "                 wkwargs: Optional[dict] = None) -> None:\n",
    "        super(Spectrogram, self).__init__()\n",
    "        self.n_fft = n_fft\n",
    "        # number of FFT bins. the returned STFT result will have n_fft // 2 + 1\n",
    "        # number of frequecies due to onesided=True in torch.stft\n",
    "        self.win_length = win_length if win_length is not None else n_fft\n",
    "        self.hop_length = hop_length if hop_length is not None else self.win_length // 2\n",
    "        window = window_fn(self.win_length) if wkwargs is None else window_fn(self.win_length, **wkwargs)\n",
    "        self.register_buffer('window', window)\n",
    "        self.pad = pad\n",
    "        self.power = power\n",
    "        self.normalized = normalized\n",
    "\n",
    "    def forward(self, waveform: Tensor) -> Tensor:\n",
    "        r\"\"\"\n",
    "        Args:\n",
    "            waveform (Tensor): Tensor of audio of dimension (..., time).\n",
    "\n",
    "        Returns:\n",
    "            Tensor: Dimension (..., freq, time), where freq is\n",
    "            ``n_fft // 2 + 1`` where ``n_fft`` is the number of\n",
    "            Fourier bins, and time is the number of window hops (n_frame).\n",
    "        \"\"\"\n",
    "        return spectrogram(waveform, self.pad, self.window, self.n_fft, self.hop_length,\n",
    "                             self.win_length, self.power, self.normalized)"
   ]
  },
  {
   "cell_type": "code",
   "execution_count": 124,
   "metadata": {},
   "outputs": [],
   "source": [
    "#| export\n",
    "@delegates(Spectrogram, keep=True)\n",
    "class Sequence2Spectrogram(Transform):\n",
    "    '''calculates the FFT of a sequence'''\n",
    "    \n",
    "    def __init__(self,scaling='log',**kwargs): \n",
    "        self.scaling=scaling\n",
    "        self.tfm = Spectrogram(**kwargs)\n",
    "        \n",
    "    def encodes(self, o:TensorSpectrogram): \n",
    "        if o.device != self.tfm.window.device: self.tfm.window = self.tfm.window.to(o.device)\n",
    "#         import pdb;pdb.set_trace()\n",
    "        spec = self.tfm(o.transpose(-1,-2).contiguous())\n",
    "        if self.scaling == 'log': spec = torch.log10(spec + 1e-10)\n",
    "        return spec"
   ]
  },
  {
   "cell_type": "code",
   "execution_count": 125,
   "metadata": {},
   "outputs": [],
   "source": [
    "#| export\n",
    "class SpectrogramBlock(TransformBlock):\n",
    "    def __init__(self, seq_extract,padding=False,n_fft=100,hop_length=None,normalized=False):\n",
    "        return super().__init__(type_tfms=[seq_extract],\n",
    "                                batch_tfms=[Sequence2Spectrogram(n_fft=n_fft,hop_length=hop_length,normalized=normalized)],\n",
    "                                dls_kwargs={} if not padding else {'before_batch': pad_sequence})\n",
    "\n",
    "    @classmethod\n",
    "    @delegates(HDF2Sequence, keep=True)\n",
    "    def from_hdf(cls, clm_names, seq_cls=TensorSpectrogramInput,padding=False,n_fft=100,hop_length=None,normalized=False, **kwargs):\n",
    "        return cls(HDF2Sequence(clm_names,to_cls=seq_cls,**kwargs), padding,n_fft=n_fft,hop_length=hop_length,normalized=normalized)"
   ]
  },
  {
   "cell_type": "code",
   "execution_count": 126,
   "metadata": {},
   "outputs": [],
   "source": [
    "dls_spec = DataBlock(blocks=(SpectrogramBlock.from_hdf(['u','y'],n_fft=100,hop_length=10,normalized=True),\n",
    "                        SequenceBlock.from_hdf(['y'],TensorSequencesOutput)),\n",
    "                get_items= CreateDict([DfHDFCreateWindows(win_sz=2000+1,stp_sz=10,clm='u')]),\n",
    "                splitter=ApplyToDict(ParentSplitter())).dataloaders(hdf_files)"
   ]
  },
  {
   "cell_type": "code",
   "execution_count": 127,
   "metadata": {},
   "outputs": [
    {
     "data": {
      "text/plain": [
       "torch.Size([64, 2, 51, 201])"
      ]
     },
     "execution_count": 127,
     "metadata": {},
     "output_type": "execute_result"
    }
   ],
   "source": [
    "dls_spec.one_batch()[0].shape"
   ]
  },
  {
   "cell_type": "markdown",
   "metadata": {},
   "source": [
    "## 6. Show Batches and Results"
   ]
  },
  {
   "cell_type": "code",
   "execution_count": 128,
   "metadata": {},
   "outputs": [],
   "source": [
    "#| export\n",
    "def plot_sequence(axs,in_sig,targ_sig,out_sig=None,**kwargs):\n",
    "    n_targ = targ_sig.shape[1]\n",
    "    for j,ax in  enumerate(axs[:-1]):\n",
    "        ax.plot(targ_sig[:,j])\n",
    "        if out_sig is not None: \n",
    "            ax.plot(out_sig[:,j])\n",
    "            ax.legend(['y','ŷ'])\n",
    "            if 'ref' in kwargs:\n",
    "                ax.plot(kwargs['ref'][:,j]) \n",
    "        ax.label_outer()\n",
    "    axs[-1].plot(in_sig)"
   ]
  },
  {
   "cell_type": "code",
   "execution_count": 129,
   "metadata": {},
   "outputs": [],
   "source": [
    "#| export\n",
    "def plot_seqs_single_figure(n_samples,n_targ,samples,plot_func,outs=None,**kwargs):\n",
    "    rows=max(1,((n_samples-1) // 3)+1)\n",
    "    cols=min(3,n_samples)\n",
    "    fig = plt.figure(figsize=(9,2*cols))\n",
    "    outer_grid = fig.add_gridspec(rows, cols)\n",
    "#     import pdb; pdb.set_trace()\n",
    "    for i in range(n_samples):\n",
    "        in_sig = samples[i][0]\n",
    "        targ_sig = samples[i][1]\n",
    "        if outs is not None: out_sig = outs[i][0]\n",
    "        inner_grid = outer_grid[i].subgridspec(n_targ+1, 1)\n",
    "        axs = [fig.add_subplot(inner_grid[j]) for j in range(n_targ+1)]\n",
    "        plot_func(axs,in_sig,targ_sig,out_sig=out_sig if outs is not None else None,**kwargs)\n",
    "    plt.tight_layout()"
   ]
  },
  {
   "cell_type": "code",
   "execution_count": 130,
   "metadata": {},
   "outputs": [],
   "source": [
    "#| export\n",
    "def plot_seqs_multi_figures(n_samples,n_targ,samples,plot_func,outs=None,**kwargs):\n",
    "    for i in range(n_samples):\n",
    "        fig = plt.figure(figsize=(9,3))\n",
    "        axs = fig.subplots(nrows=n_targ+1,sharex=True)\n",
    "        in_sig = samples[i][0]\n",
    "        targ_sig = samples[i][1]\n",
    "        if outs is not None:  out_sig = outs[i][0]\n",
    "            \n",
    "        plot_func(axs,in_sig,targ_sig,out_sig=out_sig if outs is not None else None,**kwargs)\n",
    "        \n",
    "        plt.tight_layout()"
   ]
  },
  {
   "cell_type": "code",
   "execution_count": 131,
   "metadata": {},
   "outputs": [],
   "source": [
    "#| export\n",
    "@typedispatch\n",
    "def show_batch(x:TensorSequences, y:TensorSequences, samples, ctxs=None, max_n=6, **kwargs):\n",
    "    n_samples = min(len(samples), max_n)\n",
    "    n_targ = samples[0][1].shape[1]\n",
    "    if n_samples > 3:\n",
    "        #if there are more then 3 samples to plot then put them in a single figure\n",
    "        plot_seqs_single_figure(n_samples,n_targ,samples,plot_sequence, **kwargs)\n",
    "    else:\n",
    "        #if there are less then 3 samples to plot then put each in its own figure\n",
    "        plot_seqs_multi_figures(n_samples,n_targ,samples,plot_sequence, **kwargs)\n",
    "    return ctxs"
   ]
  },
  {
   "cell_type": "code",
   "execution_count": 132,
   "metadata": {},
   "outputs": [],
   "source": [
    "#| export\n",
    "@typedispatch\n",
    "def show_results(x:TensorSequences, y:TensorSequences, samples, outs, ctxs=None, max_n=2, **kwargs):\n",
    "    n_samples = min(len(samples), max_n)\n",
    "    n_targ = samples[0][1].shape[1]\n",
    "    if n_samples > 3:\n",
    "        #if there are more then 3 samples to plot then put them in a single figure\n",
    "        plot_seqs_single_figure(n_samples,n_targ,samples,plot_sequence,outs, **kwargs)\n",
    "    else:\n",
    "        #if there are less then 3 samples to plot then put each in its own figure\n",
    "        plot_seqs_multi_figures(n_samples,n_targ,samples,plot_sequence,outs, **kwargs)\n",
    "    return ctxs"
   ]
  },
  {
   "cell_type": "code",
   "execution_count": 133,
   "metadata": {},
   "outputs": [
    {
     "data": {
      "application/vnd.jupyter.widget-view+json": {
       "model_id": "595cc30d554e433eb75b19dcb3e5cc62",
       "version_major": 2,
       "version_minor": 0
      },
      "image/png": "[encoded data removed]",
      "text/html": [
       "\n",
       "            <div style=\"display: inline-block;\">\n",
       "                <div class=\"jupyter-widgets widget-label\" style=\"text-align: center;\">\n",
       "                    Figure\n",
       "                </div>\n",
       "                <img src='data:image/png;base64,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' width=900.0/>\n",
       "            </div>\n",
       "        "
      ],
      "text/plain": [
       "Canvas(toolbar=Toolbar(toolitems=[('Home', 'Reset original view', 'home', 'home'), ('Back', 'Back to previous …"
      ]
     },
     "metadata": {},
     "output_type": "display_data"
    }
   ],
   "source": [
    "dls.show_batch()"
   ]
  },
  {
   "cell_type": "code",
   "execution_count": 134,
   "metadata": {},
   "outputs": [],
   "source": [
    "#| include: false\n",
    "import nbdev; nbdev.nbdev_export()"
   ]
  },
  {
   "cell_type": "code",
   "execution_count": null,
   "metadata": {},
   "outputs": [],
   "source": []
  },
  {
   "cell_type": "code",
   "execution_count": null,
   "metadata": {},
   "outputs": [],
   "source": []
  }
 ],
 "metadata": {
  "kernelspec": {
   "display_name": "python3",
   "language": "python",
   "name": "python3"
  },
  "language_info": {
   "codemirror_mode": {
    "name": "ipython",
    "version": 3
   },
   "file_extension": ".py",
   "mimetype": "text/x-python",
   "name": "python",
   "nbconvert_exporter": "python",
   "pygments_lexer": "ipython3",
   "version": "3.10.14"
  }
 },
 "nbformat": 4,
 "nbformat_minor": 4
}
