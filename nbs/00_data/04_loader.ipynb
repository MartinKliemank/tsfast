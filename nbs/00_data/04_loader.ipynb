{
 "cells": [
  {
   "cell_type": "raw",
   "metadata": {},
   "source": [
    "---\n",
    "output-file: dataloaders.html\n",
    "title: Truncated Backpropagation Through Time\n",
    "\n",
    "---\n",
    "\n"
   ]
  },
  {
   "cell_type": "code",
   "execution_count": null,
   "metadata": {},
   "outputs": [],
   "source": [
    "#| default_exp data.loader\n",
    "#| default_cls_lvl 3"
   ]
  },
  {
   "cell_type": "code",
   "execution_count": null,
   "metadata": {},
   "outputs": [],
   "source": [
    "#| include: false\n",
    "%matplotlib widget\n",
    "# from fastai.callback.tracker import *\n",
    "# from fastai.callback.schedule import *"
   ]
  },
  {
   "cell_type": "code",
   "execution_count": null,
   "metadata": {},
   "outputs": [],
   "source": [
    "#| export\n",
    "from tsfast.data.core import *\n",
    "from tsfast.data.transforms import *\n",
    "from tsfast.data.split import *\n",
    "from tsfast.data.block import *\n",
    "# from tsfast.models import *\n",
    "from tsfast.learner import *\n",
    "# from tsfast.learner import *\n",
    "from fastai.basics import *\n",
    "\n",
    "import math"
   ]
  },
  {
   "attachments": {},
   "cell_type": "markdown",
   "metadata": {},
   "source": [
    "## Custom Dataloaders\n",
    "> Pytorch Modules for Training Models for sequential data"
   ]
  },
  {
   "attachments": {},
   "cell_type": "markdown",
   "metadata": {},
   "source": [
    "The tbptt dataloader needs to split the minibatches that are created in several smaller minibatches that will be returned sequentially before the next minibatch may be created."
   ]
  },
  {
   "cell_type": "code",
   "execution_count": null,
   "metadata": {},
   "outputs": [],
   "source": [
    "#| export\n",
    "from torch.utils.data.dataloader import _MultiProcessingDataLoaderIter,_SingleProcessDataLoaderIter,_DatasetKind\n",
    "_loaders = (_MultiProcessingDataLoaderIter,_SingleProcessDataLoaderIter)\n",
    "\n",
    "@delegates()\n",
    "class TbpttDl(TfmdDL):\n",
    "\n",
    "    def __init__(self, dataset, sub_seq_len=None, seq_len = None ,shuffle=True,num_workers=2, **kwargs):\n",
    "#         assert sub_seq_len is not None\n",
    "        store_attr('sub_seq_len,seq_len')\n",
    "        self.rnn_reset = False\n",
    "        super().__init__(dataset=dataset, shuffle=shuffle, num_workers=num_workers, **kwargs)\n",
    "        \n",
    "    @property\n",
    "    def n_sub_seq(self):\n",
    "        if self.sub_seq_len is None: return 1\n",
    "        if self.seq_len is None: self.seq_len = self.do_item(0)[0].shape[0]\n",
    "        return math.ceil(self.seq_len / self.sub_seq_len)\n",
    "        \n",
    "    def __len__(self):\n",
    "        return super().__len__() * self.n_sub_seq\n",
    "    \n",
    "    def _next_worker(self,w_id):\n",
    "        w_id += 1\n",
    "        if w_id > self.fake_l.num_workers-1: w_id = 0\n",
    "        return w_id\n",
    "\n",
    "    def sample(self):\n",
    "        #replaced new fastai sample formulation that store __idxs in main process\n",
    "        return (b for i,b in enumerate(self.__idxs) if i//(self.bs or 1)%self.num_workers==self.offs)\n",
    "#         return (b for i,b in enumerate(self.get_idxs()) if i//(self.bs or 1)%self.num_workers==self.offs)\n",
    "            \n",
    "    def __iter__(self):\n",
    "        '''iterator that handles multiprocessing by caching samples that are generated out of order'''\n",
    "        self.randomize()\n",
    "        self.before_iter()\n",
    "        self.__idxs=self.get_idxs() # called in context of main process (not workers/subprocesses)\n",
    "        \n",
    "        n_buffer = self.fake_l.num_workers*self.n_sub_seq\n",
    "        queue = {n:[] for n in range(self.fake_l.num_workers)} \n",
    "        current_worker = None\n",
    "        idx = 0\n",
    "        for loaded_b,w_id in _loaders[self.fake_l.num_workers==0](self.fake_l):\n",
    "\n",
    "            if w_id is None:\n",
    "                self.rnn_reset=True\n",
    "                b= loaded_b\n",
    "                self.rnn_reset = (idx % self.n_sub_seq) == 0\n",
    "                yield self.after_batch(b if self.device is None else to_device(b, self.device))\n",
    "                idx += 1 #idx increments after every yield, not every loop\n",
    "            else:\n",
    "                if current_worker is None:\n",
    "                    current_worker = w_id\n",
    "                \n",
    "                #retrieve queued elements from worker\n",
    "                while len(queue[current_worker]) > 0:\n",
    "                    b = queue[current_worker].pop(0)\n",
    "                    self.rnn_reset = (idx % self.n_sub_seq) == 0\n",
    "                    yield self.after_batch(b if self.device is None else to_device(b, self.device))\n",
    "                    idx += 1\n",
    "                    if (idx % self.n_sub_seq) == 0:\n",
    "                        current_worker = self._next_worker(current_worker) #next worker, stay in loop for the queue\n",
    "                        \n",
    "                \n",
    "                #retrieve fresh elements from worker\n",
    "                if w_id != current_worker: #not active worker\n",
    "                    queue[w_id] += [loaded_b]\n",
    "                    continue\n",
    "                else:#active worker\n",
    "                    b = loaded_b\n",
    "                    self.rnn_reset = (idx % self.n_sub_seq) == 0\n",
    "                    yield self.after_batch(b if self.device is None else to_device(b, self.device))\n",
    "                    idx += 1 #idx increments after every yield, not every loop\n",
    "                    if (idx % self.n_sub_seq) == 0:\n",
    "                        current_worker = self._next_worker(current_worker)\n",
    "                \n",
    "        self.after_iter()\n",
    "        if hasattr(self, 'it'): del(self.it)\n",
    "    \n",
    "    def create_batches(self, samps):\n",
    "        yield from self._tbptt_generator(super().create_batches(samps))\n",
    "        \n",
    "    def _tbptt_generator(self,batch_iter):\n",
    "        '''generator function that splits batches in smaller windows, yields mini_batch and worker id'''\n",
    "        for b in batch_iter:\n",
    "            for i in range(self.n_sub_seq):\n",
    "                #it is importan to retain the tuple type, or future transforms may now work\n",
    "                if self.sub_seq_len is None:\n",
    "                    trunc_b = b\n",
    "                else:\n",
    "                    trunc_b = tuple([retain_type(x[:,i*self.sub_seq_len:(i+1)*self.sub_seq_len],x) for x in b])\n",
    "                yield trunc_b, (None if torch.utils.data.get_worker_info() is None else torch.utils.data.get_worker_info().id)\n",
    "        "
   ]
  },
  {
   "cell_type": "code",
   "execution_count": null,
   "metadata": {},
   "outputs": [],
   "source": [
    "from nbdev.config import get_config"
   ]
  },
  {
   "cell_type": "code",
   "execution_count": null,
   "metadata": {},
   "outputs": [],
   "source": [
    "project_root = get_config().config_file.parent\n",
    "f_path = project_root / 'test_data/WienerHammerstein'"
   ]
  },
  {
   "cell_type": "code",
   "execution_count": null,
   "metadata": {},
   "outputs": [],
   "source": [
    "tfm_lst = [DfHDFCreateWindows(win_sz=1000+1,stp_sz=1000,clm='u')]\n",
    "seq = DataBlock(blocks=(SequenceBlock.from_hdf(['u','y'],TensorSequencesInput,clm_shift=[-1,-1]),\n",
    "                        SequenceBlock.from_hdf(['y'],TensorSequencesOutput,clm_shift=[1])),\n",
    "                 get_items=CreateDict(tfm_lst),\n",
    "                 splitter=ApplyToDict(ParentSplitter()))\n",
    "db = seq.dataloaders(get_hdf_files(f_path),dl_type=TbpttDl,sub_seq_len=100,num_workers=6)"
   ]
  },
  {
   "cell_type": "code",
   "execution_count": null,
   "metadata": {},
   "outputs": [],
   "source": [
    "l = [array(x[-1][0,:,0].cpu()) for x in db.train]"
   ]
  },
  {
   "cell_type": "code",
   "execution_count": null,
   "metadata": {},
   "outputs": [
    {
     "data": {
      "text/plain": [
       "[<matplotlib.lines.Line2D>]"
      ]
     },
     "execution_count": null,
     "metadata": {},
     "output_type": "execute_result"
    },
    {
     "data": {
      "application/vnd.jupyter.widget-view+json": {
       "model_id": "af1522e092fb4e75bfc5f9e72d5a6439",
       "version_major": 2,
       "version_minor": 0
      },
      "image/png": "[encoded data removed]",
      "text/html": [
       "\n",
       "            <div style=\"display: inline-block;\">\n",
       "                <div class=\"jupyter-widgets widget-label\" style=\"text-align: center;\">\n",
       "                    Figure\n",
       "                </div>\n",
       "                <img src='data:image/png;base64,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' width=640.0/>\n",
       "            </div>\n",
       "        "
      ],
      "text/plain": [
       "Canvas(toolbar=Toolbar(toolitems=[('Home', 'Reset original view', 'home', 'home'), ('Back', 'Back to previous …"
      ]
     },
     "metadata": {},
     "output_type": "display_data"
    }
   ],
   "source": [
    "plt.figure()\n",
    "plt.plot(np.concatenate(l))"
   ]
  },
  {
   "attachments": {},
   "cell_type": "markdown",
   "metadata": {},
   "source": [
    "num_workers can be > 1 with the new synchronization procedure"
   ]
  },
  {
   "attachments": {},
   "cell_type": "markdown",
   "metadata": {},
   "source": [
    "## TBPTT_Reset_Callback\n",
    "The stateful model needs to reset its hidden state, when a new sequence begins. The callback reads the reset flag and acts accordingly."
   ]
  },
  {
   "cell_type": "code",
   "execution_count": null,
   "metadata": {},
   "outputs": [],
   "source": [
    "#| export\n",
    "def reset_model_state(model):\n",
    "    for m in model.modules():\n",
    "        if hasattr(m,'reset_state'): m.reset_state()"
   ]
  },
  {
   "cell_type": "code",
   "execution_count": null,
   "metadata": {},
   "outputs": [],
   "source": [
    "#| export\n",
    "class TbpttResetCB(Callback):\n",
    "    \"`Callback` resets the rnn model with every new sequence for tbptt, calls `reset_state` in every module of the model\"\n",
    "        \n",
    "    def before_batch(self):\n",
    "        dl = self.learn.dls.train if self.training else self.learn.dls.valid\n",
    "#         if not self.training: import pdb; pdb.set_trace()\n",
    "        if (hasattr(dl,'rnn_reset') and dl.rnn_reset) or not hasattr(dl,'rnn_reset'):\n",
    "            reset_model_state(self.learn.model)\n",
    "        \n",
    "    def after_fit(self): \n",
    "        reset_model_state(self.learn.model)"
   ]
  },
  {
   "attachments": {},
   "cell_type": "markdown",
   "metadata": {},
   "source": [
    "## Example"
   ]
  },
  {
   "cell_type": "code",
   "execution_count": null,
   "metadata": {},
   "outputs": [
    {
     "data": {
      "text/plain": [
       "<fastai.learner.Learner>"
      ]
     },
     "execution_count": null,
     "metadata": {},
     "output_type": "execute_result"
    }
   ],
   "source": [
    "lrn = RNNLearner(db,num_layers=1,rnn_type='gru',stateful=False,metrics=[SkipNLoss(fun_rmse,1),fun_rmse])\n",
    "lrn.add_cb(TbpttResetCB())"
   ]
  },
  {
   "cell_type": "code",
   "execution_count": null,
   "metadata": {},
   "outputs": [
    {
     "data": {
      "text/html": [
       "\n",
       "<style>\n",
       "    /* Turns off some styling */\n",
       "    progress {\n",
       "        /* gets rid of default border in Firefox and Opera. */\n",
       "        border: none;\n",
       "        /* Needs to be in here for Safari polyfill so background images work as expected. */\n",
       "        background-size: auto;\n",
       "    }\n",
       "    progress:not([value]), progress:not([value])::-webkit-progress-bar {\n",
       "        background: repeating-linear-gradient(45deg, #7e7e7e, #7e7e7e 10px, #5c5c5c 10px, #5c5c5c 20px);\n",
       "    }\n",
       "    .progress-bar-interrupted, .progress-bar-interrupted::-webkit-progress-bar {\n",
       "        background: #F44336;\n",
       "    }\n",
       "</style>\n"
      ],
      "text/plain": [
       "<IPython.core.display.HTML object>"
      ]
     },
     "metadata": {},
     "output_type": "display_data"
    },
    {
     "data": {
      "text/html": [
       "<table border=\"1\" class=\"dataframe\">\n",
       "  <thead>\n",
       "    <tr style=\"text-align: left;\">\n",
       "      <th>epoch</th>\n",
       "      <th>train_loss</th>\n",
       "      <th>valid_loss</th>\n",
       "      <th>fun_rmse</th>\n",
       "      <th>fun_rmse</th>\n",
       "      <th>time</th>\n",
       "    </tr>\n",
       "  </thead>\n",
       "  <tbody>\n",
       "    <tr>\n",
       "      <td>0</td>\n",
       "      <td>0.046073</td>\n",
       "      <td>0.024256</td>\n",
       "      <td>0.154505</td>\n",
       "      <td>0.155501</td>\n",
       "      <td>00:01</td>\n",
       "    </tr>\n",
       "  </tbody>\n",
       "</table>"
      ],
      "text/plain": [
       "<IPython.core.display.HTML object>"
      ]
     },
     "metadata": {},
     "output_type": "display_data"
    }
   ],
   "source": [
    "lrn.fit_one_cycle(1,lr_max=3e-2)"
   ]
  },
  {
   "cell_type": "code",
   "execution_count": null,
   "metadata": {},
   "outputs": [],
   "source": [
    "db.train.sub_seq_len = 10"
   ]
  },
  {
   "cell_type": "code",
   "execution_count": null,
   "metadata": {},
   "outputs": [
    {
     "data": {
      "text/html": [
       "\n",
       "<style>\n",
       "    /* Turns off some styling */\n",
       "    progress {\n",
       "        /* gets rid of default border in Firefox and Opera. */\n",
       "        border: none;\n",
       "        /* Needs to be in here for Safari polyfill so background images work as expected. */\n",
       "        background-size: auto;\n",
       "    }\n",
       "    progress:not([value]), progress:not([value])::-webkit-progress-bar {\n",
       "        background: repeating-linear-gradient(45deg, #7e7e7e, #7e7e7e 10px, #5c5c5c 10px, #5c5c5c 20px);\n",
       "    }\n",
       "    .progress-bar-interrupted, .progress-bar-interrupted::-webkit-progress-bar {\n",
       "        background: #F44336;\n",
       "    }\n",
       "</style>\n"
      ],
      "text/plain": [
       "<IPython.core.display.HTML object>"
      ]
     },
     "metadata": {},
     "output_type": "display_data"
    },
    {
     "data": {
      "text/html": [
       "<table border=\"1\" class=\"dataframe\">\n",
       "  <thead>\n",
       "    <tr style=\"text-align: left;\">\n",
       "      <th>epoch</th>\n",
       "      <th>train_loss</th>\n",
       "      <th>valid_loss</th>\n",
       "      <th>fun_rmse</th>\n",
       "      <th>fun_rmse</th>\n",
       "      <th>time</th>\n",
       "    </tr>\n",
       "  </thead>\n",
       "  <tbody>\n",
       "    <tr>\n",
       "      <td>0</td>\n",
       "      <td>0.002262</td>\n",
       "      <td>0.000156</td>\n",
       "      <td>0.012010</td>\n",
       "      <td>0.012460</td>\n",
       "      <td>00:01</td>\n",
       "    </tr>\n",
       "  </tbody>\n",
       "</table>"
      ],
      "text/plain": [
       "<IPython.core.display.HTML object>"
      ]
     },
     "metadata": {},
     "output_type": "display_data"
    }
   ],
   "source": [
    "lrn.fit_one_cycle(1,lr_max=3e-2)"
   ]
  },
  {
   "attachments": {},
   "cell_type": "markdown",
   "metadata": {},
   "source": [
    "# Weighted Sampling Dataloader"
   ]
  },
  {
   "attachments": {},
   "cell_type": "markdown",
   "metadata": {},
   "source": [
    "A weighted sampling dataloader for nonuniforly distributed data. A factory method receives the base Dataloader class and returns the inherited weighted sampling dataloader class"
   ]
  },
  {
   "cell_type": "code",
   "execution_count": null,
   "metadata": {},
   "outputs": [],
   "source": [
    "#| export\n",
    "def WeightedDL_Factory(cls):\n",
    "    '''\n",
    "    Weighted Dataloader that provides control over sampling probabilities.\n",
    "    wgts: probability array with probability for every item\n",
    "            gets extracted from the pandas 'p_sample' column if given. \n",
    "            Otherwise uniform sampling will be enabled\n",
    "        \n",
    "    '''\n",
    "    assert issubclass(cls, TfmdDL)\n",
    "    \n",
    "    class WeightedDL(cls):\n",
    "        def __init__(self, dataset, wgts=None, **kwargs):\n",
    "#             import pdb;pdb.set_trace()\n",
    "            self.wgts = None\n",
    "            #self.items need to be assigned, but super.init needs wgts allready assigned\n",
    "            super().__init__(dataset=dataset, **kwargs) \n",
    "            if wgts is None:\n",
    "                if (isinstance(self.items,pd.DataFrame) and\n",
    "                    len(self.items) > 0 and \n",
    "                    'p_sample' in self.items):\n",
    "                    self.wgts = self.items.p_sample.to_numpy()\n",
    "                    self.wgts = self.wgts/self.wgts.sum()\n",
    "                elif (isinstance(self.items,Iterable) and\n",
    "                    len(self.items) > 0 and \n",
    "                    hasattr(self.items[0],'keys') and \n",
    "                    'p_sample' in self.items[0].keys()):\n",
    "                    self.wgts = np.array([x['p_sample'] for x in self.items])\n",
    "                    self.wgts = self.wgts/self.wgts.sum()\n",
    "                else:\n",
    "                    print('No wgts provided for WeightedDL. Was that intentional?')\n",
    "            else:\n",
    "                self.wgts = wgts/np.sum(wgts)\n",
    "\n",
    "        def get_idxs(self):\n",
    "            if self.n==0: return []\n",
    "            if not self.shuffle or self.wgts is None: return super().get_idxs()\n",
    "            #calculate number of elements with length of the dataset, for batch truncation\n",
    "            idxs = list(np.random.choice(self.n, size=len(self)*self.bs, p=self.wgts))\n",
    "            return idxs\n",
    "    return WeightedDL"
   ]
  },
  {
   "cell_type": "code",
   "execution_count": null,
   "metadata": {},
   "outputs": [],
   "source": [
    "dl = WeightedDL_Factory(TfmdDL)([1,2]*5,bs=10,wgts=[2,1]*5)"
   ]
  },
  {
   "cell_type": "code",
   "execution_count": null,
   "metadata": {},
   "outputs": [
    {
     "data": {
      "text/html": [
       "\n",
       "<style>\n",
       "    /* Turns off some styling */\n",
       "    progress {\n",
       "        /* gets rid of default border in Firefox and Opera. */\n",
       "        border: none;\n",
       "        /* Needs to be in here for Safari polyfill so background images work as expected. */\n",
       "        background-size: auto;\n",
       "    }\n",
       "    progress:not([value]), progress:not([value])::-webkit-progress-bar {\n",
       "        background: repeating-linear-gradient(45deg, #7e7e7e, #7e7e7e 10px, #5c5c5c 10px, #5c5c5c 20px);\n",
       "    }\n",
       "    .progress-bar-interrupted, .progress-bar-interrupted::-webkit-progress-bar {\n",
       "        background: #F44336;\n",
       "    }\n",
       "</style>\n"
      ],
      "text/plain": [
       "<IPython.core.display.HTML object>"
      ]
     },
     "metadata": {},
     "output_type": "display_data"
    },
    {
     "data": {
      "text/html": [
       "\n",
       "    <div>\n",
       "      <progress value='0' class='' max='1' style='width:300px; height:20px; vertical-align: middle;'></progress>\n",
       "      0.00% [0/1 00:00&lt;?]\n",
       "    </div>\n",
       "    \n",
       "<table border=\"1\" class=\"dataframe\">\n",
       "  <thead>\n",
       "    <tr style=\"text-align: left;\">\n",
       "      <th>epoch</th>\n",
       "      <th>train_loss</th>\n",
       "      <th>valid_loss</th>\n",
       "      <th>fun_rmse</th>\n",
       "      <th>fun_rmse</th>\n",
       "      <th>time</th>\n",
       "    </tr>\n",
       "  </thead>\n",
       "  <tbody>\n",
       "  </tbody>\n",
       "</table><p>\n",
       "\n",
       "    <div>\n",
       "      <progress value='0' class='' max='100' style='width:300px; height:20px; vertical-align: middle;'></progress>\n",
       "      0.00% [0/100 00:00&lt;?]\n",
       "    </div>\n",
       "    "
      ],
      "text/plain": [
       "<IPython.core.display.HTML object>"
      ]
     },
     "metadata": {},
     "output_type": "display_data"
    }
   ],
   "source": [
    "lrn = RNNLearner(db,num_layers=1,rnn_type='gru',stateful=False,metrics=[SkipNLoss(fun_rmse,1),fun_rmse])\n",
    "lrn.fit_one_cycle(1,lr_max=3e-2)"
   ]
  },
  {
   "cell_type": "code",
   "execution_count": null,
   "metadata": {},
   "outputs": [
    {
     "data": {
      "text/plain": [
       "array([0.13333333, 0.06666667, 0.13333333, 0.06666667, 0.13333333,\n",
       "       0.06666667, 0.13333333, 0.06666667, 0.13333333, 0.06666667])"
      ]
     },
     "execution_count": null,
     "metadata": {},
     "output_type": "execute_result"
    }
   ],
   "source": [
    "dl.wgts"
   ]
  },
  {
   "cell_type": "code",
   "execution_count": null,
   "metadata": {},
   "outputs": [
    {
     "data": {
      "text/plain": [
       "tensor([1, 2, 1, 2, 1, 2, 1, 2, 1, 2])"
      ]
     },
     "execution_count": null,
     "metadata": {},
     "output_type": "execute_result"
    }
   ],
   "source": [
    "dl.one_batch()"
   ]
  },
  {
   "attachments": {},
   "cell_type": "markdown",
   "metadata": {},
   "source": [
    "## ItemLst Transform for weight calculation"
   ]
  },
  {
   "cell_type": "code",
   "execution_count": null,
   "metadata": {},
   "outputs": [],
   "source": [
    "#| export\n",
    "def uniform_p_of_category(cat_name):  \n",
    "    '''Scales sampling weights for an even distribution between every category'''\n",
    "    def _inner(df):\n",
    "        if 'p_sample' in df:\n",
    "            df_targ = df.drop('p_sample',axis='columns')\n",
    "        else:\n",
    "            df_targ = df\n",
    "            \n",
    "        counts = df_targ[cat_name].value_counts()\n",
    "        sample_prob =  1/counts\n",
    "        sample_prob.name = 'p_sample'\n",
    "        df_res = df_targ.merge(sample_prob,left_on=cat_name,right_index=True)\n",
    "        \n",
    "        if 'p_sample' in df: \n",
    "            df_res.p_sample = df_res.p_sample* df.p_sample.values\n",
    "            \n",
    "        df_res.p_sample /= df_res.p_sample.sum()\n",
    "            \n",
    "        return df_res\n",
    "    \n",
    "    return _inner"
   ]
  },
  {
   "cell_type": "code",
   "execution_count": null,
   "metadata": {},
   "outputs": [],
   "source": [
    "#| export\n",
    "def uniform_p_of_float(var_name,bins = 10):\n",
    "    '''Scales sampling weights for an even distribution of the continous variable by creating equi sized bins'''\n",
    "    def _inner(df):\n",
    "        if 'p_sample' in df:\n",
    "            df_targ = df.drop('p_sample',axis='columns')\n",
    "        else:\n",
    "            df_targ = df\n",
    "            \n",
    "        df_targ['bins'] = pd.cut(df_targ[var_name], bins)\n",
    "        counts = df_targ['bins'].value_counts()\n",
    "        sample_prob =  1/counts\n",
    "        sample_prob.name = 'p_sample'\n",
    "        df_res = df_targ.merge(sample_prob,left_on='bins',right_index=True)\n",
    "        df_res.drop(['bins'],axis='columns',inplace=True)\n",
    "        \n",
    "        if 'p_sample' in df: \n",
    "            df_res.p_sample = df_res.p_sample* df.p_sample.values\n",
    "            \n",
    "        df_res.p_sample /= df_res.p_sample.sum()\n",
    "        \n",
    "        return df_res\n",
    "\n",
    "    return _inner"
   ]
  },
  {
   "cell_type": "code",
   "execution_count": null,
   "metadata": {},
   "outputs": [],
   "source": [
    "#| export\n",
    "def uniform_p_of_float_with_gaps(var_name,bins = 100):\n",
    "    '''Scales sampling weights for an even distribution of the continous variable by creating equi sized bins'''\n",
    "    def _inner(df):\n",
    "        if 'p_sample' in df:\n",
    "            df_targ = df.drop('p_sample',axis='columns')\n",
    "        else:\n",
    "            df_targ = df\n",
    "            \n",
    "        l = df_targ[var_name].max()-df_targ[var_name].min() #value range\n",
    "        df_targ['bins'] = pd.qcut(df_targ[var_name],bins,duplicates='drop') #bins with rougly the same size\n",
    "        df_targ['p_sample'] =  df_targ['bins'].apply(lambda x: x.length).astype('f8')/l #sample_prob by bin width\n",
    "        sample_prob =  1/df_targ['bins'].value_counts() #correct uneven bin distribution\n",
    "        sample_prob.name = 'p_sample_correction'\n",
    "        df_res = df_targ.merge(sample_prob,left_on='bins',right_index=True)\n",
    "        \n",
    "        df_res.p_sample *= df_res.p_sample_correction\n",
    "        df_res.drop(['bins','p_sample_correction'],axis='columns',inplace=True)\n",
    "\n",
    "        if 'p_sample' in df: \n",
    "            df_res.p_sample = df_res.p_sample* df.p_sample.values\n",
    "            \n",
    "        df_res.p_sample /= df_res.p_sample.sum()\n",
    "        \n",
    "        return df_res\n",
    "\n",
    "    return _inner"
   ]
  },
  {
   "cell_type": "code",
   "execution_count": null,
   "metadata": {},
   "outputs": [],
   "source": [
    "def train_valid(df):   \n",
    "    ''' test function that extracts valid and train from the path string'''\n",
    "    df['train'] = df.path.astype(str).str.contains('train',regex=False)\n",
    "    return df"
   ]
  },
  {
   "cell_type": "code",
   "execution_count": null,
   "metadata": {},
   "outputs": [
    {
     "data": {
      "text/html": [
       "<div>\n",
       "<style scoped>\n",
       "    .dataframe tbody tr th:only-of-type {\n",
       "        vertical-align: middle;\n",
       "    }\n",
       "\n",
       "    .dataframe tbody tr th {\n",
       "        vertical-align: top;\n",
       "    }\n",
       "\n",
       "    .dataframe thead th {\n",
       "        text-align: right;\n",
       "    }\n",
       "</style>\n",
       "<table border=\"1\" class=\"dataframe\">\n",
       "  <thead>\n",
       "    <tr style=\"text-align: right;\">\n",
       "      <th></th>\n",
       "      <th>path</th>\n",
       "      <th>train</th>\n",
       "      <th>l_slc</th>\n",
       "      <th>r_slc</th>\n",
       "      <th>p_sample</th>\n",
       "    </tr>\n",
       "  </thead>\n",
       "  <tbody>\n",
       "    <tr>\n",
       "      <th>0</th>\n",
       "      <td>/home/pheenix/Development/tsfast/test_data/WienerHammerstein/test/WienerHammerstein_test.hdf5</td>\n",
       "      <td>False</td>\n",
       "      <td>0</td>\n",
       "      <td>1001</td>\n",
       "      <td>0.001219</td>\n",
       "    </tr>\n",
       "    <tr>\n",
       "      <th>0</th>\n",
       "      <td>/home/pheenix/Development/tsfast/test_data/WienerHammerstein/test/WienerHammerstein_test.hdf5</td>\n",
       "      <td>False</td>\n",
       "      <td>1000</td>\n",
       "      <td>2001</td>\n",
       "      <td>0.001219</td>\n",
       "    </tr>\n",
       "    <tr>\n",
       "      <th>0</th>\n",
       "      <td>/home/pheenix/Development/tsfast/test_data/WienerHammerstein/test/WienerHammerstein_test.hdf5</td>\n",
       "      <td>False</td>\n",
       "      <td>2000</td>\n",
       "      <td>3001</td>\n",
       "      <td>0.001170</td>\n",
       "    </tr>\n",
       "    <tr>\n",
       "      <th>0</th>\n",
       "      <td>/home/pheenix/Development/tsfast/test_data/WienerHammerstein/test/WienerHammerstein_test.hdf5</td>\n",
       "      <td>False</td>\n",
       "      <td>3000</td>\n",
       "      <td>4001</td>\n",
       "      <td>0.002437</td>\n",
       "    </tr>\n",
       "    <tr>\n",
       "      <th>0</th>\n",
       "      <td>/home/pheenix/Development/tsfast/test_data/WienerHammerstein/test/WienerHammerstein_test.hdf5</td>\n",
       "      <td>False</td>\n",
       "      <td>4000</td>\n",
       "      <td>5001</td>\n",
       "      <td>0.002340</td>\n",
       "    </tr>\n",
       "    <tr>\n",
       "      <th>...</th>\n",
       "      <td>...</td>\n",
       "      <td>...</td>\n",
       "      <td>...</td>\n",
       "      <td>...</td>\n",
       "      <td>...</td>\n",
       "    </tr>\n",
       "    <tr>\n",
       "      <th>2</th>\n",
       "      <td>/home/pheenix/Development/tsfast/test_data/WienerHammerstein/valid/WienerHammerstein_valid.hdf5</td>\n",
       "      <td>False</td>\n",
       "      <td>14000</td>\n",
       "      <td>15001</td>\n",
       "      <td>0.002437</td>\n",
       "    </tr>\n",
       "    <tr>\n",
       "      <th>2</th>\n",
       "      <td>/home/pheenix/Development/tsfast/test_data/WienerHammerstein/valid/WienerHammerstein_valid.hdf5</td>\n",
       "      <td>False</td>\n",
       "      <td>15000</td>\n",
       "      <td>16001</td>\n",
       "      <td>0.002047</td>\n",
       "    </tr>\n",
       "    <tr>\n",
       "      <th>2</th>\n",
       "      <td>/home/pheenix/Development/tsfast/test_data/WienerHammerstein/valid/WienerHammerstein_valid.hdf5</td>\n",
       "      <td>False</td>\n",
       "      <td>16000</td>\n",
       "      <td>17001</td>\n",
       "      <td>0.000390</td>\n",
       "    </tr>\n",
       "    <tr>\n",
       "      <th>2</th>\n",
       "      <td>/home/pheenix/Development/tsfast/test_data/WienerHammerstein/valid/WienerHammerstein_valid.hdf5</td>\n",
       "      <td>False</td>\n",
       "      <td>17000</td>\n",
       "      <td>18001</td>\n",
       "      <td>0.002437</td>\n",
       "    </tr>\n",
       "    <tr>\n",
       "      <th>2</th>\n",
       "      <td>/home/pheenix/Development/tsfast/test_data/WienerHammerstein/valid/WienerHammerstein_valid.hdf5</td>\n",
       "      <td>False</td>\n",
       "      <td>18000</td>\n",
       "      <td>19001</td>\n",
       "      <td>0.002477</td>\n",
       "    </tr>\n",
       "  </tbody>\n",
       "</table>\n",
       "<p>185 rows × 5 columns</p>\n",
       "</div>"
      ],
      "text/plain": [
       "                                                                                               path  \\\n",
       "0     /home/pheenix/Development/tsfast/test_data/WienerHammerstein/test/WienerHammerstein_test.hdf5   \n",
       "0     /home/pheenix/Development/tsfast/test_data/WienerHammerstein/test/WienerHammerstein_test.hdf5   \n",
       "0     /home/pheenix/Development/tsfast/test_data/WienerHammerstein/test/WienerHammerstein_test.hdf5   \n",
       "0     /home/pheenix/Development/tsfast/test_data/WienerHammerstein/test/WienerHammerstein_test.hdf5   \n",
       "0     /home/pheenix/Development/tsfast/test_data/WienerHammerstein/test/WienerHammerstein_test.hdf5   \n",
       "..                                                                                              ...   \n",
       "2   /home/pheenix/Development/tsfast/test_data/WienerHammerstein/valid/WienerHammerstein_valid.hdf5   \n",
       "2   /home/pheenix/Development/tsfast/test_data/WienerHammerstein/valid/WienerHammerstein_valid.hdf5   \n",
       "2   /home/pheenix/Development/tsfast/test_data/WienerHammerstein/valid/WienerHammerstein_valid.hdf5   \n",
       "2   /home/pheenix/Development/tsfast/test_data/WienerHammerstein/valid/WienerHammerstein_valid.hdf5   \n",
       "2   /home/pheenix/Development/tsfast/test_data/WienerHammerstein/valid/WienerHammerstein_valid.hdf5   \n",
       "\n",
       "    train  l_slc  r_slc  p_sample  \n",
       "0   False      0   1001  0.001219  \n",
       "0   False   1000   2001  0.001219  \n",
       "0   False   2000   3001  0.001170  \n",
       "0   False   3000   4001  0.002437  \n",
       "0   False   4000   5001  0.002340  \n",
       "..    ...    ...    ...       ...  \n",
       "2   False  14000  15001  0.002437  \n",
       "2   False  15000  16001  0.002047  \n",
       "2   False  16000  17001  0.000390  \n",
       "2   False  17000  18001  0.002437  \n",
       "2   False  18000  19001  0.002477  \n",
       "\n",
       "[185 rows x 5 columns]"
      ]
     },
     "execution_count": null,
     "metadata": {},
     "output_type": "execute_result"
    }
   ],
   "source": [
    "# %%time\n",
    "tfm_lst = [train_valid, DfHDFCreateWindows(win_sz=1000+1,stp_sz=1000,clm='u') ,uniform_p_of_category('train'),uniform_p_of_float('l_slc'),uniform_p_of_float_with_gaps('r_slc')]\n",
    "apply_df_tfms(get_hdf_files(f_path),tfm_lst) "
   ]
  },
  {
   "cell_type": "code",
   "execution_count": null,
   "metadata": {},
   "outputs": [],
   "source": [
    "seq = DataBlock(blocks=(SequenceBlock.from_hdf(['u','y'],TensorSequencesInput,clm_shift=[-1,-1]),\n",
    "                        SequenceBlock.from_hdf(['y'],TensorSequencesOutput,clm_shift=[1])),\n",
    "                 get_items=CreateDict(tfm_lst),\n",
    "                 splitter=ApplyToDict(ParentSplitter()))\n",
    "# db = seq.dataloaders(get_hdf_files('test_data/battery'),dl_type=TbpttDl,sub_seq_len=200)\n",
    "db = seq.dataloaders(get_hdf_files(f_path),dl_type=WeightedDL_Factory(TbpttDl),sub_seq_len=500)"
   ]
  },
  {
   "cell_type": "code",
   "execution_count": null,
   "metadata": {},
   "outputs": [
    {
     "data": {
      "text/plain": [
       "(79,)"
      ]
     },
     "execution_count": null,
     "metadata": {},
     "output_type": "execute_result"
    }
   ],
   "source": [
    "db.train.wgts.shape"
   ]
  },
  {
   "cell_type": "code",
   "execution_count": null,
   "metadata": {},
   "outputs": [
    {
     "data": {
      "text/plain": [
       "(array([0.0034722 , 0.0034722 , 0.00333331, 0.0069444 , 0.00666662]),\n",
       " array([0.03704676, 0.03704676, 0.03556485, 0.07409344, 0.0711297 ]))"
      ]
     },
     "execution_count": null,
     "metadata": {},
     "output_type": "execute_result"
    }
   ],
   "source": [
    "db.train.wgts[:5],db.valid.wgts[:5]"
   ]
  },
  {
   "cell_type": "code",
   "execution_count": null,
   "metadata": {},
   "outputs": [
    {
     "data": {
      "text/html": [
       "\n",
       "<style>\n",
       "    /* Turns off some styling */\n",
       "    progress {\n",
       "        /* gets rid of default border in Firefox and Opera. */\n",
       "        border: none;\n",
       "        /* Needs to be in here for Safari polyfill so background images work as expected. */\n",
       "        background-size: auto;\n",
       "    }\n",
       "    progress:not([value]), progress:not([value])::-webkit-progress-bar {\n",
       "        background: repeating-linear-gradient(45deg, #7e7e7e, #7e7e7e 10px, #5c5c5c 10px, #5c5c5c 20px);\n",
       "    }\n",
       "    .progress-bar-interrupted, .progress-bar-interrupted::-webkit-progress-bar {\n",
       "        background: #F44336;\n",
       "    }\n",
       "</style>\n"
      ],
      "text/plain": [
       "<IPython.core.display.HTML object>"
      ]
     },
     "metadata": {},
     "output_type": "display_data"
    },
    {
     "data": {
      "text/html": [
       "<table border=\"1\" class=\"dataframe\">\n",
       "  <thead>\n",
       "    <tr style=\"text-align: left;\">\n",
       "      <th>epoch</th>\n",
       "      <th>train_loss</th>\n",
       "      <th>valid_loss</th>\n",
       "      <th>fun_rmse</th>\n",
       "      <th>fun_rmse</th>\n",
       "      <th>time</th>\n",
       "    </tr>\n",
       "  </thead>\n",
       "  <tbody>\n",
       "    <tr>\n",
       "      <td>0</td>\n",
       "      <td>0.084852</td>\n",
       "      <td>0.083925</td>\n",
       "      <td>0.289706</td>\n",
       "      <td>0.289689</td>\n",
       "      <td>00:00</td>\n",
       "    </tr>\n",
       "  </tbody>\n",
       "</table>"
      ],
      "text/plain": [
       "<IPython.core.display.HTML object>"
      ]
     },
     "metadata": {},
     "output_type": "display_data"
    }
   ],
   "source": [
    "lrn = RNNLearner(db,num_layers=1,rnn_type='gru',stateful=False,metrics=[SkipNLoss(fun_rmse,1),fun_rmse])\n",
    "lrn.add_cb(TbpttResetCB())\n",
    "lrn.fit_one_cycle(1,lr_max=3e-2)"
   ]
  },
  {
   "attachments": {},
   "cell_type": "markdown",
   "metadata": {},
   "source": [
    "## Importance Sampling Callback"
   ]
  },
  {
   "cell_type": "code",
   "execution_count": null,
   "metadata": {},
   "outputs": [],
   "source": [
    "# #| export\n",
    "# class ImportanceSampling(Callback):\n",
    "#     #modify the dataloader weights to sample items with higher loss more often\n",
    "#     def __init__(self, filter_criterion=nn.HuberLoss(reduction='none')):\n",
    "#         self.filter_criterion = filter_criterion\n",
    "#         self.loss_list = None #store loss of each item in the dataloader\n",
    "\n",
    "#     def begin_fit(self):\n",
    "#         #empty the loss list at the beginning of each fit\n",
    "#         self.loss_list = None\n",
    "\n",
    "#     def after_pred(self):\n",
    "#         # store loss of each item in the batch\n",
    "#         if not self.training: return\n",
    "#         losses = self.filter_criterion(self.learn.pred, *self.learn.yb)\n",
    "#         if losses.ndim >= 2: losses = losses.mean(tuple(range(1,losses.ndim)))  # If loss is multi-dimensional, take the mean over all but the first dimension\n",
    "#         #get the indices of each item in the batch from the dataloader\n",
    "#         # import pdb; pdb.set_trace()\n",
    "\n",
    "#         #if the loss_list is empty, initialize it with dataloader wgts\n",
    "#         if self.loss_list is None:\n",
    "#             self.loss_list = self.learn.dls.train.wgts.clone()\n",
    "#             #scale the loss_list mean to the mean loss of the batch\n",
    "#             self.loss_list *= self.loss_list.numel()/losses.mean()\n",
    "\n",
    "#         #store the loss of each item in the loss_list\n",
    "        \n",
    "#     def after_epoch(self):\n",
    "#         #modify the dataloader weights to sample items with higher loss more often\n",
    "#         if not self.training: return\n",
    "#         self.learn.dls.train.wgts = self.loss_list\n",
    "#         self.learn.dls.train.wgts /= self.learn.dls.train.wgts.sum()\n",
    "\n",
    "    \n",
    "\n",
    "        "
   ]
  },
  {
   "cell_type": "code",
   "execution_count": null,
   "metadata": {},
   "outputs": [],
   "source": [
    "# lrn = RNNLearner(db,num_layers=1,stateful=False,metrics=[SkipNLoss(fun_rmse,1),fun_rmse],cbs=ImportanceSampling())\n",
    "# lrn.fit(1)"
   ]
  },
  {
   "cell_type": "code",
   "execution_count": null,
   "metadata": {},
   "outputs": [],
   "source": [
    "# tfm_lst = [train_valid, DfHDFCreateWindows(win_sz=500+1,stp_sz=500,clm='u')]\n",
    "# seq = DataBlock(blocks=(SequenceBlock.from_hdf(['u','y'],TensorSequencesInput,clm_shift=[-1,-1]),\n",
    "#                         SequenceBlock.from_hdf(['y'],TensorSequencesOutput,clm_shift=[1])),\n",
    "#                  get_items=CreateDict(tfm_lst),\n",
    "#                  splitter=ApplyToDict(ParentSplitter()))\n",
    "# # db = seq.dataloaders(get_hdf_files('test_data/battery'),dl_type=TbpttDl,sub_seq_len=200)\n",
    "# db = seq.dataloaders(get_hdf_files('test_data/battery'),dl_type=WeightedDL_Factory(TfmdDL))\n",
    "\n",
    "# RNNLearner(db,num_layers=1,stateful=False,metrics=[SkipNLoss(fun_rmse,1),fun_rmse],cbs=ImportanceSampling()).fit(1)"
   ]
  },
  {
   "attachments": {},
   "cell_type": "markdown",
   "metadata": {},
   "source": [
    "# Mini Batch Limiter Dataloader"
   ]
  },
  {
   "attachments": {},
   "cell_type": "markdown",
   "metadata": {},
   "source": [
    "A weighted sampling dataloader for nonuniforly distributed data. A factory method receives the base Dataloader class and returns the inherited weighted sampling dataloader class"
   ]
  },
  {
   "cell_type": "code",
   "execution_count": null,
   "metadata": {},
   "outputs": [],
   "source": [
    "#| export\n",
    "def BatchLimit_Factory(cls):\n",
    "    '''\n",
    "    Batch limited Dataloader that provides an upper limit for the number of mini batches per epoch\n",
    "    max_batches: upper limit for minibatch count per epoch\n",
    "        \n",
    "    '''\n",
    "    assert issubclass(cls, TfmdDL)\n",
    "    \n",
    "    class BatchLimitDL(cls):\n",
    "        def __init__(self, dataset, max_batches=None, **kwargs):\n",
    "            self.max_batches = max_batches\n",
    "            # kwargs['n'] = max_batches*kwargs['bs'] n has to remain the full size, in order to create all indices if shuffled\n",
    "            super().__init__(dataset=dataset, **kwargs)\n",
    "\n",
    "        def __len__(self):\n",
    "            l = super().__len__() \n",
    "            if self.max_batches is not None: l = min(l,self.max_batches)\n",
    "            return l\n",
    "\n",
    "        def __iter__(self):\n",
    "            if self.max_batches is None: \n",
    "                yield from super().__iter__()\n",
    "            else:\n",
    "                for idx,b in enumerate(super().__iter__()):\n",
    "                    if idx >= self.max_batches: break\n",
    "                    yield b\n",
    "                    \n",
    "        #shuffle function that is called in super().get_idxs, truncated for faster execution\n",
    "        def shuffle_fn(self, idxs): return self.rng.sample(idxs, min(len(self)*self.bs,len(idxs)))\n",
    "                    \n",
    "        #get_idxs is truncated for the non-shuffling case, otherwise shuffle_fn is already truncated\n",
    "        def get_idxs(self):\n",
    "            return super().get_idxs()[:len(self)*self.bs]\n",
    "\n",
    "    return BatchLimitDL"
   ]
  },
  {
   "cell_type": "code",
   "execution_count": null,
   "metadata": {},
   "outputs": [],
   "source": [
    "dl = BatchLimit_Factory(TfmdDL)([1,2]*5,bs=2,max_batches=3,shuffle=False)"
   ]
  },
  {
   "cell_type": "code",
   "execution_count": null,
   "metadata": {},
   "outputs": [
    {
     "data": {
      "text/plain": [
       "3"
      ]
     },
     "execution_count": null,
     "metadata": {},
     "output_type": "execute_result"
    }
   ],
   "source": [
    "len(dl)"
   ]
  },
  {
   "cell_type": "code",
   "execution_count": null,
   "metadata": {},
   "outputs": [
    {
     "data": {
      "text/plain": [
       "[0, 1, 2, 3, 4, 5]"
      ]
     },
     "execution_count": null,
     "metadata": {},
     "output_type": "execute_result"
    }
   ],
   "source": [
    "dl.get_idxs()"
   ]
  },
  {
   "cell_type": "code",
   "execution_count": null,
   "metadata": {},
   "outputs": [
    {
     "data": {
      "text/plain": [
       "[3, 5, 9, 4, 1, 8]"
      ]
     },
     "execution_count": null,
     "metadata": {},
     "output_type": "execute_result"
    }
   ],
   "source": [
    "BatchLimit_Factory(TfmdDL)([1,2]*5,bs=2,max_batches=3,shuffle=True).get_idxs()"
   ]
  },
  {
   "cell_type": "code",
   "execution_count": null,
   "metadata": {},
   "outputs": [
    {
     "data": {
      "text/plain": [
       "[tensor([1, 2]), tensor([1, 2]), tensor([1, 2])]"
      ]
     },
     "execution_count": null,
     "metadata": {},
     "output_type": "execute_result"
    }
   ],
   "source": [
    "[x for x in dl]"
   ]
  },
  {
   "cell_type": "code",
   "execution_count": null,
   "metadata": {},
   "outputs": [
    {
     "data": {
      "text/plain": [
       "3"
      ]
     },
     "execution_count": null,
     "metadata": {},
     "output_type": "execute_result"
    }
   ],
   "source": [
    "len(dl)"
   ]
  },
  {
   "cell_type": "code",
   "execution_count": null,
   "metadata": {},
   "outputs": [],
   "source": [
    "#| include: false\n",
    "import nbdev; nbdev.nbdev_export()"
   ]
  },
  {
   "cell_type": "code",
   "execution_count": null,
   "metadata": {},
   "outputs": [],
   "source": []
  }
 ],
 "metadata": {
  "kernelspec": {
   "display_name": "python3",
   "language": "python",
   "name": "python3"
  }
 },
 "nbformat": 4,
 "nbformat_minor": 4
}
