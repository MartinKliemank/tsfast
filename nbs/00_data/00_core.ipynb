{
 "cells": [
  {
   "cell_type": "raw",
   "metadata": {},
   "source": [
    "---\n",
    "description: Corefunctionality for data preparation of sequential data for pytorch,\n",
    "  fastai models\n",
    "output-file: core.html\n",
    "title: Corefunctions\n",
    "\n",
    "---\n",
    "\n"
   ]
  },
  {
   "cell_type": "code",
   "execution_count": null,
   "metadata": {},
   "outputs": [],
   "source": [
    "#| default_exp data.core\n",
    "#| default_cls_lvl 3"
   ]
  },
  {
   "cell_type": "markdown",
   "metadata": {},
   "source": [
    "# Application Structure\n",
    "The data will be extracted and prepared via transforms. Those are grouped in:\n",
    "- Type Transforms: Those extraxt the needed components from the source items, like input sequences or target scalar values. The work on single tensors.\n",
    "- Item Transforms: Those Transforms may work on tuple level and therefore may process relationships between input and output.\n",
    "- Batch Transform: Those transforms work on batch level. They receive batched tensors and may apply lazy transforms like normalization very effeciently.\n",
    "\n",
    "An application example may look like the following:\n",
    "- sourceitems: \n",
    "    - path extraction with hdf5 file endings\n",
    "    - create pandas dataframe with information for type transforms, like slices\n",
    "    - filter items in pandas dataframe\n",
    "- type transforms: \n",
    "    - extract hdf5 input and output sequence\n",
    "    - create windows\n",
    "- item transforms: \n",
    "    - filter sequence by value\n",
    "    - shift output sequence by 1 element\n",
    "- batch transforms: \n",
    "    - noise injection\n",
    "    - normalization\n",
    "    "
   ]
  },
  {
   "cell_type": "code",
   "execution_count": null,
   "metadata": {},
   "outputs": [],
   "source": [
    "#| export\n",
    "from fastai.data.all import *\n",
    "import h5py"
   ]
  },
  {
   "cell_type": "code",
   "execution_count": null,
   "metadata": {},
   "outputs": [],
   "source": [
    "#| export\n",
    "def obj_in_lst(lst,cls):\n",
    "    '''retrieve first object of type cls from a list'''\n",
    "    return next(o for o in lst if type(o) is cls)"
   ]
  },
  {
   "cell_type": "code",
   "execution_count": null,
   "metadata": {},
   "outputs": [],
   "source": [
    "#| export\n",
    "def count_parameters(model):\n",
    "    '''retrieve number of trainable parameters of a model'''\n",
    "    return sum(p.numel() for p in model.parameters() if p.requires_grad)"
   ]
  },
  {
   "cell_type": "markdown",
   "metadata": {},
   "source": [
    "## 1. Extract Source Items\n",
    "The file paths may be extracted with `get_files` of fastai2. `get_hdf_files` removes the need of writing the hdf5 file extension.\n",
    "\n",
    "Then a pandas dataframe may be created in case further information for the source items need to be stored like slices for the windowing function."
   ]
  },
  {
   "cell_type": "markdown",
   "metadata": {},
   "source": [
    "### 1.1 Extract File Paths"
   ]
  },
  {
   "cell_type": "code",
   "execution_count": null,
   "metadata": {},
   "outputs": [],
   "source": [
    "from nbdev.config import get_config"
   ]
  },
  {
   "cell_type": "code",
   "execution_count": null,
   "metadata": {},
   "outputs": [],
   "source": [
    "project_root = get_config().config_file.parent\n",
    "f_path = project_root / 'test_data/WienerHammerstein'"
   ]
  },
  {
   "cell_type": "code",
   "execution_count": null,
   "metadata": {},
   "outputs": [
    {
     "data": {
      "text/plain": [
       "(3,\n",
       " Path('/home/pheenix/Development/tsfast/test_data/WienerHammerstein/test/WienerHammerstein_test.hdf5'))"
      ]
     },
     "execution_count": null,
     "metadata": {},
     "output_type": "execute_result"
    }
   ],
   "source": [
    "hdf_files = get_files(f_path,extensions='.hdf5',recurse=True)\n",
    "len(hdf_files),hdf_files[0]"
   ]
  },
  {
   "cell_type": "code",
   "execution_count": null,
   "metadata": {},
   "outputs": [],
   "source": [
    "#| export\n",
    "hdf_extensions = ['.hdf5']\n",
    "def get_hdf_files(path,recurse=True, folders=None):\n",
    "    \"Get hdf5 files in `path` recursively, only in `folders`, if specified.\"\n",
    "    return get_files(path, extensions=hdf_extensions, recurse=recurse, folders=folders)"
   ]
  },
  {
   "cell_type": "code",
   "execution_count": null,
   "metadata": {},
   "outputs": [
    {
     "data": {
      "text/plain": [
       "(3,\n",
       " Path('/home/pheenix/Development/tsfast/test_data/WienerHammerstein/test/WienerHammerstein_test.hdf5'))"
      ]
     },
     "execution_count": null,
     "metadata": {},
     "output_type": "execute_result"
    }
   ],
   "source": [
    "hdf_files = get_hdf_files(f_path)\n",
    "len(hdf_files),hdf_files[0]"
   ]
  },
  {
   "cell_type": "markdown",
   "metadata": {},
   "source": [
    "### 1.2 Create Source Dictionaries\n",
    "In order to extract mulitple realizations of one file with different modifications, we create a list of properties. Pandas Dataframes are to slow for iteration but very fast and convenient for creations. So after creation of the pandas Dataframe we convert it to a list of dictionaries."
   ]
  },
  {
   "cell_type": "code",
   "execution_count": null,
   "metadata": {},
   "outputs": [],
   "source": [
    "#| export\n",
    "def apply_df_tfms(src,pd_tfms = None):\n",
    "    '''Create Pandas Dataframe out of a list of items, with a list of df transforms applied'''\n",
    "    if type(src) is pd.DataFrame:\n",
    "        df = src\n",
    "    else:\n",
    "        df = pd.DataFrame(data=src.items,columns=['path'],dtype=str)\n",
    "    if pd_tfms is not None:\n",
    "        for t in pd_tfms:\n",
    "            df = t(df)\n",
    "    return df"
   ]
  },
  {
   "cell_type": "code",
   "execution_count": null,
   "metadata": {},
   "outputs": [
    {
     "data": {
      "text/html": [
       "<div>\n",
       "<style scoped>\n",
       "    .dataframe tbody tr th:only-of-type {\n",
       "        vertical-align: middle;\n",
       "    }\n",
       "\n",
       "    .dataframe tbody tr th {\n",
       "        vertical-align: top;\n",
       "    }\n",
       "\n",
       "    .dataframe thead th {\n",
       "        text-align: right;\n",
       "    }\n",
       "</style>\n",
       "<table border=\"1\" class=\"dataframe\">\n",
       "  <thead>\n",
       "    <tr style=\"text-align: right;\">\n",
       "      <th></th>\n",
       "      <th>path</th>\n",
       "    </tr>\n",
       "  </thead>\n",
       "  <tbody>\n",
       "    <tr>\n",
       "      <th>0</th>\n",
       "      <td>/home/pheenix/Development/tsfast/test_data/WienerHammerstein/test/WienerHammerstein_test.hdf5</td>\n",
       "    </tr>\n",
       "    <tr>\n",
       "      <th>1</th>\n",
       "      <td>/home/pheenix/Development/tsfast/test_data/WienerHammerstein/train/WienerHammerstein_train.hdf5</td>\n",
       "    </tr>\n",
       "    <tr>\n",
       "      <th>2</th>\n",
       "      <td>/home/pheenix/Development/tsfast/test_data/WienerHammerstein/valid/WienerHammerstein_valid.hdf5</td>\n",
       "    </tr>\n",
       "  </tbody>\n",
       "</table>\n",
       "</div>"
      ],
      "text/plain": [
       "                                                                                              path\n",
       "0    /home/pheenix/Development/tsfast/test_data/WienerHammerstein/test/WienerHammerstein_test.hdf5\n",
       "1  /home/pheenix/Development/tsfast/test_data/WienerHammerstein/train/WienerHammerstein_train.hdf5\n",
       "2  /home/pheenix/Development/tsfast/test_data/WienerHammerstein/valid/WienerHammerstein_valid.hdf5"
      ]
     },
     "execution_count": null,
     "metadata": {},
     "output_type": "execute_result"
    }
   ],
   "source": [
    "df = apply_df_tfms(hdf_files)\n",
    "df.head()"
   ]
  },
  {
   "cell_type": "code",
   "execution_count": null,
   "metadata": {},
   "outputs": [],
   "source": [
    "test_eq(apply_df_tfms(hdf_files),apply_df_tfms(apply_df_tfms(hdf_files)))"
   ]
  },
  {
   "cell_type": "code",
   "execution_count": null,
   "metadata": {},
   "outputs": [],
   "source": [
    "#| export\n",
    "def CreateDict(pd_tfms = None):\n",
    "    '''Create List of Dictionarys out of a list of items, with a list of df transforms applied'''\n",
    "    def _inner(src):\n",
    "        df = apply_df_tfms(src,pd_tfms)\n",
    "#         df_dict_list = df.to_dict(orient='records') native to_dict is slower than self written approach\n",
    "        df_values = df.values\n",
    "        df_dict = {name:list(df_values[:,i]) for (i,name) in enumerate(df.columns)}\n",
    "        df_dict_list = [{name: df_dict[name][i] for name in df_dict} for i in range(len(df))]\n",
    "        return df_dict_list\n",
    "    return _inner"
   ]
  },
  {
   "cell_type": "code",
   "execution_count": null,
   "metadata": {},
   "outputs": [
    {
     "data": {
      "text/plain": [
       "[{'path': '/home/pheenix/Development/tsfast/test_data/WienerHammerstein/test/WienerHammerstein_test.hdf5'},\n",
       " {'path': '/home/pheenix/Development/tsfast/test_data/WienerHammerstein/train/WienerHammerstein_train.hdf5'},\n",
       " {'path': '/home/pheenix/Development/tsfast/test_data/WienerHammerstein/valid/WienerHammerstein_valid.hdf5'}]"
      ]
     },
     "execution_count": null,
     "metadata": {},
     "output_type": "execute_result"
    }
   ],
   "source": [
    "l_dict =CreateDict()(hdf_files)\n",
    "l_dict"
   ]
  },
  {
   "cell_type": "code",
   "execution_count": null,
   "metadata": {},
   "outputs": [],
   "source": [
    "#| export\n",
    "def ValidClmContains(lst_valid):\n",
    "    '''add validation column using a list of strings that are part of the validation frames'''\n",
    "    def _inner(df):\n",
    "        re_valid = '|'.join([re.escape(f) for f in lst_valid])\n",
    "        df['valid'] = df.path.str.contains(re_valid)\n",
    "        return df\n",
    "\n",
    "    return _inner"
   ]
  },
  {
   "cell_type": "code",
   "execution_count": null,
   "metadata": {},
   "outputs": [
    {
     "name": "stdout",
     "output_type": "stream",
     "text": [
      "CPU times: user 2.31 ms, sys: 0 ns, total: 2.31 ms\n",
      "Wall time: 2.33 ms\n"
     ]
    },
    {
     "data": {
      "text/plain": [
       "[{'path': '/home/pheenix/Development/tsfast/test_data/WienerHammerstein/test/WienerHammerstein_test.hdf5',\n",
       "  'valid': False},\n",
       " {'path': '/home/pheenix/Development/tsfast/test_data/WienerHammerstein/train/WienerHammerstein_train.hdf5',\n",
       "  'valid': False},\n",
       " {'path': '/home/pheenix/Development/tsfast/test_data/WienerHammerstein/valid/WienerHammerstein_valid.hdf5',\n",
       "  'valid': True}]"
      ]
     },
     "execution_count": null,
     "metadata": {},
     "output_type": "execute_result"
    }
   ],
   "source": [
    "%%time\n",
    "lst_valid = ['valid']\n",
    "CreateDict([ValidClmContains(lst_valid)])(hdf_files)"
   ]
  },
  {
   "cell_type": "code",
   "execution_count": null,
   "metadata": {},
   "outputs": [],
   "source": [
    "#| export\n",
    "def ValidClmIs(lst_valid):\n",
    "    '''adds validation column using a list of validation filenames'''\n",
    "    def _inner(df):\n",
    "        df['valid'] = df.path.isin([str(f) for f in lst_valid])\n",
    "        return df\n",
    "\n",
    "    return _inner"
   ]
  },
  {
   "cell_type": "code",
   "execution_count": null,
   "metadata": {},
   "outputs": [
    {
     "name": "stdout",
     "output_type": "stream",
     "text": [
      "CPU times: user 1.94 ms, sys: 0 ns, total: 1.94 ms\n",
      "Wall time: 1.99 ms\n"
     ]
    },
    {
     "data": {
      "text/plain": [
       "[{'path': '/home/pheenix/Development/tsfast/test_data/WienerHammerstein/test/WienerHammerstein_test.hdf5',\n",
       "  'valid': False},\n",
       " {'path': '/home/pheenix/Development/tsfast/test_data/WienerHammerstein/train/WienerHammerstein_train.hdf5',\n",
       "  'valid': False},\n",
       " {'path': '/home/pheenix/Development/tsfast/test_data/WienerHammerstein/valid/WienerHammerstein_valid.hdf5',\n",
       "  'valid': False}]"
      ]
     },
     "execution_count": null,
     "metadata": {},
     "output_type": "execute_result"
    }
   ],
   "source": [
    "%%time\n",
    "lst_valid = ['test_data/battery/train/Sim_RealisticCycle2.hdf5',\n",
    "'test_data/battery/valid/Sim_RealisticCycle3.hdf5']\n",
    "CreateDict([ValidClmIs(lst_valid)])(hdf_files)"
   ]
  },
  {
   "cell_type": "code",
   "execution_count": null,
   "metadata": {},
   "outputs": [],
   "source": [
    "#| export\n",
    "def FilterClm(clm_name,func = lambda x:x):\n",
    "    '''adds validation column using a list of validation filenames'''\n",
    "    def _inner(df):\n",
    "        return df[func(df[clm_name])]\n",
    "\n",
    "    return _inner"
   ]
  },
  {
   "cell_type": "code",
   "execution_count": null,
   "metadata": {},
   "outputs": [
    {
     "data": {
      "text/plain": [
       "[]"
      ]
     },
     "execution_count": null,
     "metadata": {},
     "output_type": "execute_result"
    }
   ],
   "source": [
    "CreateDict([ValidClmIs(lst_valid),FilterClm('valid')])(hdf_files)"
   ]
  },
  {
   "cell_type": "code",
   "execution_count": null,
   "metadata": {},
   "outputs": [],
   "source": [
    "#| export\n",
    "def get_hdf_seq_len(df,clm,ds=None):\n",
    "    '''extract the sequence length of the dataset with the 'clm' name and 'f_path' path  '''\n",
    "    with h5py.File(df['path'],'r') as f:\n",
    "        ds = f if 'dataset' not in df else f[df['dataset']]\n",
    "        f_len = max(ds[clm].shape)\n",
    "    return f_len "
   ]
  },
  {
   "cell_type": "code",
   "execution_count": null,
   "metadata": {},
   "outputs": [],
   "source": [
    "#| export\n",
    "def df_get_hdf_seq_len(df,clm,ds=None):\n",
    "    '''extracts the sequence length of every file in advance to prepare repeated window extractions with 'DfHDFCreateWindows' '''\n",
    "#     df['seq_len'] = ([get_hdf_seq_len(row.path,clm) for (idx, row) in df.iterrows()])\n",
    "    df['seq_len'] = df.apply(lambda x: get_hdf_seq_len(x,clm),axis=1)\n",
    "    return df"
   ]
  },
  {
   "cell_type": "code",
   "execution_count": null,
   "metadata": {},
   "outputs": [],
   "source": [
    "#| export\n",
    "def DfHDFGetSeqLen(clm):\n",
    "    def _inner(df):\n",
    "        return df_get_hdf_seq_len(df,clm)\n",
    "    return _inner"
   ]
  },
  {
   "cell_type": "code",
   "execution_count": null,
   "metadata": {},
   "outputs": [
    {
     "data": {
      "text/html": [
       "<div>\n",
       "<style scoped>\n",
       "    .dataframe tbody tr th:only-of-type {\n",
       "        vertical-align: middle;\n",
       "    }\n",
       "\n",
       "    .dataframe tbody tr th {\n",
       "        vertical-align: top;\n",
       "    }\n",
       "\n",
       "    .dataframe thead th {\n",
       "        text-align: right;\n",
       "    }\n",
       "</style>\n",
       "<table border=\"1\" class=\"dataframe\">\n",
       "  <thead>\n",
       "    <tr style=\"text-align: right;\">\n",
       "      <th></th>\n",
       "      <th>path</th>\n",
       "      <th>seq_len</th>\n",
       "    </tr>\n",
       "  </thead>\n",
       "  <tbody>\n",
       "    <tr>\n",
       "      <th>0</th>\n",
       "      <td>/home/pheenix/Development/tsfast/test_data/WienerHammerstein/test/WienerHammerstein_test.hdf5</td>\n",
       "      <td>88000</td>\n",
       "    </tr>\n",
       "    <tr>\n",
       "      <th>1</th>\n",
       "      <td>/home/pheenix/Development/tsfast/test_data/WienerHammerstein/train/WienerHammerstein_train.hdf5</td>\n",
       "      <td>80000</td>\n",
       "    </tr>\n",
       "    <tr>\n",
       "      <th>2</th>\n",
       "      <td>/home/pheenix/Development/tsfast/test_data/WienerHammerstein/valid/WienerHammerstein_valid.hdf5</td>\n",
       "      <td>20000</td>\n",
       "    </tr>\n",
       "  </tbody>\n",
       "</table>\n",
       "</div>"
      ],
      "text/plain": [
       "                                                                                              path  \\\n",
       "0    /home/pheenix/Development/tsfast/test_data/WienerHammerstein/test/WienerHammerstein_test.hdf5   \n",
       "1  /home/pheenix/Development/tsfast/test_data/WienerHammerstein/train/WienerHammerstein_train.hdf5   \n",
       "2  /home/pheenix/Development/tsfast/test_data/WienerHammerstein/valid/WienerHammerstein_valid.hdf5   \n",
       "\n",
       "   seq_len  \n",
       "0    88000  \n",
       "1    80000  \n",
       "2    20000  "
      ]
     },
     "execution_count": null,
     "metadata": {},
     "output_type": "execute_result"
    }
   ],
   "source": [
    "df_get_hdf_seq_len(df,'u')"
   ]
  },
  {
   "cell_type": "code",
   "execution_count": null,
   "metadata": {},
   "outputs": [
    {
     "data": {
      "text/html": [
       "<div>\n",
       "<style scoped>\n",
       "    .dataframe tbody tr th:only-of-type {\n",
       "        vertical-align: middle;\n",
       "    }\n",
       "\n",
       "    .dataframe tbody tr th {\n",
       "        vertical-align: top;\n",
       "    }\n",
       "\n",
       "    .dataframe thead th {\n",
       "        text-align: right;\n",
       "    }\n",
       "</style>\n",
       "<table border=\"1\" class=\"dataframe\">\n",
       "  <thead>\n",
       "    <tr style=\"text-align: right;\">\n",
       "      <th></th>\n",
       "      <th>path</th>\n",
       "      <th>seq_len</th>\n",
       "    </tr>\n",
       "  </thead>\n",
       "  <tbody>\n",
       "    <tr>\n",
       "      <th>0</th>\n",
       "      <td>/home/pheenix/Development/tsfast/test_data/WienerHammerstein/test/WienerHammerstein_test.hdf5</td>\n",
       "      <td>88000</td>\n",
       "    </tr>\n",
       "    <tr>\n",
       "      <th>1</th>\n",
       "      <td>/home/pheenix/Development/tsfast/test_data/WienerHammerstein/train/WienerHammerstein_train.hdf5</td>\n",
       "      <td>80000</td>\n",
       "    </tr>\n",
       "    <tr>\n",
       "      <th>2</th>\n",
       "      <td>/home/pheenix/Development/tsfast/test_data/WienerHammerstein/valid/WienerHammerstein_valid.hdf5</td>\n",
       "      <td>20000</td>\n",
       "    </tr>\n",
       "  </tbody>\n",
       "</table>\n",
       "</div>"
      ],
      "text/plain": [
       "                                                                                              path  \\\n",
       "0    /home/pheenix/Development/tsfast/test_data/WienerHammerstein/test/WienerHammerstein_test.hdf5   \n",
       "1  /home/pheenix/Development/tsfast/test_data/WienerHammerstein/train/WienerHammerstein_train.hdf5   \n",
       "2  /home/pheenix/Development/tsfast/test_data/WienerHammerstein/valid/WienerHammerstein_valid.hdf5   \n",
       "\n",
       "   seq_len  \n",
       "0    88000  \n",
       "1    80000  \n",
       "2    20000  "
      ]
     },
     "execution_count": null,
     "metadata": {},
     "output_type": "execute_result"
    }
   ],
   "source": [
    "DfHDFGetSeqLen('u')(df)"
   ]
  },
  {
   "cell_type": "code",
   "execution_count": null,
   "metadata": {},
   "outputs": [],
   "source": [
    "#| export\n",
    "import numbers\n",
    "def DfResamplingFactor(src_fs,lst_targ_fs):\n",
    "    if not isinstance(src_fs, numbers.Number) and not type(src_fs) is str: \n",
    "        raise ValueError('src_fs has to be a column name or a fixed number')\n",
    "    \n",
    "    def _inner(df):\n",
    "        np_targ_fs = array(lst_targ_fs)\n",
    "        pd.options.mode.chained_assignment = None #every row is a reference so we need to suppress the warning messages while copying\n",
    "\n",
    "        #repeat entries for every target fs\n",
    "        res_df = df.iloc[np.repeat(np.arange(len(df)),len(np_targ_fs))] \n",
    "        targ_fs = np.tile(np_targ_fs,len(df))\n",
    "        res_df['targ_fs'] = targ_fs\n",
    "        \n",
    "        if isinstance(src_fs, numbers.Number):\n",
    "            #src_fs is a fixed number\n",
    "            res_df['resampling_factor'] = targ_fs/src_fs\n",
    "        else:\n",
    "            #src_fs is a column name of the df\n",
    "            res_df['resampling_factor'] = targ_fs/res_df[src_fs]\n",
    "\n",
    "        pd.options.mode.chained_assignment = 'warn'\n",
    "        \n",
    "        return res_df\n",
    "    return _inner"
   ]
  },
  {
   "cell_type": "code",
   "execution_count": null,
   "metadata": {},
   "outputs": [],
   "source": [
    "targ_fs = [50,100,300]\n",
    "test_eq(len(DfResamplingFactor(100,targ_fs)(df)),9)   \n",
    "df['src_fs'] = 200.\n",
    "test_eq(len(DfResamplingFactor('src_fs',targ_fs)(df)),9)"
   ]
  },
  {
   "cell_type": "code",
   "execution_count": null,
   "metadata": {},
   "outputs": [],
   "source": [
    "#| export\n",
    "def DfHDFCreateWindows(win_sz,stp_sz, clm, fixed_start = False, fixed_end = False):\n",
    "    '''create windows of sequences, splits sequence into multiple items'''\n",
    "    def _inner(df):\n",
    "        if fixed_start and fixed_end: raise Exception\n",
    "        \n",
    "        if 'seq_len' in df:\n",
    "            np_f_len = df.seq_len.values\n",
    "        else:\n",
    "            np_f_len = np.array([get_hdf_seq_len(row,clm) for (idx, row) in df.iterrows()])\n",
    "            \n",
    "        if 'resampling_factor' in df: np_f_len =(np_f_len*df.resampling_factor.values).astype(int)\n",
    "            \n",
    "        n_win = ((np_f_len-win_sz)//stp_sz)+1\n",
    "        #cast array n_win to int and clip negative values to 0\n",
    "        n_win = n_win.astype(int)\n",
    "        n_win = np.clip(n_win,a_min=0,a_max=None) #remove negative values at instances where the winsize is smaller than the seq_len\n",
    "        lst_idx = np.arange(len(np_f_len))\n",
    "        \n",
    "        pd.options.mode.chained_assignment = None #every row is a reference so we need to suppress the warning messages while copying\n",
    "        \n",
    "        res_df = df.iloc[np.repeat(lst_idx,n_win)]\n",
    "#         res_df = df.loc[np.repeat(lst_idx,n_win)] #the loc variant as a little bit slower because it creates copies and returns wrong values with redundant indexes, but is more robust\n",
    "\n",
    "        step_idx = np.concatenate([np.arange(x) for x in n_win])\n",
    "    \n",
    "        \n",
    "        res_df['l_slc'] = step_idx*stp_sz if not fixed_start else None\n",
    "        res_df['r_slc'] = step_idx*stp_sz + win_sz if not fixed_end else None\n",
    "            \n",
    "        pd.options.mode.chained_assignment = 'warn'\n",
    "            \n",
    "        return res_df\n",
    "    \n",
    "    return _inner"
   ]
  },
  {
   "cell_type": "code",
   "execution_count": null,
   "metadata": {},
   "outputs": [
    {
     "name": "stdout",
     "output_type": "stream",
     "text": [
      "CPU times: user 3.25 ms, sys: 0 ns, total: 3.25 ms\n",
      "Wall time: 2.48 ms\n"
     ]
    },
    {
     "data": {
      "text/html": [
       "<div>\n",
       "<style scoped>\n",
       "    .dataframe tbody tr th:only-of-type {\n",
       "        vertical-align: middle;\n",
       "    }\n",
       "\n",
       "    .dataframe tbody tr th {\n",
       "        vertical-align: top;\n",
       "    }\n",
       "\n",
       "    .dataframe thead th {\n",
       "        text-align: right;\n",
       "    }\n",
       "</style>\n",
       "<table border=\"1\" class=\"dataframe\">\n",
       "  <thead>\n",
       "    <tr style=\"text-align: right;\">\n",
       "      <th></th>\n",
       "      <th>path</th>\n",
       "      <th>seq_len</th>\n",
       "      <th>src_fs</th>\n",
       "      <th>l_slc</th>\n",
       "      <th>r_slc</th>\n",
       "    </tr>\n",
       "  </thead>\n",
       "  <tbody>\n",
       "    <tr>\n",
       "      <th>0</th>\n",
       "      <td>/home/pheenix/Development/tsfast/test_data/WienerHammerstein/test/WienerHammerstein_test.hdf5</td>\n",
       "      <td>88000</td>\n",
       "      <td>200.0</td>\n",
       "      <td>0</td>\n",
       "      <td>100.2</td>\n",
       "    </tr>\n",
       "    <tr>\n",
       "      <th>0</th>\n",
       "      <td>/home/pheenix/Development/tsfast/test_data/WienerHammerstein/test/WienerHammerstein_test.hdf5</td>\n",
       "      <td>88000</td>\n",
       "      <td>200.0</td>\n",
       "      <td>100</td>\n",
       "      <td>200.2</td>\n",
       "    </tr>\n",
       "    <tr>\n",
       "      <th>0</th>\n",
       "      <td>/home/pheenix/Development/tsfast/test_data/WienerHammerstein/test/WienerHammerstein_test.hdf5</td>\n",
       "      <td>88000</td>\n",
       "      <td>200.0</td>\n",
       "      <td>200</td>\n",
       "      <td>300.2</td>\n",
       "    </tr>\n",
       "    <tr>\n",
       "      <th>0</th>\n",
       "      <td>/home/pheenix/Development/tsfast/test_data/WienerHammerstein/test/WienerHammerstein_test.hdf5</td>\n",
       "      <td>88000</td>\n",
       "      <td>200.0</td>\n",
       "      <td>300</td>\n",
       "      <td>400.2</td>\n",
       "    </tr>\n",
       "    <tr>\n",
       "      <th>0</th>\n",
       "      <td>/home/pheenix/Development/tsfast/test_data/WienerHammerstein/test/WienerHammerstein_test.hdf5</td>\n",
       "      <td>88000</td>\n",
       "      <td>200.0</td>\n",
       "      <td>400</td>\n",
       "      <td>500.2</td>\n",
       "    </tr>\n",
       "    <tr>\n",
       "      <th>...</th>\n",
       "      <td>...</td>\n",
       "      <td>...</td>\n",
       "      <td>...</td>\n",
       "      <td>...</td>\n",
       "      <td>...</td>\n",
       "    </tr>\n",
       "    <tr>\n",
       "      <th>2</th>\n",
       "      <td>/home/pheenix/Development/tsfast/test_data/WienerHammerstein/valid/WienerHammerstein_valid.hdf5</td>\n",
       "      <td>20000</td>\n",
       "      <td>200.0</td>\n",
       "      <td>19400</td>\n",
       "      <td>19500.2</td>\n",
       "    </tr>\n",
       "    <tr>\n",
       "      <th>2</th>\n",
       "      <td>/home/pheenix/Development/tsfast/test_data/WienerHammerstein/valid/WienerHammerstein_valid.hdf5</td>\n",
       "      <td>20000</td>\n",
       "      <td>200.0</td>\n",
       "      <td>19500</td>\n",
       "      <td>19600.2</td>\n",
       "    </tr>\n",
       "    <tr>\n",
       "      <th>2</th>\n",
       "      <td>/home/pheenix/Development/tsfast/test_data/WienerHammerstein/valid/WienerHammerstein_valid.hdf5</td>\n",
       "      <td>20000</td>\n",
       "      <td>200.0</td>\n",
       "      <td>19600</td>\n",
       "      <td>19700.2</td>\n",
       "    </tr>\n",
       "    <tr>\n",
       "      <th>2</th>\n",
       "      <td>/home/pheenix/Development/tsfast/test_data/WienerHammerstein/valid/WienerHammerstein_valid.hdf5</td>\n",
       "      <td>20000</td>\n",
       "      <td>200.0</td>\n",
       "      <td>19700</td>\n",
       "      <td>19800.2</td>\n",
       "    </tr>\n",
       "    <tr>\n",
       "      <th>2</th>\n",
       "      <td>/home/pheenix/Development/tsfast/test_data/WienerHammerstein/valid/WienerHammerstein_valid.hdf5</td>\n",
       "      <td>20000</td>\n",
       "      <td>200.0</td>\n",
       "      <td>19800</td>\n",
       "      <td>19900.2</td>\n",
       "    </tr>\n",
       "  </tbody>\n",
       "</table>\n",
       "<p>1877 rows × 5 columns</p>\n",
       "</div>"
      ],
      "text/plain": [
       "                                                                                               path  \\\n",
       "0     /home/pheenix/Development/tsfast/test_data/WienerHammerstein/test/WienerHammerstein_test.hdf5   \n",
       "0     /home/pheenix/Development/tsfast/test_data/WienerHammerstein/test/WienerHammerstein_test.hdf5   \n",
       "0     /home/pheenix/Development/tsfast/test_data/WienerHammerstein/test/WienerHammerstein_test.hdf5   \n",
       "0     /home/pheenix/Development/tsfast/test_data/WienerHammerstein/test/WienerHammerstein_test.hdf5   \n",
       "0     /home/pheenix/Development/tsfast/test_data/WienerHammerstein/test/WienerHammerstein_test.hdf5   \n",
       "..                                                                                              ...   \n",
       "2   /home/pheenix/Development/tsfast/test_data/WienerHammerstein/valid/WienerHammerstein_valid.hdf5   \n",
       "2   /home/pheenix/Development/tsfast/test_data/WienerHammerstein/valid/WienerHammerstein_valid.hdf5   \n",
       "2   /home/pheenix/Development/tsfast/test_data/WienerHammerstein/valid/WienerHammerstein_valid.hdf5   \n",
       "2   /home/pheenix/Development/tsfast/test_data/WienerHammerstein/valid/WienerHammerstein_valid.hdf5   \n",
       "2   /home/pheenix/Development/tsfast/test_data/WienerHammerstein/valid/WienerHammerstein_valid.hdf5   \n",
       "\n",
       "    seq_len  src_fs  l_slc    r_slc  \n",
       "0     88000   200.0      0    100.2  \n",
       "0     88000   200.0    100    200.2  \n",
       "0     88000   200.0    200    300.2  \n",
       "0     88000   200.0    300    400.2  \n",
       "0     88000   200.0    400    500.2  \n",
       "..      ...     ...    ...      ...  \n",
       "2     20000   200.0  19400  19500.2  \n",
       "2     20000   200.0  19500  19600.2  \n",
       "2     20000   200.0  19600  19700.2  \n",
       "2     20000   200.0  19700  19800.2  \n",
       "2     20000   200.0  19800  19900.2  \n",
       "\n",
       "[1877 rows x 5 columns]"
      ]
     },
     "execution_count": null,
     "metadata": {},
     "output_type": "execute_result"
    }
   ],
   "source": [
    "%%time\n",
    "create_win = DfHDFCreateWindows(win_sz=100.2,stp_sz=100,clm='u')\n",
    "win_df = create_win(df)\n",
    "win_df"
   ]
  },
  {
   "cell_type": "code",
   "execution_count": null,
   "metadata": {},
   "outputs": [
    {
     "data": {
      "text/html": [
       "<div>\n",
       "<style scoped>\n",
       "    .dataframe tbody tr th:only-of-type {\n",
       "        vertical-align: middle;\n",
       "    }\n",
       "\n",
       "    .dataframe tbody tr th {\n",
       "        vertical-align: top;\n",
       "    }\n",
       "\n",
       "    .dataframe thead th {\n",
       "        text-align: right;\n",
       "    }\n",
       "</style>\n",
       "<table border=\"1\" class=\"dataframe\">\n",
       "  <thead>\n",
       "    <tr style=\"text-align: right;\">\n",
       "      <th></th>\n",
       "      <th>path</th>\n",
       "      <th>seq_len</th>\n",
       "      <th>src_fs</th>\n",
       "      <th>l_slc</th>\n",
       "      <th>r_slc</th>\n",
       "    </tr>\n",
       "  </thead>\n",
       "  <tbody>\n",
       "    <tr>\n",
       "      <th>0</th>\n",
       "      <td>/home/pheenix/Development/tsfast/test_data/WienerHammerstein/test/WienerHammerstein_test.hdf5</td>\n",
       "      <td>88000</td>\n",
       "      <td>200.0</td>\n",
       "      <td>0</td>\n",
       "      <td>20000</td>\n",
       "    </tr>\n",
       "    <tr>\n",
       "      <th>0</th>\n",
       "      <td>/home/pheenix/Development/tsfast/test_data/WienerHammerstein/test/WienerHammerstein_test.hdf5</td>\n",
       "      <td>88000</td>\n",
       "      <td>200.0</td>\n",
       "      <td>1000</td>\n",
       "      <td>21000</td>\n",
       "    </tr>\n",
       "    <tr>\n",
       "      <th>0</th>\n",
       "      <td>/home/pheenix/Development/tsfast/test_data/WienerHammerstein/test/WienerHammerstein_test.hdf5</td>\n",
       "      <td>88000</td>\n",
       "      <td>200.0</td>\n",
       "      <td>2000</td>\n",
       "      <td>22000</td>\n",
       "    </tr>\n",
       "    <tr>\n",
       "      <th>0</th>\n",
       "      <td>/home/pheenix/Development/tsfast/test_data/WienerHammerstein/test/WienerHammerstein_test.hdf5</td>\n",
       "      <td>88000</td>\n",
       "      <td>200.0</td>\n",
       "      <td>3000</td>\n",
       "      <td>23000</td>\n",
       "    </tr>\n",
       "    <tr>\n",
       "      <th>0</th>\n",
       "      <td>/home/pheenix/Development/tsfast/test_data/WienerHammerstein/test/WienerHammerstein_test.hdf5</td>\n",
       "      <td>88000</td>\n",
       "      <td>200.0</td>\n",
       "      <td>4000</td>\n",
       "      <td>24000</td>\n",
       "    </tr>\n",
       "    <tr>\n",
       "      <th>...</th>\n",
       "      <td>...</td>\n",
       "      <td>...</td>\n",
       "      <td>...</td>\n",
       "      <td>...</td>\n",
       "      <td>...</td>\n",
       "    </tr>\n",
       "    <tr>\n",
       "      <th>1</th>\n",
       "      <td>/home/pheenix/Development/tsfast/test_data/WienerHammerstein/train/WienerHammerstein_train.hdf5</td>\n",
       "      <td>80000</td>\n",
       "      <td>200.0</td>\n",
       "      <td>57000</td>\n",
       "      <td>77000</td>\n",
       "    </tr>\n",
       "    <tr>\n",
       "      <th>1</th>\n",
       "      <td>/home/pheenix/Development/tsfast/test_data/WienerHammerstein/train/WienerHammerstein_train.hdf5</td>\n",
       "      <td>80000</td>\n",
       "      <td>200.0</td>\n",
       "      <td>58000</td>\n",
       "      <td>78000</td>\n",
       "    </tr>\n",
       "    <tr>\n",
       "      <th>1</th>\n",
       "      <td>/home/pheenix/Development/tsfast/test_data/WienerHammerstein/train/WienerHammerstein_train.hdf5</td>\n",
       "      <td>80000</td>\n",
       "      <td>200.0</td>\n",
       "      <td>59000</td>\n",
       "      <td>79000</td>\n",
       "    </tr>\n",
       "    <tr>\n",
       "      <th>1</th>\n",
       "      <td>/home/pheenix/Development/tsfast/test_data/WienerHammerstein/train/WienerHammerstein_train.hdf5</td>\n",
       "      <td>80000</td>\n",
       "      <td>200.0</td>\n",
       "      <td>60000</td>\n",
       "      <td>80000</td>\n",
       "    </tr>\n",
       "    <tr>\n",
       "      <th>2</th>\n",
       "      <td>/home/pheenix/Development/tsfast/test_data/WienerHammerstein/valid/WienerHammerstein_valid.hdf5</td>\n",
       "      <td>20000</td>\n",
       "      <td>200.0</td>\n",
       "      <td>0</td>\n",
       "      <td>20000</td>\n",
       "    </tr>\n",
       "  </tbody>\n",
       "</table>\n",
       "<p>131 rows × 5 columns</p>\n",
       "</div>"
      ],
      "text/plain": [
       "                                                                                               path  \\\n",
       "0     /home/pheenix/Development/tsfast/test_data/WienerHammerstein/test/WienerHammerstein_test.hdf5   \n",
       "0     /home/pheenix/Development/tsfast/test_data/WienerHammerstein/test/WienerHammerstein_test.hdf5   \n",
       "0     /home/pheenix/Development/tsfast/test_data/WienerHammerstein/test/WienerHammerstein_test.hdf5   \n",
       "0     /home/pheenix/Development/tsfast/test_data/WienerHammerstein/test/WienerHammerstein_test.hdf5   \n",
       "0     /home/pheenix/Development/tsfast/test_data/WienerHammerstein/test/WienerHammerstein_test.hdf5   \n",
       "..                                                                                              ...   \n",
       "1   /home/pheenix/Development/tsfast/test_data/WienerHammerstein/train/WienerHammerstein_train.hdf5   \n",
       "1   /home/pheenix/Development/tsfast/test_data/WienerHammerstein/train/WienerHammerstein_train.hdf5   \n",
       "1   /home/pheenix/Development/tsfast/test_data/WienerHammerstein/train/WienerHammerstein_train.hdf5   \n",
       "1   /home/pheenix/Development/tsfast/test_data/WienerHammerstein/train/WienerHammerstein_train.hdf5   \n",
       "2   /home/pheenix/Development/tsfast/test_data/WienerHammerstein/valid/WienerHammerstein_valid.hdf5   \n",
       "\n",
       "    seq_len  src_fs  l_slc  r_slc  \n",
       "0     88000   200.0      0  20000  \n",
       "0     88000   200.0   1000  21000  \n",
       "0     88000   200.0   2000  22000  \n",
       "0     88000   200.0   3000  23000  \n",
       "0     88000   200.0   4000  24000  \n",
       "..      ...     ...    ...    ...  \n",
       "1     80000   200.0  57000  77000  \n",
       "1     80000   200.0  58000  78000  \n",
       "1     80000   200.0  59000  79000  \n",
       "1     80000   200.0  60000  80000  \n",
       "2     20000   200.0      0  20000  \n",
       "\n",
       "[131 rows x 5 columns]"
      ]
     },
     "execution_count": null,
     "metadata": {},
     "output_type": "execute_result"
    }
   ],
   "source": [
    "win_df = DfHDFCreateWindows(win_sz=20_000,stp_sz=1000,clm='u')(df)\n",
    "test_eq(len(win_df),131)\n",
    "win_df"
   ]
  },
  {
   "cell_type": "code",
   "execution_count": null,
   "metadata": {},
   "outputs": [],
   "source": [
    "test_eq(create_win(df_get_hdf_seq_len(df,'u')) , create_win(df))"
   ]
  },
  {
   "cell_type": "code",
   "execution_count": null,
   "metadata": {},
   "outputs": [
    {
     "data": {
      "text/html": [
       "<div>\n",
       "<style scoped>\n",
       "    .dataframe tbody tr th:only-of-type {\n",
       "        vertical-align: middle;\n",
       "    }\n",
       "\n",
       "    .dataframe tbody tr th {\n",
       "        vertical-align: top;\n",
       "    }\n",
       "\n",
       "    .dataframe thead th {\n",
       "        text-align: right;\n",
       "    }\n",
       "</style>\n",
       "<table border=\"1\" class=\"dataframe\">\n",
       "  <thead>\n",
       "    <tr style=\"text-align: right;\">\n",
       "      <th></th>\n",
       "      <th>path</th>\n",
       "      <th>seq_len</th>\n",
       "      <th>src_fs</th>\n",
       "      <th>targ_fs</th>\n",
       "      <th>resampling_factor</th>\n",
       "      <th>l_slc</th>\n",
       "      <th>r_slc</th>\n",
       "    </tr>\n",
       "  </thead>\n",
       "  <tbody>\n",
       "    <tr>\n",
       "      <th>0</th>\n",
       "      <td>/home/pheenix/Development/tsfast/test_data/WienerHammerstein/test/WienerHammerstein_test.hdf5</td>\n",
       "      <td>88000</td>\n",
       "      <td>200.0</td>\n",
       "      <td>0.1</td>\n",
       "      <td>0.005</td>\n",
       "      <td>0</td>\n",
       "      <td>100.2</td>\n",
       "    </tr>\n",
       "    <tr>\n",
       "      <th>0</th>\n",
       "      <td>/home/pheenix/Development/tsfast/test_data/WienerHammerstein/test/WienerHammerstein_test.hdf5</td>\n",
       "      <td>88000</td>\n",
       "      <td>200.0</td>\n",
       "      <td>0.1</td>\n",
       "      <td>0.005</td>\n",
       "      <td>100</td>\n",
       "      <td>200.2</td>\n",
       "    </tr>\n",
       "    <tr>\n",
       "      <th>0</th>\n",
       "      <td>/home/pheenix/Development/tsfast/test_data/WienerHammerstein/test/WienerHammerstein_test.hdf5</td>\n",
       "      <td>88000</td>\n",
       "      <td>200.0</td>\n",
       "      <td>0.1</td>\n",
       "      <td>0.005</td>\n",
       "      <td>200</td>\n",
       "      <td>300.2</td>\n",
       "    </tr>\n",
       "    <tr>\n",
       "      <th>0</th>\n",
       "      <td>/home/pheenix/Development/tsfast/test_data/WienerHammerstein/test/WienerHammerstein_test.hdf5</td>\n",
       "      <td>88000</td>\n",
       "      <td>200.0</td>\n",
       "      <td>0.1</td>\n",
       "      <td>0.005</td>\n",
       "      <td>300</td>\n",
       "      <td>400.2</td>\n",
       "    </tr>\n",
       "    <tr>\n",
       "      <th>1</th>\n",
       "      <td>/home/pheenix/Development/tsfast/test_data/WienerHammerstein/train/WienerHammerstein_train.hdf5</td>\n",
       "      <td>80000</td>\n",
       "      <td>200.0</td>\n",
       "      <td>0.1</td>\n",
       "      <td>0.005</td>\n",
       "      <td>0</td>\n",
       "      <td>100.2</td>\n",
       "    </tr>\n",
       "    <tr>\n",
       "      <th>1</th>\n",
       "      <td>/home/pheenix/Development/tsfast/test_data/WienerHammerstein/train/WienerHammerstein_train.hdf5</td>\n",
       "      <td>80000</td>\n",
       "      <td>200.0</td>\n",
       "      <td>0.1</td>\n",
       "      <td>0.005</td>\n",
       "      <td>100</td>\n",
       "      <td>200.2</td>\n",
       "    </tr>\n",
       "    <tr>\n",
       "      <th>1</th>\n",
       "      <td>/home/pheenix/Development/tsfast/test_data/WienerHammerstein/train/WienerHammerstein_train.hdf5</td>\n",
       "      <td>80000</td>\n",
       "      <td>200.0</td>\n",
       "      <td>0.1</td>\n",
       "      <td>0.005</td>\n",
       "      <td>200</td>\n",
       "      <td>300.2</td>\n",
       "    </tr>\n",
       "  </tbody>\n",
       "</table>\n",
       "</div>"
      ],
      "text/plain": [
       "                                                                                              path  \\\n",
       "0    /home/pheenix/Development/tsfast/test_data/WienerHammerstein/test/WienerHammerstein_test.hdf5   \n",
       "0    /home/pheenix/Development/tsfast/test_data/WienerHammerstein/test/WienerHammerstein_test.hdf5   \n",
       "0    /home/pheenix/Development/tsfast/test_data/WienerHammerstein/test/WienerHammerstein_test.hdf5   \n",
       "0    /home/pheenix/Development/tsfast/test_data/WienerHammerstein/test/WienerHammerstein_test.hdf5   \n",
       "1  /home/pheenix/Development/tsfast/test_data/WienerHammerstein/train/WienerHammerstein_train.hdf5   \n",
       "1  /home/pheenix/Development/tsfast/test_data/WienerHammerstein/train/WienerHammerstein_train.hdf5   \n",
       "1  /home/pheenix/Development/tsfast/test_data/WienerHammerstein/train/WienerHammerstein_train.hdf5   \n",
       "\n",
       "   seq_len  src_fs  targ_fs  resampling_factor  l_slc  r_slc  \n",
       "0    88000   200.0      0.1              0.005      0  100.2  \n",
       "0    88000   200.0      0.1              0.005    100  200.2  \n",
       "0    88000   200.0      0.1              0.005    200  300.2  \n",
       "0    88000   200.0      0.1              0.005    300  400.2  \n",
       "1    80000   200.0      0.1              0.005      0  100.2  \n",
       "1    80000   200.0      0.1              0.005    100  200.2  \n",
       "1    80000   200.0      0.1              0.005    200  300.2  "
      ]
     },
     "execution_count": null,
     "metadata": {},
     "output_type": "execute_result"
    }
   ],
   "source": [
    "res_win_df = create_win(DfResamplingFactor(20,[0.1])(df))\n",
    "res_win_df"
   ]
  },
  {
   "cell_type": "code",
   "execution_count": null,
   "metadata": {},
   "outputs": [],
   "source": [
    "test_eq(len(res_win_df),7)"
   ]
  },
  {
   "cell_type": "code",
   "execution_count": null,
   "metadata": {},
   "outputs": [
    {
     "data": {
      "text/html": [
       "<div>\n",
       "<style scoped>\n",
       "    .dataframe tbody tr th:only-of-type {\n",
       "        vertical-align: middle;\n",
       "    }\n",
       "\n",
       "    .dataframe tbody tr th {\n",
       "        vertical-align: top;\n",
       "    }\n",
       "\n",
       "    .dataframe thead th {\n",
       "        text-align: right;\n",
       "    }\n",
       "</style>\n",
       "<table border=\"1\" class=\"dataframe\">\n",
       "  <thead>\n",
       "    <tr style=\"text-align: right;\">\n",
       "      <th></th>\n",
       "      <th>path</th>\n",
       "      <th>seq_len</th>\n",
       "      <th>src_fs</th>\n",
       "      <th>l_slc</th>\n",
       "      <th>r_slc</th>\n",
       "    </tr>\n",
       "  </thead>\n",
       "  <tbody>\n",
       "    <tr>\n",
       "      <th>0</th>\n",
       "      <td>/home/pheenix/Development/tsfast/test_data/WienerHammerstein/test/WienerHammerstein_test.hdf5</td>\n",
       "      <td>88000</td>\n",
       "      <td>200.0</td>\n",
       "      <td>0</td>\n",
       "      <td>20000</td>\n",
       "    </tr>\n",
       "    <tr>\n",
       "      <th>1</th>\n",
       "      <td>/home/pheenix/Development/tsfast/test_data/WienerHammerstein/train/WienerHammerstein_train.hdf5</td>\n",
       "      <td>80000</td>\n",
       "      <td>200.0</td>\n",
       "      <td>0</td>\n",
       "      <td>20000</td>\n",
       "    </tr>\n",
       "    <tr>\n",
       "      <th>2</th>\n",
       "      <td>/home/pheenix/Development/tsfast/test_data/WienerHammerstein/valid/WienerHammerstein_valid.hdf5</td>\n",
       "      <td>20000</td>\n",
       "      <td>200.0</td>\n",
       "      <td>0</td>\n",
       "      <td>20000</td>\n",
       "    </tr>\n",
       "  </tbody>\n",
       "</table>\n",
       "</div>"
      ],
      "text/plain": [
       "                                                                                              path  \\\n",
       "0    /home/pheenix/Development/tsfast/test_data/WienerHammerstein/test/WienerHammerstein_test.hdf5   \n",
       "1  /home/pheenix/Development/tsfast/test_data/WienerHammerstein/train/WienerHammerstein_train.hdf5   \n",
       "2  /home/pheenix/Development/tsfast/test_data/WienerHammerstein/valid/WienerHammerstein_valid.hdf5   \n",
       "\n",
       "   seq_len  src_fs  l_slc  r_slc  \n",
       "0    88000   200.0      0  20000  \n",
       "1    80000   200.0      0  20000  \n",
       "2    20000   200.0      0  20000  "
      ]
     },
     "execution_count": null,
     "metadata": {},
     "output_type": "execute_result"
    }
   ],
   "source": [
    "query_expr = 'l_slc <= 200'\n",
    "filt_df = win_df.query(query_expr)\n",
    "filt_df"
   ]
  },
  {
   "cell_type": "code",
   "execution_count": null,
   "metadata": {},
   "outputs": [],
   "source": [
    "#| export\n",
    "def DfApplyFuncSplit(split_func,func1,func2):\n",
    "    '''apply two different functions on the dataframe, func1 on the first indices of split_func, func2 on the second indices.\n",
    "        Split_func is a Training, Validation split function'''\n",
    "    def _inner(df):\n",
    "        (idxs1,idxs2) = split_func(df.path)\n",
    "        df1= func1(df.iloc[idxs1])\n",
    "        df2= func2(df.iloc[idxs2])\n",
    "        return pd.concat((df1,df2))\n",
    "    return _inner"
   ]
  },
  {
   "cell_type": "code",
   "execution_count": null,
   "metadata": {},
   "outputs": [
    {
     "data": {
      "text/html": [
       "<div>\n",
       "<style scoped>\n",
       "    .dataframe tbody tr th:only-of-type {\n",
       "        vertical-align: middle;\n",
       "    }\n",
       "\n",
       "    .dataframe tbody tr th {\n",
       "        vertical-align: top;\n",
       "    }\n",
       "\n",
       "    .dataframe thead th {\n",
       "        text-align: right;\n",
       "    }\n",
       "</style>\n",
       "<table border=\"1\" class=\"dataframe\">\n",
       "  <thead>\n",
       "    <tr style=\"text-align: right;\">\n",
       "      <th></th>\n",
       "      <th>path</th>\n",
       "      <th>seq_len</th>\n",
       "      <th>src_fs</th>\n",
       "      <th>l_slc</th>\n",
       "      <th>r_slc</th>\n",
       "    </tr>\n",
       "  </thead>\n",
       "  <tbody>\n",
       "    <tr>\n",
       "      <th>0</th>\n",
       "      <td>/home/pheenix/Development/tsfast/test_data/WienerHammerstein/test/WienerHammerstein_test.hdf5</td>\n",
       "      <td>88000</td>\n",
       "      <td>200.0</td>\n",
       "      <td>0</td>\n",
       "      <td>10000</td>\n",
       "    </tr>\n",
       "    <tr>\n",
       "      <th>0</th>\n",
       "      <td>/home/pheenix/Development/tsfast/test_data/WienerHammerstein/test/WienerHammerstein_test.hdf5</td>\n",
       "      <td>88000</td>\n",
       "      <td>200.0</td>\n",
       "      <td>1</td>\n",
       "      <td>10001</td>\n",
       "    </tr>\n",
       "    <tr>\n",
       "      <th>0</th>\n",
       "      <td>/home/pheenix/Development/tsfast/test_data/WienerHammerstein/test/WienerHammerstein_test.hdf5</td>\n",
       "      <td>88000</td>\n",
       "      <td>200.0</td>\n",
       "      <td>2</td>\n",
       "      <td>10002</td>\n",
       "    </tr>\n",
       "    <tr>\n",
       "      <th>0</th>\n",
       "      <td>/home/pheenix/Development/tsfast/test_data/WienerHammerstein/test/WienerHammerstein_test.hdf5</td>\n",
       "      <td>88000</td>\n",
       "      <td>200.0</td>\n",
       "      <td>3</td>\n",
       "      <td>10003</td>\n",
       "    </tr>\n",
       "    <tr>\n",
       "      <th>0</th>\n",
       "      <td>/home/pheenix/Development/tsfast/test_data/WienerHammerstein/test/WienerHammerstein_test.hdf5</td>\n",
       "      <td>88000</td>\n",
       "      <td>200.0</td>\n",
       "      <td>4</td>\n",
       "      <td>10004</td>\n",
       "    </tr>\n",
       "    <tr>\n",
       "      <th>...</th>\n",
       "      <td>...</td>\n",
       "      <td>...</td>\n",
       "      <td>...</td>\n",
       "      <td>...</td>\n",
       "      <td>...</td>\n",
       "    </tr>\n",
       "    <tr>\n",
       "      <th>1</th>\n",
       "      <td>/home/pheenix/Development/tsfast/test_data/WienerHammerstein/train/WienerHammerstein_train.hdf5</td>\n",
       "      <td>80000</td>\n",
       "      <td>200.0</td>\n",
       "      <td>50000</td>\n",
       "      <td>60000</td>\n",
       "    </tr>\n",
       "    <tr>\n",
       "      <th>1</th>\n",
       "      <td>/home/pheenix/Development/tsfast/test_data/WienerHammerstein/train/WienerHammerstein_train.hdf5</td>\n",
       "      <td>80000</td>\n",
       "      <td>200.0</td>\n",
       "      <td>60000</td>\n",
       "      <td>70000</td>\n",
       "    </tr>\n",
       "    <tr>\n",
       "      <th>1</th>\n",
       "      <td>/home/pheenix/Development/tsfast/test_data/WienerHammerstein/train/WienerHammerstein_train.hdf5</td>\n",
       "      <td>80000</td>\n",
       "      <td>200.0</td>\n",
       "      <td>70000</td>\n",
       "      <td>80000</td>\n",
       "    </tr>\n",
       "    <tr>\n",
       "      <th>2</th>\n",
       "      <td>/home/pheenix/Development/tsfast/test_data/WienerHammerstein/valid/WienerHammerstein_valid.hdf5</td>\n",
       "      <td>20000</td>\n",
       "      <td>200.0</td>\n",
       "      <td>0</td>\n",
       "      <td>10000</td>\n",
       "    </tr>\n",
       "    <tr>\n",
       "      <th>2</th>\n",
       "      <td>/home/pheenix/Development/tsfast/test_data/WienerHammerstein/valid/WienerHammerstein_valid.hdf5</td>\n",
       "      <td>20000</td>\n",
       "      <td>200.0</td>\n",
       "      <td>10000</td>\n",
       "      <td>20000</td>\n",
       "    </tr>\n",
       "  </tbody>\n",
       "</table>\n",
       "<p>78011 rows × 5 columns</p>\n",
       "</div>"
      ],
      "text/plain": [
       "                                                                                               path  \\\n",
       "0     /home/pheenix/Development/tsfast/test_data/WienerHammerstein/test/WienerHammerstein_test.hdf5   \n",
       "0     /home/pheenix/Development/tsfast/test_data/WienerHammerstein/test/WienerHammerstein_test.hdf5   \n",
       "0     /home/pheenix/Development/tsfast/test_data/WienerHammerstein/test/WienerHammerstein_test.hdf5   \n",
       "0     /home/pheenix/Development/tsfast/test_data/WienerHammerstein/test/WienerHammerstein_test.hdf5   \n",
       "0     /home/pheenix/Development/tsfast/test_data/WienerHammerstein/test/WienerHammerstein_test.hdf5   \n",
       "..                                                                                              ...   \n",
       "1   /home/pheenix/Development/tsfast/test_data/WienerHammerstein/train/WienerHammerstein_train.hdf5   \n",
       "1   /home/pheenix/Development/tsfast/test_data/WienerHammerstein/train/WienerHammerstein_train.hdf5   \n",
       "1   /home/pheenix/Development/tsfast/test_data/WienerHammerstein/train/WienerHammerstein_train.hdf5   \n",
       "2   /home/pheenix/Development/tsfast/test_data/WienerHammerstein/valid/WienerHammerstein_valid.hdf5   \n",
       "2   /home/pheenix/Development/tsfast/test_data/WienerHammerstein/valid/WienerHammerstein_valid.hdf5   \n",
       "\n",
       "    seq_len  src_fs  l_slc  r_slc  \n",
       "0     88000   200.0      0  10000  \n",
       "0     88000   200.0      1  10001  \n",
       "0     88000   200.0      2  10002  \n",
       "0     88000   200.0      3  10003  \n",
       "0     88000   200.0      4  10004  \n",
       "..      ...     ...    ...    ...  \n",
       "1     80000   200.0  50000  60000  \n",
       "1     80000   200.0  60000  70000  \n",
       "1     80000   200.0  70000  80000  \n",
       "2     20000   200.0      0  10000  \n",
       "2     20000   200.0  10000  20000  \n",
       "\n",
       "[78011 rows x 5 columns]"
      ]
     },
     "execution_count": null,
     "metadata": {},
     "output_type": "execute_result"
    }
   ],
   "source": [
    "create_win_split = DfApplyFuncSplit(\n",
    "    IndexSplitter([1,2]),\n",
    "    DfHDFCreateWindows(win_sz=10000,stp_sz=1,clm='u'),\n",
    "    DfHDFCreateWindows(win_sz=10000,stp_sz=10000,clm='u')\n",
    ")\n",
    "create_win_split(df)"
   ]
  },
  {
   "cell_type": "code",
   "execution_count": null,
   "metadata": {},
   "outputs": [],
   "source": [
    "#| export\n",
    "def DfFilterQuery(query):\n",
    "    def _inner(df):\n",
    "        return df.query(query)\n",
    "    return _inner"
   ]
  },
  {
   "cell_type": "code",
   "execution_count": null,
   "metadata": {},
   "outputs": [],
   "source": [
    "test_eq(DfFilterQuery(query_expr)(win_df),filt_df)"
   ]
  },
  {
   "cell_type": "code",
   "execution_count": null,
   "metadata": {},
   "outputs": [
    {
     "name": "stdout",
     "output_type": "stream",
     "text": [
      "CPU times: user 19.6 ms, sys: 0 ns, total: 19.6 ms\n",
      "Wall time: 18.9 ms\n"
     ]
    },
    {
     "data": {
      "text/plain": [
       "[{'path': '/home/pheenix/Development/tsfast/test_data/WienerHammerstein/test/WienerHammerstein_test.hdf5',\n",
       "  'valid': False,\n",
       "  'l_slc': 0,\n",
       "  'r_slc': 101},\n",
       " {'path': '/home/pheenix/Development/tsfast/test_data/WienerHammerstein/test/WienerHammerstein_test.hdf5',\n",
       "  'valid': False,\n",
       "  'l_slc': 10,\n",
       "  'r_slc': 111},\n",
       " {'path': '/home/pheenix/Development/tsfast/test_data/WienerHammerstein/test/WienerHammerstein_test.hdf5',\n",
       "  'valid': False,\n",
       "  'l_slc': 20,\n",
       "  'r_slc': 121},\n",
       " {'path': '/home/pheenix/Development/tsfast/test_data/WienerHammerstein/test/WienerHammerstein_test.hdf5',\n",
       "  'valid': False,\n",
       "  'l_slc': 30,\n",
       "  'r_slc': 131},\n",
       " {'path': '/home/pheenix/Development/tsfast/test_data/WienerHammerstein/test/WienerHammerstein_test.hdf5',\n",
       "  'valid': False,\n",
       "  'l_slc': 40,\n",
       "  'r_slc': 141}]"
      ]
     },
     "execution_count": null,
     "metadata": {},
     "output_type": "execute_result"
    }
   ],
   "source": [
    "%%time\n",
    "tfm_src = CreateDict([ValidClmContains(['valid']),DfHDFCreateWindows(win_sz=100+1,stp_sz=10,clm='u')])\n",
    "src_dicts = tfm_src(hdf_files)\n",
    "src_dicts[:5]"
   ]
  },
  {
   "cell_type": "code",
   "execution_count": null,
   "metadata": {},
   "outputs": [],
   "source": [
    "#| export\n",
    "def DfDropClmExcept(clms = ['path','l_slc','r_slc','p_sample','resampling_factor']):\n",
    "    '''drop unused dataframe columns as a last optional step to accelerate dictionary conversion'''\n",
    "    def _inner(df):\n",
    "        return df[[c for c in clms if c in df]]\n",
    "    return _inner"
   ]
  },
  {
   "cell_type": "markdown",
   "metadata": {},
   "source": [
    "## 2. Convert Paths to Sequence Objects\n",
    "Der Pfad wird unter Angabe der Spaltennamen in Sequenzen und Skalare Werte umgewandelt, um so am Ende ein 3-Tupel zu erhalten aus:\n",
    "- (Sequence, Scalar, Sequence) <-> (input,input,output)"
   ]
  },
  {
   "cell_type": "markdown",
   "metadata": {},
   "source": [
    "### 2.1 Extract sequential data from hdf5-files\n",
    "Two different functions, based on pandas df and on lists"
   ]
  },
  {
   "cell_type": "markdown",
   "metadata": {},
   "source": [
    "#### 2.1.1 Shift time Series\n",
    "Sometimes we need to shift columns of a sequence by a specific value. Then we cant simply slice the array but have to handle each column individually. First a performance test has to be made."
   ]
  },
  {
   "cell_type": "code",
   "execution_count": null,
   "metadata": {},
   "outputs": [],
   "source": [
    "#| export\n",
    "def calc_shift_offsets(clm_shift):\n",
    "    clm_shift = array(clm_shift)\n",
    "    l_offs = -min(clm_shift.min(),0)\n",
    "    r_offs = -max(clm_shift.max(),0)\n",
    "    l_shift = clm_shift+l_offs\n",
    "    r_shift = clm_shift+r_offs\n",
    "    dim_red = l_offs-r_offs\n",
    "    return l_shift,r_shift,dim_red"
   ]
  },
  {
   "cell_type": "code",
   "execution_count": null,
   "metadata": {},
   "outputs": [
    {
     "data": {
      "text/plain": [
       "(array([1, 1, 0, 2]), array([-1, -1, -2,  0]), 2)"
      ]
     },
     "execution_count": null,
     "metadata": {},
     "output_type": "execute_result"
    }
   ],
   "source": [
    "shft = [0,0,-1,1]\n",
    "calc_shift_offsets(shft)"
   ]
  },
  {
   "cell_type": "markdown",
   "metadata": {},
   "source": [
    "both shifting methods have their own performance character. vstack needs double the time on short sequences, while the creation of a seperate array with copy becomes worse starting at around 5000 elements"
   ]
  },
  {
   "cell_type": "code",
   "execution_count": null,
   "metadata": {},
   "outputs": [],
   "source": [
    "# ta = array([[1,2,3]*2]*10000)"
   ]
  },
  {
   "cell_type": "code",
   "execution_count": null,
   "metadata": {},
   "outputs": [],
   "source": [
    "# %%timeit\n",
    "# y = np.vstack([ta[i:-ta.shape[1]+i,i] for i in range(ta.shape[1])]).T   "
   ]
  },
  {
   "cell_type": "code",
   "execution_count": null,
   "metadata": {},
   "outputs": [],
   "source": [
    "# %%timeit\n",
    "# x = np.zeros((ta.shape[0]-ta.shape[1],ta.shape[1]))\n",
    "# for i in range(ta.shape[1]):\n",
    "#     x[:,i] = ta[i:-ta.shape[1]+i,i]"
   ]
  },
  {
   "cell_type": "markdown",
   "metadata": {},
   "source": [
    "#### 2.1.2 HDF2Sequence\n",
    "HDF5 performance is massively affected by the dtype of the signals. f4 (32 bit floating point) Numbers are faster to load and lead to smaller files then f8 numbers."
   ]
  },
  {
   "cell_type": "code",
   "execution_count": null,
   "metadata": {},
   "outputs": [],
   "source": [
    "#| export\n",
    "def running_mean(x, N):\n",
    "    cumsum = np.cumsum(np.insert(x, 0, 0,axis=0),axis=0) \n",
    "    return (cumsum[N:] - cumsum[:-N]) / float(N)"
   ]
  },
  {
   "cell_type": "code",
   "execution_count": null,
   "metadata": {},
   "outputs": [],
   "source": [
    "#| export\n",
    "def downsample_mean(x,N):\n",
    "    shp = x.shape\n",
    "    trunc = -(x.shape[0] % N)\n",
    "    trunc = trunc if trunc != 0 else None\n",
    "    return x[:trunc,:].reshape((-1,N,x.shape[-1])).mean(axis=1)"
   ]
  },
  {
   "cell_type": "code",
   "execution_count": null,
   "metadata": {},
   "outputs": [],
   "source": [
    "#| export\n",
    "from scipy.signal import butter, lfilter, lfilter_zi\n",
    "from scipy import signal\n",
    "def resample_interp(x,resampling_factor,sequence_first=True, lowpass_cut=1.0, upsample_cubic_cut = None):\n",
    "    '''signal resampling using linear or cubic interpolation\n",
    "    \n",
    "    x: signal to resample with shape: features x resampling_dimension or resampling_dimension x  features if sequence_first=True\n",
    "    resampling_factor: Factor > 0 that scales the signal\n",
    "    lowpass_cut: Upper boundary for resampling_factor that activates the lowpassfilter, low values exchange accuracy for performance, default is 0.7\n",
    "    upsample_cubic_cut: Lower boundary for resampling_factor that activates cubic interpolation at high upsampling values. \n",
    "                        Improves signal dynamics in exchange of performance. None deactivates cubic interpolation\n",
    "    '''\n",
    "    \n",
    "    if sequence_first:\n",
    "        x = x.T\n",
    "    \n",
    "    fs_n = resampling_factor\n",
    "    #if downsampling rate is too high, lowpass filter before interpolation\n",
    "    if fs_n < lowpass_cut:\n",
    "        b,a = butter(2, fs_n)\n",
    "        zi = lfilter_zi(b,a)*x[:,:1] #initialize filter with steady state at first time step value\n",
    "        x,_ = lfilter(b,a,x,axis=-1,zi=zi)\n",
    "\n",
    "#         sos = butter(2, fs_n*1.2,output='sos')\n",
    "# #         sos = signal.cheby2(2,20, fs_n,output='sos')\n",
    "# #         import pdb;pdb.set_trace()\n",
    "#         zi = np.swapaxes(signal.sosfilt_zi(sos)[...,None]*x[:,0],1,2)\n",
    "#         x,_ = signal.sosfilt(sos, x,axis=-1,zi=zi)\n",
    "        \n",
    "    x_int = tensor(x)[None,...]\n",
    "    targ_size = int(x.shape[-1]*fs_n)\n",
    "    \n",
    "#     if upsampling rate is too high, switch from linear to cubic interpolation\n",
    "    if upsample_cubic_cut is None or fs_n <= upsample_cubic_cut:\n",
    "        x = array(nn.functional.interpolate(x_int, size=targ_size, mode='linear',align_corners=False)[0])\n",
    "    else:\n",
    "        x = array(nn.functional.interpolate(x_int[...,None], size=[targ_size,1], mode='bicubic',align_corners=False)[0,...,0])\n",
    "#     x = array(x_int)[0]\n",
    "    \n",
    "    if sequence_first:\n",
    "        x = x.T\n",
    "    \n",
    "    return x"
   ]
  },
  {
   "cell_type": "code",
   "execution_count": null,
   "metadata": {},
   "outputs": [],
   "source": [
    "x = np.random.normal(size=(100000,9))\n",
    "test_eq(resample_interp(x,0.3).shape[0],30000)"
   ]
  },
  {
   "cell_type": "code",
   "execution_count": null,
   "metadata": {},
   "outputs": [],
   "source": [
    "#| export\n",
    "from scipy.signal import resample\n",
    "def hdf_extract_sequence(hdf_path,clms,dataset = None, l_slc = None, r_slc= None, resampling_factor=None, fs_idx =None,dt_idx =False,fast_resample=True):\n",
    "    '''\n",
    "    extracts a sequence with the shape [seq_len x num_features]\n",
    "    \n",
    "    hdf_path: file path of hdf file, may be a string or path type\n",
    "    clms: list of dataset names of sequences in hdf file\n",
    "    dataset: dataset root for clms. Useful for multiples sequences stored in one file.\n",
    "    l_slc: left boundary for extraction of a window of the whole sequence\n",
    "    r_slc: right boundary for extraction of a window of the whole sequence\n",
    "    resampling_factor: scaling factor for the sequence length, uses 'resample_interp' for resampling\n",
    "    fs_idx: clms list idx of fs entry in sequence. Will be scaled by resampling_factor after resampling\n",
    "    dt_idx: clms list idx of dt entry in sequence. Will be scaled by resampling_factor after resampling\n",
    "    fast_resample: if True, uses linear interpolation with anti-aliasing filter for faster resampling. Is less accurate than fft based resampling\n",
    "    '''\n",
    "\n",
    "    if resampling_factor is not None:\n",
    "        seq_len = r_slc-l_slc if l_slc is not None and r_slc is not None else None #calculate seq_len for later slicing, necesary because of rounding errors in resampling\n",
    "        if l_slc is not None: l_slc= math.floor(l_slc/resampling_factor)\n",
    "        if r_slc is not None: r_slc= math.ceil(r_slc/resampling_factor)\n",
    "\n",
    "    with h5py.File(hdf_path,'r') as f:\n",
    "        ds = f if dataset is None else f[dataset]\n",
    "        l_array = [(ds[n][l_slc:r_slc]) for n in clms]\n",
    "        seq = np.stack(l_array,axis=-1)\n",
    "\n",
    "    if resampling_factor is not None:\n",
    "        if fast_resample:\n",
    "            res_seq = resample_interp(seq,resampling_factor)\n",
    "        else:\n",
    "            res_seq = resample(seq,int(seq.shape[0]*resampling_factor),window=('kaiser', 14.0))\n",
    "        if fs_idx is not None: res_seq[:,fs_idx] = seq[0,fs_idx] * resampling_factor\n",
    "        if dt_idx is not None: res_seq[:,dt_idx] = seq[0,dt_idx] / resampling_factor\n",
    "        seq = res_seq\n",
    "        \n",
    "        if seq_len is not None: seq = seq[:seq_len] #cut the part of the sequence that is too long because of resampling rounding errors\n",
    "        \n",
    "    return seq"
   ]
  },
  {
   "cell_type": "code",
   "execution_count": null,
   "metadata": {},
   "outputs": [],
   "source": [
    "#| export\n",
    "class Memoize:\n",
    "    def __init__(self, fn):\n",
    "        self.fn = fn\n",
    "        self.memo = {}\n",
    "\n",
    "    def __call__(self, *args):\n",
    "        if args not in self.memo:\n",
    "            self.memo[args] = self.fn(*args)\n",
    "        return self.memo[args]\n",
    "\n"
   ]
  },
  {
   "cell_type": "code",
   "execution_count": null,
   "metadata": {},
   "outputs": [],
   "source": [
    "#| export\n",
    "from multiprocessing import shared_memory, Manager, Lock\n",
    "class MemoizeMP:\n",
    "    \n",
    "    def __init__(self, fn):\n",
    "        self.fn = fn\n",
    "        self.manager = Manager()\n",
    "        self.results_dict = self.manager.dict()  # Stores metadata about computed results\n",
    "        self.lock = Lock()  # Ensure atomic updates to the results_dict\n",
    "        self.local_memo = {}  # Local cache for each process\n",
    "        self.shared_memory_segments = []  # Track all shared memory segments\n",
    "    def __call__(self, *args):\n",
    "        if args in self.local_memo:\n",
    "            return self.local_memo[args][0]\n",
    "        with self.lock:\n",
    "            if args in self.results_dict:\n",
    "                result_info = self.results_dict[args]\n",
    "                existing_shm = shared_memory.SharedMemory(name=result_info['name'])\n",
    "                result = np.ndarray(result_info['shape'], dtype=result_info['dtype'], buffer=existing_shm.buf)\n",
    "                self.local_memo[args] = (result, existing_shm)\n",
    "                return result\n",
    "        result = self.fn(*args)\n",
    "        with self.lock:\n",
    "            if args not in self.results_dict:\n",
    "                result_shm = shared_memory.SharedMemory(create=True, size=result.nbytes)\n",
    "                shm_array = np.ndarray(result.shape, dtype=result.dtype, buffer=result_shm.buf)\n",
    "                shm_array[:] = result[:]\n",
    "              \n",
    "                self.results_dict[args] = {\n",
    "                    'name': result_shm.name,\n",
    "                    'shape': result.shape,\n",
    "                    'dtype': result.dtype.str\n",
    "                }\n",
    "                self.local_memo[args] = (result, result_shm)\n",
    "                # Track this shared memory segment for later cleanup\n",
    "                self.shared_memory_segments.append(result_shm)\n",
    "        return result\n",
    "    def cleanup_shared_memory(self):\n",
    "        \"\"\"Explicitly cleanup all tracked shared memory segments.\"\"\"\n",
    "        for shm in self.shared_memory_segments:\n",
    "            try:\n",
    "                shm.close()\n",
    "                shm.unlink()\n",
    "            except FileNotFoundError:\n",
    "                # The shared memory segment was already cleaned up\n",
    "                pass\n",
    "        # Clear the list after cleanup\n",
    "        self.shared_memory_segments.clear()\n",
    "    def __del__(self):\n",
    "        self.cleanup_shared_memory()"
   ]
  },
  {
   "cell_type": "code",
   "execution_count": null,
   "metadata": {},
   "outputs": [],
   "source": [
    "#| export\n",
    "class HDF2Sequence(Transform):\n",
    "    \n",
    "    def __init__(self, clm_names,clm_shift=None,truncate_sz=None,to_cls=noop,cached=True, fs_idx =None,dt_idx =None,fast_resample=True):\n",
    "        if not clm_shift is None:\n",
    "            assert len(clm_shift)==len(clm_names) and all(isinstance(n, int) for n in clm_shift)\n",
    "            self.l_shift,self.r_shift,_ = calc_shift_offsets(clm_shift)\n",
    "        \n",
    "        if not cached:\n",
    "            self._exseq = self._hdf_extract_sequence \n",
    "        elif cached == 'local':\n",
    "            self._exseq = Memoize(self._hdf_extract_sequence) \n",
    "        else :\n",
    "            self._exseq = Memoize(self._hdf_extract_sequence) \n",
    "            #self._exseq = MemoizeMP(self._hdf_extract_sequence)\n",
    "\n",
    "        self.cached = cached is not None\n",
    "        store_attr('clm_names,clm_shift,truncate_sz,to_cls,fs_idx,dt_idx,fast_resample')\n",
    "        \n",
    "    def _hdf_extract_sequence(self,hdf_path,dataset = None, l_slc = None, r_slc= None, resampling_factor=None, fs_idx =None,dt_idx =None,fast_resample=True):\n",
    "        '''\n",
    "        extracts a sequence with the shape [seq_len x num_features]\n",
    "\n",
    "        hdf_path: file path of hdf file, may be a string or path type\n",
    "        clms: list of dataset names of sequences in hdf file\n",
    "        dataset: dataset root for clms. Useful for multiples sequences stored in one file.\n",
    "        l_slc: left boundary for extraction of a window of the whole sequence\n",
    "        r_slc: right boundary for extraction of a window of the whole sequence\n",
    "        resampling_factor: scaling factor for the sequence length, uses 'resample_interp' for resampling\n",
    "        fs_idx: clms list idx of fs entry in sequence. Will be scaled by resampling_factor after resampling\n",
    "        dt_idx: clms list idx of dt entry in sequence. Will be scaled by resampling_factor after resampling\n",
    "        fast_resample: if True, uses linear interpolation with anti-aliasing filter for faster resampling. Is less accurate than fft based resampling\n",
    "        '''\n",
    "\n",
    "        if resampling_factor is not None:\n",
    "            seq_len = r_slc-l_slc if l_slc is not None and r_slc is not None else None #calculate seq_len for later slicing, necesary because of rounding errors in resampling\n",
    "            if l_slc is not None: l_slc= math.floor(l_slc/resampling_factor)\n",
    "            if r_slc is not None: r_slc= math.ceil(r_slc/resampling_factor)\n",
    "\n",
    "        with h5py.File(hdf_path,'r') as f:\n",
    "            ds = f if dataset is None else f[dataset]\n",
    "            l_array = [(ds[n][l_slc:r_slc]) for n in self.clm_names]\n",
    "            seq = np.stack(l_array,axis=-1)\n",
    "\n",
    "        if resampling_factor is not None:\n",
    "            if fast_resample:\n",
    "                res_seq = resample_interp(seq,resampling_factor)\n",
    "            else:\n",
    "                res_seq = resample(seq,int(seq.shape[0]*resampling_factor),window=('kaiser', 14.0))\n",
    "            \n",
    "            if fs_idx is not None: res_seq[:,fs_idx] = seq[0,fs_idx] * resampling_factor\n",
    "            if dt_idx is not None: res_seq[:,dt_idx] = seq[0,dt_idx] / resampling_factor\n",
    "            seq = res_seq\n",
    "\n",
    "            if seq_len is not None: seq = seq[:seq_len] #cut the part of the sequence that is too long because of resampling rounding errors\n",
    "\n",
    "        return seq\n",
    "    \n",
    "    def _extract_dict_sequence(self,item):\n",
    "        if hasattr(item,'keys'):\n",
    "            path = item['path']\n",
    "            dataset = item['dataset'] if 'dataset' in item else None\n",
    "            l_slc = item['l_slc'] if 'l_slc' in item else None\n",
    "            r_slc = item['r_slc'] if 'r_slc' in item else None\n",
    "            resampling_factor = item['resampling_factor'] if 'resampling_factor' in item else None\n",
    "\n",
    "            if self.cached:\n",
    "                seq = self._exseq(path,dataset,None,None,resampling_factor,self.fs_idx,self.dt_idx,self.fast_resample)[l_slc:r_slc]\n",
    "            else:\n",
    "                seq = self._exseq(path,dataset,l_slc,r_slc,resampling_factor,self.fs_idx,self.dt_idx,self.fast_resample)\n",
    "        else:\n",
    "            seq = self._exseq(str(item),None,None,None,None,None)\n",
    "\n",
    "        #shift clms of result by given value \n",
    "        if not self.clm_shift is None:\n",
    "            l_seq = seq.shape[0]\n",
    "            seq = np.stack([seq[self.l_shift[i]:l_seq+self.r_shift[i],i] for i in range(seq.shape[1])],axis=-1)\n",
    "            \n",
    "        if not self.truncate_sz is None:\n",
    "            seq = seq[truncate_sz:]\n",
    "        \n",
    "        #it is important to slice first and then do the class conversion\n",
    "#         return self.to_cls(seq.astype('f8'))#workaround for random bug, that mitigates convergence if the numpy array is an f4 array. Seems to make no sense because the result does not change. \n",
    "        return self.to_cls(seq)\n",
    "\n",
    "    def encodes(self, item)->None: \n",
    "        return self._extract_dict_sequence(item)"
   ]
  },
  {
   "cell_type": "code",
   "execution_count": null,
   "metadata": {},
   "outputs": [
    {
     "data": {
      "text/plain": [
       "array([[ 0.78419271, -0.07519186],\n",
       "       [ 1.14985174, -0.03296081],\n",
       "       [ 1.31053572,  0.01270365],\n",
       "       ...,\n",
       "       [-0.00583681, -0.00583681],\n",
       "       [-0.00583681, -0.00618015],\n",
       "       [-0.00583681, -0.00652349]])"
      ]
     },
     "execution_count": null,
     "metadata": {},
     "output_type": "execute_result"
    }
   ],
   "source": [
    "# %%timeit\n",
    "hdf2seq = HDF2Sequence(['u','y'],cached=False)\n",
    "hdf2seq(hdf_files[0])"
   ]
  },
  {
   "cell_type": "code",
   "execution_count": null,
   "metadata": {},
   "outputs": [
    {
     "data": {
      "text/plain": [
       "array([[ 1.14985174, -0.03296081],\n",
       "       [ 1.31053572,  0.01270365],\n",
       "       [ 1.0427291 ,  0.06111484],\n",
       "       ...,\n",
       "       [-0.00583681, -0.00583681],\n",
       "       [-0.00583681, -0.00618015],\n",
       "       [-0.00583681, -0.00652349]])"
      ]
     },
     "execution_count": null,
     "metadata": {},
     "output_type": "execute_result"
    }
   ],
   "source": [
    "hdf2seq = HDF2Sequence(['u','y'],clm_shift=[1,1])\n",
    "hdf2seq(hdf_files[0])"
   ]
  },
  {
   "cell_type": "code",
   "execution_count": null,
   "metadata": {},
   "outputs": [
    {
     "name": "stdout",
     "output_type": "stream",
     "text": [
      "[[ 0.78419271 -0.07519186]\n",
      " [ 1.14985174 -0.03296081]\n",
      " [ 1.31053572  0.01270365]\n",
      " ...\n",
      " [-0.00583681 -0.00583681]\n",
      " [-0.00583681 -0.00618015]\n",
      " [-0.00583681 -0.00652349]]\n"
     ]
    }
   ],
   "source": [
    "hdf2seq = HDF2Sequence(['u','y'],cached='shared')\n",
    "print(hdf2seq(hdf_files[0]))"
   ]
  },
  {
   "cell_type": "code",
   "execution_count": null,
   "metadata": {},
   "outputs": [
    {
     "data": {
      "text/plain": [
       "array([[ 0.78419271, -0.07519186],\n",
       "       [ 1.14985174, -0.03296081],\n",
       "       [ 1.31053572,  0.01270365],\n",
       "       ...,\n",
       "       [-0.00583681, -0.00583681],\n",
       "       [-0.00583681, -0.00618015],\n",
       "       [-0.00583681, -0.00652349]])"
      ]
     },
     "execution_count": null,
     "metadata": {},
     "output_type": "execute_result"
    }
   ],
   "source": [
    "# %%timeit\n",
    "hdf2seq(hdf_files[0])"
   ]
  },
  {
   "cell_type": "code",
   "execution_count": null,
   "metadata": {},
   "outputs": [],
   "source": [
    "hdf2seq = HDF2Sequence(['u','y'],cached=True)"
   ]
  },
  {
   "cell_type": "code",
   "execution_count": null,
   "metadata": {},
   "outputs": [
    {
     "data": {
      "text/plain": [
       "array([[ 0.78419271, -0.07519186],\n",
       "       [ 1.14985174, -0.03296081],\n",
       "       [ 1.31053572,  0.01270365],\n",
       "       ...,\n",
       "       [-0.00583681, -0.00583681],\n",
       "       [-0.00583681, -0.00618015],\n",
       "       [-0.00583681, -0.00652349]])"
      ]
     },
     "execution_count": null,
     "metadata": {},
     "output_type": "execute_result"
    }
   ],
   "source": [
    "# %%timeit\n",
    "hdf2seq(hdf_files[0])"
   ]
  },
  {
   "cell_type": "markdown",
   "metadata": {},
   "source": [
    "Die Funktion lässt sich mittels Pipeline auf eine Liste von Quellobjekten (hier Pfade) anwenden "
   ]
  },
  {
   "cell_type": "code",
   "execution_count": null,
   "metadata": {},
   "outputs": [
    {
     "data": {
      "text/plain": [
       "(88000, 1)"
      ]
     },
     "execution_count": null,
     "metadata": {},
     "output_type": "execute_result"
    }
   ],
   "source": [
    "hdf2seq = HDF2Sequence(['u'])\n",
    "hdf2seq(hdf_files[0]).shape"
   ]
  },
  {
   "cell_type": "code",
   "execution_count": null,
   "metadata": {},
   "outputs": [],
   "source": [
    "pipe = Pipeline(HDF2Sequence(['u','y']))"
   ]
  },
  {
   "cell_type": "code",
   "execution_count": null,
   "metadata": {},
   "outputs": [],
   "source": [
    "# res_pipe = pipe(hdf_files)\n",
    "# len(res_pipe), res_pipe[0][0]"
   ]
  },
  {
   "cell_type": "code",
   "execution_count": null,
   "metadata": {},
   "outputs": [],
   "source": []
  },
  {
   "cell_type": "markdown",
   "metadata": {},
   "source": [
    "#### Performance Test\n",
    "Caching stores the arrays for future use at every function call. Very usefull, especially for windows. Should allways be turned. Only explicitly turn it off when there is not enough memory for your data."
   ]
  },
  {
   "cell_type": "code",
   "execution_count": null,
   "metadata": {},
   "outputs": [],
   "source": [
    "tfms=[  [HDF2Sequence(['u','y'],cached=None)],\n",
    "        [HDF2Sequence(['y'],cached=None)]]\n",
    "dsrc = Datasets(src_dicts[:1000],tfms=tfms)"
   ]
  },
  {
   "cell_type": "code",
   "execution_count": null,
   "metadata": {},
   "outputs": [
    {
     "data": {
      "text/plain": [
       "1000"
      ]
     },
     "execution_count": null,
     "metadata": {},
     "output_type": "execute_result"
    }
   ],
   "source": [
    "len(dsrc)"
   ]
  },
  {
   "cell_type": "code",
   "execution_count": null,
   "metadata": {},
   "outputs": [],
   "source": [
    "# %%time\n",
    "# for x in dsrc:\n",
    "#     x"
   ]
  },
  {
   "cell_type": "code",
   "execution_count": null,
   "metadata": {},
   "outputs": [],
   "source": [
    "tfms=[  [HDF2Sequence(['u','y'],cached=True,clm_shift=[1,2])],\n",
    "        [HDF2Sequence(['y'],cached=True)]]\n",
    "dsrc = Datasets(src_dicts[:1000],tfms=tfms)"
   ]
  },
  {
   "cell_type": "code",
   "execution_count": null,
   "metadata": {},
   "outputs": [],
   "source": [
    "# # %%timeit\n",
    "# for x in dsrc:\n",
    "#     x"
   ]
  },
  {
   "cell_type": "markdown",
   "metadata": {},
   "source": [
    "Caching is way faster because every file gets loaded multiple times"
   ]
  },
  {
   "cell_type": "markdown",
   "metadata": {},
   "source": [
    "### Extract Scalar data from hdf5-files"
   ]
  },
  {
   "cell_type": "code",
   "execution_count": null,
   "metadata": {},
   "outputs": [],
   "source": [
    "#| export\n",
    "def hdf2scalars(hdf_path,c_names,dataset = None):\n",
    "    with h5py.File(hdf_path,'r') as f:\n",
    "        ds = f if dataset is None else f[dataset]\n",
    "        l_array = [ds.attrs[n] for n in c_names]\n",
    "        scalars = np.stack(l_array,axis=-1)\n",
    "#         import pdb; pdb.set_trace()\n",
    "#         l_array = [f[n][:][:,None] for n in c_names]\n",
    "#         seq = np.concatenate(l_array,axis=1)\n",
    "        return scalars"
   ]
  },
  {
   "cell_type": "code",
   "execution_count": null,
   "metadata": {},
   "outputs": [],
   "source": [
    "# hdf2scalars('/mnt/data/sicwell/hdf5/Cycles/ch3/cycle00568.hdf5',['soc','temperature1'],dataset='measurement_00000')"
   ]
  },
  {
   "cell_type": "code",
   "execution_count": null,
   "metadata": {},
   "outputs": [],
   "source": [
    "#| export\n",
    "class HDF2Scalars(Transform):\n",
    "    \n",
    "    def __init__(self, clm_names,to_cls=noop):\n",
    "        store_attr('clm_names,to_cls')\n",
    "    \n",
    "    def _extract_dict_scalars(self,item):\n",
    "        if isinstance(item,dict):\n",
    "            path = item['path']\n",
    "            dataset = item['dataset'] if 'dataset' in item else None\n",
    "\n",
    "            seq = hdf2scalars(path,self.clm_names,dataset)\n",
    "        else:\n",
    "            seq = hdf2scalars(str(item),self.clm_names)\n",
    "        return self.to_cls(seq)\n",
    "\n",
    "    def encodes(self, item)->None: \n",
    "        return self._extract_dict_scalars(item)"
   ]
  },
  {
   "cell_type": "code",
   "execution_count": null,
   "metadata": {},
   "outputs": [],
   "source": [
    "# HDF2Scalars(['soc','temperature1'])({'path':'/mnt/data/sicwell/hdf5/Cycles/ch3/cycle00568.hdf5','dataset':'measurement_00000'})"
   ]
  },
  {
   "cell_type": "markdown",
   "metadata": {},
   "source": [
    "### Extract Scalar from sequence"
   ]
  },
  {
   "cell_type": "code",
   "execution_count": null,
   "metadata": {},
   "outputs": [],
   "source": [
    "#| export\n",
    "class ScalarSequenceElement(Transform):\n",
    "    \n",
    "    def __init__(self, idx,to_cls=noop):\n",
    "        store_attr('idx,to_cls')\n",
    "\n",
    "    def encodes(self, item)->None: \n",
    "        return self.to_cls(item[self.idx])"
   ]
  },
  {
   "cell_type": "code",
   "execution_count": null,
   "metadata": {},
   "outputs": [
    {
     "data": {
      "text/plain": [
       "array([-0.00583681])"
      ]
     },
     "execution_count": null,
     "metadata": {},
     "output_type": "execute_result"
    }
   ],
   "source": [
    "ScalarSequenceElement(-1)(hdf2seq(hdf_files[0]))"
   ]
  },
  {
   "cell_type": "markdown",
   "metadata": {},
   "source": [
    "### 2.1 Datatypes for Sequences and Scalars"
   ]
  },
  {
   "cell_type": "code",
   "execution_count": null,
   "metadata": {},
   "outputs": [],
   "source": [
    "#| export\n",
    "class TensorSequences(TensorBase):#TensorBase\n",
    "#     def __init__(self,x,c_names=None, **kwargs):\n",
    "#         super().__init__()\n",
    "#         self.c_names = c_names\n",
    "    \n",
    "    def show(self, ctx=None, **kwargs):\n",
    "#         import pdb; pdb.set_trace()\n",
    "        ax = ctx\n",
    "        if ax is None: _,ax = plt.subplots()\n",
    "        ax.plot(self)\n",
    "#         if title is not None: ax.set_title(title)\n",
    "        return ax\n",
    "\n",
    "    @classmethod\n",
    "    @delegates(HDF2Sequence, keep=True)\n",
    "    def from_hdf(cls,clm_names,**kwargs):\n",
    "        return HDF2Sequence(clm_names,**kwargs)\n",
    "    \n",
    "class TensorSequencesInput(TensorSequences): pass\n",
    "class TensorSequencesOutput(TensorSequences): pass"
   ]
  },
  {
   "cell_type": "code",
   "execution_count": null,
   "metadata": {},
   "outputs": [
    {
     "data": {
      "text/plain": [
       "numpy.ndarray"
      ]
     },
     "execution_count": null,
     "metadata": {},
     "output_type": "execute_result"
    }
   ],
   "source": [
    "f = TensorSequencesInput.from_hdf(['u'])\n",
    "type(f(hdf_files[0]))"
   ]
  },
  {
   "cell_type": "code",
   "execution_count": null,
   "metadata": {},
   "outputs": [],
   "source": [
    "# TensorSequences(np.ones((30,2))).show()"
   ]
  },
  {
   "cell_type": "code",
   "execution_count": null,
   "metadata": {},
   "outputs": [],
   "source": [
    "#| export\n",
    "@Transform\n",
    "def toTensorSequencesInput(o): return TensorSequencesInput(o)\n",
    "@Transform\n",
    "def toTensorSequencesOutput(o): return TensorSequencesOutput(o)"
   ]
  },
  {
   "cell_type": "code",
   "execution_count": null,
   "metadata": {},
   "outputs": [],
   "source": [
    "#| export\n",
    "class TensorScalars(TensorBase):\n",
    "    @classmethod\n",
    "    @delegates(HDF2Scalars, keep=True)\n",
    "    def from_hdf(cls,clm_names,**kwargs):\n",
    "        return HDF2Scalars(clm_names,**kwargs)\n",
    "    \n",
    "    \n",
    "class TensorScalarsInput(TensorScalars): pass\n",
    "class TensorScalarsOutput(TensorScalars): pass\n"
   ]
  },
  {
   "cell_type": "markdown",
   "metadata": {},
   "source": [
    "The tensor subclassing mechanism since pytorch 1.7 keeps the tensor type in tensor operations. Operations with different branches of subclasses of tensors require a implementation of '__torch_function__'.\n",
    "Fastai implements 'TensorBase.register_func' to mark methods that behave for the given types like the default torch operation.\n",
    "\n",
    "https://pytorch.org/docs/stable/notes/extending.html#extending-torch\n"
   ]
  },
  {
   "cell_type": "code",
   "execution_count": null,
   "metadata": {},
   "outputs": [],
   "source": [
    "#| export\n",
    "for f in torch.nn.functional.mse_loss,torch.nn.functional.huber_loss, Tensor.__getitem__, Tensor.__ne__,Tensor.__eq__,Tensor.add,Tensor.sub,Tensor.mul,Tensor.div,Tensor.__rsub__,Tensor.__radd__,Tensor.matmul,Tensor.bmm:\n",
    "    TensorBase.register_func(f,TensorSequences)\n",
    "    TensorBase.register_func(f,TensorScalars)"
   ]
  },
  {
   "cell_type": "code",
   "execution_count": null,
   "metadata": {},
   "outputs": [
    {
     "data": {
      "text/plain": [
       "TensorSequencesInput(0.2014)"
      ]
     },
     "execution_count": null,
     "metadata": {},
     "output_type": "execute_result"
    }
   ],
   "source": [
    "x1 = TensorSequencesInput(torch.rand((10,10)))\n",
    "x2 = TensorSequencesOutput(torch.rand((10,10)))\n",
    "torch.nn.functional.mse_loss(x1,x2)"
   ]
  },
  {
   "cell_type": "markdown",
   "metadata": {},
   "source": [
    "### 5.1 Low-Level with Transforms"
   ]
  },
  {
   "cell_type": "code",
   "execution_count": null,
   "metadata": {},
   "outputs": [],
   "source": [
    "tfms=[  [HDF2Sequence(['u']),toTensorSequencesInput],\n",
    "        [HDF2Sequence(['y']),toTensorSequencesOutput]]\n",
    "ds = Datasets(get_hdf_files(f_path),tfms=tfms)"
   ]
  },
  {
   "cell_type": "code",
   "execution_count": null,
   "metadata": {},
   "outputs": [
    {
     "data": {
      "text/plain": [
       "torch.Size([1, 88000, 1])"
      ]
     },
     "execution_count": null,
     "metadata": {},
     "output_type": "execute_result"
    }
   ],
   "source": [
    "dls = ds.dataloaders(bs=1)\n",
    "dls.one_batch()[0].shape"
   ]
  },
  {
   "cell_type": "markdown",
   "metadata": {},
   "source": [
    "## 6. Show Batches and Results"
   ]
  },
  {
   "cell_type": "code",
   "execution_count": null,
   "metadata": {},
   "outputs": [],
   "source": [
    "#| export\n",
    "def plot_sequence(axs,in_sig,targ_sig,out_sig=None,**kwargs):\n",
    "    n_targ = targ_sig.shape[1]\n",
    "    for j,ax in  enumerate(axs[:-1]):\n",
    "        ax.plot(targ_sig[:,j])\n",
    "        if out_sig is not None: \n",
    "            ax.plot(out_sig[:,j])\n",
    "            ax.legend(['y','ŷ'])\n",
    "            if 'ref' in kwargs:\n",
    "                ax.plot(kwargs['ref'][:,j]) \n",
    "        ax.label_outer()\n",
    "    axs[-1].plot(in_sig)"
   ]
  },
  {
   "cell_type": "code",
   "execution_count": null,
   "metadata": {},
   "outputs": [],
   "source": [
    "#| export\n",
    "def plot_seqs_single_figure(n_samples,n_targ,samples,plot_func,outs=None,**kwargs):\n",
    "    rows=max(1,((n_samples-1) // 3)+1)\n",
    "    cols=min(3,n_samples)\n",
    "    fig = plt.figure(figsize=(9,2*cols))\n",
    "    outer_grid = fig.add_gridspec(rows, cols)\n",
    "#     import pdb; pdb.set_trace()\n",
    "    for i in range(n_samples):\n",
    "        in_sig = samples[i][0]\n",
    "        targ_sig = samples[i][1]\n",
    "        if outs is not None: out_sig = outs[i][0]\n",
    "        inner_grid = outer_grid[i].subgridspec(n_targ+1, 1)\n",
    "        axs = [fig.add_subplot(inner_grid[j]) for j in range(n_targ+1)]\n",
    "        plot_func(axs,in_sig,targ_sig,out_sig=out_sig if outs is not None else None,**kwargs)\n",
    "    plt.tight_layout()"
   ]
  },
  {
   "cell_type": "code",
   "execution_count": null,
   "metadata": {},
   "outputs": [],
   "source": [
    "#| export\n",
    "def plot_seqs_multi_figures(n_samples,n_targ,samples,plot_func,outs=None,**kwargs):\n",
    "    for i in range(n_samples):\n",
    "        fig = plt.figure(figsize=(9,3))\n",
    "        axs = fig.subplots(nrows=n_targ+1,sharex=True)\n",
    "        in_sig = samples[i][0]\n",
    "        targ_sig = samples[i][1]\n",
    "        if outs is not None:  out_sig = outs[i][0]\n",
    "            \n",
    "        plot_func(axs,in_sig,targ_sig,out_sig=out_sig if outs is not None else None,**kwargs)\n",
    "        \n",
    "        plt.tight_layout()"
   ]
  },
  {
   "cell_type": "code",
   "execution_count": null,
   "metadata": {},
   "outputs": [],
   "source": [
    "#| export\n",
    "@typedispatch\n",
    "def show_batch(x:TensorSequences, y:TensorSequences, samples, ctxs=None, max_n=6, **kwargs):\n",
    "    n_samples = min(len(samples), max_n)\n",
    "    n_targ = samples[0][1].shape[1]\n",
    "    if n_samples > 3:\n",
    "        #if there are more then 3 samples to plot then put them in a single figure\n",
    "        plot_seqs_single_figure(n_samples,n_targ,samples,plot_sequence, **kwargs)\n",
    "    else:\n",
    "        #if there are less then 3 samples to plot then put each in its own figure\n",
    "        plot_seqs_multi_figures(n_samples,n_targ,samples,plot_sequence, **kwargs)\n",
    "    return ctxs"
   ]
  },
  {
   "cell_type": "code",
   "execution_count": null,
   "metadata": {},
   "outputs": [],
   "source": [
    "#| export\n",
    "@typedispatch\n",
    "def show_results(x:TensorSequences, y:TensorSequences, samples, outs, ctxs=None, max_n=2, **kwargs):\n",
    "    n_samples = min(len(samples), max_n)\n",
    "    n_targ = samples[0][1].shape[1]\n",
    "    if n_samples > 3:\n",
    "        #if there are more then 3 samples to plot then put them in a single figure\n",
    "        plot_seqs_single_figure(n_samples,n_targ,samples,plot_sequence,outs, **kwargs)\n",
    "    else:\n",
    "        #if there are less then 3 samples to plot then put each in its own figure\n",
    "        plot_seqs_multi_figures(n_samples,n_targ,samples,plot_sequence,outs, **kwargs)\n",
    "    return ctxs"
   ]
  },
  {
   "cell_type": "code",
   "execution_count": null,
   "metadata": {},
   "outputs": [
    {
     "data": {
      "application/vnd.jupyter.widget-view+json": {
       "model_id": "ee9cd59bd4e5414e9551e11f318f6baa",
       "version_major": 2,
       "version_minor": 0
      },
      "image/png": "[encoded data removed]",
      "text/html": [
       "\n",
       "            <div style=\"display: inline-block;\">\n",
       "                <div class=\"jupyter-widgets widget-label\" style=\"text-align: center;\">\n",
       "                    Figure\n",
       "                </div>\n",
       "                <img src='data:image/png;base64,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' width=900.0/>\n",
       "            </div>\n",
       "        "
      ],
      "text/plain": [
       "Canvas(toolbar=Toolbar(toolitems=[('Home', 'Reset original view', 'home', 'home'), ('Back', 'Back to previous …"
      ]
     },
     "metadata": {},
     "output_type": "display_data"
    }
   ],
   "source": [
    "dls.show_batch()"
   ]
  },
  {
   "cell_type": "code",
   "execution_count": null,
   "metadata": {},
   "outputs": [],
   "source": [
    "#| include: false\n",
    "import nbdev; nbdev.nbdev_export()"
   ]
  },
  {
   "cell_type": "code",
   "execution_count": null,
   "metadata": {},
   "outputs": [],
   "source": []
  }
 ],
 "metadata": {
  "kernelspec": {
   "display_name": "python3",
   "language": "python",
   "name": "python3"
  }
 },
 "nbformat": 4,
 "nbformat_minor": 4
}
